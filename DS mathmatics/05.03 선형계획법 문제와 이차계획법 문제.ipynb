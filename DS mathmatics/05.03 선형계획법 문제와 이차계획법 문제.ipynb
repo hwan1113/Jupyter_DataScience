{
 "cells": [
  {
   "cell_type": "markdown",
   "metadata": {
    "school_cell_uuid": "86cc40d6d25e472cb7d8aa8d7b8ec29c"
   },
   "source": [
    "## 5.3 선형계획법 문제와 이차계획법 문제"
   ]
  },
  {
   "cell_type": "markdown",
   "metadata": {
    "school_cell_uuid": "e7504a3fcd6447d68c6709cf892a1c6b"
   },
   "source": [
    "5.1절과 5.2절에서는 일반적인 최적화 문제를 다루었다. 하지만 데이터 분석에서는 목적함수나 제한조건이 특정한 수식의 최적화 문제가 많이 등장한다. 이 절에서는 그 중 선형 계획법과 이차계획법을 소개한다. "
   ]
  },
  {
   "cell_type": "markdown",
   "metadata": {
    "school_cell_uuid": "c8a9568fe8624adabcc1434e453e81d6"
   },
   "source": [
    "### 선형계획법 문제"
   ]
  },
  {
   "cell_type": "markdown",
   "metadata": {
    "school_cell_uuid": "432440b802e94bceb78d279677616e0b"
   },
   "source": [
    "방정식이나 부등식 제한 조건을 가지는 선형 모형(linear model)의 값을 최소화하는 문제를 **선형계획법(Linear Programming)** 문제라고 한다. LP 문제라고도 한다.\n",
    "\n",
    "선형계획법 문제의 목적함수는 \n",
    "\n",
    "$$\n",
    "\\begin{align}\n",
    "\\arg\\min_x c^Tx \n",
    "\\tag{5.3.1}\n",
    "\\end{align}\n",
    "$$\n",
    "\n",
    "이고 선형 연립방정식으로 된 등식 제한조건\n",
    "\n",
    "$$\n",
    "\\begin{align}\n",
    "Ax = b \n",
    "\\tag{5.3.2}\n",
    "\\end{align}\n",
    "$$\n",
    "\n",
    "과 변수값이 모두 음수가 아니어야하는 부등식 제한조건\n",
    "\n",
    "$$\n",
    "\\begin{align}\n",
    "x \\geq 0\n",
    "\\tag{5.3.3}\n",
    "\\end{align}\n",
    "$$\n",
    "\n",
    "를 동시에 가진다.\n",
    "\n",
    "선형계획법 문제는 여러가지 형태가 존재하는데 위와 같은 형태를 선형계획법 문제의 기본형(standard form)이라고 한다. 마지막 부등식 제한 조건은 벡터 $x$의 모든 원소가 양수거나 0이 되어야 한다는 것을 의미한다. 표준형을 확장한 정규형(canonical form) 선형계획법 문제는 부등식 조건을 허용한다.\n",
    "\n",
    "$$\n",
    "\\begin{align}\n",
    "\\arg\\min_x c^Tx \n",
    "\\tag{5.3.1}\n",
    "\\end{align}\n",
    "$$\n",
    "\n",
    "$$\n",
    "\\begin{align}\n",
    "Ax \\leq b \n",
    "\\tag{5.3.5}\n",
    "\\end{align}\n",
    "$$\n",
    "\n",
    "$$\n",
    "\\begin{align}\n",
    "x \\geq 0\n",
    "\\tag{5.3.3}\n",
    "\\end{align}\n",
    "$$\n"
   ]
  },
  {
   "cell_type": "markdown",
   "metadata": {
    "school_cell_uuid": "41cb0fc1b29f40f7939265dcfa0ca887"
   },
   "source": [
    "#### 예제"
   ]
  },
  {
   "cell_type": "markdown",
   "metadata": {
    "school_cell_uuid": "58074540c8ce4182a5a300df971a8d58"
   },
   "source": [
    "어떤 공장에서 두가지 제품을 생산해야 한다고 하자. \n",
    "\n",
    "* 제품 A와 제품 B 각각 100개 이상 생산해야 한다.\n",
    "* 시간은 500시간 밖에 없다.\n",
    "* 제품 A는 생산하는데 1시간이 걸리고 제품 B는 2시간이 걸린다.\n",
    "* 특정 부품이 9800개밖에 없다.\n",
    "* 제품 A는 생산하는데 특정 부품을 4개 필요로 하고 제품 B는 생산하는데 특정 부품을 5개 필요로 한다. \n",
    "* 제품 A의 이익은 하나당 3만원이고 제품 B의 이익은 하나당 5만원이다.\n",
    "\n",
    "\n",
    "제품 A와 제품 B의 생산량을 각각 $x_1, x_2$라고 하면 최소화하려는 목적함수는\n",
    "\n",
    "$$ \n",
    "\\begin{align}\n",
    "-3x_1 -5x_2 \n",
    "\\tag{5.3.7}\n",
    "\\end{align}\n",
    "$$\n",
    "\n",
    "이고 제한 조건은 다음과 같다.\n",
    "\n",
    "$$ \n",
    "\\begin{align}\n",
    "\\begin{aligned}\n",
    "-x_1 & & &\\leq& -100 \\\\\n",
    " & & -x_2 &\\leq& -100 \\\\\n",
    "x_1 &+& 2 x_2 &\\leq& 500 \\\\\n",
    "4x_1 &+& 5 x_2 &\\leq& 9800 \\\\\n",
    "\\end{aligned}\n",
    "\\tag{5.3.8}\n",
    "\\end{align}\n",
    "$$\n",
    "\n",
    "$$ \n",
    "\\begin{align}\n",
    "x_1 \\geq 0, \\;\\; x_2 \\geq 0 \n",
    "\\tag{5.3.9}\n",
    "\\end{align}\n",
    "$$\n",
    "\n",
    "이를 정규형 선형계획법 문제로 표현하면 다음과 같다.\n",
    "\n",
    "$$\n",
    "\\begin{align}\n",
    "\\min_x \n",
    "\\begin{bmatrix} -3 & -5 \\end{bmatrix}\n",
    "\\begin{bmatrix}\n",
    "x_1 \\\\ x_2 \n",
    "\\end{bmatrix}\n",
    "\\tag{5.3.10}\n",
    "\\end{align}\n",
    "$$\n",
    "\n",
    "$$\n",
    "\\begin{align}\n",
    "\\begin{bmatrix}\n",
    "-1 & 0 \\\\\n",
    "0 & -1 \\\\\n",
    "1 & 2 \\\\\n",
    "4 & 5 \\\\\n",
    "\\end{bmatrix}\n",
    "\\begin{bmatrix}\n",
    "x_1 \\\\ x_2 \n",
    "\\end{bmatrix} \\leq\n",
    "\\begin{bmatrix}\n",
    "-100 \\\\ -100 \\\\ 500 \\\\ 9800\n",
    "\\end{bmatrix}\n",
    "\\tag{5.3.11}\n",
    "\\end{align}\n",
    "$$\n",
    "\n",
    "$$\n",
    "\\begin{align}\n",
    "\\begin{bmatrix}\n",
    "x_1 \\\\ x_2\n",
    "\\end{bmatrix}\\geq\n",
    "\\begin{bmatrix}\n",
    "0 \\\\ 0\n",
    "\\end{bmatrix}\n",
    "\\tag{5.3.12}\n",
    "\\end{align}\n",
    "$$"
   ]
  },
  {
   "cell_type": "markdown",
   "metadata": {
    "school_cell_uuid": "9a7a38e727034d3ab91089adc5500b7e"
   },
   "source": [
    "### 사이파이를 이용한 선형계획법 문제 계산"
   ]
  },
  {
   "cell_type": "markdown",
   "metadata": {
    "school_cell_uuid": "7da16fe626a448dfa82fffca66c92904"
   },
   "source": [
    "scipy.optimize 패키지의 `linprog()` 명령을 사용하면 선형계획법 문제를 풀 수 있다. 사용법은 다음과 같다.\n",
    "\n",
    "```\n",
    "linprog(c, A, b)\n",
    "```\n",
    "\n",
    "* `c`: 목적함수의 계수 벡터\n",
    "* `A`: 등식 제한조건의 계수 행렬\n",
    "* `b`: 등식 제한조건의 상수 벡터\n"
   ]
  },
  {
   "cell_type": "markdown",
   "metadata": {
    "school_cell_uuid": "15b9a88fa1944233aabb4878453fe7c3"
   },
   "source": [
    "#### 예제"
   ]
  },
  {
   "cell_type": "markdown",
   "metadata": {
    "school_cell_uuid": "494a634e651d44c0aeac098a8b1ff561"
   },
   "source": [
    "다음 코드는 위 예제 선형계획법 문제를 사이파이로 계산하는 코드다."
   ]
  },
  {
   "cell_type": "code",
   "execution_count": 3,
   "metadata": {
    "school_cell_uuid": "6c558053b6784cf891a4760d64a8e531"
   },
   "outputs": [
    {
     "data": {
      "text/plain": [
       "     con: array([], dtype=float64)\n",
       "     fun: -1399.999994807384\n",
       " message: 'Optimization terminated successfully.'\n",
       "     nit: 6\n",
       "   slack: array([1.99999991e+02, 4.19920389e-06, 3.31137414e-07, 8.10000001e+03])\n",
       "  status: 0\n",
       " success: True\n",
       "       x: array([299.99999127, 100.0000042 ])"
      ]
     },
     "execution_count": 3,
     "metadata": {},
     "output_type": "execute_result"
    }
   ],
   "source": [
    "import scipy.optimize\n",
    "import numpy as np;\n",
    "import scipy as sp\n",
    "\n",
    "A = np.array([[-1, 0], [0, -1], [1, 2], [4, 5]])\n",
    "b = np.array([-100, -100, 500, 9800])\n",
    "c = np.array([-3, -5])\n",
    "\n",
    "result = sp.optimize.linprog(c, A, b)\n",
    "result"
   ]
  },
  {
   "cell_type": "markdown",
   "metadata": {
    "school_cell_uuid": "b9eaad09861b49599280383adc5d4386"
   },
   "source": [
    "제품 A를 300개, 제품 B를 100개 생산할 때 이익이 1400으로 최대가 됨을 알 수 있다."
   ]
  },
  {
   "cell_type": "markdown",
   "metadata": {
    "school_cell_uuid": "044d576803374f0c90b3c109fba61af9"
   },
   "source": [
    "### CVXPY를 이용한 선형계획법 문제 계산"
   ]
  },
  {
   "cell_type": "markdown",
   "metadata": {
    "school_cell_uuid": "bcaf5199b3284431b3021c81c685d207"
   },
   "source": [
    "CVXPY 또는 PuLP와 같은 파이썬 패키지를 사용하면 선형계획법 문제의 계수 행렬 $A$, $b$, $c$를 직접 숫자로 정의하지 않고 심볼로 정의하여 더 직관적인 파이썬 코드를 만들 수 있다. 다음 코드는 위에서 풀었던 예제를 CVXPY로 다시 계산한 것이다. 다만 이 방법은 변수나 조건의 수가 아주 많을 경우에는 심볼릭 연산으로 인해 속도가 느려질 수 있다.\n",
    "\n",
    "CVXPY는 conda 패키지 매니저로 설치할 수 있다.\n",
    "\n",
    "```\n",
    "conda install cvxpy\n",
    "```"
   ]
  },
  {
   "cell_type": "code",
   "execution_count": 5,
   "metadata": {
    "school_cell_uuid": "ec0d22d4947b4a1797516f31f45477da"
   },
   "outputs": [
    {
     "ename": "ModuleNotFoundError",
     "evalue": "No module named 'cvxpy'",
     "output_type": "error",
     "traceback": [
      "\u001b[1;31m---------------------------------------------------------------------------\u001b[0m",
      "\u001b[1;31mModuleNotFoundError\u001b[0m                       Traceback (most recent call last)",
      "\u001b[1;32m<ipython-input-5-f0c9baeacf8a>\u001b[0m in \u001b[0;36m<module>\u001b[1;34m\u001b[0m\n\u001b[1;32m----> 1\u001b[1;33m \u001b[1;32mimport\u001b[0m \u001b[0mcvxpy\u001b[0m \u001b[1;32mas\u001b[0m \u001b[0mcp\u001b[0m\u001b[1;33m\u001b[0m\u001b[1;33m\u001b[0m\u001b[0m\n\u001b[0m\u001b[0;32m      2\u001b[0m \u001b[1;33m\u001b[0m\u001b[0m\n\u001b[0;32m      3\u001b[0m \u001b[1;31m# 변수의 정의\u001b[0m\u001b[1;33m\u001b[0m\u001b[1;33m\u001b[0m\u001b[1;33m\u001b[0m\u001b[0m\n\u001b[0;32m      4\u001b[0m \u001b[0ma\u001b[0m \u001b[1;33m=\u001b[0m \u001b[0mcp\u001b[0m\u001b[1;33m.\u001b[0m\u001b[0mVariable\u001b[0m\u001b[1;33m(\u001b[0m\u001b[1;33m)\u001b[0m  \u001b[1;31m# A의 생산량\u001b[0m\u001b[1;33m\u001b[0m\u001b[1;33m\u001b[0m\u001b[0m\n\u001b[0;32m      5\u001b[0m \u001b[0mb\u001b[0m \u001b[1;33m=\u001b[0m \u001b[0mcp\u001b[0m\u001b[1;33m.\u001b[0m\u001b[0mVariable\u001b[0m\u001b[1;33m(\u001b[0m\u001b[1;33m)\u001b[0m  \u001b[1;31m# B의 생산량\u001b[0m\u001b[1;33m\u001b[0m\u001b[1;33m\u001b[0m\u001b[0m\n",
      "\u001b[1;31mModuleNotFoundError\u001b[0m: No module named 'cvxpy'"
     ]
    }
   ],
   "source": [
    "import cvxpy as cp\n",
    "\n",
    "# 변수의 정의\n",
    "a = cp.Variable()  # A의 생산량\n",
    "b = cp.Variable()  # B의 생산량\n",
    "\n",
    "# 조건의 정의\n",
    "constraints = [\n",
    "    a >= 100,  # A를 100개 이상 생산해야 한다.\n",
    "    b >= 100,  # B를 100개 이상 생산해야 한다. \n",
    "    a + 2 * b <= 500, # 500시간 내에 생산해야 한다.\n",
    "    4 * a + 5 * b <= 9800,  # 부품이 9800개 밖에 없다.\n",
    "]\n",
    "\n",
    "# 문제의 정의\n",
    "obj = cp.Maximize(3 * a + 5 * b)\n",
    "prob = cp.Problem(obj, constraints)\n",
    "\n",
    "# 계산\n",
    "prob.solve() \n",
    "\n",
    "# 결과\n",
    "print(\"상태:\", prob.status)\n",
    "print(\"최적값:\", a.value, b.value)"
   ]
  },
  {
   "cell_type": "markdown",
   "metadata": {
    "school_cell_uuid": "4ca784c4be6e43668e6be3b8185d20e0"
   },
   "source": [
    "### 이차계획법 문제"
   ]
  },
  {
   "cell_type": "markdown",
   "metadata": {
    "school_cell_uuid": "a54a9fe92a4d4e13ba638b376360d178"
   },
   "source": [
    "방정식이나 부등식 제한 조건을 가지는 일반화된 이차형식(quadratic form)의 값을 최소화하는 문제를 **이차계획법(Quadratic Programming)** 문제라고 한다. QP 문제라고도 한다.\n",
    "\n",
    "이차계획법 문제의 목적함수는 \n",
    "\n",
    "$$\n",
    "\\begin{align}\n",
    "\\dfrac{1}{2}x^TQx + c^Tx\n",
    "\\tag{5.3.13}\n",
    "\\end{align}\n",
    "$$\n",
    "\n",
    "이고 등식 제한조건과 부호 제한조건은 선형계획법 문제와 같다.\n",
    "\n",
    "$$\n",
    "\\begin{align}\n",
    "Ax = b \n",
    "\\tag{5.3.14}\n",
    "\\end{align}\n",
    "$$\n",
    "\n",
    "$$\n",
    "\\begin{align}\n",
    "x \\geq 0\n",
    "\\tag{5.3.15}\n",
    "\\end{align}\n",
    "$$\n",
    "\n",
    "잔차 제곱합을 최소화하는 예측 모형에 추가적인 제한조건이 있으면 이차계획법 문제가 된다."
   ]
  },
  {
   "cell_type": "markdown",
   "metadata": {
    "school_cell_uuid": "2925967134874f2f9474ede9ae935f3a"
   },
   "source": [
    "#### 예제"
   ]
  },
  {
   "cell_type": "markdown",
   "metadata": {
    "school_cell_uuid": "2acb0f873eb64398840d0cbeb91be69c"
   },
   "source": [
    "앞 절에서 풀었던 등식 제한조건이 있는 최적화 문제도 사실은 이차계획법 문제다.\n",
    "\n",
    "$$\n",
    "\\begin{align}\n",
    "\\arg\\min_x x_1^2 + x_2^2\n",
    "\\tag{5.3.16}\n",
    "\\end{align}\n",
    "$$\n",
    "\n",
    "$$\n",
    "\\begin{align}\n",
    "x_1 + x_2 - 1 = 0\n",
    "\\tag{5.3.17}\n",
    "\\end{align}\n",
    "$$\n",
    "\n",
    "이 문제를 QP 형식으로 바꾸면 다음과 같다.\n",
    "\n",
    "$$ \n",
    "\\begin{align}\n",
    "\\arg\\min_x\n",
    "\\dfrac{1}{2}\n",
    "\\begin{bmatrix}\n",
    "x_1 & x_2\n",
    "\\end{bmatrix}\n",
    "\\begin{bmatrix}\n",
    "2 & 0 \\\\ 0 & 2\n",
    "\\end{bmatrix}\n",
    "\\begin{bmatrix}\n",
    "x_1 \\\\ x_2\n",
    "\\end{bmatrix}\n",
    "+ \n",
    "\\begin{bmatrix}\n",
    "0 & 0\n",
    "\\end{bmatrix}\n",
    "\\begin{bmatrix}\n",
    "x_1 \\\\ x_2\n",
    "\\end{bmatrix}\n",
    "\\tag{5.3.18}\n",
    "\\end{align}\n",
    "$$\n",
    "\n",
    "$$\n",
    "\\begin{align}\n",
    "\\begin{bmatrix}\n",
    "1 & 1\n",
    "\\end{bmatrix}\n",
    "\\begin{bmatrix}\n",
    "x_1 \\\\ x_2\n",
    "\\end{bmatrix} = 1\n",
    "\\tag{5.3.19}\n",
    "\\end{align}\n",
    "$$"
   ]
  },
  {
   "cell_type": "markdown",
   "metadata": {
    "school_cell_uuid": "5b0f17ea3a6d44a2834c6d302107af20"
   },
   "source": [
    "### CvxOpt를 이용한 이차계획법 문제 계산"
   ]
  },
  {
   "cell_type": "markdown",
   "metadata": {
    "school_cell_uuid": "898d6d661cc14049a8fb0b522da0fd73"
   },
   "source": [
    "CvxOpt라는 패키지를 사용하면 이차계획법 문제를 풀 수 있다. CvxOpt를 쓸 때는 NumPy의 `ndarray` 배열을 CvxOpt 전용의 `matrix` 자료형으로 바꿔야 한다. 또 정수 자료형을 사용하지 못하므로 항상 부동소수점 실수가 되도록 명시해야 한다. \n",
    "\n",
    "CvxOpt도 conda 패키지 매니저로 설치할 수 있다.\n",
    "\n",
    "```\n",
    "conda install cvxopt\n",
    "```"
   ]
  },
  {
   "cell_type": "code",
   "execution_count": 3,
   "metadata": {
    "school_cell_uuid": "11e2d546333646af9a2ca07eabf11d04"
   },
   "outputs": [
    {
     "data": {
      "text/plain": [
       "array([[0.5],\n",
       "       [0.5]])"
      ]
     },
     "execution_count": 3,
     "metadata": {},
     "output_type": "execute_result"
    }
   ],
   "source": [
    "from cvxopt import matrix, solvers\n",
    "\n",
    "Q = matrix(np.diag([2.0, 2.0]))\n",
    "c = matrix(np.array([0.0, 0.0]))\n",
    "A = matrix(np.array([[1.0, 1.0]]))\n",
    "b = matrix(np.array([[1.0]]))\n",
    "\n",
    "sol = solvers.qp(Q, c, A=A, b=b)\n",
    "np.array(sol['x'])"
   ]
  },
  {
   "cell_type": "markdown",
   "metadata": {
    "bootstrap": {
     "panel": {
      "class": "panel-default"
     }
    },
    "school_cell_uuid": "39adba2f880b493b8dc2a71beb9b7330"
   },
   "source": [
    "#### 연습 문제 5.3.1\n",
    "\n",
    "다음 문제가 QP 문제임을 보이고 $N=3$인 경우에 대해 QP 문제의 $Q$, $c$, $A$, $b$를 각각 구하라(문제에서 $x$는 벡터이고 $y$는 실수다).\n",
    "\n",
    "$$\n",
    "\\begin{align}\n",
    "\\arg\\min_{a_i} \\left( \\sum_{i=1}^N a_i - \\dfrac{1}{2}\\sum_{i=1}^N\\sum_{j=1}^N a_i a_j y_i y_j x_i^T x_j \\right)\n",
    "\\tag{5.3.20}\n",
    "\\end{align}\n",
    "$$\n",
    "\n",
    "$$\n",
    "\\begin{align}\n",
    "\\sum_{i=1}^N a_i y_i = 0\n",
    "\\tag{5.3.21}\n",
    "\\end{align}\n",
    "$$\n",
    "\n",
    "$$\n",
    "\\begin{align}\n",
    "a_i \\geq 0 \n",
    "\\tag{5.3.22}\n",
    "\\end{align}\n",
    "$$"
   ]
  }
 ],
 "metadata": {
  "celltoolbar": "Edit Metadata",
  "kernelspec": {
   "display_name": "Python 3",
   "language": "python",
   "name": "python3"
  },
  "language_info": {
   "codemirror_mode": {
    "name": "ipython",
    "version": 3
   },
   "file_extension": ".py",
   "mimetype": "text/x-python",
   "name": "python",
   "nbconvert_exporter": "python",
   "pygments_lexer": "ipython3",
   "version": "3.7.6"
  },
  "pycharm": {
   "stem_cell": {
    "cell_type": "raw",
    "metadata": {
     "collapsed": false
    },
    "source": []
   }
  }
 },
 "nbformat": 4,
 "nbformat_minor": 2
}
