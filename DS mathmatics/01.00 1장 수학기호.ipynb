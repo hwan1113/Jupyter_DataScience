{
 "cells": [
  {
   "cell_type": "markdown",
   "metadata": {
    "school_cell_uuid": "0d236435cfa84c01be60ae4e950d1018"
   },
   "source": [
    "# 1장 수학 기호"
   ]
  },
  {
   "cell_type": "markdown",
   "metadata": {
    "school_cell_uuid": "a758f1fb08c24f2dae085a646764acc2"
   },
   "source": [
    "이 장에서는 이 책을 학습하기 위해 필요한 최소한의 수학 기호에 대해 알아본다. 고등학교와 이공계 대학의 수학 과목에 나오는 내용이므로 이미 알고 있는 독자도 있을 수 있지만 파이썬을 이용하여 구현할 수 있어야 하므로 꼭 다시 한 번 복습하기를 권장한다."
   ]
  },
  {
   "cell_type": "markdown",
   "metadata": {
    "school_cell_uuid": "93e552526a304cf3b420afbc31f0cb1d"
   },
   "source": [
    "## 학습 목표"
   ]
  },
  {
   "cell_type": "markdown",
   "metadata": {
    "school_cell_uuid": "e33500208d124e2daa2e9428dfc2c0e4"
   },
   "source": [
    "1. 그리스 문자를 읽고 쓸 수 있다.\n",
    "2. 그리스 문자의 영어 표기를 쓸 수 있다.\n",
    "3. 주피터 노트북에서 TeX으로 수식을 쓸 수 있다.\n",
    "4. 수열과 집합의 합과 곱 기호를 이해한다."
   ]
  }
 ],
 "metadata": {
  "kernelspec": {
   "display_name": "Python 3",
   "language": "python",
   "name": "python3"
  },
  "language_info": {
   "codemirror_mode": {
    "name": "ipython",
    "version": 3
   },
   "file_extension": ".py",
   "mimetype": "text/x-python",
   "name": "python",
   "nbconvert_exporter": "python",
   "pygments_lexer": "ipython3",
   "version": "3.7.4"
  }
 },
 "nbformat": 4,
 "nbformat_minor": 2
}
