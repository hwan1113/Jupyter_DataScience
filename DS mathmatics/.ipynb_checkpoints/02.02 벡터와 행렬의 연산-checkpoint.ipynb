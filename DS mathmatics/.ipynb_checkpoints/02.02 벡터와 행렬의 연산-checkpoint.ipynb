{
 "cells": [
  {
   "cell_type": "markdown",
   "metadata": {
    "school_cell_uuid": "5f4daf7d16ce46969053a7d95bed3d2e"
   },
   "source": [
    "## 2.2 벡터와 행렬의 연산"
   ]
  },
  {
   "cell_type": "markdown",
   "metadata": {
    "school_cell_uuid": "dfcec2b1bfba4b769d7bcf316d0d9949"
   },
   "source": [
    "벡터와 행렬도 숫자처럼 덧셈, 뺄셈, 곱셈 등의 연산을 할 수 있다. 벡터와 행렬의 연산을 이용하면 대량의 데이터에 대한 계산을 간단한 수식으로 나타낼 수 있다. 물론 벡터와 행렬에 대한 연산은 숫자의 사칙 연산과는 몇 가지 다른 점이 있으므로 이러한 차이를 잘 알아야 한다."
   ]
  },
  {
   "cell_type": "markdown",
   "metadata": {
    "school_cell_uuid": "7939530b71b940e2b86d687ec9e4453c"
   },
   "source": [
    "이 절에서는 넘파이를 이용하여 벡터와 행렬의 연산을 실행하는 법도 공부한다. 다음처럼 넘파이와 맷플롯립 패키지가 임포트되어 있어야 한다. "
   ]
  },
  {
   "cell_type": "code",
   "execution_count": 1,
   "metadata": {
    "school_cell_uuid": "50bb3d967a9a4e11b884730d0684b81d"
   },
   "outputs": [],
   "source": [
    "import numpy as np\n",
    "import matplotlib.pylab as plt"
   ]
  },
  {
   "cell_type": "markdown",
   "metadata": {
    "school_cell_uuid": "cb94846e5abe46fd92f6ff3c7a7b9a25"
   },
   "source": [
    "### 벡터/행렬의 덧셈과 뺄셈"
   ]
  },
  {
   "cell_type": "markdown",
   "metadata": {
    "school_cell_uuid": "080cd979ae564a93a3c095855b315d25"
   },
   "source": [
    "같은 크기를 가진 두 개의 벡터나 행렬은 덧셈과 뺄셈을 할 수 있다. 두 벡터와 행렬에서 같은 위치에 있는 원소끼리 덧셈과 뺄셈을 하면 된다. 이러한 연산을 **요소별(element-wise) 연산**이라고 한다. "
   ]
  },
  {
   "cell_type": "markdown",
   "metadata": {
    "school_cell_uuid": "68780cec81124d158b3e8d074bbf0785"
   },
   "source": [
    "예를 들어 벡터 $x$와 $y$가 다음과 같으면,\n",
    "\n",
    "$$\n",
    "\\begin{align}\n",
    "x=\n",
    "\\begin{bmatrix}\n",
    "10 \\\\\n",
    "11 \\\\\n",
    "12 \\\\\n",
    "\\end{bmatrix}\n",
    ",\\;\\;\n",
    "y=\n",
    "\\begin{bmatrix}\n",
    "0 \\\\\n",
    "1 \\\\\n",
    "2 \\\\\n",
    "\\end{bmatrix}\n",
    "\\tag{2.2.1}\n",
    "\\end{align}\n",
    "$$\n",
    "\n",
    "벡터 $x$와 $y$의 덧셈 $x+y$와 뺄셈 $x-y$는 다음처럼 계산한다.\n",
    "\n",
    "$$\n",
    "\\begin{align}\n",
    "x + y =\n",
    "\\begin{bmatrix}\n",
    "10 \\\\\n",
    "11 \\\\\n",
    "12 \\\\\n",
    "\\end{bmatrix}\n",
    "+\n",
    "\\begin{bmatrix}\n",
    "0 \\\\\n",
    "1 \\\\\n",
    "2 \\\\\n",
    "\\end{bmatrix}\n",
    "=\n",
    "\\begin{bmatrix}\n",
    "10 + 0 \\\\\n",
    "11 + 1 \\\\\n",
    "12 + 2 \\\\\n",
    "\\end{bmatrix}\n",
    "=\n",
    "\\begin{bmatrix}\n",
    "10 \\\\\n",
    "12 \\\\\n",
    "14 \\\\\n",
    "\\end{bmatrix}\n",
    "\\tag{2.2.2}\n",
    "\\end{align}\n",
    "$$\n",
    "\n",
    "$$\n",
    "\\begin{align}\n",
    "x - y =\n",
    "\\begin{bmatrix}\n",
    "10 \\\\\n",
    "11 \\\\\n",
    "12 \\\\\n",
    "\\end{bmatrix}\n",
    "-\n",
    "\\begin{bmatrix}\n",
    "0 \\\\\n",
    "1 \\\\\n",
    "2 \\\\\n",
    "\\end{bmatrix}\n",
    "=\n",
    "\\begin{bmatrix}\n",
    "10 - 0 \\\\\n",
    "11 - 1 \\\\\n",
    "12 - 2 \\\\\n",
    "\\end{bmatrix}\n",
    "=\n",
    "\\begin{bmatrix}\n",
    "10 \\\\\n",
    "10 \\\\\n",
    "10 \\\\\n",
    "\\end{bmatrix}\n",
    "\\tag{2.2.3}\n",
    "\\end{align}\n",
    "$$"
   ]
  },
  {
   "cell_type": "markdown",
   "metadata": {
    "school_cell_uuid": "1615caac7bce4f7194eb23696ca9c9f1"
   },
   "source": [
    "벡터의 덧셈과 뺄셈을 넘파이로 계산하면 다음과 같다. 여기에서는 편의상 1차원 배열로 벡터를 표시하였다."
   ]
  },
  {
   "cell_type": "code",
   "execution_count": 2,
   "metadata": {
    "school_cell_uuid": "92a4f1bd51064d95b35f88d28de98185"
   },
   "outputs": [],
   "source": [
    "x = np.array([10, 11, 12, 13, 14])\n",
    "y = np.array([0, 1, 2, 3, 4])"
   ]
  },
  {
   "cell_type": "code",
   "execution_count": 3,
   "metadata": {
    "school_cell_uuid": "a6e0e116c37142eabae65a0a118616eb"
   },
   "outputs": [
    {
     "data": {
      "text/plain": [
       "array([10, 12, 14, 16, 18])"
      ]
     },
     "execution_count": 3,
     "metadata": {},
     "output_type": "execute_result"
    }
   ],
   "source": [
    "x + y"
   ]
  },
  {
   "cell_type": "code",
   "execution_count": 4,
   "metadata": {
    "school_cell_uuid": "4ce5a014512f4b3192455936c19eb65f"
   },
   "outputs": [
    {
     "data": {
      "text/plain": [
       "array([10, 10, 10, 10, 10])"
      ]
     },
     "execution_count": 4,
     "metadata": {},
     "output_type": "execute_result"
    }
   ],
   "source": [
    "x - y"
   ]
  },
  {
   "cell_type": "markdown",
   "metadata": {
    "school_cell_uuid": "e4ce357b185b48479f6a9fdb33a223ea"
   },
   "source": [
    "행렬도 같은 방법으로 덧셈과 뺄셈을 할 수 있다.\n",
    "\n",
    "$$\n",
    "\\begin{align}\n",
    "\\begin{bmatrix}\n",
    "5 & 6 \\\\\n",
    "7 & 8\n",
    "\\end{bmatrix}\n",
    "+\n",
    "\\begin{bmatrix}\n",
    "10 & 20 \\\\\n",
    "30 & 40 \\\\\n",
    "\\end{bmatrix}\n",
    "-\n",
    "\\begin{bmatrix}\n",
    "1 & 2 \\\\\n",
    "3 & 4\n",
    "\\end{bmatrix}\n",
    "=\n",
    "\\begin{bmatrix}\n",
    "14 & 24 \\\\\n",
    "34 & 44\n",
    "\\end{bmatrix}\n",
    "\\tag{2.2.4}\n",
    "\\end{align}\n",
    "$$"
   ]
  },
  {
   "cell_type": "code",
   "execution_count": 5,
   "metadata": {
    "school_cell_uuid": "7dcf23494eac453e88f5f9528be19244"
   },
   "outputs": [
    {
     "data": {
      "text/plain": [
       "array([[14, 24],\n",
       "       [34, 44]])"
      ]
     },
     "execution_count": 5,
     "metadata": {},
     "output_type": "execute_result"
    }
   ],
   "source": [
    "np.array([[5, 6], [7, 8]]) + np.array([[10, 20], [30, 40]]) - \\\n",
    "    np.array([[1, 2], [3, 4]])"
   ]
  },
  {
   "cell_type": "markdown",
   "metadata": {
    "school_cell_uuid": "f0d566a306f6486c84dc5c75b50a505b"
   },
   "source": [
    "### 스칼라와 벡터/행렬의 곱셈"
   ]
  },
  {
   "cell_type": "markdown",
   "metadata": {
    "school_cell_uuid": "7ab15da44c4b428f81ce32c3750fc858"
   },
   "source": [
    "벡터 $x$ 또는 행렬 $A$에 스칼라값 $c$를 곱하는 것은 **벡터 $x$ 또는 행렬 $A$의 모든 원소에 스칼라값 $c$를 곱하는 것**과 같다.\n",
    "\n",
    "$$\n",
    "\\begin{align}\n",
    "c\n",
    "\\begin{bmatrix}\n",
    "x_1 \\\\\n",
    "x_2\n",
    "\\end{bmatrix}\n",
    "=\n",
    "\\begin{bmatrix}\n",
    "cx_1 \\\\\n",
    "cx_2\n",
    "\\end{bmatrix}\n",
    "\\tag{2.2.5}\n",
    "\\end{align}\n",
    "$$\n",
    "\n",
    "\n",
    "$$\n",
    "\\begin{align}\n",
    "c\n",
    "\\begin{bmatrix}\n",
    "a_{11} & a_{12} \\\\\n",
    "a_{21} & a_{22}\n",
    "\\end{bmatrix}\n",
    "=\n",
    "\\begin{bmatrix}\n",
    "ca_{11} & ca_{12} \\\\\n",
    "ca_{21} & ca_{22}\n",
    "\\end{bmatrix}\n",
    "\\tag{2.2.6}\n",
    "\\end{align}\n",
    "$$"
   ]
  },
  {
   "cell_type": "markdown",
   "metadata": {
    "school_cell_uuid": "cd72e64ecffe44e2822425e8966d75f3"
   },
   "source": [
    "### 브로드캐스팅"
   ]
  },
  {
   "cell_type": "markdown",
   "metadata": {
    "school_cell_uuid": "38cea09d8db74a0091f100327cfd486e"
   },
   "source": [
    "원래 덧셈과 뺄셈은 크기(차원)가 같은 두 벡터에 대해서만 할 수 있다. 하지만 벡터와 스칼라의 경우에는 관례적으로 다음처럼 1-벡터를 사용하여 스칼라를 벡터로 변환한 연산을 허용한다. 이를 **브로드캐스팅(broadcasting)**이라고 한다.\n",
    "\n",
    "$$\n",
    "\\begin{align}\n",
    "\\begin{bmatrix}\n",
    "10 \\\\\n",
    "11 \\\\\n",
    "12 \\\\\n",
    "\\end{bmatrix}\n",
    "- 10\n",
    "=\n",
    "\\begin{bmatrix}\n",
    "10 \\\\\n",
    "11 \\\\\n",
    "12 \\\\\n",
    "\\end{bmatrix}\n",
    "- 10\\cdot \\mathbf{1}\n",
    "=\n",
    "\\begin{bmatrix}\n",
    "10 \\\\\n",
    "11 \\\\\n",
    "12 \\\\\n",
    "\\end{bmatrix}\n",
    "-\n",
    "\\begin{bmatrix}\n",
    "10 \\\\\n",
    "10 \\\\\n",
    "10 \\\\\n",
    "\\end{bmatrix}\n",
    "\\tag{2.2.7}\n",
    "\\end{align}\n",
    "$$\n"
   ]
  },
  {
   "cell_type": "markdown",
   "metadata": {
    "school_cell_uuid": "f4f3364e2cf748b29051e8dbd91da376"
   },
   "source": [
    "데이터 분석에서는 원래의 데이터 벡터 $x$가 아니라 그 데이터 벡터의 각 원소의 평균값을 뺀 **평균제거(mean removed) 벡터** 혹은 **0-평균(zero-mean) 벡터**를 사용하는 경우가 많다.\n",
    "\n",
    "$$\n",
    "\\begin{align}\n",
    "x = \n",
    "\\begin{bmatrix}\n",
    "x_1 \\\\\n",
    "x_2 \\\\\n",
    "\\vdots \\\\\n",
    "x_N\n",
    "\\end{bmatrix}\n",
    "\\;\\; \\rightarrow \\;\\;\n",
    "x - m =\n",
    "\\begin{bmatrix}\n",
    "x_1 - m\\\\\n",
    "x_2 - m \\\\\n",
    "\\vdots \\\\\n",
    "x_N - m\n",
    "\\end{bmatrix}\n",
    "\\tag{2.2.8}\n",
    "\\end{align}\n",
    "$$\n",
    "\n",
    "위 식에서 $m$은 샘플 평균이다.\n",
    "\n",
    "$$\n",
    "\\begin{align}\n",
    "m = \\dfrac{1}{N}\\sum_{i=1}^N x_i\n",
    "\\tag{2.2.9}\n",
    "\\end{align}\n",
    "$$"
   ]
  },
  {
   "cell_type": "markdown",
   "metadata": {
    "school_cell_uuid": "d85ee8dd59084a09aefdb0fe82cbaa54"
   },
   "source": [
    "### 선형조합"
   ]
  },
  {
   "cell_type": "markdown",
   "metadata": {
    "school_cell_uuid": "52f7e08ae2574162b1d2d773b3378df3"
   },
   "source": [
    "벡터/행렬에 다음처럼 스칼라값을 곱한 후 더하거나 뺀 것을 벡터/행렬의 **선형조합(linear combination)**이라고 한다. 벡터나 행렬을 선형조합해도 크기는 변하지 않는다.\n",
    "\n",
    "$$\n",
    "\\begin{align}\n",
    "c_1x_1 + c_2x_2 + c_3x_3 + \\cdots + c_Lx_L = x\n",
    "\\tag{2.2.10}\n",
    "\\end{align}\n",
    "$$\n",
    "\n",
    "$$\n",
    "\\begin{align}\n",
    "c_1A_1 + c_2A_2 + c_3A_3 + \\cdots + c_LA_L = A\n",
    "\\tag{2.2.11}\n",
    "\\end{align}\n",
    "$$\n",
    "\n",
    "\n",
    "$$\n",
    "\\begin{align}\n",
    "c_1, c_2, \\ldots, c_L \\in \\mathbf{R}\n",
    "\\tag{2.2.12}\n",
    "\\end{align}\n",
    "$$\n",
    "\n",
    "$$\n",
    "\\begin{align}\n",
    "x_1, x_2, \\ldots, x_L, x \\in \\mathbf{R}^M\n",
    "\\tag{2.2.13}\n",
    "\\end{align}\n",
    "$$\n",
    "\n",
    "$$\n",
    "\\begin{align}\n",
    "A_1, A_2, \\ldots, A_L, A \\in \\mathbf{R}^{M \\times N}\n",
    "\\tag{2.2.14}\n",
    "\\end{align}\n",
    "$$\n",
    "\n",
    "벡터나 행렬의 크기를 직사각형으로 표시하면 다음과 같다.\n",
    "\n",
    "$$\n",
    "\\begin{align}\n",
    "\\begin{matrix}\n",
    "c_1\\,\\boxed{\\begin{matrix} \\phantom{\\LARGE\\mathstrut} \\\\ x_1 \\\\ \\phantom{\\LARGE\\mathstrut} \\end{matrix}} & + &\n",
    "c_2\\,\\boxed{\\begin{matrix} \\phantom{\\LARGE\\mathstrut} \\\\ x_2 \\\\ \\phantom{\\LARGE\\mathstrut} \\end{matrix}} & + & \n",
    "\\cdots \\!\\!\\!\\!& + & \n",
    "c_L\\,\\boxed{\\begin{matrix} \\phantom{\\LARGE\\mathstrut} \\\\ x_L \\\\ \\phantom{\\LARGE\\mathstrut} \\end{matrix}}\n",
    "\\end{matrix}\n",
    "\\tag{2.2.15}\n",
    "\\end{align}\n",
    "$$\n",
    "\n",
    "$$\n",
    "\\begin{align}\n",
    "\\begin{matrix}\n",
    "c_1\\,\\boxed{\\begin{matrix} \\phantom{} & \\phantom{} & \\phantom{} \\\\ & A_1 & \\\\ \\phantom{} & \\phantom{} & \\phantom{} \\end{matrix}} \n",
    "& + &\n",
    "c_2\\,\\boxed{\\begin{matrix} \\phantom{} & \\phantom{} & \\phantom{} \\\\ & A_2 & \\\\ \\phantom{} & \\phantom{} & \\phantom{} \\end{matrix}} \n",
    "& + &\n",
    "\\cdots\n",
    "& + &\n",
    "c_L\\,\\boxed{\\begin{matrix} \\phantom{} & \\phantom{} & \\phantom{} \\\\ & A_L & \\\\ \\phantom{} & \\phantom{} & \\phantom{} \\end{matrix}} \n",
    "\\end{matrix}\n",
    "\\tag{2.2.16}\n",
    "\\end{align}\n",
    "$$\n"
   ]
  },
  {
   "cell_type": "markdown",
   "metadata": {
    "school_cell_uuid": "e0a59b5e8b814543ad79c6a660b4bb6a"
   },
   "source": [
    "### 벡터와 벡터의 곱셈"
   ]
  },
  {
   "cell_type": "markdown",
   "metadata": {
    "school_cell_uuid": "f09ed6d691264628b902c4e609a30d1d"
   },
   "source": [
    "행렬의 곱셈을 정의하기 전에 우선 두 벡터의 곱셈을 알아보자. 벡터를 곱셈하는 방법은 여러 가지가 있지만 여기서는 **내적(inner product)**에 대해서만 다룬다. 벡터 $x$와 벡터 $y$의 내적은 다음처럼 표기한다.\n",
    "\n",
    "$$ \n",
    "\\begin{align}\n",
    "x^T y \n",
    "\\tag{2.2.17}\n",
    "\\end{align}\n",
    "$$\n",
    "\n",
    "내적은 다음처럼 점(dot)으로 표기하는 경우도 있어서 **닷 프로덕트(dot product)**라고도 부르고 < $x,y$ > 기호로 나타낼 수도 있다.\n",
    "\n",
    "$$ \n",
    "\\begin{align}\n",
    "x \\cdot y = \\, < x, y > \\, = x^T y \n",
    "\\tag{2.2.18}\n",
    "\\end{align}\n",
    "$$\n",
    "\n",
    "\n",
    "\n",
    "두 벡터를 내적하려면 다음과 같은 조건이 만족되어야 한다.\n",
    "\n",
    "1. 우선 두 벡터의 차원(길이)이 같아야 한다. \n",
    "2. 앞의 벡터가 행 벡터이고 뒤의 벡터가 열 벡터여야 한다.  \n",
    "\n",
    "이때 내적의 결과는 스칼라값이 되며 다음처럼 계산한다. 우선 같은 위치에 있는 원소들을 요소별 곱셈처럼 곱한 다음, 그 값들을 다시 모두 더해서 하나의 스칼라값으로 만든다.\n",
    "\n",
    "$$\n",
    "\\begin{align}\n",
    "x^T y = \n",
    "\\begin{bmatrix}\n",
    "x_{1} & x_{2} & \\cdots & x_{N} \n",
    "\\end{bmatrix}\n",
    "\\begin{bmatrix}\n",
    "y_{1} \\\\\n",
    "y_{2} \\\\\n",
    "\\vdots \\\\\n",
    "y_{N} \\\\\n",
    "\\end{bmatrix} \n",
    "= x_1 y_1 + \\cdots + x_N y_N \n",
    "= \\sum_{i=1}^N x_i y_i\n",
    "\\tag{2.2.19}\n",
    "\\end{align}\n",
    "$$\n",
    "\n",
    "$$ \n",
    "\\begin{align}\n",
    "x \\in \\mathbf{R}^{N \\times 1}\n",
    "\\tag{2.2.20}\n",
    "\\end{align}\n",
    "$$\n",
    "\n",
    "$$\n",
    "\\begin{align}\n",
    "y \\in \\mathbf{R}^{N \\times 1} \n",
    "\\tag{2.2.21}\n",
    "\\end{align}\n",
    "$$\n",
    "\n",
    "$$\n",
    "\\begin{align}\n",
    "x^T y \\in \\mathbf{R} \n",
    "\\tag{2.2.22}\n",
    "\\end{align}\n",
    "$$\n",
    "\n",
    "다음은 두 벡터의 내적의 예다.\n",
    "\n",
    "$$\n",
    "\\begin{align}\n",
    "x =\n",
    "\\begin{bmatrix}\n",
    "1 \\\\ 2 \\\\ 3 \\\\\n",
    "\\end{bmatrix}\n",
    ",\\;\\;\\;\n",
    "y = \n",
    "\\begin{bmatrix}\n",
    "4 \\\\ 5 \\\\ 6 \\\\\n",
    "\\end{bmatrix} \n",
    "\\tag{2.2.23}\n",
    "\\end{align}\n",
    "$$\n",
    "\n",
    "$$\n",
    "\\begin{align}\n",
    "x^T y = \n",
    "\\begin{bmatrix}\n",
    "1 & 2 & 3\n",
    "\\end{bmatrix}\n",
    "\\begin{bmatrix}\n",
    "4 \\\\ 5 \\\\ 6 \\\\\n",
    "\\end{bmatrix} \n",
    "= 1 \\cdot 4 + 2 \\cdot 5 + 3 \\cdot 6 = 32\n",
    "\\tag{2.2.24}\n",
    "\\end{align}\n",
    "$$\n",
    "\n",
    "넘파이에서 벡터와 행렬의 내적은 `dot()`이라는 명령 또는 `@`(at이라고 읽는다)이라는 연산자로 계산한다. 2차원 배열로 표시한 벡터를 내적했을 때는 결과값이 스칼라가 아닌 2차원 배열이다."
   ]
  },
  {
   "cell_type": "code",
   "execution_count": 6,
   "metadata": {
    "school_cell_uuid": "439ddddaf6c64f73ad9c969979ad9b0b"
   },
   "outputs": [
    {
     "data": {
      "text/plain": [
       "array([[32]])"
      ]
     },
     "execution_count": 6,
     "metadata": {},
     "output_type": "execute_result"
    }
   ],
   "source": [
    "x = np.array([[1], [2], [3]])\n",
    "y = np.array([[4], [5], [6]])\n",
    "\n",
    "x.T @ y  # 또는 np.dot(x.T, y)"
   ]
  },
  {
   "cell_type": "markdown",
   "metadata": {
    "school_cell_uuid": "bec85acb3bbe49ddb4e3345daecfced8"
   },
   "source": [
    "넘파이에서는 1차원 배열끼리도 내적을 계산한다. 이때는 넘파이가 앞의 벡터는 행 벡터이고 뒤의 벡터는 열 벡터라고 가정한다."
   ]
  },
  {
   "cell_type": "code",
   "execution_count": 7,
   "metadata": {
    "school_cell_uuid": "0cddf2f013324e719945dffbf85af20f"
   },
   "outputs": [
    {
     "data": {
      "text/plain": [
       "32"
      ]
     },
     "execution_count": 7,
     "metadata": {},
     "output_type": "execute_result"
    }
   ],
   "source": [
    "x = np.array([1, 2, 3])\n",
    "y = np.array([4, 5, 6])\n",
    "\n",
    "x @ y  # 또는 np.dot(x, y)"
   ]
  },
  {
   "cell_type": "markdown",
   "metadata": {
    "school_cell_uuid": "b6c82e49b1124ff9937d78277b64a52d"
   },
   "source": [
    "왜 벡터의 내적은 덧셈이나 뺄셈과 달리 이렇게 복잡하게 정의된 것일까? 그 이유는 데이터 분석을 할 때 이러한 연산이 필요하기 때문이다. 벡터의 내적을 사용하여 데이터를 분석하는 몇 가지 예를 살펴보자."
   ]
  },
  {
   "cell_type": "markdown",
   "metadata": {
    "school_cell_uuid": "52306dedaf4a4ef3b3b9962fe784d772"
   },
   "source": [
    "### 가중합"
   ]
  },
  {
   "cell_type": "markdown",
   "metadata": {
    "school_cell_uuid": "7b2e2ce1a713483e9d6103c053dcdd78"
   },
   "source": [
    "벡터의 내적은 가중합을 계산할 때 쓰일 수 있다. **가중합(weighted sum)**이란 복수의 데이터를 단순히 합하는 것이 아니라 각각의 수에 어떤 가중치 값을 곱한 후 이 곱셈 결과들을 다시 합한 것을 말한다. \n",
    "\n",
    "만약 데이터 벡터가 $x=[x_1, \\cdots, x_N]^T$이고 가중치 벡터가 $w=[w_1, \\cdots, w_N]^T$이면 데이터 벡터의 가중합은 다음과 같다.\n",
    "\n",
    "$$ \n",
    "\\begin{align}\n",
    "w_1 x_1 + \\cdots + w_N x_N = \\sum_{i=1}^N w_i x_i \n",
    "\\tag{2.2.25}\n",
    "\\end{align}\n",
    "$$ \n",
    "\n",
    "이 값을 벡터 $x$와 $w$의 곱으로 나타내면 $w^Tx$ 또는 $x^Tw$ 라는 간단한 수식으로 표시할 수 있다.\n",
    "\n",
    "$$ \n",
    "\\begin{align}\n",
    "\\begin{aligned}\n",
    "\\sum_{i=1}^N w_i x_i \n",
    "&= \n",
    "\\begin{bmatrix}\n",
    "w_{1} && w_{2} && \\cdots && w_{N}\n",
    "\\end{bmatrix}\n",
    "\\begin{bmatrix}\n",
    "x_1 \\\\ x_2 \\\\ \\vdots \\\\ x_N\n",
    "\\end{bmatrix} \n",
    "&= w^Tx  \n",
    "\\\\\n",
    "&=\n",
    "\\begin{bmatrix}\n",
    "x_{1} && x_{2} && \\cdots && x_{N}\n",
    "\\end{bmatrix}\n",
    "\\begin{bmatrix}\n",
    "w_1 \\\\ w_2 \\\\ \\vdots \\\\ w_N\n",
    "\\end{bmatrix}\n",
    "&= x^Tw  \n",
    "\\end{aligned}\n",
    "\\tag{2.2.26}\n",
    "\\end{align}\n",
    "$$\n",
    "\n",
    "예를 들어 쇼핑을 할 때 각 물건의 가격은 데이터 벡터, 각 물건의 수량은 가중치로 생각하여 내적을 구하면 총금액을 계산할 수 있다.\n",
    "\n",
    "만약 가중치가 모두 1이면 일반적인 합(sum)을 계산한다.\n",
    "\n",
    "$$ \n",
    "\\begin{align}\n",
    "w_1 = w_2 = \\cdots = w_N = 1 \n",
    "\\tag{2.2.27}\n",
    "\\end{align}\n",
    "$$\n",
    "\n",
    "또는\n",
    "\n",
    "$$\n",
    "\\begin{align}\n",
    "w = \\mathbf{1}_N \n",
    "\\tag{2.2.28}\n",
    "\\end{align}\n",
    "$$\n",
    "\n",
    "이면 \n",
    "\n",
    "$$ \n",
    "\\begin{align}\n",
    "\\sum_{i=1}^N x_i = \\mathbf{1}_N^T x \n",
    "\\tag{2.2.29}\n",
    "\\end{align}\n",
    "$$"
   ]
  },
  {
   "cell_type": "markdown",
   "metadata": {
    "bootstrap": {
     "panel": {
      "class": "panel-default"
     }
    },
    "school_cell_uuid": "6c189202c6694fb2a74a8a9d64b37b94"
   },
   "source": [
    "#### 연습 문제 2.2.1\n",
    "\n",
    "A, B, C 세 회사의 주식은 각각 100만원, 80만원, 50만원이다. 이 주식을 각각 3주, 4주, 5주를 매수할 때 필요한 금액을 구하고자 한다.\n",
    "\n",
    "(1) 주식의 가격과 수량을 각각 $p$ 벡터, $n$ 벡터로 표시하고 넘파이로 코딩한다.\n",
    "\n",
    "(2) 주식을 매수할 때 필요한 금액을 곱셈으로 표시하고 넘파이 연산으로 그 값을 계산한다."
   ]
  },
  {
   "cell_type": "markdown",
   "metadata": {
    "school_cell_uuid": "5d686a31e45d489ab0be314fca3fd57a"
   },
   "source": [
    "### 가중평균"
   ]
  },
  {
   "cell_type": "markdown",
   "metadata": {
    "school_cell_uuid": "52190e8b43a94001bb3b87357e8bce60"
   },
   "source": [
    "가중합의 가중치값을 전체 가중치값의 합으로 나누면 **가중평균(weighted average)**이 된다. 가중평균은 대학교의 평균 성적 계산 등에 사용할 수 있다.\n",
    "\n",
    "예를 들어 고등학교에서는 국어, 영어, 두 과목의 평균 점수를 구할 때 단순히 두 과목의 점수(숫자)를 더한 후 2으로 나눈다. 그러나 대학교에서는 중요한 과목과 중요하지 않는 과목을 구분하는 학점(credit)이라는 숫자가 있다. 일주일에 한 시간만 수업하는 과목은 1학점짜리 과목이고 일주일에 세 시간씩 수업하는 중요한 과목은 3학점짜리 과목이다. 1학점과 3학점 과목의 점수가 각각 100점, 60점이면 학점을 고려한 가중 평균(weighted average) 성적은 다음과 같이 계산한다.\n",
    "\n",
    "$$ \n",
    "\\begin{align}\n",
    "\\dfrac{1}{1 + 3} \\times 100 + \\dfrac{3}{1 + 3} \\times 60\n",
    "= 70 \n",
    "\\tag{2.2.30}\n",
    "\\end{align}\n",
    "$$\n",
    "\n",
    "\n",
    "벡터로 표현된 $N$개의 데이터의 단순 평균은 다음처럼 생각할 수 있다.\n",
    "\n",
    "$$\n",
    "\\begin{align}\n",
    "\\bar{x} = \\dfrac{1}{N}\\sum_{i=1}^N x_i = \\dfrac{1}{N} \\mathbf{1}_N^T x\n",
    "\\tag{2.2.31}\n",
    "\\end{align}\n",
    "$$\n",
    "\n",
    "위 수식에서 보인 것처럼 $x$ 데이터의 평균은 보통 $\\bar{x}$라는 기호로 표기하고 \"엑스 바(x bar)\" 라고 읽는다.\n",
    "\n",
    "다음은 넘파이로 평균을 계산하는 방법이다."
   ]
  },
  {
   "cell_type": "code",
   "execution_count": 8,
   "metadata": {
    "school_cell_uuid": "92725f510e5a426ba9c9f050e8d90e83"
   },
   "outputs": [
    {
     "data": {
      "text/plain": [
       "4.5"
      ]
     },
     "execution_count": 8,
     "metadata": {},
     "output_type": "execute_result"
    }
   ],
   "source": [
    "x = np.arange(10)\n",
    "N = len(x)\n",
    "\n",
    "np.ones(N) @ x / N"
   ]
  },
  {
   "cell_type": "markdown",
   "metadata": {
    "school_cell_uuid": "3fd76b76bf514970b2c0bda365fd712e"
   },
   "source": [
    "현실적으로는 ``mean()``이라는 메서드를 사용하는 것이 편하다."
   ]
  },
  {
   "cell_type": "code",
   "execution_count": 9,
   "metadata": {
    "school_cell_uuid": "ed7a3c2a58294d548af6b1d38f456d64"
   },
   "outputs": [
    {
     "data": {
      "text/plain": [
       "4.5"
      ]
     },
     "execution_count": 9,
     "metadata": {},
     "output_type": "execute_result"
    }
   ],
   "source": [
    "x.mean()"
   ]
  },
  {
   "cell_type": "markdown",
   "metadata": {
    "bootstrap": {
     "panel": {
      "class": "panel-default"
     }
    },
    "school_cell_uuid": "6c189202c6694fb2a74a8a9d64b37b94"
   },
   "source": [
    "#### 연습 문제 2.2.2\n",
    "\n",
    "벡터 $x$의 평균 제거 벡터는 다음과 같이 계산함을 증명하라.\n",
    "\n",
    "$$ \n",
    "\\begin{align}\n",
    "x - \\dfrac{1}{N}\\mathbf{1}_N^Tx \\mathbf{1}^{}_N\n",
    "\\tag{2.2.32}\n",
    "\\end{align}\n",
    "$$"
   ]
  },
  {
   "cell_type": "code",
   "execution_count": null,
   "metadata": {},
   "outputs": [],
   "source": []
  },
  {
   "cell_type": "markdown",
   "metadata": {
    "school_cell_uuid": "527c7645de0d4ce195a00597bd0b006a"
   },
   "source": [
    "### 유사도"
   ]
  },
  {
   "cell_type": "markdown",
   "metadata": {
    "school_cell_uuid": "faa387c866e148cabbbc043be254a0a3"
   },
   "source": [
    "벡터의 곱셈(내적)은 두 벡터 간의 유사도를 계산하는 데도 이용할 수 있다. **유사도(similarity)는 두 벡터가 닮은 정도를 정량적으로 나타낸 값**으로 두 벡터가 비슷한 경우에는 유사도가 커지고 비슷하지 앟은 경우에는 유사도가 작아진다. 내적을 이용하면 **코사인 유사도(cosine similarity)**라는 유사도를 계산할 수 있다. 추후 선형대수의 기하학적 의미를 공부할 때 코사인 유사도에 대해 살펴볼 것이다.\n",
    "\n",
    "예를 들어 0과 1을 나타내는 MNIST 이미지에 대해 내적을 계산해보자."
   ]
  },
  {
   "cell_type": "code",
   "execution_count": 8,
   "metadata": {
    "school_cell_uuid": "93c8a93c97f34cc68e57d51e9660d347"
   },
   "outputs": [],
   "source": [
    "from sklearn.datasets import load_digits\n",
    "import matplotlib.gridspec as gridspec\n",
    "\n",
    "digits = load_digits()\n",
    "d1 = digits.images[0]\n",
    "d2 = digits.images[10]\n",
    "d3 = digits.images[1]\n",
    "d4 = digits.images[11]\n",
    "v1 = d1.reshape(64, 1)\n",
    "v2 = d2.reshape(64, 1)\n",
    "v3 = d3.reshape(64, 1)\n",
    "v4 = d4.reshape(64, 1)\n",
    "\n",
    "plt.figure(figsize=(9, 9))\n",
    "gs = gridspec.GridSpec(1, 8, height_ratios=[1],\n",
    "                       width_ratios=[9, 1, 9, 1, 9, 1, 9, 1])\n",
    "for i in range(4):\n",
    "    plt.subplot(gs[2 * i])\n",
    "    plt.imshow(eval(\"d\" + str(i + 1)), aspect=1,\n",
    "               interpolation='nearest', cmap=plt.cm.bone_r)\n",
    "    plt.grid(False)\n",
    "    plt.xticks([])\n",
    "    plt.yticks([])\n",
    "    plt.title(\"image {}\".format(i + 1))\n",
    "    plt.subplot(gs[2 * i + 1])\n",
    "    plt.imshow(eval(\"v\" + str(i + 1)), aspect=0.25,\n",
    "               interpolation='nearest', cmap=plt.cm.bone_r)\n",
    "    plt.grid(False)\n",
    "    plt.xticks([])\n",
    "    plt.yticks([])\n",
    "    plt.title(\"vector {}\".format(i + 1))\n",
    "plt.tight_layout()\n",
    "plt.show()"
   ]
  },
  {
   "cell_type": "markdown",
   "metadata": {
    "school_cell_uuid": "1ec9a23b07d84108a26c3c10d8a6c6e8"
   },
   "source": [
    "\"0\" 이미지와 \"0\" 이미지, 또는 \"1\" 이미지와 \"1\" 이미지의 내적값은 다음과 같다."
   ]
  },
  {
   "cell_type": "code",
   "execution_count": 10,
   "metadata": {
    "school_cell_uuid": "b960cf59304a4d6d9bd8ccea117c9db9"
   },
   "outputs": [
    {
     "data": {
      "text/plain": [
       "(3064.0, 3661.0)"
      ]
     },
     "execution_count": 10,
     "metadata": {},
     "output_type": "execute_result"
    }
   ],
   "source": [
    "(v1.T @ v2)[0][0], (v3.T @ v4)[0][0]"
   ]
  },
  {
   "cell_type": "markdown",
   "metadata": {
    "school_cell_uuid": "381ba93da4db45439e053e14c32f480a"
   },
   "source": [
    "상대적으로 \"0\" 이미지와 \"1\" 이미지, 또는 \"1\" 이미지와 \"0\" 이미지의 내적값은 작다."
   ]
  },
  {
   "cell_type": "code",
   "execution_count": 11,
   "metadata": {
    "school_cell_uuid": "9b3f38ecbe47479a90b3989c3cecfed1"
   },
   "outputs": [
    {
     "data": {
      "text/plain": [
       "(1866.0, 1883.0, 2421.0, 2479.0)"
      ]
     },
     "execution_count": 11,
     "metadata": {},
     "output_type": "execute_result"
    }
   ],
   "source": [
    "(v1.T @ v3)[0][0], (v1.T @ v4)[0][0], (v2.T @ v3)[0][0], (v2.T @ v4)[0][0]"
   ]
  },
  {
   "cell_type": "markdown",
   "metadata": {
    "bootstrap": {
     "panel": {
      "class": "panel-default"
     }
    },
    "school_cell_uuid": "6c189202c6694fb2a74a8a9d64b37b94"
   },
   "source": [
    "#### 연습 문제 2.2.3\n",
    "\n",
    "다음 코드를 실행하면 MNIST 숫자 이미지 전체 데이터를 모두 벡터로 변환하여 하나의 넘파이 행렬 `X`를 만든다.\n",
    "이 행렬을 이용하여 다음 문제를 풀어라.\n",
    "```\n",
    "from sklearn.datasets import load_digits\n",
    "X = load_digits().data\n",
    "```\n",
    "\n",
    "(1) 내적을 이용하여 첫 번째 이미지와 10번째 이미지의 유사도를 구하라.\n",
    "\n",
    "(2) 내적을 이용하여 모든 이미지의 조합에 대해 유사도를 구하라. 어떻게 구현하는 것이 효율적일까? (힌트 : 이 문제는 뒤에서 배울 행렬과 행렬의 곱셈을 이용한다.)"
   ]
  },
  {
   "cell_type": "code",
   "execution_count": 22,
   "metadata": {},
   "outputs": [
    {
     "data": {
      "text/plain": [
       "(1797,)"
      ]
     },
     "execution_count": 22,
     "metadata": {},
     "output_type": "execute_result"
    }
   ],
   "source": [
    "from sklearn.datasets import load_digits\n",
    "X = load_digits().data\n",
    "#1\n",
    "X[0].T @ X [10]\n",
    "(X@X.T)[0]"
   ]
  },
  {
   "cell_type": "markdown",
   "metadata": {
    "school_cell_uuid": "c4d6d061e86a44c68d1a39237945c38f"
   },
   "source": [
    "### 선형회귀 모형"
   ]
  },
  {
   "cell_type": "markdown",
   "metadata": {
    "school_cell_uuid": "595f0dc2b2314a90a34580b11b978bd4"
   },
   "source": [
    "**선형회귀 모형(linear regression model)**이란 독립변수 $x$에서 종속변수 $y$를 예측하는 방법의 하나로 독립변수 벡터 $x$와 가중치 벡터 $w$와의 가중합으로 ${y}$에 대한 예측값 $\\hat{y}$를 계산하는 수식을 말한다.\n",
    "\n",
    "$$ \n",
    "\\begin{align}\n",
    "\\hat{y} = w_1 x_1 + \\cdots + w_N x_N\n",
    "\\tag{2.2.33}\n",
    "\\end{align}\n",
    "$$\n",
    "\n",
    "이 수식에서  기호 `^`는 \"캐럿(caret)\"이라는 기호이다. $\\hat{y}$는 \"와이 햇(y hat)\"이라고 읽는다.\n",
    "\n",
    "이 수식은 다음처럼 벡터의 내적으로 나타낼 수 있다.\n",
    "\n",
    "$$ \n",
    "\\begin{align}\n",
    "\\hat{y} = w^Tx\n",
    "\\tag{2.2.34}\n",
    "\\end{align}\n",
    "$$\n",
    "\n",
    "선형회귀 모형은 가장 단순하면서도 가장 널리 쓰이는 예측 모형이다.\n",
    "\n",
    "예를 들어 어떤 아파트 단지의 아파트 가격을 조사하였더니 아파트 가격은 (1)면적, (2)층수, (3)한강이 보이는지의 여부, 즉 이 세 가지 특징에 의해 달라진다는 사실을 알게 되었다. 이때 이 단지 내의 아파트 가격을 예측하는 예측 모형을 다음과 같이 만들 수 있다.\n",
    "\n",
    "* 면적($m^2$)을 입력 데이터 $x_1$라고 한다.\n",
    "* 층수를 입력 데이터 $x_2$라고 한다\n",
    "* 한강이 보이는지의 여부를 입력 데이터 $x_3$라고 하며 한강이 보이면 $x_3 = 1$, 보이지 않으면 $x_3 = 0$이라고 한다.\n",
    "* 출력 데이터 $\\hat{y}$는 해당 아파트의 예측 가격이다. \n",
    "\n",
    "위와 같이 입력 데이터와 출력 데이터를 정의하고 회귀분석을 한 결과, 아파트값이 다음과 같은 선형회귀 모형으로 나타난다고 가정하자. 이러한 모형을 실제로 찾는 방법은 나중에 회귀분석 파트에서 공부하게 된다.\n",
    "\n",
    "$$ \n",
    "\\begin{align}\n",
    "\\hat{y} = 500 x_1 + 200 x_2 + 1000 x_3 \n",
    "\\tag{2.2.35}\n",
    "\\end{align}\n",
    "$$\n",
    "\n",
    "이 모형은 다음과 같이 해석할 수 있다.\n",
    "\n",
    "* 면적이 1$m^2$ 증가할수록 가격은 500만 원이 증가한다.\n",
    "* 층수가 1층 높아질수록 가격은 200만 원이 증가한다.\n",
    "* 한강이 보이는 집은 1,000만 원의 웃돈(프리미엄)이 존재한다.\n",
    "\n",
    "\n",
    "위 식은 다음과 같이 벡터의 내적으로 고쳐 쓸 수 있다.\n",
    "\n",
    "$$ \n",
    "\\begin{align}\n",
    "\\hat{y} = \\begin{bmatrix} 500 & 200 & 1000 \\end{bmatrix} \\begin{bmatrix} x_1 \\\\ x_2 \\\\ x_3 \\end{bmatrix} = w^T x \n",
    "\\tag{2.2.36}\n",
    "\\end{align}\n",
    "$$\n",
    "\n",
    "즉, 위 선형회귀 모형은 다음 가중치 벡터로 대표된다.\n",
    "\n",
    "$$ \n",
    "\\begin{align}\n",
    "w^T = \\begin{bmatrix} 500 & 200 & 1000 \\end{bmatrix} \n",
    "\\tag{2.2.37}\n",
    "\\end{align}\n",
    "$$\n",
    "\n",
    "인공신경망(artificial neural network)에서는 선형회귀 모형을 다음과 같은 그림으로 표현한다. 데이터는 노드(node) 혹은 뉴런(neuron)이라는 동그라미로 표시하고 곱셈은 선분(line)위에 곱할 숫자를 써서 나타낸다. 덧셈은 여러 개의 선분이 만나는 것으로 표시한다."
   ]
  },
  {
   "cell_type": "markdown",
   "metadata": {
    "school_cell_uuid": "7446c9a2c237400893db4ba4ef6cc752"
   },
   "source": [
    "<img src=\"https://datascienceschool.net/upfiles/8954a46a8379436f9c706ddc2449d3d8.png\">"
   ]
  },
  {
   "cell_type": "markdown",
   "metadata": {
    "school_cell_uuid": "866ee33f4fb541cbb54bde13851fc548",
    "sidetitle": true
   },
   "source": [
    "그림 2.2.1 인공신경망으로 표현한 선형회귀 모형"
   ]
  },
  {
   "cell_type": "markdown",
   "metadata": {
    "school_cell_uuid": "a2207806fdae4b60895e3659b1718578"
   },
   "source": [
    "### 선형회귀 모형의 단점"
   ]
  },
  {
   "cell_type": "markdown",
   "metadata": {
    "school_cell_uuid": "316f17abc53c4622b50671cb9945aaa4"
   },
   "source": [
    "선형회귀 모형은 비선형적인 현실 세계의 데이터를 잘 예측하지 못할 수 있다는 단점이 있다. 예를 들어 집값은 면적에 단순 비례하지 않는다. 소형 면적의 집과 대형 면적의 집은 단위 면적당 집값의 증가율이 다를 수 있다. 또한 저층이 보통 고층보다 집값이 싸지만 층수가 올라갈수록 정확히 층수에 비례하여 가격이 증가하지도 않는다. \n",
    "\n",
    "이러한 현실 세계의 데이터와 선형회귀 모형의 괴리를 줄이기 위해 선형회귀 모형이 아닌 완전히 다른 모형을 쓰기보다는 선형회귀 모형을 기반으로 여러 기법을 사용해  수정한 모형을 사용하는 것이 일반적이다. 이러한 수정 선형회귀 모형에 대해서는 나중에 공부하게 된다."
   ]
  },
  {
   "cell_type": "markdown",
   "metadata": {
    "school_cell_uuid": "a951c1766c65465793c72cdeaab44b80"
   },
   "source": [
    "### 제곱합"
   ]
  },
  {
   "cell_type": "markdown",
   "metadata": {
    "school_cell_uuid": "2f2e0658e9f84e1da0d1c5e53dfbb611"
   },
   "source": [
    "데이터의 분산(variance)이나 표준 편차(standard deviation) 등을 구하는 경우에는 각각의 데이터를 제곱한 뒤 이 값을 모두 더한 **제곱합(sum of squares)**을 계산해야 한다. 이 경우에도 벡터의 내적을 사용하여 $x^Tx$로 쓸 수 있다. \n",
    "\n",
    "$$\n",
    "\\begin{align}\n",
    "x^T x = \n",
    "\\begin{bmatrix}\n",
    "x_{1} & x_{2} & \\cdots & x_{N} \n",
    "\\end{bmatrix}\n",
    "\\begin{bmatrix}\n",
    "x_{1} \\\\\n",
    "x_{2} \\\\\n",
    "\\vdots \\\\\n",
    "x_{N} \\\\\n",
    "\\end{bmatrix} = \\sum_{i=1}^{N} x_i^2\n",
    "\\tag{2.2.38}\n",
    "\\end{align}\n",
    "$$"
   ]
  },
  {
   "cell_type": "markdown",
   "metadata": {
    "school_cell_uuid": "bf5297a19fc5407f85ffc0ee3ed3d7bf"
   },
   "source": [
    "### 행렬과 행렬의 곱셈"
   ]
  },
  {
   "cell_type": "markdown",
   "metadata": {
    "school_cell_uuid": "005cd14a64e844749ff4afb6695ccee0"
   },
   "source": [
    "벡터의 곱셈을 정의한 후에는 이를 이용하여 행렬의 곱셈을 정의할 수 있다. 행렬과 행렬을 곱하면 행렬이 된다. 방법은 다음과 같다.\n",
    "\n",
    "$A$ 행렬과 $B$ 행렬을 곱한 결과가 $C$ 행렬이 된다고 하자.\n",
    "$C$의 $i$번째 행, $j$번째 열의 원소 $c_{ij}$의 값은 $A$ 행렬의 $i$번째 행 벡터 $a_i^T$와 $B$ 행렬의 $j$번째 열 벡터 $b_j$의 곱이다.\n",
    "\n",
    "$$ \n",
    "\\begin{align}\n",
    "C = AB \\; \\rightarrow \\; c_{ij} = a_i^T b_j \n",
    "\\tag{2.2.39}\n",
    "\\end{align}\n",
    "$$\n",
    "\n",
    "이 정의가 성립하려면 앞의 행렬 $A$의 열의 수가 뒤의 행렬 $B$의 행의 수와 일치해야만 한다.\n",
    "\n",
    "$$ \n",
    "\\begin{align}\n",
    "A \\in \\mathbf{R}^{N \\times L} , \\; B \\in \\mathbf{R}^{L \\times M} \\;  \\rightarrow \\; AB \\in \\mathbf{R}^{N \\times M} \n",
    "\\tag{2.2.40}\n",
    "\\end{align}\n",
    "$$\n",
    "\n",
    "다음은 $4 \\times 3$ 행렬과 $3 \\times 2$을 곱하여 $4 \\times 2$을 계산하는 예다.\n",
    "\n",
    "$$\n",
    "\\begin{align}\n",
    "\\begin{bmatrix}\n",
    "a_{11} & a_{12} & a_{13} \\\\\n",
    "a_{21} & a_{22} & a_{23} \\\\\n",
    "a_{31} & a_{32} & a_{33} \\\\\n",
    "a_{41} & a_{42} & a_{43} \\\\\n",
    "\\end{bmatrix}\n",
    "\\begin{bmatrix}\n",
    "{b_{11}} & b_{12} \\\\\n",
    "{b_{21}} & b_{22} \\\\\n",
    "{b_{31}} & b_{32} \\\\    \n",
    "\\end{bmatrix}\n",
    "=\n",
    "\\begin{bmatrix}\n",
    "(a_{11}b_{11} + a_{12}b_{21} + a_{13}b_{31}) & (a_{11}b_{12} + a_{12}b_{22} + a_{13}b_{32}) \\\\\n",
    "(a_{21}b_{11} + a_{22}b_{21} + a_{23}b_{31}) & (a_{21}b_{12} + a_{22}b_{22} + a_{23}b_{32}) \\\\\n",
    "(a_{31}b_{11} + a_{32}b_{21} + a_{33}b_{31}) & (a_{31}b_{12} + a_{32}b_{22} + a_{33}b_{32}) \\\\\n",
    "(a_{41}b_{11} + a_{42}b_{21} + a_{43}b_{31}) & (a_{41}b_{12} + a_{42}b_{22} + a_{43}b_{32}) \\\\\n",
    "\\end{bmatrix}\n",
    "\\tag{2.2.41}\n",
    "\\end{align}\n",
    "$$\n",
    "\n",
    "다음은 실제 행렬을 사용한 곱셈의 예다.\n",
    "\n",
    "$$\n",
    "\\begin{align}\n",
    "A = \\begin{bmatrix} 1 & 2 & 3 \\\\ 4 & 5 & 6 \\end{bmatrix}\n",
    "\\tag{2.2.42}\n",
    "\\end{align}\n",
    "$$\n",
    "\n",
    "$$\n",
    "\\begin{align}\n",
    "B = \\begin{bmatrix} 1 & 2 \\\\ 3 & 4 \\\\ 5 & 6 \\end{bmatrix}\n",
    "\\tag{2.2.43}\n",
    "\\end{align}\n",
    "$$\n",
    "\n",
    "$$\n",
    "\\begin{align}\n",
    "C = AB = \\begin{bmatrix} 22 & 28 \\\\ 49 & 64 \\end{bmatrix}\n",
    "\\tag{2.2.44}\n",
    "\\end{align}\n",
    "$$\n",
    "\n",
    "넘파이를 이용하여 행렬의 곱을 구할 때도 `@` 연산자 또는 `dot()` 명령을 사용한다."
   ]
  },
  {
   "cell_type": "code",
   "execution_count": 23,
   "metadata": {
    "school_cell_uuid": "033c3d5d623f4f2281734a26fcb16a05"
   },
   "outputs": [
    {
     "data": {
      "text/plain": [
       "array([[22, 28],\n",
       "       [49, 64]])"
      ]
     },
     "execution_count": 23,
     "metadata": {},
     "output_type": "execute_result"
    }
   ],
   "source": [
    "A = np.array([[1, 2, 3], [4, 5, 6]])\n",
    "B = np.array([[1, 2], [3, 4], [5, 6]])\n",
    "C = A @ B\n",
    "C"
   ]
  },
  {
   "cell_type": "markdown",
   "metadata": {
    "bootstrap": {
     "panel": {
      "class": "panel-default"
     }
    },
    "school_cell_uuid": "6c189202c6694fb2a74a8a9d64b37b94"
   },
   "source": [
    "#### 연습 문제 2.2.4\n",
    "\n",
    "(1) $A$와 $B$가 위와 같을 때 $AB$를 연습장에 손으로 계산하고 넘파이의 계산 결과와 맞는지 확인한다.\n",
    "\n",
    "\n",
    "(2) 순서를 바꾸어 $BA$를 손으로 계산하고 넘파이의 계산 결과와 맞는지 확인한다. $BA$가 $AB$와 같은가?\n",
    "\n",
    "\n",
    "(3) $A$, $B$가 다음과 같을 때, $AB$, $BA$를 (계산이 가능하다면) 손으로 계산하고 넘파이의 계산 결과와 맞는지 확인한다. $AB$, $BA$ 모두 계산 가능한가?\n",
    "\n",
    "\n",
    "$$\n",
    "\\begin{align}\n",
    "A = \\begin{bmatrix} 1 & 2 & 3 \\end{bmatrix}\n",
    "\\tag{2.2.45}\n",
    "\\end{align}\n",
    "$$\n",
    "\n",
    "$$\n",
    "\\begin{align}\n",
    "B = \\begin{bmatrix} 4 & 7 \\\\ 5 & 8 \\\\ 6 & 9 \\end{bmatrix}\n",
    "\\tag{2.2.46}\n",
    "\\end{align}\n",
    "$$\n",
    "\n",
    "\n",
    "(4) $A$, $B$가 다음과 같을 때, $AB$, $BA$를 (계산이 가능하다면) 손으로 계산하고 넘파이의 계산 결과와 맞는지 확인한다. $AB$, $BA$ 모두 계산 가능한가? $BA$의 결과가 $AB$와 같은가?\n",
    "\n",
    "$$\n",
    "\\begin{align}\n",
    "A = \\begin{bmatrix} 1 & 2 \\\\ 3 & 4 \\end{bmatrix}\n",
    "\\tag{2.2.47}\n",
    "\\end{align}\n",
    "$$\n",
    "\n",
    "$$\n",
    "\\begin{align}\n",
    "B = \\begin{bmatrix} 5 & 6 \\\\ 7 & 8 \\end{bmatrix}\n",
    "\\tag{2.2.48}\n",
    "\\end{align}\n",
    "$$\n",
    "\n",
    "\n",
    "(5) $A$가 다음과 같을 때, $AA^T$와 $A^TA$를 손으로 계산하고 넘파이의 계산 결과와 맞는지 확인한다. $AA^T$와 $A^TA$의 크기는 어떠한가? 항상 정방행렬이 되는가?\n",
    "\n",
    "$$\n",
    "\\begin{align}\n",
    "A = \\begin{bmatrix} 1 & 2 \\\\ 3 & 4 \\\\ 5 & 6 \\end{bmatrix}\n",
    "\\tag{2.2.49}\n",
    "\\end{align}\n",
    "$$\n",
    "\n",
    "\n",
    "(6) $x$가 다음과 같을 때, $x^Tx$와 $xx^T$를 손으로 계산하고 넘파이의 계산 결과와 맞는지 확인한다. $x^Tx$와 $xx^T$의 크기는 어떠한가? 어떤 것이 스칼라이고 어떤 것이 정방행렬인가?\n",
    "\n",
    "$$\n",
    "\\begin{align}\n",
    "x = \\begin{bmatrix} 1 \\\\ 2 \\\\ 3 \\end{bmatrix}\n",
    "\\tag{2.2.50}\n",
    "\\end{align}\n",
    "$$"
   ]
  },
  {
   "cell_type": "markdown",
   "metadata": {
    "school_cell_uuid": "8e5f442a680c4e9b92e16b65b935244d"
   },
   "source": [
    "인공 신경망은 내부적으로 다음과 같이 여러 개의 선형회귀 모형을 사용한다. 이 구조는 행렬과 벡터의 곱으로 나타낼 수 있다."
   ]
  },
  {
   "cell_type": "markdown",
   "metadata": {
    "school_cell_uuid": "78570c493a104e248605f3afd56ab83b"
   },
   "source": [
    "<img src=\"https://datascienceschool.net/upfiles/afd3c5ff87384687930fbfa4f6e9fcfb.png\">"
   ]
  },
  {
   "cell_type": "markdown",
   "metadata": {
    "school_cell_uuid": "0300f4b1b4e24480bc16fa69458becbd",
    "sidetitle": true
   },
   "source": [
    "그림 2.2.2 인공신경망의 기본 구조"
   ]
  },
  {
   "cell_type": "markdown",
   "metadata": {
    "school_cell_uuid": "2e13af0dac144f23be797f51fb9d72e1"
   },
   "source": [
    "위 그림을 행렬식으로 표현하면 다음과 같다.\n",
    "\n",
    "$$\n",
    "\\begin{align}\n",
    "\\begin{bmatrix}\n",
    "\\hat{y}_{1} \\\\\n",
    "\\hat{y}_{2} \\\\\n",
    "\\end{bmatrix}\n",
    "=\n",
    "\\begin{bmatrix}\n",
    "w_{11} & w_{12} & w_{13} \\\\\n",
    "w_{21} & w_{22} & w_{23} \\\\\n",
    "\\end{bmatrix}\n",
    "\\begin{bmatrix}\n",
    "x_{1} \\\\\n",
    "x_{2} \\\\\n",
    "x_{3} \\\\    \n",
    "\\end{bmatrix}\n",
    "\\tag{2.2.51}\n",
    "\\end{align}\n",
    "$$\n",
    "\n",
    "$$ \n",
    "\\begin{align}\n",
    "\\hat{y} = Wx \n",
    "\\tag{2.2.52}\n",
    "\\end{align}\n",
    "$$"
   ]
  },
  {
   "cell_type": "markdown",
   "metadata": {
    "school_cell_uuid": "a9d127913d974a0592f63340336b1ad8"
   },
   "source": [
    "### 교환 법칙과 분배 법칙"
   ]
  },
  {
   "cell_type": "markdown",
   "metadata": {
    "school_cell_uuid": "9e6d469db699456a97a81171ce73befe"
   },
   "source": [
    "행렬의 곱셈은 곱하는 행렬의 순서를 바꾸는 교환 법칙이 성립하지 않는다. 그러나 덧셈에 대한 분배 법칙은 성립한다. \n",
    "\n",
    "$$ \n",
    "\\begin{align}\n",
    "AB \\neq BA  \n",
    "\\tag{2.2.53}\n",
    "\\end{align}\n",
    "$$\n",
    "\n",
    "$$ \n",
    "\\begin{align}\n",
    "A(B + C) = AB + AC  \n",
    "\\tag{2.2.54}\n",
    "\\end{align}\n",
    "$$\n",
    "\n",
    "$$ \n",
    "\\begin{align}\n",
    "(A + B)C = AC + BC  \n",
    "\\tag{2.2.55}\n",
    "\\end{align}\n",
    "$$\n",
    "\n",
    "\n",
    "$A$, $B$, $C$가 다음과 같을 때 위 법칙을 넘파이로 살펴보자.\n",
    "\n",
    "$$\n",
    "\\begin{align}\n",
    "A = \\begin{bmatrix} 1 & 2 \\\\ 3 & 4 \\end{bmatrix}\n",
    "\\tag{2.2.56}\n",
    "\\end{align}\n",
    "$$\n",
    "\n",
    "$$\n",
    "\\begin{align}\n",
    "B = \\begin{bmatrix} 5 & 6 \\\\ 7 & 8 \\end{bmatrix}\n",
    "\\tag{2.2.57}\n",
    "\\end{align}\n",
    "$$\n",
    "\n",
    "$$\n",
    "\\begin{align}\n",
    "C = \\begin{bmatrix} 9 & 8 \\\\ 7 & 6 \\end{bmatrix}\n",
    "\\tag{2.2.58}\n",
    "\\end{align}\n",
    "$$"
   ]
  },
  {
   "cell_type": "code",
   "execution_count": 14,
   "metadata": {
    "school_cell_uuid": "d25bcd642e3f44ffb8d2a0204178e8bd"
   },
   "outputs": [],
   "source": [
    "A = np.array([[1, 2], [3, 4]])\n",
    "B = np.array([[5, 6], [7, 8]])\n",
    "C = np.array([[9, 8], [7, 6]])"
   ]
  },
  {
   "cell_type": "markdown",
   "metadata": {
    "school_cell_uuid": "8199e602364f46c2855d5776c470e3f1"
   },
   "source": [
    "$AB$ 와 $BA$의 값은 다음처럼 다른 값이 나오므로 교환법칙이 성립하지 않음을 알 수 있다."
   ]
  },
  {
   "cell_type": "code",
   "execution_count": 15,
   "metadata": {
    "school_cell_uuid": "ebb8617ba85c4991801f2740812863c0"
   },
   "outputs": [
    {
     "data": {
      "text/plain": [
       "array([[19, 22],\n",
       "       [43, 50]])"
      ]
     },
     "execution_count": 15,
     "metadata": {},
     "output_type": "execute_result"
    }
   ],
   "source": [
    "A @ B"
   ]
  },
  {
   "cell_type": "code",
   "execution_count": 16,
   "metadata": {
    "school_cell_uuid": "5079373744e9465d86d4023b1296ebd9"
   },
   "outputs": [
    {
     "data": {
      "text/plain": [
       "array([[23, 34],\n",
       "       [31, 46]])"
      ]
     },
     "execution_count": 16,
     "metadata": {},
     "output_type": "execute_result"
    }
   ],
   "source": [
    "B @ A"
   ]
  },
  {
   "cell_type": "markdown",
   "metadata": {
    "school_cell_uuid": "c99ddcd80a574a178a0f5b7d97acbdab"
   },
   "source": [
    "분배법칙은 다음과 같이 성립한다."
   ]
  },
  {
   "cell_type": "code",
   "execution_count": 17,
   "metadata": {
    "school_cell_uuid": "d6520268f4b94bc482d1ef67b339cf1a"
   },
   "outputs": [
    {
     "data": {
      "text/plain": [
       "array([[42, 42],\n",
       "       [98, 98]])"
      ]
     },
     "execution_count": 17,
     "metadata": {},
     "output_type": "execute_result"
    }
   ],
   "source": [
    "A @ (B + C)"
   ]
  },
  {
   "cell_type": "code",
   "execution_count": 18,
   "metadata": {
    "school_cell_uuid": "28202dffaf484682912e5d0f5374df7e"
   },
   "outputs": [
    {
     "data": {
      "text/plain": [
       "array([[42, 42],\n",
       "       [98, 98]])"
      ]
     },
     "execution_count": 18,
     "metadata": {},
     "output_type": "execute_result"
    }
   ],
   "source": [
    "A @ B + A @ C"
   ]
  },
  {
   "cell_type": "code",
   "execution_count": 19,
   "metadata": {
    "school_cell_uuid": "f8a3cc88563a46eeae79b76b0fd3ca7d"
   },
   "outputs": [
    {
     "data": {
      "text/plain": [
       "array([[110,  96],\n",
       "       [174, 152]])"
      ]
     },
     "execution_count": 19,
     "metadata": {},
     "output_type": "execute_result"
    }
   ],
   "source": [
    "(A + B) @ C"
   ]
  },
  {
   "cell_type": "code",
   "execution_count": 20,
   "metadata": {
    "school_cell_uuid": "9dcf9c2e95524055be02983569850051"
   },
   "outputs": [
    {
     "data": {
      "text/plain": [
       "array([[110,  96],\n",
       "       [174, 152]])"
      ]
     },
     "execution_count": 20,
     "metadata": {},
     "output_type": "execute_result"
    }
   ],
   "source": [
    "A @ C + B @ C"
   ]
  },
  {
   "cell_type": "markdown",
   "metadata": {
    "school_cell_uuid": "3690f8ff6b2243198c5e582d8e75edbe"
   },
   "source": [
    "전치 연산도 마찬가지로 덧셈/뺄셈에 대해 분배 법칙이 성립한다.\n",
    "\n",
    "$$ \n",
    "\\begin{align}\n",
    "(A + B)^T = A^T + B^T  \n",
    "\\tag{2.2.59}\n",
    "\\end{align}\n",
    "$$\n",
    "\n",
    "전치 연산과 곱셈의 경우에는 분배 법칙이 성립하기는 하지만 전치 연산이 분배되면서 곱셈의 순서가 바뀐다. \n",
    "\n",
    "$$ \n",
    "\\begin{align}\n",
    "(AB)^T = B^T A^T  \n",
    "\\tag{2.2.60}\n",
    "\\end{align}\n",
    "$$\n",
    "\n",
    "$$ \n",
    "\\begin{align}\n",
    "(ABC)^T = C^T B^T A^T \n",
    "\\tag{2.2.61}\n",
    "\\end{align}\n",
    "$$\n",
    "\n",
    "마찬가지로 넘파이로 위 법칙이 성립하는지 살펴보자."
   ]
  },
  {
   "cell_type": "code",
   "execution_count": 21,
   "metadata": {
    "school_cell_uuid": "17fae61493ce4c869f595b3ead04e55c"
   },
   "outputs": [
    {
     "data": {
      "text/plain": [
       "array([[ 6, 10],\n",
       "       [ 8, 12]])"
      ]
     },
     "execution_count": 21,
     "metadata": {},
     "output_type": "execute_result"
    }
   ],
   "source": [
    "(A + B).T"
   ]
  },
  {
   "cell_type": "code",
   "execution_count": 22,
   "metadata": {
    "school_cell_uuid": "8df01370120444d89a7729795b1703a3"
   },
   "outputs": [
    {
     "data": {
      "text/plain": [
       "array([[ 6, 10],\n",
       "       [ 8, 12]])"
      ]
     },
     "execution_count": 22,
     "metadata": {},
     "output_type": "execute_result"
    }
   ],
   "source": [
    "A.T + B.T"
   ]
  },
  {
   "cell_type": "code",
   "execution_count": 23,
   "metadata": {
    "school_cell_uuid": "44f8288651484c5fb5f9458eba4dc2de"
   },
   "outputs": [
    {
     "data": {
      "text/plain": [
       "array([[19, 43],\n",
       "       [22, 50]])"
      ]
     },
     "execution_count": 23,
     "metadata": {},
     "output_type": "execute_result"
    }
   ],
   "source": [
    "(A @ B).T"
   ]
  },
  {
   "cell_type": "code",
   "execution_count": 24,
   "metadata": {
    "school_cell_uuid": "0032d439a56b4b7885f5c7dabd48b26e"
   },
   "outputs": [
    {
     "data": {
      "text/plain": [
       "array([[19, 43],\n",
       "       [22, 50]])"
      ]
     },
     "execution_count": 24,
     "metadata": {},
     "output_type": "execute_result"
    }
   ],
   "source": [
    "B.T @ A.T"
   ]
  },
  {
   "cell_type": "markdown",
   "metadata": {
    "bootstrap": {
     "panel": {
      "class": "panel-default"
     }
    },
    "school_cell_uuid": "927d98a745274add926262b6c357fe40"
   },
   "source": [
    "#### 연습 문제 2.2.5\n",
    "\n",
    "(1) 길이가 같은 일벡터 $1_N \\in \\mathbf{R}^N$와 행벡터 $x \\in \\mathbf{R}^N$의 곱은 행벡터 $x$를 반복하여 가지는 행렬과 같음을 보여라.\n",
    "\n",
    "$$\n",
    "\\begin{align}\n",
    "\\mathbf{1}_N^{} x^T\n",
    "=\n",
    "\\begin{bmatrix}\n",
    "{x}^T \\\\\n",
    "{x}^T \\\\\n",
    "\\vdots    \\\\\n",
    "{x}^T \\\\\n",
    "\\end{bmatrix}\n",
    "\\tag{2.2.62}\n",
    "\\end{align}\n",
    "$$\n",
    "\n",
    "(2) 행렬 $X \\,( X \\in \\mathbf{R}^{N \\times M})$가 있을 때, 이 행렬의 각 열의 평균으로 이루어진 벡터 $\\bar{x}\\,( \\bar{x} \\in \\mathbf{R}^{M})$가 다음과 같음을 보여라.\n",
    "\n",
    "$$ \n",
    "\\begin{align}\n",
    "\\bar{x} = \\dfrac{1}{N} X^T \\mathbf{1}_N  \n",
    "\\tag{2.2.63}\n",
    "\\end{align}\n",
    "$$\n",
    "\n",
    "(3) 행렬 $\\bar{X}\\ ( \\bar{X} \\in \\mathbf{R}^{N \\times M})$는 동일한 벡터 $\\bar{x}^T$를 $N$개 누적하여 만든 행렬이다. 즉 각 열의 모든 값이 그 열의 평균으로 이루어진 행렬이다.\n",
    "\n",
    "$$\n",
    "\\begin{align}\n",
    "\\bar{X} =\n",
    "\\begin{bmatrix}\n",
    "\\bar{x}^T \\\\\n",
    "\\bar{x}^T \\\\\n",
    "\\vdots\\\\\n",
    "\\bar{x}^T \\\\\n",
    "\\end{bmatrix}\n",
    "\\tag{2.2.64}\n",
    "\\end{align}\n",
    "$$\n",
    "\n",
    "이때 $\\bar{X}$가 다음과 같음을 보여라.\n",
    "\n",
    "$$ \n",
    "\\begin{align}\n",
    "\\bar{X} = \\dfrac{1}{N} \\mathbf{1}_N^{} \\mathbf{1}_N^T X \n",
    "\\tag{2.2.65}\n",
    "\\end{align}\n",
    "$$\n",
    "\n",
    "(4) 다음 코드를 실행하면 붓꽃 전체 데이터를 모두 벡터로 변환하여 하나의 넘파이 행렬  X 를 만든다. \n",
    "\n",
    "```\n",
    "from sklearn.datasets import load_iris\n",
    "X = load_iris().data\n",
    "```\n",
    "이 데이터로 행렬 $\\bar{X}$의 값을 계산하라. 이 행렬은 첫 번째 열의 값이 모두 같은 값으로 붓꽃의 꽃받침의 길이(sepal length)의 평균이고 두 번째 열의 값이 모두 같은 값으로 붓꽃의 꽃받침의 폭(sepal width)의 평균,  이런 식으로 계산된 행렬이다."
   ]
  },
  {
   "cell_type": "code",
   "execution_count": 30,
   "metadata": {},
   "outputs": [
    {
     "name": "stdout",
     "output_type": "stream",
     "text": [
      "(150, 4)\n"
     ]
    },
    {
     "data": {
      "text/plain": [
       "array([[5.84333333, 3.05733333, 3.758     , 1.19933333],\n",
       "       [5.84333333, 3.05733333, 3.758     , 1.19933333],\n",
       "       [5.84333333, 3.05733333, 3.758     , 1.19933333],\n",
       "       [5.84333333, 3.05733333, 3.758     , 1.19933333],\n",
       "       [5.84333333, 3.05733333, 3.758     , 1.19933333],\n",
       "       [5.84333333, 3.05733333, 3.758     , 1.19933333],\n",
       "       [5.84333333, 3.05733333, 3.758     , 1.19933333],\n",
       "       [5.84333333, 3.05733333, 3.758     , 1.19933333],\n",
       "       [5.84333333, 3.05733333, 3.758     , 1.19933333],\n",
       "       [5.84333333, 3.05733333, 3.758     , 1.19933333],\n",
       "       [5.84333333, 3.05733333, 3.758     , 1.19933333],\n",
       "       [5.84333333, 3.05733333, 3.758     , 1.19933333],\n",
       "       [5.84333333, 3.05733333, 3.758     , 1.19933333],\n",
       "       [5.84333333, 3.05733333, 3.758     , 1.19933333],\n",
       "       [5.84333333, 3.05733333, 3.758     , 1.19933333],\n",
       "       [5.84333333, 3.05733333, 3.758     , 1.19933333],\n",
       "       [5.84333333, 3.05733333, 3.758     , 1.19933333],\n",
       "       [5.84333333, 3.05733333, 3.758     , 1.19933333],\n",
       "       [5.84333333, 3.05733333, 3.758     , 1.19933333],\n",
       "       [5.84333333, 3.05733333, 3.758     , 1.19933333],\n",
       "       [5.84333333, 3.05733333, 3.758     , 1.19933333],\n",
       "       [5.84333333, 3.05733333, 3.758     , 1.19933333],\n",
       "       [5.84333333, 3.05733333, 3.758     , 1.19933333],\n",
       "       [5.84333333, 3.05733333, 3.758     , 1.19933333],\n",
       "       [5.84333333, 3.05733333, 3.758     , 1.19933333],\n",
       "       [5.84333333, 3.05733333, 3.758     , 1.19933333],\n",
       "       [5.84333333, 3.05733333, 3.758     , 1.19933333],\n",
       "       [5.84333333, 3.05733333, 3.758     , 1.19933333],\n",
       "       [5.84333333, 3.05733333, 3.758     , 1.19933333],\n",
       "       [5.84333333, 3.05733333, 3.758     , 1.19933333],\n",
       "       [5.84333333, 3.05733333, 3.758     , 1.19933333],\n",
       "       [5.84333333, 3.05733333, 3.758     , 1.19933333],\n",
       "       [5.84333333, 3.05733333, 3.758     , 1.19933333],\n",
       "       [5.84333333, 3.05733333, 3.758     , 1.19933333],\n",
       "       [5.84333333, 3.05733333, 3.758     , 1.19933333],\n",
       "       [5.84333333, 3.05733333, 3.758     , 1.19933333],\n",
       "       [5.84333333, 3.05733333, 3.758     , 1.19933333],\n",
       "       [5.84333333, 3.05733333, 3.758     , 1.19933333],\n",
       "       [5.84333333, 3.05733333, 3.758     , 1.19933333],\n",
       "       [5.84333333, 3.05733333, 3.758     , 1.19933333],\n",
       "       [5.84333333, 3.05733333, 3.758     , 1.19933333],\n",
       "       [5.84333333, 3.05733333, 3.758     , 1.19933333],\n",
       "       [5.84333333, 3.05733333, 3.758     , 1.19933333],\n",
       "       [5.84333333, 3.05733333, 3.758     , 1.19933333],\n",
       "       [5.84333333, 3.05733333, 3.758     , 1.19933333],\n",
       "       [5.84333333, 3.05733333, 3.758     , 1.19933333],\n",
       "       [5.84333333, 3.05733333, 3.758     , 1.19933333],\n",
       "       [5.84333333, 3.05733333, 3.758     , 1.19933333],\n",
       "       [5.84333333, 3.05733333, 3.758     , 1.19933333],\n",
       "       [5.84333333, 3.05733333, 3.758     , 1.19933333],\n",
       "       [5.84333333, 3.05733333, 3.758     , 1.19933333],\n",
       "       [5.84333333, 3.05733333, 3.758     , 1.19933333],\n",
       "       [5.84333333, 3.05733333, 3.758     , 1.19933333],\n",
       "       [5.84333333, 3.05733333, 3.758     , 1.19933333],\n",
       "       [5.84333333, 3.05733333, 3.758     , 1.19933333],\n",
       "       [5.84333333, 3.05733333, 3.758     , 1.19933333],\n",
       "       [5.84333333, 3.05733333, 3.758     , 1.19933333],\n",
       "       [5.84333333, 3.05733333, 3.758     , 1.19933333],\n",
       "       [5.84333333, 3.05733333, 3.758     , 1.19933333],\n",
       "       [5.84333333, 3.05733333, 3.758     , 1.19933333],\n",
       "       [5.84333333, 3.05733333, 3.758     , 1.19933333],\n",
       "       [5.84333333, 3.05733333, 3.758     , 1.19933333],\n",
       "       [5.84333333, 3.05733333, 3.758     , 1.19933333],\n",
       "       [5.84333333, 3.05733333, 3.758     , 1.19933333],\n",
       "       [5.84333333, 3.05733333, 3.758     , 1.19933333],\n",
       "       [5.84333333, 3.05733333, 3.758     , 1.19933333],\n",
       "       [5.84333333, 3.05733333, 3.758     , 1.19933333],\n",
       "       [5.84333333, 3.05733333, 3.758     , 1.19933333],\n",
       "       [5.84333333, 3.05733333, 3.758     , 1.19933333],\n",
       "       [5.84333333, 3.05733333, 3.758     , 1.19933333],\n",
       "       [5.84333333, 3.05733333, 3.758     , 1.19933333],\n",
       "       [5.84333333, 3.05733333, 3.758     , 1.19933333],\n",
       "       [5.84333333, 3.05733333, 3.758     , 1.19933333],\n",
       "       [5.84333333, 3.05733333, 3.758     , 1.19933333],\n",
       "       [5.84333333, 3.05733333, 3.758     , 1.19933333],\n",
       "       [5.84333333, 3.05733333, 3.758     , 1.19933333],\n",
       "       [5.84333333, 3.05733333, 3.758     , 1.19933333],\n",
       "       [5.84333333, 3.05733333, 3.758     , 1.19933333],\n",
       "       [5.84333333, 3.05733333, 3.758     , 1.19933333],\n",
       "       [5.84333333, 3.05733333, 3.758     , 1.19933333],\n",
       "       [5.84333333, 3.05733333, 3.758     , 1.19933333],\n",
       "       [5.84333333, 3.05733333, 3.758     , 1.19933333],\n",
       "       [5.84333333, 3.05733333, 3.758     , 1.19933333],\n",
       "       [5.84333333, 3.05733333, 3.758     , 1.19933333],\n",
       "       [5.84333333, 3.05733333, 3.758     , 1.19933333],\n",
       "       [5.84333333, 3.05733333, 3.758     , 1.19933333],\n",
       "       [5.84333333, 3.05733333, 3.758     , 1.19933333],\n",
       "       [5.84333333, 3.05733333, 3.758     , 1.19933333],\n",
       "       [5.84333333, 3.05733333, 3.758     , 1.19933333],\n",
       "       [5.84333333, 3.05733333, 3.758     , 1.19933333],\n",
       "       [5.84333333, 3.05733333, 3.758     , 1.19933333],\n",
       "       [5.84333333, 3.05733333, 3.758     , 1.19933333],\n",
       "       [5.84333333, 3.05733333, 3.758     , 1.19933333],\n",
       "       [5.84333333, 3.05733333, 3.758     , 1.19933333],\n",
       "       [5.84333333, 3.05733333, 3.758     , 1.19933333],\n",
       "       [5.84333333, 3.05733333, 3.758     , 1.19933333],\n",
       "       [5.84333333, 3.05733333, 3.758     , 1.19933333],\n",
       "       [5.84333333, 3.05733333, 3.758     , 1.19933333],\n",
       "       [5.84333333, 3.05733333, 3.758     , 1.19933333],\n",
       "       [5.84333333, 3.05733333, 3.758     , 1.19933333],\n",
       "       [5.84333333, 3.05733333, 3.758     , 1.19933333],\n",
       "       [5.84333333, 3.05733333, 3.758     , 1.19933333],\n",
       "       [5.84333333, 3.05733333, 3.758     , 1.19933333],\n",
       "       [5.84333333, 3.05733333, 3.758     , 1.19933333],\n",
       "       [5.84333333, 3.05733333, 3.758     , 1.19933333],\n",
       "       [5.84333333, 3.05733333, 3.758     , 1.19933333],\n",
       "       [5.84333333, 3.05733333, 3.758     , 1.19933333],\n",
       "       [5.84333333, 3.05733333, 3.758     , 1.19933333],\n",
       "       [5.84333333, 3.05733333, 3.758     , 1.19933333],\n",
       "       [5.84333333, 3.05733333, 3.758     , 1.19933333],\n",
       "       [5.84333333, 3.05733333, 3.758     , 1.19933333],\n",
       "       [5.84333333, 3.05733333, 3.758     , 1.19933333],\n",
       "       [5.84333333, 3.05733333, 3.758     , 1.19933333],\n",
       "       [5.84333333, 3.05733333, 3.758     , 1.19933333],\n",
       "       [5.84333333, 3.05733333, 3.758     , 1.19933333],\n",
       "       [5.84333333, 3.05733333, 3.758     , 1.19933333],\n",
       "       [5.84333333, 3.05733333, 3.758     , 1.19933333],\n",
       "       [5.84333333, 3.05733333, 3.758     , 1.19933333],\n",
       "       [5.84333333, 3.05733333, 3.758     , 1.19933333],\n",
       "       [5.84333333, 3.05733333, 3.758     , 1.19933333],\n",
       "       [5.84333333, 3.05733333, 3.758     , 1.19933333],\n",
       "       [5.84333333, 3.05733333, 3.758     , 1.19933333],\n",
       "       [5.84333333, 3.05733333, 3.758     , 1.19933333],\n",
       "       [5.84333333, 3.05733333, 3.758     , 1.19933333],\n",
       "       [5.84333333, 3.05733333, 3.758     , 1.19933333],\n",
       "       [5.84333333, 3.05733333, 3.758     , 1.19933333],\n",
       "       [5.84333333, 3.05733333, 3.758     , 1.19933333],\n",
       "       [5.84333333, 3.05733333, 3.758     , 1.19933333],\n",
       "       [5.84333333, 3.05733333, 3.758     , 1.19933333],\n",
       "       [5.84333333, 3.05733333, 3.758     , 1.19933333],\n",
       "       [5.84333333, 3.05733333, 3.758     , 1.19933333],\n",
       "       [5.84333333, 3.05733333, 3.758     , 1.19933333],\n",
       "       [5.84333333, 3.05733333, 3.758     , 1.19933333],\n",
       "       [5.84333333, 3.05733333, 3.758     , 1.19933333],\n",
       "       [5.84333333, 3.05733333, 3.758     , 1.19933333],\n",
       "       [5.84333333, 3.05733333, 3.758     , 1.19933333],\n",
       "       [5.84333333, 3.05733333, 3.758     , 1.19933333],\n",
       "       [5.84333333, 3.05733333, 3.758     , 1.19933333],\n",
       "       [5.84333333, 3.05733333, 3.758     , 1.19933333],\n",
       "       [5.84333333, 3.05733333, 3.758     , 1.19933333],\n",
       "       [5.84333333, 3.05733333, 3.758     , 1.19933333],\n",
       "       [5.84333333, 3.05733333, 3.758     , 1.19933333],\n",
       "       [5.84333333, 3.05733333, 3.758     , 1.19933333],\n",
       "       [5.84333333, 3.05733333, 3.758     , 1.19933333],\n",
       "       [5.84333333, 3.05733333, 3.758     , 1.19933333],\n",
       "       [5.84333333, 3.05733333, 3.758     , 1.19933333],\n",
       "       [5.84333333, 3.05733333, 3.758     , 1.19933333],\n",
       "       [5.84333333, 3.05733333, 3.758     , 1.19933333],\n",
       "       [5.84333333, 3.05733333, 3.758     , 1.19933333],\n",
       "       [5.84333333, 3.05733333, 3.758     , 1.19933333]])"
      ]
     },
     "execution_count": 30,
     "metadata": {},
     "output_type": "execute_result"
    }
   ],
   "source": [
    "from sklearn.datasets import load_iris\n",
    "X = load_iris().data\n",
    "print(X.shape)\n",
    "one = np.ones((150,150))\n",
    "A = (one @ X) / 150\n",
    "A"
   ]
  },
  {
   "cell_type": "markdown",
   "metadata": {
    "school_cell_uuid": "5bd80d34dcf24d6b8e52be8e2c6f51a9"
   },
   "source": [
    "### 곱셈의 연결"
   ]
  },
  {
   "cell_type": "markdown",
   "metadata": {
    "school_cell_uuid": "56c42aadf7d74f5f8bfc15eaea591a63"
   },
   "source": [
    "연속된 행렬의 곱셈은 계산 순서를 임의의 순서로 해도 상관없다.\n",
    "\n",
    "$$ \n",
    "\\begin{align}\n",
    "ABC = (AB)C = A(BC)  \n",
    "\\tag{2.2.66}\n",
    "\\end{align}\n",
    "$$\n",
    "\n",
    "$$ \n",
    "\\begin{align}\n",
    "ABCD = ((AB)C)D = (AB)(CD) = A(BCD) = A(BC)D  \n",
    "\\tag{2.2.67}\n",
    "\\end{align}\n",
    "$$"
   ]
  },
  {
   "cell_type": "markdown",
   "metadata": {
    "bootstrap": {
     "panel": {
      "class": "panel-default"
     }
    },
    "school_cell_uuid": "34e96ad419d943c7b2d482ca51b68e9d"
   },
   "source": [
    "#### 연습 문제 2.2.6\n",
    "\n",
    "다음 행렬의 곱셈을 순서를 바꾸어 두 가지 방법으로 해본다.\n",
    "\n",
    "$$ \n",
    "\\begin{align}\n",
    "\\begin{bmatrix} 1 & 2 \\end{bmatrix} \n",
    "\\begin{bmatrix} 1 & 2 \\\\ 3 & 4 \\end{bmatrix} \n",
    "\\begin{bmatrix} 5 \\\\ 6 \\end{bmatrix}\n",
    "\\tag{2.2.68}\n",
    "\\end{align}\n",
    "$$"
   ]
  },
  {
   "cell_type": "markdown",
   "metadata": {
    "school_cell_uuid": "842c89aff4b146338bbfeef175fd6c04"
   },
   "source": [
    "### 항등행렬의 곱셈"
   ]
  },
  {
   "cell_type": "markdown",
   "metadata": {
    "school_cell_uuid": "dd3552af8bae43b88fbdb09133f0efc0"
   },
   "source": [
    "어떤 행렬이든 항등행렬을 곱하면 그 행렬의 값이 변하지 않는다. \n",
    "\n",
    "$$ \n",
    "\\begin{align}\n",
    "AI = IA = A  \n",
    "\\tag{2.2.69}\n",
    "\\end{align}\n",
    "$$\n",
    "\n",
    "넘파이로 다음과 같이 확인한다."
   ]
  },
  {
   "cell_type": "code",
   "execution_count": 25,
   "metadata": {
    "school_cell_uuid": "0f7bb829e1ef49b4a8aa9e3b0dc0463c"
   },
   "outputs": [],
   "source": [
    "A = np.array([[1, 2], [3, 4]])\n",
    "I = np.eye(2)"
   ]
  },
  {
   "cell_type": "code",
   "execution_count": 26,
   "metadata": {
    "school_cell_uuid": "3ab9bb6a0b0c4e1c81970c23ca86e2c1"
   },
   "outputs": [
    {
     "data": {
      "text/plain": [
       "array([[1., 2.],\n",
       "       [3., 4.]])"
      ]
     },
     "execution_count": 26,
     "metadata": {},
     "output_type": "execute_result"
    }
   ],
   "source": [
    "A @ I"
   ]
  },
  {
   "cell_type": "code",
   "execution_count": 27,
   "metadata": {
    "school_cell_uuid": "7ee4d7493a1c4d8f92184c864d5d9c0c"
   },
   "outputs": [
    {
     "data": {
      "text/plain": [
       "array([[1., 2.],\n",
       "       [3., 4.]])"
      ]
     },
     "execution_count": 27,
     "metadata": {},
     "output_type": "execute_result"
    }
   ],
   "source": [
    "I @ A"
   ]
  },
  {
   "cell_type": "markdown",
   "metadata": {
    "school_cell_uuid": "27a6e3dee39e4092a3b2dac82ab1de0c"
   },
   "source": [
    "### 행렬과 벡터의 곱"
   ]
  },
  {
   "cell_type": "markdown",
   "metadata": {
    "school_cell_uuid": "bf71096ad9a548d6a64ec654a6e01030"
   },
   "source": [
    "그럼 이러한 행렬의 곱셈은 데이터 분석에서 어떤 경우에 사용될까? 행렬의 곱셈 중 가장 널리 쓰이는 것은 다음과 같은 형태의 행렬 $M$과 벡터 $v$의 곱이다.\n",
    "\n",
    "$$ \n",
    "\\begin{align}\n",
    "Mv \n",
    "\\tag{2.2.70}\n",
    "\\end{align}\n",
    "$$ \n",
    "\n",
    "벡터와 행렬의 크기를 직사각형으로 표시하면 다음과 같다.\n",
    "\n",
    "$$\n",
    "\\begin{align}\n",
    "\\boxed{\\begin{matrix} \n",
    "\\phantom{} & \\phantom{} & \\phantom{} & \\phantom{} & \\phantom{} \\\\ \n",
    "& & M & &\\\\ \n",
    "\\phantom{} & \\phantom{} & \\phantom{} & \\phantom{} & \\phantom{} \\\\ \n",
    "\\end{matrix}} \\,\n",
    "\\boxed{\\begin{matrix} \\phantom{\\LARGE\\mathstrut} \\\\ v \\\\ \\phantom{\\LARGE\\mathstrut} \\end{matrix}}\n",
    "=\n",
    "\\boxed{\\begin{matrix} \n",
    "\\phantom{} \\\\ \n",
    "Mv \\\\ \n",
    "\\phantom{}  \n",
    "\\end{matrix}}\n",
    "\\tag{2.2.71}\n",
    "\\end{align}\n",
    "$$\n",
    "\n",
    "행렬과 벡터의 곱을 사용하는 몇가지 예를 살펴보자."
   ]
  },
  {
   "cell_type": "markdown",
   "metadata": {
    "school_cell_uuid": "50c61892bbe54249902970ff0f20ffcd"
   },
   "source": [
    "### 열 벡터의 선형조합"
   ]
  },
  {
   "cell_type": "markdown",
   "metadata": {
    "school_cell_uuid": "ec82108bf09248ed8fd7b4ab226a6692"
   },
   "source": [
    "행렬 $X$와 벡터 $w$의 곱은 행렬 $X$를 이루는 열벡터 $c_1, c_2, \\ldots, c_M$을 뒤에 곱해지는 벡터 $w$의 각 성분 $w_1, w_2, \\ldots, w_M$으로 선형조합(linear combination)을 한 결과 벡터와 같다.\n",
    "\n",
    "$$\n",
    "\\begin{align}\n",
    "Xw=\n",
    "\\begin{bmatrix}\n",
    "c_1 & c_2 & \\cdots & c_M\n",
    "\\end{bmatrix}\n",
    "\\begin{bmatrix}\n",
    "w_1 \\\\ w_2 \\\\ \\vdots \\\\ w_M\n",
    "\\end{bmatrix}\n",
    "=\n",
    "w_1 c_1 + w_2 c_2 + \\cdots + w_M c_M\n",
    "\\tag{2.2.72}\n",
    "\\end{align}\n",
    "$$\n",
    "\n",
    "벡터의 크기를 직사각형으로 표시하면 다음과 같다.\n",
    "\n",
    "$$\n",
    "\\begin{align}\n",
    "\\begin{bmatrix}\n",
    "\\boxed{\\begin{matrix} \\phantom{\\LARGE\\mathstrut} \\\\ c_{1_{\\phantom{1}}} \\\\ \\phantom{\\LARGE\\mathstrut} \\end{matrix}} &\n",
    "\\boxed{\\begin{matrix} \\phantom{\\LARGE\\mathstrut} \\\\ c_{2_{\\phantom{1}}} \\\\ \\phantom{\\LARGE\\mathstrut} \\end{matrix}} &\n",
    "\\cdots & \n",
    "\\boxed{\\begin{matrix} \\phantom{\\LARGE\\mathstrut} \\\\ c_M \\\\ \\phantom{\\LARGE\\mathstrut} \\end{matrix}} \n",
    "\\end{bmatrix} \n",
    "\\begin{bmatrix}\n",
    "w_1 \\\\ w_2 \\\\ \\vdots \\\\ w_M\n",
    "\\end{bmatrix}\n",
    "=\n",
    "\\begin{matrix}\n",
    "w_1\\,\\boxed{\\begin{matrix} \\phantom{\\LARGE\\mathstrut} \\\\ c_{1_{\\phantom{1}}} \\\\ \\phantom{\\LARGE\\mathstrut} \\end{matrix}} & + &\n",
    "w_2\\,\\boxed{\\begin{matrix} \\phantom{\\LARGE\\mathstrut} \\\\ c_{2_{\\phantom{1}}} \\\\ \\phantom{\\LARGE\\mathstrut} \\end{matrix}}& + & \n",
    "\\cdots \\!\\!\\!\\!& + & \n",
    "w_M\\,\\boxed{\\begin{matrix} \\phantom{\\LARGE\\mathstrut} \\\\ c_M \\\\ \\phantom{\\LARGE\\mathstrut} \\end{matrix}}\n",
    "\\end{matrix}\n",
    "\\tag{2.2.73}\n",
    "\\end{align}\n",
    "$$\n"
   ]
  },
  {
   "cell_type": "markdown",
   "metadata": {
    "bootstrap": {
     "panel": {
      "class": "panel-default"
     }
    },
    "school_cell_uuid": "af048229f3e646eb9ac5d27813a3bba8"
   },
   "source": [
    "#### 연습 문제 2.2.7\n",
    "\n",
    "다음 행렬 $X$와 벡터 $w$에 대해 곱 $Xw$가 열벡터 $c_1, c_2, c_3$의 선형조합 $w_1c_1 + w_2c_2 + w_3c_3$가 됨을 실제 계산으로 증명하라.\n",
    "\n",
    "$$ \n",
    "\\begin{align}\n",
    "X = \\begin{bmatrix} 1 & 2 & 3  \\\\ 4 & 5 & 6 \\end{bmatrix}, \\;\\;\n",
    "w = \\begin{bmatrix} 2 \\\\ 3 \\\\ 4 \\end{bmatrix}\n",
    "\\tag{2.2.74}\n",
    "\\end{align}\n",
    "$$"
   ]
  },
  {
   "cell_type": "markdown",
   "metadata": {
    "bootstrap": {
     "panel": {
      "class": "panel-default"
     }
    },
    "school_cell_uuid": "af048229f3e646eb9ac5d27813a3bba8"
   },
   "source": [
    "#### 연습 문제 2.2.8\n",
    "\n",
    "벡터 $v_1, v_2, v_3$로 이루어진 행렬 $V$와 벡터 $\\lambda$에 대해 다음 식이 성립함을 증명하라. 이 식에서 $\\lambda_1$는 스칼라이다.\n",
    "\n",
    "$$\n",
    "\\begin{align}\n",
    "V\\lambda = \n",
    "\\begin{bmatrix}\n",
    "v_1 & v_2 & v_3\n",
    "\\end{bmatrix}\n",
    "\\begin{bmatrix}\n",
    "\\lambda_{1} \\\\ 0 \\\\ 0 \n",
    "\\end{bmatrix}\n",
    "= \\lambda_1 v_1 \n",
    "\\tag{2.2.75}\n",
    "\\end{align}\n",
    "$$\n"
   ]
  },
  {
   "cell_type": "markdown",
   "metadata": {
    "school_cell_uuid": "3d322099086c4262847f717038b31fa6"
   },
   "source": [
    "벡터의 선형조합은 다양한 분야에 응용된다. 예를 들어 두 이미지 벡터의 선형조합은 두 이미지를 섞어놓은 모핑(morphing) 효과를 얻는 데 사용할 수 있다."
   ]
  },
  {
   "cell_type": "code",
   "execution_count": 38,
   "metadata": {
    "school_cell_uuid": "f8d5479e12ca4bffac3ccde2b73c31af"
   },
   "outputs": [
    {
     "ename": "TypeError",
     "evalue": "imshow() missing 1 required positional argument: 'X'",
     "output_type": "error",
     "traceback": [
      "\u001b[1;31m---------------------------------------------------------------------------\u001b[0m",
      "\u001b[1;31mTypeError\u001b[0m                                 Traceback (most recent call last)",
      "\u001b[1;32m<ipython-input-38-d2ff2947c337>\u001b[0m in \u001b[0;36m<module>\u001b[1;34m\u001b[0m\n\u001b[0;32m     25\u001b[0m \u001b[0max\u001b[0m\u001b[1;33m[\u001b[0m\u001b[1;36m2\u001b[0m\u001b[1;33m]\u001b[0m\u001b[1;33m.\u001b[0m\u001b[0mset_title\u001b[0m\u001b[1;33m(\u001b[0m\u001b[1;34m\"image 3: $0.7x_1 + 0.3x_2$\"\u001b[0m\u001b[1;33m)\u001b[0m\u001b[1;33m\u001b[0m\u001b[1;33m\u001b[0m\u001b[0m\n\u001b[0;32m     26\u001b[0m \u001b[1;33m\u001b[0m\u001b[0m\n\u001b[1;32m---> 27\u001b[1;33m \u001b[0mplt\u001b[0m\u001b[1;33m.\u001b[0m\u001b[0mimshow\u001b[0m\u001b[1;33m(\u001b[0m\u001b[1;33m)\u001b[0m\u001b[1;33m\u001b[0m\u001b[1;33m\u001b[0m\u001b[0m\n\u001b[0m",
      "\u001b[1;31mTypeError\u001b[0m: imshow() missing 1 required positional argument: 'X'"
     ]
    },
    {
     "data": {
      "image/png": "[encoded data removed]",
      "text/plain": [
       "<Figure size 432x288 with 3 Axes>"
      ]
     },
     "metadata": {},
     "output_type": "display_data"
    }
   ],
   "source": [
    "%matplotlib inline\n",
    "from sklearn.datasets import fetch_olivetti_faces\n",
    "\n",
    "faces = fetch_olivetti_faces()\n",
    "\n",
    "f, ax = plt.subplots(1, 3)\n",
    "\n",
    "ax[0].imshow(faces.images[6], cmap=plt.cm.bone)\n",
    "ax[0].grid(False)\n",
    "ax[0].set_xticks([])\n",
    "ax[0].set_yticks([])\n",
    "ax[0].set_title(\"image 1: $x_1$\")\n",
    "\n",
    "ax[1].imshow(faces.images[10], cmap=plt.cm.bone)\n",
    "ax[1].grid(False)\n",
    "ax[1].set_xticks([])\n",
    "ax[1].set_yticks([])\n",
    "ax[1].set_title(\"image 2: $x_2$\")\n",
    "\n",
    "new_face = 0.7 * faces.images[6] + 0.3 * faces.images[10]\n",
    "ax[2].imshow(new_face, cmap=plt.cm.bone)\n",
    "ax[2].grid(False)\n",
    "ax[2].set_xticks([])\n",
    "ax[2].set_yticks([])\n",
    "ax[2].set_title(\"image 3: $0.7x_1 + 0.3x_2$\")\n"
   ]
  },
  {
   "cell_type": "markdown",
   "metadata": {
    "school_cell_uuid": "32f3e1b58dbb4326bb8d4230c25fd3ee"
   },
   "source": [
    "### 여러 개의 벡터에 대한 가중합 동시 계산"
   ]
  },
  {
   "cell_type": "markdown",
   "metadata": {
    "school_cell_uuid": "50cdd17332c74c40927c6e95d0a94000"
   },
   "source": [
    "벡터 하나의 가중합은 $w^Tx$ 또는 $x^Tw$로 표시할 수 있다는 것을 배웠다. 그런데 만약 이렇게 $w$ 가중치를 사용한 가중합을 하나의 벡터 $x$가 아니라 여러 벡터 $x_1, \\cdots, x_M$ 개에 대해서 모두 계산해야 한다면 어떻게 해야 할까? 예를 들어 위와 같이 선형 회귀 모형을 사용하여 여러 데이터 $x_1, x_2, x_3, \\cdots, x_N$ 개의 데이터 모두에 대해 예측값 $y_1, y_2, y_3, \\cdots, y_N$을 한꺼번에 계산하고 싶다면 다음처럼 데이터 행렬 $X$를 사용하여  $\\hat{y} = Xw$라는 수식으로 간단하게 표시할 수 있다.\n",
    "\n",
    "$$\n",
    "\\begin{align}\n",
    "\\begin{aligned}\n",
    "\\hat{y} = \n",
    "\\begin{bmatrix}\n",
    "\\hat{y}_1 \\\\\n",
    "\\hat{y}_2 \\\\\n",
    "\\vdots \\\\\n",
    "\\hat{y}_M \\\\\n",
    "\\end{bmatrix}\n",
    "&= \n",
    "\\begin{bmatrix}\n",
    "w_1 x_{1,1} + w_2 x_{1,2} + \\cdots + w_N x_{1,N} \\\\\n",
    "w_1 x_{2,1} + w_2 x_{2,2} + \\cdots + w_N x_{2,N} \\\\\n",
    "\\vdots  \\\\\n",
    "w_1 x_{M,1} + w_2 x_{M,2} + \\cdots + w_N x_{M,N} \\\\\n",
    "\\end{bmatrix}\n",
    "\\\\\n",
    "&= \n",
    "\\begin{bmatrix}\n",
    "x_{1,1} & x_{1,2} & \\cdots & x_{1,N} \\\\\n",
    "x_{2,1} & x_{2,2} & \\cdots & x_{2,N} \\\\\n",
    "\\vdots  & \\vdots  & \\vdots & \\vdots \\\\\n",
    "x_{M,1} & x_{M,2} & \\cdots & x_{M,N} \\\\\n",
    "\\end{bmatrix}\n",
    "\\begin{bmatrix}\n",
    "w_1 \\\\ w_2 \\\\ \\vdots \\\\ w_N\n",
    "\\end{bmatrix}\n",
    "\\\\\n",
    "&= \n",
    "\\begin{bmatrix}\n",
    "x_1^T \\\\\n",
    "x_2^T \\\\\n",
    "\\vdots \\\\\n",
    "x_M^T \\\\\n",
    "\\end{bmatrix}\n",
    "\\begin{bmatrix}\n",
    "w_1 \\\\ w_2 \\\\ \\vdots \\\\ w_N\n",
    "\\end{bmatrix}\n",
    "\\\\\n",
    "&= X w\n",
    "\\end{aligned}\n",
    "\\tag{2.2.76}\n",
    "\\end{align}\n",
    "$$\n",
    "\n",
    "즉.\n",
    "\n",
    "$$ \n",
    "\\begin{align}\n",
    "\\hat{y} = Xw  \n",
    "\\tag{2.2.77}\n",
    "\\end{align}\n",
    "$$"
   ]
  },
  {
   "cell_type": "markdown",
   "metadata": {
    "bootstrap": {
     "panel": {
      "class": "panel-default"
     }
    },
    "school_cell_uuid": "34e96ad419d943c7b2d482ca51b68e9d"
   },
   "source": [
    "#### 연습 문제 2.2.9\n",
    "\n",
    "$x_1$, $x_2$가 다음과 같을 때,\n",
    "$$\n",
    "\\begin{align}\n",
    "x_1 = \n",
    "\\begin{bmatrix}\n",
    "x_{11} \\\\\n",
    "x_{21} \\\\\n",
    "x_{31} \\\\\n",
    "\\end{bmatrix}\n",
    "\\;\\;\n",
    "x_2 = \n",
    "\\begin{bmatrix}\n",
    "x_{12} \\\\\n",
    "x_{22} \\\\\n",
    "x_{32} \\\\\n",
    "\\end{bmatrix}\n",
    "\\tag{2.2.78}\n",
    "\\end{align}\n",
    "$$\n",
    "\n",
    "다음 등식이 성립함을 보인다.\n",
    "\n",
    "$$\n",
    "\\begin{align}\n",
    "Xw =\n",
    "\\begin{bmatrix}\n",
    "x_1^T \\\\\n",
    "x_2^T \\\\\n",
    "\\end{bmatrix}\n",
    "\\begin{bmatrix}\n",
    "w_1 \\\\ w_2 \\\\ w_3\n",
    "\\end{bmatrix}\n",
    "=\n",
    "\\begin{bmatrix}\n",
    "x_1^Tw \\\\\n",
    "x_2^Tw \\\\\n",
    "\\end{bmatrix}\n",
    "\\tag{2.2.79}\n",
    "\\end{align}\n",
    "$$"
   ]
  },
  {
   "cell_type": "markdown",
   "metadata": {
    "school_cell_uuid": "6109ce5705794eeba50396faeeece5e0"
   },
   "source": [
    "### 잔차"
   ]
  },
  {
   "cell_type": "markdown",
   "metadata": {
    "school_cell_uuid": "4e0e91190c414b93884bc721b37da3a3"
   },
   "source": [
    "선형 회귀분석(linear regression)을 한 결과는 가중치 벡터 $w$라는 형태로 나타나고 예측치는 이 가중치 벡터를 사용한 독립변수 데이터 레코드 즉, 벡터 $x_i$의 가중합 $w^Tx_i$이 된다고 했다. 예측치와 실젯값(target) $y_{i}$의 차이를 **오차(error)** 혹은 **잔차(residual)** $e_i$라고 한다. 이러한 잔찻값을 모든 독립변수 벡터에 대해 구하면 잔차 벡터 $e$가 된다.\n",
    "\n",
    "$$ \n",
    "\\begin{align}\n",
    "e_i = y_i - \\hat{y}_i  = y_i - w^Tx_i \n",
    "\\tag{2.2.80}\n",
    "\\end{align}\n",
    "$$\n",
    "\n",
    "잔차 벡터는 다음처럼 $y-Xw$로 간단하게 표기할 수 있다.\n",
    "\n",
    "$$\n",
    "\\begin{align}\n",
    "\\begin{aligned}\n",
    "e \n",
    "&=\n",
    "\\begin{bmatrix}\n",
    "e_{1} \\\\\n",
    "e_{2} \\\\\n",
    "\\vdots \\\\\n",
    "e_{M} \\\\\n",
    "\\end{bmatrix}\n",
    "\\\\ \n",
    "&=\n",
    "\\begin{bmatrix}\n",
    "y_{1} \\\\\n",
    "y_{2} \\\\\n",
    "\\vdots \\\\\n",
    "y_{M} \\\\\n",
    "\\end{bmatrix}\n",
    "-\n",
    "\\begin{bmatrix}\n",
    "x^T_{1}w \\\\\n",
    "x^T_{2}w \\\\\n",
    "\\vdots \\\\\n",
    "x^T_{M}w \\\\\n",
    "\\end{bmatrix}\n",
    "\\\\ \n",
    "&= y - Xw\n",
    "\\end{aligned}\n",
    "\\tag{2.2.81}\n",
    "\\end{align}\n",
    "$$\n",
    "\n",
    "$$\n",
    "\\begin{align}\n",
    "e = y - Xw\n",
    "\\tag{2.2.82}\n",
    "\\end{align}\n",
    "$$"
   ]
  },
  {
   "cell_type": "markdown",
   "metadata": {
    "school_cell_uuid": "da0c992eda6b4b46b6a195c383e81ad5"
   },
   "source": [
    "### 잔차 제곱합"
   ]
  },
  {
   "cell_type": "markdown",
   "metadata": {
    "school_cell_uuid": "b405ed457ab244899cf83de822e24be7"
   },
   "source": [
    "잔차의 크기는 잔차 벡터의 각 원소를 제곱한 후 더한 **잔차 제곱합(RSS: Residual Sum of Squares)**을 이용하여 구한다. 이 값은 $e^Te$로 간단하게 쓸 수 있으며 그 값은 다음처럼 계산한다.\n",
    "\n",
    "$$\n",
    "\\begin{align}\n",
    "\\sum_{i=1}^{N} e_i^2 = \\sum_{i=1}^{N} (y_i - w^Tx_i)^2 = e^Te =  (y - Xw)^T (y - Xw) \n",
    "\\tag{2.2.83}\n",
    "\\end{align}\n",
    "$$"
   ]
  },
  {
   "cell_type": "markdown",
   "metadata": {
    "bootstrap": {
     "panel": {
      "class": "panel-default"
     }
    },
    "school_cell_uuid": "af048229f3e646eb9ac5d27813a3bba8"
   },
   "source": [
    "#### 연습 문제 2.2.10\n",
    "\n",
    "분배 법칙을 사용하여 위 식 $(y - Xw)^T (y - Xw)$을 풀어쓰면 다음과 같아짐을 보여라.\n",
    "\n",
    "$$ \n",
    "\\begin{align}\n",
    "(y - Xw)^T (y - Xw) = y^Ty - w^TX^Ty - y^TXw + w^TX^TXw  \n",
    "\\tag{2.2.84}\n",
    "\\end{align}\n",
    "$$"
   ]
  },
  {
   "cell_type": "markdown",
   "metadata": {
    "school_cell_uuid": "63597485800b4a84bb8eb5c7f2c972b3"
   },
   "source": [
    "### 이차형식"
   ]
  },
  {
   "cell_type": "markdown",
   "metadata": {
    "school_cell_uuid": "52089792dcd949c19a3a1f092a1db00b"
   },
   "source": [
    "위의 연습 문제에서 마지막 항은 $w^TX^TXw$라는 형태다. 이 식에서 $X^TX$는 정방행렬이 되므로 이 정방행렬을 $A$라고 이름 붙이면 마지막 항은 $w^TAw$와 같은 형태가 된다. \n",
    "\n",
    "벡터의 **이차형식(Quadratic Form)**이란 이처럼 어떤 벡터와 정방행렬이 '행벡터 x 정방행렬 x 열벡터'의 형식으로 되어 있는 것을 말한다. \n",
    "\n",
    "이 수식을 풀면 $i=1,\\ldots,N, j=1,\\ldots,N$에 대해 가능한 모든 $i,j$ 쌍의 조합을 구한 다음 $i$, $j$에 해당하는 원소 $x_i$, $x_j$를 가중치 $a_{i,j}$와 같이 곱한 값  $a_{i,j}x_ix_j$의 총합이 된다.\n",
    "\n",
    "$$\n",
    "\\begin{align}\n",
    "\\begin{aligned}\n",
    "x^T A x \n",
    "&= \n",
    "\\begin{bmatrix}\n",
    "x_{1} & x_{2} & \\cdots & x_{N} \n",
    "\\end{bmatrix}\n",
    "\\begin{bmatrix}\n",
    "a_{1,1} & a_{1,2} & \\cdots & a_{1,N} \\\\\n",
    "a_{2,1} & a_{2,2} & \\cdots & a_{2,N} \\\\\n",
    "\\vdots & \\vdots & \\ddots & \\vdots \\\\\n",
    "a_{N,1} & a_{N,2} & \\cdots & a_{N,N} \\\\\n",
    "\\end{bmatrix}\n",
    "\\begin{bmatrix}\n",
    "x_{1} \\\\\n",
    "x_{2} \\\\\n",
    "\\vdots \\\\\n",
    "x_{N} \\\\\n",
    "\\end{bmatrix} \n",
    "\\\\\n",
    "&= \\sum_{i=1}^{N} \\sum_{j=1}^{N} a_{i,j} x_i x_j \n",
    "\\end{aligned}\n",
    "\\tag{2.2.85}\n",
    "\\end{align}\n",
    "$$\n"
   ]
  },
  {
   "cell_type": "markdown",
   "metadata": {
    "bootstrap": {
     "panel": {
      "class": "panel-default"
     }
    },
    "school_cell_uuid": "0f1eb9fee11b463b9575a14132061307"
   },
   "source": [
    "#### 연습 문제 2.2.11\n",
    "\n",
    "다음 3차원 벡터와 행렬에 대해 이차형식을 쓰고 값을 계산하라.\n",
    "\n",
    "$$\n",
    "\\begin{align}\n",
    "x = \\begin{bmatrix} x_1 \\\\ x_2 \\\\ x_3 \\end{bmatrix}\n",
    "\\tag{2.2.86}\n",
    "\\end{align}\n",
    "$$\n",
    "\n",
    "$$ \n",
    "\\begin{align}\n",
    "A = \n",
    "\\begin{bmatrix} \n",
    "a_{11} & a_{12} & a_{13} \\\\\n",
    "a_{21} & a_{22} & a_{23} \\\\\n",
    "a_{31} & a_{32} & a_{33} \\\\\n",
    "\\end{bmatrix} \n",
    "\\tag{2.2.87}\n",
    "\\end{align}\n",
    "$$\n",
    "\n",
    "\n"
   ]
  },
  {
   "cell_type": "markdown",
   "metadata": {
    "school_cell_uuid": "66b5040c7eb64aec854a72979c74afea"
   },
   "source": [
    "예를 들어 $ x = [1, 2, 3]^T $ 이고 A가 다음과 같다면\n",
    "\n",
    "$$ \n",
    "\\begin{align}\n",
    "A =\n",
    "\\begin{bmatrix}\n",
    "1 & 2 & 3 \\\\\n",
    "4 & 5 & 6 \\\\\n",
    "7 & 8 & 9 \\\\\n",
    "\\end{bmatrix}\n",
    "\\tag{2.2.88}\n",
    "\\end{align}\n",
    "$$\n",
    "\n",
    "넘파이 에서 벡터의 이차형식은 다음처럼 계산한다."
   ]
  },
  {
   "cell_type": "code",
   "execution_count": 29,
   "metadata": {
    "school_cell_uuid": "849885967ca84d98bc085fb87a9481c4"
   },
   "outputs": [
    {
     "data": {
      "text/plain": [
       "array([1, 2, 3])"
      ]
     },
     "execution_count": 29,
     "metadata": {},
     "output_type": "execute_result"
    }
   ],
   "source": [
    "x = np.array([1, 2, 3])\n",
    "x"
   ]
  },
  {
   "cell_type": "code",
   "execution_count": 30,
   "metadata": {
    "school_cell_uuid": "1f83a87d84bf4fd7820e0a30bb73e8fc"
   },
   "outputs": [
    {
     "data": {
      "text/plain": [
       "array([[1, 2, 3],\n",
       "       [4, 5, 6],\n",
       "       [7, 8, 9]])"
      ]
     },
     "execution_count": 30,
     "metadata": {},
     "output_type": "execute_result"
    }
   ],
   "source": [
    "A = np.arange(1, 10).reshape(3, 3)\n",
    "A"
   ]
  },
  {
   "cell_type": "code",
   "execution_count": 31,
   "metadata": {
    "school_cell_uuid": "5e6fab985a6846ab9da02b74c97c562b"
   },
   "outputs": [
    {
     "data": {
      "text/plain": [
       "228"
      ]
     },
     "execution_count": 31,
     "metadata": {},
     "output_type": "execute_result"
    }
   ],
   "source": [
    "x.T @ A @ x"
   ]
  },
  {
   "cell_type": "markdown",
   "metadata": {
    "bootstrap": {
     "panel": {
      "class": "panel-default"
     }
    },
    "school_cell_uuid": "927d98a745274add926262b6c357fe40"
   },
   "source": [
    "#### 연습 문제 2.2.12\n",
    "\n",
    "다음 식이 성립함을 증명하라.\n",
    "\n",
    "$$ \n",
    "\\begin{align}\n",
    "x^TAx = \\dfrac{1}{2}x^T(A + A^T)x \n",
    "\\tag{2.2.89}\n",
    "\\end{align}\n",
    "$$"
   ]
  },
  {
   "cell_type": "markdown",
   "metadata": {
    "school_cell_uuid": "bbbe222d92544ef09e0fc9c21d4eae26"
   },
   "source": [
    "### 부분행렬"
   ]
  },
  {
   "cell_type": "markdown",
   "metadata": {
    "school_cell_uuid": "5327c34f8334456b816472dd7e1caa74"
   },
   "source": [
    "다음과 같은 2차원 정방행렬 $A$, $B$가 있다.\n",
    "\n",
    "$$\n",
    "\\begin{align}\n",
    "A = \n",
    "\\begin{bmatrix}\n",
    "a_{11} & a_{12} \\\\\n",
    "a_{21} & a_{22}\n",
    "\\end{bmatrix}\n",
    ",\\;\\;\n",
    "B = \n",
    "\\begin{bmatrix}\n",
    "b_{11} & b_{12} \\\\\n",
    "b_{21} & b_{22}\n",
    "\\end{bmatrix}\n",
    "\\tag{2.2.90}\n",
    "\\end{align}\n",
    "$$\n",
    "\n",
    "이때 두 행렬의 곱 $AB$는 $A$, $B$의 **부분행렬(submatrix)**을 이용하여 여러 방법으로 계산할 수 있다.\n",
    "\n",
    "\n",
    "(1) 우선 앞에 곱해지는 행렬을 행벡터로 나누어 계산해도 된다.\n",
    "\n",
    "$$\n",
    "\\begin{align}\n",
    "A = \n",
    "\\begin{bmatrix}\n",
    "\\boxed{\\begin{matrix} \\phantom{} & a_1^T & \\phantom{} \\end{matrix}} \\\\ \n",
    "\\boxed{\\begin{matrix} \\phantom{} & a_2^T & \\phantom{} \\end{matrix}} \\\\ \n",
    "\\end{bmatrix}\n",
    "\\tag{2.2.91}\n",
    "\\end{align}\n",
    "$$\n",
    "\n",
    "즉,\n",
    "\n",
    "$$\n",
    "\\begin{align}\n",
    "a_1^T = \n",
    "\\begin{bmatrix}\n",
    "a_{11} & a_{12} \n",
    "\\end{bmatrix}\n",
    ",\\;\\;\n",
    "a_2^T = \n",
    "\\begin{bmatrix}\n",
    "a_{21} & a_{22} \n",
    "\\end{bmatrix}\n",
    "\\tag{2.2.92}\n",
    "\\end{align}\n",
    "$$\n",
    "\n",
    "이면 \n",
    "\n",
    "$$\n",
    "\\begin{align}\n",
    "AB \n",
    "=\n",
    "\\begin{bmatrix}\n",
    "\\boxed{\\begin{matrix} \\phantom{} & a_1^T & \\phantom{} \\end{matrix}} \\\\ \n",
    "\\boxed{\\begin{matrix} \\phantom{} & a_2^T & \\phantom{} \\end{matrix}} \\\\ \n",
    "\\end{bmatrix}\n",
    "B\n",
    "=\n",
    "\\begin{bmatrix}\n",
    "\\boxed{\\begin{matrix} \\phantom{} & a_1^TB & \\phantom{} \\end{matrix}} \\\\ \n",
    "\\boxed{\\begin{matrix} \\phantom{} & a_2^TB & \\phantom{} \\end{matrix}} \\\\ \n",
    "\\end{bmatrix} \n",
    "\\tag{2.2.93}\n",
    "\\end{align}\n",
    "$$\n",
    "\n",
    "(2) 아니면 뒤에 곱해지는 행렬을 열벡터로 나누어 계산해도 된다.\n",
    "\n",
    "$$\n",
    "\\begin{align}\n",
    "B = \n",
    "\\begin{bmatrix}\n",
    "\\boxed{\\begin{matrix} \\phantom{\\mathstrut} \\\\ b_1 \\\\ \\phantom{\\mathstrut} \\end{matrix}} \\!\\!\\!\\! &\n",
    "\\boxed{\\begin{matrix} \\phantom{\\mathstrut} \\\\ b_2 \\\\ \\phantom{\\mathstrut} \\end{matrix}} \n",
    "\\end{bmatrix}\n",
    "\\tag{2.2.94}\n",
    "\\end{align}\n",
    "$$\n",
    "\n",
    "\n",
    "\n",
    "즉,\n",
    "\n",
    "$$\n",
    "\\begin{align}\n",
    "b_1 = \n",
    "\\begin{bmatrix}\n",
    "b_{11} \\\\\n",
    "b_{21} \\\\\n",
    "\\end{bmatrix}\n",
    ",\\;\\;\n",
    "b_2 = \n",
    "\\begin{bmatrix}\n",
    "b_{21} \\\\\n",
    "b_{22}\n",
    "\\end{bmatrix}\n",
    "\\tag{2.2.95}\n",
    "\\end{align}\n",
    "$$\n",
    "\n",
    "이면 \n",
    "\n",
    "$$\n",
    "\\begin{align}\n",
    "AB \n",
    "=\n",
    "A\n",
    "\\begin{bmatrix}\n",
    "\\boxed{\\begin{matrix} \\phantom{\\mathstrut} \\\\ b_1 \\\\ \\phantom{\\mathstrut} \\end{matrix}} \\!\\!\\!\\! & \n",
    "\\boxed{\\begin{matrix} \\phantom{\\mathstrut} \\\\ b_2 \\\\ \\phantom{\\mathstrut} \\end{matrix}}\n",
    "\\end{bmatrix}\n",
    "=\n",
    "\\begin{bmatrix}\n",
    "\\boxed{\\begin{matrix} \\phantom{\\mathstrut} \\\\ Ab_1 \\\\ \\phantom{\\mathstrut} \\end{matrix}} \\!\\!\\!\\! &\n",
    "\\boxed{\\begin{matrix} \\phantom{\\mathstrut} \\\\ Ab_2 \\\\ \\phantom{\\mathstrut} \\end{matrix}}\n",
    "\\end{bmatrix}\n",
    "\\tag{2.2.96}\n",
    "\\end{align}\n",
    "$$\n",
    "\n",
    "(3) 앞에 곱해지는 행렬을 열벡터로, 뒤에 곱해지는 행렬을 행벡터로 나누어 스칼라처럼 계산해도 된다.\n",
    "\n",
    "$$\n",
    "\\begin{align}\n",
    "AB \n",
    "=\n",
    "\\begin{bmatrix}\n",
    "a_1 & a_2\n",
    "\\end{bmatrix}\n",
    "\\begin{bmatrix}\n",
    "b_1^T \\\\ b_2^T\n",
    "\\end{bmatrix}\n",
    "=\n",
    "a_1b_1^T + a_2b_2^T\n",
    "\\tag{2.2.97}\n",
    "\\end{align}\n",
    "$$\n",
    "\n",
    "\n",
    "벡터의 크기를 직사각형으로 표시하면 다음과 같다.\n",
    "\n",
    "$$\n",
    "\\begin{align}\n",
    "AB \n",
    "=\n",
    "\\begin{bmatrix}\n",
    "\\boxed{\\begin{matrix} \\phantom{\\mathstrut} \\\\ a_1 \\\\ \\phantom{\\mathstrut} \\end{matrix}}  \\!\\!\\!\\!& \n",
    "\\boxed{\\begin{matrix} \\phantom{\\mathstrut} \\\\ a_2 \\\\ \\phantom{\\mathstrut} \\end{matrix}}  \\!\n",
    "\\end{bmatrix}\n",
    "\\begin{bmatrix}\n",
    "\\boxed{\\begin{matrix} \\phantom{} & b_1^T & \\phantom{} \\end{matrix}} \\\\ \n",
    "\\boxed{\\begin{matrix} \\phantom{} & b_2^T & \\phantom{} \\end{matrix}} \\\\ \n",
    "\\end{bmatrix}\n",
    "=\n",
    "\\boxed{\\begin{matrix} \\phantom{\\mathstrut} \\\\ a_1 \\\\ \\phantom{\\mathstrut} \\end{matrix}} \n",
    "\\boxed{\\begin{matrix} \\phantom{} & b_1^T & \\phantom{} \\end{matrix}} \n",
    "+\n",
    "\\boxed{\\begin{matrix} \\phantom{\\mathstrut} \\\\ b_1 \\\\ \\phantom{\\mathstrut} \\end{matrix}} \n",
    "\\boxed{\\begin{matrix} \\phantom{} & b_2^T & \\phantom{} \\end{matrix}} \n",
    "\\tag{2.2.98}\n",
    "\\end{align}\n",
    "$$\n",
    "\n",
    "\n",
    "여기에서는 2차원 행렬의 예를 들었지만 일반적인 $N$차원 행렬에서도 이 관계는 성립한다."
   ]
  },
  {
   "cell_type": "markdown",
   "metadata": {
    "bootstrap": {
     "panel": {
      "class": "panel-default"
     }
    },
    "school_cell_uuid": "927d98a745274add926262b6c357fe40"
   },
   "source": [
    "#### 연습 문제 2.2.13\n",
    "\n",
    "행렬 $V$는 열벡터 $v_i\\;(i=1,\\ldots,N)$로 이루어진 정방행렬이다. $V$와 크기가 같은  다른 정방행렬 $A$, $\\Lambda$이 있을 때 다음 식이 성립한다.\n",
    "\n",
    "\n",
    "$$\n",
    "\\begin{align}\n",
    "AV = A \\left[ v_1 \\cdots v_N \\right] = \\left[  A v_1 \\cdots A v_N \\right]\n",
    "\\tag{2.2.99}\n",
    "\\end{align}\n",
    "$$\n",
    "\n",
    "$$\n",
    "\\begin{align}\n",
    "V\\Lambda = \n",
    "\\left[ v_1 \\cdots v_N \\right] \n",
    "\\begin{bmatrix}\n",
    "\\lambda_{1} & 0 & \\cdots & 0 \\\\\n",
    "0 & \\lambda_{2} & \\cdots & 0 \\\\\n",
    "\\vdots & \\vdots & \\ddots & \\vdots \\\\\n",
    "0 & 0 & \\cdots & \\lambda_{N} \\\\\n",
    "\\end{bmatrix}\n",
    "= \\left[ \\lambda_1 v_1 \\cdots \\lambda_N v_N \\right]\n",
    "\\tag{2.2.100}\n",
    "\\end{align}\n",
    "$$\n",
    "\n",
    "$N=3$인 경우에 위 식이 성립함을 보여라."
   ]
  },
  {
   "cell_type": "markdown",
   "metadata": {
    "bootstrap": {
     "panel": {
      "class": "panel-default"
     }
    },
    "school_cell_uuid": "927d98a745274add926262b6c357fe40"
   },
   "source": [
    "#### 연습 문제 2.2.14\n",
    "\n",
    "부분행렬 공식 (3)으로부터 $A$가 행벡터 $a_i^T\\;(i=1,\\ldots,N)$로 이루어진 $N$차 정방행렬일 때 \n",
    "\n",
    "$$ \n",
    "\\begin{align}\n",
    "A = \\begin{bmatrix} a_1^T \\\\ a_2^T \\\\ \\vdots \\\\ a_N^T \\end{bmatrix}\n",
    "\\tag{2.2.101}\n",
    "\\end{align}\n",
    "$$\n",
    "\n",
    "다음 관계가 성립한다.\n",
    "\n",
    "$$\n",
    "\\begin{align}\n",
    "A^T A =\n",
    "\\begin{bmatrix} a_1 & a_2 & \\cdots & a_N \\end{bmatrix}\n",
    "\\begin{bmatrix} a_1^T \\\\ a_2^T \\\\ \\vdots \\\\ a_N^T \\end{bmatrix}\n",
    "= \\sum_{i=1}^N a_ia_i^T\n",
    "\\tag{2.2.102}\n",
    "\\end{align}\n",
    "$$\n",
    "\n",
    "$N=3$인 경우에 위 식이 성립함을 보여라."
   ]
  }
 ],
 "metadata": {
  "celltoolbar": "Edit Metadata",
  "kernelspec": {
   "display_name": "Python 3",
   "language": "python",
   "name": "python3"
  },
  "language_info": {
   "codemirror_mode": {
    "name": "ipython",
    "version": 3
   },
   "file_extension": ".py",
   "mimetype": "text/x-python",
   "name": "python",
   "nbconvert_exporter": "python",
   "pygments_lexer": "ipython3",
   "version": "3.7.6"
  },
  "latex_envs": {
   "LaTeX_envs_menu_present": true,
   "autoclose": false,
   "autocomplete": true,
   "bibliofile": "biblio.bib",
   "cite_by": "apalike",
   "current_citInitial": 1,
   "eqLabelWithNumbers": true,
   "eqNumInitial": 1,
   "hotkeys": {
    "equation": "Ctrl-E",
    "itemize": "Ctrl-I"
   },
   "labels_anchors": false,
   "latex_user_defs": false,
   "report_style_numbering": false,
   "user_envs_cfg": false
  },
  "pycharm": {
   "stem_cell": {
    "cell_type": "raw",
    "metadata": {
     "collapsed": false
    },
    "source": []
   }
  },
  "toc": {
   "base_numbering": 1,
   "nav_menu": {},
   "number_sections": false,
   "sideBar": true,
   "skip_h1_title": false,
   "title_cell": "Table of Contents",
   "title_sidebar": "Contents",
   "toc_cell": false,
   "toc_position": {},
   "toc_section_display": true,
   "toc_window_display": false
  }
 },
 "nbformat": 4,
 "nbformat_minor": 4
}
