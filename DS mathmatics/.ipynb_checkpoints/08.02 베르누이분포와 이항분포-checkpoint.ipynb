{
 "cells": [
  {
   "cell_type": "markdown",
   "metadata": {
    "school_cell_uuid": "e93e0041c5274752917fe464c55ad7c0"
   },
   "source": [
    "## 8.2 베르누이분포와 이항분포"
   ]
  },
  {
   "cell_type": "markdown",
   "metadata": {
    "school_cell_uuid": "ab946dc1d7ff4787a89f91f2bcefd005"
   },
   "source": [
    "베르누이분포와 이항분포는 확률분포 중 가장 단순한 분포지만 분류문제에서 널리 사용된다. 이 절에서는 두 분포의 개념을 알아보고 이 분포들이 스팸메일 필터링에 어떻게 쓰이는지 살펴본다."
   ]
  },
  {
   "cell_type": "markdown",
   "metadata": {
    "school_cell_uuid": "30407c41366c41ada01fccac76331693"
   },
   "source": [
    "### 베르누이 시행"
   ]
  },
  {
   "cell_type": "markdown",
   "metadata": {
    "school_cell_uuid": "882d5232066b4ae79794e74d6ea1a614"
   },
   "source": [
    "결과가 두 가지 중 하나로만 나오는 실험이나 시행을 **베르누이 시행**(Bernoulli trial)이라고 한다. 예를 들어 동전을 한 번 던져 앞면(H:Head)이 나오거나 뒷면(T:Tail)이 나오게 하는 것도 베르누이 시행이다."
   ]
  },
  {
   "cell_type": "markdown",
   "metadata": {
    "school_cell_uuid": "250191a82f7840908f446e7644a6d59d"
   },
   "source": [
    "### 베르누이 확률변수"
   ]
  },
  {
   "cell_type": "markdown",
   "metadata": {
    "school_cell_uuid": "a5517b52891a48268a4181dc463e21b0"
   },
   "source": [
    "베르누이 시행의 결과를 실수 0 또는 1로 바꾼 것을 **베르누이 확률변수(Bernoulli random variable)**라고 한다. 베르누이 확률변수는 두 값 중 하나만 가질 수 있으므로 이산확률변수(discrete random variable)다. 베르누이 확률변수의 표본값은 보통 정수 1과 0으로 표현하지만 때로는 정수 1과 -1로 표현하는 경우도 있다."
   ]
  },
  {
   "cell_type": "markdown",
   "metadata": {
    "school_cell_uuid": "35971771e4f8425cb13d9d6ea5efc985"
   },
   "source": [
    "### 베르누이 확률분포"
   ]
  },
  {
   "cell_type": "markdown",
   "metadata": {
    "school_cell_uuid": "a6873ff37c6347f09654e8f307f933cc"
   },
   "source": [
    "베르누이 확률변수의 분포를 베르누이 확률분포 혹은 베르누이분포라고 한다. 만약 어떤 확률변수 $X$가 베르누이분포에 의해 발생된다면 **’확률변수 $X$가 베르누이분포를 따른다’**라고 말하고 다음과 같이 수식으로 쓴다.\n",
    "\n",
    "$$\n",
    "\\begin{align}\n",
    "X \\sim \\text{Bern}(x;\\mu)\n",
    "\\tag{8.2.1}\n",
    "\\end{align}\n",
    "$$\n",
    "\n",
    "베르누이분포의 확률질량함수 수식은 다음과 같다.\n",
    "\n",
    "$$\n",
    "\\begin{align}\n",
    "\\text{Bern}(x;\\mu) = \n",
    "\\begin{cases} \n",
    "\\mu   & \\text{if }x=1, \\\\\n",
    "1-\\mu & \\text{if }x=0\n",
    "\\end{cases}\n",
    "\\tag{8.2.2}\n",
    "\\end{align}\n",
    "$$\n",
    "\n",
    "베르누이분포는 **1이 나올 확률**을 의미하는 $\\mu$라는 **모수(parameter)**를 가진다. 변수와 모수는 세미콜론(;, semicolon)기호로 분리했다. 0이 나올 확률은 $1 - \\mu$이다.\n",
    "\n",
    "위 식을 하나의 수식으로 표현하면 다음처럼 쓸 수 있다.\n",
    "\n",
    "$$\n",
    "\\begin{align}\n",
    "\\text{Bern}(x;\\mu) = \\mu^x(1-\\mu)^{(1-x)}\n",
    "\\tag{8.2.3}\n",
    "\\end{align}\n",
    "$$"
   ]
  },
  {
   "cell_type": "markdown",
   "metadata": {
    "bootstrap": {
     "panel": {
      "class": "panel-default"
     }
    },
    "school_cell_uuid": "edbe2272d887461f89a7e96d4ad76cb7"
   },
   "source": [
    "#### 연습 문제 8.2.1\n",
    "\n",
    "위 식에서 $x=1$과 $x=0$을 각각 대입하여 원래의 확률질량함수 수식이 나오는 것을 확인한다."
   ]
  },
  {
   "cell_type": "markdown",
   "metadata": {
    "school_cell_uuid": "5f903b6f8bb144d082dbe2f8382efcbc"
   },
   "source": [
    "만약 베르누이 확률변수의 표본값이 1과 0이 아니라 1과 -1이라는 값을 가진다면 다음과 같은 수식으로 써야 한다.\n",
    "\n",
    "$$\n",
    "\\begin{align}\n",
    "\\text{Bern}(x; \\mu) = \\mu^{(1+x)/2} (1-\\mu)^{(1-x)/2}\n",
    "\\tag{8.2.4}\n",
    "\\end{align}\n",
    "$$"
   ]
  },
  {
   "cell_type": "markdown",
   "metadata": {
    "school_cell_uuid": "285f0507b9de4c9688eff39c15c3b052"
   },
   "source": [
    "### 사이파이를 사용한 베르누이 확률변수의 시뮬레이션"
   ]
  },
  {
   "cell_type": "markdown",
   "metadata": {
    "school_cell_uuid": "e22672364e2b4166a2cd6a2b1878c10d"
   },
   "source": [
    "사이파이의 stats 서브 패키지에 있는 `bernoulli` 클래스는 베르누이 확률변수를 구현했다. `p` 인수로 분포의 모수 $\\mu$을 설정한다. \n",
    "\n",
    "다음 예에서는 p=0.6 으로 설정했다. 이러한 확률변수를 만든 것은 앞면이 나올 확률이 0.6인 동전을 만든 것과 같다."
   ]
  },
  {
   "cell_type": "code",
   "execution_count": 2,
   "metadata": {},
   "outputs": [],
   "source": [
    "# 경고 무시\n",
    "import warnings\n",
    "warnings.simplefilter('ignore')\n",
    "\n",
    "# 자주 사용하는 패키지를 임포트\n",
    "import matplotlib as mpl\n",
    "import matplotlib.pylab as plt\n",
    "from mpl_toolkits.mplot3d import Axes3D\n",
    "import seaborn as sns\n",
    "import numpy as np\n",
    "import scipy as sp\n",
    "import pandas as pd\n",
    "import statsmodels.api as sm\n",
    "import sklearn as sk\n",
    "\n",
    "# matplotlib 설정\n",
    "mpl.use('Agg')\n",
    "\n",
    "# seaborn 설정\n",
    "sns.set()\n",
    "sns.set_style(\"whitegrid\")\n",
    "sns.set_color_codes()\n"
   ]
  },
  {
   "cell_type": "code",
   "execution_count": 4,
   "metadata": {},
   "outputs": [],
   "source": [
    "%matplotlib inline"
   ]
  },
  {
   "cell_type": "code",
   "execution_count": 5,
   "metadata": {
    "school_cell_uuid": "b3a5173b4dfe413b8d07dc821986ca4a"
   },
   "outputs": [
    {
     "data": {
      "text/plain": [
       "scipy.stats._distn_infrastructure.rv_frozen"
      ]
     },
     "execution_count": 5,
     "metadata": {},
     "output_type": "execute_result"
    }
   ],
   "source": [
    "mu = 0.6\n",
    "rv = sp.stats.bernoulli(mu)\n",
    "type(rv)"
   ]
  },
  {
   "cell_type": "markdown",
   "metadata": {
    "school_cell_uuid": "c6e3680ac7cf4f6d98697c5c30be915a"
   },
   "source": [
    "확률질량함수는 `pmf()` 메서드로 계산한다."
   ]
  },
  {
   "cell_type": "code",
   "execution_count": 6,
   "metadata": {
    "school_cell_uuid": "d63c353b1a60485cb79ece27118a2461"
   },
   "outputs": [
    {
     "data": {
      "image/png": "[encoded data removed]",
      "text/plain": [
       "<Figure size 432x288 with 1 Axes>"
      ]
     },
     "metadata": {
      "needs_background": "light"
     },
     "output_type": "display_data"
    }
   ],
   "source": [
    "xx = [0, 1]\n",
    "plt.bar(xx, rv.pmf(xx))\n",
    "plt.xlim(-1, 2)\n",
    "plt.ylim(0, 1)\n",
    "plt.xticks([0, 1], [\"x=0\", \"x=1\"])\n",
    "plt.xlabel(\"표본값\")\n",
    "plt.ylabel(\"P(x)\")\n",
    "plt.title(\"베르누이 확률변수의 확률질량함수\")\n",
    "plt.show()"
   ]
  },
  {
   "cell_type": "markdown",
   "metadata": {
    "school_cell_uuid": "c4082c2296a5430285e11848c865141c"
   },
   "source": [
    "표본값을 무작위로 생성하려면 `rvs()` 메서드를 사용한다. 다음 코드는 표본 100개를 생성한다. 이는 위에서 만든 동전을 100번 던져 나온 결과를 나타낸 것과 같다. 그래서 확률변수의 표본을 생성하는 작업을 **시뮬레이션(simulation)**이라고도 부른다. "
   ]
  },
  {
   "cell_type": "code",
   "execution_count": 7,
   "metadata": {
    "school_cell_uuid": "f114e4f1e33c4a79a60a88f092e2d226"
   },
   "outputs": [
    {
     "data": {
      "text/plain": [
       "array([1, 0, 0, 1, 1, 0, 1, 0, 0, 1, 0, 1, 1, 0, 1, 1, 1, 0, 0, 0, 0, 0,\n",
       "       1, 0, 1, 0, 1, 0, 1, 1, 1, 0, 1, 1, 1, 0, 0, 0, 0, 0, 1, 1, 0, 1,\n",
       "       0, 0, 1, 1, 1, 1, 1, 1, 0, 1, 1, 1, 0, 1, 1, 1, 1, 1, 0, 1, 1, 1,\n",
       "       0, 1, 0, 1, 0, 1, 0, 0, 0, 1, 1, 1, 1, 1, 1, 1, 1, 0, 1, 1, 1, 1,\n",
       "       1, 0, 1, 0, 1, 0, 1, 1, 1, 1, 0, 1])"
      ]
     },
     "execution_count": 7,
     "metadata": {},
     "output_type": "execute_result"
    }
   ],
   "source": [
    "x = rv.rvs(100, random_state=0)\n",
    "x"
   ]
  },
  {
   "cell_type": "markdown",
   "metadata": {
    "school_cell_uuid": "5ef7a29fec90424a9b97d9a545baeb0d"
   },
   "source": [
    "다음은 생성 결과를 시본의 `countplot()` 명령으로 시각화한 것이다."
   ]
  },
  {
   "cell_type": "code",
   "execution_count": 8,
   "metadata": {
    "school_cell_uuid": "06e3372c8c224706969ec3858da4701f"
   },
   "outputs": [
    {
     "data": {
      "image/png": "[encoded data removed]",
      "text/plain": [
       "<Figure size 432x288 with 1 Axes>"
      ]
     },
     "metadata": {
      "needs_background": "light"
     },
     "output_type": "display_data"
    }
   ],
   "source": [
    "sns.countplot(x)\n",
    "plt.title(\"베르누이 확률변수의 시뮬레이션 결과\")\n",
    "plt.xlabel(\"표본값\")\n",
    "plt.show()"
   ]
  },
  {
   "cell_type": "markdown",
   "metadata": {
    "school_cell_uuid": "cfaf4129cccd4453b41ef4b4ddca9ac4"
   },
   "source": [
    "이론적인 확률분포와 표본의 확률분포를 동시에 보이려면 다음과 같은 코드를 사용한다."
   ]
  },
  {
   "cell_type": "code",
   "execution_count": 10,
   "metadata": {
    "school_cell_uuid": "bbaad99fd8b74dcbba001daec653c83a"
   },
   "outputs": [
    {
     "name": "stdout",
     "output_type": "stream",
     "text": [
      "[0.4 0.6]\n"
     ]
    },
    {
     "data": {
      "text/html": [
       "<div>\n",
       "<style scoped>\n",
       "    .dataframe tbody tr th:only-of-type {\n",
       "        vertical-align: middle;\n",
       "    }\n",
       "\n",
       "    .dataframe tbody tr th {\n",
       "        vertical-align: top;\n",
       "    }\n",
       "\n",
       "    .dataframe thead th {\n",
       "        text-align: right;\n",
       "    }\n",
       "</style>\n",
       "<table border=\"1\" class=\"dataframe\">\n",
       "  <thead>\n",
       "    <tr style=\"text-align: right;\">\n",
       "      <th></th>\n",
       "      <th>이론</th>\n",
       "      <th>시뮬레이션</th>\n",
       "    </tr>\n",
       "  </thead>\n",
       "  <tbody>\n",
       "    <tr>\n",
       "      <th>0</th>\n",
       "      <td>0.4</td>\n",
       "      <td>0.38</td>\n",
       "    </tr>\n",
       "    <tr>\n",
       "      <th>1</th>\n",
       "      <td>0.6</td>\n",
       "      <td>0.62</td>\n",
       "    </tr>\n",
       "  </tbody>\n",
       "</table>\n",
       "</div>"
      ],
      "text/plain": [
       "    이론  시뮬레이션\n",
       "0  0.4   0.38\n",
       "1  0.6   0.62"
      ]
     },
     "execution_count": 10,
     "metadata": {},
     "output_type": "execute_result"
    }
   ],
   "source": [
    "y = np.bincount(x, minlength=2) / float(len(x))\n",
    "print(rv.pmf(xx))\n",
    "df = pd.DataFrame({\"이론\": rv.pmf(xx), \"시뮬레이션\": y})\n",
    "df.index = [0, 1]\n",
    "df"
   ]
  },
  {
   "cell_type": "markdown",
   "metadata": {
    "school_cell_uuid": "f6ce244c600a449598483bed2fa01706"
   },
   "source": [
    "시본의 `barplot()` 명령으로 시각화하면 다음과 같다."
   ]
  },
  {
   "cell_type": "code",
   "execution_count": 11,
   "metadata": {
    "school_cell_uuid": "f86f854ce3654cd49ad8d9b8d6841a40"
   },
   "outputs": [
    {
     "data": {
      "text/html": [
       "<div>\n",
       "<style scoped>\n",
       "    .dataframe tbody tr th:only-of-type {\n",
       "        vertical-align: middle;\n",
       "    }\n",
       "\n",
       "    .dataframe tbody tr th {\n",
       "        vertical-align: top;\n",
       "    }\n",
       "\n",
       "    .dataframe thead th {\n",
       "        text-align: right;\n",
       "    }\n",
       "</style>\n",
       "<table border=\"1\" class=\"dataframe\">\n",
       "  <thead>\n",
       "    <tr style=\"text-align: right;\">\n",
       "      <th></th>\n",
       "      <th>표본값</th>\n",
       "      <th>유형</th>\n",
       "      <th>비율</th>\n",
       "    </tr>\n",
       "  </thead>\n",
       "  <tbody>\n",
       "    <tr>\n",
       "      <th>0</th>\n",
       "      <td>0</td>\n",
       "      <td>이론</td>\n",
       "      <td>0.40</td>\n",
       "    </tr>\n",
       "    <tr>\n",
       "      <th>1</th>\n",
       "      <td>0</td>\n",
       "      <td>시뮬레이션</td>\n",
       "      <td>0.38</td>\n",
       "    </tr>\n",
       "    <tr>\n",
       "      <th>2</th>\n",
       "      <td>1</td>\n",
       "      <td>이론</td>\n",
       "      <td>0.60</td>\n",
       "    </tr>\n",
       "    <tr>\n",
       "      <th>3</th>\n",
       "      <td>1</td>\n",
       "      <td>시뮬레이션</td>\n",
       "      <td>0.62</td>\n",
       "    </tr>\n",
       "  </tbody>\n",
       "</table>\n",
       "</div>"
      ],
      "text/plain": [
       "   표본값     유형    비율\n",
       "0    0     이론  0.40\n",
       "1    0  시뮬레이션  0.38\n",
       "2    1     이론  0.60\n",
       "3    1  시뮬레이션  0.62"
      ]
     },
     "execution_count": 11,
     "metadata": {},
     "output_type": "execute_result"
    }
   ],
   "source": [
    "df2 = df.stack().reset_index()\n",
    "df2.columns = [\"표본값\", \"유형\", \"비율\"]\n",
    "df2"
   ]
  },
  {
   "cell_type": "code",
   "execution_count": 7,
   "metadata": {
    "school_cell_uuid": "0680e882239f48dea0f9d07bc17ed168"
   },
   "outputs": [
    {
     "data": {
      "image/png": "[encoded data removed]",
      "text/plain": [
       "<Figure size 2400x1500 with 1 Axes>"
      ]
     },
     "metadata": {
      "needs_background": "light"
     },
     "output_type": "display_data"
    }
   ],
   "source": [
    "sns.barplot(x=\"표본값\", y=\"비율\", hue=\"유형\", data=df2)\n",
    "plt.title(\"베르누이분포의 이론적 분포와 시뮬레이션 분포\")\n",
    "plt.show()"
   ]
  },
  {
   "cell_type": "markdown",
   "metadata": {
    "bootstrap": {
     "panel": {
      "class": "panel-default"
     }
    },
    "school_cell_uuid": "cae9e59175fd476e882307cdb3d5cc1a"
   },
   "source": [
    "#### 연습 문제 8.2.2\n",
    "\n",
    "베르누이 확률분포의 모수가 다음과 같을 경우에 각각 표본을 생성한 후 기댓값과 분산을 구하고 앞의 예제와 같이 확률 밀도 함수와 비교한 바 플롯을 그린다.\n",
    "표본 개수가 10개인 경우와 1000개인 경우에 대해 각각 위의 계산을 한다.\n",
    "\n",
    "(1) $\\mu = 0.5$\n",
    "\n",
    "(2) $\\mu = 0.9$\n"
   ]
  },
  {
   "cell_type": "code",
   "execution_count": 22,
   "metadata": {},
   "outputs": [
    {
     "name": "stdout",
     "output_type": "stream",
     "text": [
      "DescribeResult(nobs=1000, minmax=(0, 1), mean=0.483, variance=0.249960960960961, skewness=0.06803933810942835, kurtosis=-1.9953706484696307)\n"
     ]
    },
    {
     "data": {
      "image/png": "[encoded data removed]",
      "text/plain": [
       "<Figure size 432x288 with 1 Axes>"
      ]
     },
     "metadata": {
      "needs_background": "light"
     },
     "output_type": "display_data"
    },
    {
     "name": "stdout",
     "output_type": "stream",
     "text": [
      "DescribeResult(nobs=1000, minmax=(0, 1), mean=0.892, variance=0.09643243243243244, skewness=-2.5259325985550602, kurtosis=4.380335492443118)\n"
     ]
    },
    {
     "data": {
      "text/plain": [
       "<matplotlib.axes._subplots.AxesSubplot at 0x1cbcf222148>"
      ]
     },
     "execution_count": 22,
     "metadata": {},
     "output_type": "execute_result"
    },
    {
     "data": {
      "image/png": "[encoded data removed]",
      "text/plain": [
       "<Figure size 432x288 with 1 Axes>"
      ]
     },
     "metadata": {
      "needs_background": "light"
     },
     "output_type": "display_data"
    }
   ],
   "source": [
    "mu1 = 0.5\n",
    "rv1 = sp.stats.bernoulli(mu1)\n",
    "# 1000개 size 바꾸기\n",
    "x1 = rv1.rvs(size=1000, random_state=0)\n",
    "y1 = np.bincount(x1, minlength=2) / float(len(x1))\n",
    "print(sp.stats.describe(x1))\n",
    "# 기대값은 그냥 0.5, 분산은 0.25\n",
    "\n",
    "df1 = pd.DataFrame({\"이론\": rv1.pmf(xx), \"시뮬레이션\": y1})\n",
    "df1.index = [0, 1]\n",
    "df2 = df1.stack().reset_index()\n",
    "df2.columns = [\"표본값\", \"유형\", \"비율\"]\n",
    "sns.barplot(x=\"표본값\", y=\"비율\", hue=\"유형\", data=df2)\n",
    "plt.show()\n",
    "\n",
    "mu2 = 0.9\n",
    "rv2 = sp.stats.bernoulli(mu2)\n",
    "# 1000개 size 바꾸기\n",
    "x2 = rv2.rvs(size=1000, random_state=0)\n",
    "y2 = np.bincount(x2, minlength=2) / float(len(x2))\n",
    "print(sp.stats.describe(x2))\n",
    "\n",
    "df3 = pd.DataFrame({\"이론\": rv2.pmf(xx), \"시뮬레이션\": y2})\n",
    "df3.index = [0, 1]\n",
    "df4 = df3.stack().reset_index()\n",
    "df4.columns = [\"표본값\", \"유형\", \"비율\"]\n",
    "sns.barplot(x=\"표본값\", y=\"비율\", hue=\"유형\", data=df4)"
   ]
  },
  {
   "cell_type": "markdown",
   "metadata": {
    "school_cell_uuid": "dfcd15bfda134038a60b68e7f2f68efa"
   },
   "source": [
    "### 베르누이분포의 모멘트"
   ]
  },
  {
   "cell_type": "markdown",
   "metadata": {
    "school_cell_uuid": "7c447fc79c864adda5522362b074cbff"
   },
   "source": [
    "베르누이분포의 모멘트는 다음과 같다.\n",
    "\n",
    "* 기댓값\n",
    "\n",
    "$$\n",
    "\\begin{align}\n",
    "\\text{E}[X]  = \\mu\n",
    "\\tag{8.2.5}\n",
    "\\end{align}\n",
    "$$\n",
    "\n",
    "(증명)\n",
    "\n",
    "$$\n",
    "\\begin{align}\n",
    "\\begin{aligned}\n",
    "\\text{E}[X] \n",
    "&= \\sum_{x_i \\in \\Omega} x_i p(x_i) \\\\\n",
    "&= 1 \\cdot \\mu + 0 \\cdot (1 - \\mu) \\\\\n",
    "&= \\mu\n",
    "\\end{aligned}\n",
    "\\tag{8.2.6}\n",
    "\\end{align}\n",
    "$$\n",
    "\n",
    "* 분산\n",
    "\n",
    "$$\n",
    "\\begin{align}\n",
    "\\text{Var}[X] = \\mu(1-\\mu)\n",
    "\\tag{8.2.7}\n",
    "\\end{align}\n",
    "$$\n",
    "\n",
    "(증명)\n",
    "\n",
    "$$\n",
    "\\begin{align}\n",
    "\\begin{aligned}\n",
    "\\text{Var}[X] \n",
    "&= \\sum_{x_i \\in \\Omega} (x_i - \\mu)^2 p(x_i) \\\\\n",
    "&= (1 - \\mu)^2 \\cdot \\mu + (0 - \\mu)^2 \\cdot (1 - \\mu) \\\\\n",
    "&= \\mu(1-\\mu)\n",
    "\\end{aligned}\n",
    "\\tag{8.2.8}\n",
    "\\end{align}\n",
    "$$"
   ]
  },
  {
   "cell_type": "markdown",
   "metadata": {
    "school_cell_uuid": "ed20fab4fa4145c4aa0c955a7fc25f93"
   },
   "source": [
    "앞의 예에서는 $\\mu = 0.6$이였으므로 이론적인 기댓값과 분산은 다음과 같다.\n",
    "\n",
    "$$\n",
    "\\begin{align}\n",
    "\\text{E}[X] = 0.6\n",
    "\\tag{8.2.9}\n",
    "\\end{align}\n",
    "$$\n",
    "\n",
    "$$\n",
    "\\begin{align}\n",
    "\\text{Var}[X] = 0.6 \\cdot (1 - 0.6) = 0.24\n",
    "\\tag{8.2.10}\n",
    "\\end{align}\n",
    "$$\n",
    "\n",
    "데이터에서 계산한 표본평균 및 표본분산은 다음과 같이 계산한다."
   ]
  },
  {
   "cell_type": "code",
   "execution_count": 8,
   "metadata": {
    "school_cell_uuid": "60c02049ba274c1ca39aaa9c43e3c8af"
   },
   "outputs": [
    {
     "data": {
      "text/plain": [
       "0.62"
      ]
     },
     "execution_count": 8,
     "metadata": {},
     "output_type": "execute_result"
    }
   ],
   "source": [
    "np.mean(x)"
   ]
  },
  {
   "cell_type": "code",
   "execution_count": 9,
   "metadata": {
    "school_cell_uuid": "99ddca993ae24ec79465ba844d34c4d1"
   },
   "outputs": [
    {
     "data": {
      "text/plain": [
       "0.23797979797979804"
      ]
     },
     "execution_count": 9,
     "metadata": {},
     "output_type": "execute_result"
    }
   ],
   "source": [
    "np.var(x, ddof=1)"
   ]
  },
  {
   "cell_type": "markdown",
   "metadata": {
    "school_cell_uuid": "8c7bb9c5047d49d5b68c60a7b89d6733"
   },
   "source": [
    "기술통계값들은 사이파이가 제공하는 ``describe`` 명령으로 계산할 수도 있다."
   ]
  },
  {
   "cell_type": "code",
   "execution_count": 10,
   "metadata": {
    "school_cell_uuid": "5e7a64053d934e9bafc4db5aab86aa42"
   },
   "outputs": [
    {
     "data": {
      "text/plain": [
       "(0.62, 0.23797979797979804)"
      ]
     },
     "execution_count": 10,
     "metadata": {},
     "output_type": "execute_result"
    }
   ],
   "source": [
    "s = sp.stats.describe(x)\n",
    "s[2], s[3]"
   ]
  },
  {
   "cell_type": "markdown",
   "metadata": {
    "school_cell_uuid": "fe1ad194656847f8be4a5df1cc7c92e0"
   },
   "source": [
    "### 이항분포"
   ]
  },
  {
   "cell_type": "markdown",
   "metadata": {
    "school_cell_uuid": "533554d46bff4158a008a68d8cafea8a"
   },
   "source": [
    "성공확률이 $\\mu$ 인 베르누이 시행을 $N$번 반복하는 경우를 생각해보자. 가장 운이 좋을 때에는 $N$번 모두 성공할 것이고 가장 운이 나쁜 경우에는 한 번도 성공하지 못할 것이다. $N$번 중 성공한 횟수를 확률변수 $X$라고 한다면 $X$의 값은 0 부터 $N$ 까지의 정수 중 하나가 될 것이다. \n",
    "\n",
    "이런 확률변수를 **이항분포(binomial distribution)**를 따르는 확률변수라고 하며 다음과 같이 표시한다.\n",
    "\n",
    "$$\n",
    "\\begin{align}\n",
    "X \\sim \\text{Bin}(x;N,\\mu)\n",
    "\\tag{8.2.11}\n",
    "\\end{align}\n",
    "$$\n",
    "\n",
    "베르누이분포와 이항분포는 모두 베르누이 확률변수에서 나온 표본값이다. 표본 데이터가 하나 뿐이면 베르누이분포가 되고 표본 데이터가 여럿이면 이항분포가 된다. \n",
    "\n",
    "이항분포 확률변수 $X$의 확률질량함수를 구해보자. 우선 베르누이 확률 분포를 따르는 확률변수 $Y$를 가정한다. \n",
    "\n",
    "$$\n",
    "\\begin{align}\n",
    "Y \\sim \\text{Bern}(y;\\mu)\n",
    "\\tag{8.2.12}\n",
    "\\end{align}\n",
    "$$\n",
    "\n",
    "이 확률변수의 $N$개의 표본을 $y_1, y_2, \\cdots, y_N$라고 하자. 이 값은 모두 0(실패) 아니면 1(성공)이라는 값을 가지기 때문에 $N$번 중 성공한 횟수는 $N$개의 표본값의 합이다.\n",
    "\n",
    "$$\n",
    "\\begin{align}\n",
    "x = \\sum_{i=1}^N y_i\n",
    "\\tag{8.2.13}\n",
    "\\end{align}\n",
    "$$\n",
    "\n",
    "베르누이분포를 따르는 확률변수 $Y$의 확률질량함수를 대입하여 정리하면 이항분포 확률변수 $X$의 확률질량함수는 다음과 같아진다.\n",
    "\n",
    "$$\n",
    "\\begin{align}\n",
    "\\text{Bin}(x;N,\\mu) = \\binom N x \\; \\mu^x(1-\\mu)^{N-x}\n",
    "\\tag{8.2.14}\n",
    "\\end{align}\n",
    "$$\n",
    "\n",
    "이 식에서 $\\binom N x$ 기호는 **조합(combination)**이라는 기호로 $N$개 원소 중에 $x$개 원소를 순서와 상관없이 선택할 수 있는 경우의 수를 뜻한다. 조합은 다음 공식으로 계산할 수 있다.\n",
    "\n",
    "$$\n",
    "\\begin{align}\n",
    "\\binom N x =\\dfrac{N!}{x!(N-x)!}\n",
    "\\tag{8.2.15}\n",
    "\\end{align}\n",
    "$$\n",
    "\n",
    "$!$ 기호는 **팩토리얼(factorial)**이라고 하며 다음처럼 정의한다.\n",
    "\n",
    "$$\n",
    "\\begin{align}\n",
    "N! = N\\cdot (N-1) \\cdots 2 \\cdot 1\n",
    "\\tag{8.2.16}\n",
    "\\end{align}\n",
    "$$"
   ]
  },
  {
   "cell_type": "markdown",
   "metadata": {
    "school_cell_uuid": "6dfa9e3bf37f4f29bddca1e2630f4f30"
   },
   "source": [
    "### 사이파이를 사용한 이항분포의 시뮬레이션"
   ]
  },
  {
   "cell_type": "markdown",
   "metadata": {
    "school_cell_uuid": "7ba0d35e085a418e9fb8f88d5310151f"
   },
   "source": [
    "이항분포 확률변수는 사이파이의 stats 서브패키지에 `binom` 클래스로 구현되어 있다. `n` 인수로 전체 시행 횟수 $N$를 넣고 `p` 인수로 베르누이 확률 분포의 기댓값 $\\mu$를 넣는다."
   ]
  },
  {
   "cell_type": "code",
   "execution_count": 27,
   "metadata": {
    "school_cell_uuid": "0e91947c701343938e93199030926bae"
   },
   "outputs": [
    {
     "data": {
      "text/plain": [
       "<scipy.stats._distn_infrastructure.rv_frozen at 0x1cbcf2a15c8>"
      ]
     },
     "execution_count": 27,
     "metadata": {},
     "output_type": "execute_result"
    }
   ],
   "source": [
    "N = 10\n",
    "mu = 0.6\n",
    "rv = sp.stats.binom(N, mu)\n",
    "rv"
   ]
  },
  {
   "cell_type": "markdown",
   "metadata": {
    "school_cell_uuid": "94284aabf57547efb3c025b24e52e03b"
   },
   "source": [
    "이 때 확률질량함수는 다음과 같다. 확률질량함수의 모양이 하나의 봉우리를 가지는 단봉분포지만 0부터 $N$사이의 정수값만 가질 수 있고 모수의 값에 따라 봉우리의 위치가 달라진다."
   ]
  },
  {
   "cell_type": "code",
   "execution_count": 28,
   "metadata": {
    "school_cell_uuid": "c5691457ba2848efbefc5a7ba489a1b7"
   },
   "outputs": [
    {
     "data": {
      "image/png": "[encoded data removed]",
      "text/plain": [
       "<Figure size 432x288 with 1 Axes>"
      ]
     },
     "metadata": {
      "needs_background": "light"
     },
     "output_type": "display_data"
    }
   ],
   "source": [
    "xx = np.arange(N + 1)\n",
    "plt.bar(xx, rv.pmf(xx), align=\"center\")\n",
    "plt.xlabel(\"표본값\")\n",
    "plt.ylabel(\"$P(x)$\")\n",
    "plt.title(\"이항분포의 확률질량함수\")\n",
    "plt.show()"
   ]
  },
  {
   "cell_type": "markdown",
   "metadata": {
    "school_cell_uuid": "505ba5920a334d9daa5e71831fd51dd6"
   },
   "source": [
    "`rvs()` 메서드로 무작위 표본을 뽑아내는 시뮬레이션을 한 결과는 다음과 같다. 시뮬레이션 결과는 확률질량함수의 모양과 비슷하지만 정확히 일치하지는 않는다."
   ]
  },
  {
   "cell_type": "code",
   "execution_count": 13,
   "metadata": {
    "school_cell_uuid": "a10fa48af6164a17a8563110c04aabc4"
   },
   "outputs": [
    {
     "data": {
      "text/plain": [
       "array([ 6,  5,  6,  6,  6,  5,  6,  4,  3,  6,  5,  6,  6,  4,  8,  8,  9,\n",
       "        5,  5,  4,  3,  5,  6,  5,  8,  5,  8,  4,  6,  6,  7,  5,  6,  6,\n",
       "        9,  6,  6,  6,  4,  5,  7,  6,  5,  8,  5,  5,  7,  8,  7,  7,  6,\n",
       "        6,  2,  8,  7,  8,  5,  7,  6,  7,  8,  8,  5,  8,  7,  7,  5,  8,\n",
       "        4,  8,  3,  6,  3,  6,  5,  9,  7,  8,  7,  8,  7,  6,  8,  5,  6,\n",
       "        7,  6,  8,  6,  4,  7,  5,  8,  5,  7,  7,  6,  9,  5, 10])"
      ]
     },
     "execution_count": 13,
     "metadata": {},
     "output_type": "execute_result"
    }
   ],
   "source": [
    "np.random.seed(0)\n",
    "x = rv.rvs(100)\n",
    "x"
   ]
  },
  {
   "cell_type": "code",
   "execution_count": 14,
   "metadata": {
    "school_cell_uuid": "3c37d55fd72d461483b581f5bd9c023b"
   },
   "outputs": [
    {
     "data": {
      "image/png": "[encoded data removed]",
      "text/plain": [
       "<Figure size 2400x1500 with 1 Axes>"
      ]
     },
     "metadata": {
      "needs_background": "light"
     },
     "output_type": "display_data"
    }
   ],
   "source": [
    "sns.countplot(x)\n",
    "plt.title(\"이항분포의 시뮬레이션 결과\")\n",
    "plt.xlabel(\"표본값\")\n",
    "plt.show()"
   ]
  },
  {
   "cell_type": "markdown",
   "metadata": {
    "school_cell_uuid": "09bb9f65251c4007b79aa324cd85715e"
   },
   "source": [
    "이론적인 확률분포와 표본의 확률분포를 같이 나타내려면 다음과 같은 코드를 사용한다."
   ]
  },
  {
   "cell_type": "code",
   "execution_count": 15,
   "metadata": {
    "school_cell_uuid": "7d3d9ebb309547dea2adbbd7fda8ba96"
   },
   "outputs": [
    {
     "data": {
      "text/html": [
       "<div>\n",
       "<style scoped>\n",
       "    .dataframe tbody tr th:only-of-type {\n",
       "        vertical-align: middle;\n",
       "    }\n",
       "\n",
       "    .dataframe tbody tr th {\n",
       "        vertical-align: top;\n",
       "    }\n",
       "\n",
       "    .dataframe thead th {\n",
       "        text-align: right;\n",
       "    }\n",
       "</style>\n",
       "<table border=\"1\" class=\"dataframe\">\n",
       "  <thead>\n",
       "    <tr style=\"text-align: right;\">\n",
       "      <th></th>\n",
       "      <th>표본값</th>\n",
       "      <th>유형</th>\n",
       "      <th>비율</th>\n",
       "    </tr>\n",
       "  </thead>\n",
       "  <tbody>\n",
       "    <tr>\n",
       "      <th>0</th>\n",
       "      <td>0</td>\n",
       "      <td>이론</td>\n",
       "      <td>0.000105</td>\n",
       "    </tr>\n",
       "    <tr>\n",
       "      <th>1</th>\n",
       "      <td>0</td>\n",
       "      <td>시뮬레이션</td>\n",
       "      <td>0.000000</td>\n",
       "    </tr>\n",
       "    <tr>\n",
       "      <th>2</th>\n",
       "      <td>1</td>\n",
       "      <td>이론</td>\n",
       "      <td>0.001573</td>\n",
       "    </tr>\n",
       "    <tr>\n",
       "      <th>3</th>\n",
       "      <td>1</td>\n",
       "      <td>시뮬레이션</td>\n",
       "      <td>0.000000</td>\n",
       "    </tr>\n",
       "    <tr>\n",
       "      <th>4</th>\n",
       "      <td>2</td>\n",
       "      <td>이론</td>\n",
       "      <td>0.010617</td>\n",
       "    </tr>\n",
       "    <tr>\n",
       "      <th>5</th>\n",
       "      <td>2</td>\n",
       "      <td>시뮬레이션</td>\n",
       "      <td>0.010000</td>\n",
       "    </tr>\n",
       "    <tr>\n",
       "      <th>6</th>\n",
       "      <td>3</td>\n",
       "      <td>이론</td>\n",
       "      <td>0.042467</td>\n",
       "    </tr>\n",
       "    <tr>\n",
       "      <th>7</th>\n",
       "      <td>3</td>\n",
       "      <td>시뮬레이션</td>\n",
       "      <td>0.040000</td>\n",
       "    </tr>\n",
       "    <tr>\n",
       "      <th>8</th>\n",
       "      <td>4</td>\n",
       "      <td>이론</td>\n",
       "      <td>0.111477</td>\n",
       "    </tr>\n",
       "    <tr>\n",
       "      <th>9</th>\n",
       "      <td>4</td>\n",
       "      <td>시뮬레이션</td>\n",
       "      <td>0.070000</td>\n",
       "    </tr>\n",
       "    <tr>\n",
       "      <th>10</th>\n",
       "      <td>5</td>\n",
       "      <td>이론</td>\n",
       "      <td>0.200658</td>\n",
       "    </tr>\n",
       "    <tr>\n",
       "      <th>11</th>\n",
       "      <td>5</td>\n",
       "      <td>시뮬레이션</td>\n",
       "      <td>0.210000</td>\n",
       "    </tr>\n",
       "    <tr>\n",
       "      <th>12</th>\n",
       "      <td>6</td>\n",
       "      <td>이론</td>\n",
       "      <td>0.250823</td>\n",
       "    </tr>\n",
       "    <tr>\n",
       "      <th>13</th>\n",
       "      <td>6</td>\n",
       "      <td>시뮬레이션</td>\n",
       "      <td>0.270000</td>\n",
       "    </tr>\n",
       "    <tr>\n",
       "      <th>14</th>\n",
       "      <td>7</td>\n",
       "      <td>이론</td>\n",
       "      <td>0.214991</td>\n",
       "    </tr>\n",
       "    <tr>\n",
       "      <th>15</th>\n",
       "      <td>7</td>\n",
       "      <td>시뮬레이션</td>\n",
       "      <td>0.170000</td>\n",
       "    </tr>\n",
       "    <tr>\n",
       "      <th>16</th>\n",
       "      <td>8</td>\n",
       "      <td>이론</td>\n",
       "      <td>0.120932</td>\n",
       "    </tr>\n",
       "    <tr>\n",
       "      <th>17</th>\n",
       "      <td>8</td>\n",
       "      <td>시뮬레이션</td>\n",
       "      <td>0.180000</td>\n",
       "    </tr>\n",
       "    <tr>\n",
       "      <th>18</th>\n",
       "      <td>9</td>\n",
       "      <td>이론</td>\n",
       "      <td>0.040311</td>\n",
       "    </tr>\n",
       "    <tr>\n",
       "      <th>19</th>\n",
       "      <td>9</td>\n",
       "      <td>시뮬레이션</td>\n",
       "      <td>0.040000</td>\n",
       "    </tr>\n",
       "    <tr>\n",
       "      <th>20</th>\n",
       "      <td>10</td>\n",
       "      <td>이론</td>\n",
       "      <td>0.006047</td>\n",
       "    </tr>\n",
       "    <tr>\n",
       "      <th>21</th>\n",
       "      <td>10</td>\n",
       "      <td>시뮬레이션</td>\n",
       "      <td>0.010000</td>\n",
       "    </tr>\n",
       "  </tbody>\n",
       "</table>\n",
       "</div>"
      ],
      "text/plain": [
       "    표본값     유형        비율\n",
       "0     0     이론  0.000105\n",
       "1     0  시뮬레이션  0.000000\n",
       "2     1     이론  0.001573\n",
       "3     1  시뮬레이션  0.000000\n",
       "4     2     이론  0.010617\n",
       "5     2  시뮬레이션  0.010000\n",
       "6     3     이론  0.042467\n",
       "7     3  시뮬레이션  0.040000\n",
       "8     4     이론  0.111477\n",
       "9     4  시뮬레이션  0.070000\n",
       "10    5     이론  0.200658\n",
       "11    5  시뮬레이션  0.210000\n",
       "12    6     이론  0.250823\n",
       "13    6  시뮬레이션  0.270000\n",
       "14    7     이론  0.214991\n",
       "15    7  시뮬레이션  0.170000\n",
       "16    8     이론  0.120932\n",
       "17    8  시뮬레이션  0.180000\n",
       "18    9     이론  0.040311\n",
       "19    9  시뮬레이션  0.040000\n",
       "20   10     이론  0.006047\n",
       "21   10  시뮬레이션  0.010000"
      ]
     },
     "execution_count": 15,
     "metadata": {},
     "output_type": "execute_result"
    }
   ],
   "source": [
    "y = np.bincount(x, minlength=N+1)/float(len(x))\n",
    "df = pd.DataFrame({\"이론\": rv.pmf(xx), \"시뮬레이션\": y}).stack()\n",
    "df = df.reset_index()\n",
    "df.columns = [\"표본값\", \"유형\", \"비율\"]\n",
    "df.pivot(\"표본값\", \"유형\", \"비율\")\n",
    "df"
   ]
  },
  {
   "cell_type": "code",
   "execution_count": 16,
   "metadata": {
    "school_cell_uuid": "e2f1383b3d174e709433947c5d5d48ab"
   },
   "outputs": [
    {
     "data": {
      "image/png": "[encoded data removed]",
      "text/plain": [
       "<Figure size 2400x1500 with 1 Axes>"
      ]
     },
     "metadata": {
      "needs_background": "light"
     },
     "output_type": "display_data"
    }
   ],
   "source": [
    "sns.barplot(x=\"표본값\", y=\"비율\", hue=\"유형\", data=df)\n",
    "plt.title(\"이항분포의 이론적 분포와 시뮬레이션 분포\")\n",
    "plt.show()"
   ]
  },
  {
   "cell_type": "markdown",
   "metadata": {
    "school_cell_uuid": "03b123ea802c4f88a6b9f1f653118dc5"
   },
   "source": [
    "### 이항분포의 모멘트"
   ]
  },
  {
   "cell_type": "markdown",
   "metadata": {
    "school_cell_uuid": "d7e60def1ba74b009fb111d288fd5533"
   },
   "source": [
    "이항분포의 기댓값과 분산은 각각 다음과 같다.\n",
    "\n",
    "* 기댓값\n",
    "\n",
    "$$\n",
    "\\begin{align}\n",
    "\\text{E}[X] = N\\mu\n",
    "\\tag{8.2.17}\n",
    "\\end{align}\n",
    "$$\n",
    "\n",
    "(증명)\n",
    "\n",
    "$$\n",
    "\\begin{align}\n",
    "\\text{E}[X] = \\text{E} \\left[ \\sum_{i=1}^N Y_i \\right] = \\sum_{i=1}^N  \\text{E}[ Y_i ] = N\\mu\n",
    "\\tag{8.2.18}\n",
    "\\end{align}\n",
    "$$\n",
    "\n",
    "\n",
    "여기에서 $Y_i$는 서로 독립인 베르누이분포이다.\n",
    "\n",
    "* 분산\n",
    "\n",
    "$$\n",
    "\\begin{align}\n",
    "\\text{Var}[X] = N\\mu(1-\\mu)\n",
    "\\tag{8.2.19}\n",
    "\\end{align}\n",
    "$$\n",
    "\n",
    "(증명)\n",
    "\n",
    "$$\n",
    "\\begin{align}\n",
    "\\text{Var}[X] = \\text{Var} \\left[ \\sum_{i=1}^N Y_i \\right] = \\sum_{i=1}^N  \\text{Var}[ Y_i ] = N\\mu(1-\\mu)\n",
    "\\tag{8.2.20}\n",
    "\\end{align}\n",
    "$$"
   ]
  },
  {
   "cell_type": "markdown",
   "metadata": {
    "bootstrap": {
     "panel": {
      "class": "panel-default"
     }
    },
    "school_cell_uuid": "f9770631839d4d5cbd696e6cb8ffbf2d"
   },
   "source": [
    "#### 연습 문제 8.2.3\n",
    "\n",
    "이항 확률분포의 모수가 다음과 같을 경우에 각각 표본을 생성한 후 기댓값과 분산을 구하고 앞의 예제와 같이 확률밀도함수와 비교한 바 플롯을 그린다. \n",
    "\n",
    "표본 개수가 10개인 경우와 1000개인 경우에 대해 각각 위의 계산을 한다.\n",
    "\n",
    "(1) $\\mu = 0.5$, $N=5$\n",
    "\n",
    "(2) $\\mu = 0.9$, $N=20$"
   ]
  },
  {
   "cell_type": "code",
   "execution_count": 39,
   "metadata": {},
   "outputs": [
    {
     "name": "stdout",
     "output_type": "stream",
     "text": [
      "[4 2 1 2 1 5 2 1 3 2 3 3 2 2 2 4 2 3 0 2 2 4 3 2 3 2 4 2 2 2 1 1 2 2 3 4 2\n",
      " 3 4 2 3 4 1 1 3 2 2 1 1 4 1 2 3 2 4 2 1 3 4 3 2 3 3 3 1 4 3 3 4 2 3 1 2 4\n",
      " 2 2 3 2 2 2 1 1 2 3 2 3 4 3 2 4 3 2 5 1 3 3 3 3 4 2]\n"
     ]
    },
    {
     "data": {
      "image/png": "[encoded data removed]",
      "text/plain": [
       "<Figure size 432x288 with 1 Axes>"
      ]
     },
     "metadata": {
      "needs_background": "light"
     },
     "output_type": "display_data"
    },
    {
     "data": {
      "image/png": "[encoded data removed]",
      "text/plain": [
       "<Figure size 432x288 with 1 Axes>"
      ]
     },
     "metadata": {
      "needs_background": "light"
     },
     "output_type": "display_data"
    }
   ],
   "source": [
    "mu = 0.5\n",
    "N = 5\n",
    "rv = sp.stats.binom(N, mu)\n",
    "x = rv.rvs(100)\n",
    "xx = np.arange(N + 1)\n",
    "y = np.bincount(x, minlength=N+1)/float(len(x))\n",
    "y\n",
    "df = pd.DataFrame({\"이론\": rv.pmf(xx), \"시뮬레이션\": y}).stack()\n",
    "df = df.reset_index()\n",
    "df.columns = [\"표본값\", \"유형\", \"비율\"]\n",
    "df.pivot(\"표본값\", \"유형\", \"비율\")\n",
    "df\n",
    "sns.barplot(x=\"표본값\", y=\"비율\", hue=\"유형\", data=df)\n",
    "plt.title(\"이항분포의 이론적 분포와 시뮬레이션 분포\")\n",
    "plt.show()\n",
    "\n",
    "mu = 0.9\n",
    "N = 20\n",
    "rv = sp.stats.binom(N, mu)\n",
    "x = rv.rvs(100)\n",
    "xx = np.arange(N + 1)\n",
    "y = np.bincount(x, minlength=N+1)/float(len(x))\n",
    "y\n",
    "df = pd.DataFrame({\"이론\": rv.pmf(xx), \"시뮬레이션\": y}).stack()\n",
    "df = df.reset_index()\n",
    "df.columns = [\"표본값\", \"유형\", \"비율\"]\n",
    "df.pivot(\"표본값\", \"유형\", \"비율\")\n",
    "df\n",
    "sns.barplot(x=\"표본값\", y=\"비율\", hue=\"유형\", data=df)\n",
    "plt.title(\"이항분포의 이론적 분포와 시뮬레이션 분포\")\n",
    "plt.show()"
   ]
  },
  {
   "cell_type": "markdown",
   "metadata": {
    "school_cell_uuid": "a18ed8b2b2234b468fe354a87412d458"
   },
   "source": [
    "### 베르누이분포와 이항분포의 모수추정"
   ]
  },
  {
   "cell_type": "markdown",
   "metadata": {
    "school_cell_uuid": "0d454383acc6474ea9458c1b4e322ad7"
   },
   "source": [
    "데이터에서 모수의 값을 찾아내는 것을 **모수추정(parameter estimation)**이라고 한다. \n",
    "\n",
    "베르누이분포와 이항분포는 공통된 모수 $\\mu$를 가진다. 보통은 표본 데이터가 한 개보다 많기 때문에 이항분포가 된다. 추정한 값 $\\hat\\mu$은 다음처럼 계산한다.\n",
    "\n",
    "$$\n",
    "\\begin{align}\n",
    "\\hat{\\mu} = \\dfrac{\\sum_{i=1}^N x_i}{N}= \\dfrac{N_1}{N}\n",
    "\\tag{8.2.21}\n",
    "\\end{align}\n",
    "$$\n",
    "\n",
    "이 식에서 $N$은 전체 데이터의 수, $N_1$은 1이 나온 횟수이다."
   ]
  },
  {
   "cell_type": "markdown",
   "metadata": {
    "school_cell_uuid": "a18ed8b2b2234b468fe354a87412d458"
   },
   "source": [
    "### 베르누이분포의 활용"
   ]
  },
  {
   "cell_type": "markdown",
   "metadata": {
    "school_cell_uuid": "8f488f272a5e4c7abe29fe2b9aa5c04f"
   },
   "source": [
    "베르누이분포는 다음과 같은 경우에 사용된다.\n",
    "\n",
    "1. 분류예측 문제의 출력 데이터가 두 값으로 구분되는 카테고리값인 경우에 분류 결과 즉, 두 값 중 어느 값이 가능성이 높은지를 표현하는 데 사용된다(베이지안 관점).\n",
    "2. 입력 데이터가 0 또는 1 혹은 참 또는 거짓, 두 개의 값으로 구분되는 카테고리값인 경우, 두 종류의 값이 나타나는 비율을 표현하는 데 사용된다(빈도주의적 관점)."
   ]
  },
  {
   "cell_type": "markdown",
   "metadata": {
    "school_cell_uuid": "254485f3d0ab4133ab434da53fd57413"
   },
   "source": [
    "#### 예제\n",
    "\n",
    "스팸 메일(spam mail)과 정상 메일을 구분해야 하는 스팸 메일 필터(spam mail filter)를 만들어야 한다고 가정하자. 스팸 메일 필터를 만들기 위해 특정한 메일 계정으로 들어오는 메일을 모두 분석하였했다.  만약  메일이 모두 10통이고 이 중 6통이 스팸 메일이라면 이 메일 계정으로 들어온 메일이 스팸 메일일 가능성은 60%이다. 이러한 상황은 $\\mu = 0.6$인 베르누이분포로 나타낼 수 있다.\n",
    "\n",
    "$$\n",
    "\\begin{align}\n",
    "p(y) = \\text{Bern}(y; \\mu = 0.6)\n",
    "\\tag{8.2.22}\n",
    "\\end{align}\n",
    "$$\n",
    "\n",
    "확률변수 $Y$는 메일이 스팸 메일인지 아닌지를 나타내며 $Y=1$이면 스팸 메일이다."
   ]
  },
  {
   "cell_type": "markdown",
   "metadata": {
    "school_cell_uuid": "e010021adb7a4b41b62d7bade3cbaa6d"
   },
   "source": [
    "#### 예제\n",
    "\n",
    "이번에는 스팸 메일 필터의 입력 데이터에서 베르누이분포를 활용하는 방법을 알아보자. 스팸 메일은 특정한 단어(키워드)를 가지고 있을 확률이 높다. 스팸 메일을 구분하기 위한 키워드가 여러 개라면 다음과 같이 BOW(Bag of Words) 인코딩된 벡터로 나타낼 수 있다. 이 예에서는 4개의 키워드 4개를 사용하였했다. 만약 어떤 메일이 첫 번째와 세 번째 키워드를 포함하고 있으며 두 번째와 네 번째 키워드는 포함하지 않으면 다음과 같은 특징 벡터로 표시할 수 있다.\n",
    "\n",
    "$$\n",
    "\\begin{align}\n",
    "x = \\begin{bmatrix} 1 \\\\ 0 \\\\ 1 \\\\ 0 \\end{bmatrix}\n",
    "\\tag{8.2.23}\n",
    "\\end{align}\n",
    "$$\n",
    "\n",
    "여러개의 메일이 있으면 다음처럼 특징 행렬로 표시한다. 특징 행렬에서는 행 벡터가 메일을, 열 벡터가 키워드를 나타낸다.\n",
    "\n",
    "$$ \n",
    "\\begin{align}\n",
    "X_{\\text{spam}} =\n",
    "\\begin{bmatrix} \n",
    "1 & 0 & 1 & 0 \\\\\n",
    "1 & 1 & 1 & 0 \\\\\n",
    "1 & 1 & 0 & 1 \\\\\n",
    "0 & 0 & 1 & 1 \\\\\n",
    "1 & 1 & 0 & 0 \\\\\n",
    "1 & 1 & 0 & 1 \\\\\n",
    "\\end{bmatrix} \n",
    "\\tag{8.2.24}\n",
    "\\end{align}\n",
    "$$\n",
    "\n",
    "이때, 스팸 메일의 특성은 4개의 베르누이 확률변수의 튜플 $(X_1, X_2, X_3, X_4)$로 나타낼 수 있다. \n",
    "\n",
    "* $X_1$: 메일이 첫 번째 키워드를 포함하면 1, 아니면 0이 되는 확률변수\n",
    "\n",
    "$$\n",
    "\\begin{align}\n",
    "p(X_1=1 | Y=1) = \\text{Bern}(x_1; \\mu_{spam,1})\n",
    "\\tag{8.2.25}\n",
    "\\end{align}\n",
    "$$\n",
    "\n",
    "* $X_2$: 메일이 두 번째 키워드를 포함하면 1, 아니면 0이 되는 확률변수\n",
    "\n",
    "$$\n",
    "\\begin{align}\n",
    "p(X_2=1 | Y=1) = \\text{Bern}(x_2; \\mu_{spam,2})\n",
    "\\tag{8.2.26}\n",
    "\\end{align}\n",
    "$$\n",
    "\n",
    "* $X_3$: 메일이 세 번째 키워드를 포함하면 1, 아니면 0이 되는 확률변수\n",
    "\n",
    "$$\n",
    "\\begin{align}\n",
    "p(X_3=1 | Y=1) = \\text{Bern}(x_3; \\mu_{spam,3})\n",
    "\\tag{8.2.27}\n",
    "\\end{align}\n",
    "$$\n",
    "\n",
    "* $X_4$: 메일이 네 번째 키워드를 포함하면 1, 아니면 0이 되는 확률변수\n",
    "\n",
    "$$\n",
    "\\begin{align}\n",
    "p(X_4=1 | Y=1) = \\text{Bern}(x_4; \\mu_{spam,4})\n",
    "\\tag{8.2.28}\n",
    "\\end{align}\n",
    "$$\n",
    "\n",
    "\n",
    "특징 행렬의 각 열로부터 각 베르누이 확률분포의 모수의 추정값을 구하면  다음과 같다.\n",
    "\n",
    "$$\n",
    "\\begin{align}\n",
    "\\hat\\mu_{spam,1} = \\dfrac{5}{6},\\;\\; \\hat\\mu_{spam,2} = \\dfrac{4}{6},\\;\\; \\hat\\mu_{spam,3} = \\dfrac{3}{6},\\;\\; \\hat\\mu_{spam,4} = \\dfrac{3}{6}\n",
    "\\tag{8.2.29}\n",
    "\\end{align}\n",
    "$$\n"
   ]
  },
  {
   "cell_type": "markdown",
   "metadata": {
    "bootstrap": {
     "panel": {
      "class": "panel-default"
     }
    },
    "school_cell_uuid": "253407e45e54421b9694538d7ab45e16"
   },
   "source": [
    "#### 연습 문제 8.2.4\n",
    "\n",
    "(1) 위 예제와 같이 키워드 4개를 사용하는 스팸 메일 필터를 만드는 데 스팸 메일이 아닌 정상 메일 5통을 다음과 같은 특징 행렬로 표시한다고 가정하자.\n",
    "\n",
    "$$ \n",
    "\\begin{align}\n",
    "X_{\\text{ham}} = \n",
    "\\begin{bmatrix} \n",
    "0 & 0 & 1 & 1 \\\\\n",
    "0 & 1 & 1 & 1 \\\\\n",
    "0 & 0 & 1 & 1 \\\\\n",
    "0 & 0 & 0 & 1 \\\\\n",
    "0 & 0 & 0 & 1 \\\\\n",
    "\\end{bmatrix} \n",
    "\\tag{8.2.30}\n",
    "\\end{align}\n",
    "$$\n",
    "\n",
    "이 정상 메일에 각각의 키워드가 있을 확률을 나타내는 베르누이 확률분포\n",
    "\n",
    "$$\n",
    "\\begin{align}\n",
    "p(X_1=1|Y=0) = \\text{Bern}(x_1; \\mu_{ham,1})\n",
    "\\tag{8.2.31}\n",
    "\\end{align}\n",
    "$$\n",
    "\n",
    "$$\n",
    "\\begin{align}\n",
    "p(X_2=1|Y=0) = \\text{Bern}(x_2; \\mu_{ham,2})\n",
    "\\tag{8.2.32}\n",
    "\\end{align}\n",
    "$$\n",
    "\n",
    "$$\n",
    "\\begin{align}\n",
    "p(X_3=1|Y=0) = \\text{Bern}(x_3; \\mu_{ham,3})\n",
    "\\tag{8.2.33}\n",
    "\\end{align}\n",
    "$$\n",
    "\n",
    "$$\n",
    "\\begin{align}\n",
    "p(X_4=1|Y=0) = \\text{Bern}(x_4; \\mu_{ham,4})\n",
    "\\tag{8.2.34}\n",
    "\\end{align}\n",
    "$$\n",
    "\n",
    "\n",
    "의 모수를 구하라. 우리가 구한 모수에 문제점은 없는가?\n",
    "\n",
    "\n",
    "(2) 키워드 4개를 사용하는 스팸 메일 필터를 만드는 데 스팸 메일과 정상 메일의 특성을 모두 모형화하려면 베르누이 확률변수가 몇 개 필요한가?"
   ]
  }
 ],
 "metadata": {
  "celltoolbar": "Edit Metadata",
  "kernelspec": {
   "display_name": "Python 3",
   "language": "python",
   "name": "python3"
  },
  "language_info": {
   "codemirror_mode": {
    "name": "ipython",
    "version": 3
   },
   "file_extension": ".py",
   "mimetype": "text/x-python",
   "name": "python",
   "nbconvert_exporter": "python",
   "pygments_lexer": "ipython3",
   "version": "3.7.6"
  },
  "toc": {
   "base_numbering": 1,
   "nav_menu": {},
   "number_sections": false,
   "sideBar": true,
   "skip_h1_title": false,
   "title_cell": "Table of Contents",
   "title_sidebar": "Contents",
   "toc_cell": false,
   "toc_position": {},
   "toc_section_display": true,
   "toc_window_display": false
  }
 },
 "nbformat": 4,
 "nbformat_minor": 1
}
