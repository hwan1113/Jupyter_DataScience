{
 "cells": [
  {
   "cell_type": "markdown",
   "metadata": {
    "school_cell_uuid": "519c818f7174449497003b848a9ca38e"
   },
   "source": [
    "## 3.1 선형대수와 해석기하의 기초"
   ]
  },
  {
   "cell_type": "markdown",
   "metadata": {
    "school_cell_uuid": "902f90de42ce49fcbd2d57b23a80b414"
   },
   "source": [
    "선형대수는 숫자 데이터의 계산에만 사용되는 것이 아니다. 직선과 화살표, 이미지 등을 다루는 기하학에서도 선형대수는 중요한 역할을 한다. 이 절에서는 선형대수를 기하학에서 어떻게 응용하고 선형대수의 연산이 기하학적으로 어떤 의미를 가지는지 알아본다.  "
   ]
  },
  {
   "cell_type": "markdown",
   "metadata": {
    "school_cell_uuid": "f7f14cdb1abc4e99b516b55339991ccf"
   },
   "source": [
    "### 벡터의 기하학적 의미"
   ]
  },
  {
   "cell_type": "markdown",
   "metadata": {
    "school_cell_uuid": "281d8af0a4a64733a3d7a39f96256c5d"
   },
   "source": [
    "$N$차원 벡터 $a$는 $N$차원의 공간에서 \n",
    "\n",
    "* 벡터 $a$의 값으로 표시되는 **점(point)** 또는\n",
    "* 원점과 벡터 $a$의 값으로 표시되는 점을 연결한 **화살표(arrow)**\n",
    "\n",
    "라고 생각할 수 있다. \n",
    "\n",
    "예를 들어 2차원 벡터 \n",
    "\n",
    "$$\n",
    "\\begin{align}\n",
    "a = \\begin{bmatrix}a_1 \\\\ a_2 \\end{bmatrix}\n",
    "\\tag{3.1.1}\n",
    "\\end{align}\n",
    "$$\n",
    "\n",
    "는 2차원 공간에서 $x$ 좌표가 $a_1$, $y$ 좌표가 $a_2$인 점으로 생각할 수도 있고 또는 원점에서 이 점을 가리키는 화살표로 생각할 수도 있다. 벡터를 화살표로 생각하는 경우에는 길이와 방향을 고정시킨 채 **평행이동**할 수 있다. \n",
    "\n",
    "(앞으로 나오는 그림은 모두 맷플롯리브 패키지로 그린 그림이다. 이 코드는 파이썬으로 이러한 그림도 제작할 수 있다는 것을 보이기 위한 것일 뿐 이번 절의 내용과는 관계없으므로 그림 코드의 내용은 무시해도 된다.) "
   ]
  },
  {
   "cell_type": "code",
   "execution_count": 2,
   "metadata": {
    "school_cell_uuid": "14e5b170e34145c5940c5c10f52c96b8"
   },
   "outputs": [],
   "source": [
    "import numpy as np\n",
    "import matplotlib.pylab as plt\n",
    "\n",
    "plt.rc(\"font\", size=18)  # 그림의 폰트 크기를 18로 고정\n",
    "gray = {\"facecolor\": \"gray\"}\n",
    "black = {\"facecolor\": \"black\"}\n",
    "red = {\"facecolor\": \"red\"}\n",
    "green = {\"facecolor\": \"green\"}\n",
    "blue = {\"facecolor\": \"blue\"}"
   ]
  },
  {
   "cell_type": "code",
   "execution_count": 4,
   "metadata": {
    "school_cell_uuid": "864e55643dcc44cea9cba8bd42505c3c"
   },
   "outputs": [
    {
     "name": "stderr",
     "output_type": "stream",
     "text": [
      "D:\\anaconda3\\lib\\site-packages\\matplotlib\\backends\\backend_agg.py:211: RuntimeWarning: Glyph 54217 missing from current font.\n",
      "  font.set_text(s, 0.0, flags=flags)\n",
      "D:\\anaconda3\\lib\\site-packages\\matplotlib\\backends\\backend_agg.py:211: RuntimeWarning: Glyph 54665 missing from current font.\n",
      "  font.set_text(s, 0.0, flags=flags)\n",
      "D:\\anaconda3\\lib\\site-packages\\matplotlib\\backends\\backend_agg.py:211: RuntimeWarning: Glyph 51060 missing from current font.\n",
      "  font.set_text(s, 0.0, flags=flags)\n",
      "D:\\anaconda3\\lib\\site-packages\\matplotlib\\backends\\backend_agg.py:211: RuntimeWarning: Glyph 46041 missing from current font.\n",
      "  font.set_text(s, 0.0, flags=flags)\n",
      "D:\\anaconda3\\lib\\site-packages\\matplotlib\\backends\\backend_agg.py:180: RuntimeWarning: Glyph 54217 missing from current font.\n",
      "  font.set_text(s, 0, flags=flags)\n",
      "D:\\anaconda3\\lib\\site-packages\\matplotlib\\backends\\backend_agg.py:180: RuntimeWarning: Glyph 54665 missing from current font.\n",
      "  font.set_text(s, 0, flags=flags)\n",
      "D:\\anaconda3\\lib\\site-packages\\matplotlib\\backends\\backend_agg.py:180: RuntimeWarning: Glyph 51060 missing from current font.\n",
      "  font.set_text(s, 0, flags=flags)\n",
      "D:\\anaconda3\\lib\\site-packages\\matplotlib\\backends\\backend_agg.py:180: RuntimeWarning: Glyph 46041 missing from current font.\n",
      "  font.set_text(s, 0, flags=flags)\n"
     ]
    },
    {
     "data": {
      "image/png": "[encoded data removed]",
      "text/plain": [
       "<Figure size 432x288 with 1 Axes>"
      ]
     },
     "metadata": {
      "needs_background": "light"
     },
     "output_type": "display_data"
    }
   ],
   "source": [
    "a = np.array([1, 2])\n",
    "plt.plot(0, 0, 'kP', ms=20)\n",
    "plt.plot(a[0], a[1], 'ro', ms=20)\n",
    "plt.annotate('', xy=[-0.6, 1.6], xytext=(0.2, 0.7), arrowprops=gray)\n",
    "plt.annotate('', xy=a, xytext=(0, 0), arrowprops=black)\n",
    "plt.annotate('', xy=a + [-1, 1], xytext=(-1, 1), arrowprops=black)\n",
    "plt.annotate('', xy=a + [-1, 1], xytext=(-1, 1), arrowprops=black)\n",
    "plt.text(0.35, 1.15, \"$a$\")\n",
    "plt.text(1.15, 2.25, \"$(1,2)$\")\n",
    "plt.text(-0.7, 2.1, \"$a$\")\n",
    "plt.text(-0.9, 0.6, \"평행이동\")\n",
    "plt.xticks(np.arange(-2, 4))\n",
    "plt.yticks(np.arange(-1, 4))\n",
    "plt.xlim(-2.4, 3.4)\n",
    "plt.ylim(-0.8, 3.4)\n",
    "plt.show()"
   ]
  },
  {
   "cell_type": "markdown",
   "metadata": {
    "school_cell_uuid": "f1d6835e962a4a84be7dc8cf6785bdaf"
   },
   "source": [
    "### 벡터의 길이"
   ]
  },
  {
   "cell_type": "markdown",
   "metadata": {
    "school_cell_uuid": "26e2c17515b94a9e83cdaf8516d1b4b4"
   },
   "source": [
    "벡터 $a$의 길이는 놈(norm) $\\| a \\|$으로 정의한다.\n",
    "\n",
    "$$ \n",
    "\\begin{align}\n",
    "\\| a \\| = \\sqrt{a^T a } = \\sqrt{a_1^2 + \\cdots + a_N^2}\n",
    "\\tag{3.1.2}\n",
    "\\end{align}\n",
    "$$\n",
    "\n",
    "넘파이 linalg 서브 패키지의 `norm()` 명령으로 벡터의 길이를 계산할 수 있다. 위에서 예로 든 2차원 벡터 $a = [a_1 \\;\\; a_2]^T$의 길이는 $\\sqrt{5} \\approx 2.236$이다."
   ]
  },
  {
   "cell_type": "code",
   "execution_count": 21,
   "metadata": {
    "school_cell_uuid": "e7bec503e4eb46c1a8cd7f9033667f86"
   },
   "outputs": [
    {
     "data": {
      "text/plain": [
       "array([[1, 2],\n",
       "       [2, 4]])"
      ]
     },
     "execution_count": 21,
     "metadata": {},
     "output_type": "execute_result"
    }
   ],
   "source": [
    "a = np.array([1, 2])\n",
    "np.linalg.norm(a)\n"
   ]
  },
  {
   "cell_type": "markdown",
   "metadata": {
    "school_cell_uuid": "6daea3340e404f86b044a5d0e5816ce6"
   },
   "source": [
    "### 스칼라와 벡터의 곱"
   ]
  },
  {
   "cell_type": "markdown",
   "metadata": {
    "school_cell_uuid": "c5a6ab2ac69340a39048fe964c4334c0"
   },
   "source": [
    "양의 실수와 벡터를 곱하면 벡터의 방향은 변하지 않고 실수의 크기만큼 벡터의 길이가 커진다. 만약 음의 실수를 곱하면 벡터의 방향이 반대가 된다."
   ]
  },
  {
   "cell_type": "code",
   "execution_count": 9,
   "metadata": {
    "school_cell_uuid": "ba31ef1a899d474f898706891d4baf2d"
   },
   "outputs": [
    {
     "data": {
      "image/png": "[encoded data removed]",
      "text/plain": [
       "<Figure size 432x288 with 1 Axes>"
      ]
     },
     "metadata": {
      "needs_background": "light"
     },
     "output_type": "display_data"
    }
   ],
   "source": [
    "a = np.array([1, 2])\n",
    "b = 2 * a\n",
    "c = -a\n",
    "plt.annotate('', xy=b, xytext=(0, 0), arrowprops=red)\n",
    "plt.text(0.8, 3.1, \"$2a$\")\n",
    "plt.text(2.2, 3.8, \"$(2, 4)$\")\n",
    "plt.annotate('', xy=a, xytext=(0, 0), arrowprops=gray)\n",
    "plt.text(0.1, 1.3, \"$a$\")\n",
    "plt.text(1.1, 1.4, \"$(1, 2)$\")\n",
    "plt.plot(c[0], c[1], 'ro', ms=10)\n",
    "plt.annotate('', xy=c, xytext=(0, 0), arrowprops=blue)\n",
    "plt.text(-1.3, -0.8, \"$-a$\")\n",
    "plt.text(-3, -2.5, \"$(-1, -2)$\")\n",
    "plt.plot(0, 0, 'kP', ms=20)\n",
    "plt.xticks(np.arange(-5, 6))\n",
    "plt.yticks(np.arange(-5, 6))\n",
    "plt.xlim(-4.4, 5.4)\n",
    "plt.ylim(-3.2, 5.2)\n",
    "plt.show()"
   ]
  },
  {
   "cell_type": "markdown",
   "metadata": {
    "school_cell_uuid": "32d010b5b9e2498c8b0ed2f7873bb17a"
   },
   "source": [
    "### 단위벡터"
   ]
  },
  {
   "cell_type": "markdown",
   "metadata": {
    "school_cell_uuid": "365824b3eefb4afb86096bb263dfcb11"
   },
   "source": [
    "길이가 1인 벡터를 **단위벡터(unit vector)**라고 한다. 예를 들어 다음과 같은 벡터들은 모두 단위벡터다.\n",
    "\n",
    "$$ \n",
    "\\begin{align}\n",
    "\\label{1234.5678}\n",
    "a = \\begin{bmatrix}1 \\\\ 0\\end{bmatrix} ,\\;\\;\n",
    "b = \\begin{bmatrix}0 \\\\ 1\\end{bmatrix} ,\\;\\;\n",
    "c = \\begin{bmatrix} \\dfrac{1}{\\sqrt{2}} \\\\ \\dfrac{1}{\\sqrt{2}} \\end{bmatrix}\n",
    "\\tag{3.1.3}\n",
    "\\end{align}\n",
    "$$\n",
    "\n",
    "영벡터가 아닌 임의의 벡터 $x$에 대해 다음 벡터는 벡터 $x$와 같은 방향을 가리키는 단위벡터가 된다.\n",
    "\n",
    "$$\n",
    "\\begin{align}\n",
    "\\dfrac{x}{\\| x \\|}\n",
    "\\tag{3.1.4}\n",
    "\\end{align}\n",
    "$$"
   ]
  },
  {
   "cell_type": "code",
   "execution_count": 10,
   "metadata": {
    "school_cell_uuid": "9a959b285db44014a0e7ee3630cc162a"
   },
   "outputs": [
    {
     "data": {
      "text/plain": [
       "(1.0, 1.0, 0.9999999999999999)"
      ]
     },
     "execution_count": 10,
     "metadata": {},
     "output_type": "execute_result"
    }
   ],
   "source": [
    "a = np.array([1, 0])\n",
    "b = np.array([0, 1])\n",
    "c = np.array([1/np.sqrt(2), 1/np.sqrt(2)])\n",
    "np.linalg.norm(a), np.linalg.norm(b), np.linalg.norm(c)"
   ]
  },
  {
   "cell_type": "markdown",
   "metadata": {
    "school_cell_uuid": "6daea3340e404f86b044a5d0e5816ce6"
   },
   "source": [
    "### 벡터의 합"
   ]
  },
  {
   "cell_type": "markdown",
   "metadata": {
    "school_cell_uuid": "5bdef63c53964ae69f0c594611a7bccd"
   },
   "source": [
    "벡터와 벡터의 합도 벡터가 된다. 이때 **두 벡터의 합은 그 두 벡터를 이웃하는 변으로 가지는 평행사변형의 대각선 벡터**가 된다.\n",
    "\n",
    "$$ \n",
    "\\begin{align}\n",
    "a = \\begin{bmatrix}1 \\\\ 2\\end{bmatrix} ,\\;\\;\n",
    "b = \\begin{bmatrix}2 \\\\ 1\\end{bmatrix} \\;\\;\\; \\rightarrow \\;\\;\\;\n",
    "c = a + b = \\begin{bmatrix}3 \\\\ 3\\end{bmatrix} \n",
    "\\tag{3.1.5}\n",
    "\\end{align}\n",
    "$$"
   ]
  },
  {
   "cell_type": "code",
   "execution_count": 11,
   "metadata": {
    "school_cell_uuid": "a3171ba4fc64429f8868b02801e12633"
   },
   "outputs": [
    {
     "data": {
      "image/png": "[encoded data removed]",
      "text/plain": [
       "<Figure size 432x288 with 1 Axes>"
      ]
     },
     "metadata": {
      "needs_background": "light"
     },
     "output_type": "display_data"
    }
   ],
   "source": [
    "a = np.array([1, 2])\n",
    "b = np.array([2, 1])\n",
    "c = a + b\n",
    "plt.annotate('', xy=a, xytext=(0, 0), arrowprops=gray)\n",
    "plt.annotate('', xy=b, xytext=(0, 0), arrowprops=gray)\n",
    "plt.annotate('', xy=c, xytext=(0, 0), arrowprops=black)\n",
    "plt.plot(0, 0, 'kP', ms=10)\n",
    "plt.plot(a[0], a[1], 'ro', ms=10)\n",
    "plt.plot(b[0], b[1], 'ro', ms=10)\n",
    "plt.plot(c[0], c[1], 'ro', ms=10)\n",
    "plt.plot([a[0], c[0]], [a[1], c[1]], 'k--')\n",
    "plt.plot([b[0], c[0]], [b[1], c[1]], 'k--')\n",
    "plt.text(0.35, 1.15, \"$a$\")\n",
    "plt.text(1.15, 0.25, \"$b$\")\n",
    "plt.text(1.25, 1.45, \"$c$\")\n",
    "plt.xticks(np.arange(-2, 5))\n",
    "plt.yticks(np.arange(-1, 4))\n",
    "plt.xlim(-1.4, 4.4)\n",
    "plt.ylim(-0.6, 3.8)\n",
    "plt.show()"
   ]
  },
  {
   "cell_type": "markdown",
   "metadata": {
    "school_cell_uuid": "4445fb206c864e63acb86e49b8931f6c"
   },
   "source": [
    "또는 벡터를 더하고자 하는 벡터의 끝점으로 평행이동했을 때 이동한 벡터가 가리키는 점의 위치로 생각할 수도 있다."
   ]
  },
  {
   "cell_type": "code",
   "execution_count": 12,
   "metadata": {
    "school_cell_uuid": "a786fbe91ab844cebfdb9ad3c44724ec"
   },
   "outputs": [
    {
     "data": {
      "image/png": "[encoded data removed]",
      "text/plain": [
       "<Figure size 432x288 with 1 Axes>"
      ]
     },
     "metadata": {
      "needs_background": "light"
     },
     "output_type": "display_data"
    }
   ],
   "source": [
    "a = np.array([1, 2])\n",
    "b = np.array([2, 1])\n",
    "c = a + b\n",
    "plt.annotate('', xy=a, xytext=(0, 0), arrowprops=gray)\n",
    "plt.annotate('', xy=c, xytext=a, arrowprops=gray)\n",
    "plt.annotate('', xy=c, xytext=(0, 0), arrowprops=black)\n",
    "plt.plot(0, 0, 'kP', ms=10)\n",
    "plt.plot(a[0], a[1], 'ro', ms=10)\n",
    "plt.plot(c[0], c[1], 'ro', ms=10)\n",
    "plt.text(0.35, 1.15, \"$a$\")\n",
    "plt.text(1.45, 2.45, \"$b$\")\n",
    "plt.text(1.25, 1.45, \"$c$\")\n",
    "plt.xticks(np.arange(-2, 5))\n",
    "plt.yticks(np.arange(-1, 4))\n",
    "plt.xlim(-1.4, 4.4)\n",
    "plt.ylim(-0.6, 3.8)\n",
    "plt.show()"
   ]
  },
  {
   "cell_type": "markdown",
   "metadata": {
    "school_cell_uuid": "4445fb206c864e63acb86e49b8931f6c"
   },
   "source": [
    "둘 중 어느 벡터를 평행이동해도 결과는 마찬가지다."
   ]
  },
  {
   "cell_type": "code",
   "execution_count": 13,
   "metadata": {
    "school_cell_uuid": "08af08294e8a46b38b382ce87f34d5ba"
   },
   "outputs": [
    {
     "data": {
      "image/png": "[encoded data removed]",
      "text/plain": [
       "<Figure size 432x288 with 1 Axes>"
      ]
     },
     "metadata": {
      "needs_background": "light"
     },
     "output_type": "display_data"
    }
   ],
   "source": [
    "a = np.array([1, 2])\n",
    "b = np.array([2, 1])\n",
    "c = a + b\n",
    "plt.annotate('', xy=b, xytext=(0, 0), arrowprops=gray)\n",
    "plt.annotate('', xy=c, xytext=b, arrowprops=gray)\n",
    "plt.annotate('', xy=c, xytext=(0, 0), arrowprops=black)\n",
    "plt.plot(0, 0, 'kP', ms=10)\n",
    "plt.plot(b[0], b[1], 'ro', ms=10)\n",
    "plt.plot(c[0], c[1], 'ro', ms=10)\n",
    "plt.text(2.45, 1.55, \"$a$\")\n",
    "plt.text(1.25, 0.25, \"$b$\")\n",
    "plt.text(1.25, 1.45, \"$c$\")\n",
    "plt.xticks(np.arange(-2, 5))\n",
    "plt.yticks(np.arange(-1, 4))\n",
    "plt.xlim(-1.4, 4.4)\n",
    "plt.ylim(-0.6, 3.8)\n",
    "plt.show()"
   ]
  },
  {
   "cell_type": "markdown",
   "metadata": {
    "school_cell_uuid": "5e1ceea0a03949fcb4a15671e5ec32b8"
   },
   "source": [
    "### 벡터의 선형조합"
   ]
  },
  {
   "cell_type": "markdown",
   "metadata": {
    "school_cell_uuid": "c3cfa80637ea483b9e731a3ab5691437"
   },
   "source": [
    "지금까지 벡터의 스칼라곱이 어떤 새로운 벡터가 되고 두 벡터의 합이 어떤 새로운 벡터가 되는지 살펴보았다. 여러 개의 벡터를 스칼라곱을 한 후 더한 것을 선형조합(linear combination)이라고 한다.\n",
    "\n",
    "$$\n",
    "\\begin{align}\n",
    "c_1x_1 + c_2x_2 + \\cdots + c_Nx_N\n",
    "\\tag{3.1.6}\n",
    "\\end{align}\n",
    "$$\n",
    "\n",
    "이 식에서 $c_1, \\cdots, c_N$은 스칼라 계수다."
   ]
  },
  {
   "cell_type": "code",
   "execution_count": 14,
   "metadata": {
    "school_cell_uuid": "08af08294e8a46b38b382ce87f34d5ba"
   },
   "outputs": [
    {
     "data": {
      "image/png": "[encoded data removed]",
      "text/plain": [
       "<Figure size 432x288 with 1 Axes>"
      ]
     },
     "metadata": {
      "needs_background": "light"
     },
     "output_type": "display_data"
    }
   ],
   "source": [
    "x1 = np.array([1, 2])\n",
    "x2 = np.array([2, 1])\n",
    "x3 = 0.5 * x1 + x2\n",
    "plt.annotate('', xy=0.5*x1, xytext=(0, 0), arrowprops=gray)\n",
    "plt.annotate('', xy=x2, xytext=(0, 0), arrowprops=gray)\n",
    "plt.annotate('', xy=x3, xytext=(0, 0), arrowprops=black)\n",
    "plt.plot(0, 0, 'kP', ms=10)\n",
    "plt.plot(x1[0], x1[1], 'ro', ms=10)\n",
    "plt.plot(x2[0], x2[1], 'ro', ms=10)\n",
    "plt.plot(x3[0], x3[1], 'ro', ms=10)\n",
    "plt.plot([x1[0], 0], [x1[1], 0], 'k--')\n",
    "plt.text(0.6, 2.0, \"$x_1$\")\n",
    "plt.text(-0.5, 0.5, \"$0.5x_1$\")\n",
    "plt.text(1.15, 0.25, \"$x_2$\")\n",
    "plt.text(2.5, 1.6, \"$0.5x_1 + x_2$\")\n",
    "plt.xticks(np.arange(-2, 5))\n",
    "plt.yticks(np.arange(-1, 4))\n",
    "plt.xlim(-1.4, 4.4)\n",
    "plt.ylim(-0.6, 3.8)\n",
    "plt.show()"
   ]
  },
  {
   "cell_type": "markdown",
   "metadata": {
    "bootstrap": {
     "panel": {
      "class": "panel-default"
     }
    },
    "school_cell_uuid": "1946d16a8b61470b94eead3b87c3dfa5"
   },
   "source": [
    "#### 연습 문제 3.1.1\n",
    "\n",
    "벡터 $x_1$, $x_2$가 다음과 같을 때, $c_1x_1+ c_2x_2$가 다음 벡터와 같아지는 선형조합 계수 $c_1, c_2$를 찾아라.\n",
    "(힌트: 연립방정식의 해를 이용한다.)\n",
    "\n",
    "$$ \n",
    "\\begin{align}\n",
    "x_1 = \\begin{bmatrix}1 \\\\ 2\\end{bmatrix} ,\\;\\;\n",
    "x_2 = \\begin{bmatrix}2 \\\\ 1\\end{bmatrix} \n",
    "\\tag{3.1.7}\n",
    "\\end{align}\n",
    "$$\n",
    "\n",
    "(1)\n",
    "$$ \n",
    "\\begin{align}\n",
    "c_1x_1 + c_2x_2 = \\begin{bmatrix}3 \\\\ 1\\end{bmatrix} \n",
    "\\tag{3.1.8}\n",
    "\\end{align}\n",
    "$$\n",
    "\n",
    "(2)\n",
    "$$ \n",
    "\\begin{align}\n",
    "c_1x_1 + c_2x_2 = \\begin{bmatrix} -1 \\\\ -1\\end{bmatrix} \n",
    "\\tag{3.1.9}\n",
    "\\end{align}\n",
    "$$"
   ]
  },
  {
   "cell_type": "markdown",
   "metadata": {
    "school_cell_uuid": "542f6d29a9644e45807b06d9981d0b6e"
   },
   "source": [
    "### 벡터의 차"
   ]
  },
  {
   "cell_type": "markdown",
   "metadata": {
    "school_cell_uuid": "7ec59043c578497583255ffda44b408a"
   },
   "source": [
    "벡터의 차 $a - b = c$는 벡터 $b$가 가리키는 점으로부터 벡터 $a$가 가리키는 점을 연결하는 벡터다. 그 이유는 벡터 $b$에 벡터 $a-b$를 더하면, 즉 벡터 $b$와 벡터 $a-b$를 연결하면 벡터 $a$가 되어야 하기 때문이다.\n",
    "\n",
    "$$\n",
    "\\begin{align}\n",
    "a - b = c\n",
    "\\tag{3.1.10}\n",
    "\\end{align}\n",
    "$$\n",
    "\n",
    "$$\n",
    "\\begin{align}\n",
    "b + c = b + (a-b) = a\n",
    "\\tag{3.1.11}\n",
    "\\end{align}\n",
    "$$"
   ]
  },
  {
   "cell_type": "code",
   "execution_count": 15,
   "metadata": {
    "school_cell_uuid": "cee6c3bd084349b98e116ea0d95850ee"
   },
   "outputs": [
    {
     "data": {
      "image/png": "[encoded data removed]",
      "text/plain": [
       "<Figure size 432x288 with 1 Axes>"
      ]
     },
     "metadata": {
      "needs_background": "light"
     },
     "output_type": "display_data"
    }
   ],
   "source": [
    "a = np.array([1, 2])\n",
    "b = np.array([2, 1])\n",
    "c = a - b\n",
    "plt.annotate('', xy=a, xytext=(0, 0), arrowprops=gray)\n",
    "plt.annotate('', xy=b, xytext=(0, 0), arrowprops=gray)\n",
    "plt.annotate('', xy=a, xytext=b, arrowprops=black)\n",
    "plt.plot(0, 0, 'kP', ms=10)\n",
    "plt.plot(a[0], a[1], 'ro', ms=10)\n",
    "plt.plot(b[0], b[1], 'ro', ms=10)\n",
    "plt.text(0.35, 1.15, \"$a$\")\n",
    "plt.text(1.15, 0.25, \"$b$\")\n",
    "plt.text(1.55, 1.65, \"$a-b$\")\n",
    "plt.xticks(np.arange(-2, 5))\n",
    "plt.yticks(np.arange(-1, 4))\n",
    "plt.xlim(-0.8, 2.8)\n",
    "plt.ylim(-0.8, 2.8)\n",
    "plt.show()"
   ]
  },
  {
   "cell_type": "markdown",
   "metadata": {
    "school_cell_uuid": "a79da1b589074518a9da75218847fa5e"
   },
   "source": [
    "### Word2Vec"
   ]
  },
  {
   "cell_type": "markdown",
   "metadata": {
    "school_cell_uuid": "a606bab6c2314a72b667d606f3ad3624"
   },
   "source": [
    "나중에 인공신경망 부분에서 공부하게 될 **word2vec** 방법을 이용하면 단어(word)를 공간에서 점 또는 벡터(vector)로 표현할 수 있다. word2vec으로 만들어진 벡터는 단어의 의미에 따라 다음처럼 평행사변형 관계를 가질 수 있다. \n",
    "\n",
    "$$ \n",
    "\\begin{align}\n",
    "\\text{일본} = \\text{도쿄} + (\\text{한국} - \\text{서울}) \n",
    "\\tag{3.1.12}\n",
    "\\end{align}\n",
    "$$\n",
    "\n",
    "`한국 - 서울`은 `서울`에서 `한국`으로 향하는 벡터다. 즉 의미론적으로 **수도 이름을 나라 이름으로 바꾸는 행위(action)**에 비유할 수 있다. 이러한 행위를 `도쿄`에 대해서 적용한 결과가 `도쿄 + (한국 - 서울)`이다. word2vec 학습 결과에서 이렇게 계산한 위치에 가장 가까이 있는 단어를 찾으면 `도쿄`가 나온다."
   ]
  },
  {
   "cell_type": "code",
   "execution_count": 17,
   "metadata": {
    "school_cell_uuid": "eb05fe09d12a413cb5ba659f9acd24dd"
   },
   "outputs": [
    {
     "data": {
      "image/png": "[encoded data removed]",
      "text/plain": [
       "<Figure size 432x288 with 1 Axes>"
      ]
     },
     "metadata": {
      "needs_background": "light"
     },
     "output_type": "display_data"
    }
   ],
   "source": [
    "a = np.array([2, 2])\n",
    "b = np.array([3, 4])\n",
    "c = np.array([4, 1])\n",
    "d = a + (c - a)\n",
    "e = b + (c - a)\n",
    "plt.annotate('', xy=b, xytext=a, arrowprops=black)\n",
    "plt.annotate('', xy=e, xytext=d, arrowprops=black)\n",
    "plt.annotate('', xy=c, xytext=[0, 0], arrowprops=gray)\n",
    "plt.plot(0, 0, 'kP', ms=10)\n",
    "plt.plot(a[0], a[1], 'ro', ms=10)\n",
    "plt.plot(b[0], b[1], 'ro', ms=10)\n",
    "plt.plot(c[0], c[1], 'ro', ms=10)\n",
    "plt.text(1.6, 1.5, \"Seoul\")\n",
    "plt.text(2.5, 4.3, \"Korea\")\n",
    "plt.text(3.5, 0.5, \"Tokyo\")\n",
    "plt.text(4.9, 3.2, \"Japan\")\n",
    "plt.xticks(np.arange(-2, 7))\n",
    "plt.yticks(np.arange(-1, 6))\n",
    "plt.xlim(-1.4, 6.4)\n",
    "plt.ylim(-0.6, 5.8)\n",
    "plt.show()"
   ]
  },
  {
   "cell_type": "markdown",
   "metadata": {
    "bootstrap": {
     "panel": {
      "class": "panel-default"
     }
    },
    "school_cell_uuid": "1946d16a8b61470b94eead3b87c3dfa5"
   },
   "source": [
    "#### 연습 문제 3.1.2\n",
    "\n",
    "남자배우, 여자배우, 남자, 여자, 이렇게 4가지 단어에 대응하는 4개의 벡터에 대해 위와 같은 관계가 성립한다고 가정하자. 다음 식을 완성하라.\n",
    "\n",
    "> 남자배우 = 여자배우 + ?"
   ]
  },
  {
   "cell_type": "markdown",
   "metadata": {
    "school_cell_uuid": "8414ed6cd2ad4051940fdc03d3b1de11"
   },
   "source": [
    "### 유클리드 거리"
   ]
  },
  {
   "cell_type": "markdown",
   "metadata": {
    "school_cell_uuid": "80b000c0ff0f4acbbd803f01308cafce"
   },
   "source": [
    "두 벡터가 가리키는 점 사이의 거리를 **유클리드 거리(Euclidean distance)**라고 한다. 두 벡터의 유클리드 거리는 **벡터의 차의 길이**로 구할 수 있다.\n",
    "\n",
    "벡터의 놈의 정의와 벡터의 차의 정의에서 유클리드 거리는 다음처럼 구한다.\n",
    "\n",
    "$$ \n",
    "\\begin{align}\n",
    "\\begin{aligned} \n",
    "\\| a - b \\|\n",
    "&= \\sqrt{\\sum_{i=1} (a_i - b_i)^2} \\\\\n",
    "&= \\sqrt{\\sum_{i=1} ( a_i^2 - 2 a_i b_i + b_i^2 )} \\\\\n",
    "&= \\sqrt{\\sum_{i=1} a_i^2 + \\sum_{i=1} b_i^2 - 2 \\sum_{i=1} a_i b_i} \\\\\n",
    "&= \\sqrt{\\| a \\|^2 + \\| b \\|^2  - 2 a^Tb }\n",
    "\\end{aligned}\n",
    "\\tag{3.1.13}\n",
    "\\end{align}\n",
    "$$\n",
    "\n",
    "즉,\n",
    "\n",
    "$$\n",
    "\\begin{align}\n",
    "\\| a - b \\|^2 = \\| a \\|^2 + \\| b \\|^2 - 2 a^T b\n",
    "\\tag{3.1.14}\n",
    "\\end{align}\n",
    "$$"
   ]
  },
  {
   "cell_type": "markdown",
   "metadata": {
    "school_cell_uuid": "8383b67b88fc47bdb3db70941a39257e"
   },
   "source": [
    "### 벡터의 내적과 삼각함수"
   ]
  },
  {
   "cell_type": "markdown",
   "metadata": {
    "school_cell_uuid": "5c45d428f662452296acb8dbf2a908eb"
   },
   "source": [
    "\n",
    "두 벡터의 내적은 다음처럼 벡터의 길이 $\\|a\\|$, $\\|b\\|$ 와 두 벡터 사이의 각도 $\\theta$의 코사인 함수값으로 계산할 수도 있다.\n",
    "\n",
    "$$ \n",
    "\\begin{align}\n",
    "a^Tb = \\|a\\|\\|b\\| \\cos\\theta\n",
    "\\tag{3.1.15}\n",
    "\\end{align}\n",
    "$$\n",
    "\n",
    "여기에서 $\\cos\\theta$는 **코사인(cosine)**이라고 하는 함수이다. 코사인은 사인(sine)이라고 하는 함수와 함께 정의할 수 있다. 사인과 코사인을 합쳐서 삼각함수라고 한다.\n",
    "\n",
    "사인 $\\sin\\theta$의 값은 $\\theta$라는 각을 가지는 직각 삼각형에서 빗변(hypotenuse)과 높이(opposite)의 비율을 뜻한다.\n",
    "코사인 $\\cos\\theta$의 값은 $\\theta$라는 각을 가지는 직각 삼각형에서 빗변(hypotenuse)과 밑변(adjacent)의 비율을 뜻한다.\n",
    "\n",
    "$$\n",
    "\\begin{align}\n",
    "\\sin\\theta = \\dfrac{a}{h}  \n",
    "\\tag{3.1.16}\n",
    "\\end{align}\n",
    "$$\n",
    "\n",
    "$$\n",
    "\\begin{align}\n",
    "\\cos\\theta = \\dfrac{b}{h}  \n",
    "\\tag{3.1.17}\n",
    "\\end{align}\n",
    "$$"
   ]
  },
  {
   "cell_type": "code",
   "execution_count": 18,
   "metadata": {
    "school_cell_uuid": "cb40f13dce6246d891a748b2eae7182e"
   },
   "outputs": [
    {
     "name": "stderr",
     "output_type": "stream",
     "text": [
      "D:\\anaconda3\\lib\\site-packages\\matplotlib\\backends\\backend_agg.py:211: RuntimeWarning: Glyph 48727 missing from current font.\n",
      "  font.set_text(s, 0.0, flags=flags)\n",
      "D:\\anaconda3\\lib\\site-packages\\matplotlib\\backends\\backend_agg.py:211: RuntimeWarning: Glyph 48320 missing from current font.\n",
      "  font.set_text(s, 0.0, flags=flags)\n",
      "D:\\anaconda3\\lib\\site-packages\\matplotlib\\backends\\backend_agg.py:180: RuntimeWarning: Glyph 48727 missing from current font.\n",
      "  font.set_text(s, 0, flags=flags)\n",
      "D:\\anaconda3\\lib\\site-packages\\matplotlib\\backends\\backend_agg.py:180: RuntimeWarning: Glyph 48320 missing from current font.\n",
      "  font.set_text(s, 0, flags=flags)\n",
      "D:\\anaconda3\\lib\\site-packages\\matplotlib\\backends\\backend_agg.py:211: RuntimeWarning: Glyph 48145 missing from current font.\n",
      "  font.set_text(s, 0.0, flags=flags)\n",
      "D:\\anaconda3\\lib\\site-packages\\matplotlib\\backends\\backend_agg.py:180: RuntimeWarning: Glyph 48145 missing from current font.\n",
      "  font.set_text(s, 0, flags=flags)\n",
      "D:\\anaconda3\\lib\\site-packages\\matplotlib\\backends\\backend_agg.py:211: RuntimeWarning: Glyph 45458 missing from current font.\n",
      "  font.set_text(s, 0.0, flags=flags)\n",
      "D:\\anaconda3\\lib\\site-packages\\matplotlib\\backends\\backend_agg.py:211: RuntimeWarning: Glyph 51060 missing from current font.\n",
      "  font.set_text(s, 0.0, flags=flags)\n",
      "D:\\anaconda3\\lib\\site-packages\\matplotlib\\backends\\backend_agg.py:180: RuntimeWarning: Glyph 45458 missing from current font.\n",
      "  font.set_text(s, 0, flags=flags)\n",
      "D:\\anaconda3\\lib\\site-packages\\matplotlib\\backends\\backend_agg.py:180: RuntimeWarning: Glyph 51060 missing from current font.\n",
      "  font.set_text(s, 0, flags=flags)\n"
     ]
    },
    {
     "data": {
      "image/png": "[encoded data removed]",
      "text/plain": [
       "<Figure size 432x288 with 1 Axes>"
      ]
     },
     "metadata": {
      "needs_background": "light"
     },
     "output_type": "display_data"
    }
   ],
   "source": [
    "plt.plot([0, 1], [0, 2], 'k-', lw=3)\n",
    "plt.plot([0, 1], [0, 0], 'k-', lw=3)\n",
    "plt.plot([1, 1], [0, 2], 'k-', lw=3)\n",
    "plt.text(0.05, 1, \"빗변 h\")\n",
    "plt.text(0.35, -0.2, \"밑변 b\")\n",
    "plt.text(1.05, 1, \"높이 a\")\n",
    "plt.text(0.12, 0.06, r\"$\\theta$\")\n",
    "plt.xticks(np.arange(-2, 4))\n",
    "plt.yticks(np.arange(-1, 4))\n",
    "plt.xlim(-1.1, 2.1)\n",
    "plt.ylim(-0.5, 2.3)\n",
    "plt.show()"
   ]
  },
  {
   "cell_type": "markdown",
   "metadata": {
    "school_cell_uuid": "26faa52a8feb4c389ee88fcde41519c7"
   },
   "source": [
    "$\\sin\\theta$의 값은 $\\theta$가 0에 가까워질수록 0에 가까워지고 $\\theta$가 $90{}^{\\circ}$에 가까워질수록 1에 가까워진다. \n",
    "\n",
    "$$ \n",
    "\\begin{align}\n",
    "\\sin 0^{\\circ} = 0  \\tag{3.1.18}\n",
    "\\end{align}\n",
    "$$\n",
    "\n",
    "$$ \n",
    "\\begin{align}\n",
    "\\sin 90^{\\circ} = 1 \n",
    "\\tag{3.1.19} \n",
    "\\end{align}\n",
    "$$\n",
    "\n",
    "\n",
    "반대로 $\\cos\\theta$의 값은 $\\theta$가 0에 가까워질수록 1에 가까워지고 $\\theta$가 $90{}^{\\circ}$에 가까워질수록 0에 가까워진다. \n",
    "\n",
    "$$ \n",
    "\\begin{align}\n",
    "\\cos 0^{\\circ} = 1 \n",
    "\\tag{3.1.20} \n",
    "\\end{align}\n",
    "$$\n",
    "\n",
    "$$ \n",
    "\\begin{align}\n",
    "\\cos 90^{\\circ} = 0 \n",
    "\\tag{3.1.21} \n",
    "\\end{align}\n",
    "$$\n",
    "\n",
    "함수의 그래프로 표현하면 다음과 같다."
   ]
  },
  {
   "cell_type": "code",
   "execution_count": 19,
   "metadata": {
    "school_cell_uuid": "e9796458a7354fa6b71df774c8a46839"
   },
   "outputs": [
    {
     "name": "stderr",
     "output_type": "stream",
     "text": [
      "Font 'default' does not have a glyph for '\\uc640' [U+c640], substituting with a dummy symbol.\n",
      "Font 'default' does not have a glyph for '\\uc758' [U+c758], substituting with a dummy symbol.\n",
      "Font 'default' does not have a glyph for '\\uadf8' [U+adf8], substituting with a dummy symbol.\n",
      "Font 'default' does not have a glyph for '\\ub798' [U+b798], substituting with a dummy symbol.\n",
      "Font 'default' does not have a glyph for '\\ud504' [U+d504], substituting with a dummy symbol.\n",
      "Font 'default' does not have a glyph for '\\uc640' [U+c640], substituting with a dummy symbol.\n",
      "Font 'default' does not have a glyph for '\\uc758' [U+c758], substituting with a dummy symbol.\n",
      "Font 'default' does not have a glyph for '\\uadf8' [U+adf8], substituting with a dummy symbol.\n",
      "Font 'default' does not have a glyph for '\\ub798' [U+b798], substituting with a dummy symbol.\n",
      "Font 'default' does not have a glyph for '\\ud504' [U+d504], substituting with a dummy symbol.\n"
     ]
    },
    {
     "data": {
      "image/png": "[encoded data removed]",
      "text/plain": [
       "<Figure size 432x288 with 1 Axes>"
      ]
     },
     "metadata": {
      "needs_background": "light"
     },
     "output_type": "display_data"
    }
   ],
   "source": [
    "x = np.linspace(0, np.pi/2, 100)\n",
    "y1 = np.sin(x)\n",
    "y2 = np.cos(x)\n",
    "plt.plot(x, y1, 'r--', lw=3,  label=r\"$\\sin\\theta$\")\n",
    "plt.plot(x, y2, 'b-', lw=3, label=r\"$\\cos\\theta$\")\n",
    "plt.legend()\n",
    "plt.xticks([0, np.pi/4, np.pi/2], [r'$0^{\\circ}$', r'$45^{\\circ}$', r'$90^{\\circ}$'])\n",
    "plt.xlabel(r\"$\\theta$\")\n",
    "plt.title(r\"$\\sin\\theta$와 $\\cos\\theta$의 그래프\")\n",
    "plt.show()"
   ]
  },
  {
   "cell_type": "markdown",
   "metadata": {
    "school_cell_uuid": "14f5208616904e51a23db1ee8543823e"
   },
   "source": [
    "### 직교"
   ]
  },
  {
   "cell_type": "markdown",
   "metadata": {
    "school_cell_uuid": "5b418759f4564e5a853953a9fe434a92"
   },
   "source": [
    "두 벡터 $a$와 $b$가 이루는 각이 90도이면 서로 **직교(orthogonal)**라고 하며 $a \\perp b$로 표시한다.\n",
    "\n",
    "$\\cos 90^{\\circ} = 0$이므로  서로 직교인 두 벡터의 내적은 0이 된다.\n",
    "\n",
    "$$ \n",
    "\\begin{align}\n",
    "a^T b = b^T a = 0   \\;\\;\\;\\; \\leftrightarrow \\;\\;\\;\\; a \\perp b \n",
    "\\tag{3.1.22}\n",
    "\\end{align}\n",
    "$$"
   ]
  },
  {
   "cell_type": "markdown",
   "metadata": {
    "school_cell_uuid": "60bc362063094b9ab79e9523929a92eb"
   },
   "source": [
    "예를 들어 다음 두 벡터는 서로 직교한다.\n",
    "\n",
    "$$ \n",
    "\\begin{align}\n",
    "a = \\begin{bmatrix}1 \\\\ 1\\end{bmatrix} ,\\;\\;\n",
    "b = \\begin{bmatrix}-1 \\\\ 1\\end{bmatrix} \\;\\;\\;\\; \\rightarrow \\;\\;\\;\\;\n",
    "a^T b = \\begin{bmatrix}1 & 1\\end{bmatrix} \\begin{bmatrix}-1 \\\\ 1\\end{bmatrix} = -1 + 1 = 0\n",
    "\\tag{3.1.23}\n",
    "\\end{align}\n",
    "$$"
   ]
  },
  {
   "cell_type": "code",
   "execution_count": 14,
   "metadata": {
    "school_cell_uuid": "c8c1400a1251468caa21d87e64f44363"
   },
   "outputs": [
    {
     "data": {
      "text/plain": [
       "0"
      ]
     },
     "execution_count": 14,
     "metadata": {},
     "output_type": "execute_result"
    }
   ],
   "source": [
    "a = np.array([1, 1])\n",
    "b = np.array([-1, 1])\n",
    "a @ b"
   ]
  },
  {
   "cell_type": "markdown",
   "metadata": {
    "bootstrap": {
     "panel": {
      "class": "panel-default"
     }
    },
    "school_cell_uuid": "1946d16a8b61470b94eead3b87c3dfa5"
   },
   "source": [
    "#### 연습 문제 3.1.3\n",
    "\n",
    "(1) 다음 벡터에 대해 직교하는 단위벡터를 찾아라.\n",
    "$$ \n",
    "\\begin{align}\n",
    "x = \\begin{bmatrix} 1 \\\\ 0  \\end{bmatrix} \n",
    "\\tag{3.1.24}\n",
    "\\end{align}\n",
    "$$\n",
    "\n",
    "(2) 다음 벡터에 대해 직교하는 단위벡터를 찾아라.\n",
    "$$ \n",
    "\\begin{align}\n",
    "x = \\begin{bmatrix} 1 \\\\ 1  \\end{bmatrix} \n",
    "\\tag{3.1.25}\n",
    "\\end{align}\n",
    "$$\n",
    "\n",
    "(3) 다음 두 벡터에 대해 모두 직교하는 단위벡터를 찾아라.\n",
    "$$ \n",
    "\\begin{align}\n",
    "x = \\begin{bmatrix} 1 \\\\ 1 \\\\ 0  \\end{bmatrix}, \\;\\;\n",
    "y = \\begin{bmatrix} 1 \\\\ 0 \\\\ 0  \\end{bmatrix} \n",
    "\\tag{3.1.26}\n",
    "\\end{align}\n",
    "$$\n",
    "\n"
   ]
  },
  {
   "cell_type": "markdown",
   "metadata": {
    "school_cell_uuid": "b035cb6f706846669c4f9a34c3b1d643"
   },
   "source": [
    "### 정규직교"
   ]
  },
  {
   "cell_type": "markdown",
   "metadata": {
    "school_cell_uuid": "524d1b8ca2d34576af0f72f5e45d4ae2"
   },
   "source": [
    "만약 $N$개의 단위벡터 $v_1, v_2, \\cdots, v_N$가 서로 직교하면 **정규직교(orthonormal)**라고 한다.\n",
    "\n",
    "$$ \n",
    "\\begin{align}\n",
    "\\|v_i\\| = 1 \\;\\;\\leftrightarrow \\;\\; v_i^Tv_i = 1 \n",
    "\\tag{3.1.27}\n",
    "\\end{align}\n",
    "$$\n",
    "\n",
    "$$ \n",
    "\\begin{align}\n",
    "v_i^T v_j = 0 \\;\\;(i \\neq j) \n",
    "\\tag{3.1.28}\n",
    "\\end{align}\n",
    "$$"
   ]
  },
  {
   "cell_type": "markdown",
   "metadata": {
    "bootstrap": {
     "panel": {
      "class": "panel-default"
     }
    },
    "school_cell_uuid": "1946d16a8b61470b94eead3b87c3dfa5"
   },
   "source": [
    "#### 연습 문제 3.1.4\n",
    "\n",
    "직교하는 두 $N$차원 벡터 $a, b$에 대해 다음 식이 성립함을 보여라\n",
    "\n",
    "$$\n",
    "\\begin{align}\n",
    "\\| a + b \\|^2 = \\| a \\|^2 + \\| b \\|^2 \n",
    "\\tag{3.1.29}\n",
    "\\end{align}\n",
    "$$\n",
    "\n",
    "$N=2$일 때 이 식은 피타고라스의 정리가 된다."
   ]
  },
  {
   "cell_type": "markdown",
   "metadata": {
    "bootstrap": {
     "panel": {
      "class": "panel-default"
     }
    },
    "school_cell_uuid": "1946d16a8b61470b94eead3b87c3dfa5"
   },
   "source": [
    "#### 연습 문제 3.1.5\n",
    "\n",
    "정규직교하는 세 개의 3차원 벡터 $v_1, v_2, v_3$로 이루어진 행렬 $V$에 대해서 다음 등식이 성립함을 보여라.\n",
    "\n",
    "$$\n",
    "\\begin{align}\n",
    "V = \n",
    "\\begin{bmatrix}\n",
    "v_1 & v_2 & v_3\n",
    "\\end{bmatrix}\n",
    "\\tag{3.1.30}\n",
    "\\end{align}\n",
    "$$\n",
    "\n",
    "(1)\n",
    "$$ \n",
    "\\begin{align}\n",
    "V^TV = I\n",
    "\\tag{3.1.31}\n",
    "\\end{align}\n",
    "$$\n",
    "\n",
    "(2)\n",
    "$$ \n",
    "\\begin{align}\n",
    "V^{-1} = V^T \n",
    "\\tag{3.1.32}\n",
    "\\end{align}\n",
    "$$"
   ]
  },
  {
   "cell_type": "markdown",
   "metadata": {
    "school_cell_uuid": "97952c02c3a64084ad66bca9f7edb493"
   },
   "source": [
    "### 코사인 유사도"
   ]
  },
  {
   "cell_type": "markdown",
   "metadata": {
    "school_cell_uuid": "4c1001f65f714a50b55a8cad5725af15"
   },
   "source": [
    "두 벡터의 방향이 비슷할수록 벡터가 비슷하다고 간주하여 두 벡터 사이의 각의 코사인값을 **코사인 유사도(cosine similarity)**라고 한다. 코사인값은 각도가 0일때 가장 커지므로 두 벡터가 같은 방향을 가리키고 있으면 코사인 유사도가 최댓값 1을 가진다.\n",
    "\n",
    "$$ \n",
    "\\begin{align}\n",
    "\\text{cosine similarity} = \\cos\\theta = \\dfrac{x^Ty}{\\|x\\|\\|y\\|}\n",
    "\\tag{3.1.33}\n",
    "\\end{align}\n",
    "$$\n",
    "\n",
    "코사인 유사도는 나중에 공부할 추천시스템(recommender system)에서 사용자의 취향이 얼마나 비슷한지를 계산할 때 사용된다. 코사인 유사도를 이용하면 다음처럼 **코사인 거리(cosine distance)**도 정의할 수 있다.\n",
    "\n",
    "$$ \n",
    "\\begin{align}\n",
    "\\text{cosine distance} = 1 - \\text{cosine similarity} = 1 - \\dfrac{x^Ty}{\\|x\\|\\|y\\|}\n",
    "\\tag{3.1.34}\n",
    "\\end{align}\n",
    "$$\n"
   ]
  },
  {
   "cell_type": "markdown",
   "metadata": {
    "bootstrap": {
     "panel": {
      "class": "panel-default"
     }
    },
    "school_cell_uuid": "1946d16a8b61470b94eead3b87c3dfa5"
   },
   "source": [
    "#### 연습 문제 3.1.6\n",
    "\n",
    "a, b, c, 3명의 사용자가 4개의 영화에 준 평점을 다음처럼 벡터로 표현하였다.\n",
    "\n",
    "$$ \n",
    "\\begin{align}\n",
    "a = \\begin{bmatrix} 4 \\\\ 5 \\\\ 2 \\\\ 2 \\end{bmatrix}, \\;\\;\n",
    "b = \\begin{bmatrix} 4 \\\\ 0 \\\\ 2 \\\\ 0 \\end{bmatrix}, \\;\\;\n",
    "c = \\begin{bmatrix} 2 \\\\ 2 \\\\ 0 \\\\ 1 \\end{bmatrix} \n",
    "\\tag{3.1.35}\n",
    "\\end{align}\n",
    "$$\n",
    "\n",
    "(1) a, b, c 사이의 유클리드 거리를 구하라. 어느 두 사용자가 가장 가까운가? 또 어느 두 사용자가 가장 멀리 떨어져 있는가?\n",
    "\n",
    "(2) a, b, c 사이의 코사인 거리를 구하라. 어느 두 사용자가 가장 가까운가? 또 어느 두 사용자가 가장 멀리 떨어져 있는가?"
   ]
  },
  {
   "cell_type": "code",
   "execution_count": 32,
   "metadata": {},
   "outputs": [
    {
     "name": "stdout",
     "output_type": "stream",
     "text": [
      "5.385164807134504\n",
      "3.605551275463989\n",
      "4.242640687119285\n",
      "0.36112343500006017\n",
      "0.40371520600005606\n",
      "0.04761904761904767\n"
     ]
    }
   ],
   "source": [
    "#\n",
    "a = np.array([4,5,2,2])\n",
    "b = np.array([4,0,2,0])\n",
    "c = np.array([2,2,0,1])\n",
    "print(np.linalg.norm(a-b))\n",
    "print(np.linalg.norm(b-c))\n",
    "print(np.linalg.norm(c-a))\n",
    "\n",
    "cosim1 = (a.T@b)/(np.linalg.norm(a) * np.linalg.norm(b))\n",
    "cosim2 = (b.T@c)/(np.linalg.norm(b) * np.linalg.norm(c))\n",
    "cosim3 = (c.T@a)/(np.linalg.norm(c) * np.linalg.norm(a))\n",
    "\n",
    "print(1 - cosim1)\n",
    "print(1 - cosim2)\n",
    "print(1 - cosim3)\n"
   ]
  },
  {
   "cell_type": "markdown",
   "metadata": {
    "school_cell_uuid": "b0e904a3cda64f99b30e4eba02de8759"
   },
   "source": [
    "### 벡터의 분해와 성분"
   ]
  },
  {
   "cell_type": "markdown",
   "metadata": {
    "school_cell_uuid": "79502b3fe1bc4352b09df5802828637b"
   },
   "source": [
    "어떤 두 벡터 $a$, $b$의 합이 다른 벡터 $c$가 될 때 $c$가 두 벡터 **성분(component)** $a$, $b$으로 **분해(decomposition)**된다고 말한다."
   ]
  },
  {
   "cell_type": "markdown",
   "metadata": {
    "bootstrap": {
     "panel": {
      "class": "panel-default"
     }
    },
    "school_cell_uuid": "1946d16a8b61470b94eead3b87c3dfa5"
   },
   "source": [
    "#### 연습 문제 3.1.7\n",
    "\n",
    "다음 벡터를 두 개의 벡터로 분해하는 방법을 두 가지 이상 찾고 평면 위에 각각 화살표로 표기하라.\n",
    "\n",
    "$$ \n",
    "\\begin{align}\n",
    "x = \\begin{bmatrix} 1 \\\\ 0 \\end{bmatrix} \n",
    "\\tag{3.1.36}\n",
    "\\end{align}\n",
    "$$"
   ]
  },
  {
   "cell_type": "markdown",
   "metadata": {
    "school_cell_uuid": "af1d769a451d4b0da6c3f418f95d5b18"
   },
   "source": [
    "### 투영성분과 직교성분"
   ]
  },
  {
   "cell_type": "markdown",
   "metadata": {
    "school_cell_uuid": "23e8cb6f847b47b691d9d8c6d9a33f3c"
   },
   "source": [
    "벡터 $a$를 다른 벡터 $b$에 직교하는 성분과 벡터 $b$에 평행한 성분으로로 분해할 수 있는데, 평행한 성분을 벡터 $b$에 대한 **투영성분(projection)**, 벡터 $b$에 직교하는 성분을 벡터 $b$에 대한 **직교성분(rejection)**이라고 하며 각각 다음과 같이 표기한다.\n",
    "\n",
    "$$ \n",
    "\\begin{align}\n",
    "a^{\\Vert b} \n",
    "\\tag{3.1.37} \n",
    "\\end{align}\n",
    "$$\n",
    "\n",
    "$$ \n",
    "\\begin{align}\n",
    "a^{\\perp b} \n",
    "\\tag{3.1.38} \n",
    "\\end{align}\n",
    "$$\n",
    "\n",
    "투영성분의 길이는 다음처럼 구할 수 있다.\n",
    "\n",
    "$$ \n",
    "\\begin{align}\n",
    "\\| a^{\\Vert b} \\| \n",
    "= \\|a\\|\\cos\\theta \n",
    "= \\dfrac{\\|a\\|\\|b\\|\\cos\\theta}{\\|b\\|}  \n",
    "= \\dfrac{a^Tb}{\\|b\\|} \n",
    "= \\dfrac{b^Ta}{\\|b\\|}\n",
    "= a^T\\dfrac{b}{\\|b\\|} \n",
    "\\tag{3.1.39}\n",
    "\\end{align}\n",
    "$$\n",
    "\n",
    "만약 벡터 $b$ 자체가 이미 단위벡터이면 **단위벡터에 대한 투영길이는 내적**이 된다.\n",
    "\n",
    "$$ \n",
    "\\begin{align}\n",
    "\\| a^{\\Vert b} \\| = a^Tb \n",
    "\\tag{3.1.40} \n",
    "\\end{align}\n",
    "$$\n",
    "\n",
    "투영성분 성분 벡터는 투영성분 길이와 벡터 $b$ 방향의 단위벡터의 곱이다.\n",
    "\n",
    "$$ \n",
    "\\begin{align}\n",
    "a^{\\Vert b} = \\dfrac{a^Tb}{\\|b\\|} \\dfrac{b}{\\|b\\|}= \\dfrac{a^Tb}{\\|b\\|^2}b  \n",
    "\\tag{3.1.41} \n",
    "\\end{align}\n",
    "$$\n",
    "\n",
    "직교성분 벡터는 원래의 벡터에서 투영성분 성분 벡터를 뺀 나머지다.\n",
    "\n",
    "$$ \n",
    "\\begin{align}\n",
    "a^{\\perp b} = a - a^{\\Vert b} \n",
    "\\tag{3.1.42} \n",
    "\\end{align}\n",
    "$$"
   ]
  },
  {
   "cell_type": "code",
   "execution_count": 33,
   "metadata": {
    "school_cell_uuid": "7250fe1f021e4eef85b311e7d1f35a28"
   },
   "outputs": [
    {
     "data": {
      "image/png": "[encoded data removed]",
      "text/plain": [
       "<Figure size 432x288 with 1 Axes>"
      ]
     },
     "metadata": {
      "needs_background": "light"
     },
     "output_type": "display_data"
    }
   ],
   "source": [
    "a = np.array([1, 2])\n",
    "b = np.array([2, 0])\n",
    "a2 = (a @ b) / np.linalg.norm(b) * np.array([1, 0])\n",
    "a1 = a - a2\n",
    "plt.annotate('', xy=b, xytext=(0, 0), arrowprops=green)\n",
    "plt.annotate('', xy=a2, xytext=(0, 0), arrowprops=blue)\n",
    "plt.annotate('', xy=a1, xytext=(0, 0), arrowprops=blue)\n",
    "plt.annotate('', xy=a, xytext=(0, 0), arrowprops=red)\n",
    "plt.plot(0, 0, 'kP', ms=10)\n",
    "plt.plot(a[0], a[1], 'ro', ms=10)\n",
    "plt.plot(b[0], b[1], 'ro', ms=10)\n",
    "plt.text(0.35, 1.15, \"$a$\")\n",
    "plt.text(1.55, 0.15, \"$b$\")\n",
    "plt.text(-0.5, 1.05, \"$a^{\\perp b}$\")\n",
    "plt.text(0.50, 0.15, \"$a^{\\Vert b}$\")\n",
    "plt.xticks(np.arange(-10, 10))\n",
    "plt.yticks(np.arange(-10, 10))\n",
    "plt.xlim(-1.2, 4.1)\n",
    "plt.ylim(-0.5, 3.2)\n",
    "plt.show()"
   ]
  },
  {
   "cell_type": "markdown",
   "metadata": {
    "bootstrap": {
     "panel": {
      "class": "panel-default"
     }
    },
    "school_cell_uuid": "1946d16a8b61470b94eead3b87c3dfa5"
   },
   "source": [
    "#### 연습 문제 3.1.8\n",
    "\n",
    "$$\n",
    "\\begin{align}\n",
    "a=\\begin{bmatrix}1 \\\\ 2\\end{bmatrix}, \\;\\; b=\\begin{bmatrix}2 \\\\ 0\\end{bmatrix}\n",
    "\\tag{3.1.43}\n",
    "\\end{align}\n",
    "$$ \n",
    "\n",
    "일 때, 투영성분 $a^{\\Vert b}$, 직교성분 $a^{\\perp b}$를 구하라."
   ]
  },
  {
   "cell_type": "markdown",
   "metadata": {
    "bootstrap": {
     "panel": {
      "class": "panel-default"
     }
    },
    "school_cell_uuid": "d0e0cffb46fe47e395c44c2d8b984de6"
   },
   "source": [
    "#### 연습 문제 3.1.9\n",
    "\n",
    "만약 $v$가 원점을 지나는 직선의 방향을 나타내는 단위벡터라고 하자. 이때 그 직선 위에 있지 않는 어떤 점 $x$와 그 직선과의 거리의 제곱이 다음과 같음을 증명하라.\n",
    "\n",
    "$$ \n",
    "\\begin{align}\n",
    "\\| x \\|^2 - (x^Tv)^2 \n",
    "\\tag{3.1.44} \n",
    "\\end{align}\n",
    "$$"
   ]
  },
  {
   "cell_type": "code",
   "execution_count": 34,
   "metadata": {
    "school_cell_uuid": "bfeeaa0a81bc426c9736adfb7f479b6f"
   },
   "outputs": [
    {
     "data": {
      "image/png": "[encoded data removed]",
      "text/plain": [
       "<Figure size 432x288 with 1 Axes>"
      ]
     },
     "metadata": {
      "needs_background": "light"
     },
     "output_type": "display_data"
    }
   ],
   "source": [
    "v = np.array([2, 1]) / np.sqrt(5)\n",
    "x = np.array([1, 3])\n",
    "plt.plot(0, 0, 'kP', ms=10)\n",
    "plt.annotate('', xy=v, xytext=(0, 0), arrowprops=black)\n",
    "plt.plot([-2, 8], [-1, 4], 'b--', lw=2)\n",
    "plt.plot([1, 2], [3, 1], 'g:', lw=2)\n",
    "plt.plot(x[0], x[1], 'ro', ms=10)\n",
    "plt.text(0.1, 0.5, \"$v$\")\n",
    "plt.text(0.6, 3.2, \"$x$\")\n",
    "plt.xticks(np.arange(-3, 15))\n",
    "plt.yticks(np.arange(-1, 5))\n",
    "plt.xlim(-3, 7)\n",
    "plt.ylim(-1, 5)\n",
    "plt.show()"
   ]
  },
  {
   "cell_type": "markdown",
   "metadata": {
    "school_cell_uuid": "03075fc1d6444141ade63b7e1b51ff07"
   },
   "source": [
    "### 직선의 방정식"
   ]
  },
  {
   "cell_type": "markdown",
   "metadata": {
    "school_cell_uuid": "41fc726915e34aea9cf59e8832a4a193"
   },
   "source": [
    "어떤 벡터 $w$가 있을 때\n",
    "\n",
    "* 원점에서 출발한 벡터 $w$가 가리키는 점을 지나면서\n",
    "* 벡터 $w$에 수직인\n",
    "\n",
    "직선의 방정식을 구해보자.\n",
    "\n",
    "위 두 조건을 만족하는 직선 상의 임의의 점을 가리키는 벡터를 $x$라고 하면, 벡터 $x$가 가리키는 점과 벡터 $w$가 가리키는 점을 이은 벡터 $x - w$는 조건에 따라 벡터 $w$와 직교해야 한다. 따라서 다음 식이 성립한다.\n",
    "\n",
    "$$\n",
    "\\begin{align}\n",
    "w^T(x - w) = 0\n",
    "\\tag{3.1.45}\n",
    "\\end{align}\n",
    "$$\n",
    "\n",
    "정리하면 다음과 같아진다.\n",
    "\n",
    "$$\n",
    "\\begin{align}\n",
    "w^T(x - w) = w^Tx - w^Tw = w^Tx - \\| w \\|^2\n",
    "\\tag{3.1.46}\n",
    "\\end{align}\n",
    "$$\n",
    "\n",
    "$$\n",
    "\\begin{align}\n",
    "w^Tx - \\| w \\|^2 = 0\n",
    "\\tag{3.1.47}\n",
    "\\end{align}\n",
    "$$\n",
    "\n",
    "이 직선과 원점 사이의 거리는 벡터 $w$의 놈 $\\|w\\|$이다.\n",
    "\n",
    "$$ \n",
    "\\begin{align}\n",
    "\\|w\\| \n",
    "\\tag{3.1.48} \n",
    "\\end{align}\n",
    "$$"
   ]
  },
  {
   "cell_type": "code",
   "execution_count": 35,
   "metadata": {
    "run_control": {
     "marked": false
    },
    "school_cell_uuid": "e823acf33dd14623a3c0827ed90a1876"
   },
   "outputs": [
    {
     "name": "stderr",
     "output_type": "stream",
     "text": [
      "Font 'default' does not have a glyph for '\\ubca1' [U+bca1], substituting with a dummy symbol.\n",
      "Font 'default' does not have a glyph for '\\ud130' [U+d130], substituting with a dummy symbol.\n",
      "Font 'default' does not have a glyph for '\\uc9c1' [U+c9c1], substituting with a dummy symbol.\n",
      "Font 'default' does not have a glyph for '\\uc120' [U+c120], substituting with a dummy symbol.\n",
      "Font 'default' does not have a glyph for '\\ubca1' [U+bca1], substituting with a dummy symbol.\n",
      "Font 'default' does not have a glyph for '\\ud130' [U+d130], substituting with a dummy symbol.\n",
      "Font 'default' does not have a glyph for '\\uc9c1' [U+c9c1], substituting with a dummy symbol.\n",
      "Font 'default' does not have a glyph for '\\uc120' [U+c120], substituting with a dummy symbol.\n"
     ]
    },
    {
     "data": {
      "image/png": "[encoded data removed]",
      "text/plain": [
       "<Figure size 432x288 with 1 Axes>"
      ]
     },
     "metadata": {
      "needs_background": "light"
     },
     "output_type": "display_data"
    }
   ],
   "source": [
    "w = np.array([1, 2])\n",
    "x1 = np.array([3, 1])\n",
    "x2 = np.array([-1, 3])\n",
    "plt.annotate('', xy=w, xytext=(0, 0), arrowprops=black)\n",
    "plt.annotate('', xy=x1, xytext=(0, 0), arrowprops=green)\n",
    "plt.annotate('', xy=x2, xytext=(0, 0), arrowprops=green)\n",
    "plt.plot(0, 0, 'kP', ms=10)\n",
    "plt.plot(w[0], w[1], 'ro', ms=10)\n",
    "plt.plot(x1[0], x1[1], 'ro', ms=10)\n",
    "plt.plot(x2[0], x2[1], 'ro', ms=10)\n",
    "plt.plot([-3, 5], [4, 0], 'r-', lw=5)\n",
    "plt.text(-0.2, 1.5, \"벡터 $w$\")\n",
    "plt.text(1.55, 0.25, \"$x_1$\")\n",
    "plt.text(-0.9, 1.40, \"$x_2$\")\n",
    "plt.text(1.8, 1.8, \"$x_1 - w$\")\n",
    "plt.text(-0.2, 2.8, \"$x_2 - w$\")\n",
    "plt.text(3.6, 0.8, \"직선 $x$\")\n",
    "plt.xticks(np.arange(-2, 5))\n",
    "plt.yticks(np.arange(-1, 5))\n",
    "plt.xlim(-2, 5)\n",
    "plt.ylim(-0.6, 3.6)\n",
    "plt.show()"
   ]
  },
  {
   "cell_type": "markdown",
   "metadata": {
    "school_cell_uuid": "1adb3b127f114a60b977943164065228"
   },
   "source": [
    "예를 들어 \n",
    "\n",
    "$$\n",
    "\\begin{align}\n",
    "w = \\begin{bmatrix}1 \\\\ 2\\end{bmatrix} \n",
    "\\tag{3.1.49}\n",
    "\\end{align}\n",
    "$$\n",
    "\n",
    "일 때\n",
    "\n",
    "$$\n",
    "\\begin{align}\n",
    "\\| w \\|^2 = 5 \n",
    "\\tag{3.1.50}\n",
    "\\end{align}\n",
    "$$\n",
    "\n",
    "$$\n",
    "\\begin{align}\n",
    "\\begin{bmatrix}1 & 2\\end{bmatrix} \\begin{bmatrix}x_1 \\\\ x_2 \\end{bmatrix} - 5 = x_1 + 2x_2 - 5 = 0\n",
    "\\tag{3.1.51}\n",
    "\\end{align}\n",
    "$$\n",
    "\n",
    "$$\n",
    "\\begin{align}\n",
    "x_1 + 2x_2 = 5 \n",
    "\\tag{3.1.52}\n",
    "\\end{align}\n",
    "$$\n",
    "\n",
    "이 방정식은 벡터 $w$가 가리키는 점 $(1, 2)$를 지나면서 벡터 $w$에 수직인 직선을 뜻한다. 이 직선과 원점 사이의 거리는 $\\|w\\|=\\sqrt{5}$이다.\n",
    "\n",
    "이번에는 벡터 $w$가 가리키는 점을 지나야 한다는 조건을 없애고 단순히\n",
    "\n",
    "* 벡터 $w$에 수직인\n",
    "\n",
    "직선 $x$의 방정식을 구해보자.\n",
    "\n",
    "이때는 직선이 $w$가 아니라 $w$와 방향이 같고 길이가 다른 벡터 $w'=cw$을 지날 것이다. $c$는 양의 실수이다. \n",
    "\n",
    "위에서 했던 방법으로 다시 직선의 방정식을 구하면 다음과 같다.\n",
    "\n",
    "$$ \n",
    "\\begin{align}\n",
    "w'^Tx - \\| w' \\|^2 =  cw^Tx - c^2 \\| w \\|^2 = 0  \n",
    "\\tag{3.1.53}\n",
    "\\end{align}\n",
    "$$\n",
    "\n",
    "$$ \n",
    "\\begin{align}\n",
    "w^Tx - c \\| w \\|^2 = 0 \n",
    "\\tag{3.1.54} \n",
    "\\end{align}\n",
    "$$\n",
    "\n",
    "여기에서 $c \\| w \\|^2$는 임의의 수가 될 수 있으므로 단순히 벡터 $w$에 수직인 직선의 방정식은 다음과 같이 나타낼 수 있다.\n",
    "\n",
    "$$ \n",
    "\\begin{align}\n",
    "w^Tx - w_0 = 0 \n",
    "\\tag{3.1.55} \n",
    "\\end{align}\n",
    "$$\n",
    "\n",
    "이 직선과 원점 사이의 거리는 다음과 같다.\n",
    "\n",
    "$$ \n",
    "\\begin{align}\n",
    "c \\| w \\| = \\dfrac{w_0}{\\|w\\|} \n",
    "\\tag{3.1.56} \n",
    "\\end{align}\n",
    "$$"
   ]
  },
  {
   "cell_type": "code",
   "execution_count": 37,
   "metadata": {
    "run_control": {
     "marked": false
    },
    "school_cell_uuid": "e823acf33dd14623a3c0827ed90a1876"
   },
   "outputs": [
    {
     "data": {
      "image/png": "[encoded data removed]",
      "text/plain": [
       "<Figure size 432x288 with 1 Axes>"
      ]
     },
     "metadata": {
      "needs_background": "light"
     },
     "output_type": "display_data"
    }
   ],
   "source": [
    "w = np.array([1, 2])\n",
    "plt.annotate('', xy=w, xytext=(0, 0), arrowprops=gray)\n",
    "plt.annotate('', xy=0.5 * w, xytext=(0, 0), arrowprops=black)\n",
    "plt.plot(0, 0, 'kP', ms=10)\n",
    "plt.plot(0.5 * w[0], 0.5 * w[1], 'ro', ms=10)\n",
    "plt.plot([-2, 5], [2.25, -1.25], 'r-', lw=5)\n",
    "plt.text(-0.7, 0.8, \"vector $cw$\")\n",
    "plt.text(-0.1, 1.6, \"vector $w$\")\n",
    "plt.text(1, 1, \"line $x$\")\n",
    "plt.xticks(np.arange(-2, 5))\n",
    "plt.yticks(np.arange(-1, 5))\n",
    "plt.xlim(-2, 5)\n",
    "plt.ylim(-0.6, 3.6)\n",
    "plt.show()"
   ]
  },
  {
   "cell_type": "markdown",
   "metadata": {
    "school_cell_uuid": "f70490386b794038931add179dc9c1e7"
   },
   "source": [
    "예를 들어 $c=0.5$이면 벡터 $w=[1, 2]^T$에 수직이고 원점으로부터의 거리가 $\\frac{\\sqrt{5}}{2}$인 직선이 된다.\n",
    "\n",
    "$$\n",
    "\\begin{align}\n",
    "x_1 + 2x_2 - 2.5 = 0\n",
    "\\tag{3.1.57}\n",
    "\\end{align}\n",
    "$$"
   ]
  },
  {
   "cell_type": "markdown",
   "metadata": {
    "bootstrap": {
     "panel": {
      "class": "panel-default"
     }
    },
    "school_cell_uuid": "d0e0cffb46fe47e395c44c2d8b984de6"
   },
   "source": [
    "#### 연습 문제 3.1.10\n",
    "\n",
    "직선 $w^Tx - w_0 = 0$과 원점 사이의 거리가 다음과 같다는 것을 증명하라.\n",
    "\n",
    "$$\n",
    "\\begin{align}\n",
    "\\dfrac{w_0}{\\|w\\|}\n",
    "\\tag{3.1.58}\n",
    "\\end{align}\n",
    "$$"
   ]
  },
  {
   "cell_type": "markdown",
   "metadata": {
    "school_cell_uuid": "6c897241bfa7476ab13e6ceaba302c7e"
   },
   "source": [
    "### 직선과 점의 거리"
   ]
  },
  {
   "cell_type": "markdown",
   "metadata": {
    "school_cell_uuid": "e973ee2ed2b54fa8a0102517667ffba5"
   },
   "source": [
    "이번에는 직선 $w^Tx - \\|w\\|^2 = 0$ 과 이 직선 위에 있지 않은 점 $x'$ 사이의 거리를 구해보자.\n",
    "\n",
    "벡터 $w$에 대한 벡터 $x'$의 투영성분 $x'^{\\Vert w}$의 길이는 다음과 같다.\n",
    "\n",
    "$$\n",
    "\\begin{align}\n",
    "\\|x'^{\\Vert w}\\| = \\dfrac{w^Tx'}{\\|w\\|} \n",
    "\\tag{3.1.59}\n",
    "\\end{align}\n",
    "$$\n",
    "\n",
    "직선과 점 $x'$ 사이의 거리는 이 길이에서 원점에서 직선까지의 거리 $\\|w\\|$를 뺀 값의 절댓값이다. \n",
    "\n",
    "$$\n",
    "\\begin{align}\n",
    "\\left|  \\|x'^{\\Vert w}\\| - \\|w\\| \\right| = \n",
    "\\left| \\dfrac{w^Tx'}{\\|w\\|} - \\|w\\| \\right| =\n",
    "\\dfrac{\\left|w^Tx' - \\|w\\|^2 \\right|}{\\|w\\|}\n",
    "\\tag{3.1.60}\n",
    "\\end{align}\n",
    "$$\n",
    "\n",
    "직선의 방정식이 $w^Tx - w_0 = 0$이면 직선과 점의 거리는 다음과 같다.\n",
    "\n",
    "$$\n",
    "\\begin{align}\n",
    "\\dfrac{\\left|w^Tx' - w_0 \\right|}{\\|w\\|} \n",
    "\\tag{3.1.61}\n",
    "\\end{align}\n",
    "$$\n",
    "\n",
    "이 공식은 나중에 분류 방법의 하나인 서포트 벡터 머신(SVM: Support Vector Machine)에서 사용된다."
   ]
  },
  {
   "cell_type": "markdown",
   "metadata": {
    "bootstrap": {
     "panel": {
      "class": "panel-default"
     }
    },
    "school_cell_uuid": "d0e0cffb46fe47e395c44c2d8b984de6"
   },
   "source": [
    "#### 연습 문제 3.1.11\n",
    "\n",
    "직선의 방정식이 $w^Tx - w_0 = 0$이면 직선과 점의 거리는 다음과 같다는 것을 증명하라.\n",
    "\n",
    "$$\n",
    "\\begin{align}\n",
    "\\dfrac{\\left|w^Tx' - w_0 \\right|}{\\|w\\|}\n",
    "\\tag{3.1.62}\n",
    "\\end{align}\n",
    "$$"
   ]
  },
  {
   "cell_type": "code",
   "execution_count": 38,
   "metadata": {
    "school_cell_uuid": "bfeeaa0a81bc426c9736adfb7f479b6f"
   },
   "outputs": [
    {
     "data": {
      "image/png": "[encoded data removed]",
      "text/plain": [
       "<Figure size 432x288 with 1 Axes>"
      ]
     },
     "metadata": {
      "needs_background": "light"
     },
     "output_type": "display_data"
    }
   ],
   "source": [
    "w = np.array([1, 2])\n",
    "x1 = np.array([4, 3])\n",
    "x2 = np.array([1, 2]) * 2\n",
    "plt.annotate('', xy=x1, xytext=(0, 0), arrowprops=gray)\n",
    "plt.annotate('', xy=x2, xytext=(0, 0), arrowprops=gray)\n",
    "plt.annotate('', xy=w, xytext=(0, 0), arrowprops=red)\n",
    "plt.plot(0, 0, 'kP', ms=10)\n",
    "plt.plot(w[0], w[1], 'ro', ms=10)\n",
    "plt.plot(x1[0], x1[1], 'ro', ms=10)\n",
    "plt.plot([-3, 7], [4, -1], 'r-', lw=5)\n",
    "plt.plot([2, 4], [4, 3], 'k:', lw=2)\n",
    "plt.plot([3, 4], [1, 3], 'k:', lw=2)\n",
    "plt.text(0.1, 0.9, \"$w$\")\n",
    "plt.text(4.2, 3.1, \"$x'$\")\n",
    "plt.text(1.5, 2.4, \"$x'^{\\Vert w}$\")\n",
    "plt.xticks(np.arange(-3, 15))\n",
    "plt.yticks(np.arange(-1, 5))\n",
    "plt.xlim(-3, 7)\n",
    "plt.ylim(-1, 5)\n",
    "plt.show()"
   ]
  }
 ],
 "metadata": {
  "celltoolbar": "Edit Metadata",
  "kernelspec": {
   "display_name": "Python 3",
   "language": "python",
   "name": "python3"
  },
  "language_info": {
   "codemirror_mode": {
    "name": "ipython",
    "version": 3
   },
   "file_extension": ".py",
   "mimetype": "text/x-python",
   "name": "python",
   "nbconvert_exporter": "python",
   "pygments_lexer": "ipython3",
   "version": "3.7.6"
  },
  "pycharm": {
   "stem_cell": {
    "cell_type": "raw",
    "metadata": {
     "collapsed": false
    },
    "source": []
   }
  },
  "toc": {
   "base_numbering": 1,
   "nav_menu": {},
   "number_sections": false,
   "sideBar": true,
   "skip_h1_title": false,
   "title_cell": "Table of Contents",
   "title_sidebar": "Contents",
   "toc_cell": false,
   "toc_position": {},
   "toc_section_display": true,
   "toc_window_display": false
  }
 },
 "nbformat": 4,
 "nbformat_minor": 4
}
