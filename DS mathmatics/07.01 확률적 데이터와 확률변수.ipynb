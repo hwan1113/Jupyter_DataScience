{
 "cells": [
  {
   "cell_type": "markdown",
   "metadata": {
    "school_cell_uuid": "2f4e024e218a4050aacf63b1903efa83"
   },
   "source": [
    "## 7.1 확률적 데이터와 확률변수"
   ]
  },
  {
   "cell_type": "markdown",
   "metadata": {
    "school_cell_uuid": "c42f314b0900489ebdd8116454def38e"
   },
   "source": [
    "여러분이 의사라고 가정하자. 여러분은 환자로부터 여러가지 숫자, 즉 데이터를 받게 된다. 한 명의 환자가 주는 데이터는 크게 두 가지로 나눌 수 있는데 하나는 생년월일처럼 한 번 물어보면 더이상 물어볼 필요가 없는 데이터, 또 하나는 혈압, 체온처럼 환자가 내원할 때마다 물어보게 되는 데이터다. 같은 환자에게 생년월일을 한 번만 묻는 이유는 누가 언제 물어보더라도 그 값이 바뀌지 않기 때문이다. 반대로 혈압과 같은 데이터는 계속 다른 값이 나올 수 있다. 이전에 100번을 측정해 보았다 하더라도 이번에 어떤 값이 나올지 100% 정확하게 예측할 수 없다. 심지어는 같은 시간에 같은 사람의 혈압을 측정해도 측정하는 사람과 장비에 따라서 다를 수도 있다. 하지만 혈압을 100% 정확하게 예측할 수 없다는 말이 혈압이라는 데이터에 대해 아무런 정보나 지식이 없다는 뜻은 아니다. 예를 들어 혈압계에서 1000이라는 값이나 -10이라는 값이 나온다면 우리는 혈압계가 고장났다고 생각할 것이다. \n",
    "\n",
    "이 절에서는 다음과 같은 질문에 대해 대답할 수 있는 방법을 생각해 본다.\n",
    "\n",
    "* 어떤 데이터가 생년월일처럼 변하지 않는 데이터인지 혹은 측정할 때마다 변할 수 있는 데이터인지 구분할 수 있는가? \n",
    "* 혈압과 같이 100% 정확하게 예측할 수 없는 데이터가 있을 때 이 데이터로부터 우리가 얻는 지식은 무엇인가? 그것을 어떻게 표현할 수 있는가?\n",
    "* 이러한 데이터를 수학적으로 표현하는 방법을 알아본다."
   ]
  },
  {
   "cell_type": "markdown",
   "metadata": {
    "school_cell_uuid": "1c0d49a1862543d3a81df2aaaf89efec"
   },
   "source": [
    "### 확률적 데이터"
   ]
  },
  {
   "cell_type": "markdown",
   "metadata": {
    "school_cell_uuid": "3f69f1fc218442309752cfa9932ab4de"
   },
   "source": [
    "실험, 측정, 조사 등을 통해 어떤 데이터값을 반복적으로 얻는 경우를 생각하자. 생년월일처럼 언제 누가 얻더라도 항상 같은 값이 나오는 데이터를 **결정론적 데이터(deterministic data)**라고 하고 혈압처럼 정확히 예측할 수 없는 값이 나오는 데이터를 **확률적 데이터(random data, probabilistic data, stochastic data)**라고 한다. 우리가 다루는 대부분의 데이터는 확률적 데이터다. \n",
    "\n",
    "데이터가 확률적이 되는 이유는 \n",
    "\n",
    "* 여러 조건이나 상황에 따라 데이터값이 영향을 받기 때문일 수도 있고 \n",
    "* 측정 시에 발생하는 오차 때문일 수도 있다."
   ]
  },
  {
   "cell_type": "markdown",
   "metadata": {
    "school_cell_uuid": "0bb87b2022204b67914f27faf37e417d"
   },
   "source": [
    "### 분포"
   ]
  },
  {
   "cell_type": "markdown",
   "metadata": {
    "school_cell_uuid": "f6d9893975054c0d82677bc36a434fa8"
   },
   "source": [
    "그런데 대부분의 확률적 데이터값을 살펴보면 어떤 값은 자주 등장하고 어떤 값은 드물게 나오거나 나오지 않는 경우가 많다. 확률적 데이터에서 어떠한 값이 자주 나오고 어떠한 값이 드물게 나오는가를 나타내는 정보를 **분포(distribution)**라고 한다. \n",
    "\n",
    "분포는 범주형 데이터의 경우 **카운트 플롯(count plot)**, 실수형 데이터의 경우  **히스토그램(histogram)**을 사용하여 시각적으로 표현할 수 있다. 예를 들어 다음과 같은 21개 데이터가 있다고 하자."
   ]
  },
  {
   "cell_type": "code",
   "execution_count": 4,
   "metadata": {
    "school_cell_uuid": "d4dfb4f4745148b590e2fdf43109d125"
   },
   "outputs": [
    {
     "data": {
      "text/plain": [
       "array([ 1.76405235,  0.40015721,  0.97873798,  2.2408932 ,  1.86755799,\n",
       "       -0.97727788,  0.95008842, -0.15135721, -0.10321885,  0.4105985 ,\n",
       "        0.14404357,  1.45427351,  0.76103773,  0.12167502,  0.44386323,\n",
       "        0.33367433,  1.49407907, -0.20515826,  0.3130677 , -0.85409574,\n",
       "       -2.55298982])"
      ]
     },
     "execution_count": 4,
     "metadata": {},
     "output_type": "execute_result"
    }
   ],
   "source": [
    "# 경고 무시\n",
    "import warnings\n",
    "warnings.simplefilter('ignore')\n",
    "\n",
    "# 자주 사용하는 패키지를 임포트\n",
    "import matplotlib as mpl\n",
    "import matplotlib.pylab as plt\n",
    "from mpl_toolkits.mplot3d import Axes3D\n",
    "import seaborn as sns\n",
    "import numpy as np\n",
    "import scipy as sp\n",
    "import pandas as pd\n",
    "import statsmodels.api as sm\n",
    "import sklearn as sk\n",
    "\n",
    "# matplotlib 설정\n",
    "mpl.use('Agg')\n",
    "\n",
    "# seaborn 설정\n",
    "sns.set()\n",
    "sns.set_style(\"whitegrid\")\n",
    "sns.set_color_codes()\n",
    "np.random.seed(0)\n",
    "x = np.random.normal(size=21)\n",
    "x"
   ]
  },
  {
   "cell_type": "markdown",
   "metadata": {
    "school_cell_uuid": "49840a3e4706475ba69226bdea77ce5e"
   },
   "source": [
    "이 데이터를 -4부터 4까지 0.5 크기의 구간을 가진 히스토그램으로 나타내면 다음과 같다. 시본 패키지의 `distplot` 명령을 사용한다."
   ]
  },
  {
   "cell_type": "code",
   "execution_count": 7,
   "metadata": {
    "school_cell_uuid": "14650884f87b4a30832c40b6492c93c4"
   },
   "outputs": [
    {
     "data": {
      "image/png": "[encoded data removed]",
      "text/plain": [
       "<Figure size 432x288 with 1 Axes>"
      ]
     },
     "metadata": {
      "needs_background": "light"
     },
     "output_type": "display_data"
    }
   ],
   "source": [
    "%matplotlib inline\n",
    "bins = np.linspace(-4, 4, 17)\n",
    "sns.distplot(x, rug=True, kde=False, bins=bins)\n",
    "plt.title(\"히스토그램으로 나타낸 데이터 분포\")\n",
    "plt.xlabel(\"x\")\n",
    "plt.show()"
   ]
  },
  {
   "cell_type": "markdown",
   "metadata": {
    "school_cell_uuid": "8b0699a93e704dfcb75b176a4954ae80"
   },
   "source": [
    "### 기술통계"
   ]
  },
  {
   "cell_type": "markdown",
   "metadata": {
    "school_cell_uuid": "8c8b565c823f458cade75eaef22c8779"
   },
   "source": [
    " 분포를 표현하는 또다른 방법은 분포의 특징을 나타내는 여러가지 숫자를 계산하여 그 숫자로서 분포를 나타내는 것이다. 이러한 값들을 **기술통계(descriptive statistics)**라고 한다. 대표적인 기술통계는 다음과 같다.\n",
    "\n",
    "* 표본평균, 표본중앙값, 표본최빈값\n",
    "* 표본분산, 표본표준편차\n",
    "* 표본왜도, 표본첨도"
   ]
  },
  {
   "cell_type": "markdown",
   "metadata": {
    "school_cell_uuid": "529422eaf5c6448ab902dab896f181d2"
   },
   "source": [
    "### 표본평균"
   ]
  },
  {
   "cell_type": "markdown",
   "metadata": {
    "school_cell_uuid": "985c5e3443944cbab54bfb47c32470e1"
   },
   "source": [
    "정상인의 최고혈압(수축기혈압, systolic blood pressure)은 얼마인가라는 질문에 하나의 숫자로 대답해야 한다면 어떻게 답할 것인가?\n",
    "\n",
    "정상인의 최고혈압은 확률적 데이터다. 즉, 사람마다 그리고 측정하는 상황에 따라 다를 수 있다. 하지만 의사에게 같은 질문을 한다면 대부분 \"120 mmHg 정도입니다\"라고 말할 것이다. 여기에서 120이라는 값은 정상인의 최고혈압을 대표하는 값이다. 이렇게 확률적인 데이터값을 대표하는 몇 가지 기술통계가 있는데 그중 하나가 표본평균이다.\n",
    "\n",
    "일반적으로 부르는 평균(mean, average)의 정확한 명칭은 **표본평균(sample mean, sample average)**이다. 표본평균은 데이터 분포의 대략적인 위치를 나타낸다. 표본평균의 기호로는 알파벳 $m$ 또는 데이터를 나타내는 변수 기호 위에 bar를 붙인 $\\bar x$ 기호를 사용한다.\n",
    "\n",
    "$$ \n",
    "\\begin{align}\n",
    "m = \\bar{x} = \\dfrac{1}{N}\\sum_{i=1}^{N} x_i \n",
    "\\tag{7.1.1}\n",
    "\\end{align}\n",
    "$$\n",
    "\n",
    "이 식에서 $N$는 자료의 개수, $i$는 자료의 순서(index)를 뜻한다. "
   ]
  },
  {
   "cell_type": "markdown",
   "metadata": {
    "school_cell_uuid": "9e15ad970de24569bc0344c687240eb3"
   },
   "source": [
    "### 표본중앙값"
   ]
  },
  {
   "cell_type": "markdown",
   "metadata": {
    "school_cell_uuid": "9d6ecc0178fb4eeeb211910df79b90cb"
   },
   "source": [
    "**표본중앙값(sample median)**은 전체 자료를 크기별로 정렬했을 때 가장 중앙에 위치하는 값을 말한다. 표본 중앙값에도 몇 가지의 정의가 존재하지만 대표적인 정의는 다음과 같다.\n",
    "\n",
    "전체 표본 개수가 $N$인 경우,\n",
    "\n",
    "* $N$이 홀수이면 : 중앙값은 $(N + 1)/2$번째 표본의 값\n",
    "* $N$이 짝수이면 : 중앙값은 $N/2$번째 표본의 값과 $N/2 + 1$번째 표본의 값의 평균\n",
    "\n",
    "예를 들어 99명의 최고혈압을 측정한 데이터가 가장 낮은 값부터 가장 높은 값까지 순서대로 정렬했을 때 50번째 사람의 최고혈압이 이 데이터의 표본중앙값이 된다. 사람 수가 100명이라면 50번째 데이터와 51번째 데이터의 평균값을 사용한다."
   ]
  },
  {
   "cell_type": "markdown",
   "metadata": {
    "school_cell_uuid": "64a0832828c842d0a4d4dc4e04351efb"
   },
   "source": [
    "### 표본최빈값"
   ]
  },
  {
   "cell_type": "markdown",
   "metadata": {
    "school_cell_uuid": "e8e89146ba114ffeb2fa00d3b88f29db"
   },
   "source": [
    "**표본최빈값(most frequent value, sample mode)**은 데이터값 중 가장 빈번하게 나오는 값을 말한다. 혈액형, 나이, 남녀 구분 등 유한한 종류의 값만 있는 데이터에서는 최빈값을 쉽게 구할 수 있지만 혈압, 키, 몸무게 등 연속적인 값을 가지는 데이터에서는 (정밀도가 무한히 높다는 가정하에) 똑같은 값이 나올 확률이 아주 작기 때문에 최빈값을 구하기 어렵고 의미도 없다. 따라서 연속적인 값의 경우에는 일정한 구간 간격으로 나누어 가장 많은 데이터를 가진 구간의 대푯값을 그 데이터의 최빈값으로 가정하는 방법을 많이 사용한다. 하지만 이 방법도 구간을 어떻게 나누는가에 따라 달라질 수 있기 때문에 신뢰할 수 있는 방법이 아니다."
   ]
  },
  {
   "cell_type": "markdown",
   "metadata": {
    "school_cell_uuid": "471ab0b0a357480db123e58e2e8fea55"
   },
   "source": [
    "### 파이썬을 사용한 대푯값 계산"
   ]
  },
  {
   "cell_type": "markdown",
   "metadata": {
    "school_cell_uuid": "712c83cb58f64c188cafe03dbef5782b"
   },
   "source": [
    "파이썬에서는 다음과 같은 NumPy 함수를 사용하여 각종 대푯값을 계산할 수 있다. 범주형 데이터는 실수로 바꾼 다음에 대푯값을 계산한다.\n",
    "\n",
    "* [`mean()`](http://docs.scipy.org/doc/numpy/reference/generated/numpy.mean.html): 표본평균 계산\n",
    "* [`median()`](http://docs.scipy.org/doc/numpy/reference/generated/numpy.median.html): 표본중앙값 계산\n",
    "* [`argmax()`](http://docs.scipy.org/doc/numpy/reference/generated/numpy.argmax.html): 이산데이터의 최댓값 계산\n",
    "* [`histogram()`](http://docs.scipy.org/doc/numpy/reference/generated/numpy.histogram.html): 데이터를 구간으로 나누어 각 구간에 들어가는 데이터 개수 계산."
   ]
  },
  {
   "cell_type": "markdown",
   "metadata": {
    "school_cell_uuid": "d36eaed42b6e4a7a879677a44ab24667"
   },
   "source": [
    "표본평균과 표본중앙값은 다음처럼 구한다."
   ]
  },
  {
   "cell_type": "code",
   "execution_count": 3,
   "metadata": {
    "school_cell_uuid": "b9c8e344804f479a94ccb02f53a9c4c6"
   },
   "outputs": [
    {
     "name": "stdout",
     "output_type": "stream",
     "text": [
      "표본평균 = 0.4206524782418389, 표본중앙값 = 0.4001572083672233\n"
     ]
    }
   ],
   "source": [
    "print(\"표본평균 = {}, 표본중앙값 = {}\".format(np.mean(x), np.median(x)))"
   ]
  },
  {
   "cell_type": "markdown",
   "metadata": {
    "school_cell_uuid": "9e73d4cd3cdc470b825ac405d71edac3"
   },
   "source": [
    "하지만 연속데이터에 대한 최빈값은 의미 없는 숫자가 나오므로 구간으로 나누어 최빈구간을 구해야 한다."
   ]
  },
  {
   "cell_type": "code",
   "execution_count": 4,
   "metadata": {
    "school_cell_uuid": "6c326e483ca84464a41bf2b36e93c9be"
   },
   "outputs": [
    {
     "name": "stdout",
     "output_type": "stream",
     "text": [
      "최빈구간 = 0.0~0.5\n"
     ]
    }
   ],
   "source": [
    "ns, _ = np.histogram(x, bins=bins)\n",
    "m_bin = np.argmax(ns)\n",
    "print(\"최빈구간 = {}~{}\".format(bins[m_bin], bins[m_bin + 1]))"
   ]
  },
  {
   "cell_type": "markdown",
   "metadata": {
    "school_cell_uuid": "4d153d26081346a0b7ca0cf76bf5e141"
   },
   "source": [
    "### 단봉분포와 다봉분포"
   ]
  },
  {
   "cell_type": "markdown",
   "metadata": {
    "school_cell_uuid": "e06df0462f0646ce811ca439b8974f1a"
   },
   "source": [
    "분포의 모양에서 봉우리가 하나면 **단봉(uni-modal)분포**, 봉우리가 여럿이면 **다봉(multi-modal)분포**라고 한다."
   ]
  },
  {
   "cell_type": "markdown",
   "metadata": {
    "bootstrap": {
     "panel": {
      "class": "panel-default"
     }
    },
    "school_cell_uuid": "c30f1087bbd844e8a26ae8c3ed5040fd"
   },
   "source": [
    "#### 연습 문제 7.1.1\n",
    "\n",
    "다음 명령으로 붓꽃의 꽃잎 길이(petal length) 데이터를 구하고 히스토그램을 그려 분포의 모양을 살핀다.\n",
    "\n",
    "```\n",
    "from sklearn.datasets import load_iris\n",
    "iris = load_iris()\n",
    "df = pd.DataFrame(iris.data, columns=iris.feature_names)\n",
    "sy = pd.Series(iris.target, dtype=\"category\")\n",
    "sy = sy.cat.rename_categories(iris.target_names)\n",
    "df['species'] = sy\n",
    "```\n",
    "\n",
    "(1) 꽃잎 길이의 분포는 단봉분포인가 다봉분포인가?\n",
    "\n",
    "(2) 데이터프레임에서 종(species)이 `setosa`인 데이터만 뽑아서 히스토그램을 그려라. 이 분포는 단봉분포인가 다봉분포인가?\n"
   ]
  },
  {
   "cell_type": "code",
   "execution_count": 9,
   "metadata": {},
   "outputs": [
    {
     "name": "stdout",
     "output_type": "stream",
     "text": [
      "     sepal length (cm)  sepal width (cm)  petal length (cm)  petal width (cm)  \\\n",
      "0                  5.1               3.5                1.4               0.2   \n",
      "1                  4.9               3.0                1.4               0.2   \n",
      "2                  4.7               3.2                1.3               0.2   \n",
      "3                  4.6               3.1                1.5               0.2   \n",
      "4                  5.0               3.6                1.4               0.2   \n",
      "..                 ...               ...                ...               ...   \n",
      "145                6.7               3.0                5.2               2.3   \n",
      "146                6.3               2.5                5.0               1.9   \n",
      "147                6.5               3.0                5.2               2.0   \n",
      "148                6.2               3.4                5.4               2.3   \n",
      "149                5.9               3.0                5.1               1.8   \n",
      "\n",
      "       species  \n",
      "0       setosa  \n",
      "1       setosa  \n",
      "2       setosa  \n",
      "3       setosa  \n",
      "4       setosa  \n",
      "..         ...  \n",
      "145  virginica  \n",
      "146  virginica  \n",
      "147  virginica  \n",
      "148  virginica  \n",
      "149  virginica  \n",
      "\n",
      "[150 rows x 5 columns]\n"
     ]
    }
   ],
   "source": [
    "from sklearn.datasets import load_iris\n",
    "iris = load_iris()\n",
    "df = pd.DataFrame(iris.data, columns=iris.feature_names)\n",
    "sy = pd.Series(iris.target, dtype=\"category\")\n",
    "sy = sy.cat.rename_categories(iris.target_names)\n",
    "df['species'] = sy"
   ]
  },
  {
   "cell_type": "code",
   "execution_count": 27,
   "metadata": {},
   "outputs": [
    {
     "data": {
      "image/png": "[encoded data removed]",
      "text/plain": [
       "<Figure size 432x288 with 1 Axes>"
      ]
     },
     "metadata": {
      "needs_background": "light"
     },
     "output_type": "display_data"
    },
    {
     "data": {
      "image/png": "[encoded data removed]",
      "text/plain": [
       "<Figure size 432x288 with 1 Axes>"
      ]
     },
     "metadata": {
      "needs_background": "light"
     },
     "output_type": "display_data"
    }
   ],
   "source": [
    "#challenge1\n",
    "petal_len = df.iloc[:,2]\n",
    "max(df.iloc[:,2]) #6.9\n",
    "min(df.iloc[:,2]) #1.0\n",
    "bins = np.linspace(0, 7, 50)\n",
    "sns.distplot(petal_len, rug=True, kde=False, bins=bins)\n",
    "plt.title(\"petal leng\")\n",
    "plt.xlabel(\"x\")\n",
    "plt.show()\n",
    "\n",
    "#challenge2\n",
    "seto_petal_len = df.loc[df['species'] == 'setosa'].iloc[:,2]\n",
    "sns.distplot(seto_petal_len, rug=True, kde=False, bins=bins)\n",
    "plt.title(\"set_petal leng\")\n",
    "plt.xlabel(\"x\")\n",
    "plt.show()"
   ]
  },
  {
   "cell_type": "markdown",
   "metadata": {
    "school_cell_uuid": "b375e8c52b9b41b48cb1b0ccf6acf2f3"
   },
   "source": [
    "### 대칭분포"
   ]
  },
  {
   "cell_type": "markdown",
   "metadata": {
    "school_cell_uuid": "1b058334afd540d8a350078ec8ea996a"
   },
   "source": [
    "표본평균, 표본중앙값, 표본최빈값은 분포의 모양에 따라 다음과 같은 특성을 보인다.\n",
    "\n",
    "* 분포가 표본평균을 기준으로 대칭인 대칭(symmetric)분포이면 표본중앙값은 표본평균과 같다.\n",
    "* 분포가 대칭분포이면서 하나의 최고값만을 가지는 단봉분포이면 표본최빈값은 표본평균과 같다.\n",
    "* 대칭분포를 비대칭으로 만드는 데이터가 더해지면 표본평균이 가장 크게 영향을 받고 표본최빈값이 가장 적게 영향을 받는다.\n",
    "\n",
    "다음 히스토그램은 대칭인 분포를 비대칭으로 만드는 데이터가 더해졌을 때 표본평균, 표본중앙값, 표본최빈값이 어떻게 변하는지를 보인다."
   ]
  },
  {
   "cell_type": "code",
   "execution_count": 5,
   "metadata": {
    "school_cell_uuid": "8c2b6b7e818b40219da2d590ea010d77"
   },
   "outputs": [
    {
     "data": {
      "image/png": "[encoded data removed]",
      "text/plain": [
       "<Figure size 2400x1500 with 1 Axes>"
      ]
     },
     "metadata": {
      "needs_background": "light"
     },
     "output_type": "display_data"
    }
   ],
   "source": [
    "np.random.seed(1)\n",
    "x = np.random.normal(size=1000)\n",
    "x = np.hstack([x, 5 * np.ones(50)])\n",
    "bins = np.linspace(-6, 6, 12 * 4 + 1)\n",
    "ns, _ = np.histogram(x, bins=bins)\n",
    "\n",
    "sample_mean = np.mean(x)\n",
    "sample_median = np.median(x)\n",
    "mode_index = np.argmax(ns)\n",
    "sample_mode = 0.5 * (bins[mode_index] + bins[mode_index + 1])\n",
    "\n",
    "sns.distplot(x, bins=bins)\n",
    "plt.axvline(sample_mean, c='k', ls=\":\", label=\"표본평균\")\n",
    "plt.axvline(sample_median, c='k', ls=\"--\", label=\"표본중앙값\")\n",
    "plt.axvline(sample_mode, c='k', ls=\"-\", label=\"표본최빈값\")\n",
    "plt.title(\"표본평균, 표본중앙값, 표본최빈값의 차이\")\n",
    "plt.xlabel(\"x\")\n",
    "plt.legend()\n",
    "plt.show()"
   ]
  },
  {
   "cell_type": "markdown",
   "metadata": {
    "bootstrap": {
     "panel": {
      "class": "panel-default"
     }
    },
    "school_cell_uuid": "c30f1087bbd844e8a26ae8c3ed5040fd"
   },
   "source": [
    "#### 연습 문제 7.1.2\n",
    "\n",
    "(1) virginica 종 붓꽃의 꽃잎 길이(petal length) 데이터에 대해 표본평균, 표본중앙값, 표본최빈값을 구하고 위와 같이 그림으로 그려라. 표본최빈값을 구할 때는 0cm부터 10cm까지 1cm 간격으로 히스토그램을 그려서 표본최빈값을 구하라.\n",
    "\n",
    "(2) 히스토그램의 구간 수를 50개, 100개로 세분화하여 다시 표본최빈값을 구하라. 표본최빈값이 어떻게 달라지는가?"
   ]
  },
  {
   "cell_type": "code",
   "execution_count": 48,
   "metadata": {},
   "outputs": [
    {
     "data": {
      "image/png": "[encoded data removed]",
      "text/plain": [
       "<Figure size 432x288 with 1 Axes>"
      ]
     },
     "metadata": {
      "needs_background": "light"
     },
     "output_type": "display_data"
    },
    {
     "name": "stdout",
     "output_type": "stream",
     "text": [
      "sample mean, median, mode\n",
      "5.552\n",
      "5.55\n",
      "5.5\n"
     ]
    },
    {
     "data": {
      "image/png": "[encoded data removed]",
      "text/plain": [
       "<Figure size 432x288 with 1 Axes>"
      ]
     },
     "metadata": {
      "needs_background": "light"
     },
     "output_type": "display_data"
    },
    {
     "name": "stdout",
     "output_type": "stream",
     "text": [
      "sample mean, median, mode\n",
      "5.552\n",
      "5.55\n",
      "5.5\n"
     ]
    },
    {
     "data": {
      "image/png": "[encoded data removed]",
      "text/plain": [
       "<Figure size 432x288 with 1 Axes>"
      ]
     },
     "metadata": {
      "needs_background": "light"
     },
     "output_type": "display_data"
    },
    {
     "name": "stdout",
     "output_type": "stream",
     "text": [
      "sample mean, median, mode\n",
      "5.552\n",
      "5.55\n",
      "5.050000000000001\n"
     ]
    }
   ],
   "source": [
    "virgin_petal_len = df.loc[df['species'] == 'virginica'].iloc[:,2]\n",
    "bins = np.linspace(0, 10, 11)\n",
    "ns, _ = np.histogram(virgin_petal_len, bins=bins)\n",
    "\n",
    "sample_mean = np.mean(virgin_petal_len)\n",
    "sample_median = np.median(virgin_petal_len)\n",
    "mode_index = np.argmax(ns)\n",
    "sample_mode = 0.5 * (bins[mode_index] + bins[mode_index + 1])\n",
    "\n",
    "sns.distplot(virgin_petal_len, bins=bins)\n",
    "plt.axvline(sample_mean, c='k', ls=\":\", label=\"mean\")\n",
    "plt.axvline(sample_median, c='k', ls=\"--\", label=\"median\")\n",
    "plt.axvline(sample_mode, c='k', ls=\"-\", label=\"mode\")\n",
    "plt.title(\"mean, median, mode\")\n",
    "plt.xlabel(\"x\")\n",
    "plt.legend()\n",
    "plt.show()\n",
    "print('sample mean, median, mode')\n",
    "print(sample_mean)\n",
    "print(sample_median)\n",
    "print(sample_mode)\n",
    "\n",
    "bins = np.linspace(0, 10, 51)\n",
    "ns, _ = np.histogram(virgin_petal_len, bins=bins)\n",
    "mode_index = np.argmax(ns)\n",
    "sample_mode = 0.5 * (bins[mode_index] + bins[mode_index + 1])\n",
    "sns.distplot(virgin_petal_len, bins=bins)\n",
    "plt.axvline(sample_mean, c='g', ls=\":\", label=\"mean\")\n",
    "plt.axvline(sample_median, c='r', ls=\"--\", label=\"median\")\n",
    "plt.axvline(sample_mode, c='y', ls=\"-\", label=\"mode\")\n",
    "plt.title(\"mean, median, mode\")\n",
    "plt.xlabel(\"x\")\n",
    "plt.legend()\n",
    "plt.show()\n",
    "print('sample mean, median, mode')\n",
    "print(sample_mean)\n",
    "print(sample_median)\n",
    "print(sample_mode)\n",
    "\n",
    "bins = np.linspace(0, 10, 101)\n",
    "ns, _ = np.histogram(virgin_petal_len, bins=bins)\n",
    "mode_index = np.argmax(ns)\n",
    "sample_mode = 0.5 * (bins[mode_index] + bins[mode_index + 1])\n",
    "sns.distplot(virgin_petal_len, bins=bins)\n",
    "plt.axvline(sample_mean, c='g', ls=\":\", label=\"mean\")\n",
    "plt.axvline(sample_median, c='r', ls=\"--\", label=\"median\")\n",
    "plt.axvline(sample_mode, c='y', ls=\"-\", label=\"mode\")\n",
    "plt.title(\"mean, median, mode\")\n",
    "plt.xlabel(\"x\")\n",
    "plt.legend()\n",
    "plt.show()\n",
    "\n",
    "print('sample mean, median, mode')\n",
    "print(sample_mean)\n",
    "print(sample_median)\n",
    "print(sample_mode)"
   ]
  },
  {
   "cell_type": "markdown",
   "metadata": {
    "school_cell_uuid": "bd4eaf61c1334164ba09d6a018d2b7b2"
   },
   "source": [
    "### 분산과 표준편차"
   ]
  },
  {
   "cell_type": "markdown",
   "metadata": {
    "school_cell_uuid": "277f3c29e8954ce7a2ed6c38ef9c854d"
   },
   "source": [
    "앞에서 정상인의 최고혈압 대푯값은 120이라고 했다. \n",
    "그렇다면 어떤 사람의 최고혈압이 130이 나왔다면 그 사람은 정상이라고 할 수 없는 것일까? \n",
    "이러한 판단을 하려면 데이터가 얼마나 변동(variation)하고 있는지를 알아야 한다. \n",
    "이러한 정보를 알려주는 특징값이 **표본분산(sample variance)** 또는 **표본표준편차(sample standard deviation)**이다. \n",
    "평균이나 기댓값이 분포의 **위치**를 대표하는 것이라면 분산은 분포의 **폭(width)**을 대표하는 값이다. 표준편차는 분산에 대한 양의 제곱근(square root)값이다.\n",
    "\n",
    "$$\n",
    "\\begin{align}\n",
    "\\text{표준편차} = \\sqrt{\\text{분산}}\n",
    "\\tag{7.1.2}\n",
    "\\end{align}\n",
    "$$\n",
    "\n",
    "표본분산은 다음처럼 구한다. 식에서 $\\bar{x}$은 표본평균이다.\n",
    "\n",
    "$$ \n",
    "\\begin{align}\n",
    "s^2 = \\dfrac{1}{N}\\sum_{i=1}^{N} (x_i-\\bar{x})^2 \n",
    "\\tag{7.1.3}\n",
    "\\end{align}\n",
    "$$\n",
    "\n",
    "\n",
    "다음 그림에서 볼 수 있듯이 이 식은 자료값과 평균 사이의 거리를 의미한다. 다만 자료값이 평균보다 작을 때는 음수가 나오므로 제곱을 하여 모두 양수로 만들어준 것이다. \n",
    "\n",
    "만약 분포가 하나의 대푯값 근처에 모여있다면 대부분의 데이터는 \"대푯값 $\\pm$ 표준편차\" 범위 안에 있다. 참고로 정상인의 최고혈압의 표준편차는 약 20이다. 따라서 대다수의 최고혈압 데이터는 $120 \\pm 20$ 범위 안에 있다고 할 수 있으므로 130이라는 숫자는 비정상이라고 보기 힘들다."
   ]
  },
  {
   "cell_type": "markdown",
   "metadata": {
    "school_cell_uuid": "12858e15f1604c99a9967270d83e0d75"
   },
   "source": [
    "<img src=\"https://datascienceschool.net/upfiles/d533b6131841430c81207c9bf4cc0e02.png\" style=\"width: 100%;\">"
   ]
  },
  {
   "cell_type": "markdown",
   "metadata": {
    "school_cell_uuid": "b74583753bdc4208be4b5af9be474aca",
    "sidetitle": true
   },
   "source": [
    "그림 7.1.1 : 표본분산과 표본표준편차"
   ]
  },
  {
   "cell_type": "markdown",
   "metadata": {
    "school_cell_uuid": "1627ca2a2b9d4aa0a53d40d9380e026b"
   },
   "source": [
    "위 식에서 구한 표본분산은 정확하게 말하면 편향오차를 가진 **편향 표본분산(biased sample variance)**이다. 이와 대조되는 **비편향 표본분산(unbiased sample variance)**은 다음과 같이 구한다.\n",
    "\n",
    "$$ \n",
    "\\begin{align}\n",
    "s^2_{\\text{unbiased}} = \\dfrac{1}{N-1}\\sum_{i=1}^{N} (x_i-\\bar{x})^2\n",
    "\\tag{7.1.4}\n",
    "\\end{align}\n",
    "$$\n"
   ]
  },
  {
   "cell_type": "markdown",
   "metadata": {
    "school_cell_uuid": "d3cd4e4fa7cf42bbb443543e9d80df9b"
   },
   "source": [
    "### 파이썬을 사용한 표본분산 및 표본표준편차의 계산"
   ]
  },
  {
   "cell_type": "markdown",
   "metadata": {
    "school_cell_uuid": "bfc7a99dd6434910b372bbaaab4bf991"
   },
   "source": [
    "파이썬에서 표본분산과 표본표준편차를 구할 때는 다음 함수를 사용한다. `ddof` 인수를 이용하면 비편향 표본분산과 표본표준편차를 구할 수 있다.\n",
    "\n",
    "* [`var()`](https://docs.scipy.org/doc/numpy/reference/generated/numpy.var.html)\n",
    "* [`std()`](https://docs.scipy.org/doc/numpy/reference/generated/numpy.std.html)"
   ]
  },
  {
   "cell_type": "code",
   "execution_count": 6,
   "metadata": {
    "school_cell_uuid": "26ad1a98533640bc9274215f0c927284"
   },
   "outputs": [],
   "source": [
    "sp.random.seed(0)\n",
    "x = sp.stats.norm(0, 2).rvs(1000)  # 평균=0, 표준편차=2 인 정규분포 데이터 생성"
   ]
  },
  {
   "cell_type": "code",
   "execution_count": 7,
   "metadata": {
    "school_cell_uuid": "4d301ef71ead4525ac14a453a1e52aff"
   },
   "outputs": [
    {
     "data": {
      "text/plain": [
       "(3.896937825248617, 1.9740663173380515)"
      ]
     },
     "execution_count": 7,
     "metadata": {},
     "output_type": "execute_result"
    }
   ],
   "source": [
    "np.var(x), np.std(x) # 편향 표본분산, 표본표준편차"
   ]
  },
  {
   "cell_type": "code",
   "execution_count": 8,
   "metadata": {
    "school_cell_uuid": "ab251cff5c04432c9b49593590e13fa2"
   },
   "outputs": [
    {
     "data": {
      "text/plain": [
       "(3.900838663912529, 1.9750540913890255)"
      ]
     },
     "execution_count": 8,
     "metadata": {},
     "output_type": "execute_result"
    }
   ],
   "source": [
    "np.var(x, ddof=1), np.std(x, ddof=1)  # 비편향 표본분산, 표본표준편차"
   ]
  },
  {
   "cell_type": "markdown",
   "metadata": {
    "bootstrap": {
     "panel": {
      "class": "panel-default"
     }
    },
    "school_cell_uuid": "c30f1087bbd844e8a26ae8c3ed5040fd"
   },
   "source": [
    "#### 연습 문제 7.1.3\n",
    "\n",
    "다음 명령으로 다우지수의 일간수익률 데이터를 구할 수 있다. \n",
    "\n",
    "```\n",
    "import pandas_datareader.data as web\n",
    "\n",
    "df = web.DataReader(\"DJCA\", data_source='fred').dropna()[\"DJCA\"]\n",
    "r = np.log(df / df.shift(1)).dropna().values\n",
    "```\n",
    "\n",
    "(1) 다우지수 일간수익률의 표본평균, 표본분산, 표본표준편차를 구하라.\n",
    "\n",
    "(2) 일간수익률의 표본표준편차에 대략적인 연간 거래일수 256일의 제곱근인 16을 곱해서 % 단위로 나타낸 것을 연간변동성(annual volatility)이라고 한다. 다우지수의 연간변동성을 구하라.\n"
   ]
  },
  {
   "cell_type": "code",
   "execution_count": 49,
   "metadata": {},
   "outputs": [],
   "source": [
    "import pandas_datareader.data as web\n",
    "\n",
    "df = web.DataReader(\"DJCA\", data_source='fred').dropna()[\"DJCA\"]\n",
    "r = np.log(df / df.shift(1)).dropna().values"
   ]
  },
  {
   "cell_type": "code",
   "execution_count": 55,
   "metadata": {},
   "outputs": [
    {
     "name": "stdout",
     "output_type": "stream",
     "text": [
      "0.00016633722408718554\n",
      "0.000145037501270904\n",
      "0.012043151633642417\n"
     ]
    },
    {
     "data": {
      "text/plain": [
       "19.276724114078704"
      ]
     },
     "execution_count": 55,
     "metadata": {},
     "output_type": "execute_result"
    }
   ],
   "source": [
    "print(np.mean(r))\n",
    "print(np.var(r))\n",
    "print(np.std(r))\n",
    "\n",
    "np.std(r, ddof=1) * 16 * 100"
   ]
  },
  {
   "cell_type": "markdown",
   "metadata": {
    "school_cell_uuid": "ab6ab8b4220c467996c55517deafadb4"
   },
   "source": [
    "### 표본비대칭도"
   ]
  },
  {
   "cell_type": "markdown",
   "metadata": {
    "school_cell_uuid": "a6b35f14ab8c40d88a86ed4e4dbc2d1e"
   },
   "source": [
    "평균과의 거리의 세제곱을 이용하여 구한 특징값을 **표본비대칭도(sample skewness)**라고 한다. **표본비대칭도가 0이면 분포가 대칭**이다. 표본비대칭도가 음수면 표본평균값을 기준으로 왼쪽에 있는 값을 가진 표본이 나올 가능성이 더 많다는 뜻이다.\n",
    "\n",
    "\n",
    "$$ \n",
    "\\begin{align}\n",
    "\\text{표본비대칭도} = \n",
    "\\frac{\\tfrac{1}{N} \\sum_{i=1}^N (x_i-\\overline{x})^3}{ \\sqrt{\\tfrac{1}{N-1} \\sum_{i=1}^N (x_i-\\overline{x})^2}^{\\,3}}\n",
    "\\tag{7.1.5}\n",
    "\\end{align}\n",
    "$$"
   ]
  },
  {
   "cell_type": "markdown",
   "metadata": {
    "school_cell_uuid": "fd200df2ce934cacbc12f80324f1bf2b"
   },
   "source": [
    "<img src=\"https://datascienceschool.net/upfiles/fbef84feab4646cf918e1b474ef07290.png\" style=\"width=100%;\">"
   ]
  },
  {
   "cell_type": "markdown",
   "metadata": {
    "school_cell_uuid": "4b2e06a5cbd34809bb92e878c57f2ff2",
    "sidetitle": true
   },
   "source": [
    "그림 7.1.2 : 분포에 따른 표본비대칭도"
   ]
  },
  {
   "cell_type": "markdown",
   "metadata": {
    "school_cell_uuid": "138f710368b94cf6b56346055bfd60a9"
   },
   "source": [
    "### 표본첨도"
   ]
  },
  {
   "cell_type": "markdown",
   "metadata": {
    "school_cell_uuid": "b49c61c2132c45bfb6433a3d6096396b"
   },
   "source": [
    "평균과의 거리의 네제곱을 이용하여 구한 특징값을 **표본첨도(sample kurtosis)**라고 한다. 표본첨도는 데이터가 중앙에 몰려있는 정도를 정밀하게 비교하는데 쓰인다. 사람의 눈으로 첨도를 구별하는 것은 어렵다. 표본첨도의 기준은 나중에 설명할 정규분포다. 정규분포보다 첨도가 높으면 양수, 정규분포보다 첨도가 낮으면 음수로 정의한다.\n",
    "\n",
    "\n",
    "$$ \n",
    "\\begin{align}\n",
    "\\text{표본첨도} = \n",
    "\\frac{\\tfrac{1}{N} \\sum_{i=1}^N (x_i - \\overline{x})^4}{\\left(\\tfrac{1}{N} \\sum_{i=1}^N (x_i - \\overline{x})^2\\right)^2} - 3\n",
    "\\tag{7.1.6}\n",
    "\\end{align}\n",
    "$$\n",
    "\n",
    "\n",
    "사이파이의 stats 서브패키지는 표본비대칭도와 표본첨도를 구하는 `skew()`, `kurtosis()` 명령을 제공한다."
   ]
  },
  {
   "cell_type": "code",
   "execution_count": 56,
   "metadata": {
    "school_cell_uuid": "abebbe38b83245faa44ad0187d08869d"
   },
   "outputs": [
    {
     "data": {
      "text/plain": [
       "(-0.6947077935393484, 0.9596743701298678)"
      ]
     },
     "execution_count": 56,
     "metadata": {},
     "output_type": "execute_result"
    }
   ],
   "source": [
    "sp.stats.skew(x), sp.stats.kurtosis(x)  "
   ]
  },
  {
   "cell_type": "markdown",
   "metadata": {
    "school_cell_uuid": "c7771e0d02ce406892b356e65d0c4170"
   },
   "source": [
    "### 표본모멘트"
   ]
  },
  {
   "cell_type": "markdown",
   "metadata": {
    "school_cell_uuid": "cec7c0e8e5a9457ab0b9b1105a110166"
   },
   "source": [
    "분산, 비대칭도, 첨도를 구하기 위해 제곱, 세제곱, 네제곱을 하는 것처럼 $k$제곱을 이용하여 구한 모멘트를 $k$차 **표본모멘트(sample moment)**라고 한다. \n",
    "\n",
    "$$ \n",
    "\\begin{align}\n",
    "\\text{표본모멘트} = \n",
    "\\frac{1}{N}\\sum_{i = 1}^{N} x^k_i\n",
    "\\tag{7.1.7}\n",
    "\\end{align}\n",
    "$$\n",
    "\n",
    "2차 표본모멘트 이상은 평균을 뺀 **표본중앙모멘트(sample centered moment)**값을 사용하기도 한다. \n",
    "\n",
    "$$ \n",
    "\\begin{align}\n",
    "\\text{표본중앙모멘트} = \n",
    "\\frac{1}{N}\\sum_{i = 1}^{N} (x_i - \\bar{x})^k\n",
    "\\tag{7.1.8}\n",
    "\\end{align}\n",
    "$$\n",
    "\n",
    "따라서 평균은 1차 모멘트, 분산은 2차 모멘트, 비대칭도와 첨도는 3차 모멘트와 4차 모멘트에서 유도된 값이다.\n",
    "\n",
    "사이파이 stats 서브패키지는 표본모멘트를 구하는 `moment()` 명령을 제공한다.  인수로 모멘트 차수를 입력한다."
   ]
  },
  {
   "cell_type": "code",
   "execution_count": 10,
   "metadata": {
    "school_cell_uuid": "571d2443459945009181d05c9e07ebe6"
   },
   "outputs": [
    {
     "data": {
      "text/plain": [
       "(0.0, 3.896937825248617, 0.2604706193725514, 44.84817401965371)"
      ]
     },
     "execution_count": 10,
     "metadata": {},
     "output_type": "execute_result"
    }
   ],
   "source": [
    "sp.stats.moment(x, 1), sp.stats.moment(x, 2), sp.stats.moment(x, 3), sp.stats.moment(x, 4)"
   ]
  },
  {
   "cell_type": "markdown",
   "metadata": {
    "school_cell_uuid": "72dbd7c1fd87435db668587ca8c7655a"
   },
   "source": [
    "### 확률변수"
   ]
  },
  {
   "cell_type": "markdown",
   "metadata": {
    "school_cell_uuid": "3eda6381be204bc4851a3ecfc6c81b89"
   },
   "source": [
    "확률변수는 수학적으로 확률공간의 표본을 입력으로 받아서 실수인 숫자로 바꾸어 출력하는 함수다. 출력되는 실수가 데이터의 값이다. 표본값을 굳이 실수로 바꾸는 이유는 표본이 실수가 아니면 확률분포함수를 정의할 수 없기 때문이다. \n",
    "\n",
    "$$ \n",
    "\\begin{align}\n",
    "\\omega \\in \\Omega \\;\\;\\; \\xrightarrow{\\text{확률변수 } X} \\;\\; x \\in \\mathbf{R} \n",
    "\\tag{7.1.9}\n",
    "\\end{align}\n",
    "$$\n",
    "\n",
    "$$ \n",
    "\\begin{align}\n",
    "X(\\omega) = x\n",
    "\\tag{7.1.10}\n",
    "\\end{align}\n",
    "$$\n",
    "\n",
    "보통은 $X$ 등의 대문자 알파벳을 사용하여 확률변수를 표기한다. 확률변수에 의해 할당된 실수는 $x$와 같이 소문자 알파벳으로 표시한다. 경우에 따라서는 소문자 알파벳으로 확률변수를 표기하는 경우도 있다.\n",
    "\n"
   ]
  },
  {
   "cell_type": "markdown",
   "metadata": {
    "hidden": "input",
    "school_cell_uuid": "1e6686974a214e21a5cf30ba9cc05fa6"
   },
   "source": [
    "<img src=\"https://datascienceschool.net/upfiles/8b823f5f404b4f5cb8ea25b0260af851.png\" style=\"width: 100%;\">"
   ]
  },
  {
   "cell_type": "markdown",
   "metadata": {
    "school_cell_uuid": "60a2ddf5fabb4d2a80852008adf8f78b",
    "sidetitle": true
   },
   "source": [
    "그림 7.1.3 : 확률변수"
   ]
  },
  {
   "cell_type": "markdown",
   "metadata": {
    "school_cell_uuid": "09926d730a0b4840a6b1fe2e1519ad8b"
   },
   "source": [
    "### 이산확률변수"
   ]
  },
  {
   "cell_type": "markdown",
   "metadata": {
    "school_cell_uuid": "2a486ad328624a798e70003b781e5720"
   },
   "source": [
    "플레잉카드에서 나올 수 있는 모든 무늬(suit)의 집합인 표본집합 $\\{\\spadesuit, \\heartsuit, \\diamondsuit, \\clubsuit\\}$ 내의 모든 표본에 대해 다음과 같이 숫자를 할당하면 1부터 4까지 값을 가지는 확률변수가 된다. 이렇게 확률변수값이 연속적(continuous)이지 않고 떨어져(discrete) 있도록 정의할 수 있으면 **이산확률변수(discrete random variable)**라고 한다.\n",
    "\n",
    "$$\n",
    "\\begin{align}\n",
    "X(\\spadesuit) = 1 , \\;\\;\n",
    "X(\\heartsuit) = 2 , \\;\\;\n",
    "X(\\diamondsuit) = 3 , \\;\\;\n",
    "X(\\clubsuit) = 4\n",
    "\\tag{7.1.11}\n",
    "\\end{align}\n",
    "$$\n",
    "\n",
    "\n",
    "확률공간의 표본에는 확률이 할당되어 있다. 예를 들어 모든 표본이 나올 가능성이 같다면 확률은 다음처럼 할당되어 있다는 뜻이다. 다음 식에서 $p$는 확률질량함수다.\n",
    "\n",
    "$$\n",
    "\\begin{align}\n",
    "p(\\spadesuit) = \\dfrac{1}{4}, \\;\\;\n",
    "p(\\heartsuit) = \\dfrac{1}{4}, \\;\\;\n",
    "p(\\diamondsuit) = \\dfrac{1}{4}, \\;\\;\n",
    "p(\\clubsuit) = \\dfrac{1}{4}\n",
    "\\tag{7.1.12}\n",
    "\\end{align}\n",
    "$$\n",
    "\n",
    "\n",
    "표본공간의 원소의 개수가 무한대인 경우도 이산확률변수가 될 수 있다. 예를 들어 기하 분포(geometric distribution)나 포아송 분포(Poisson distribution) 등은 양의 정수값을 가지는 이산분포지만 표본의 갯수가 무한대다."
   ]
  },
  {
   "cell_type": "markdown",
   "metadata": {
    "school_cell_uuid": "ba17dc143b4d4fb8bbaebdf824b09941"
   },
   "source": [
    "### 연속확률변수"
   ]
  },
  {
   "cell_type": "markdown",
   "metadata": {
    "school_cell_uuid": "9cf26a7da9bd4fb4bb3183b2e22abd75"
   },
   "source": [
    "주사위가 아닌 원반의 각도 문제처럼 연속적이고 무한대의 실수 표본값을 가지는 확률변수를 **연속확률변수(continuous random variable)**라고 한다. \n",
    "모든 표본이 실수인 숫자로 변한다면 모든 사건은 구간사건의 조합으로 표시된다. 즉, 확률이 어떻게 할당되었는가를 나타내는 정보인 확률분포를 수학적인 확률분포함수로 나타낼 수 있다는 뜻이다."
   ]
  },
  {
   "cell_type": "markdown",
   "metadata": {
    "school_cell_uuid": "061573d00ce944be9edcc3908d7bf3d9"
   },
   "source": [
    "### 확률변수는 데이터 생성기"
   ]
  },
  {
   "cell_type": "markdown",
   "metadata": {
    "school_cell_uuid": "927d104e8cc84f998da62026affa54cf"
   },
   "source": [
    "확률적 데이터는 어떤 실험 행위에 의해 얻어지는 경우가 많다. 예를 들어 \n",
    "\n",
    "* 주사위를 던지는 실험 \n",
    "* 자동차 엔진의 출력을 측정하는 실험\n",
    "* 혈압을 측정하는 실험\n",
    "\n",
    "등을 같은 조건에서 여러 번 반복하여 확률적 데이터를 얻을 수 있다. 이 확률적 데이터들에는 데이터를 생성하게 한 주사위, 자동차 엔진, 사람 등의 데이터 생성기가 명확하게 존재한다. 우리가 가진 데이터가 어떤 과정을 통해 얻어졌는지 구체적으로 알지 못한다고 해도 앞에서 예로 든 주사위, 자동차 엔진처럼 이 데이터를 생성한 무언가가 존재한다고 가정할 수 있다. \n",
    "\n",
    "확률변수는 실수인 데이터를 생성하는 데이터생성기다. 몇 가지 확률변수의 예를 들어보자.\n",
    "\n",
    "* 공정한 주사위에서 나오는 숫자는 1부터 6까지의 숫자가 나오고 균일분포 확률분포함수를 가진 이산확률변수다.\n",
    "* 정상인의 최고혈압은 실수가 나오고 120 mmHg 근처에서 기댓값을 가지는 단봉분포 모양의 확률분포함수를 가진 연속확률변수다."
   ]
  },
  {
   "cell_type": "markdown",
   "metadata": {
    "bootstrap": {
     "panel": {
      "class": "panel-default"
     }
    },
    "school_cell_uuid": "c30f1087bbd844e8a26ae8c3ed5040fd"
   },
   "source": [
    "#### 연습 문제 7.1.4\n",
    "\n",
    "위에서 구한 붓꽃 데이터에서는 몇 개의 확률변수를 정의할 수 있는가? "
   ]
  },
  {
   "cell_type": "markdown",
   "metadata": {
    "school_cell_uuid": "0c7dff68efd54e66b5d676f331528d89"
   },
   "source": [
    "현실 세계의 데이터는 확률변수가 가진 확률분포에 따라 실수 표본공간에서 선택된 표본이다. 이렇게 확률분포함수에 따라 표본공간의 표본이 현실 세계의 데이터로 선택되는 것을 **실현(realization)** 혹은 **표본화(sampling)**라고 한다. 표본화는 다른 의미로도 사용되는데 많은 수의 데이터 집합에서 일부 데이터만 선택하는 과정도 표본화라고 한다. \n",
    "\n",
    "실현은 이상적이고(ideal), 추상적이며(abstract), 수학적인(mathematical) 세계에서 현실로 넘어가는 과정이다. 확률변수라는 데이터 모형에 따르면 현실의 표본 데이터는 이러한 수학적인 세계가 현실 세계에 투영된 그림자에 지나지 않는다. 따라서 히스토그램이나 기술통계 등 분포의 특성이 깨끗한 형태를 지니지 않지만 이는 실현 혹은 표본화 과정에서 생긴 잡음일 뿐이며 그 내면에는 원래의 수학적 특성을 내포하고 있다.\n",
    "\n",
    "따라서 확률변수와 실제 데이터는 다음과 같은 관계가 있다.\n",
    "\n",
    "* 확률변수로부터 데이터를 여러 번 생성하는 경우 실제 데이터값은 매번 달라질 수 있지만 확률변수 자체는 변하지 않는다.\n",
    "* 확률변수의 확률분포함수는 우리가 직접 관찰할 수 없다. 다만 확률변수에서 만들어지는 실제 데이터값을 이용하여 확률분포함수가 이러한 것일 거라고 추정할 뿐이다.\n",
    "* 확률변수에서 만들어지는 실제 데이터값은 확률변수가 가진 특성을 반영하고 있다. 데이터 개수가 적을수록 확률변수가 가진 특징을 정확하게 표현하지 못하지만 데이터 개수가 증가하면 보다 정확하게 확률분포함수를 묘사할 수 있게 된다."
   ]
  },
  {
   "cell_type": "markdown",
   "metadata": {
    "hidden": "input",
    "school_cell_uuid": "1e6686974a214e21a5cf30ba9cc05fa6"
   },
   "source": [
    "<img src=\"https://datascienceschool.net/upfiles/5c6f256eb4aa4e8c9459e779b88936a9.png\" style=\"width: 100%;\">"
   ]
  },
  {
   "cell_type": "markdown",
   "metadata": {
    "school_cell_uuid": "2cfcd13e55cc429183ad6c4ee1d73fc6",
    "sidetitle": true
   },
   "source": [
    "그림 7.1.4 : 확률변수와 데이터"
   ]
  },
  {
   "cell_type": "markdown",
   "metadata": {
    "school_cell_uuid": "bfc3a7ef66de42acbb1cd9fad1fa7997"
   },
   "source": [
    "### 확률변수를 사용한 데이터 분석"
   ]
  },
  {
   "cell_type": "markdown",
   "metadata": {
    "school_cell_uuid": "92f4d942eca9487d9fbc2f264abbf534"
   },
   "source": [
    "확률변수를 사용하게 되면 데이터 분석은 보통 다음과 같은 순서로 이루어진다.\n",
    "\n",
    "1. 데이터를 수집한다.\n",
    "2. 수집한 데이터가 어떤 확률변수의 표본 데이터라고 가정한다.\n",
    "3. 데이터를 사용하여 해당 확률변수의 확률분포함수의 모양을 결정한다.\n",
    "4. 결정된 확률변수로부터 다음에 생성될 데이터나 데이터 특성을 예측한다.\n",
    "\n",
    "이 과정 중 가장 중요한 것이 데이터값에서 확률변수의 확률분포함수를 역설계(reverse-engineering)하여 만들어내는 세 번째 단계다. 데이터에서 확률분포함수의 모양을 구하는 방법은 여러 가지가 있는데 가장 간단한 방법은 다음과 같이 기술통계값을 이용하는 것이다.\n",
    "\n",
    "1. 데이터 분포가 가지는 표본평균, 표본분산 등의 기술통계값을 구한다.\n",
    "2. 이 값과 같은 기술통계값을 가지는 확률분포함수를 찾는다.\n",
    "\n",
    "위와 같은 방법을 쓰려면 표본 데이터가 없는 확률분포함수의 기술통계값을 구하는 방법을 알아야 한다. 다음 절부터는 확률분포함수의 기술통계값인 기댓값, 분산 등에 대해 공부한다."
   ]
  },
  {
   "cell_type": "markdown",
   "metadata": {
    "hidden": "input",
    "school_cell_uuid": "1e6686974a214e21a5cf30ba9cc05fa6"
   },
   "source": [
    "<img src=\"https://datascienceschool.net/upfiles/d847bea789e14949af527a72d266cf6c.png\" style=\"width: 100%;\">"
   ]
  },
  {
   "cell_type": "markdown",
   "metadata": {
    "school_cell_uuid": "3abe163d76a44d7b8623bd859cdfe83a",
    "sidetitle": true
   },
   "source": [
    "그림 7.1.5 : 확률분포함수의 추정"
   ]
  }
 ],
 "metadata": {
  "celltoolbar": "Edit Metadata",
  "kernelspec": {
   "display_name": "Python 3",
   "language": "python",
   "name": "python3"
  },
  "language_info": {
   "codemirror_mode": {
    "name": "ipython",
    "version": 3
   },
   "file_extension": ".py",
   "mimetype": "text/x-python",
   "name": "python",
   "nbconvert_exporter": "python",
   "pygments_lexer": "ipython3",
   "version": "3.7.6"
  },
  "pycharm": {
   "stem_cell": {
    "cell_type": "raw",
    "metadata": {
     "collapsed": false
    },
    "source": []
   }
  },
  "toc": {
   "base_numbering": 1,
   "nav_menu": {},
   "number_sections": false,
   "sideBar": true,
   "skip_h1_title": false,
   "title_cell": "Table of Contents",
   "title_sidebar": "Contents",
   "toc_cell": false,
   "toc_position": {},
   "toc_section_display": true,
   "toc_window_display": false
  }
 },
 "nbformat": 4,
 "nbformat_minor": 4
}
