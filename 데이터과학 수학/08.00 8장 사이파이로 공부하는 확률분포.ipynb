{
 "cells": [
  {
   "cell_type": "markdown",
   "metadata": {
    "school_cell_uuid": "4549364b37734314bfbdb9c70e01a76a"
   },
   "source": [
    "# 8장 사이파이로 공부하는 확률분포"
   ]
  },
  {
   "cell_type": "markdown",
   "metadata": {
    "school_cell_uuid": "fed9ccc0666c4f4e9bfe91829c3f2fa8"
   },
   "source": [
    "이 장에서는 실제로 많이 사용되는 대표적인 몇 가지 확률분포의 수식과 활용을 알아본다. 우선 사이파이 파이썬 패키지를 사용하여 다양한 확률분포의 확률분포함수를 계산하고 해당 확률분포의 무작위 표본을 생성하는 방법을 알아본다. \n",
    "\n",
    "확률분포에는 범주값을 출력하는 이산확률분포와 연속적인 값을 출력하는 연속확률분포가 있다. 여기에서는 베르누이분포, 이산분포, 카테고리분포, 다항분포 네 가지의 이산확률분포 정의와 확률분포함수를 공부하고 스팸메일 필터링과 같은 분류문제에 어떻게 쓰이는지 살펴본다. 연속확률분포에서는 정규분포부터 공부한다. 중심극한정리는 왜 실생활에서 정규분포가 많이 사용되는지를 알려준다. 정규분포의 변형인 스튜던트 t분포, 카이제곱분포, F분포는 데이터 간의 상관관계를 따지거나 회귀분석을 하는 필수 확률분포다. 마지막으로 베타분포, 감마분포, 디리클레분포를 이용하여 베이즈 추정의 개념을 공부한다."
   ]
  },
  {
   "cell_type": "markdown",
   "metadata": {
    "school_cell_uuid": "0e15ad8b3fc54453a7eb420755758a50"
   },
   "source": [
    "## 학습 목표"
   ]
  },
  {
   "cell_type": "markdown",
   "metadata": {
    "school_cell_uuid": "1c3cdc6da966403da3eaa03064641b90"
   },
   "source": [
    "* 사이파이를 이용한 확률분포 분석 방법\n",
    "* 베르누이분포, 이항분포, 카테고리분포, 다항분포\n",
    "* 정규분포와 중심극한정리\n",
    "* 스튜던트 t분포, 카이제곱분포, F분포\n",
    "* 다변수 정규분포\n",
    "* 베타분포, 감마분포, 디리클레분포"
   ]
  }
 ],
 "metadata": {
  "kernelspec": {
   "display_name": "Python 3",
   "language": "python",
   "name": "python3"
  },
  "language_info": {
   "codemirror_mode": {
    "name": "ipython",
    "version": 3
   },
   "file_extension": ".py",
   "mimetype": "text/x-python",
   "name": "python",
   "nbconvert_exporter": "python",
   "pygments_lexer": "ipython3",
   "version": "3.7.0"
  }
 },
 "nbformat": 4,
 "nbformat_minor": 2
}