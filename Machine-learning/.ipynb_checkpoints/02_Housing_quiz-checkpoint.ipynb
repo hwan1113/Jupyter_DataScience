{
 "cells": [
  {
   "cell_type": "code",
   "execution_count": 15,
   "metadata": {},
   "outputs": [],
   "source": [
    "import pandas as pd\n",
    "import os\n",
    "import numpy as np\n",
    "HOUSING_PATH = \"datasets/housing\"\n",
    "def load_housing_data(housing_path=HOUSING_PATH):\n",
    "    csv_path = os.path.join(housing_path, \"housing.csv\")\n",
    "    return pd.read_csv(csv_path)\n",
    "housing = load_housing_data()"
   ]
  },
  {
   "cell_type": "code",
   "execution_count": 16,
   "metadata": {},
   "outputs": [
    {
     "data": {
      "text/html": [
       "<div>\n",
       "<style scoped>\n",
       "    .dataframe tbody tr th:only-of-type {\n",
       "        vertical-align: middle;\n",
       "    }\n",
       "\n",
       "    .dataframe tbody tr th {\n",
       "        vertical-align: top;\n",
       "    }\n",
       "\n",
       "    .dataframe thead th {\n",
       "        text-align: right;\n",
       "    }\n",
       "</style>\n",
       "<table border=\"1\" class=\"dataframe\">\n",
       "  <thead>\n",
       "    <tr style=\"text-align: right;\">\n",
       "      <th></th>\n",
       "      <th>longitude</th>\n",
       "      <th>latitude</th>\n",
       "      <th>housing_median_age</th>\n",
       "      <th>total_rooms</th>\n",
       "      <th>total_bedrooms</th>\n",
       "      <th>population</th>\n",
       "      <th>households</th>\n",
       "      <th>median_income</th>\n",
       "      <th>ocean_proximity</th>\n",
       "    </tr>\n",
       "  </thead>\n",
       "  <tbody>\n",
       "    <tr>\n",
       "      <th>17606</th>\n",
       "      <td>-121.89</td>\n",
       "      <td>37.29</td>\n",
       "      <td>38.0</td>\n",
       "      <td>1568.0</td>\n",
       "      <td>351.0</td>\n",
       "      <td>710.0</td>\n",
       "      <td>339.0</td>\n",
       "      <td>2.7042</td>\n",
       "      <td>&lt;1H OCEAN</td>\n",
       "    </tr>\n",
       "    <tr>\n",
       "      <th>18632</th>\n",
       "      <td>-121.93</td>\n",
       "      <td>37.05</td>\n",
       "      <td>14.0</td>\n",
       "      <td>679.0</td>\n",
       "      <td>108.0</td>\n",
       "      <td>306.0</td>\n",
       "      <td>113.0</td>\n",
       "      <td>6.4214</td>\n",
       "      <td>&lt;1H OCEAN</td>\n",
       "    </tr>\n",
       "    <tr>\n",
       "      <th>14650</th>\n",
       "      <td>-117.20</td>\n",
       "      <td>32.77</td>\n",
       "      <td>31.0</td>\n",
       "      <td>1952.0</td>\n",
       "      <td>471.0</td>\n",
       "      <td>936.0</td>\n",
       "      <td>462.0</td>\n",
       "      <td>2.8621</td>\n",
       "      <td>NEAR OCEAN</td>\n",
       "    </tr>\n",
       "    <tr>\n",
       "      <th>3230</th>\n",
       "      <td>-119.61</td>\n",
       "      <td>36.31</td>\n",
       "      <td>25.0</td>\n",
       "      <td>1847.0</td>\n",
       "      <td>371.0</td>\n",
       "      <td>1460.0</td>\n",
       "      <td>353.0</td>\n",
       "      <td>1.8839</td>\n",
       "      <td>INLAND</td>\n",
       "    </tr>\n",
       "    <tr>\n",
       "      <th>3555</th>\n",
       "      <td>-118.59</td>\n",
       "      <td>34.23</td>\n",
       "      <td>17.0</td>\n",
       "      <td>6592.0</td>\n",
       "      <td>1525.0</td>\n",
       "      <td>4459.0</td>\n",
       "      <td>1463.0</td>\n",
       "      <td>3.0347</td>\n",
       "      <td>&lt;1H OCEAN</td>\n",
       "    </tr>\n",
       "    <tr>\n",
       "      <th>...</th>\n",
       "      <td>...</td>\n",
       "      <td>...</td>\n",
       "      <td>...</td>\n",
       "      <td>...</td>\n",
       "      <td>...</td>\n",
       "      <td>...</td>\n",
       "      <td>...</td>\n",
       "      <td>...</td>\n",
       "      <td>...</td>\n",
       "    </tr>\n",
       "    <tr>\n",
       "      <th>6563</th>\n",
       "      <td>-118.13</td>\n",
       "      <td>34.20</td>\n",
       "      <td>46.0</td>\n",
       "      <td>1271.0</td>\n",
       "      <td>236.0</td>\n",
       "      <td>573.0</td>\n",
       "      <td>210.0</td>\n",
       "      <td>4.9312</td>\n",
       "      <td>INLAND</td>\n",
       "    </tr>\n",
       "    <tr>\n",
       "      <th>12053</th>\n",
       "      <td>-117.56</td>\n",
       "      <td>33.88</td>\n",
       "      <td>40.0</td>\n",
       "      <td>1196.0</td>\n",
       "      <td>294.0</td>\n",
       "      <td>1052.0</td>\n",
       "      <td>258.0</td>\n",
       "      <td>2.0682</td>\n",
       "      <td>INLAND</td>\n",
       "    </tr>\n",
       "    <tr>\n",
       "      <th>13908</th>\n",
       "      <td>-116.40</td>\n",
       "      <td>34.09</td>\n",
       "      <td>9.0</td>\n",
       "      <td>4855.0</td>\n",
       "      <td>872.0</td>\n",
       "      <td>2098.0</td>\n",
       "      <td>765.0</td>\n",
       "      <td>3.2723</td>\n",
       "      <td>INLAND</td>\n",
       "    </tr>\n",
       "    <tr>\n",
       "      <th>11159</th>\n",
       "      <td>-118.01</td>\n",
       "      <td>33.82</td>\n",
       "      <td>31.0</td>\n",
       "      <td>1960.0</td>\n",
       "      <td>380.0</td>\n",
       "      <td>1356.0</td>\n",
       "      <td>356.0</td>\n",
       "      <td>4.0625</td>\n",
       "      <td>&lt;1H OCEAN</td>\n",
       "    </tr>\n",
       "    <tr>\n",
       "      <th>15775</th>\n",
       "      <td>-122.45</td>\n",
       "      <td>37.77</td>\n",
       "      <td>52.0</td>\n",
       "      <td>3095.0</td>\n",
       "      <td>682.0</td>\n",
       "      <td>1269.0</td>\n",
       "      <td>639.0</td>\n",
       "      <td>3.5750</td>\n",
       "      <td>NEAR BAY</td>\n",
       "    </tr>\n",
       "  </tbody>\n",
       "</table>\n",
       "<p>16512 rows × 9 columns</p>\n",
       "</div>"
      ],
      "text/plain": [
       "       longitude  latitude  housing_median_age  total_rooms  total_bedrooms  \\\n",
       "17606    -121.89     37.29                38.0       1568.0           351.0   \n",
       "18632    -121.93     37.05                14.0        679.0           108.0   \n",
       "14650    -117.20     32.77                31.0       1952.0           471.0   \n",
       "3230     -119.61     36.31                25.0       1847.0           371.0   \n",
       "3555     -118.59     34.23                17.0       6592.0          1525.0   \n",
       "...          ...       ...                 ...          ...             ...   \n",
       "6563     -118.13     34.20                46.0       1271.0           236.0   \n",
       "12053    -117.56     33.88                40.0       1196.0           294.0   \n",
       "13908    -116.40     34.09                 9.0       4855.0           872.0   \n",
       "11159    -118.01     33.82                31.0       1960.0           380.0   \n",
       "15775    -122.45     37.77                52.0       3095.0           682.0   \n",
       "\n",
       "       population  households  median_income ocean_proximity  \n",
       "17606       710.0       339.0         2.7042       <1H OCEAN  \n",
       "18632       306.0       113.0         6.4214       <1H OCEAN  \n",
       "14650       936.0       462.0         2.8621      NEAR OCEAN  \n",
       "3230       1460.0       353.0         1.8839          INLAND  \n",
       "3555       4459.0      1463.0         3.0347       <1H OCEAN  \n",
       "...           ...         ...            ...             ...  \n",
       "6563        573.0       210.0         4.9312          INLAND  \n",
       "12053      1052.0       258.0         2.0682          INLAND  \n",
       "13908      2098.0       765.0         3.2723          INLAND  \n",
       "11159      1356.0       356.0         4.0625       <1H OCEAN  \n",
       "15775      1269.0       639.0         3.5750        NEAR BAY  \n",
       "\n",
       "[16512 rows x 9 columns]"
      ]
     },
     "execution_count": 16,
     "metadata": {},
     "output_type": "execute_result"
    }
   ],
   "source": [
    "from sklearn.model_selection import StratifiedShuffleSplit\n",
    "split = StratifiedShuffleSplit(n_splits=1, test_size=0.2, random_state=42)\n",
    "housing[\"income_cat\"] = pd.cut(housing[\"median_income\"],\n",
    "                               bins=[0., 1.5, 3.0, 4.5, 6., np.inf],\n",
    "                               labels=[1, 2, 3, 4, 5])\n",
    "for train_index, test_index in split.split(housing, housing[\"income_cat\"]):\n",
    "    strat_train_set = housing.loc[train_index]\n",
    "    strat_test_set = housing.loc[test_index]\n",
    "for set_ in (strat_train_set, strat_test_set):\n",
    "    set_.drop(\"income_cat\", axis=1, inplace=True)\n",
    "housing = strat_train_set.drop(\"median_house_value\", axis = 1)\n",
    "housing_labels = strat_train_set[\"median_house_value\"].copy()\n",
    "housing_num = housing.drop(\"ocean_proximity\", axis=1)\n",
    "housing"
   ]
  },
  {
   "cell_type": "code",
   "execution_count": 21,
   "metadata": {},
   "outputs": [],
   "source": [
    "from sklearn.base import BaseEstimator, TransformerMixin\n",
    "from sklearn.pipeline import Pipeline\n",
    "from sklearn.preprocessing import StandardScaler\n",
    "from sklearn.compose import ColumnTransformer\n",
    "from sklearn.preprocessing import OneHotEncoder\n",
    "from sklearn.impute import SimpleImputer\n",
    "\n",
    "rooms_ix, bedrooms_ix, population_ix, household_ix = 3, 4, 5 ,6\n",
    "\n",
    "class CombinedAttributesAdder(BaseEstimator, TransformerMixin):\n",
    "    def __init__(self, add_bedrooms_per_room = True):\n",
    "        self.add_bedrooms_per_room = add_bedrooms_per_room\n",
    "        \n",
    "    def fit(self, X, y=None):\n",
    "        return self\n",
    "    \n",
    "    def transform(self, X, y=None):\n",
    "        rooms_per_household = X[:, rooms_ix] / X[:, household_ix]\n",
    "        population_per_household = X[:, population_ix] / X[:, household_ix]\n",
    "        if self.add_bedrooms_per_room:\n",
    "            bedrooms_per_room = X[:,bedrooms_ix] / X[:, rooms_ix]\n",
    "            return np.c_[X, rooms_per_household, population_per_household, bedrooms_per_room]\n",
    "        else:\n",
    "            return np.c_[X, rooms_per_household, population_per_household]\n",
    "        \n",
    "num_pipeline = Pipeline([\n",
    "    ('imputer', SimpleImputer(strategy='median')),\n",
    "    ('attribs_adder', CombinedAttributesAdder()),\n",
    "    ('std_scaler', StandardScaler())\n",
    "])\n",
    "num_attribs = list(housing_num)\n",
    "cat_attribs = [\"ocean_proximity\"]\n",
    "\n",
    "full_pipeline = ColumnTransformer([\n",
    "        (\"num\", num_pipeline, num_attribs),\n",
    "        (\"cat\", OneHotEncoder(), cat_attribs),\n",
    "    ])\n",
    "housing_prepared = full_pipeline.fit_transform(housing)\n",
    "pd.DataFrame(housing_prepared)"
   ]
  },
  {
   "cell_type": "code",
   "execution_count": 28,
   "metadata": {},
   "outputs": [
    {
     "name": "stdout",
     "output_type": "stream",
     "text": [
      "81933.17308297305\n",
      "Scores: [82523.29389342 84112.2759816  86020.51768556 84028.00912106\n",
      " 86524.5916677 ]\n",
      "Mean: 84641.73766986448\n",
      "Standard deviation: 1455.4016595946698\n"
     ]
    }
   ],
   "source": [
    "from sklearn.svm import SVR\n",
    "from sklearn.metrics import mean_squared_error\n",
    "from sklearn.model_selection import cross_val_score\n",
    "def display_scores(scores):\n",
    "    print(\"Scores:\", scores)\n",
    "    print(\"Mean:\", scores.mean())\n",
    "    print(\"Standard deviation:\", scores.std())\n",
    "svr_reg = SVR(kernel=\"rbf\", C=10)\n",
    "# svr_reg = SVR(kernel=\"linear\", gamma=\"auto\",C=10)\n",
    "svr_reg.fit(housing_prepared, housing_labels)\n",
    "housing_predictions = svr_reg.predict(housing_prepared)\n",
    "svr_mse = mean_squared_error(housing_labels, housing_predictions)\n",
    "svr_rmse = np.sqrt(svr_mse)\n",
    "print(svr_rmse)\n",
    "scores = cross_val_score(svr_reg, housing_prepared, housing_labels,\n",
    "                       scoring= \"neg_mean_squared_error\", cv=5)\n",
    "svr_rmse_scores = np.sqrt(-scores)\n",
    "display_scores(svr_rmse_scores)"
   ]
  },
  {
   "cell_type": "code",
   "execution_count": 35,
   "metadata": {},
   "outputs": [
    {
     "data": {
      "text/plain": [
       "GridSearchCV(cv=5, error_score=nan,\n",
       "             estimator=SVR(C=1.0, cache_size=200, coef0=0.0, degree=3,\n",
       "                           epsilon=0.1, gamma='scale', kernel='rbf',\n",
       "                           max_iter=-1, shrinking=True, tol=0.001,\n",
       "                           verbose=False),\n",
       "             iid='deprecated', n_jobs=None,\n",
       "             param_grid=[{'C': [1, 2, 5, 10], 'kernel': ['linear']},\n",
       "                         {'C': [1, 2, 5, 10], 'gamma': ['scale', 'auto'],\n",
       "                          'kernel': ['rbf']}],\n",
       "             pre_dispatch='2*n_jobs', refit=True, return_train_score=True,\n",
       "             scoring='neg_mean_squared_error', verbose=0)"
      ]
     },
     "execution_count": 35,
     "metadata": {},
     "output_type": "execute_result"
    }
   ],
   "source": [
    "from sklearn.model_selection import GridSearchCV\n",
    "\n",
    "param_grid = [\n",
    "    {'kernel': [\"linear\"], 'C': [1, 2, 5, 10]},\n",
    "    {'kernel': [\"rbf\"], 'C': [1, 2, 5, 10], \"gamma\": [\"scale\", \"auto\"]},\n",
    "]\n",
    "svr_reg = SVR()\n",
    "grid_search = GridSearchCV(svr_reg, param_grid, cv=5, \n",
    "                           scoring='neg_mean_squared_error',\n",
    "                           return_train_score=True)\n",
    "grid_search.fit(housing_prepared, housing_labels)"
   ]
  },
  {
   "cell_type": "code",
   "execution_count": 36,
   "metadata": {},
   "outputs": [
    {
     "name": "stdout",
     "output_type": "stream",
     "text": [
      "{'C': 10, 'kernel': 'linear'}\n"
     ]
    },
    {
     "data": {
      "text/plain": [
       "84654.24944894915"
      ]
     },
     "execution_count": 36,
     "metadata": {},
     "output_type": "execute_result"
    }
   ],
   "source": [
    "print(grid_search.best_params_)\n",
    "negative_mse = grid_search.best_score_\n",
    "rmse = np.sqrt(-negative_mse)\n",
    "rmse"
   ]
  },
  {
   "cell_type": "code",
   "execution_count": 37,
   "metadata": {},
   "outputs": [],
   "source": [
    "# 2\n",
    "from sklearn.model_selection import RandomizedSearchCV\n",
    "from scipy.stats import expon, reciprocal\n",
    "\n",
    "# param_distribs = {\n",
    "#     {'kernel': [\"linear\"], 'C': randint(low=1, high=200)},\n",
    "#     {'kernel': [\"rbf\"], 'C': randint(low=1, high=200), \"gamma\": [\"scale\", \"auto\"]},\n",
    "# }\n",
    "param_distribs = {\n",
    "        'kernel': ['linear', 'rbf'],\n",
    "        'C': reciprocal(20, 200000),\n",
    "        'gamma': expon(scale=1.0),\n",
    "    }\n",
    "svr_reg = SVR()\n",
    "rnd_search = RandomizedSearchCV(svr_reg, param_distributions=param_distribs,\n",
    "                                n_iter=10, cv=5, scoring='neg_mean_squared_error', \n",
    "                                verbose=2, random_state=42)"
   ]
  },
  {
   "cell_type": "code",
   "execution_count": 38,
   "metadata": {
    "scrolled": true
   },
   "outputs": [
    {
     "name": "stdout",
     "output_type": "stream",
     "text": [
      "Fitting 5 folds for each of 10 candidates, totalling 50 fits\n",
      "[CV] C=629.782329591372, gamma=3.010121430917521, kernel=linear ......\n"
     ]
    },
    {
     "name": "stderr",
     "output_type": "stream",
     "text": [
      "[Parallel(n_jobs=1)]: Using backend SequentialBackend with 1 concurrent workers.\n"
     ]
    },
    {
     "name": "stdout",
     "output_type": "stream",
     "text": [
      "[CV]  C=629.782329591372, gamma=3.010121430917521, kernel=linear, total=   6.2s\n",
      "[CV] C=629.782329591372, gamma=3.010121430917521, kernel=linear ......\n"
     ]
    },
    {
     "name": "stderr",
     "output_type": "stream",
     "text": [
      "[Parallel(n_jobs=1)]: Done   1 out of   1 | elapsed:    6.1s remaining:    0.0s\n"
     ]
    },
    {
     "name": "stdout",
     "output_type": "stream",
     "text": [
      "[CV]  C=629.782329591372, gamma=3.010121430917521, kernel=linear, total=   6.2s\n",
      "[CV] C=629.782329591372, gamma=3.010121430917521, kernel=linear ......\n",
      "[CV]  C=629.782329591372, gamma=3.010121430917521, kernel=linear, total=   6.6s\n",
      "[CV] C=629.782329591372, gamma=3.010121430917521, kernel=linear ......\n",
      "[CV]  C=629.782329591372, gamma=3.010121430917521, kernel=linear, total=   6.3s\n",
      "[CV] C=629.782329591372, gamma=3.010121430917521, kernel=linear ......\n",
      "[CV]  C=629.782329591372, gamma=3.010121430917521, kernel=linear, total=   6.0s\n",
      "[CV] C=26290.206464300216, gamma=0.9084469696321253, kernel=rbf ......\n",
      "[CV]  C=26290.206464300216, gamma=0.9084469696321253, kernel=rbf, total=  12.2s\n",
      "[CV] C=26290.206464300216, gamma=0.9084469696321253, kernel=rbf ......\n",
      "[CV]  C=26290.206464300216, gamma=0.9084469696321253, kernel=rbf, total=  12.5s\n",
      "[CV] C=26290.206464300216, gamma=0.9084469696321253, kernel=rbf ......\n",
      "[CV]  C=26290.206464300216, gamma=0.9084469696321253, kernel=rbf, total=  12.6s\n",
      "[CV] C=26290.206464300216, gamma=0.9084469696321253, kernel=rbf ......\n",
      "[CV]  C=26290.206464300216, gamma=0.9084469696321253, kernel=rbf, total=  12.3s\n",
      "[CV] C=26290.206464300216, gamma=0.9084469696321253, kernel=rbf ......\n",
      "[CV]  C=26290.206464300216, gamma=0.9084469696321253, kernel=rbf, total=  14.2s\n",
      "[CV] C=84.14107900575871, gamma=0.059838768608680676, kernel=rbf .....\n",
      "[CV]  C=84.14107900575871, gamma=0.059838768608680676, kernel=rbf, total=  10.9s\n",
      "[CV] C=84.14107900575871, gamma=0.059838768608680676, kernel=rbf .....\n",
      "[CV]  C=84.14107900575871, gamma=0.059838768608680676, kernel=rbf, total=  10.1s\n",
      "[CV] C=84.14107900575871, gamma=0.059838768608680676, kernel=rbf .....\n",
      "[CV]  C=84.14107900575871, gamma=0.059838768608680676, kernel=rbf, total=  10.3s\n",
      "[CV] C=84.14107900575871, gamma=0.059838768608680676, kernel=rbf .....\n",
      "[CV]  C=84.14107900575871, gamma=0.059838768608680676, kernel=rbf, total=  10.4s\n",
      "[CV] C=84.14107900575871, gamma=0.059838768608680676, kernel=rbf .....\n",
      "[CV]  C=84.14107900575871, gamma=0.059838768608680676, kernel=rbf, total=  10.6s\n",
      "[CV] C=432.37884813148855, gamma=0.15416196746656105, kernel=linear ..\n",
      "[CV]  C=432.37884813148855, gamma=0.15416196746656105, kernel=linear, total=   6.7s\n",
      "[CV] C=432.37884813148855, gamma=0.15416196746656105, kernel=linear ..\n",
      "[CV]  C=432.37884813148855, gamma=0.15416196746656105, kernel=linear, total=   6.3s\n",
      "[CV] C=432.37884813148855, gamma=0.15416196746656105, kernel=linear ..\n",
      "[CV]  C=432.37884813148855, gamma=0.15416196746656105, kernel=linear, total=   6.2s\n",
      "[CV] C=432.37884813148855, gamma=0.15416196746656105, kernel=linear ..\n",
      "[CV]  C=432.37884813148855, gamma=0.15416196746656105, kernel=linear, total=   6.1s\n",
      "[CV] C=432.37884813148855, gamma=0.15416196746656105, kernel=linear ..\n",
      "[CV]  C=432.37884813148855, gamma=0.15416196746656105, kernel=linear, total=   6.0s\n",
      "[CV] C=24.17508294611391, gamma=3.503557475158312, kernel=rbf ........\n",
      "[CV]  C=24.17508294611391, gamma=3.503557475158312, kernel=rbf, total=  11.2s\n",
      "[CV] C=24.17508294611391, gamma=3.503557475158312, kernel=rbf ........\n",
      "[CV]  C=24.17508294611391, gamma=3.503557475158312, kernel=rbf, total=  11.1s\n",
      "[CV] C=24.17508294611391, gamma=3.503557475158312, kernel=rbf ........\n",
      "[CV]  C=24.17508294611391, gamma=3.503557475158312, kernel=rbf, total=  10.8s\n",
      "[CV] C=24.17508294611391, gamma=3.503557475158312, kernel=rbf ........\n",
      "[CV]  C=24.17508294611391, gamma=3.503557475158312, kernel=rbf, total=  11.5s\n",
      "[CV] C=24.17508294611391, gamma=3.503557475158312, kernel=rbf ........\n",
      "[CV]  C=24.17508294611391, gamma=3.503557475158312, kernel=rbf, total=  11.6s\n",
      "[CV] C=113564.03940586245, gamma=0.0007790692366582295, kernel=rbf ...\n",
      "[CV]  C=113564.03940586245, gamma=0.0007790692366582295, kernel=rbf, total=  10.0s\n",
      "[CV] C=113564.03940586245, gamma=0.0007790692366582295, kernel=rbf ...\n",
      "[CV]  C=113564.03940586245, gamma=0.0007790692366582295, kernel=rbf, total=   9.8s\n",
      "[CV] C=113564.03940586245, gamma=0.0007790692366582295, kernel=rbf ...\n",
      "[CV]  C=113564.03940586245, gamma=0.0007790692366582295, kernel=rbf, total=  10.4s\n",
      "[CV] C=113564.03940586245, gamma=0.0007790692366582295, kernel=rbf ...\n",
      "[CV]  C=113564.03940586245, gamma=0.0007790692366582295, kernel=rbf, total=  10.7s\n",
      "[CV] C=113564.03940586245, gamma=0.0007790692366582295, kernel=rbf ...\n",
      "[CV]  C=113564.03940586245, gamma=0.0007790692366582295, kernel=rbf, total=   9.8s\n",
      "[CV] C=108.30488238805073, gamma=0.3627537294604771, kernel=rbf ......\n",
      "[CV]  C=108.30488238805073, gamma=0.3627537294604771, kernel=rbf, total=   9.5s\n",
      "[CV] C=108.30488238805073, gamma=0.3627537294604771, kernel=rbf ......\n",
      "[CV]  C=108.30488238805073, gamma=0.3627537294604771, kernel=rbf, total=   9.6s\n",
      "[CV] C=108.30488238805073, gamma=0.3627537294604771, kernel=rbf ......\n",
      "[CV]  C=108.30488238805073, gamma=0.3627537294604771, kernel=rbf, total=   9.7s\n",
      "[CV] C=108.30488238805073, gamma=0.3627537294604771, kernel=rbf ......\n",
      "[CV]  C=108.30488238805073, gamma=0.3627537294604771, kernel=rbf, total=   9.6s\n",
      "[CV] C=108.30488238805073, gamma=0.3627537294604771, kernel=rbf ......\n",
      "[CV]  C=108.30488238805073, gamma=0.3627537294604771, kernel=rbf, total=   9.5s\n",
      "[CV] C=21.344953672647435, gamma=0.023332523598323388, kernel=linear .\n",
      "[CV]  C=21.344953672647435, gamma=0.023332523598323388, kernel=linear, total=   6.0s\n",
      "[CV] C=21.344953672647435, gamma=0.023332523598323388, kernel=linear .\n",
      "[CV]  C=21.344953672647435, gamma=0.023332523598323388, kernel=linear, total=   6.0s\n",
      "[CV] C=21.344953672647435, gamma=0.023332523598323388, kernel=linear .\n",
      "[CV]  C=21.344953672647435, gamma=0.023332523598323388, kernel=linear, total=   6.0s\n",
      "[CV] C=21.344953672647435, gamma=0.023332523598323388, kernel=linear .\n",
      "[CV]  C=21.344953672647435, gamma=0.023332523598323388, kernel=linear, total=   6.0s\n",
      "[CV] C=21.344953672647435, gamma=0.023332523598323388, kernel=linear .\n",
      "[CV]  C=21.344953672647435, gamma=0.023332523598323388, kernel=linear, total=   6.0s\n",
      "[CV] C=5603.270317432516, gamma=0.15023452872733867, kernel=rbf ......\n",
      "[CV]  C=5603.270317432516, gamma=0.15023452872733867, kernel=rbf, total=   9.2s\n",
      "[CV] C=5603.270317432516, gamma=0.15023452872733867, kernel=rbf ......\n",
      "[CV]  C=5603.270317432516, gamma=0.15023452872733867, kernel=rbf, total=   9.3s\n",
      "[CV] C=5603.270317432516, gamma=0.15023452872733867, kernel=rbf ......\n",
      "[CV]  C=5603.270317432516, gamma=0.15023452872733867, kernel=rbf, total=   9.2s\n",
      "[CV] C=5603.270317432516, gamma=0.15023452872733867, kernel=rbf ......\n",
      "[CV]  C=5603.270317432516, gamma=0.15023452872733867, kernel=rbf, total=   9.3s\n",
      "[CV] C=5603.270317432516, gamma=0.15023452872733867, kernel=rbf ......\n",
      "[CV]  C=5603.270317432516, gamma=0.15023452872733867, kernel=rbf, total=   9.3s\n",
      "[CV] C=157055.10989448498, gamma=0.26497040005002437, kernel=rbf .....\n",
      "[CV]  C=157055.10989448498, gamma=0.26497040005002437, kernel=rbf, total=  24.3s\n",
      "[CV] C=157055.10989448498, gamma=0.26497040005002437, kernel=rbf .....\n",
      "[CV]  C=157055.10989448498, gamma=0.26497040005002437, kernel=rbf, total=  25.7s\n",
      "[CV] C=157055.10989448498, gamma=0.26497040005002437, kernel=rbf .....\n",
      "[CV]  C=157055.10989448498, gamma=0.26497040005002437, kernel=rbf, total=  29.6s\n",
      "[CV] C=157055.10989448498, gamma=0.26497040005002437, kernel=rbf .....\n",
      "[CV]  C=157055.10989448498, gamma=0.26497040005002437, kernel=rbf, total=  23.8s\n",
      "[CV] C=157055.10989448498, gamma=0.26497040005002437, kernel=rbf .....\n",
      "[CV]  C=157055.10989448498, gamma=0.26497040005002437, kernel=rbf, total=  26.6s\n"
     ]
    },
    {
     "name": "stderr",
     "output_type": "stream",
     "text": [
      "[Parallel(n_jobs=1)]: Done  50 out of  50 | elapsed:  9.0min finished\n"
     ]
    },
    {
     "data": {
      "text/plain": [
       "RandomizedSearchCV(cv=5, error_score=nan,\n",
       "                   estimator=SVR(C=1.0, cache_size=200, coef0=0.0, degree=3,\n",
       "                                 epsilon=0.1, gamma='scale', kernel='rbf',\n",
       "                                 max_iter=-1, shrinking=True, tol=0.001,\n",
       "                                 verbose=False),\n",
       "                   iid='deprecated', n_iter=10, n_jobs=None,\n",
       "                   param_distributions={'C': <scipy.stats._distn_infrastructure.rv_frozen object at 0x000002ECFF0A0548>,\n",
       "                                        'gamma': <scipy.stats._distn_infrastructure.rv_frozen object at 0x000002ECFEE573C8>,\n",
       "                                        'kernel': ['linear', 'rbf']},\n",
       "                   pre_dispatch='2*n_jobs', random_state=42, refit=True,\n",
       "                   return_train_score=False, scoring='neg_mean_squared_error',\n",
       "                   verbose=2)"
      ]
     },
     "execution_count": 38,
     "metadata": {},
     "output_type": "execute_result"
    }
   ],
   "source": [
    "rnd_search.fit(housing_prepared, housing_labels)"
   ]
  },
  {
   "cell_type": "code",
   "execution_count": 39,
   "metadata": {},
   "outputs": [
    {
     "name": "stdout",
     "output_type": "stream",
     "text": [
      "{'C': 157055.10989448498, 'gamma': 0.26497040005002437, 'kernel': 'rbf'}\n"
     ]
    },
    {
     "data": {
      "text/plain": [
       "54767.960710084146"
      ]
     },
     "execution_count": 39,
     "metadata": {},
     "output_type": "execute_result"
    }
   ],
   "source": [
    "print(rnd_search.best_params_)\n",
    "negative_mse = rnd_search.best_score_\n",
    "rmse = np.sqrt(-negative_mse)\n",
    "rmse"
   ]
  },
  {
   "cell_type": "code",
   "execution_count": 53,
   "metadata": {},
   "outputs": [
    {
     "data": {
      "text/plain": [
       "array([7.33442355e-02, 6.29090705e-02, 4.11437985e-02, 1.46726854e-02,\n",
       "       1.41064835e-02, 1.48742809e-02, 1.42575993e-02, 3.66158981e-01,\n",
       "       5.64191792e-02, 1.08792957e-01, 5.33510773e-02, 1.03114883e-02,\n",
       "       1.64780994e-01, 6.02803867e-05, 1.96041560e-03, 2.85647464e-03])"
      ]
     },
     "execution_count": 53,
     "metadata": {},
     "output_type": "execute_result"
    }
   ],
   "source": [
    "# 3\n",
    "from sklearn.base import BaseEstimator, TransformerMixin\n",
    "# argpartition - just find put the position of k in the correct index in sorted way.\n",
    "# and divider whatever is smaller and bigger.\n",
    "\n",
    "# assumption - you already know feature_importance\n",
    "feature_importances = np.array([7.33442355e-02, 6.29090705e-02, 4.11437985e-02, 1.46726854e-02,\n",
    "       1.41064835e-02, 1.48742809e-02, 1.42575993e-02, 3.66158981e-01,\n",
    "       5.64191792e-02, 1.08792957e-01, 5.33510773e-02, 1.03114883e-02,\n",
    "       1.64780994e-01, 6.02803867e-05, 1.96041560e-03, 2.85647464e-03])\n",
    "\n",
    "def indices_of_top_k(arr, k):\n",
    "    return np.sort(np.argpartition(np.array(arr), -k)[-k:])\n",
    "\n",
    "class TopFeatureSelector(BaseEstimator, TransformerMixin):\n",
    "    def __init__(self, feature_importances, k):\n",
    "        self.feature_importances = feature_importances\n",
    "        self.k = k\n",
    "    def fit(self, X, y=None):\n",
    "        self.feature_indices_ = indices_of_top_k(self.feature_importances, self.k)\n",
    "        return self\n",
    "    def transform(self, X):\n",
    "        return X[:, self.feature_indices_]"
   ]
  },
  {
   "cell_type": "code",
   "execution_count": 51,
   "metadata": {},
   "outputs": [
    {
     "data": {
      "text/plain": [
       "array([4, 0, 1, 5, 3, 2], dtype=int64)"
      ]
     },
     "execution_count": 51,
     "metadata": {},
     "output_type": "execute_result"
    }
   ],
   "source": [
    "np.argpartition(np.array([103,102,107,105,101,104]), -2)"
   ]
  },
  {
   "cell_type": "code",
   "execution_count": 54,
   "metadata": {},
   "outputs": [
    {
     "data": {
      "text/plain": [
       "array([ 0,  1,  7,  9, 12], dtype=int64)"
      ]
     },
     "execution_count": 54,
     "metadata": {},
     "output_type": "execute_result"
    }
   ],
   "source": [
    "k = 5\n",
    "top_k_feature_indices = indices_of_top_k(feature_importances, k)\n",
    "top_k_feature_indices"
   ]
  },
  {
   "cell_type": "code",
   "execution_count": 57,
   "metadata": {
    "scrolled": true
   },
   "outputs": [
    {
     "data": {
      "text/plain": [
       "array(['longitude', 'latitude', 'median_income', 'pop_per_hhold',\n",
       "       'INLAND'], dtype='<U18')"
      ]
     },
     "execution_count": 57,
     "metadata": {},
     "output_type": "execute_result"
    }
   ],
   "source": [
    "extra_attribs = [\"rooms_per_hhold\", \"pop_per_hhold\", \"bedrooms_per_room\"]\n",
    "cat_encoder = full_pipeline.named_transformers_[\"cat\"]\n",
    "cat_one_hot_attribs = list(cat_encoder.categories_[0])\n",
    "attributes = num_attribs + extra_attribs + cat_one_hot_attribs\n",
    "np.array(attributes)[top_k_feature_indices]"
   ]
  },
  {
   "cell_type": "code",
   "execution_count": 58,
   "metadata": {},
   "outputs": [
    {
     "data": {
      "text/plain": [
       "[(0.366158981, 'median_income'),\n",
       " (0.164780994, 'INLAND'),\n",
       " (0.108792957, 'pop_per_hhold'),\n",
       " (0.0733442355, 'longitude'),\n",
       " (0.0629090705, 'latitude')]"
      ]
     },
     "execution_count": 58,
     "metadata": {},
     "output_type": "execute_result"
    }
   ],
   "source": [
    "sorted(zip(feature_importances, attributes), reverse=True)[:k]"
   ]
  },
  {
   "cell_type": "code",
   "execution_count": 59,
   "metadata": {},
   "outputs": [],
   "source": [
    "preparation_and_feature_selection_pipeline = Pipeline([\n",
    "    ('preparation', full_pipeline),\n",
    "    ('feature_selection', TopFeatureSelector(feature_importances, k))\n",
    "])\n",
    "housing_prepared_top_k_features = preparation_and_feature_selection_pipeline.fit_transform(housing)"
   ]
  },
  {
   "cell_type": "code",
   "execution_count": 60,
   "metadata": {},
   "outputs": [
    {
     "data": {
      "text/plain": [
       "array([[-1.15604281,  0.77194962, -0.61493744, -0.08649871,  0.        ],\n",
       "       [-1.17602483,  0.6596948 ,  1.33645936, -0.03353391,  0.        ],\n",
       "       [ 1.18684903, -1.34218285, -0.5320456 , -0.09240499,  0.        ]])"
      ]
     },
     "execution_count": 60,
     "metadata": {},
     "output_type": "execute_result"
    }
   ],
   "source": [
    "housing_prepared_top_k_features[0:3]"
   ]
  },
  {
   "cell_type": "code",
   "execution_count": 61,
   "metadata": {},
   "outputs": [
    {
     "data": {
      "text/plain": [
       "array([[-1.15604281,  0.77194962, -0.61493744, -0.08649871,  0.        ],\n",
       "       [-1.17602483,  0.6596948 ,  1.33645936, -0.03353391,  0.        ],\n",
       "       [ 1.18684903, -1.34218285, -0.5320456 , -0.09240499,  0.        ]])"
      ]
     },
     "execution_count": 61,
     "metadata": {},
     "output_type": "execute_result"
    }
   ],
   "source": [
    "housing_prepared[0:3, top_k_feature_indices]"
   ]
  },
  {
   "cell_type": "code",
   "execution_count": null,
   "metadata": {},
   "outputs": [],
   "source": [
    "#4\n",
    "class Predict(BaseEstimator, TransformerMixin):\n",
    "    def __init__(self, housing_labels):\n",
    "        self.housing_labels = housing_labels;\n",
    "        return;\n",
    "    def fit(self, X, y=None):\n",
    "        param_grid = [\n",
    "            {'kernel': [\"linear\"], 'C': [1, 2, 5, 10]},\n",
    "            {'kernel': [\"rbf\"], 'C': [1, 2, 5, 10], \"gamma\": [\"scale\", \"auto\"]},\n",
    "        ]\n",
    "        svr_reg = SVR()\n",
    "        grid_search = GridSearchCV(svr_reg, param_grid, cv=5, \n",
    "                           scoring='neg_mean_squared_error',\n",
    "                           return_train_score=True, verbose=2)\n",
    "        grid_search.fit(X, self.housing_labels)\n",
    "        return self\n",
    "    def transform(self, X):\n",
    "        return grid_search.predict(X)\n",
    "preparation_to_prediction_pipeline = Pipeline([\n",
    "    ('preparation', full_pipeline),\n",
    "    ('prediction', Predict(housing_labels))\n",
    "])\n",
    "preparation_to_prediction_pipeline.fit_transform(housing)"
   ]
  },
  {
   "cell_type": "code",
   "execution_count": null,
   "metadata": {},
   "outputs": [],
   "source": [
    "# Answer\n",
    "prepare_select_and_predict_pipeline = Pipeline([\n",
    "    ('preparation', full_pipeline),\n",
    "    ('feature_selection', TopFeatureSelector(feature_importances, k)),\n",
    "    ('svm_reg', SVR(**rnd_search.best_params_))\n",
    "])\n",
    "prepare_select_and_predict_pipeline.fit(housing, housing_labels)"
   ]
  },
  {
   "cell_type": "code",
   "execution_count": null,
   "metadata": {},
   "outputs": [],
   "source": [
    "some_data = housing.iloc[:4]\n",
    "some_labels = housing_labels.iloc[:4]\n",
    "\n",
    "print(\"Predictions:\\t\", prepare_select_and_predict_pipeline.predict(some_data))\n",
    "print(\"Labels:\\t\\t\", list(some_labels))"
   ]
  },
  {
   "cell_type": "code",
   "execution_count": null,
   "metadata": {},
   "outputs": [],
   "source": [
    "# 5"
   ]
  }
 ],
 "metadata": {
  "kernelspec": {
   "display_name": "Python 3",
   "language": "python",
   "name": "python3"
  },
  "language_info": {
   "codemirror_mode": {
    "name": "ipython",
    "version": 3
   },
   "file_extension": ".py",
   "mimetype": "text/x-python",
   "name": "python",
   "nbconvert_exporter": "python",
   "pygments_lexer": "ipython3",
   "version": "3.7.6"
  }
 },
 "nbformat": 4,
 "nbformat_minor": 4
}
