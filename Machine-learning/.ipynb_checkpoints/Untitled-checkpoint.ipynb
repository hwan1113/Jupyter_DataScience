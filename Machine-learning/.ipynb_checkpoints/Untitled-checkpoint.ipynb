{
 "cells": [
  {
   "cell_type": "code",
   "execution_count": 1,
   "metadata": {},
   "outputs": [],
   "source": [
    "category = [\"ant\",\n",
    "       \"bear\",\n",
    "       \"camel\",\n",
    "       \"cat\",\n",
    "       \"circle\",\n",
    "       \"cow\",\n",
    "       \"crocodile\",\n",
    "       \"dog\"\"elephant\", \n",
    "       \"face\",\n",
    "       \"fence\",\n",
    "       \"giraffe\",\n",
    "       \"grass\",\n",
    "       \"hedgehog\",\n",
    "       \"horse\",\n",
    "       \"monkey\", \n",
    "       \"pig\",\n",
    "       \"radio\", \n",
    "       \"rhinoceros\",\n",
    "       \"sheep\",\n",
    "       \"snake\",\n",
    "       \"square\",\n",
    "       \"squiggle\",\n",
    "       \"stereo\",\n",
    "       \"stove\",\n",
    "       \"suitcase\",\n",
    "       \"tiger\"]"
   ]
  },
  {
   "cell_type": "code",
   "execution_count": 2,
   "metadata": {},
   "outputs": [
    {
     "name": "stdout",
     "output_type": "stream",
     "text": [
      "https://storage.cloud.google.com/quickdraw_dataset/full/numpy_bitmap/ant.npy\n",
      "https://storage.cloud.google.com/quickdraw_dataset/full/numpy_bitmap/bear.npy\n",
      "https://storage.cloud.google.com/quickdraw_dataset/full/numpy_bitmap/camel.npy\n",
      "https://storage.cloud.google.com/quickdraw_dataset/full/numpy_bitmap/cat.npy\n",
      "https://storage.cloud.google.com/quickdraw_dataset/full/numpy_bitmap/circle.npy\n",
      "https://storage.cloud.google.com/quickdraw_dataset/full/numpy_bitmap/cow.npy\n",
      "https://storage.cloud.google.com/quickdraw_dataset/full/numpy_bitmap/crocodile.npy\n",
      "https://storage.cloud.google.com/quickdraw_dataset/full/numpy_bitmap/dogelephant.npy\n",
      "https://storage.cloud.google.com/quickdraw_dataset/full/numpy_bitmap/face.npy\n",
      "https://storage.cloud.google.com/quickdraw_dataset/full/numpy_bitmap/fence.npy\n",
      "https://storage.cloud.google.com/quickdraw_dataset/full/numpy_bitmap/giraffe.npy\n",
      "https://storage.cloud.google.com/quickdraw_dataset/full/numpy_bitmap/grass.npy\n",
      "https://storage.cloud.google.com/quickdraw_dataset/full/numpy_bitmap/hedgehog.npy\n",
      "https://storage.cloud.google.com/quickdraw_dataset/full/numpy_bitmap/horse.npy\n",
      "https://storage.cloud.google.com/quickdraw_dataset/full/numpy_bitmap/monkey.npy\n",
      "https://storage.cloud.google.com/quickdraw_dataset/full/numpy_bitmap/pig.npy\n",
      "https://storage.cloud.google.com/quickdraw_dataset/full/numpy_bitmap/radio.npy\n",
      "https://storage.cloud.google.com/quickdraw_dataset/full/numpy_bitmap/rhinoceros.npy\n",
      "https://storage.cloud.google.com/quickdraw_dataset/full/numpy_bitmap/sheep.npy\n",
      "https://storage.cloud.google.com/quickdraw_dataset/full/numpy_bitmap/snake.npy\n",
      "https://storage.cloud.google.com/quickdraw_dataset/full/numpy_bitmap/square.npy\n",
      "https://storage.cloud.google.com/quickdraw_dataset/full/numpy_bitmap/squiggle.npy\n",
      "https://storage.cloud.google.com/quickdraw_dataset/full/numpy_bitmap/stereo.npy\n",
      "https://storage.cloud.google.com/quickdraw_dataset/full/numpy_bitmap/stove.npy\n",
      "https://storage.cloud.google.com/quickdraw_dataset/full/numpy_bitmap/suitcase.npy\n",
      "https://storage.cloud.google.com/quickdraw_dataset/full/numpy_bitmap/tiger.npy\n"
     ]
    }
   ],
   "source": [
    "import os\n",
    "import tarfile\n",
    "import urllib\n",
    "\n",
    "DOWNLOAD_ROOT = \"https://storage.cloud.google.com/quickdraw_dataset/full/numpy_bitmap/\"\n",
    "DRAWING_PATH = os.path.join(\"datasets\", \"drawings\")\n",
    "DRAWING_URL = DOWNLOAD_ROOT + \"datasets/drawings/\"\n",
    "\n",
    "def fetch_drawing_data(drawing_url=DRAWING_URL, drawing_path=DRAWING_PATH):\n",
    "    os.makedirs(drawing_path, exist_ok=True)\n",
    "    for c in category:\n",
    "        filename = c + \".npy\"\n",
    "        filepath = os.path.join(drawing_path, filename)\n",
    "        downloading_file = DOWNLOAD_ROOT + filename\n",
    "        if not os.path.exists(filepath):\n",
    "            print(downloading_file)\n",
    "            urllib.request.urlretrieve(downloading_file, filepath)\n",
    "fetch_drawing_data();"
   ]
  }
 ],
 "metadata": {
  "kernelspec": {
   "display_name": "Python 3",
   "language": "python",
   "name": "python3"
  },
  "language_info": {
   "codemirror_mode": {
    "name": "ipython",
    "version": 3
   },
   "file_extension": ".py",
   "mimetype": "text/x-python",
   "name": "python",
   "nbconvert_exporter": "python",
   "pygments_lexer": "ipython3",
   "version": "3.7.6"
  }
 },
 "nbformat": 4,
 "nbformat_minor": 4
}
