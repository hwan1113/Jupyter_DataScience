{
 "cells": [
  {
   "cell_type": "code",
   "execution_count": 1,
   "metadata": {},
   "outputs": [],
   "source": [
    "# Python ≥3.5 is required\n",
    "import sys\n",
    "assert sys.version_info >= (3, 5)\n",
    "\n",
    "# Scikit-Learn ≥0.20 is required\n",
    "import sklearn\n",
    "assert sklearn.__version__ >= \"0.20\"\n",
    "\n",
    "try:\n",
    "    # %tensorflow_version only exists in Colab.\n",
    "    %tensorflow_version 2.x\n",
    "    !pip install -q -U tfx==0.21.2\n",
    "    print(\"You can safely ignore the package incompatibility errors.\")\n",
    "except Exception:\n",
    "    pass\n",
    "\n",
    "# TensorFlow ≥2.0 is required\n",
    "import tensorflow as tf\n",
    "from tensorflow import keras\n",
    "assert tf.__version__ >= \"2.0\"\n",
    "\n",
    "# Common imports\n",
    "import numpy as np\n",
    "import os\n",
    "\n",
    "# to make this notebook's output stable across runs\n",
    "np.random.seed(42)\n",
    "\n",
    "# To plot pretty figures\n",
    "%matplotlib inline\n",
    "import matplotlib as mpl\n",
    "import matplotlib.pyplot as plt\n",
    "mpl.rc('axes', labelsize=14)\n",
    "mpl.rc('xtick', labelsize=12)\n",
    "mpl.rc('ytick', labelsize=12)\n",
    "\n",
    "# Where to save the figures\n",
    "PROJECT_ROOT_DIR = \".\"\n",
    "CHAPTER_ID = \"data\"\n",
    "IMAGES_PATH = os.path.join(PROJECT_ROOT_DIR, \"images\", CHAPTER_ID)"
   ]
  },
  {
   "cell_type": "code",
   "execution_count": 18,
   "metadata": {},
   "outputs": [
    {
     "data": {
      "text/plain": [
       "<TensorSliceDataset shapes: (), types: tf.int32>"
      ]
     },
     "execution_count": 18,
     "metadata": {},
     "output_type": "execute_result"
    }
   ],
   "source": [
    "X = tf.range(10)\n",
    "dataset = tf.data.Dataset.from_tensor_slices(X)\n",
    "dataset"
   ]
  },
  {
   "cell_type": "code",
   "execution_count": 9,
   "metadata": {},
   "outputs": [
    {
     "name": "stdout",
     "output_type": "stream",
     "text": [
      "tf.Tensor(0, shape=(), dtype=int32)\n",
      "tf.Tensor(1, shape=(), dtype=int32)\n",
      "tf.Tensor(2, shape=(), dtype=int32)\n",
      "tf.Tensor(3, shape=(), dtype=int32)\n",
      "tf.Tensor(4, shape=(), dtype=int32)\n",
      "tf.Tensor(5, shape=(), dtype=int32)\n",
      "tf.Tensor(6, shape=(), dtype=int32)\n",
      "tf.Tensor(7, shape=(), dtype=int32)\n",
      "tf.Tensor(8, shape=(), dtype=int32)\n",
      "tf.Tensor(9, shape=(), dtype=int32)\n"
     ]
    }
   ],
   "source": [
    "for item in dataset:\n",
    "    print(item)"
   ]
  },
  {
   "cell_type": "code",
   "execution_count": 10,
   "metadata": {},
   "outputs": [
    {
     "name": "stdout",
     "output_type": "stream",
     "text": [
      "tf.Tensor([0 1 2 3 4 5 6], shape=(7,), dtype=int32)\n",
      "tf.Tensor([7 8 9 0 1 2 3], shape=(7,), dtype=int32)\n",
      "tf.Tensor([4 5 6 7 8 9 0], shape=(7,), dtype=int32)\n",
      "tf.Tensor([1 2 3 4 5 6 7], shape=(7,), dtype=int32)\n",
      "tf.Tensor([8 9], shape=(2,), dtype=int32)\n"
     ]
    }
   ],
   "source": [
    "dataset = dataset.repeat(3).batch(7)\n",
    "for item in dataset:\n",
    "    print(item)"
   ]
  },
  {
   "cell_type": "code",
   "execution_count": 20,
   "metadata": {},
   "outputs": [
    {
     "data": {
      "text/plain": [
       "<MapDataset shapes: (), types: tf.int32>"
      ]
     },
     "execution_count": 20,
     "metadata": {},
     "output_type": "execute_result"
    }
   ],
   "source": [
    "dataset = dataset.map(lambda x: x *2)\n",
    "dataset"
   ]
  },
  {
   "cell_type": "code",
   "execution_count": 21,
   "metadata": {},
   "outputs": [
    {
     "name": "stdout",
     "output_type": "stream",
     "text": [
      "tf.Tensor(0, shape=(), dtype=int32)\n",
      "tf.Tensor(2, shape=(), dtype=int32)\n",
      "tf.Tensor(4, shape=(), dtype=int32)\n",
      "tf.Tensor(6, shape=(), dtype=int32)\n",
      "tf.Tensor(8, shape=(), dtype=int32)\n",
      "tf.Tensor(10, shape=(), dtype=int32)\n",
      "tf.Tensor(12, shape=(), dtype=int32)\n",
      "tf.Tensor(14, shape=(), dtype=int32)\n",
      "tf.Tensor(16, shape=(), dtype=int32)\n",
      "tf.Tensor(18, shape=(), dtype=int32)\n"
     ]
    }
   ],
   "source": [
    "for item in dataset:\n",
    "    print(item)"
   ]
  },
  {
   "cell_type": "code",
   "execution_count": 24,
   "metadata": {},
   "outputs": [
    {
     "ename": "TypeError",
     "evalue": "unbatch() missing 1 required positional argument: 'self'",
     "output_type": "error",
     "traceback": [
      "\u001b[1;31m---------------------------------------------------------------------------\u001b[0m",
      "\u001b[1;31mTypeError\u001b[0m                                 Traceback (most recent call last)",
      "\u001b[1;32m<ipython-input-24-f8e3417a84fc>\u001b[0m in \u001b[0;36m<module>\u001b[1;34m\u001b[0m\n\u001b[1;32m----> 1\u001b[1;33m \u001b[0mdataset\u001b[0m \u001b[1;33m=\u001b[0m \u001b[0mdataset\u001b[0m\u001b[1;33m.\u001b[0m\u001b[0mapply\u001b[0m\u001b[1;33m(\u001b[0m\u001b[0mtf\u001b[0m\u001b[1;33m.\u001b[0m\u001b[0mdata\u001b[0m\u001b[1;33m.\u001b[0m\u001b[0mDataset\u001b[0m\u001b[1;33m.\u001b[0m\u001b[0munbatch\u001b[0m\u001b[1;33m(\u001b[0m\u001b[1;33m)\u001b[0m\u001b[1;33m)\u001b[0m\u001b[1;33m\u001b[0m\u001b[1;33m\u001b[0m\u001b[0m\n\u001b[0m\u001b[0;32m      2\u001b[0m \u001b[0mdataset\u001b[0m\u001b[1;33m\u001b[0m\u001b[1;33m\u001b[0m\u001b[0m\n",
      "\u001b[1;31mTypeError\u001b[0m: unbatch() missing 1 required positional argument: 'self'"
     ]
    }
   ],
   "source": [
    "dataset = dataset.apply(tf.data.Dataset.unbatch())\n",
    "dataset"
   ]
  },
  {
   "cell_type": "code",
   "execution_count": 25,
   "metadata": {},
   "outputs": [],
   "source": [
    "dataset = dataset.filter(lambda x: x < 10)\n"
   ]
  },
  {
   "cell_type": "code",
   "execution_count": 31,
   "metadata": {},
   "outputs": [
    {
     "name": "stdout",
     "output_type": "stream",
     "text": [
      "tf.Tensor(0, shape=(), dtype=int32)\n",
      "tf.Tensor(2, shape=(), dtype=int32)\n",
      "tf.Tensor(4, shape=(), dtype=int32)\n"
     ]
    }
   ],
   "source": [
    "for item in dataset.take(3):\n",
    "    print(item)"
   ]
  },
  {
   "cell_type": "code",
   "execution_count": 32,
   "metadata": {},
   "outputs": [
    {
     "name": "stdout",
     "output_type": "stream",
     "text": [
      "tf.Tensor([0 2 3 6 7 9 4], shape=(7,), dtype=int64)\n",
      "tf.Tensor([5 0 1 1 8 6 5], shape=(7,), dtype=int64)\n",
      "tf.Tensor([4 8 7 1 2 3 0], shape=(7,), dtype=int64)\n",
      "tf.Tensor([5 4 2 7 8 9 9], shape=(7,), dtype=int64)\n",
      "tf.Tensor([3 6], shape=(2,), dtype=int64)\n"
     ]
    }
   ],
   "source": [
    "dataset = tf.data.Dataset.range(10).repeat(3)\n",
    "dataset = dataset.shuffle(buffer_size=5, seed=42).batch(7)\n",
    "for item in dataset:\n",
    "    print(item)"
   ]
  },
  {
   "cell_type": "code",
   "execution_count": 33,
   "metadata": {},
   "outputs": [
    {
     "name": "stdout",
     "output_type": "stream",
     "text": [
      "tf.Tensor([3 5 2 1 8 4 0], shape=(7,), dtype=int64)\n",
      "tf.Tensor([1 2 3 7 9 5 0], shape=(7,), dtype=int64)\n",
      "tf.Tensor([7 4 0 9 6 8 1], shape=(7,), dtype=int64)\n",
      "tf.Tensor([2 6 6 4 9 8 5], shape=(7,), dtype=int64)\n",
      "tf.Tensor([7 3], shape=(2,), dtype=int64)\n",
      "tf.Tensor([2 1 3 5 8 9 4], shape=(7,), dtype=int64)\n",
      "tf.Tensor([1 0 7 3 5 6 7], shape=(7,), dtype=int64)\n",
      "tf.Tensor([2 4 9 1 0 3 6], shape=(7,), dtype=int64)\n",
      "tf.Tensor([0 4 7 5 2 8 6], shape=(7,), dtype=int64)\n",
      "tf.Tensor([9 8], shape=(2,), dtype=int64)\n"
     ]
    }
   ],
   "source": [
    "dataset = dataset.repeat(2)\n",
    "for item in dataset:\n",
    "    print(item)"
   ]
  },
  {
   "cell_type": "code",
   "execution_count": 36,
   "metadata": {},
   "outputs": [],
   "source": [
    "from sklearn.datasets import fetch_california_housing\n",
    "from sklearn.model_selection import train_test_split\n",
    "from sklearn.preprocessing import StandardScaler\n",
    "\n",
    "housing = fetch_california_housing()\n",
    "X_train_full, X_test, y_train_full, y_test = train_test_split(\n",
    "    housing.data, housing.target.reshape(-1, 1), random_state=42)\n",
    "X_train, X_valid, y_train, y_valid = train_test_split(\n",
    "    X_train_full, y_train_full, random_state=42)\n",
    "\n",
    "scaler = StandardScaler()\n",
    "scaler.fit(X_train)\n",
    "X_mean = scaler.mean_\n",
    "X_std = scaler.scale_"
   ]
  },
  {
   "cell_type": "code",
   "execution_count": 35,
   "metadata": {},
   "outputs": [],
   "source": [
    "def save_to_multiple_csv_files(data, name_prefix, header=None, n_parts=10):\n",
    "    housing_dir = os.path.join(\"datasets\", \"housing\")\n",
    "    os.makedirs(housing_dir, exist_ok=True)\n",
    "    path_format = os.path.join(housing_dir, \"my_{}_{:02d}.csv\")\n",
    "\n",
    "    filepaths = []\n",
    "    m = len(data)\n",
    "    for file_idx, row_indices in enumerate(np.array_split(np.arange(m), n_parts)):\n",
    "        part_csv = path_format.format(name_prefix, file_idx)\n",
    "        filepaths.append(part_csv)\n",
    "        with open(part_csv, \"wt\", encoding=\"utf-8\") as f:\n",
    "            if header is not None:\n",
    "                f.write(header)\n",
    "                f.write(\"\\n\")\n",
    "            for row_idx in row_indices:\n",
    "                f.write(\",\".join([repr(col) for col in data[row_idx]]))\n",
    "                f.write(\"\\n\")\n",
    "    return filepaths"
   ]
  },
  {
   "cell_type": "code",
   "execution_count": 37,
   "metadata": {},
   "outputs": [],
   "source": [
    "train_data = np.c_[X_train, y_train]\n",
    "valid_data = np.c_[X_valid, y_valid]\n",
    "test_data = np.c_[X_test, y_test]\n",
    "header_cols = housing.feature_names + [\"MedianHouseValue\"]\n",
    "header = \",\".join(header_cols)\n",
    "\n",
    "train_filepaths = save_to_multiple_csv_files(train_data, \"train\", header, n_parts=20)\n",
    "valid_filepaths = save_to_multiple_csv_files(valid_data, \"valid\", header, n_parts=10)\n",
    "test_filepaths = save_to_multiple_csv_files(test_data, \"test\", header, n_parts=10)"
   ]
  },
  {
   "cell_type": "code",
   "execution_count": 38,
   "metadata": {},
   "outputs": [],
   "source": [
    "filepath_dataset = tf.data.Dataset.list_files(train_filepaths, seed=42)"
   ]
  },
  {
   "cell_type": "code",
   "execution_count": 40,
   "metadata": {},
   "outputs": [
    {
     "data": {
      "text/plain": [
       "['datasets\\\\housing\\\\my_train_00.csv',\n",
       " 'datasets\\\\housing\\\\my_train_01.csv',\n",
       " 'datasets\\\\housing\\\\my_train_02.csv',\n",
       " 'datasets\\\\housing\\\\my_train_03.csv',\n",
       " 'datasets\\\\housing\\\\my_train_04.csv',\n",
       " 'datasets\\\\housing\\\\my_train_05.csv',\n",
       " 'datasets\\\\housing\\\\my_train_06.csv',\n",
       " 'datasets\\\\housing\\\\my_train_07.csv',\n",
       " 'datasets\\\\housing\\\\my_train_08.csv',\n",
       " 'datasets\\\\housing\\\\my_train_09.csv',\n",
       " 'datasets\\\\housing\\\\my_train_10.csv',\n",
       " 'datasets\\\\housing\\\\my_train_11.csv',\n",
       " 'datasets\\\\housing\\\\my_train_12.csv',\n",
       " 'datasets\\\\housing\\\\my_train_13.csv',\n",
       " 'datasets\\\\housing\\\\my_train_14.csv',\n",
       " 'datasets\\\\housing\\\\my_train_15.csv',\n",
       " 'datasets\\\\housing\\\\my_train_16.csv',\n",
       " 'datasets\\\\housing\\\\my_train_17.csv',\n",
       " 'datasets\\\\housing\\\\my_train_18.csv',\n",
       " 'datasets\\\\housing\\\\my_train_19.csv']"
      ]
     },
     "execution_count": 40,
     "metadata": {},
     "output_type": "execute_result"
    }
   ],
   "source": [
    "train_filepaths"
   ]
  },
  {
   "cell_type": "code",
   "execution_count": 41,
   "metadata": {},
   "outputs": [],
   "source": [
    "n_readers = 5\n",
    "# five files\n",
    "dataset = filepath_dataset.interleave(\n",
    "    lambda filepath: tf.data.TextLineDataset(filepath).skip(1),\n",
    "    cycle_length=n_readers\n",
    ")\n",
    "# testLineDataset represent one file"
   ]
  },
  {
   "cell_type": "code",
   "execution_count": 44,
   "metadata": {},
   "outputs": [
    {
     "name": "stdout",
     "output_type": "stream",
     "text": [
      "b'2.1856,41.0,3.7189873417721517,1.0658227848101265,803.0,2.0329113924050635,32.76,-117.12,1.205'\n",
      "b'4.2708,45.0,5.121387283236994,0.953757225433526,492.0,2.8439306358381504,37.48,-122.19,2.67'\n",
      "b'3.8456,35.0,5.461346633416459,0.9576059850374065,1154.0,2.8778054862842892,37.96,-122.05,1.598'\n",
      "b'3.0217,22.0,4.983870967741935,1.1008064516129032,615.0,2.4798387096774195,38.76,-120.6,1.069'\n",
      "b'4.2083,44.0,5.323204419889502,0.9171270718232044,846.0,2.3370165745856353,37.47,-122.2,2.782'\n"
     ]
    }
   ],
   "source": [
    "# These are the first rows (ignoring the header row) of five CSV files,\n",
    "# chosen randomly\n",
    "for line in dataset.take(5):\n",
    "    print(line.numpy())"
   ]
  },
  {
   "cell_type": "code",
   "execution_count": 47,
   "metadata": {},
   "outputs": [],
   "source": [
    "n_inputs = 8"
   ]
  },
  {
   "cell_type": "code",
   "execution_count": 46,
   "metadata": {},
   "outputs": [],
   "source": [
    "def preprocess(line):\n",
    "    defs = [0.] * n_inputs + [tf.constant([], dtype=tf.float32)]\n",
    "# 8 features are 0 and add target column's value. it's type is float\n",
    "# but add [] empty array as a default so this will raise exception when\n",
    "# the target value is missing.\n",
    "    fields = tf.io.decode_csv(line, record_defaults=defs)\n",
    "    x = tf.stack(fields[:-1])\n",
    "    y = tf.stack(fields[-1:])\n",
    "    return (x - X_mean) / X_std, y"
   ]
  },
  {
   "cell_type": "code",
   "execution_count": 48,
   "metadata": {},
   "outputs": [
    {
     "data": {
      "text/plain": [
       "(<tf.Tensor: id=394, shape=(8,), dtype=float32, numpy=\n",
       " array([ 0.16579159,  1.216324  , -0.05204564, -0.39215982, -0.5277444 ,\n",
       "        -0.2633488 ,  0.8543046 , -1.3072058 ], dtype=float32)>,\n",
       " <tf.Tensor: id=390, shape=(1,), dtype=float32, numpy=array([2.782], dtype=float32)>)"
      ]
     },
     "execution_count": 48,
     "metadata": {},
     "output_type": "execute_result"
    }
   ],
   "source": [
    "preprocess(b'4.2083,44.0,5.3232,0.9171,846.0,2.3370,37.47,-122.2,2.782')"
   ]
  },
  {
   "cell_type": "code",
   "execution_count": 54,
   "metadata": {},
   "outputs": [],
   "source": [
    "def csv_reader_dataset(filepaths, repeat=1, n_readers=5,\n",
    "                      n_read_threads=None, shuffle_buffer_size=10000,\n",
    "                      n_parse_threads=5, batch_size=32):\n",
    "    dataset = tf.data.Dataset.list_files(filepaths)\n",
    "    dataset = dataset.interleave(\n",
    "        lambda filepath: tf.data.TextLineDataset(filepath).skip(1),\n",
    "        cycle_length=n_readers, num_parallel_calls=n_read_threads\n",
    "    )\n",
    "    dataset = dataset.map(preprocess, num_parallel_calls=n_parse_threads)\n",
    "    dataset = dataset.shuffle(shuffle_buffer_size).repeat(repeat)\n",
    "    return dataset.batch(batch_size).prefetch(1)"
   ]
  },
  {
   "cell_type": "code",
   "execution_count": 55,
   "metadata": {},
   "outputs": [],
   "source": [
    "train_set = csv_reader_dataset(train_filepaths)\n",
    "valid_set = csv_reader_dataset(valid_filepaths)\n",
    "test_set = csv_reader_dataset(test_filepaths)"
   ]
  },
  {
   "cell_type": "code",
   "execution_count": 56,
   "metadata": {},
   "outputs": [],
   "source": [
    "keras.backend.clear_session()\n",
    "np.random.seed(42)\n",
    "tf.random.set_seed(42)\n",
    "\n",
    "model = keras.models.Sequential([\n",
    "    keras.layers.Dense(30, activation=\"relu\", input_shape=X_train.shape[1:]),\n",
    "    keras.layers.Dense(1),\n",
    "])"
   ]
  },
  {
   "cell_type": "code",
   "execution_count": 57,
   "metadata": {},
   "outputs": [],
   "source": [
    "model.compile(loss=\"mse\", optimizer=keras.optimizers.SGD(lr=1e-3))"
   ]
  },
  {
   "cell_type": "code",
   "execution_count": 58,
   "metadata": {},
   "outputs": [
    {
     "name": "stdout",
     "output_type": "stream",
     "text": [
      "Epoch 1/10\n",
      "363/363 [==============================] - 4s 11ms/step - loss: 1.6442 - val_loss: 0.0000e+00\n",
      "Epoch 2/10\n",
      "363/363 [==============================] - 1s 3ms/step - loss: 0.7224 - val_loss: 0.6541\n",
      "Epoch 3/10\n",
      "363/363 [==============================] - 1s 3ms/step - loss: 0.6327 - val_loss: 0.5989\n",
      "Epoch 4/10\n",
      "363/363 [==============================] - 1s 3ms/step - loss: 0.5993 - val_loss: 0.5737\n",
      "Epoch 5/10\n",
      "363/363 [==============================] - 1s 3ms/step - loss: 0.5683 - val_loss: 0.5344\n",
      "Epoch 6/10\n",
      "363/363 [==============================] - 1s 3ms/step - loss: 0.5507 - val_loss: 0.5127\n",
      "Epoch 7/10\n",
      "363/363 [==============================] - 1s 3ms/step - loss: 0.5287 - val_loss: 0.4950\n",
      "Epoch 8/10\n",
      "363/363 [==============================] - 1s 3ms/step - loss: 0.5149 - val_loss: 0.4793\n",
      "Epoch 9/10\n",
      "363/363 [==============================] - 1s 3ms/step - loss: 0.4974 - val_loss: 0.4691\n",
      "Epoch 10/10\n",
      "363/363 [==============================] - 1s 3ms/step - loss: 0.4886 - val_loss: 0.4657\n"
     ]
    },
    {
     "data": {
      "text/plain": [
       "<tensorflow.python.keras.callbacks.History at 0x1d9576b2708>"
      ]
     },
     "execution_count": 58,
     "metadata": {},
     "output_type": "execute_result"
    }
   ],
   "source": [
    "model.fit(train_set, epochs=10, validation_data=valid_set)"
   ]
  },
  {
   "cell_type": "code",
   "execution_count": 59,
   "metadata": {},
   "outputs": [
    {
     "name": "stdout",
     "output_type": "stream",
     "text": [
      "162/162 [==============================] - 1s 5ms/step - loss: 0.4752\n"
     ]
    },
    {
     "data": {
      "text/plain": [
       "0.47523699001765546"
      ]
     },
     "execution_count": 59,
     "metadata": {},
     "output_type": "execute_result"
    }
   ],
   "source": [
    "model.evaluate(test_set)"
   ]
  },
  {
   "cell_type": "code",
   "execution_count": 60,
   "metadata": {},
   "outputs": [
    {
     "data": {
      "text/plain": [
       "array([[1.8386662 ],\n",
       "       [6.143565  ],\n",
       "       [2.567878  ],\n",
       "       [2.402985  ],\n",
       "       [3.4025168 ],\n",
       "       [2.9983978 ],\n",
       "       [2.2575357 ],\n",
       "       [1.9748042 ],\n",
       "       [1.6136684 ],\n",
       "       [2.486779  ],\n",
       "       [1.5879711 ],\n",
       "       [1.2807317 ],\n",
       "       [2.383127  ],\n",
       "       [1.7314672 ],\n",
       "       [1.7048581 ],\n",
       "       [2.2575994 ],\n",
       "       [1.5767802 ],\n",
       "       [1.7274926 ],\n",
       "       [2.2455769 ],\n",
       "       [2.0362818 ],\n",
       "       [1.2295339 ],\n",
       "       [2.39773   ],\n",
       "       [1.0965221 ],\n",
       "       [1.5630789 ],\n",
       "       [2.2400577 ],\n",
       "       [1.9451852 ],\n",
       "       [1.494256  ],\n",
       "       [0.94568574],\n",
       "       [2.1349065 ],\n",
       "       [1.187289  ],\n",
       "       [0.7869146 ],\n",
       "       [2.200666  ],\n",
       "       [1.9776423 ],\n",
       "       [1.8899345 ],\n",
       "       [2.7460988 ],\n",
       "       [2.645436  ],\n",
       "       [1.1945031 ],\n",
       "       [0.9016325 ],\n",
       "       [1.7276757 ],\n",
       "       [2.8179545 ],\n",
       "       [2.360052  ],\n",
       "       [2.1828446 ],\n",
       "       [0.77150655],\n",
       "       [1.878555  ],\n",
       "       [1.5641625 ],\n",
       "       [2.3188696 ],\n",
       "       [3.0084388 ],\n",
       "       [1.5347239 ],\n",
       "       [1.616411  ],\n",
       "       [1.5332675 ],\n",
       "       [2.4696794 ],\n",
       "       [2.3612788 ],\n",
       "       [2.3092937 ],\n",
       "       [2.0224102 ],\n",
       "       [3.100243  ],\n",
       "       [2.193217  ],\n",
       "       [3.2811565 ],\n",
       "       [2.2708724 ],\n",
       "       [2.1885836 ],\n",
       "       [2.4142797 ],\n",
       "       [1.0883251 ],\n",
       "       [2.0634844 ],\n",
       "       [1.9534211 ],\n",
       "       [3.2182705 ],\n",
       "       [2.0246375 ],\n",
       "       [1.1107991 ],\n",
       "       [2.435381  ],\n",
       "       [1.1611438 ],\n",
       "       [1.1687987 ],\n",
       "       [0.900712  ],\n",
       "       [3.6493547 ],\n",
       "       [2.1387062 ],\n",
       "       [3.9497998 ],\n",
       "       [2.1130009 ],\n",
       "       [2.226538  ],\n",
       "       [1.9395139 ],\n",
       "       [1.249611  ],\n",
       "       [1.9417064 ],\n",
       "       [1.8155549 ],\n",
       "       [2.6423514 ],\n",
       "       [1.8129354 ],\n",
       "       [1.3545567 ],\n",
       "       [5.290557  ],\n",
       "       [1.5510099 ],\n",
       "       [2.0030608 ],\n",
       "       [1.8464034 ],\n",
       "       [5.5826516 ],\n",
       "       [1.712193  ],\n",
       "       [0.91742396],\n",
       "       [1.3596513 ],\n",
       "       [1.4007661 ],\n",
       "       [3.007323  ],\n",
       "       [2.1539204 ],\n",
       "       [1.5277426 ],\n",
       "       [2.5398824 ],\n",
       "       [1.1791868 ]], dtype=float32)"
      ]
     },
     "execution_count": 60,
     "metadata": {},
     "output_type": "execute_result"
    }
   ],
   "source": [
    "new_set = test_set.take(3).map(lambda X, y: X)\n",
    "model.predict(new_set)"
   ]
  },
  {
   "cell_type": "code",
   "execution_count": 62,
   "metadata": {},
   "outputs": [
    {
     "name": "stdout",
     "output_type": "stream",
     "text": [
      "(32, 8)\n",
      "(32, 8)\n",
      "(32, 8)\n",
      "(32, 8)\n",
      "(32, 8)\n",
      "(32, 8)\n",
      "(32, 8)\n",
      "(32, 8)\n",
      "(32, 8)\n",
      "(32, 8)\n",
      "(32, 8)\n",
      "(32, 8)\n",
      "(32, 8)\n",
      "(32, 8)\n",
      "(32, 8)\n",
      "(32, 8)\n",
      "(32, 8)\n",
      "(32, 8)\n",
      "(32, 8)\n",
      "(32, 8)\n",
      "(32, 8)\n",
      "(32, 8)\n",
      "(32, 8)\n",
      "(32, 8)\n",
      "(32, 8)\n",
      "(32, 8)\n",
      "(32, 8)\n",
      "(32, 8)\n",
      "(32, 8)\n",
      "(32, 8)\n",
      "(32, 8)\n",
      "(32, 8)\n",
      "(32, 8)\n",
      "(32, 8)\n",
      "(32, 8)\n",
      "(32, 8)\n",
      "(32, 8)\n",
      "(32, 8)\n",
      "(32, 8)\n",
      "(32, 8)\n",
      "(32, 8)\n",
      "(32, 8)\n",
      "(32, 8)\n",
      "(32, 8)\n",
      "(32, 8)\n",
      "(32, 8)\n",
      "(32, 8)\n",
      "(32, 8)\n",
      "(32, 8)\n",
      "(32, 8)\n",
      "(32, 8)\n",
      "(32, 8)\n",
      "(32, 8)\n",
      "(32, 8)\n",
      "(32, 8)\n",
      "(32, 8)\n",
      "(32, 8)\n",
      "(32, 8)\n",
      "(32, 8)\n",
      "(32, 8)\n",
      "(32, 8)\n",
      "(32, 8)\n",
      "(32, 8)\n",
      "(32, 8)\n",
      "(32, 8)\n",
      "(32, 8)\n",
      "(32, 8)\n",
      "(32, 8)\n",
      "(32, 8)\n",
      "(32, 8)\n",
      "(32, 8)\n",
      "(32, 8)\n",
      "(32, 8)\n",
      "(32, 8)\n",
      "(32, 8)\n",
      "(32, 8)\n",
      "(32, 8)\n",
      "(32, 8)\n",
      "(32, 8)\n",
      "(32, 8)\n",
      "(32, 8)\n",
      "(32, 8)\n",
      "(32, 8)\n",
      "(32, 8)\n",
      "(32, 8)\n",
      "(32, 8)\n",
      "(32, 8)\n",
      "(32, 8)\n",
      "(32, 8)\n",
      "(32, 8)\n",
      "(32, 8)\n",
      "(32, 8)\n",
      "(32, 8)\n",
      "(32, 8)\n",
      "(32, 8)\n",
      "(32, 8)\n",
      "(32, 8)\n",
      "(32, 8)\n",
      "(32, 8)\n",
      "(32, 8)\n",
      "(32, 8)\n",
      "(32, 8)\n",
      "(32, 8)\n",
      "(32, 8)\n",
      "(32, 8)\n",
      "(32, 8)\n",
      "(32, 8)\n",
      "(32, 8)\n",
      "(32, 8)\n",
      "(32, 8)\n",
      "(32, 8)\n",
      "(32, 8)\n",
      "(32, 8)\n",
      "(32, 8)\n",
      "(32, 8)\n",
      "(32, 8)\n",
      "(32, 8)\n",
      "(32, 8)\n",
      "(32, 8)\n",
      "(32, 8)\n",
      "(32, 8)\n",
      "(32, 8)\n",
      "(32, 8)\n",
      "(32, 8)\n",
      "(32, 8)\n",
      "(32, 8)\n",
      "(32, 8)\n",
      "(32, 8)\n",
      "(32, 8)\n",
      "(32, 8)\n",
      "(32, 8)\n",
      "(32, 8)\n",
      "(32, 8)\n",
      "(32, 8)\n",
      "(32, 8)\n",
      "(32, 8)\n",
      "(32, 8)\n",
      "(32, 8)\n",
      "(32, 8)\n",
      "(32, 8)\n",
      "(32, 8)\n",
      "(32, 8)\n",
      "(32, 8)\n",
      "(32, 8)\n",
      "(32, 8)\n",
      "(32, 8)\n",
      "(32, 8)\n",
      "(32, 8)\n",
      "(32, 8)\n",
      "(32, 8)\n",
      "(32, 8)\n",
      "(32, 8)\n",
      "(32, 8)\n",
      "(32, 8)\n",
      "(32, 8)\n",
      "(32, 8)\n",
      "(32, 8)\n",
      "(32, 8)\n",
      "(32, 8)\n",
      "(32, 8)\n",
      "(32, 8)\n",
      "(32, 8)\n",
      "(32, 8)\n",
      "(32, 8)\n",
      "(32, 8)\n",
      "(32, 8)\n",
      "(32, 8)\n",
      "(32, 8)\n",
      "(32, 8)\n",
      "(32, 8)\n",
      "(32, 8)\n",
      "(32, 8)\n",
      "(32, 8)\n",
      "(32, 8)\n",
      "(32, 8)\n",
      "(32, 8)\n",
      "(32, 8)\n",
      "(32, 8)\n",
      "(32, 8)\n",
      "(32, 8)\n",
      "(32, 8)\n",
      "(32, 8)\n",
      "(32, 8)\n",
      "(32, 8)\n",
      "(32, 8)\n",
      "(32, 8)\n",
      "(32, 8)\n",
      "(32, 8)\n",
      "(32, 8)\n",
      "(32, 8)\n",
      "(32, 8)\n",
      "(32, 8)\n",
      "(32, 8)\n",
      "(32, 8)\n",
      "(32, 8)\n",
      "(32, 8)\n",
      "(32, 8)\n",
      "(32, 8)\n",
      "(32, 8)\n",
      "(32, 8)\n",
      "(32, 8)\n",
      "(32, 8)\n",
      "(32, 8)\n",
      "(32, 8)\n",
      "(32, 8)\n",
      "(32, 8)\n",
      "(32, 8)\n",
      "(32, 8)\n",
      "(32, 8)\n",
      "(32, 8)\n",
      "(32, 8)\n",
      "(32, 8)\n",
      "(32, 8)\n",
      "(32, 8)\n",
      "(32, 8)\n",
      "(32, 8)\n",
      "(32, 8)\n",
      "(32, 8)\n",
      "(32, 8)\n",
      "(32, 8)\n",
      "(32, 8)\n",
      "(32, 8)\n",
      "(32, 8)\n",
      "(32, 8)\n",
      "(32, 8)\n",
      "(32, 8)\n",
      "(32, 8)\n",
      "(32, 8)\n",
      "(32, 8)\n",
      "(32, 8)\n",
      "(32, 8)\n",
      "(32, 8)\n",
      "(32, 8)\n",
      "(32, 8)\n",
      "(32, 8)\n",
      "(32, 8)\n",
      "(32, 8)\n",
      "(32, 8)\n",
      "(32, 8)\n",
      "(32, 8)\n",
      "(32, 8)\n",
      "(32, 8)\n",
      "(32, 8)\n",
      "(32, 8)\n",
      "(32, 8)\n",
      "(32, 8)\n",
      "(32, 8)\n",
      "(32, 8)\n",
      "(32, 8)\n",
      "(32, 8)\n",
      "(32, 8)\n",
      "(32, 8)\n",
      "(32, 8)\n",
      "(32, 8)\n",
      "(32, 8)\n",
      "(32, 8)\n",
      "(32, 8)\n",
      "(32, 8)\n",
      "(32, 8)\n",
      "(32, 8)\n",
      "(32, 8)\n",
      "(32, 8)\n",
      "(32, 8)\n",
      "(32, 8)\n",
      "(32, 8)\n",
      "(32, 8)\n",
      "(32, 8)\n",
      "(32, 8)\n",
      "(32, 8)\n",
      "(32, 8)\n",
      "(32, 8)\n",
      "(32, 8)\n",
      "(32, 8)\n",
      "(32, 8)\n",
      "(32, 8)\n",
      "(32, 8)\n",
      "(32, 8)\n",
      "(32, 8)\n",
      "(32, 8)\n",
      "(32, 8)\n",
      "(32, 8)\n",
      "(32, 8)\n",
      "(32, 8)\n",
      "(32, 8)\n",
      "(32, 8)\n",
      "(32, 8)\n",
      "(32, 8)\n",
      "(32, 8)\n",
      "(32, 8)\n",
      "(32, 8)\n",
      "(32, 8)\n",
      "(32, 8)\n",
      "(32, 8)\n",
      "(32, 8)\n",
      "(32, 8)\n",
      "(32, 8)\n",
      "(32, 8)\n",
      "(32, 8)\n",
      "(32, 8)\n",
      "(32, 8)\n",
      "(32, 8)\n",
      "(32, 8)\n",
      "(32, 8)\n",
      "(32, 8)\n",
      "(32, 8)\n",
      "(32, 8)\n",
      "(32, 8)\n",
      "(32, 8)\n",
      "(32, 8)\n",
      "(32, 8)\n",
      "(32, 8)\n",
      "(32, 8)\n",
      "(32, 8)\n",
      "(32, 8)\n",
      "(32, 8)\n",
      "(32, 8)\n",
      "(32, 8)\n",
      "(32, 8)\n",
      "(32, 8)\n",
      "(32, 8)\n",
      "(32, 8)\n",
      "(32, 8)\n",
      "(32, 8)\n",
      "(32, 8)\n",
      "(32, 8)\n",
      "(32, 8)\n",
      "(32, 8)\n",
      "(32, 8)\n",
      "(32, 8)\n",
      "(32, 8)\n",
      "(32, 8)\n",
      "(32, 8)\n",
      "(32, 8)\n",
      "(32, 8)\n",
      "(32, 8)\n",
      "(32, 8)\n",
      "(32, 8)\n",
      "(32, 8)\n",
      "(32, 8)\n",
      "(32, 8)\n",
      "(32, 8)\n",
      "(32, 8)\n",
      "(32, 8)\n",
      "(32, 8)\n",
      "(32, 8)\n",
      "(32, 8)\n",
      "(32, 8)\n",
      "(32, 8)\n",
      "(32, 8)\n",
      "(32, 8)\n",
      "(32, 8)\n",
      "(32, 8)\n",
      "(32, 8)\n",
      "(32, 8)\n",
      "(32, 8)\n",
      "(32, 8)\n",
      "(32, 8)\n",
      "(32, 8)\n",
      "(32, 8)\n",
      "(32, 8)\n",
      "(32, 8)\n",
      "(32, 8)\n",
      "(26, 8)\n"
     ]
    }
   ],
   "source": [
    "for X_batch, y_batch in train_set:\n",
    "    print(X_batch.shape)"
   ]
  },
  {
   "cell_type": "code",
   "execution_count": 63,
   "metadata": {},
   "outputs": [],
   "source": [
    "with tf.io.TFRecordWriter(\"my_data.tfrecord\") as f:\n",
    "    f.write(b\"This is the first record\")\n",
    "    f.write(b\"And this is the second record\")"
   ]
  },
  {
   "cell_type": "code",
   "execution_count": 64,
   "metadata": {},
   "outputs": [
    {
     "name": "stdout",
     "output_type": "stream",
     "text": [
      "tf.Tensor(b'This is the first record', shape=(), dtype=string)\n",
      "tf.Tensor(b'And this is the second record', shape=(), dtype=string)\n"
     ]
    }
   ],
   "source": [
    "filepaths = [\"my_data.tfrecord\"]\n",
    "dataset = tf.data.TFRecordDataset(filepaths)\n",
    "for item in dataset:\n",
    "    print(item)"
   ]
  },
  {
   "cell_type": "code",
   "execution_count": 65,
   "metadata": {},
   "outputs": [],
   "source": [
    "options = tf.io.TFRecordOptions(compression_type=\"GZIP\")\n",
    "with tf.io.TFRecordWriter(\"my_compressed.tfrecord\", options) as f:\n",
    "    f.write(b\"hello world\")"
   ]
  },
  {
   "cell_type": "code",
   "execution_count": 66,
   "metadata": {},
   "outputs": [
    {
     "name": "stdout",
     "output_type": "stream",
     "text": [
      "tf.Tensor(b'hello world', shape=(), dtype=string)\n"
     ]
    }
   ],
   "source": [
    "dataset = tf.data.TFRecordDataset([\"my_compressed.tfrecord\"],\n",
    "                                 compression_type=\"GZIP\")\n",
    "for item in dataset:\n",
    "    print(item)"
   ]
  },
  {
   "cell_type": "code",
   "execution_count": 78,
   "metadata": {},
   "outputs": [
    {
     "data": {
      "text/plain": [
       "1e-07"
      ]
     },
     "execution_count": 78,
     "metadata": {},
     "output_type": "execute_result"
    }
   ],
   "source": [
    "eps = keras.backend.epsilon()\n",
    "eps"
   ]
  },
  {
   "cell_type": "code",
   "execution_count": 79,
   "metadata": {},
   "outputs": [],
   "source": [
    "vocab = [\"<1H OCEAN\", \"INLAND\", \"NEAR OCEAN\", \"NEAR BAY\", \"ISLAND\"]\n",
    "indices = tf.range(len(vocab), dtype=tf.int64)\n",
    "table_init = tf.lookup.KeyValueTensorInitializer(vocab, indices)\n",
    "num_oov_buckets = 2\n",
    "table = tf.lookup.StaticVocabularyTable(table_init, num_oov_buckets)"
   ]
  },
  {
   "cell_type": "code",
   "execution_count": 83,
   "metadata": {},
   "outputs": [
    {
     "data": {
      "text/plain": [
       "<tf.Tensor: id=12969, shape=(4,), dtype=int64, numpy=array([3, 5, 1, 1], dtype=int64)>"
      ]
     },
     "execution_count": 83,
     "metadata": {},
     "output_type": "execute_result"
    }
   ],
   "source": [
    "categories = tf.constant([\"NEAR BAY\", \"DESERT\", \"INLAND\", \"INLAND\"])\n",
    "cat_indices = table.lookup(categories)\n",
    "cat_indices"
   ]
  },
  {
   "cell_type": "code",
   "execution_count": 85,
   "metadata": {},
   "outputs": [
    {
     "data": {
      "text/plain": [
       "<tf.Tensor: id=12977, shape=(4, 7), dtype=float32, numpy=\n",
       "array([[0., 0., 0., 1., 0., 0., 0.],\n",
       "       [0., 0., 0., 0., 0., 1., 0.],\n",
       "       [0., 1., 0., 0., 0., 0., 0.],\n",
       "       [0., 1., 0., 0., 0., 0., 0.]], dtype=float32)>"
      ]
     },
     "execution_count": 85,
     "metadata": {},
     "output_type": "execute_result"
    }
   ],
   "source": [
    "cat_one_hot = tf.one_hot(cat_indices, depth=len(vocab) + num_oov_buckets)\n",
    "cat_one_hot"
   ]
  },
  {
   "cell_type": "code",
   "execution_count": 88,
   "metadata": {},
   "outputs": [
    {
     "data": {
      "text/plain": [
       "<tf.Variable 'Variable:0' shape=(7, 2) dtype=float32, numpy=\n",
       "array([[0.803156  , 0.49777734],\n",
       "       [0.37054038, 0.9118674 ],\n",
       "       [0.637642  , 0.18209696],\n",
       "       [0.63791955, 0.27701473],\n",
       "       [0.04227114, 0.84219384],\n",
       "       [0.90637195, 0.222556  ],\n",
       "       [0.9198462 , 0.68789077]], dtype=float32)>"
      ]
     },
     "execution_count": 88,
     "metadata": {},
     "output_type": "execute_result"
    }
   ],
   "source": [
    "embedding_dim = 2\n",
    "embed_init = tf.random.uniform([len(vocab) + num_oov_buckets,\n",
    "embedding_dim])\n",
    "embedding_matrix = tf.Variable(embed_init)\n",
    "embedding_matrix"
   ]
  },
  {
   "cell_type": "code",
   "execution_count": 90,
   "metadata": {},
   "outputs": [],
   "source": [
    "categories = tf.constant([\"NEAR BAY\", \"DESERT\", \"INLAND\", \"INLAND\"])"
   ]
  },
  {
   "cell_type": "code",
   "execution_count": 91,
   "metadata": {},
   "outputs": [
    {
     "data": {
      "text/plain": [
       "<tf.Tensor: id=13024, shape=(4,), dtype=int64, numpy=array([3, 5, 1, 1], dtype=int64)>"
      ]
     },
     "execution_count": 91,
     "metadata": {},
     "output_type": "execute_result"
    }
   ],
   "source": [
    "cat_indices = table.lookup(categories)\n",
    "cat_indices"
   ]
  },
  {
   "cell_type": "code",
   "execution_count": 94,
   "metadata": {},
   "outputs": [
    {
     "data": {
      "text/plain": [
       "<tf.Tensor: id=13026, shape=(4, 2), dtype=float32, numpy=\n",
       "array([[0.63791955, 0.27701473],\n",
       "       [0.90637195, 0.222556  ],\n",
       "       [0.37054038, 0.9118674 ],\n",
       "       [0.37054038, 0.9118674 ]], dtype=float32)>"
      ]
     },
     "execution_count": 94,
     "metadata": {},
     "output_type": "execute_result"
    }
   ],
   "source": [
    "tf.nn.embedding_lookup(embedding_matrix, cat_indices)"
   ]
  },
  {
   "cell_type": "code",
   "execution_count": 99,
   "metadata": {},
   "outputs": [],
   "source": [
    "# TensorFlow ≥2.0 is required\n",
    "import tensorflow as tf\n",
    "from tensorflow import keras\n",
    "assert tf.__version__ >= \"2.0\""
   ]
  },
  {
   "cell_type": "code",
   "execution_count": null,
   "metadata": {},
   "outputs": [],
   "source": []
  },
  {
   "cell_type": "code",
   "execution_count": null,
   "metadata": {},
   "outputs": [],
   "source": []
  },
  {
   "cell_type": "code",
   "execution_count": null,
   "metadata": {},
   "outputs": [],
   "source": []
  },
  {
   "cell_type": "code",
   "execution_count": null,
   "metadata": {},
   "outputs": [],
   "source": []
  },
  {
   "cell_type": "code",
   "execution_count": null,
   "metadata": {},
   "outputs": [],
   "source": []
  },
  {
   "cell_type": "code",
   "execution_count": null,
   "metadata": {},
   "outputs": [],
   "source": []
  },
  {
   "cell_type": "code",
   "execution_count": null,
   "metadata": {},
   "outputs": [],
   "source": []
  },
  {
   "cell_type": "code",
   "execution_count": null,
   "metadata": {},
   "outputs": [],
   "source": []
  },
  {
   "cell_type": "code",
   "execution_count": null,
   "metadata": {},
   "outputs": [],
   "source": []
  },
  {
   "cell_type": "code",
   "execution_count": null,
   "metadata": {},
   "outputs": [],
   "source": []
  },
  {
   "cell_type": "code",
   "execution_count": null,
   "metadata": {},
   "outputs": [],
   "source": []
  },
  {
   "cell_type": "code",
   "execution_count": null,
   "metadata": {},
   "outputs": [],
   "source": []
  },
  {
   "cell_type": "code",
   "execution_count": null,
   "metadata": {},
   "outputs": [],
   "source": []
  }
 ],
 "metadata": {
  "kernelspec": {
   "display_name": "Python 3",
   "language": "python",
   "name": "python3"
  },
  "language_info": {
   "codemirror_mode": {
    "name": "ipython",
    "version": 3
   },
   "file_extension": ".py",
   "mimetype": "text/x-python",
   "name": "python",
   "nbconvert_exporter": "python",
   "pygments_lexer": "ipython3",
   "version": "3.7.6"
  }
 },
 "nbformat": 4,
 "nbformat_minor": 4
}
