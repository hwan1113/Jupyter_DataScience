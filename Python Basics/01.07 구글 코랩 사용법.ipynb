{
 "cells": [
  {
   "cell_type": "markdown",
   "metadata": {
    "school_cell_uuid": "84ed74d8719b431c883bc9f7c368273a"
   },
   "source": [
    "## 1.7 구글 코랩 사용법"
   ]
  },
  {
   "cell_type": "markdown",
   "metadata": {
    "school_cell_uuid": "d4396f6b0afe40ea996917a5d56eae23"
   },
   "source": [
    "구글 colaboratory 서비스, 줄여서 코랩(colab)이라고 부르는 웹 서비스는 주피터 노트북을 구글 서버에서 가동시키고 사용자가 마음대로 사용할 수 있도록 무료로 제공한다. 이 서비스를 이용하려면 구글 지메일(gmail) 계정을 가지고 있어야 한다. 지메일 계정이 있다면 다음과 같이 코랩을 사용할 수 있다.\n",
    "\n",
    "코랩 노트북은 다음과 같은 장점이 있다.\n",
    "\n",
    "1. 별도의 파이썬 설치 없이 웹 브라우저 만을 이용해 주피터 노트북과 같은 작업을 할 수 있다.\n",
    "2. 다른 사용자들과 공유가 쉬워 연구 및 교육용으로 많이 사용된다.\n",
    "3. Tensorflow, keras, matplotlib, scikit-learn, pandas 등 데이터 분석에 많이 사용되는 패키지들이 미리 설치되어 있다.\n",
    "4. 무료로 GPU를 사용할 수 있다.\n",
    "5. 구글 독스나 구글 스프레드시트 등과 같은 식으로 공유와 편집이 가능하다. 만약 두 명 이상의 사람이 동시에 같은 파일을 수정 하더라도 변경사항이 모든 사람에게 즉시 표시된다."
   ]
  },
  {
   "cell_type": "markdown",
   "metadata": {
    "school_cell_uuid": "2696bfbb1f574d2ab730030e31224505"
   },
   "source": [
    "### 구글 코랩 시작하기"
   ]
  },
  {
   "cell_type": "markdown",
   "metadata": {
    "school_cell_uuid": "12dc70d90e14413eafe267a2ec4adef9"
   },
   "source": [
    "구글 코랩을 사용하려면 지메일 계정이 필요하다. 지메일 계정이 있으면 로그인을 하고 지메일 계정이 없다면 다음 웹사이트에서 지메일을 만든 다음에 로그인한다.\n",
    "\n",
    "https://www.google.com/gmail/\n",
    "\n",
    "로그인을 한 후에는 웹 브라우저를 열고 다음 웹 페이지 주소로 접속한다. \n",
    "\n",
    "* http://colab.research.google.com\n",
    "\n",
    "그러면 다음 그림과 같은 시작 페이지가 나온다."
   ]
  },
  {
   "cell_type": "markdown",
   "metadata": {
    "school_cell_uuid": "10d02d2d02644c048c0f970e007288a0"
   },
   "source": [
    "<img src=\"https://datascienceschool.net/upfiles/b78bdafbaca24f1bb83a96b8a60a5b8c.png\" width=\"100%\">"
   ]
  },
  {
   "cell_type": "markdown",
   "metadata": {
    "school_cell_uuid": "dd533cb8890c40d2b48bfa0c77ecb59a",
    "sidetitle": true
   },
   "source": [
    "그림 1.7.1: 코랩 환영 페이지"
   ]
  },
  {
   "cell_type": "markdown",
   "metadata": {
    "school_cell_uuid": "68ec35f3e70645d4afa127a7531481ca"
   },
   "source": [
    "메뉴에서 ‘파일’ > ‘새 Python 3 노트’ 명령을 선택하거나 다이얼로그 아래의 \"새 PYTHON 3 노트\" 버튼을 누르면 다음 그림처럼 새 노트북을 사용할 수 있다. 사용법은 주피터 노트북과 같다."
   ]
  },
  {
   "cell_type": "markdown",
   "metadata": {
    "school_cell_uuid": "10d02d2d02644c048c0f970e007288a0"
   },
   "source": [
    "<img src=\"https://datascienceschool.net/upfiles/9977a6f92649434c83441ea2d9d77c6b.png\" width=\"100%\">"
   ]
  },
  {
   "cell_type": "markdown",
   "metadata": {
    "school_cell_uuid": "dd533cb8890c40d2b48bfa0c77ecb59a",
    "sidetitle": true
   },
   "source": [
    "그림 1.7.2: 새 코랩 노트북"
   ]
  },
  {
   "cell_type": "markdown",
   "metadata": {
    "school_cell_uuid": "f787eeb293fa4ddfb1312cf636232855"
   },
   "source": [
    "앞으로 나올 코드 예제를 실행할 때 주피터 노트북과 구글 코랩 중에서 아무거나 사용해도 된다."
   ]
  }
 ],
 "metadata": {
  "kernelspec": {
   "display_name": "Python 3",
   "language": "python",
   "name": "python3"
  },
  "language_info": {
   "codemirror_mode": {
    "name": "ipython",
    "version": 3
   },
   "file_extension": ".py",
   "mimetype": "text/x-python",
   "name": "python",
   "nbconvert_exporter": "python",
   "pygments_lexer": "ipython3",
   "version": "3.7.3"
  }
 },
 "nbformat": 4,
 "nbformat_minor": 2
}