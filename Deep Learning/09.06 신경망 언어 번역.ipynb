{
 "cells": [
  {
   "cell_type": "markdown",
   "metadata": {
    "school_cell_uuid": "fc6b54bb794749d882fe1ec922f8b9a6"
   },
   "source": [
    "# 신경망 언어 번역"
   ]
  },
  {
   "cell_type": "markdown",
   "metadata": {
    "school_cell_uuid": "cd44b15983044b388cd9d37a7ac5c1fe"
   },
   "source": [
    "RNN을 이용한 seq2seq (Sequnce-To-Sequence) 모형은 길이가 다른 여러가지 순서열을 입력하여 마찬가지로 여러가지 길이를 가지는 순서열을 출력하는 예측 모형이다. seq2seq 모형의 여러가지 응용 분야 중 하나는 문장을 입력하였을 때 다른 언어로 된 문장으로 변환해 주는 언어 번역(language translation)이다."
   ]
  },
  {
   "cell_type": "markdown",
   "metadata": {
    "school_cell_uuid": "8622dcba292349d9baa8ac05fd97ba0f"
   },
   "source": [
    "## 언어 번역 모형의 구조"
   ]
  },
  {
   "cell_type": "markdown",
   "metadata": {
    "school_cell_uuid": "8d693a032d854531830a512aaac221fc"
   },
   "source": [
    "언어 번역 모형은 다음과 같은 인코더(Encoder)-디코더(Decoder) 구조를 사용한다. 인코더와 디코더로는 각각 RNN으로 구현된 신경망 모형이다. 각 모형의 역할을 다음과 같다.\n",
    "\n",
    "* 인코더(Encoder): A 언어 문장 토큰열 $x_1, x_2, \\cdots, x_T$ 을 그 문장의 의미/스타일 등의 요약 정보를 담고 있는 수치 벡터 $c$로 변환한다. \n",
    "* 디코더(Decoder): 문장의 요약정보를 담고 있는 수치 벡터 $c$를 B 언어 문장 토큰열 $y_1, y_2, \\cdots, y_{T'}$로 변환한다.\n",
    "\n",
    "$$ (x_1, x_2, \\cdots, x_T) \\rightarrow c \\rightarrow (y_1, y_2, \\cdots, y_{T'}) $$"
   ]
  },
  {
   "cell_type": "markdown",
   "metadata": {
    "school_cell_uuid": "c89e3dc985ac45358f199ce1b061e00e"
   },
   "source": [
    "<img src=\"https://datascienceschool.net/upfiles/926aa891f3a744baae57c8cdcb868ff3.png\">"
   ]
  },
  {
   "cell_type": "markdown",
   "metadata": {
    "school_cell_uuid": "13bc7a5cc18f40cea0f0592343c0f133"
   },
   "source": [
    "## 인코더"
   ]
  },
  {
   "cell_type": "markdown",
   "metadata": {
    "school_cell_uuid": "17125c0cd07a42ddbcd0a4c62f04ae7d"
   },
   "source": [
    "인코더는 RNN으로 만들어지며 보통 LSTM이나 GRU를 사용한다.\n",
    "\n",
    "인코더는 입력 문장 토큰열 $x_1, x_2, \\cdots, x_T$ 으로부터 hidden layer vector $h$를 생성한다.\n",
    "\n",
    "$$ h_t = f(h_{t-1}, x_t) $$\n",
    "\n",
    "위 식에서 $f$는 비선형 액티베이션 함수를 뜻한다.\n",
    "\n",
    "인코더는 입력 언어의 확률적 언어 모형을 익히게 된다.\n",
    "\n",
    "$$ p(x_1, x_2, \\cdots, x_T) = \\prod_{t=1}^T p(x_t | x_{t−1}, . . . , x_1) $$"
   ]
  },
  {
   "cell_type": "markdown",
   "metadata": {
    "school_cell_uuid": "79ba0dfbe1bf407491f7166711fe8913"
   },
   "source": [
    "문장의 요약정보 수치벡터 $c$는 이렇게 생성된 hidden layer vector 열에서 만들어진다.\n",
    "\n",
    "$$ c = q(h_1, h_2, \\cdots, h_T) $$\n",
    "\n",
    "위 식에서 $q$는 $c$를 생성하는 비선형 함수이다. 가장 간단한 형태로는 다음과 같이 가장 마지막에 만들어진 모든 정보를 담고 있는 hidden layer vector를 사용하는 방법이 있을 수 있다.\n",
    "\n",
    "$$ q = h_T $$"
   ]
  },
  {
   "cell_type": "markdown",
   "metadata": {
    "school_cell_uuid": "812429409c5547d3b1b2db449fce6100"
   },
   "source": [
    "## Bidirectional 인코더"
   ]
  },
  {
   "cell_type": "markdown",
   "metadata": {
    "school_cell_uuid": "38f5fbf3327546538981ebf9fa1a63db"
   },
   "source": [
    "실제로는 입력 문장의 토큰 순서를 뒤집어서 만든 reverse hidden layer vector를 사용하거나 또는 forward hiddend layser vector와 reverse hidden layer vector를 augment 시킨 벡터를 사용하면 성능이 향상되는 것으로 나타났다."
   ]
  },
  {
   "cell_type": "markdown",
   "metadata": {
    "school_cell_uuid": "e0c071e1b25841ed8a9c691f33ecd8b6"
   },
   "source": [
    "## 디코더"
   ]
  },
  {
   "cell_type": "markdown",
   "metadata": {
    "school_cell_uuid": "27cb22fa3b914aee8232fb078f5d0520"
   },
   "source": [
    "디코더는 요약정보 수치벡터 $c$에서 실제 문장을 만들어내는 생성 모형이다. 인코더와 마찬가지로 RNN 모형을 사용한다. 디코더는 문장의 요약정보 벡터 $c$와 마지막으로 출력된 단어 $y_{t-1}$로부터 다음 단어 $y_t$를 예측해야 한다. 즉 다음과 같이 출력 언어의 확률적 언어 모형을 담고 있어야 한다.\n",
    "\n",
    "$$ p(y_1, y_2, \\cdots, y_{T'} | c) = \\prod_{t=1}^{T'} p(y_t | y_{t−1}, . . . , y_1, c) $$\n",
    "\n",
    "이 확률은 다음과 같이 디코더 hidden layer vector $s$ 로부터 계산된다.\n",
    "\n",
    "\n",
    "$$ s_t = f(s_{t-1}, y_t, c) $$\n",
    "\n",
    "$$ p(y_{T'} | y_1, y_2, \\cdots, c) = g(s_1, s_2, \\cdots, s_t, y_{t-1}, c) $$\n",
    "\n",
    "이렇게 계산된 토큰 확률을 softmax를 통과시켜 최대 확률을 가진 토큰을 선택한다."
   ]
  },
  {
   "cell_type": "markdown",
   "metadata": {
    "school_cell_uuid": "54ea7e00815e41bc81d280d2d7c5f9ca"
   },
   "source": [
    "## Zero-Padding and Bucketting"
   ]
  },
  {
   "cell_type": "markdown",
   "metadata": {
    "collapsed": true,
    "school_cell_uuid": "194718fc774548f9a99cb8a2c4e627d9"
   },
   "source": [
    "이론상으로는 이 신경망 모형에 입출력되는 순서열의 크기에 제한이 없지만 실제 구현시에는 크기가 고정되어야 한다.\n",
    "\n",
    "이를 위핸 bucketting과 zero-padding 방법을 사용한다.\n",
    "\n",
    "zero-padding은 입력 토큰의 실제 크기가 미리 정해진 크기보다 작을 때 모자라는 부분을 0로 채우는 방법이다.\n",
    "\n",
    "bucketting은 미리 여러가지 크기를 가진 모형을 복수개를 만들어 사용하는 방법이다. 예를 들어 10개의 토큰 순서열을 받아 10개의 토큰 순서열을 출력하는 모형을 (10, 10)-모형이라고 하면 (10, 10)-모형, (20, 20)-모형을 만들고 만약 입력 토큰열의 크기가 8이면 (10, 10)-모형을 사용하고 12이면 (20, 20)-모형을 사용하는 방법이다."
   ]
  },
  {
   "cell_type": "markdown",
   "metadata": {
    "collapsed": true,
    "school_cell_uuid": "92fdb2e874344755a9f8b47b8b0b5f0a"
   },
   "source": [
    "## Google Neural Machine Translation"
   ]
  },
  {
   "cell_type": "markdown",
   "metadata": {
    "collapsed": true,
    "school_cell_uuid": "7bf8e517c18e4efd84f055900cb4d817"
   },
   "source": [
    "구글의 신경망 번역기도 위에서 말한 구조를 따른다. RNN의 기본 뉴런으로는 LSTM을 사용하고 인코더, 디코더 모두 8개의 레이어를 가진다. 인코더의 경우 두번째 레이어는 토큰 순서가 뒤집힌 bidirectional 레이어를 사용한다."
   ]
  },
  {
   "cell_type": "markdown",
   "metadata": {
    "school_cell_uuid": "1f69a0faf61142c28bc114708c5775da"
   },
   "source": [
    "<img src=\"https://datascienceschool.net/upfiles/cebc376b59bc4f49bcc067662f252379.png\">"
   ]
  },
  {
   "cell_type": "markdown",
   "metadata": {
    "school_cell_uuid": "851b68cd6595473d9ffe231c822c814b"
   },
   "source": [
    "## Attention"
   ]
  },
  {
   "cell_type": "markdown",
   "metadata": {
    "school_cell_uuid": "a02e0e68fae24c1180cc4ea9e246f764"
   },
   "source": [
    "구글 번역 모형의 경우에는 인코더와 디코더 사이에 attention 모형이 삽입된다.\n",
    "\n",
    "Attention이란 입력 순서열의 특정한 부분에 대해 더 집중할 수 있도록 훈련된 신경망이다."
   ]
  },
  {
   "cell_type": "markdown",
   "metadata": {
    "school_cell_uuid": "a918cada1cd543408dc5aa684df60d18"
   },
   "source": [
    "\n",
    "$$ s_t = \\text{AttentionFunction}(y_{t'−1}, x_t) $$\n",
    "\n",
    "\n",
    "$$ p_t = \\dfrac{\\exp(s_t)/X}{\\sum_{t'=1}^{T'} \\exp(s_t)} $$\n",
    "\n",
    "\n",
    "$$ a_{t'} = \\sum p_t x_t $$"
   ]
  },
  {
   "cell_type": "markdown",
   "metadata": {
    "school_cell_uuid": "3deaea5c1cbe4410b2ee0467fccdcd45"
   },
   "source": [
    "## BLEU"
   ]
  },
  {
   "cell_type": "markdown",
   "metadata": {
    "school_cell_uuid": "b5f6a7d04b1a46ca8303039e95bac763"
   },
   "source": [
    "BLEU(Bilingual Evaluation Understudy)는 번역 품질을 측정하기위한 정량적 지수 중의 하나이다. 번역된 문장(hypothesis)와 사람이 정한 정답 문장들(reference pool)사이에 공통된 단어가 얼마나 존재하는가로 번역 품질을 측정한다.\n",
    "\n",
    "원래는 0부터 1사이의 값을 가지는 숫자이지만 %로 표시하기도 한다. 구글의 GNMT의 경우 WMT14 Engligh-to-French 데이터에 대해 38.95 BLEU를 기록하였다.\n",
    "\n",
    "파이썬에서는 nltk 패키지를 사용하여 BLEU를 계산할 수 있다."
   ]
  },
  {
   "cell_type": "code",
   "execution_count": 10,
   "metadata": {
    "school_cell_uuid": "f063e8546fae4514b3a8d53763bf0196"
   },
   "outputs": [],
   "source": [
    "from nltk.translate.bleu_score import sentence_bleu"
   ]
  },
  {
   "cell_type": "code",
   "execution_count": 16,
   "metadata": {
    "collapsed": true,
    "school_cell_uuid": "593344bad8c844c4929af575ac205d75"
   },
   "outputs": [],
   "source": [
    "hypothesis = ['It', 'is', 'a', 'guide', 'to', 'action', 'which',\n",
    "             'ensures', 'that', 'the', 'military', 'always',\n",
    "             'obeys', 'the', 'commands', 'of', 'the', 'party']\n",
    "reference1 = ['It', 'is', 'a', 'guide', 'to', 'action', 'that',\n",
    "              'ensures', 'that', 'the', 'military', 'will', 'forever',\n",
    "              'heed', 'Party', 'commands']\n",
    "reference2 = ['It', 'is', 'the', 'guiding', 'principle', 'which',\n",
    "              'guarantees', 'the', 'military', 'forces', 'always',\n",
    "              'being', 'under', 'the', 'command', 'of', 'the',\n",
    "              'Party']\n",
    "reference3 = ['It', 'is', 'the', 'practical', 'guide', 'for', 'the',\n",
    "              'army', 'always', 'to', 'heed', 'the', 'directions',\n",
    "              'of', 'the', 'party']"
   ]
  },
  {
   "cell_type": "code",
   "execution_count": 17,
   "metadata": {
    "school_cell_uuid": "82252f6ffe3a4065991510b3eb11212a"
   },
   "outputs": [
    {
     "data": {
      "text/plain": [
       "0.5045666840058485"
      ]
     },
     "execution_count": 17,
     "metadata": {},
     "output_type": "execute_result"
    }
   ],
   "source": [
    "sentence_bleu([reference1, reference2, reference3], hypothesis)"
   ]
  },
  {
   "cell_type": "markdown",
   "metadata": {
    "school_cell_uuid": "86c0545c8d5a4edb827d224a48c87331"
   },
   "source": [
    "## 참고 문헌"
   ]
  },
  {
   "cell_type": "markdown",
   "metadata": {
    "school_cell_uuid": "a27e0f84ba994fbab9799a4849046b16"
   },
   "source": [
    "* https://www.tensorflow.org/tutorials/seq2seq\n",
    "* https://arxiv.org/pdf/1609.08144.pdf"
   ]
  }
 ],
 "metadata": {
  "kernelspec": {
   "display_name": "Python 2",
   "language": "python",
   "name": "python2"
  },
  "language_info": {
   "codemirror_mode": {
    "name": "ipython",
    "version": 2
   },
   "file_extension": ".py",
   "mimetype": "text/x-python",
   "name": "python",
   "nbconvert_exporter": "python",
   "pygments_lexer": "ipython2",
   "version": "2.7.13"
  }
 },
 "nbformat": 4,
 "nbformat_minor": 2
}