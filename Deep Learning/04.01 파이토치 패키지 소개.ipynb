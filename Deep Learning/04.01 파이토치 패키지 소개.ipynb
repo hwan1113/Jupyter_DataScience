{
 "cells": [
  {
   "cell_type": "markdown",
   "metadata": {
    "colab_type": "text",
    "id": "Y3hZerBuU0E8",
    "school_cell_uuid": "503589e470af45d89e13b82dde8cb46f"
   },
   "source": [
    "# 파이토치 패키지 소개"
   ]
  },
  {
   "cell_type": "markdown",
   "metadata": {
    "colab_type": "text",
    "id": "p5HbDRf2U0E8",
    "school_cell_uuid": "4a719db757b149a38eccf606d11925d7"
   },
   "source": [
    "파이토치(PyTorch)는 텐서플로와 함께 딥러닝 구현에 가장 많이 사용되는 패키지다. 사용 방법이 텐서플로보다 비교적 쉽다. "
   ]
  },
  {
   "cell_type": "markdown",
   "metadata": {
    "school_cell_uuid": "58eb758e3eac4cc498b31bd9e83c70e0"
   },
   "source": [
    "## 설치 "
   ]
  },
  {
   "cell_type": "markdown",
   "metadata": {
    "school_cell_uuid": "bfdc2bed163b45e4b45e53c80a4bb8b4"
   },
   "source": [
    "PyTorch는 Conda를 이용해 설치하는 것을 추천한다. \n",
    "\n",
    "```\n",
    "conda install PyTorch-cpu torchvision-cpu -c PyTorch\n",
    "```\n",
    "\n",
    "`torch`라는 이름으로 임포트한다."
   ]
  },
  {
   "cell_type": "code",
   "execution_count": 1,
   "metadata": {
    "colab": {
     "base_uri": "https://localhost:8080/",
     "height": 34
    },
    "colab_type": "code",
    "id": "G4GSRlFuYtn-",
    "outputId": "19619678-834d-4cd7-ed3f-cfb7f627874a",
    "school_cell_uuid": "5f0803dd4b15463e95bb5e48b5cc7827"
   },
   "outputs": [
    {
     "data": {
      "text/plain": [
       "'1.2.0'"
      ]
     },
     "execution_count": 1,
     "metadata": {},
     "output_type": "execute_result"
    }
   ],
   "source": [
    "import torch\n",
    "import numpy as np \n",
    "import pandas as pd \n",
    "torch.__version__"
   ]
  },
  {
   "cell_type": "markdown",
   "metadata": {
    "colab_type": "text",
    "id": "4COxDBQTU0FD",
    "school_cell_uuid": "7211ae783a7440c0a7c374ea346f4e11"
   },
   "source": [
    "##  텐서 자료형"
   ]
  },
  {
   "cell_type": "markdown",
   "metadata": {
    "colab_type": "text",
    "id": "mYzwyq3LU0FE",
    "school_cell_uuid": "32ef3750ed5b432ab27f2ef491fd30d2"
   },
   "source": [
    "PyTorch의 텐서(Tensor) 자료형은 NumPy의 배열(ndarray)과 유사한 자료형이다. 텐서 자료형을 사용하는 방법도 NumPy와 비슷하다. \n",
    "텐서 자료형 데이터를 만드는 방법은 3 가지가 있다.\n",
    "\n",
    "* 리스트나 NumPy 배열을 텐서로 변환\n",
    "* 0 또는 1 등의 특정한 값을 가진 텐서를 생성\n",
    "* 랜덤한 값을 가지는 텐서를 생성\n",
    "\n"
   ]
  },
  {
   "cell_type": "markdown",
   "metadata": {
    "colab_type": "text",
    "id": "XdASAhTOU0FE",
    "school_cell_uuid": "92ed0570a2c34263b07f9e3b67b01ed8"
   },
   "source": [
    "## 배열과 리스트를 텐서 자료형으로 변환"
   ]
  },
  {
   "cell_type": "markdown",
   "metadata": {
    "colab_type": "text",
    "id": "G3wRIrUgU0FF",
    "school_cell_uuid": "ed06dcd464d144dfb263843a9131661f"
   },
   "source": [
    "리스트를 텐서 자료형으로 바꾸러면 `torch.tensor()` 또는 `torch.as_tensor()`, `torch.from_numpy()` 명령을 사용한다. \n",
    "\n",
    "* `torch.tensor()`: 값 복사(value copy)를 사용하여 새로운 텐서 자료형 인스턴스를 생성한다.\n",
    "* `torch.as_tensor()`: 리스트나 ndarray 객체를 받는다. 값 참조(refernce)를 사용하여 텐서 자료형 뷰(view)를 만든다.\n",
    "* `torch.from_numpy()`: ndarray 객체를 받는다. 값 참조(refernce)를 사용하여 텐서 자료형 뷰(view)를 만든다."
   ]
  },
  {
   "cell_type": "code",
   "execution_count": 2,
   "metadata": {
    "colab": {
     "base_uri": "https://localhost:8080/",
     "height": 102
    },
    "colab_type": "code",
    "id": "iNRo3PBeU0FG",
    "outputId": "3b4c3e24-b754-43ff-c844-caeb7d7b9cbb",
    "school_cell_uuid": "d26390109363414298d40d56292062e9"
   },
   "outputs": [
    {
     "name": "stdout",
     "output_type": "stream",
     "text": [
      "tensor([[1, 2],\n",
      "        [3, 4]])\n",
      "tensor([[1, 2],\n",
      "        [3, 4]])\n"
     ]
    }
   ],
   "source": [
    "li = np.array([[1, 2], [3, 4]])\n",
    "\n",
    "li_tensor = torch.tensor(li)\n",
    "li_as_tensor = torch.as_tensor(li)\n",
    "\n",
    "print(li_tensor)\n",
    "print(li_as_tensor)"
   ]
  },
  {
   "cell_type": "markdown",
   "metadata": {
    "school_cell_uuid": "a25dc913643d48d7ae3187257bf6edbc"
   },
   "source": [
    "`torch.tensor()` 명령으로 텐서를 만들거나 `torch.as_tensor()`에 ndarray가 아닌 리스트를 넣었을 때는 이러한 일이 발생하지 않는다."
   ]
  },
  {
   "cell_type": "markdown",
   "metadata": {
    "colab_type": "text",
    "id": "5QFeQDelU0FJ",
    "school_cell_uuid": "1a545a71dcaa4266aa1dbaba8ba2e6ba"
   },
   "source": [
    "NumPy 배열을 텐서로 바꿀 때는 `torch.from_numpy()` 함수를 쓸 수 있다."
   ]
  },
  {
   "cell_type": "code",
   "execution_count": 3,
   "metadata": {
    "colab": {
     "base_uri": "https://localhost:8080/",
     "height": 153
    },
    "colab_type": "code",
    "id": "nd3XbmErU0FK",
    "outputId": "326d195d-6b87-4a2e-ca1f-acb9934c519a",
    "school_cell_uuid": "320ff2d7b7414c66858c40e25da796f1"
   },
   "outputs": [
    {
     "name": "stdout",
     "output_type": "stream",
     "text": [
      "tensor([[1, 2],\n",
      "        [3, 4]]) torch.int64\n",
      "tensor([[1, 2],\n",
      "        [3, 4]]) torch.int64\n",
      "tensor([[1, 2],\n",
      "        [3, 4]]) torch.int64\n"
     ]
    }
   ],
   "source": [
    "arr = np.array([[1, 2], [3, 4]])\n",
    "\n",
    "arr_tensor = torch.tensor(arr)\n",
    "arr_as_tensor = torch.from_numpy(arr)\n",
    "arr_from_numpy = torch.from_numpy(arr)\n",
    "\n",
    "print(arr_tensor, arr_tensor.dtype)\n",
    "print(arr_as_tensor, arr_as_tensor.dtype)\n",
    "print(arr_from_numpy, arr_from_numpy.dtype)"
   ]
  },
  {
   "cell_type": "markdown",
   "metadata": {
    "school_cell_uuid": "6f74a786aae24aa08ce9d25ef32d2a7c"
   },
   "source": [
    "반대로 텐서를 NumPy 배열로 바꿀 때는 `torch.numpy()` 메서드를 사용한다. "
   ]
  },
  {
   "cell_type": "code",
   "execution_count": 4,
   "metadata": {
    "school_cell_uuid": "f78d5bdf4e304c2a96bcf10c3741f66c"
   },
   "outputs": [
    {
     "name": "stdout",
     "output_type": "stream",
     "text": [
      "[[1 2]\n",
      " [3 4]]\n",
      "[[1 2]\n",
      " [3 4]]\n",
      "[[1 2]\n",
      " [3 4]]\n"
     ]
    }
   ],
   "source": [
    "print(arr_tensor.numpy())\n",
    "print(arr_as_tensor.numpy())\n",
    "print(arr_from_numpy.numpy())"
   ]
  },
  {
   "cell_type": "markdown",
   "metadata": {
    "school_cell_uuid": "f82106d15a5e4da884fe56de489482a3"
   },
   "source": [
    "`torch.as_tensor()`나 `torch.from_numpy()`는 원래의 ndarray 객체를 참조하므로 원래 ndarray 객체의 값을 바꾸면 텐서 자료형의 값도 바뀌고 반대로 텐서 자료형에서 원소의 값을 바꾸면 원래 ndarray 객체의 값도 바뀐다."
   ]
  },
  {
   "cell_type": "code",
   "execution_count": 5,
   "metadata": {
    "school_cell_uuid": "e778679527b04816a704d7a3f2a167ea"
   },
   "outputs": [
    {
     "data": {
      "text/plain": [
       "array([[1000,    2],\n",
       "       [   3,    4]])"
      ]
     },
     "execution_count": 5,
     "metadata": {},
     "output_type": "execute_result"
    }
   ],
   "source": [
    "arr_as_tensor[0, 0] = 1000\n",
    "arr"
   ]
  },
  {
   "cell_type": "code",
   "execution_count": 6,
   "metadata": {
    "school_cell_uuid": "d07941a8bcf547a382ea484bd7bcf21c"
   },
   "outputs": [
    {
     "data": {
      "text/plain": [
       "tensor([[1000,    2],\n",
       "        [   3,    4]])"
      ]
     },
     "execution_count": 6,
     "metadata": {},
     "output_type": "execute_result"
    }
   ],
   "source": [
    "arr_from_numpy  # 같은 객체를 참조한다."
   ]
  },
  {
   "cell_type": "code",
   "execution_count": 7,
   "metadata": {
    "school_cell_uuid": "ac1a3b396bb84d00bc21ea8754aa2953"
   },
   "outputs": [
    {
     "data": {
      "text/plain": [
       "tensor([[1000, 2000],\n",
       "        [   3,    4]])"
      ]
     },
     "execution_count": 7,
     "metadata": {},
     "output_type": "execute_result"
    }
   ],
   "source": [
    "arr[0, 1] = 2000\n",
    "arr_as_tensor"
   ]
  },
  {
   "cell_type": "markdown",
   "metadata": {
    "colab_type": "text",
    "id": "Ijjll3m4U0FO",
    "school_cell_uuid": "d503e13cb8544b5dbcf3870f6c62d834"
   },
   "source": [
    "## 랜덤한 값을 가지는 텐서 생성"
   ]
  },
  {
   "cell_type": "markdown",
   "metadata": {
    "colab_type": "text",
    "id": "e0ADja7dU0FP",
    "school_cell_uuid": "d91e8c3e452f432aa971836c267faec2"
   },
   "source": [
    "랜덤 값으로 채워진 텐서를 생성하는 명령은 다음과 같다. \n",
    "\n",
    "- `torch.rand()` : 0과 1사이의 숫자를 균등하게 생성\n",
    "- `torch.rand_like()` : 사이즈를 튜플로 입력하지 않고 기존의 텐서로 정의\n",
    "- `torch.randn()` : 평균이 0이고 표준편차가 1인 가우시안 정규분포를 이용해 생성\n",
    "- `torch.randn_like()` : 사이즈를 튜플로 입력하지 않고 기존의 텐서로 정의\n",
    "- `torch.randint()` : 주어진 범위 내의 정수를 균등하게 생성, 자료형은 torch.float32\n",
    "- `torch.randint_like()` : 사이즈를 튜플로 입력하지 않고 기존의 텐서로 정의\n",
    "- `torch.randperm()` : 주어진 범위 내의 정수를 랜덤하게 생성\n",
    "\n",
    "\n",
    "랜덤 생성에 사용되는 시드(seed)는 `torch.manual_seed()` 명령으로 설정한다."
   ]
  },
  {
   "cell_type": "code",
   "execution_count": 8,
   "metadata": {
    "colab": {
     "base_uri": "https://localhost:8080/",
     "height": 119
    },
    "colab_type": "code",
    "id": "cmwdDAUfU0FQ",
    "outputId": "6ef4d042-bb9c-4245-bfe5-a6bd06b0dcf7",
    "school_cell_uuid": "8cf3af0210f44d6face0ccaf94959b35"
   },
   "outputs": [
    {
     "name": "stdout",
     "output_type": "stream",
     "text": [
      "tensor([0.4963, 0.7682, 0.0885, 0.1320, 0.3074])\n",
      "tensor([ 0.5507,  0.2704,  0.6472,  0.2490, -0.3354])\n",
      "tensor([8, 4, 3, 6, 9])\n",
      "tensor([1, 3, 4, 2, 0])\n"
     ]
    }
   ],
   "source": [
    "torch.manual_seed(0)\n",
    "\n",
    "a = torch.rand(5)\n",
    "b = torch.randn(5)\n",
    "c = torch.randint(10, size=(5,))\n",
    "d = torch.randperm(5)\n",
    "\n",
    "print(a)\n",
    "print(b)\n",
    "print(c)\n",
    "print(d)"
   ]
  },
  {
   "cell_type": "markdown",
   "metadata": {
    "colab_type": "text",
    "id": "4ayanBN6U0FU",
    "school_cell_uuid": "d974014fbf5547f49ad1ff8987e49482"
   },
   "source": [
    "특정한 값으로 초기화를 하지 않는 행렬을 만들 때는 `torch.empty()` 함수를 사용할 수 있다. "
   ]
  },
  {
   "cell_type": "code",
   "execution_count": 9,
   "metadata": {
    "colab": {
     "base_uri": "https://localhost:8080/",
     "height": 68
    },
    "colab_type": "code",
    "id": "OSU_wJ45U0FY",
    "outputId": "4f49588a-e6fe-4244-c2d6-cd9ee5c7a3bf",
    "school_cell_uuid": "9aba7f6fdf264dfa96f9e8f94613ffb4"
   },
   "outputs": [
    {
     "data": {
      "text/plain": [
       "tensor([[0.0000e+00, 1.1824e+22, 7.7052e+31, 7.2148e+22],\n",
       "        [2.5226e-18, 1.6898e-04, 1.0527e-11, 3.0880e-09],\n",
       "        [1.0258e-08, 4.1656e-11, 2.5931e-09, 2.9571e-18]])"
      ]
     },
     "execution_count": 9,
     "metadata": {},
     "output_type": "execute_result"
    }
   ],
   "source": [
    "torch.empty(3, 4)"
   ]
  },
  {
   "cell_type": "markdown",
   "metadata": {
    "colab_type": "text",
    "id": "rEhd8ZaRU0Fc",
    "school_cell_uuid": "88562a29ddd6486590c4d6c700ba1420"
   },
   "source": [
    "## 특정한 값의 텐서 생성하기 "
   ]
  },
  {
   "cell_type": "markdown",
   "metadata": {
    "colab_type": "text",
    "id": "3gBA__9bU0Fc",
    "school_cell_uuid": "7d7b3f89c150418aa49dc3d444129e27"
   },
   "source": [
    "다음은 특정한 값으로 채워진 텐서를 생성하는 명령들이다. \n",
    " - `torch.arange()` : 주어진 범위 내의 정수를 순서대로 생성\n",
    " - `torch.ones()` : 주어진 사이즈의 1로 이루어진 텐서 생성 \n",
    " - `torch.zeros()` : 주어진 사이즈의 0으로 이루어진 텐서 생성 \n",
    " - `torch.ones_like()` : 사이즈를 튜플로 입력하지 않고 기존의 텐서로 정의\n",
    " - `torch.zeros_like()` : 사이즈를 튜플로 입력하지 않고 기존의 텐서로 정의\n",
    " - `torch.linspace()` : 시작점과 끝점을 주어진 갯수만큼 균등하게 나눈 간격점을 행벡터로 출력\n",
    " - `torch.logspace()` : 시작점과 끝점을 주어진 갯수만큼 로그간격으로 나눈 간격점을 행벡터로 출력"
   ]
  },
  {
   "cell_type": "code",
   "execution_count": 10,
   "metadata": {
    "colab": {
     "base_uri": "https://localhost:8080/",
     "height": 34
    },
    "colab_type": "code",
    "id": "SoEakUYmU0Fd",
    "outputId": "d0bf3fa3-264d-4f81-9315-e043f455a0b2",
    "school_cell_uuid": "a73d4a9b76104c529e15e7574377431d"
   },
   "outputs": [
    {
     "data": {
      "text/plain": [
       "tensor([1, 2, 3, 4, 5, 6, 7, 8, 9])"
      ]
     },
     "execution_count": 10,
     "metadata": {},
     "output_type": "execute_result"
    }
   ],
   "source": [
    "torch.arange(1, 10)"
   ]
  },
  {
   "cell_type": "code",
   "execution_count": 11,
   "metadata": {
    "colab": {
     "base_uri": "https://localhost:8080/",
     "height": 51
    },
    "colab_type": "code",
    "id": "5ZEWL6CGU0Fh",
    "outputId": "86e1e5f6-e23d-4555-849f-5260000c1ce3",
    "school_cell_uuid": "949255ea68134da9b88d557fda944e1d"
   },
   "outputs": [
    {
     "data": {
      "text/plain": [
       "tensor([[1., 1., 1., 1., 1.],\n",
       "        [1., 1., 1., 1., 1.]])"
      ]
     },
     "execution_count": 11,
     "metadata": {},
     "output_type": "execute_result"
    }
   ],
   "source": [
    "torch.ones((2, 5))"
   ]
  },
  {
   "cell_type": "code",
   "execution_count": 12,
   "metadata": {
    "colab": {
     "base_uri": "https://localhost:8080/",
     "height": 68
    },
    "colab_type": "code",
    "id": "XwMwFYT2U0Fk",
    "outputId": "2ceed56e-5f39-400d-918d-6ac9386e7987",
    "school_cell_uuid": "90ebb9e5ec334bbeaf834c4835590981"
   },
   "outputs": [
    {
     "data": {
      "text/plain": [
       "tensor([[0., 0., 0., 0., 0.],\n",
       "        [0., 0., 0., 0., 0.],\n",
       "        [0., 0., 0., 0., 0.]])"
      ]
     },
     "execution_count": 12,
     "metadata": {},
     "output_type": "execute_result"
    }
   ],
   "source": [
    "torch.zeros((3, 5))"
   ]
  },
  {
   "cell_type": "code",
   "execution_count": 13,
   "metadata": {
    "colab": {
     "base_uri": "https://localhost:8080/",
     "height": 51
    },
    "colab_type": "code",
    "id": "7A0UisexU0Fn",
    "outputId": "dcf00f53-8849-47a6-eff6-f91388d12b69",
    "school_cell_uuid": "bae4b240b6f34e40af92be3338575f92"
   },
   "outputs": [
    {
     "data": {
      "text/plain": [
       "tensor([ 0.0000,  2.5000,  5.0000,  7.5000, 10.0000])"
      ]
     },
     "execution_count": 13,
     "metadata": {},
     "output_type": "execute_result"
    }
   ],
   "source": [
    "torch.linspace(0, 10, 5)"
   ]
  },
  {
   "cell_type": "markdown",
   "metadata": {
    "colab_type": "text",
    "id": "yosX5kfQU0Ft",
    "school_cell_uuid": "da1536e1f00c48758e2f152e00cc519b"
   },
   "source": [
    "## 텐서 자료형 변환"
   ]
  },
  {
   "cell_type": "markdown",
   "metadata": {
    "colab_type": "text",
    "id": "bj-iWVfxU0Fu",
    "school_cell_uuid": "5297eae51ca74393a45258bec6ec614f"
   },
   "source": [
    "텐서 내부의 데이터를 변환 할 때는 `.type()` 메서드를 사용한다. 다음 표는 PyTorch가 지원하는 자료형을 정리한 것이다. GPU tensor는 GPU 연산이 가능한 자료형을 뜻한다. GPU에 관련된 내용에서 자세히 설명한다. "
   ]
  },
  {
   "cell_type": "markdown",
   "metadata": {
    "colab_type": "text",
    "id": "zTwpwq_cU0Fx",
    "school_cell_uuid": "e46ed06f77d4405d96d810dd9cd34fd4"
   },
   "source": [
    "|Data type|\tdtype|\tCPU tensor | GPU tensor |\n",
    "|:-------:|:----:|:-----------:|:----------:|\n",
    "|32-bit floating point|\ttorch.float32 또는 torch.float |\ttorch.FloatTensor |\ttorch.cuda.FloatTensor|\n",
    "|64-bit floating point|\ttorch.float64 또는 torch.double|\ttorch.DoubleTensor |torch.cuda.DoubleTensor\n",
    "|16-bit floating point|\ttorch.float16 또는 torch.half\t| torch.HalfTensor|\ttorch.cuda.HalfTensor\n",
    "|8-bit integer (unsigned)|\ttorch.uint8|torch.ByteTensor|\ttorch.cuda.ByteTensor|\n",
    "|8-bit integer (signed)|\ttorch.int8\t|torch.CharTensor|\ttorch.cuda.CharTensor|\n",
    "|16-bit integer (signed)|\ttorch.int16 또는 torch.short|\ttorch.ShortTensor |\ttorch.cuda.ShortTensor\n",
    "|32-bit integer (signed)|\ttorch.int32 또는 torch.int|\ttorch.IntTensor |\ttorch.cuda.IntTensor\n",
    "|64-bit integer (signed)|\ttorch.int64 또는 torch.long|\ttorch.LongTensor | \ttorch.cuda.LongTensor"
   ]
  },
  {
   "cell_type": "markdown",
   "metadata": {
    "colab_type": "text",
    "id": "rycgPvG_U0Fy",
    "school_cell_uuid": "f073ec34e34a4372a0f8e1d0f7c1ff1c",
    "sidetitle": true
   },
   "source": [
    "표 54.1: PyTorch 자료형 "
   ]
  },
  {
   "cell_type": "code",
   "execution_count": 14,
   "metadata": {
    "colab": {
     "base_uri": "https://localhost:8080/",
     "height": 85
    },
    "colab_type": "code",
    "id": "_BpBcjB9U0Fz",
    "outputId": "d33c9821-4f2a-4975-88dd-cb1f50c40a3d",
    "school_cell_uuid": "dcb8d7ad97304af0a2f27f195bf7556c"
   },
   "outputs": [
    {
     "data": {
      "text/plain": [
       "torch.int64"
      ]
     },
     "execution_count": 14,
     "metadata": {},
     "output_type": "execute_result"
    }
   ],
   "source": [
    "arr_tensor.dtype"
   ]
  },
  {
   "cell_type": "code",
   "execution_count": 15,
   "metadata": {
    "school_cell_uuid": "268cb43de14341778f351bf70565d3ce"
   },
   "outputs": [
    {
     "data": {
      "text/plain": [
       "tensor([[1, 2],\n",
       "        [3, 4]], dtype=torch.int32)"
      ]
     },
     "execution_count": 15,
     "metadata": {},
     "output_type": "execute_result"
    }
   ],
   "source": [
    "arr_tensor.type(dtype=torch.int32)"
   ]
  },
  {
   "cell_type": "markdown",
   "metadata": {
    "colab_type": "text",
    "id": "1iGggURKU0F1",
    "school_cell_uuid": "0647fad712b545ff82e8e4784f571ade"
   },
   "source": [
    "## 텐서 형상 변환"
   ]
  },
  {
   "cell_type": "markdown",
   "metadata": {
    "colab_type": "text",
    "id": "fMO1WZs0U0F2",
    "school_cell_uuid": "69c22cbfb7d740d692aa58becb153798"
   },
   "source": [
    "텐서의 형상을 변환(reshape)하려면 `.view()` 함수를 사용한다. "
   ]
  },
  {
   "cell_type": "code",
   "execution_count": 16,
   "metadata": {
    "colab": {
     "base_uri": "https://localhost:8080/",
     "height": 153
    },
    "colab_type": "code",
    "id": "SckmtD-PU0F3",
    "outputId": "31dbbd46-d9ec-43f9-d568-f8c7a4d0b92f",
    "school_cell_uuid": "2efae32b40834ae0a0a1ee71d215b810"
   },
   "outputs": [
    {
     "name": "stdout",
     "output_type": "stream",
     "text": [
      "tensor([[1., 1., 1.],\n",
      "        [1., 1., 1.],\n",
      "        [1., 1., 1.],\n",
      "        [1., 1., 1.]])\n",
      "tensor([[1., 1., 1., 1.],\n",
      "        [1., 1., 1., 1.],\n",
      "        [1., 1., 1., 1.]])\n",
      "tensor([1., 1., 1., 1., 1., 1., 1., 1., 1., 1., 1., 1.])\n"
     ]
    }
   ],
   "source": [
    "t1 = torch.ones(4, 3)\n",
    "t2 = t1.view(3, 4)\n",
    "t3 = t1.view(12)\n",
    "\n",
    "print(t1)\n",
    "print(t2)\n",
    "print(t3)"
   ]
  },
  {
   "cell_type": "markdown",
   "metadata": {
    "colab_type": "text",
    "id": "How5KWUdU0F7",
    "school_cell_uuid": "2520c9f0572f40e0bd9ad2b8f59aec6c"
   },
   "source": [
    "텐서의 차원을 늘리거나 줄일 때도 `.view()`함수를 쓴다."
   ]
  },
  {
   "cell_type": "code",
   "execution_count": 17,
   "metadata": {
    "colab": {
     "base_uri": "https://localhost:8080/",
     "height": 68
    },
    "colab_type": "code",
    "id": "lBM1Pg26U0F7",
    "outputId": "862f8098-8b2d-4729-f300-32f14fd89f12",
    "school_cell_uuid": "393af24ef93443d480a9d6c6f4e5960b"
   },
   "outputs": [
    {
     "data": {
      "text/plain": [
       "tensor([[[1., 1., 1., 1.],\n",
       "         [1., 1., 1., 1.],\n",
       "         [1., 1., 1., 1.]]])"
      ]
     },
     "execution_count": 17,
     "metadata": {},
     "output_type": "execute_result"
    }
   ],
   "source": [
    "t1.view(1, 3, 4)"
   ]
  },
  {
   "cell_type": "markdown",
   "metadata": {
    "colab_type": "text",
    "id": "PYKnLqQcU0F-",
    "school_cell_uuid": "2c8499f08d274d5397fd0ec832caddc0"
   },
   "source": [
    "`squeeze()` 명령이나 `unsqueeze()`를 사용해도 차원을 변환할 수 있다. \n",
    "`squeeze()`함수는 차원의 원소가 1인 차원을 없애주고, `unsqueeze()`함수는 인수로 받은 위치에 새로운 차원을 삽입한다. "
   ]
  },
  {
   "cell_type": "code",
   "execution_count": 18,
   "metadata": {
    "colab": {
     "base_uri": "https://localhost:8080/",
     "height": 34
    },
    "colab_type": "code",
    "id": "BEIVbk9SU0F_",
    "outputId": "c8790cf5-73f6-401f-b106-d5398c4b7b90",
    "school_cell_uuid": "5e8d442aabf04cdc9db3fcb4f0ed5899"
   },
   "outputs": [
    {
     "data": {
      "text/plain": [
       "torch.Size([1, 3, 3])"
      ]
     },
     "execution_count": 18,
     "metadata": {},
     "output_type": "execute_result"
    }
   ],
   "source": [
    "t4 = torch.rand(1, 3, 3)\n",
    "t4.shape"
   ]
  },
  {
   "cell_type": "code",
   "execution_count": 19,
   "metadata": {
    "school_cell_uuid": "ddd349fe0693454bba5344d35eece5b0"
   },
   "outputs": [
    {
     "data": {
      "text/plain": [
       "tensor([[0.9527, 0.0362, 0.1852],\n",
       "        [0.3734, 0.3051, 0.9320],\n",
       "        [0.1759, 0.2698, 0.1507]])"
      ]
     },
     "execution_count": 19,
     "metadata": {},
     "output_type": "execute_result"
    }
   ],
   "source": [
    "t4.squeeze()"
   ]
  },
  {
   "cell_type": "code",
   "execution_count": 20,
   "metadata": {
    "colab": {
     "base_uri": "https://localhost:8080/",
     "height": 34
    },
    "colab_type": "code",
    "id": "yaBty0r1U0GC",
    "outputId": "a5a8d665-91fa-4c1f-d9a7-5fdfae6915e9",
    "school_cell_uuid": "cc473905c63e43789c4dbb89a179ac1c"
   },
   "outputs": [
    {
     "data": {
      "text/plain": [
       "torch.Size([3, 3])"
      ]
     },
     "execution_count": 20,
     "metadata": {},
     "output_type": "execute_result"
    }
   ],
   "source": [
    "t5 = torch.rand(3, 3)\n",
    "t5.shape"
   ]
  },
  {
   "cell_type": "code",
   "execution_count": 21,
   "metadata": {
    "school_cell_uuid": "5877f5140d784fd0b6144a0d9125472a"
   },
   "outputs": [
    {
     "data": {
      "text/plain": [
       "torch.Size([1, 3, 3])"
      ]
     },
     "execution_count": 21,
     "metadata": {},
     "output_type": "execute_result"
    }
   ],
   "source": [
    "t5.unsqueeze(0).shape"
   ]
  },
  {
   "cell_type": "code",
   "execution_count": 22,
   "metadata": {
    "school_cell_uuid": "80b68e33e4ee4515bacbd9e1269b5425"
   },
   "outputs": [
    {
     "data": {
      "text/plain": [
       "torch.Size([3, 1, 3])"
      ]
     },
     "execution_count": 22,
     "metadata": {},
     "output_type": "execute_result"
    }
   ],
   "source": [
    "t5.unsqueeze(1).shape"
   ]
  },
  {
   "cell_type": "markdown",
   "metadata": {
    "colab_type": "text",
    "id": "yiZxuyUuU0GF",
    "school_cell_uuid": "5daab21baefe4a19a4a213dfa115ab1f"
   },
   "source": [
    "## 복수의 텐서를 결합"
   ]
  },
  {
   "cell_type": "markdown",
   "metadata": {
    "colab_type": "text",
    "id": "kTpiDalPU0GF",
    "school_cell_uuid": "e0a11c9b7798414fa0c9fbf38822eb4a"
   },
   "source": [
    "복수의 텐서를 결합할 때는 `torch.cat()`을 사용한다. "
   ]
  },
  {
   "cell_type": "code",
   "execution_count": 23,
   "metadata": {
    "colab": {
     "base_uri": "https://localhost:8080/",
     "height": 102
    },
    "colab_type": "code",
    "id": "9ck-xSVSU0GG",
    "outputId": "70dcac93-88e5-4416-d0bf-0eb27a8a0ac2",
    "school_cell_uuid": "7ae94f1515fb44c7987f59651ba1491e"
   },
   "outputs": [
    {
     "data": {
      "text/plain": [
       "tensor([[1., 1., 1.],\n",
       "        [1., 1., 1.],\n",
       "        [0., 0., 0.],\n",
       "        [0., 0., 0.],\n",
       "        [0., 0., 0.]])"
      ]
     },
     "execution_count": 23,
     "metadata": {},
     "output_type": "execute_result"
    }
   ],
   "source": [
    "a = torch.ones(2, 3)\n",
    "b = torch.zeros(3, 3)\n",
    "\n",
    "torch.cat([a, b], dim=0)"
   ]
  },
  {
   "cell_type": "markdown",
   "metadata": {
    "colab_type": "text",
    "id": "SxGPzISBU0GL",
    "school_cell_uuid": "c7a1a135755a46c4bf6d4c8aab6d900a"
   },
   "source": [
    "## 텐서 분할"
   ]
  },
  {
   "cell_type": "markdown",
   "metadata": {
    "colab_type": "text",
    "id": "O02I8z_DU0GL",
    "school_cell_uuid": "044c147c82534d1d97b881421a272761"
   },
   "source": [
    "텐서를 여러개로 나눌 때는 `torch.chunk()`, `torch.split()` 명령을 사용한다."
   ]
  },
  {
   "cell_type": "code",
   "execution_count": 24,
   "metadata": {
    "colab": {
     "base_uri": "https://localhost:8080/",
     "height": 221
    },
    "colab_type": "code",
    "id": "t_AVIOULU0GM",
    "outputId": "69e8f432-5237-45c4-bf6a-089269de09bc",
    "school_cell_uuid": "5f5c48b04dfc450fbdd4e2648ad8fd11"
   },
   "outputs": [
    {
     "name": "stdout",
     "output_type": "stream",
     "text": [
      "tensor([[0.1387, 0.2422, 0.8155, 0.7932, 0.2783, 0.4820],\n",
      "        [0.8198, 0.9971, 0.6984, 0.5675, 0.8352, 0.2056],\n",
      "        [0.5932, 0.1123, 0.1535, 0.2417, 0.7262, 0.7011]])\n",
      "tensor([[0.1387, 0.2422],\n",
      "        [0.8198, 0.9971],\n",
      "        [0.5932, 0.1123]])\n",
      "tensor([[0.8155, 0.7932],\n",
      "        [0.6984, 0.5675],\n",
      "        [0.1535, 0.2417]])\n",
      "tensor([[0.2783, 0.4820],\n",
      "        [0.8352, 0.2056],\n",
      "        [0.7262, 0.7011]])\n"
     ]
    }
   ],
   "source": [
    "c = torch.rand(3, 6)\n",
    "c1, c2, c3 = torch.chunk(c, 3, dim=1)\n",
    "print(c)\n",
    "print(c1)\n",
    "print(c2)\n",
    "print(c3)"
   ]
  },
  {
   "cell_type": "code",
   "execution_count": 25,
   "metadata": {
    "colab": {
     "base_uri": "https://localhost:8080/",
     "height": 170
    },
    "colab_type": "code",
    "id": "ezp8U0CeU0GP",
    "outputId": "aadb22e3-7bd3-4415-8858-12062e4097e2",
    "school_cell_uuid": "ef2e7042f69347ae8061632c035dc9f9"
   },
   "outputs": [
    {
     "name": "stdout",
     "output_type": "stream",
     "text": [
      "tensor([[0.1387, 0.2422, 0.8155],\n",
      "        [0.8198, 0.9971, 0.6984],\n",
      "        [0.5932, 0.1123, 0.1535]])\n",
      "tensor([[0.7932, 0.2783, 0.4820],\n",
      "        [0.5675, 0.8352, 0.2056],\n",
      "        [0.2417, 0.7262, 0.7011]])\n"
     ]
    }
   ],
   "source": [
    "c1, c2 = torch.split(c, 3, dim=1)\n",
    "print(c1)\n",
    "print(c2)"
   ]
  },
  {
   "cell_type": "markdown",
   "metadata": {
    "colab_type": "text",
    "id": "3fJ6u6j2U0GR",
    "school_cell_uuid": "a8e21a14dd104781bac49af8710df10c"
   },
   "source": [
    "## 텐서 연산"
   ]
  },
  {
   "cell_type": "markdown",
   "metadata": {
    "colab_type": "text",
    "id": "KSMbaER1U0GS",
    "school_cell_uuid": "1102289a6080411ea00130b8e1f55a52"
   },
   "source": [
    "텐서 연산은 파이썬에서 사용하는 연산 기호를 사용하거나 torch의 함수를 사용한다. \n",
    "\n",
    "* `torch.add`: 덧셈\n",
    "* `torch.sub`: 뺄셈\n",
    "* `torch.mul`: 곱셉\n",
    "* `torch.div`: 나눗셈\n",
    "* `torch.mm`: 내적(dot product) \n"
   ]
  },
  {
   "cell_type": "code",
   "execution_count": 26,
   "metadata": {
    "colab": {
     "base_uri": "https://localhost:8080/",
     "height": 68
    },
    "colab_type": "code",
    "id": "PKC-CdU5U0GU",
    "outputId": "c84e7eaa-a38c-4f28-c805-e713df975edd",
    "school_cell_uuid": "3d5e113bc176424ca40c8289fd3e6c3e"
   },
   "outputs": [
    {
     "name": "stdout",
     "output_type": "stream",
     "text": [
      "tensor([[ 6,  8],\n",
      "        [10, 12]])\n",
      "tensor([[ 6,  8],\n",
      "        [10, 12]])\n",
      "tensor([[ 6,  8],\n",
      "        [10, 12]])\n"
     ]
    }
   ],
   "source": [
    "x = torch.from_numpy(np.array([[1, 2], [3, 4]]))\n",
    "y = torch.from_numpy(np.array([[5, 6], [7, 8]]))\n",
    "\n",
    "print(x + y)\n",
    "print(torch.add(x, y))\n",
    "print(x.add(y))"
   ]
  },
  {
   "cell_type": "code",
   "execution_count": 27,
   "metadata": {
    "school_cell_uuid": "522dabe623b246c69978ce9c865c466d"
   },
   "outputs": [
    {
     "name": "stdout",
     "output_type": "stream",
     "text": [
      "tensor([[ 5, 12],\n",
      "        [21, 32]])\n",
      "tensor([[ 5, 12],\n",
      "        [21, 32]])\n",
      "tensor([[ 6,  8],\n",
      "        [10, 12]])\n"
     ]
    }
   ],
   "source": [
    "print(x * y)\n",
    "print(torch.mul(x, y))\n",
    "print(x.add(y))"
   ]
  },
  {
   "cell_type": "code",
   "execution_count": 28,
   "metadata": {
    "school_cell_uuid": "16a854c9bf0a461393499b032c5a2b96"
   },
   "outputs": [
    {
     "name": "stdout",
     "output_type": "stream",
     "text": [
      "tensor([[19, 22],\n",
      "        [43, 50]])\n"
     ]
    }
   ],
   "source": [
    "print(torch.mm(x, y))"
   ]
  },
  {
   "cell_type": "markdown",
   "metadata": {
    "colab_type": "text",
    "id": "1V5np1sfU0GW",
    "school_cell_uuid": "bcf1bf13c8424331afc0ef946e4e6efd"
   },
   "source": [
    "## 인플레이스 연산"
   ]
  },
  {
   "cell_type": "markdown",
   "metadata": {
    "colab_type": "text",
    "id": "Q8k5KfrDU0GX",
    "school_cell_uuid": "a079c42fc2c942d9907abcb48c9e334d"
   },
   "source": [
    "명령어 뒤에 `_` 를 붙이면 자기 자신의 값을 바꾸는 인플레이스(inplace) 명령이 된다. 인플레이스 명령은 연산 결과를 반환하면서 동시에 자기 자신의 데이터를 고친다. "
   ]
  },
  {
   "cell_type": "code",
   "execution_count": 29,
   "metadata": {
    "colab": {
     "base_uri": "https://localhost:8080/",
     "height": 68
    },
    "colab_type": "code",
    "id": "mWL_JHsvU0GY",
    "outputId": "b49d33c7-5bdd-4ca0-9e1e-3f1659a46eda",
    "school_cell_uuid": "0b94db92270348fb91aff27faa39fae5"
   },
   "outputs": [
    {
     "name": "stdout",
     "output_type": "stream",
     "text": [
      "tensor([0, 1, 2, 3, 4])\n",
      "tensor([1, 3, 5, 7, 9])\n",
      "tensor([1, 3, 5, 7, 9])\n"
     ]
    }
   ],
   "source": [
    "x = torch.arange(0, 5)\n",
    "z = torch.arange(1, 6)\n",
    "\n",
    "print(x)\n",
    "print(x.add_(z))\n",
    "print(x)"
   ]
  },
  {
   "cell_type": "markdown",
   "metadata": {
    "colab_type": "text",
    "id": "OdWNh6N6U0Ge",
    "school_cell_uuid": "24121225905240119db09fd7cc82b3e8"
   },
   "source": [
    "1개의 원소를 가진 Tensor를 Python의 Scalar로 만들 때는 `.item()`함수를 사용한다. "
   ]
  },
  {
   "cell_type": "code",
   "execution_count": 30,
   "metadata": {
    "colab": {
     "base_uri": "https://localhost:8080/",
     "height": 34
    },
    "colab_type": "code",
    "id": "40u2bG9HU0Gf",
    "outputId": "b1497b01-66e8-4257-997b-a60ba7e7816f",
    "school_cell_uuid": "85fa09d186514724abe0b0e6fa27e05d"
   },
   "outputs": [
    {
     "name": "stdout",
     "output_type": "stream",
     "text": [
      "1\n"
     ]
    }
   ],
   "source": [
    "scl = torch.tensor(1)\n",
    "\n",
    "print(scl.item())"
   ]
  }
 ],
 "metadata": {
  "kernelspec": {
   "display_name": "Python 3",
   "language": "python",
   "name": "python3"
  },
  "language_info": {
   "codemirror_mode": {
    "name": "ipython",
    "version": 3
   },
   "file_extension": ".py",
   "mimetype": "text/x-python",
   "name": "python",
   "nbconvert_exporter": "python",
   "pygments_lexer": "ipython3",
   "version": "3.7.0"
  }
 },
 "nbformat": 4,
 "nbformat_minor": 2
}