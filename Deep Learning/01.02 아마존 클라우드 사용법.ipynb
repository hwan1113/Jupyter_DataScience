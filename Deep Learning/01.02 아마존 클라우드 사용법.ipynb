{
 "cells": [
  {
   "cell_type": "markdown",
   "metadata": {
    "school_cell_uuid": "23f506be6fb74b0a81c08a04f23cd455"
   },
   "source": [
    "# 아마존 클라우드 사용법"
   ]
  },
  {
   "cell_type": "markdown",
   "metadata": {
    "school_cell_uuid": "116ad33e274843ec90a49c166375686a"
   },
   "source": [
    "대부분의 딥러닝 모형은 GPU가 없어도 동작을 하지만 모형이 복잡할수록 학습속도가 느려진다. 딥러닝 모형을 빠르게 학습시키기 위해서는 GPU가 필요하다. 그러나 GPU는 가격이 비싸고 설치와 사용환경 설정도 어렵다. 그러나 아마존 클라우드 서비스를 사용하면 미리 설치된 GPU를 저렴한 가격에 바로 사용할 수 있다. 여기에서는 아마존 클라우드 서비스에서 GPU를 사용하는 기본적인 방법을 설명한다. \n",
    "\n",
    "우선 아마존 클라우드 서비스와 관련된 기본적인 용어를 소개한다.\n",
    "\n",
    "* AWS(Amazon Web Service): 아마존이 제공하는 클라우드 컴퓨팅 서비스. \n",
    "* EC2(Elastic Compute Cloud): AWS에서 제공하는 클라우드 컴퓨팅 서비스. 인스턴스(instance)라는 가상 컴퓨터를 사용할 수 있다.\n",
    "* AMI(Amazon Machine Image): 운영체제와 소프트웨어가 미리 설치되어 있는 EC2 인스턴스의 이미지. \n",
    "\n",
    "AWS는 인스턴스를 사용한 시간만큼만 요금을 지불하므로 학습용으로 적당하다. 본 내용을 학습하려면 AWS에 가입을 해야 한다. 가입을 위한 자세한 사항은 AWS 홈페이지를 참조한다. AWS를 사용할 때는 보안을 위해 반드시 MFA(Multi Factor Authentication) 설정을 해두기를 권장한다."
   ]
  },
  {
   "cell_type": "markdown",
   "metadata": {
    "school_cell_uuid": "fce42555cc7b4fd98e4fe6684a8d7479"
   },
   "source": [
    "## Deep Learning AMI 사용법"
   ]
  },
  {
   "cell_type": "markdown",
   "metadata": {
    "school_cell_uuid": "bffbfdca1cbb4e69b93a15ac7f01ba81"
   },
   "source": [
    "DLAMI(AWS Deep Learning AMI)는 AWS에서 제공하는 딥러닝용 AMI이다. DLAMI에는 최신 버전의 Apache MXNet, Caffe, Caffe2, Chainer, CNTK, Keras, PyTorch, TensorFlow, Theano 패키지가 설치되어 있고 각각 별도의 conda 환경으로 구성되어 사용자가 선택하여 사용할 수 있다.\n",
    "\n",
    "DMAMI를 사용하려면 AWS 콘솔을 통해 EC2 인스턴스를 만들어야 한다. 홈페이지에서 로그인 한 후 서비스 메뉴에서 \"EC2\"를 선택한다."
   ]
  },
  {
   "cell_type": "markdown",
   "metadata": {
    "school_cell_uuid": "c4bf58290984479994f99a4d2d9629e6"
   },
   "source": [
    "<img src=\"https://datascienceschool.net/upfiles/4c35a5dc6e214ba8a2f6ee8aabdc62a7.png\" style=\"width: 100%;\">"
   ]
  },
  {
   "cell_type": "markdown",
   "metadata": {
    "school_cell_uuid": "6973ec61a69e4454832c4aae3fd9510d",
    "sidetitle": true
   },
   "source": [
    "그림 5.16 : EC2 검색 화면"
   ]
  },
  {
   "cell_type": "markdown",
   "metadata": {
    "school_cell_uuid": "e40e553c46b5438faa40f95379a74103"
   },
   "source": [
    "다음과 같은 화면이 나올 것이다. 다음으로 박스 표시안의 \"인스턴스\" 메뉴를 클릭한다."
   ]
  },
  {
   "cell_type": "markdown",
   "metadata": {
    "school_cell_uuid": "1c6b457649bb40a6a43882d639d621d4"
   },
   "source": [
    "<img src=\"https://datascienceschool.net/upfiles/6cff8fddab5446e68563d9e755a7003b.png\" style=\"width: 100%;\">"
   ]
  },
  {
   "cell_type": "markdown",
   "metadata": {
    "school_cell_uuid": "92a3dc13f2a2468c846b6b321251d1c7",
    "sidetitle": true
   },
   "source": [
    "그림 5.17 : EC2 대시보드"
   ]
  },
  {
   "cell_type": "markdown",
   "metadata": {
    "school_cell_uuid": "cd4096f2fed2494aa93f4a8778f307b2"
   },
   "source": [
    "다음으로 \"인스턴스 시작\" 버튼을 클릭한다. "
   ]
  },
  {
   "cell_type": "markdown",
   "metadata": {
    "school_cell_uuid": "98540e0cc9d9412488ad9ec42265f047"
   },
   "source": [
    "<img src=\"https://datascienceschool.net/upfiles/9492c0a1d5f74233b02c3f6bdf22b48f.png\" style=\"width: 100%;\">"
   ]
  },
  {
   "cell_type": "markdown",
   "metadata": {
    "school_cell_uuid": "c0b08c1998434efcaeaa691b3662628d",
    "sidetitle": true
   },
   "source": [
    "그림 5.18 : 인스턴스 시작"
   ]
  },
  {
   "cell_type": "markdown",
   "metadata": {
    "school_cell_uuid": "1458c04e65a149da9553d9e338660a02"
   },
   "source": [
    "AMI 선택 화면에서 사이드바 메뉴의 \"AWS Marketplace\"를 클릭하고 DLAMI를 검색한다. "
   ]
  },
  {
   "cell_type": "markdown",
   "metadata": {
    "school_cell_uuid": "b58b29fb5d504f1a81c2ed435fc3f52c"
   },
   "source": [
    "<img src=\"https://datascienceschool.net/upfiles/438c960afcfd4c75b04c0ef1051eba7b.png\" style=\"width: 100%;\">\n"
   ]
  },
  {
   "cell_type": "markdown",
   "metadata": {
    "school_cell_uuid": "0f686049feaf44cfb6021858d0c9f221",
    "sidetitle": true
   },
   "source": [
    "그림 5.19 : AMI 선택 화면"
   ]
  },
  {
   "cell_type": "markdown",
   "metadata": {
    "school_cell_uuid": "e0fd0f3c5ed1427fa4e6216b3661af14"
   },
   "source": [
    "나열된 이미지 중에서 \"Deep Learnin AMI(Ubuntu)\"를 선택한다."
   ]
  },
  {
   "cell_type": "markdown",
   "metadata": {
    "school_cell_uuid": "d5add3c34a1e4352ab0332e6510d971c"
   },
   "source": [
    "<img src=\"https://datascienceschool.net/upfiles/cb998e6dc79e49a4ad5ab9c729d0f985.png\" style=\"width: 100%;\">"
   ]
  },
  {
   "cell_type": "markdown",
   "metadata": {
    "school_cell_uuid": "1d1beba7032840f78cda075c2c7291fe",
    "sidetitle": true
   },
   "source": [
    "그림 5.20 : AMI 선택 화면 2 "
   ]
  },
  {
   "cell_type": "markdown",
   "metadata": {
    "school_cell_uuid": "609d7ac018d548609f15a865f4bc7075"
   },
   "source": [
    "다음으로 인스턴스 유형을 선택한다. GPU가 지원되는 인스턴스 유형만 보고 싶다면, 필터링 기준을 \"GPU compute\"로 설정한다. \n",
    "범용 GPU 지원 인스턴스 유형으로는 p2 인스턴스나 p3 인스턴스가 있다. 여기서는 P3.2xlarge를 선택한다. P3.2xlarge는 NVIDIA Tesla V100 GPU를 1개 포함하는 인스턴스이다."
   ]
  },
  {
   "cell_type": "markdown",
   "metadata": {
    "school_cell_uuid": "6475e512f9a74d048bd771bbb84216ad"
   },
   "source": [
    "<img src=\"https://datascienceschool.net/upfiles/25064f8b55a842b3b85afd3aaedbbe08.png\" style=\"width: 100%;\">"
   ]
  },
  {
   "cell_type": "markdown",
   "metadata": {
    "school_cell_uuid": "ad093d1271794881abb7c28c642ddf0f",
    "sidetitle": true
   },
   "source": [
    "그림 5.21 : 인스턴스 유형 선택 화면 "
   ]
  },
  {
   "cell_type": "markdown",
   "metadata": {
    "school_cell_uuid": "fd15c113a72c44a094800ec265855048"
   },
   "source": [
    "인스턴스 유형을 선택한 뒤 일단 모든 것을 기본 설정으로 두고 \"시작\"을 클릭하여 인스턴스를 가동한다. "
   ]
  },
  {
   "cell_type": "markdown",
   "metadata": {
    "school_cell_uuid": "d122dcb5588e40748513e81a769a9a30"
   },
   "source": [
    "<img src=\"https://datascienceschool.net/upfiles/083f70e11eee48bfafa99d4f49fed8f0.png\" style=\"width: 100%;\">"
   ]
  },
  {
   "cell_type": "markdown",
   "metadata": {
    "school_cell_uuid": "3140cea868b44f54aa898f2ed25c33a6",
    "sidetitle": true
   },
   "source": [
    "그림 5.22 : 인스턴스 시작 검토"
   ]
  },
  {
   "cell_type": "markdown",
   "metadata": {
    "school_cell_uuid": "c115c533fe6e47a6906456aec3fffff7"
   },
   "source": [
    "인스턴스를 가동한 후에는 키페어(key pair)를 선택하는 화면이 나온다. 키페어는 여러분의 노트북에서 원격으로 인스턴스를 접속할 때 필요한 암호파일로 pem 확장자를 가진다.\n",
    "처음 AWS를 사용한다면 키페어를 생성하고 기존에 사용하던 키페어 파일이 있다면 이를 선택한 뒤 인스턴스 시작을 클릭한다. 인스턴스 상태가 \"pending\"에서 \"running\"이 되면 인스턴스를 사용할 수 있다.\n",
    "새로 키페어를 생성하면 다운로드 받았다면 다음 명령으로 키파일의 권한을 바꿔야 한다.\n",
    "\n",
    "```\n",
    "$ chmod 400 my_keypair.pem\n",
    "```"
   ]
  },
  {
   "cell_type": "markdown",
   "metadata": {
    "school_cell_uuid": "1ee05ec9ed284c2bac524654d08863f7"
   },
   "source": [
    "<img src=\"https://datascienceschool.net/upfiles/dbd95582600a4b10b16df8294017e08b.png\" style=\"width: 100%;\">"
   ]
  },
  {
   "cell_type": "markdown",
   "metadata": {
    "school_cell_uuid": "d81541a4750f4e8eb8ef0e185719f2c6",
    "sidetitle": true
   },
   "source": [
    "그림 5.23 : 인스턴스 시작"
   ]
  },
  {
   "cell_type": "markdown",
   "metadata": {
    "school_cell_uuid": "42f644641f35406ba934a5c2cf53e085"
   },
   "source": [
    "인스턴스가 가동을 시작하면 ssh(secure shell)를 사용하여 인스턴스에 접속할 수 있다. 이 때 5.8 박스표시 안의 IPv4 퍼블릭IP를 를 알고 있어야 한다. 또한 방금 만들었던 키페어 파일도 필요하다. "
   ]
  },
  {
   "cell_type": "markdown",
   "metadata": {
    "school_cell_uuid": "2bb34fad31494704983a9083484bd8c0"
   },
   "source": [
    "## 맥 OS X에서 인스턴스 접속"
   ]
  },
  {
   "cell_type": "markdown",
   "metadata": {
    "school_cell_uuid": "fcbdff5ee28e48349fb0bd2b3ba3ddfb"
   },
   "source": [
    "맥 OS X에서는 다음 명령으로 인스턴스에 접속할 수 있다.\n",
    "\n",
    "```\n",
    "$ ssh -i my_keypair.pem ubuntu@퍼블릭IP\n",
    "```\n",
    "\n",
    "비밀번호를 묻는 프롬프트가 나오면 키페어 파일을 만들 때 지정한 비밀번호를 입력한다."
   ]
  },
  {
   "cell_type": "markdown",
   "metadata": {
    "school_cell_uuid": "fd1962c51bd4482c82780fdeb5e30d85"
   },
   "source": [
    "<img src=\"https://datascienceschool.net/upfiles/a4e88dbf72aa4400b6ec51c9964b6ccf.png\" style=\"width: 100%;\">\n"
   ]
  },
  {
   "cell_type": "markdown",
   "metadata": {
    "school_cell_uuid": "ca33a66c6817467d8ccdda68bea27ee4",
    "sidetitle": true
   },
   "source": [
    "그림 5.24 : 인스턴스 접속"
   ]
  },
  {
   "cell_type": "markdown",
   "metadata": {
    "school_cell_uuid": "47af8887a5af42fc9a59400ed7457bec"
   },
   "source": [
    "## 윈도우에서 인스턴스 접속"
   ]
  },
  {
   "cell_type": "markdown",
   "metadata": {
    "school_cell_uuid": "a39da33a648840faa9da37bfe250c8ea"
   },
   "source": [
    "윈도우 운영체제에서는 PuTTY라는 프로그램으로 인스턴스에 접속한다. 우선 최신 버전의 PuTTY를 다운로드하여 설치한다. \n",
    "\n",
    "* https://www.chiark.greenend.org.uk/~sgtatham/putty/"
   ]
  },
  {
   "cell_type": "markdown",
   "metadata": {
    "school_cell_uuid": "6b76e19bd627406e87a6178c2e65c943"
   },
   "source": [
    "<img src=\"https://datascienceschool.net/upfiles/ea530eb8ff754671a59288b3b6027f71.png\" style=\"width: 50%;\">"
   ]
  },
  {
   "cell_type": "markdown",
   "metadata": {
    "school_cell_uuid": "9bf93a120a114ac9a5d3271019855c27"
   },
   "source": [
    "<img src=\"https://datascienceschool.net/upfiles/7f995a180dde496da3bba24bf37e00fb.png\" style=\"width: 50%;\">"
   ]
  },
  {
   "cell_type": "markdown",
   "metadata": {
    "school_cell_uuid": "acf83e96357d4931a066bf624823ec4d",
    "sidetitle": true
   },
   "source": [
    "그림 5.25: PuTTY 설치 과정 "
   ]
  },
  {
   "cell_type": "markdown",
   "metadata": {
    "school_cell_uuid": "f9f2340d022a4c80ab7c9759b4ed8b30"
   },
   "source": [
    "SSH client 프로그램인 PuTTY는 AWS 키페어 파일인 pem 파일을 사용하지 못하므로 같이 설치되는 PuTTYgen이라는 프로그램으로 .ppk 파일로 변환한다.\n",
    "\n",
    "우선 시작 메뉴에서 \"모든 프로그램\" > \"PuTTY\" > \"PuTTYgen\"를 선택하여 PuTTYgen을 실행한 후 \"Type of key to generate\"에서 \"RSA\"를 선택하고 \"Load\" 버튼을 클릭한다. 기본적으로 PuTTYgen에는 확장명이 ppk인 파일만 표시되기 때문에, pem 파일을 찾으려면 모든 유형의 파일을 표시하는 옵션을 선택한다. 마지막으로 my_keypair.pem 키파일을 선택하고, \"Save private key\" 버튼을 클릭하여, my_keypair.ppk 파일을 생성한다. 이름은 원래의 pem 파일과 같은 이름으로 한다. "
   ]
  },
  {
   "cell_type": "markdown",
   "metadata": {
    "school_cell_uuid": "478b9a2730964646ba018b1982627369"
   },
   "source": [
    "<img src=\"https://datascienceschool.net/upfiles/db283474ff494a888b74fd401e589789.png\" style=\"width: 50%;\">"
   ]
  },
  {
   "cell_type": "markdown",
   "metadata": {
    "school_cell_uuid": "e489333aa58b4f8eb898f3e786edd9db"
   },
   "source": [
    "<img src=\"https://datascienceschool.net/upfiles/d7ce9fb87d324a40bb48ae43c9e2e36e.png\" style=\"width: 100%;\">"
   ]
  },
  {
   "cell_type": "markdown",
   "metadata": {
    "school_cell_uuid": "3bab32e8b51940f3a4625dbc3979e008",
    "sidetitle": true
   },
   "source": [
    "그림 5.26 : PuTTYgen 실행 화면과 키페어 파일 변환 "
   ]
  },
  {
   "cell_type": "markdown",
   "metadata": {
    "school_cell_uuid": "d1885b3558ef421f826630bd9210813c"
   },
   "source": [
    "ppk 키 파일을 만들었으면 시작 메뉴에서 \"모든 프로그램\" > \"PuTTY\" > \"PuTTY\"를 선택하여 PuTTY를 실행 시킨다. Host Name(or IP address) 텍스트 박스에 \"ubuntu@퍼블릭IP\"를 입력하고 \"Connection type:\"에 \"SSH\"를 선택한다.\n",
    "\n",
    "다음으로 \"Category:\" 트리에서 \"Connection\" > \"SSH\" > \"Auth\"를 클릭한다.  오른쪽 \"Private key file for authentication\" 입력에서 \"Browse\"를 클릭하고 .ppk 파일을 선택한 다음 \"Open\"을 실행하면 인스턴스에 접속할 수 있다."
   ]
  },
  {
   "cell_type": "markdown",
   "metadata": {
    "school_cell_uuid": "500771fb49914ac38e5d63dbb175488b"
   },
   "source": [
    "<img src=\"https://datascienceschool.net/upfiles/6e5af95f799245f681880b888e79d22c.png\" style=\"width: 50%;\">"
   ]
  },
  {
   "cell_type": "markdown",
   "metadata": {
    "school_cell_uuid": "ff2b52504d4541cb813372e8ebeb9609"
   },
   "source": [
    "<img src=\"https://datascienceschool.net/upfiles/7a68adf5bfe840f881109d64e63dacfd.png\" style=\"width: 50%;\">"
   ]
  },
  {
   "cell_type": "markdown",
   "metadata": {
    "school_cell_uuid": "e3dcbe027c4344058700d73b2d397cba"
   },
   "source": [
    "<img src=\"https://datascienceschool.net/upfiles/8348830ffcfa4ff48bf8281f167b93f4.png\" style=\"width: 50%;\">"
   ]
  },
  {
   "cell_type": "markdown",
   "metadata": {
    "school_cell_uuid": "936da3bfc74d4fbcb832d5b349b47807"
   },
   "source": [
    "<img src=\"https://datascienceschool.net/upfiles/6f4a56a347004e4dbf66f5718ee497a0.png\" style=\"width: 100%;\">"
   ]
  },
  {
   "cell_type": "markdown",
   "metadata": {
    "school_cell_uuid": "5f6d3828c4ee448e91bd7a3d6791547e",
    "sidetitle": true
   },
   "source": [
    "그림 5.27 : PuTTY를 이용해 실행 중인 인스턴스에 접속하는 과정"
   ]
  },
  {
   "cell_type": "markdown",
   "metadata": {
    "school_cell_uuid": "d132cadb39464f7d8b4d0651a558eced"
   },
   "source": [
    "## conda 환경 사용법"
   ]
  },
  {
   "cell_type": "markdown",
   "metadata": {
    "school_cell_uuid": "47e5468447204950a0a4c38f5412af2b"
   },
   "source": [
    "DLAMI 인스턴스에 접속하면 그림 5.28에서 보이는 것처럼 사용할 수 있는 conda 환경의 목록과 각 환경을 실행시키는 명령어가 나온다."
   ]
  },
  {
   "cell_type": "markdown",
   "metadata": {
    "school_cell_uuid": "15de74489d434f719376aaf3c35137da"
   },
   "source": [
    "<img src=\"https://datascienceschool.net/upfiles/80c0769b112f41a68f5620260109a349.png\" style=\"width: 100%;\">"
   ]
  },
  {
   "cell_type": "markdown",
   "metadata": {
    "school_cell_uuid": "4eed8c6908094ca7a41e04a96de2cce1",
    "sidetitle": true
   },
   "source": [
    "그림 5.28 : DLAMI에서 사용할 수 있는 환경 목록"
   ]
  },
  {
   "cell_type": "markdown",
   "metadata": {
    "school_cell_uuid": "8300dc675ace4878943b6ca93b98c1f8"
   },
   "source": [
    "이 중 \"TensorFlow(+Keras2) with Python3(CUDA 9.0 and Intel MKL-DNN)\"을 실행시켜보자. 접속한 쉘에서 5.27에 나와 있는대로,다음의 명령어를 입력하여 환경을 설정한다.\n",
    "\n",
    "```\n",
    "$ source activate tensorflow_p36\n",
    "```\n",
    "\n",
    "환경이 설정되면 그림 5.29에서와 같이 프롬프트 앞에 `(tensorflow_p36)`라는 글자가 생겨난다. "
   ]
  },
  {
   "cell_type": "markdown",
   "metadata": {
    "school_cell_uuid": "d76f63daebe04d28b79b4aa604b679ec"
   },
   "source": [
    "<img src=\"https://datascienceschool.net/upfiles/1a52056a36144b969dfb18707d44ad2d.png\" style=\"width: 100%;\">"
   ]
  },
  {
   "cell_type": "markdown",
   "metadata": {
    "school_cell_uuid": "d0cb121825b54f829b58999f597dccb3",
    "sidetitle": true
   },
   "source": [
    "그림 5.29 : Tensorflow_p36 환경 실행 화면"
   ]
  },
  {
   "cell_type": "markdown",
   "metadata": {
    "school_cell_uuid": "0baf0f40acd54f1284dc6ad0ab865a99"
   },
   "source": [
    "환경 설정후에는 ipython에서 다음 명령을 실행하여 동작을 확인한다. \n",
    "\n",
    "```\n",
    "$ ipython \n",
    "\n",
    "In [1]: import tensorflow as tf\n",
    "   ...: hello = tf.constant('Hello, TensorFlow!')\n",
    "   ...: sess = tf.Session()\n",
    "   ...: print(sess.run(hello))\n",
    "```\n",
    "\n",
    "그림 5.30 와 같이 잘 실행된다면 환경이 제대로 구성되어 있는 것이다. "
   ]
  },
  {
   "cell_type": "markdown",
   "metadata": {
    "school_cell_uuid": "864b5a54cc5944eaa9af23d54f3413b2"
   },
   "source": [
    "<img src=\"https://datascienceschool.net/upfiles/d8702b69410745ad9a0cfa4782a8f967.png\" style=\"width: 100%;\">"
   ]
  },
  {
   "cell_type": "markdown",
   "metadata": {
    "school_cell_uuid": "4d3655ec6bd8426d9efdf745f2be96c7",
    "sidetitle": true
   },
   "source": [
    "그림 5.30 : Tensorflow_p36 환경 테스트 코드 결과"
   ]
  },
  {
   "cell_type": "markdown",
   "metadata": {
    "school_cell_uuid": "430f503cde814f72a571b5e0665d95b6"
   },
   "source": [
    "### 주피터 노트북 실행하기\n"
   ]
  },
  {
   "cell_type": "markdown",
   "metadata": {
    "school_cell_uuid": "9f1e74db680d49c68d798d55ce6265cf"
   },
   "source": [
    "마지막으로 AWS의 EC2 인스턴스에서 주피터 노트북(Jupyter notebook) 서비스를 실행하고 사용자의 노투북에서 웹으로 접속하여 개발할 수 있는 환경을 만든다. 지금부터 나오는 명령어는 SSH로 인스턴스에 접속한 상태에서 입력한다. \n",
    "\n",
    "(1) 주피터 설정 파일 생성\n",
    "\n",
    "아래의 명령어를 입력하여, 설정 파일을 생성한다. \n",
    "\n",
    "```\n",
    "$ jupyter notebook --generate-config\n",
    "```\n",
    "\n",
    "(2) 패스워드 생성\n",
    "\n",
    "나중에 Jupyter notebook에 접속할 때 사용할 패스워드를 생성한다. `sha1`로 시작하는 해시코드(hash code)를 복사해 둔다.\n",
    "\n",
    "```\n",
    "$ ipython \n",
    "\n",
    " In [1]: from notebook.auth import passwd\n",
    " In [2]: passwd()\n",
    " Enter password: 패스워드\n",
    " Verify password: 패스워드\n",
    " sha1:6600c5733ef3:b683d6afba16b3403fdf9a75ac38b7d8e7f733bb\n",
    " In [3]: exit\n",
    "```\n",
    "\n",
    "(3) https 적용을 위한 키파일 생성\n",
    "\n",
    "다음 명령으로 자기인증(self-signed) 키파일을 생성한다. 혼자 사용하는 것이라면 아무렇게나 입력해도 된다.\n",
    "\n",
    "```\n",
    "$ openssl req -x509 -nodes -days 365 -newkey rsa:1024 -keyout cert.pem -out cert.pem\n",
    "\n",
    "Country Name (2 letter code) [AU]: KO\n",
    "State or Province Name (full name) [Some-State]: Seoul\n",
    "Locality Name (eg, city) []: Seoul\n",
    "Organization Name (eg, company) [Internet Widgits Pty Ltd]: Datascience\n",
    "Organizational Unit Name (eg, section) []: datascience\n",
    "Common Name (e.g. server FQDN or YOUR name) []: YourName\n",
    "Email Address []: youremail@gmail.com\n",
    "```\n",
    "\n",
    "(4) Jupyter 설정 파일 수정\n",
    "\n",
    "Jupyter 설정 파일을 수정하려면\n",
    "   \n",
    "  - 암호화된 패스워드 \n",
    "  - 생성한 키파일의 위치 정보\n",
    "      \n",
    "이 필요하다. vi 에디터로 주피터 설정 파일을 열어 준다. \n",
    "\n",
    "```\n",
    "$ sudo vi /home/ubuntu/.jupyter/jupyter_notebook_config.py\n",
    "```\n",
    "\n",
    "파일의 가장 아래로 가서 키보드 `i`를 누른다. 화면 가장 아래 부분에 `-- INSERT --`가 생기면 다음과 같이 편집한다.\n",
    "\n",
    "```\n",
    "c.NotebookApp.ip = '0.0.0.0'\n",
    "c.NotebookApp.open_browser = False \n",
    "c.NotebookApp.password = 'sha1:6600c5733ef3:b683d6afba16b3403fdf9a75ac38b7d8e7f733bb'\n",
    "c.NotebookApp.certfile = '/home/ubuntu/cert.pem'\n",
    "c.NotebookApp.port = 8888\n",
    "```\n",
    "\n",
    "마지막 줄은 주피터 노트북을 연결하기위한 포트번호다. 보안을 위해서는 디폴트 포트번호인 8888이 아니라 다른 번호로 (예: 9999) 변경하는 것이 좋다.\n",
    "`ESC` 키를 눌러 vi의 명령어 모드로 나온 다음 `w` 키와 `q`를 눌러서 저장하고 vi 에디터를 종료한다. \n",
    "\n",
    "이제 다음 명령으로 주피터 노트북 서비스를 시작한다.\n",
    "\n",
    "```\n",
    "$ nohup jupyter notebook & \n",
    "```"
   ]
  },
  {
   "cell_type": "markdown",
   "metadata": {
    "school_cell_uuid": "8096ca22e605442cb9eb9b6ddb3998e8"
   },
   "source": [
    "주피터 노트북 서비스를 시작했지만 외부에서 웹브라우저로 접속하려면 다음과 같이 방화벽에서 8888번 (또는 사용자가 지정한 다른) 포트를 열어야 한다.\n",
    "\n",
    "1. EC2 대쉬보드에서 \"네트워크 및 보안\" > \"보안 그룹\"을 선택한다.  \n",
    "2. 보안 그룹 목록에서 설정하려는 인스턴스와 연결되어 있는 보안그룹의 박스를 체크한다. \n",
    "3. 화면 아래에 \"설명\", \"인바운드\", \"아웃바운드\", \"태그\"라는 카테고리가 보일 것이다. 이 중 \"인바운드\"를 클릭한다. \n",
    "4. \"인바운드\"를 클릭하면 22 번 포트가 열려 있는 것을 볼 수 있다. 22번 포트는 인스턴스가 만들어질 때 자동으로 설정된다. \n",
    "5. \"편집\"을 클릭하고 그림 5.32와 같이 설정한 후 저장한다.  \n",
    "    - 유형 : 사용자 지정 TCP 규칙 \n",
    "    - 프로토콜 : TCP\n",
    "    - 포트범위 : 8888 \n",
    "    - 소스 : 내 IP "
   ]
  },
  {
   "cell_type": "markdown",
   "metadata": {
    "school_cell_uuid": "b39ce21b2f974b3e996c6b18e5ff7f38"
   },
   "source": [
    "<img src=\"https://datascienceschool.net/upfiles/72604901812d404da4a196dfdddd2cb3.png\" style=\"width: 100%;\">"
   ]
  },
  {
   "cell_type": "markdown",
   "metadata": {
    "school_cell_uuid": "794be8072e68411c9845b6c93979c7f8",
    "sidetitle": true
   },
   "source": [
    "그림 5.31 : 보안 그룹 화면 "
   ]
  },
  {
   "cell_type": "markdown",
   "metadata": {
    "school_cell_uuid": "851a1cfe6baf4217a17db26667dbd964"
   },
   "source": [
    "<img src=\"https://datascienceschool.net/upfiles/1299f06b94ff4be3a85d8f4139de8407.png\" style=\"width: 100%;\">"
   ]
  },
  {
   "cell_type": "markdown",
   "metadata": {
    "school_cell_uuid": "984526cbb42f455b9ec637f21f474f83",
    "sidetitle": true
   },
   "source": [
    "그림 5.32 : 인바운드 규칙 편집 화면 "
   ]
  },
  {
   "cell_type": "markdown",
   "metadata": {
    "school_cell_uuid": "6d17744dded145c3a236d01a09ae4fb4"
   },
   "source": [
    "이제 인스턴스에서 사용자 노트북의 웹 브라우져 주소창에 `https://퍼블릭IP:8888`를 입력하면 주피터 노트북에 접속할 수 있다.\n",
    "\n",
    "자기 인증(self-signe) 인증서를 사용하였기 때문에 그림 5.33처럼 접속 경고가 나올 수 있다. 경고를 무시하고 \"ADVANCED\"를 클릭하고 \"proceed to ...\"를 클릭하면 우리가 가동시킨 주피터 노트북 서비스에 접속할 수 있다."
   ]
  },
  {
   "cell_type": "markdown",
   "metadata": {
    "school_cell_uuid": "3d99a5ea393642b4b3c3165be74170c2"
   },
   "source": [
    "<img src=\"https://datascienceschool.net/upfiles/d1d988d2c792450bb33482ffe98788eb.png\" style=\"width: 50%;\">\n",
    "<img src=\"https://datascienceschool.net/upfiles/01f1aed0da634ac6a7ed0a98472e77e4.png\" style=\"width: 50%;\">"
   ]
  },
  {
   "cell_type": "markdown",
   "metadata": {
    "school_cell_uuid": "c249f2b6acf04b638b46390b3839b1a6",
    "sidetitle": true
   },
   "source": [
    "그림 5.33 : 보안 경고 메세지 화면"
   ]
  },
  {
   "cell_type": "markdown",
   "metadata": {
    "school_cell_uuid": "ca90bc85c6ed49799d745ea00361cc35"
   },
   "source": [
    "Password를 입력하는 화면(그림 5.34)이 나오면 비밀번호를 넣는다. "
   ]
  },
  {
   "cell_type": "markdown",
   "metadata": {
    "school_cell_uuid": "c72381f354db449db89736145d995493"
   },
   "source": [
    "<img src=\"https://datascienceschool.net/upfiles/524682362b284adcb11bac3f9ae1035f.png\" style=\"width: 50%;\">"
   ]
  },
  {
   "cell_type": "markdown",
   "metadata": {
    "school_cell_uuid": "ed9e222e2d644e34a82a953c3f03ebad",
    "sidetitle": true
   },
   "source": [
    "그림 5.34 : Jupyter notebook 패스워드 입력 화면 "
   ]
  },
  {
   "cell_type": "markdown",
   "metadata": {
    "school_cell_uuid": "2704ccf71ac84a098d47cffe512e750c"
   },
   "source": [
    "이제 Jupyter notebook을 사용할 수 있다. "
   ]
  },
  {
   "cell_type": "markdown",
   "metadata": {
    "school_cell_uuid": "264124c5212f451e82415ed2f9ea635b"
   },
   "source": [
    "<img src=\"https://datascienceschool.net/upfiles/a52c32b65d614b37af459e732de1e969.png\" style=\"width: 100%;\">"
   ]
  },
  {
   "cell_type": "markdown",
   "metadata": {
    "school_cell_uuid": "efb2193e5d1d4254986ad6281c39d460",
    "sidetitle": true
   },
   "source": [
    "그림 5.35 : Jupyter notebook"
   ]
  },
  {
   "cell_type": "markdown",
   "metadata": {
    "school_cell_uuid": "24934637dff74311ab309c99f047f6ee"
   },
   "source": [
    "사용이 끝난 후에는 EC2 인스턴스를 종료해서 추가적인 요금이 발생하지 않도록 주의한다."
   ]
  }
 ],
 "metadata": {
  "celltoolbar": "Edit Metadata",
  "kernelspec": {
   "display_name": "Python 3",
   "language": "python",
   "name": "python3"
  },
  "language_info": {
   "codemirror_mode": {
    "name": "ipython",
    "version": 3
   },
   "file_extension": ".py",
   "mimetype": "text/x-python",
   "name": "python",
   "nbconvert_exporter": "python",
   "pygments_lexer": "ipython3",
   "version": "3.6.8"
  }
 },
 "nbformat": 4,
 "nbformat_minor": 1
}