{
 "cells": [
  {
   "cell_type": "code",
   "execution_count": 1,
   "metadata": {
    "colab": {
     "base_uri": "https://localhost:8080/",
     "height": 479
    },
    "colab_type": "code",
    "executionInfo": {
     "elapsed": 7593,
     "status": "ok",
     "timestamp": 1566959198548,
     "user": {
      "displayName": "Joel Kim",
      "photoUrl": "https://lh3.googleusercontent.com/a-/AAuE7mBN0WXo-0bYWXp5kx-AVZ6SaStj7WDcoC2A1QPiTYM=s64",
      "userId": "03446664688650714943"
     },
     "user_tz": -540
    },
    "id": "BjD7qadNksXe",
    "outputId": "30824e65-91a5-4caf-a214-b567341b59ab",
    "school_cell_uuid": "30a86932c31443ac852cee3238da9a0f"
   },
   "outputs": [
    {
     "name": "stdout",
     "output_type": "stream",
     "text": [
      "Requirement already satisfied: tensorflow-gpu==2.0.0-rc in /usr/local/lib/python3.6/dist-packages (2.0.0rc0)\n",
      "Requirement already satisfied: six>=1.10.0 in /usr/local/lib/python3.6/dist-packages (from tensorflow-gpu==2.0.0-rc) (1.12.0)\n",
      "Requirement already satisfied: keras-applications>=1.0.8 in /usr/local/lib/python3.6/dist-packages (from tensorflow-gpu==2.0.0-rc) (1.0.8)\n",
      "Requirement already satisfied: protobuf>=3.6.1 in /usr/local/lib/python3.6/dist-packages (from tensorflow-gpu==2.0.0-rc) (3.7.1)\n",
      "Requirement already satisfied: tf-estimator-nightly<1.14.0.dev2019080602,>=1.14.0.dev2019080601 in /usr/local/lib/python3.6/dist-packages (from tensorflow-gpu==2.0.0-rc) (1.14.0.dev2019080601)\n",
      "Requirement already satisfied: astor>=0.6.0 in /usr/local/lib/python3.6/dist-packages (from tensorflow-gpu==2.0.0-rc) (0.8.0)\n",
      "Requirement already satisfied: termcolor>=1.1.0 in /usr/local/lib/python3.6/dist-packages (from tensorflow-gpu==2.0.0-rc) (1.1.0)\n",
      "Requirement already satisfied: wheel>=0.26 in /usr/local/lib/python3.6/dist-packages (from tensorflow-gpu==2.0.0-rc) (0.33.4)\n",
      "Requirement already satisfied: google-pasta>=0.1.6 in /usr/local/lib/python3.6/dist-packages (from tensorflow-gpu==2.0.0-rc) (0.1.7)\n",
      "Requirement already satisfied: opt-einsum>=2.3.2 in /usr/local/lib/python3.6/dist-packages (from tensorflow-gpu==2.0.0-rc) (3.0.1)\n",
      "Requirement already satisfied: absl-py>=0.7.0 in /usr/local/lib/python3.6/dist-packages (from tensorflow-gpu==2.0.0-rc) (0.7.1)\n",
      "Requirement already satisfied: numpy<2.0,>=1.16.0 in /usr/local/lib/python3.6/dist-packages (from tensorflow-gpu==2.0.0-rc) (1.16.4)\n",
      "Requirement already satisfied: gast>=0.2.0 in /usr/local/lib/python3.6/dist-packages (from tensorflow-gpu==2.0.0-rc) (0.2.2)\n",
      "Requirement already satisfied: keras-preprocessing>=1.0.5 in /usr/local/lib/python3.6/dist-packages (from tensorflow-gpu==2.0.0-rc) (1.1.0)\n",
      "Requirement already satisfied: grpcio>=1.8.6 in /usr/local/lib/python3.6/dist-packages (from tensorflow-gpu==2.0.0-rc) (1.15.0)\n",
      "Requirement already satisfied: tb-nightly<1.15.0a20190807,>=1.15.0a20190806 in /usr/local/lib/python3.6/dist-packages (from tensorflow-gpu==2.0.0-rc) (1.15.0a20190806)\n",
      "Requirement already satisfied: wrapt>=1.11.1 in /usr/local/lib/python3.6/dist-packages (from tensorflow-gpu==2.0.0-rc) (1.11.2)\n",
      "Requirement already satisfied: h5py in /usr/local/lib/python3.6/dist-packages (from keras-applications>=1.0.8->tensorflow-gpu==2.0.0-rc) (2.8.0)\n",
      "Requirement already satisfied: setuptools in /usr/local/lib/python3.6/dist-packages (from protobuf>=3.6.1->tensorflow-gpu==2.0.0-rc) (41.2.0)\n",
      "Requirement already satisfied: werkzeug>=0.11.15 in /usr/local/lib/python3.6/dist-packages (from tb-nightly<1.15.0a20190807,>=1.15.0a20190806->tensorflow-gpu==2.0.0-rc) (0.15.5)\n",
      "Requirement already satisfied: markdown>=2.6.8 in /usr/local/lib/python3.6/dist-packages (from tb-nightly<1.15.0a20190807,>=1.15.0a20190806->tensorflow-gpu==2.0.0-rc) (3.1.1)\n",
      "Reading package lists...\n",
      "Building dependency tree...\n",
      "Reading state information...\n",
      "fonts-nanum is already the newest version (20170925-1).\n",
      "0 upgraded, 0 newly installed, 0 to remove and 14 not upgraded.\n"
     ]
    }
   ],
   "source": [
    "# 코랩에서는 다음 코드로 베타버전을 설치한다.\n",
    "!pip install tensorflow-gpu==2.0.0-rc\n",
    "!apt install -y -q fonts-nanum"
   ]
  },
  {
   "cell_type": "markdown",
   "metadata": {
    "colab_type": "text",
    "id": "njbDsWQjkmUd",
    "school_cell_uuid": "8f91670e121a43919f88ad4c1c3df5de"
   },
   "source": [
    "# 오토인코더"
   ]
  },
  {
   "cell_type": "markdown",
   "metadata": {
    "colab_type": "text",
    "id": "GXQFCwPHkmUe",
    "school_cell_uuid": "41d6e1d6d85344348d221fb54aa98aa6"
   },
   "source": [
    "오토인코더(autoencoder1)는 입력 데이터 그 자체를 예측 목표(target)로 하는 학습 방법이다. 히든 레이터의 변수를 입력 차원보다 작게 놓으면 압축(compression) 또는 차원 감소(dimension reduction) 효과를 가진다."
   ]
  },
  {
   "cell_type": "markdown",
   "metadata": {
    "colab_type": "text",
    "id": "CS1Q5HKbkmUf",
    "school_cell_uuid": "3520b6072ac64cadb6cf4f18f6989f83"
   },
   "source": [
    "<img src=\"https://datascienceschool.net/upfiles/aed3c00ec2554dceb3b6558e778612cb.jpeg\" width=\"100%\">"
   ]
  },
  {
   "cell_type": "code",
   "execution_count": 0,
   "metadata": {
    "colab": {},
    "colab_type": "code",
    "id": "O5qmsaS5kmUf",
    "school_cell_uuid": "5f107cc5f1914a319c14cee918047006"
   },
   "outputs": [],
   "source": [
    "import logging\n",
    "logging.getLogger(\"tensorflow\").setLevel(logging.ERROR)\n",
    "\n",
    "import tensorflow\n",
    "from tensorflow.keras.datasets import mnist\n",
    "import numpy as np\n",
    "\n",
    "(x_train_2d, _), (_, _) = mnist.load_data()\n",
    "x_train_2d = x_train_2d.astype(np.float32) / 255.0\n",
    "x_train = x_train_2d.reshape(60000, 784) "
   ]
  },
  {
   "cell_type": "code",
   "execution_count": 3,
   "metadata": {
    "colab": {
     "base_uri": "https://localhost:8080/",
     "height": 221
    },
    "colab_type": "code",
    "executionInfo": {
     "elapsed": 10270,
     "status": "ok",
     "timestamp": 1566959201236,
     "user": {
      "displayName": "Joel Kim",
      "photoUrl": "https://lh3.googleusercontent.com/a-/AAuE7mBN0WXo-0bYWXp5kx-AVZ6SaStj7WDcoC2A1QPiTYM=s64",
      "userId": "03446664688650714943"
     },
     "user_tz": -540
    },
    "id": "4cDxiCLjkmUh",
    "outputId": "9faf31b4-75fb-4513-83f3-d158fcf5e341",
    "school_cell_uuid": "6484a52812694d9a8a5a5dd665d0380d"
   },
   "outputs": [
    {
     "name": "stdout",
     "output_type": "stream",
     "text": [
      "Model: \"sequential\"\n",
      "_________________________________________________________________\n",
      "Layer (type)                 Output Shape              Param #   \n",
      "=================================================================\n",
      "dense (Dense)                (None, 32)                25120     \n",
      "_________________________________________________________________\n",
      "dense_1 (Dense)              (None, 784)               25872     \n",
      "=================================================================\n",
      "Total params: 50,992\n",
      "Trainable params: 50,992\n",
      "Non-trainable params: 0\n",
      "_________________________________________________________________\n"
     ]
    }
   ],
   "source": [
    "from tensorflow.keras.layers import Input, Dense\n",
    "from tensorflow.keras.models import Sequential\n",
    "\n",
    "autoencoder1 = Sequential()\n",
    "autoencoder1.add(Dense(32, input_dim=784, activation='relu'))\n",
    "autoencoder1.add(Dense(784, activation='sigmoid'))\n",
    "autoencoder1.compile(optimizer=\"adam\", loss=\"binary_crossentropy\")\n",
    "\n",
    "autoencoder1.summary()"
   ]
  },
  {
   "cell_type": "code",
   "execution_count": 4,
   "metadata": {
    "colab": {
     "base_uri": "https://localhost:8080/",
     "height": 51
    },
    "colab_type": "code",
    "executionInfo": {
     "elapsed": 58768,
     "status": "ok",
     "timestamp": 1566959249739,
     "user": {
      "displayName": "Joel Kim",
      "photoUrl": "https://lh3.googleusercontent.com/a-/AAuE7mBN0WXo-0bYWXp5kx-AVZ6SaStj7WDcoC2A1QPiTYM=s64",
      "userId": "03446664688650714943"
     },
     "user_tz": -540
    },
    "id": "DPGSJ5IbkmUk",
    "outputId": "25f57220-4822-43e9-eb8c-0c2a4d9a848d",
    "school_cell_uuid": "86ae116d4ce5440f892b9ab9ec5accbc"
   },
   "outputs": [
    {
     "name": "stdout",
     "output_type": "stream",
     "text": [
      "CPU times: user 1min, sys: 6.55 s, total: 1min 7s\n",
      "Wall time: 48.3 s\n"
     ]
    }
   ],
   "source": [
    "%%time\n",
    "history = autoencoder1.fit(x_train, x_train, epochs=50, batch_size=256, verbose=0)"
   ]
  },
  {
   "cell_type": "code",
   "execution_count": 0,
   "metadata": {
    "colab": {},
    "colab_type": "code",
    "id": "JE3wEvIO7kfN",
    "school_cell_uuid": "1a42057e60a047a0b9766005cc305957"
   },
   "outputs": [],
   "source": [
    "import matplotlib as mpl\n",
    "import matplotlib.pylab as plt\n",
    "\n",
    "mpl.rc('font', family='NanumGothic')\n",
    "mpl.rc('axes', unicode_minus=False)\n",
    "mpl.rc('figure', dpi=300)"
   ]
  },
  {
   "cell_type": "code",
   "execution_count": 6,
   "metadata": {
    "colab": {
     "base_uri": "https://localhost:8080/",
     "height": 297
    },
    "colab_type": "code",
    "executionInfo": {
     "elapsed": 59310,
     "status": "ok",
     "timestamp": 1566959250289,
     "user": {
      "displayName": "Joel Kim",
      "photoUrl": "https://lh3.googleusercontent.com/a-/AAuE7mBN0WXo-0bYWXp5kx-AVZ6SaStj7WDcoC2A1QPiTYM=s64",
      "userId": "03446664688650714943"
     },
     "user_tz": -540
    },
    "id": "cNyBzhTekmUm",
    "outputId": "85e982bd-b145-4b61-d133-984d00f82a0c",
    "school_cell_uuid": "204df95a21c84d51a2095a2158d73691"
   },
   "outputs": [
    {
     "data": {
      "image/png": "[encoded data removed]",
      "text/plain": [
       "<Figure size 720x288 with 8 Axes>"
      ]
     },
     "metadata": {
      "tags": []
     },
     "output_type": "display_data"
    }
   ],
   "source": [
    "%matplotlib inline\n",
    "\n",
    "n = 4\n",
    "x_train_recoverd = autoencoder1.predict(x_train[:n, :])\n",
    "plt.figure(figsize=(10, 4))\n",
    "for i in range(n):\n",
    "    plt.subplot(2, n, i + 1)\n",
    "    plt.imshow(x_train[i, :].reshape(28, 28))\n",
    "    plt.title(\"원본 이미지 {}\".format(i + 1))\n",
    "    plt.gray(); plt.axis(\"off\")\n",
    "    \n",
    "    plt.subplot(2, n, i + 1 + n)\n",
    "    plt.imshow(x_train_recoverd[i, :].reshape(28, 28))\n",
    "    plt.title(\"복원 이미지 {}\".format(i + 1))\n",
    "    plt.gray(); plt.axis(\"off\")\n",
    "\n",
    "plt.tight_layout()\n",
    "plt.show()"
   ]
  },
  {
   "cell_type": "code",
   "execution_count": 0,
   "metadata": {
    "colab": {},
    "colab_type": "code",
    "id": "30frfeeFkmUo",
    "school_cell_uuid": "e1df57cdea2e4d8c95d2ef15084dd83d"
   },
   "outputs": [],
   "source": [
    "from tensorflow.keras.models import Model\n",
    "\n",
    "encoder = Model(autoencoder1.input, autoencoder1.layers[0].output)"
   ]
  },
  {
   "cell_type": "code",
   "execution_count": 8,
   "metadata": {
    "colab": {
     "base_uri": "https://localhost:8080/",
     "height": 221
    },
    "colab_type": "code",
    "executionInfo": {
     "elapsed": 59295,
     "status": "ok",
     "timestamp": 1566959250290,
     "user": {
      "displayName": "Joel Kim",
      "photoUrl": "https://lh3.googleusercontent.com/a-/AAuE7mBN0WXo-0bYWXp5kx-AVZ6SaStj7WDcoC2A1QPiTYM=s64",
      "userId": "03446664688650714943"
     },
     "user_tz": -540
    },
    "id": "RKjC1ZXKkmUq",
    "outputId": "b71a2c37-9361-4e25-d1c3-8eaf19a0543b",
    "school_cell_uuid": "c9d5b927f94f4024a6d3375d2545e218"
   },
   "outputs": [
    {
     "name": "stdout",
     "output_type": "stream",
     "text": [
      "Model: \"model\"\n",
      "_________________________________________________________________\n",
      "Layer (type)                 Output Shape              Param #   \n",
      "=================================================================\n",
      "dense_input (InputLayer)     [(None, 784)]             0         \n",
      "_________________________________________________________________\n",
      "dense (Dense)                (None, 32)                25120     \n",
      "=================================================================\n",
      "Total params: 25,120\n",
      "Trainable params: 25,120\n",
      "Non-trainable params: 0\n",
      "_________________________________________________________________\n"
     ]
    }
   ],
   "source": [
    "encoder.summary()"
   ]
  },
  {
   "cell_type": "code",
   "execution_count": 0,
   "metadata": {
    "colab": {},
    "colab_type": "code",
    "id": "hvyOibTEkmUs",
    "school_cell_uuid": "479e782ab55642f7a644ff9e16e77224"
   },
   "outputs": [],
   "source": [
    "from tensorflow.keras.layers import Input\n",
    "\n",
    "input_decoder = Input(shape=(32,))\n",
    "decoder = Model(input_decoder, autoencoder1.layers[1](input_decoder))"
   ]
  },
  {
   "cell_type": "code",
   "execution_count": 10,
   "metadata": {
    "colab": {
     "base_uri": "https://localhost:8080/",
     "height": 221
    },
    "colab_type": "code",
    "executionInfo": {
     "elapsed": 59289,
     "status": "ok",
     "timestamp": 1566959250291,
     "user": {
      "displayName": "Joel Kim",
      "photoUrl": "https://lh3.googleusercontent.com/a-/AAuE7mBN0WXo-0bYWXp5kx-AVZ6SaStj7WDcoC2A1QPiTYM=s64",
      "userId": "03446664688650714943"
     },
     "user_tz": -540
    },
    "id": "j1pC0ke8kmUu",
    "outputId": "2a426ca3-59bb-4771-ecdd-ffe9627c30e3",
    "school_cell_uuid": "fbb5f9711b9f46e3b1cb4360d2aea734"
   },
   "outputs": [
    {
     "name": "stdout",
     "output_type": "stream",
     "text": [
      "Model: \"model_1\"\n",
      "_________________________________________________________________\n",
      "Layer (type)                 Output Shape              Param #   \n",
      "=================================================================\n",
      "input_1 (InputLayer)         [(None, 32)]              0         \n",
      "_________________________________________________________________\n",
      "dense_1 (Dense)              (None, 784)               25872     \n",
      "=================================================================\n",
      "Total params: 25,872\n",
      "Trainable params: 25,872\n",
      "Non-trainable params: 0\n",
      "_________________________________________________________________\n"
     ]
    }
   ],
   "source": [
    "decoder.summary()"
   ]
  },
  {
   "cell_type": "code",
   "execution_count": 11,
   "metadata": {
    "colab": {
     "base_uri": "https://localhost:8080/",
     "height": 369
    },
    "colab_type": "code",
    "executionInfo": {
     "elapsed": 60648,
     "status": "ok",
     "timestamp": 1566959251654,
     "user": {
      "displayName": "Joel Kim",
      "photoUrl": "https://lh3.googleusercontent.com/a-/AAuE7mBN0WXo-0bYWXp5kx-AVZ6SaStj7WDcoC2A1QPiTYM=s64",
      "userId": "03446664688650714943"
     },
     "user_tz": -540
    },
    "id": "fHeu1tZjkmUw",
    "outputId": "4446fb00-eca0-4266-9ae5-442ecf55b64c",
    "school_cell_uuid": "69e58e52140449479fc4010dc7af6d6f"
   },
   "outputs": [
    {
     "data": {
      "image/png": "[encoded data removed]",
      "text/plain": [
       "<Figure size 720x360 with 12 Axes>"
      ]
     },
     "metadata": {
      "tags": []
     },
     "output_type": "display_data"
    }
   ],
   "source": [
    "n = 4\n",
    "x_train_encoded = encoder.predict(x_train[:n, :])\n",
    "x_train_recoverd = decoder.predict(x_train_encoded)\n",
    "\n",
    "plt.figure(figsize=(10, 5))\n",
    "for i in range(n):\n",
    "    plt.subplot(3, n, i + 1)\n",
    "    plt.imshow(x_train[i, :].reshape(28, 28))\n",
    "    plt.title(\"원본 이미지 {}\".format(i + 1))\n",
    "    plt.gray(); plt.axis(\"off\")\n",
    "    \n",
    "    plt.subplot(3, n, i + 1 + n)\n",
    "    plt.imshow(x_train_encoded[i].reshape(1, 32), aspect=3)\n",
    "    plt.title(\"인코딩 벡터 {}\".format(i + 1))\n",
    "    plt.axis(\"off\")\n",
    "    \n",
    "    plt.subplot(3, n, i + 1 + 2 * n)\n",
    "    plt.imshow(x_train_recoverd[i, :].reshape(28, 28))\n",
    "    plt.title(\"복원 이미지 {}\".format(i + 1))\n",
    "    plt.gray(); plt.axis(\"off\")\n",
    "\n",
    "plt.tight_layout()\n",
    "plt.show()"
   ]
  },
  {
   "cell_type": "markdown",
   "metadata": {
    "colab_type": "text",
    "id": "_u3qtBpYkmUx",
    "school_cell_uuid": "a91e83e48eab42a9837cb0058c87b082"
   },
   "source": [
    "## 다층 오토인코더"
   ]
  },
  {
   "cell_type": "code",
   "execution_count": 0,
   "metadata": {
    "colab": {},
    "colab_type": "code",
    "id": "W8iOgqkVkmUy",
    "school_cell_uuid": "88f91fbd3ab04165921d339a5e11a6e5"
   },
   "outputs": [],
   "source": [
    "autoencoder2 = Sequential()\n",
    "autoencoder2.add(Dense(128, input_dim=784, activation='relu'))\n",
    "autoencoder2.add(Dense(64, activation='relu'))\n",
    "autoencoder2.add(Dense(32, activation='relu'))\n",
    "autoencoder2.add(Dense(64, activation='relu'))\n",
    "autoencoder2.add(Dense(128, activation='relu'))\n",
    "autoencoder2.add(Dense(784, activation='sigmoid'))\n",
    "autoencoder2.compile(optimizer=\"adam\", loss=\"binary_crossentropy\")"
   ]
  },
  {
   "cell_type": "code",
   "execution_count": 13,
   "metadata": {
    "colab": {
     "base_uri": "https://localhost:8080/",
     "height": 51
    },
    "colab_type": "code",
    "executionInfo": {
     "elapsed": 186016,
     "status": "ok",
     "timestamp": 1566959377031,
     "user": {
      "displayName": "Joel Kim",
      "photoUrl": "https://lh3.googleusercontent.com/a-/AAuE7mBN0WXo-0bYWXp5kx-AVZ6SaStj7WDcoC2A1QPiTYM=s64",
      "userId": "03446664688650714943"
     },
     "user_tz": -540
    },
    "id": "-AncZw31kmUz",
    "outputId": "b993e3db-8860-4e5c-fb04-81bcaf462e08",
    "school_cell_uuid": "99d9dae2970246c79222c594f05d8630"
   },
   "outputs": [
    {
     "name": "stdout",
     "output_type": "stream",
     "text": [
      "CPU times: user 2min 21s, sys: 18.6 s, total: 2min 40s\n",
      "Wall time: 2min 4s\n"
     ]
    }
   ],
   "source": [
    "%%time\n",
    "history = autoencoder2.fit(x_train, x_train, epochs=100, batch_size=256, verbose=0)"
   ]
  },
  {
   "cell_type": "code",
   "execution_count": 14,
   "metadata": {
    "colab": {
     "base_uri": "https://localhost:8080/",
     "height": 297
    },
    "colab_type": "code",
    "executionInfo": {
     "elapsed": 186011,
     "status": "ok",
     "timestamp": 1566959377031,
     "user": {
      "displayName": "Joel Kim",
      "photoUrl": "https://lh3.googleusercontent.com/a-/AAuE7mBN0WXo-0bYWXp5kx-AVZ6SaStj7WDcoC2A1QPiTYM=s64",
      "userId": "03446664688650714943"
     },
     "user_tz": -540
    },
    "id": "oLfsTHo0kmU1",
    "outputId": "33abef37-faa5-461e-b476-dc48f53e8b41",
    "school_cell_uuid": "994ff1d8b6084b1eb3e81b562c11585e"
   },
   "outputs": [
    {
     "data": {
      "image/png": "[encoded data removed]",
      "text/plain": [
       "<Figure size 720x288 with 8 Axes>"
      ]
     },
     "metadata": {
      "tags": []
     },
     "output_type": "display_data"
    }
   ],
   "source": [
    "n = 4\n",
    "x_train_recoverd = autoencoder2.predict(x_train[:n, :])\n",
    "plt.figure(figsize=(10, 4))\n",
    "for i in range(n):\n",
    "    plt.subplot(2, n, i + 1)\n",
    "    plt.imshow(x_train[i, :].reshape(28, 28))\n",
    "    plt.title(\"원본 이미지 {}\".format(i + 1))\n",
    "    plt.gray(); plt.axis(\"off\")\n",
    "    \n",
    "    plt.subplot(2, n, i + 1 + n)\n",
    "    plt.imshow(x_train_recoverd[i, :].reshape(28, 28))\n",
    "    plt.title(\"복원 이미지 {}\".format(i + 1))\n",
    "    plt.gray(); plt.axis(\"off\")\n",
    "\n",
    "plt.tight_layout()\n",
    "plt.show()"
   ]
  },
  {
   "cell_type": "markdown",
   "metadata": {
    "colab_type": "text",
    "id": "TnrGUBYVkmU3",
    "school_cell_uuid": "ffed62babf774ea0b5bc1771ebea739e"
   },
   "source": [
    "## CNN 오토인코더"
   ]
  },
  {
   "cell_type": "markdown",
   "metadata": {
    "colab_type": "text",
    "id": "CAgix9t_kmU4",
    "school_cell_uuid": "c0ae4d66124f441599d0713854bb906a"
   },
   "source": [
    "### 2D Deconvolution"
   ]
  },
  {
   "cell_type": "markdown",
   "metadata": {
    "colab_type": "text",
    "id": "R8I2-sTVkmU4",
    "school_cell_uuid": "b9e958372ddb47e7af5f94bae91fd6b9"
   },
   "source": [
    "<img src=\"https://datascienceschool.net/upfiles/d686c52b80934184bfcfa3fd7fb5ac6b.png\" width=\"100%\">"
   ]
  },
  {
   "cell_type": "markdown",
   "metadata": {
    "colab_type": "text",
    "id": "5LloloNMkmU5",
    "school_cell_uuid": "6981aab622304c6e8f8f2b2d6d01c25d"
   },
   "source": [
    "<img src=\"https://datascienceschool.net/upfiles/5b672c0d2bc7412985fbd1b4bc9f552b.png\" width=\"100%\">"
   ]
  },
  {
   "cell_type": "markdown",
   "metadata": {
    "colab_type": "text",
    "id": "6ANv-wGnkmU6",
    "school_cell_uuid": "1311eab103af4ba59f552dafd5edfc2d"
   },
   "source": [
    "<img src=\"https://datascienceschool.net/upfiles/ec5ffc268c4b4713aa4381af8340dd43.png\" width=\"100%\">"
   ]
  },
  {
   "cell_type": "markdown",
   "metadata": {
    "colab_type": "text",
    "id": "rJH3OGSYkmU6",
    "school_cell_uuid": "070d93865af647958eb0f0cfdf0767b2"
   },
   "source": [
    "<img src=\"https://datascienceschool.net/upfiles/bbbf3009acaa47828c86d64515e1af9b.png\" width=\"100%\">"
   ]
  },
  {
   "cell_type": "code",
   "execution_count": 15,
   "metadata": {
    "colab": {
     "base_uri": "https://localhost:8080/",
     "height": 425
    },
    "colab_type": "code",
    "executionInfo": {
     "elapsed": 186582,
     "status": "ok",
     "timestamp": 1566959377607,
     "user": {
      "displayName": "Joel Kim",
      "photoUrl": "https://lh3.googleusercontent.com/a-/AAuE7mBN0WXo-0bYWXp5kx-AVZ6SaStj7WDcoC2A1QPiTYM=s64",
      "userId": "03446664688650714943"
     },
     "user_tz": -540
    },
    "id": "eQccD5y2kmU7",
    "outputId": "754a2832-1045-40b9-e456-3ae20a288d51",
    "school_cell_uuid": "6d6a584cb02e4a1595a472bb6d3a8d4b"
   },
   "outputs": [
    {
     "name": "stdout",
     "output_type": "stream",
     "text": [
      "Model: \"sequential_2\"\n",
      "_________________________________________________________________\n",
      "Layer (type)                 Output Shape              Param #   \n",
      "=================================================================\n",
      "conv2d (Conv2D)              (None, 28, 28, 16)        160       \n",
      "_________________________________________________________________\n",
      "max_pooling2d (MaxPooling2D) (None, 14, 14, 16)        0         \n",
      "_________________________________________________________________\n",
      "conv2d_1 (Conv2D)            (None, 14, 14, 32)        4640      \n",
      "_________________________________________________________________\n",
      "max_pooling2d_1 (MaxPooling2 (None, 7, 7, 32)          0         \n",
      "_________________________________________________________________\n",
      "conv2d_transpose (Conv2DTran (None, 14, 14, 32)        9248      \n",
      "_________________________________________________________________\n",
      "conv2d_2 (Conv2D)            (None, 14, 14, 16)        4624      \n",
      "_________________________________________________________________\n",
      "conv2d_transpose_1 (Conv2DTr (None, 28, 28, 32)        4640      \n",
      "_________________________________________________________________\n",
      "conv2d_3 (Conv2D)            (None, 28, 28, 1)         289       \n",
      "=================================================================\n",
      "Total params: 23,601\n",
      "Trainable params: 23,601\n",
      "Non-trainable params: 0\n",
      "_________________________________________________________________\n"
     ]
    }
   ],
   "source": [
    "from tensorflow.keras.layers import Conv2D, Conv2DTranspose, MaxPooling2D\n",
    "\n",
    "autoencoder3 = Sequential()\n",
    "\n",
    "# 인코딩\n",
    "autoencoder3.add(Conv2D(16, 3, input_shape=(28, 28, 1), activation='relu', padding='same'))\n",
    "autoencoder3.add(MaxPooling2D(2, padding='same'))\n",
    "autoencoder3.add(Conv2D(32, 3, activation='relu', padding='same'))\n",
    "autoencoder3.add(MaxPooling2D(2, padding='same'))\n",
    "\n",
    "# 디코딩\n",
    "autoencoder3.add(Conv2DTranspose(32, 3, strides=2, padding='same'))\n",
    "autoencoder3.add(Conv2D(16, 3, activation='relu', padding='same'))\n",
    "autoencoder3.add(Conv2DTranspose(32, 3, strides=2, padding='same'))\n",
    "autoencoder3.add(Conv2D(1, 3, activation='relu', padding='same'))\n",
    "\n",
    "autoencoder3.compile(optimizer=\"adam\", loss=\"binary_crossentropy\")\n",
    "\n",
    "autoencoder3.summary()"
   ]
  },
  {
   "cell_type": "code",
   "execution_count": 16,
   "metadata": {
    "colab": {
     "base_uri": "https://localhost:8080/",
     "height": 51
    },
    "colab_type": "code",
    "executionInfo": {
     "elapsed": 293203,
     "status": "ok",
     "timestamp": 1566959484233,
     "user": {
      "displayName": "Joel Kim",
      "photoUrl": "https://lh3.googleusercontent.com/a-/AAuE7mBN0WXo-0bYWXp5kx-AVZ6SaStj7WDcoC2A1QPiTYM=s64",
      "userId": "03446664688650714943"
     },
     "user_tz": -540
    },
    "id": "oc6A9Q-ukmU8",
    "outputId": "0540025f-9197-4f70-9625-5f497e1f73da",
    "school_cell_uuid": "2f90b12c4f9d48eea199c39c2d1f930b"
   },
   "outputs": [
    {
     "name": "stdout",
     "output_type": "stream",
     "text": [
      "CPU times: user 1min 3s, sys: 21.5 s, total: 1min 25s\n",
      "Wall time: 1min 46s\n"
     ]
    }
   ],
   "source": [
    "%%time\n",
    "x_train_2d_c = np.expand_dims(x_train_2d, -1)\n",
    "history = autoencoder3.fit(x_train_2d_c, x_train_2d_c, epochs=20, batch_size=256, verbose=0)"
   ]
  },
  {
   "cell_type": "code",
   "execution_count": 17,
   "metadata": {
    "colab": {
     "base_uri": "https://localhost:8080/",
     "height": 297
    },
    "colab_type": "code",
    "executionInfo": {
     "elapsed": 293871,
     "status": "ok",
     "timestamp": 1566959484906,
     "user": {
      "displayName": "Joel Kim",
      "photoUrl": "https://lh3.googleusercontent.com/a-/AAuE7mBN0WXo-0bYWXp5kx-AVZ6SaStj7WDcoC2A1QPiTYM=s64",
      "userId": "03446664688650714943"
     },
     "user_tz": -540
    },
    "id": "AEmIqgTdkmU-",
    "outputId": "c5f924a0-9dac-4bf8-b0c8-aa7c1b11b2eb",
    "school_cell_uuid": "f91b96bdc36a4d36b55de704f8c620f8"
   },
   "outputs": [
    {
     "data": {
      "image/png": "[encoded data removed]",
      "text/plain": [
       "<Figure size 720x288 with 8 Axes>"
      ]
     },
     "metadata": {
      "tags": []
     },
     "output_type": "display_data"
    }
   ],
   "source": [
    "n = 4\n",
    "x_train_recoverd = autoencoder3.predict(x_train_2d_c[:n])\n",
    "plt.figure(figsize=(10, 4))\n",
    "for i in range(n):\n",
    "    plt.subplot(2, n, i + 1)\n",
    "    plt.imshow(x_train_2d[i])\n",
    "    plt.title(\"원본 이미지 {}\".format(i + 1))\n",
    "    plt.gray(); plt.axis(\"off\")\n",
    "    \n",
    "    plt.subplot(2, n, i + 1 + n)\n",
    "    plt.imshow(x_train_recoverd[i, :].reshape(28, 28))\n",
    "    plt.title(\"복원 이미지 {}\".format(i + 1))\n",
    "    plt.gray(); plt.axis(\"off\")\n",
    "\n",
    "plt.tight_layout()\n",
    "plt.show()"
   ]
  }
 ],
 "metadata": {
  "accelerator": "GPU",
  "colab": {
   "collapsed_sections": [],
   "name": "08.04 오토인코더.ipynb",
   "provenance": [],
   "version": "0.3.2"
  },
  "kernelspec": {
   "display_name": "Python 3",
   "name": "python3"
  },
  "language_info": {
   "codemirror_mode": {
    "name": "ipython",
    "version": 3
   },
   "file_extension": ".py",
   "mimetype": "text/x-python",
   "name": "python",
   "nbconvert_exporter": "python",
   "pygments_lexer": "ipython3",
   "version": "3.7.0"
  }
 },
 "nbformat": 4,
 "nbformat_minor": 0
}