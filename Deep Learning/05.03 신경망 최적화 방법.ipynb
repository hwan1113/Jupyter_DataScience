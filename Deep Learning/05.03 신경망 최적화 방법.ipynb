{
 "cells": [
  {
   "cell_type": "markdown",
   "metadata": {
    "school_cell_uuid": "6c6870d4196840ac8378976f6818df10"
   },
   "source": [
    "# 신경망 최적화 방법"
   ]
  },
  {
   "cell_type": "markdown",
   "metadata": {
    "school_cell_uuid": "647c7cd05df146ec91629a5ab8b3903d"
   },
   "source": [
    "## 기본 Gradient 방법"
   ]
  },
  {
   "cell_type": "markdown",
   "metadata": {
    "school_cell_uuid": "36ab03431aa24e20bd8c0ec04377cd59"
   },
   "source": [
    "$$ w_{k+1} = w_k - \\mu_k g(w_k) = w_k - v_k $$"
   ]
  },
  {
   "cell_type": "markdown",
   "metadata": {
    "school_cell_uuid": "eebe34e95ffa4672b88f6b84e2ea2d6f"
   },
   "source": [
    "## Decay"
   ]
  },
  {
   "cell_type": "markdown",
   "metadata": {
    "school_cell_uuid": "96db79ca5a544d9bbf464c8075d6c53d"
   },
   "source": [
    "* 스텝 사이즈를 감소"
   ]
  },
  {
   "cell_type": "markdown",
   "metadata": {
    "school_cell_uuid": "7e2cad43e164465eab59f04b73354e7a"
   },
   "source": [
    "$$ \\mu_{k+1} = \\mu_{k} \\dfrac{1}{1 + \\text{decay}} $$"
   ]
  },
  {
   "cell_type": "markdown",
   "metadata": {
    "school_cell_uuid": "804c09fa564143d89c4db46a43f9c290"
   },
   "source": [
    "<img src=\"https://datascienceschool.net/upfiles/9a3ba4fa93b14a398c5cf5929db6c34c.png\" style=\"width:100%;\">"
   ]
  },
  {
   "cell_type": "markdown",
   "metadata": {
    "school_cell_uuid": "fc5dfa77ae964e3d8700a3c06a87107e",
    "sidetitle": true
   },
   "source": [
    "그림 55.4: Decay"
   ]
  },
  {
   "cell_type": "markdown",
   "metadata": {
    "school_cell_uuid": "a36aff8be1b74dd1a8d05377fa4aacf3"
   },
   "source": [
    "## Momentum"
   ]
  },
  {
   "cell_type": "markdown",
   "metadata": {
    "school_cell_uuid": "54a4f4a469ca48849ffd54ba40477dd5"
   },
   "source": [
    "* 진행하던 방향으로 계속 진행"
   ]
  },
  {
   "cell_type": "markdown",
   "metadata": {
    "school_cell_uuid": "6517b54811fd482abfd5069723b874c9"
   },
   "source": [
    "$$ v_{k+1} = \\text{momentum} \\cdot v_k - \\mu_k g(w_k) $$"
   ]
  },
  {
   "cell_type": "markdown",
   "metadata": {
    "school_cell_uuid": "804c09fa564143d89c4db46a43f9c290"
   },
   "source": [
    "<img src=\"https://datascienceschool.net/upfiles/c9b98b7d3b2e43d89f94d2752aa20544.png\" style=\"width:100%;\">"
   ]
  },
  {
   "cell_type": "markdown",
   "metadata": {
    "school_cell_uuid": "6956e7f0ffae43cdba1994070eca5f0d",
    "sidetitle": true
   },
   "source": [
    "그림 55.5: Momentum"
   ]
  },
  {
   "cell_type": "markdown",
   "metadata": {
    "school_cell_uuid": "b48194829f3443818de27649ef5de9f8"
   },
   "source": [
    "## Nesterov momentum"
   ]
  },
  {
   "cell_type": "markdown",
   "metadata": {
    "school_cell_uuid": "ef3d37095f20438cb9f1a149375625e1"
   },
   "source": [
    "* Momentum 방식으로 이동한 후의 그레디언트를 이용"
   ]
  },
  {
   "cell_type": "markdown",
   "metadata": {
    "school_cell_uuid": "a008e275f10e411b9310884b03762383"
   },
   "source": [
    "$$ v_{k+1} = \\text{momentum} \\cdot v_k - \\mu_k g(w_k + \\text{momentum} \\cdot v_k) $$"
   ]
  },
  {
   "cell_type": "markdown",
   "metadata": {
    "school_cell_uuid": "804c09fa564143d89c4db46a43f9c290"
   },
   "source": [
    "<img src=\"https://datascienceschool.net/upfiles/7c07536ef8df4ef89701563afc50958d.png\" style=\"width:100%;\">"
   ]
  },
  {
   "cell_type": "markdown",
   "metadata": {
    "school_cell_uuid": "6601a0e96d0e4c1b9328bb1fd67e64a0",
    "sidetitle": true
   },
   "source": [
    "그림 55.6: Nesterov momentum"
   ]
  },
  {
   "cell_type": "markdown",
   "metadata": {
    "school_cell_uuid": "a168325449bb4fbfb3a36a635a07c360"
   },
   "source": [
    "## Adagrad"
   ]
  },
  {
   "cell_type": "markdown",
   "metadata": {
    "school_cell_uuid": "580570bbdacd4a159f943940b4c1c8c4"
   },
   "source": [
    "* **Ada**ptive **grad**ient 방법\n",
    "* 많이 이동한 가중치는 적게 변화"
   ]
  },
  {
   "cell_type": "markdown",
   "metadata": {
    "school_cell_uuid": "da12e405a6604b048613a1644fdd3a06"
   },
   "source": [
    "$$ G_{k+1} = G_k + g^2 $$"
   ]
  },
  {
   "cell_type": "markdown",
   "metadata": {
    "school_cell_uuid": "486e0ee4105442bea8cf3fb340355343"
   },
   "source": [
    "$$ w_{k+1} = w_k - \\dfrac{\\mu_k}{\\sqrt{G_k + \\epsilon}} g(w_k) $$"
   ]
  },
  {
   "cell_type": "markdown",
   "metadata": {
    "school_cell_uuid": "804c09fa564143d89c4db46a43f9c290"
   },
   "source": [
    "<img src=\"https://datascienceschool.net/upfiles/e2ea51859d9c4d7aa733ef8ccb4bc31f.png\" style=\"width:100%;\">"
   ]
  },
  {
   "cell_type": "markdown",
   "metadata": {
    "school_cell_uuid": "690de14884d14cf4a3b467ab76940236",
    "sidetitle": true
   },
   "source": [
    "그림 55.7: Adagrad"
   ]
  },
  {
   "cell_type": "markdown",
   "metadata": {
    "school_cell_uuid": "4b23ae2792f944589be4ce10210d8b92"
   },
   "source": [
    "## RMSProp"
   ]
  },
  {
   "cell_type": "markdown",
   "metadata": {
    "school_cell_uuid": "974c2e59fe5543dfb50ffb48723da606"
   },
   "source": [
    "* 누적 변화를 지수 평균으로 계산"
   ]
  },
  {
   "cell_type": "markdown",
   "metadata": {
    "school_cell_uuid": "505a7126045a4d0688a51fc6dda964b9"
   },
   "source": [
    "$$ G_{k+1} = \\gamma G_k + (1 - \\gamma) g^2 $$"
   ]
  },
  {
   "cell_type": "markdown",
   "metadata": {
    "school_cell_uuid": "f84ef72de78144e88a52f264aa509dff"
   },
   "source": [
    "$$ w_{k+1} = w_k - \\dfrac{\\mu_k}{\\sqrt{G_k + \\epsilon}} g(w_k) $$"
   ]
  },
  {
   "cell_type": "markdown",
   "metadata": {
    "school_cell_uuid": "804c09fa564143d89c4db46a43f9c290"
   },
   "source": [
    "<img src=\"https://datascienceschool.net/upfiles/42aaeb439f92442092325fc41f4acdb5.png\" style=\"width:100%;\">"
   ]
  },
  {
   "cell_type": "markdown",
   "metadata": {
    "school_cell_uuid": "240a68fbdf2d4d35a201345436cb2ea2",
    "sidetitle": true
   },
   "source": [
    "그림 55.8: RMSProp"
   ]
  },
  {
   "cell_type": "markdown",
   "metadata": {
    "school_cell_uuid": "f4b5ac6bd0bc4d218019282144d9b575"
   },
   "source": [
    "## AdaDelta"
   ]
  },
  {
   "cell_type": "markdown",
   "metadata": {
    "school_cell_uuid": "4d8abb0b16a84c1796db1d97992a6998"
   },
   "source": [
    "* 스텝 사이즈도 가중치의 누적 변화에 따라 감소"
   ]
  },
  {
   "cell_type": "markdown",
   "metadata": {
    "school_cell_uuid": "ebb7d81739864c7a977b355b44e97bda"
   },
   "source": [
    "$$ G_{k+1} = \\gamma G_k + (1 - \\gamma) g^2 $$"
   ]
  },
  {
   "cell_type": "markdown",
   "metadata": {
    "school_cell_uuid": "cdb658df268940ee9f4b91a1eb3a7fc8"
   },
   "source": [
    "$$ \\mu_{k+1} = \\gamma \\mu_k + (1 - \\gamma) \\Delta_k^2 $$"
   ]
  },
  {
   "cell_type": "markdown",
   "metadata": {
    "school_cell_uuid": "c35eb29570124a09bb54a8ed2f6c6d72"
   },
   "source": [
    "$$ \\Delta_k = \\dfrac{\\sqrt{\\mu_k + \\epsilon}}{\\sqrt{G_k + \\epsilon}} g(w_k) $$"
   ]
  },
  {
   "cell_type": "markdown",
   "metadata": {
    "school_cell_uuid": "a42f0f6e60e6403f960b957f3850b811"
   },
   "source": [
    "$$ w_{k+1} = w_k - \\Delta_k $$"
   ]
  },
  {
   "cell_type": "markdown",
   "metadata": {
    "school_cell_uuid": "804c09fa564143d89c4db46a43f9c290"
   },
   "source": [
    "<img src=\"https://datascienceschool.net/upfiles/0e4cbad34cce44fa8a3e5581f631dbfd.png\" style=\"width:100%;\">"
   ]
  },
  {
   "cell_type": "markdown",
   "metadata": {
    "school_cell_uuid": "416e0642547245bf89fead6612bd0c79",
    "sidetitle": true
   },
   "source": [
    "그림 55.9: AdaDelta"
   ]
  },
  {
   "cell_type": "markdown",
   "metadata": {
    "school_cell_uuid": "a4be35aba45d45c1b3be501b207917be"
   },
   "source": [
    "## Adam"
   ]
  },
  {
   "cell_type": "markdown",
   "metadata": {
    "school_cell_uuid": "976264103df949269ef07ea2c196efd3"
   },
   "source": [
    "* **Ada**ptive **m**omentum 방법"
   ]
  },
  {
   "cell_type": "markdown",
   "metadata": {
    "school_cell_uuid": "45c6ade3c36b40408be2cb101684f319"
   },
   "source": [
    "$$ G_{k+1} = \\gamma G_k + (1 - \\gamma) g^2 $$"
   ]
  },
  {
   "cell_type": "markdown",
   "metadata": {
    "school_cell_uuid": "f64a647c4ec64e84a62f633f0a241d03"
   },
   "source": [
    "$$ v_{k+1} = \\gamma_v v_k + (1 - \\gamma_v) g_k^2 $$"
   ]
  },
  {
   "cell_type": "markdown",
   "metadata": {
    "school_cell_uuid": "ea654817004b41cfb7d739a6e40e5274"
   },
   "source": [
    "$$ \\hat{G}_k = \\dfrac{G_k}{1 - \\beta_1} $$"
   ]
  },
  {
   "cell_type": "markdown",
   "metadata": {
    "school_cell_uuid": "bc1eacfa0eee4a6b84647e511ff59ce3"
   },
   "source": [
    "$$ \\hat{v}_k = \\dfrac{v_k}{1 - \\beta_2} $$"
   ]
  },
  {
   "cell_type": "markdown",
   "metadata": {
    "school_cell_uuid": "16da266be4eb4e99b87058db439e0240"
   },
   "source": [
    "$$ w_{k+1} = w_k - \\dfrac{\\mu_k}{\\sqrt{\\hat{G}_k + \\epsilon}} \\hat{v}_k $$"
   ]
  },
  {
   "cell_type": "markdown",
   "metadata": {
    "school_cell_uuid": "00a61b838ddb44c0b5b9da999ea9d47f"
   },
   "source": [
    "## 참고 자료"
   ]
  },
  {
   "cell_type": "markdown",
   "metadata": {
    "school_cell_uuid": "41632acd7dc642228e1679e214518d09"
   },
   "source": [
    "* http://www.denizyuret.com/2015/03/alec-radfords-animations-for.html"
   ]
  }
 ],
 "metadata": {
  "kernelspec": {
   "display_name": "Python 3",
   "language": "python",
   "name": "python3"
  },
  "language_info": {
   "codemirror_mode": {
    "name": "ipython",
    "version": 3
   },
   "file_extension": ".py",
   "mimetype": "text/x-python",
   "name": "python",
   "nbconvert_exporter": "python",
   "pygments_lexer": "ipython3",
   "version": "3.6.6"
  }
 },
 "nbformat": 4,
 "nbformat_minor": 2
}