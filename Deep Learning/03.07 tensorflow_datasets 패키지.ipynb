{
 "cells": [
  {
   "cell_type": "markdown",
   "metadata": {
    "school_cell_uuid": "c93cc9ca6c1e46c1a7a84094f9f83d34"
   },
   "source": [
    "## 3.7 tensorflow_datasets 패키지"
   ]
  },
  {
   "cell_type": "markdown",
   "metadata": {
    "school_cell_uuid": "771177207aac4ea8baca4e58aea9f1c3"
   },
   "source": [
    "텐서플로에서 예제 데이터는 tensorflow_datasets라는 별도의 패키지로 분리되어 있다. \n",
    "\n",
    "\n",
    "* https://www.tensorflow.org/datasets\n",
    "\n",
    "\n",
    "따라서 패키지 설치도 별도로 해야한다. tensorflow 패키지는 미리 설치되어 있어야 한다.\n",
    "\n",
    "```\n",
    "pip install tensorflow-datasets\n",
    "```\n",
    "\n",
    "보통 `tfds`라는 이름으로 임포트한다. "
   ]
  },
  {
   "cell_type": "code",
   "execution_count": 1,
   "metadata": {
    "school_cell_uuid": "d2919a4b15d74da89e5e957d78064975"
   },
   "outputs": [],
   "source": [
    "import tensorflow_datasets as tfds"
   ]
  },
  {
   "cell_type": "markdown",
   "metadata": {
    "school_cell_uuid": "f9549b25e8d84055b0978102f3645601"
   },
   "source": [
    "tensorflow_datasets 패키지는 다음과 같은 함수를 제공한다.\n",
    "\n",
    "* `list_builders()`: 데이터 목록 출력\n",
    "* `load()`: 데이터 로드"
   ]
  },
  {
   "cell_type": "markdown",
   "metadata": {
    "school_cell_uuid": "c249b7ef224d4fce9f45ee54bc6bd416"
   },
   "source": [
    "`list_builders()` 함수로 전체 데이터 목록을 볼 수 있다. 각 데이터에 대한 세부적인 내용은 카탈로그 웹사이트에서 확인할 수 있다.\n",
    "\n",
    "* https://www.tensorflow.org/datasets/catalog/overview"
   ]
  },
  {
   "cell_type": "code",
   "execution_count": 2,
   "metadata": {
    "school_cell_uuid": "c5ef339cffd849d9ac394ec76cd75cae"
   },
   "outputs": [
    {
     "data": {
      "text/plain": [
       "['abstract_reasoning',\n",
       " 'aflw2k3d',\n",
       " 'amazon_us_reviews',\n",
       " 'bair_robot_pushing_small',\n",
       " 'bigearthnet',\n",
       " 'binarized_mnist',\n",
       " 'binary_alpha_digits',\n",
       " 'caltech101',\n",
       " 'caltech_birds2010',\n",
       " 'caltech_birds2011',\n",
       " 'cats_vs_dogs',\n",
       " 'celeb_a',\n",
       " 'celeb_a_hq',\n",
       " 'chexpert',\n",
       " 'cifar10',\n",
       " 'cifar100',\n",
       " 'cifar10_corrupted',\n",
       " 'clevr',\n",
       " 'cnn_dailymail',\n",
       " 'coco',\n",
       " 'coco2014',\n",
       " 'coil100',\n",
       " 'colorectal_histology',\n",
       " 'colorectal_histology_large',\n",
       " 'curated_breast_imaging_ddsm',\n",
       " 'cycle_gan',\n",
       " 'deep_weeds',\n",
       " 'definite_pronoun_resolution',\n",
       " 'diabetic_retinopathy_detection',\n",
       " 'downsampled_imagenet',\n",
       " 'dsprites',\n",
       " 'dtd',\n",
       " 'dummy_dataset_shared_generator',\n",
       " 'dummy_mnist',\n",
       " 'emnist',\n",
       " 'eurosat',\n",
       " 'fashion_mnist',\n",
       " 'flores',\n",
       " 'food101',\n",
       " 'gap',\n",
       " 'glue',\n",
       " 'groove',\n",
       " 'higgs',\n",
       " 'horses_or_humans',\n",
       " 'image_label_folder',\n",
       " 'imagenet2012',\n",
       " 'imagenet2012_corrupted',\n",
       " 'imdb_reviews',\n",
       " 'iris',\n",
       " 'kitti',\n",
       " 'kmnist',\n",
       " 'lfw',\n",
       " 'lm1b',\n",
       " 'lsun',\n",
       " 'mnist',\n",
       " 'mnist_corrupted',\n",
       " 'moving_mnist',\n",
       " 'multi_nli',\n",
       " 'nsynth',\n",
       " 'omniglot',\n",
       " 'open_images_v4',\n",
       " 'oxford_flowers102',\n",
       " 'oxford_iiit_pet',\n",
       " 'para_crawl',\n",
       " 'patch_camelyon',\n",
       " 'pet_finder',\n",
       " 'quickdraw_bitmap',\n",
       " 'resisc45',\n",
       " 'rock_paper_scissors',\n",
       " 'rock_you',\n",
       " 'scene_parse150',\n",
       " 'shapes3d',\n",
       " 'smallnorb',\n",
       " 'snli',\n",
       " 'so2sat',\n",
       " 'squad',\n",
       " 'stanford_dogs',\n",
       " 'stanford_online_products',\n",
       " 'starcraft_video',\n",
       " 'sun397',\n",
       " 'super_glue',\n",
       " 'svhn_cropped',\n",
       " 'ted_hrlr_translate',\n",
       " 'ted_multi_translate',\n",
       " 'tf_flowers',\n",
       " 'titanic',\n",
       " 'trivia_qa',\n",
       " 'uc_merced',\n",
       " 'ucf101',\n",
       " 'visual_domain_decathlon',\n",
       " 'voc2007',\n",
       " 'wikipedia',\n",
       " 'wmt14_translate',\n",
       " 'wmt15_translate',\n",
       " 'wmt16_translate',\n",
       " 'wmt17_translate',\n",
       " 'wmt18_translate',\n",
       " 'wmt19_translate',\n",
       " 'wmt_t2t_translate',\n",
       " 'wmt_translate',\n",
       " 'xnli']"
      ]
     },
     "execution_count": 2,
     "metadata": {},
     "output_type": "execute_result"
    }
   ],
   "source": [
    "tfds.list_builders()"
   ]
  },
  {
   "cell_type": "markdown",
   "metadata": {
    "school_cell_uuid": "0b3d7c2bdd2142c3b1fa0defbafc731b"
   },
   "source": [
    "### `load()` 함수"
   ]
  },
  {
   "cell_type": "markdown",
   "metadata": {
    "school_cell_uuid": "453c30189149417fa6926dc75ea8c076"
   },
   "source": [
    "개별 데이터는 `load()` 함수로 로드한다. 반환된 데이터는 `tf.data.Dataset` 클래스 객체다. `load()` 함수의 사용법은 다음과 같다.\n",
    "\n",
    "* https://www.tensorflow.org/datasets/api_docs/python/tfds/load\n",
    "\n",
    "```\n",
    "load(\n",
    "    name,\n",
    "    split=None,\n",
    "    shuffle_files=None,\n",
    "    as_supervised=False,\n",
    "    with_info=False,\n",
    ")\n",
    "```\n",
    "\n",
    "* `name`: 목표 데이터의 이름.`list_builders()` 함수의 결과 중 하나.\n",
    "* `split`: `None`이면 모든 TRAIN, TEST 데이터를 딕셔너리로 반환한다. \n",
    "* `shuffle_files`: `True`면 데이터를 무작위로 섞는다.\n",
    "* `as_supervised`: `True`면 데이터를 (input, label) 튜플 형태로 반환한다. `False`면 데이터를 딕셔너리 형태로 반환한다.\n",
    "* `with_info`: `True`면 `DatasetInfo` 객체를 추가로 반환한다.\n",
    "\n"
   ]
  },
  {
   "cell_type": "markdown",
   "metadata": {
    "school_cell_uuid": "588fbffa7391474cac6f8891e92a51ab"
   },
   "source": [
    "`load()` 함수는 내부적으로 다음 세 가지 작업을 순차적으로 실시한다.\n",
    "\n",
    "1. 주어진 `name`에 대응하는 `tfds.core.DatasetBuilder` 객체를 생성한다.\n",
    "2. `tfds.core.DatasetBuilder` 객체의 `download_and_prepare()` 메서드를 호출하여 데이터를 다운로드 받는다.\n",
    "3. `as_dataset()` 메서드로 데이터를 반환한다.\n"
   ]
  },
  {
   "cell_type": "markdown",
   "metadata": {
    "school_cell_uuid": "0beef0cb63814ed7b062882f6523360d"
   },
   "source": [
    "### MINIST 이미지 데이터셋"
   ]
  },
  {
   "cell_type": "markdown",
   "metadata": {
    "school_cell_uuid": "c0160bb3092b46878dfda290c0beeeea"
   },
   "source": [
    "예를 들어 `name=\"mnist\"` 인수로 MNIST 이미지 데이터셋을 로드해보자. 다음 코드는 학습용 데이터와 검사용 데이터를 가진 딕셔너리를 출력한다."
   ]
  },
  {
   "cell_type": "code",
   "execution_count": 3,
   "metadata": {
    "school_cell_uuid": "5b04b3dcbea242c5a83287df0261b7e1"
   },
   "outputs": [
    {
     "data": {
      "text/plain": [
       "dict_keys(['test', 'train'])"
      ]
     },
     "execution_count": 3,
     "metadata": {},
     "output_type": "execute_result"
    }
   ],
   "source": [
    "data = tfds.load(\"mnist\", shuffle_files=False, as_supervised=False)\n",
    "data.keys()"
   ]
  },
  {
   "cell_type": "code",
   "execution_count": 4,
   "metadata": {
    "school_cell_uuid": "c35253c9cfc4424eb188b337c0739604"
   },
   "outputs": [],
   "source": [
    "train_data, test_data = data[\"train\"], data[\"test\"]"
   ]
  },
  {
   "cell_type": "markdown",
   "metadata": {
    "school_cell_uuid": "f867868d0c1c4f18a2083b55a9b17c9b"
   },
   "source": [
    "`tfds.Split` 객체를 사용하면 튜플로 바로 출력할 수도 있다."
   ]
  },
  {
   "cell_type": "code",
   "execution_count": 5,
   "metadata": {
    "school_cell_uuid": "c9045a73de7e44fc94b4a59e3122b712"
   },
   "outputs": [],
   "source": [
    "train_data, test_data = tfds.load(\n",
    "    \"mnist\", \n",
    "    split=(tfds.Split.TRAIN, tfds.Split.TEST), \n",
    "    shuffle_files=False, as_supervised=False)"
   ]
  },
  {
   "cell_type": "markdown",
   "metadata": {
    "school_cell_uuid": "be7bcbc81be34b36a11d1caf53b6feee"
   },
   "source": [
    "`tf.data.Dataset` 클래스 객체는 복수의 내부 컴포넌트를 가진다. 각 컴포넌트의 자료형과 크기는 `output_types`, `output_shapes` 속성으로 볼 수 있다."
   ]
  },
  {
   "cell_type": "code",
   "execution_count": 6,
   "metadata": {
    "school_cell_uuid": "b68ec8cd170a4284935445c6f78ebe52"
   },
   "outputs": [
    {
     "data": {
      "text/plain": [
       "{'image': tf.uint8, 'label': tf.int64}"
      ]
     },
     "execution_count": 6,
     "metadata": {},
     "output_type": "execute_result"
    }
   ],
   "source": [
    "train_data.output_types"
   ]
  },
  {
   "cell_type": "code",
   "execution_count": 7,
   "metadata": {
    "school_cell_uuid": "0c66050541844ebe812fd49f3dacb120"
   },
   "outputs": [
    {
     "data": {
      "text/plain": [
       "{'image': TensorShape([28, 28, 1]), 'label': TensorShape([])}"
      ]
     },
     "execution_count": 7,
     "metadata": {},
     "output_type": "execute_result"
    }
   ],
   "source": [
    "train_data.output_shapes"
   ]
  },
  {
   "cell_type": "markdown",
   "metadata": {
    "school_cell_uuid": "190520a879ca47b795b961303669e3a5"
   },
   "source": [
    "`tf.data.Dataset` 클래스 객체에서 데이터를 가져오려면 `batch()` 메서드로 한 번에 가져올 데이터의 수를 정하고 `iter()` 함수로 이터레이터를 만들어 데이터를 가져와야 한다."
   ]
  },
  {
   "cell_type": "code",
   "execution_count": 8,
   "metadata": {
    "school_cell_uuid": "9d7f02d145f74e93b27682542116e5c0"
   },
   "outputs": [],
   "source": [
    "data = []\n",
    "iterator = iter(train_data.batch(2))\n",
    "data.append(next(iterator))\n",
    "data.append(next(iterator))\n",
    "data.append(next(iterator))"
   ]
  },
  {
   "cell_type": "markdown",
   "metadata": {
    "school_cell_uuid": "2011265ba25c481fa97667be1653b712"
   },
   "source": [
    "위 코드에서는 data[0], data[1], data[2]에 각각 2개씩의 이미지 데이터와 라벨 데이터가 `Tensor` 자료형으로 들어간다. 각 이미지 데이터는 28x28 해상도의 흑백 이미지이므로 모양은 2x28x28x1이 된다. "
   ]
  },
  {
   "cell_type": "code",
   "execution_count": 9,
   "metadata": {
    "school_cell_uuid": "a9074b7a4b8643fcbf232eaa2d01bf21"
   },
   "outputs": [
    {
     "data": {
      "text/plain": [
       "dict_keys(['image', 'label'])"
      ]
     },
     "execution_count": 9,
     "metadata": {},
     "output_type": "execute_result"
    }
   ],
   "source": [
    "data[0].keys()"
   ]
  },
  {
   "cell_type": "code",
   "execution_count": 10,
   "metadata": {
    "school_cell_uuid": "baf6a6e2a4b9484785eb2405176bd49f"
   },
   "outputs": [
    {
     "data": {
      "text/plain": [
       "TensorShape([2, 28, 28, 1])"
      ]
     },
     "execution_count": 10,
     "metadata": {},
     "output_type": "execute_result"
    }
   ],
   "source": [
    "data[0][\"image\"].shape"
   ]
  },
  {
   "cell_type": "code",
   "execution_count": 11,
   "metadata": {
    "school_cell_uuid": "43b1c860d71e422b9567ec33576282c0"
   },
   "outputs": [
    {
     "data": {
      "text/plain": [
       "TensorShape([2])"
      ]
     },
     "execution_count": 11,
     "metadata": {},
     "output_type": "execute_result"
    }
   ],
   "source": [
    "data[0][\"label\"].shape"
   ]
  },
  {
   "cell_type": "code",
   "execution_count": 12,
   "metadata": {
    "school_cell_uuid": "737720c9a886421a97f3a9617eded7a1"
   },
   "outputs": [
    {
     "data": {
      "image/png": "[encoded data removed]",
      "text/plain": [
       "<Figure size 3000x600 with 6 Axes>"
      ]
     },
     "metadata": {
      "needs_background": "light"
     },
     "output_type": "display_data"
    }
   ],
   "source": [
    "plt.figure(figsize=(10, 2))\n",
    "for i in range(3):\n",
    "    for j in range(2):\n",
    "        plt.subplot(1, 6, 2 * i + j + 1)\n",
    "        plt.imshow(data[i][\"image\"][j, :, :, 0])\n",
    "        plt.axis(\"off\")\n",
    "plt.tight_layout()\n",
    "plt.show()"
   ]
  },
  {
   "cell_type": "markdown",
   "metadata": {
    "school_cell_uuid": "4d7e29d4aa4148018b572fee9e68a370"
   },
   "source": [
    "라벨 데이터는 원핫인코딩이 되지 않은 상태다."
   ]
  },
  {
   "cell_type": "code",
   "execution_count": 13,
   "metadata": {
    "school_cell_uuid": "775a4601d53f44fa997fa966c6944e6c"
   },
   "outputs": [
    {
     "data": {
      "text/plain": [
       "(array([3, 4]), array([7, 1]), array([9, 0]))"
      ]
     },
     "execution_count": 13,
     "metadata": {},
     "output_type": "execute_result"
    }
   ],
   "source": [
    "data[0][\"label\"].numpy(), data[1][\"label\"].numpy(), data[2][\"label\"].numpy()"
   ]
  },
  {
   "cell_type": "markdown",
   "metadata": {
    "school_cell_uuid": "58f7c39b348f4be5afb298ad71d29750"
   },
   "source": [
    "###  IMDB 리뷰 데이터셋 "
   ]
  },
  {
   "cell_type": "markdown",
   "metadata": {
    "school_cell_uuid": "652ddf16dc404aad8ae6951e20d5d79c"
   },
   "source": [
    "이번에는 텍스트 데이터인 IMDB 리뷰 데이터셋을 로드해보자. `tfds.Split.TRAIN.subsplit` 메서드를 사용하면 학습용 데이터를 다시 나누어 출력할 수도 있다."
   ]
  },
  {
   "cell_type": "code",
   "execution_count": 14,
   "metadata": {
    "school_cell_uuid": "25dfc838a529430bb1b6900922549bc2"
   },
   "outputs": [],
   "source": [
    "(train_data, validation_data), test_data = tfds.load(\n",
    "    name=\"imdb_reviews\", \n",
    "    split=(tfds.Split.TRAIN.subsplit([6, 4]), tfds.Split.TEST),\n",
    "    as_supervised=True)"
   ]
  },
  {
   "cell_type": "markdown",
   "metadata": {
    "school_cell_uuid": "06cc764c50d04713be256b8373d7c922"
   },
   "source": [
    "10개의 학습용 데이터를 살펴보자."
   ]
  },
  {
   "cell_type": "code",
   "execution_count": 15,
   "metadata": {
    "school_cell_uuid": "330d3761914244a6aeb7d3d266cce95d"
   },
   "outputs": [],
   "source": [
    "train_examples_batch, train_labels_batch = next(iter(train_data.batch(10)))"
   ]
  },
  {
   "cell_type": "markdown",
   "metadata": {
    "school_cell_uuid": "8221c47d3a0c461e913eb34709ed779e"
   },
   "source": [
    "문자열 데이터가 바이트열로 들어가 있기 때문에 `decode()` 메서드로 문자열로 변환해야 한다."
   ]
  },
  {
   "cell_type": "code",
   "execution_count": 16,
   "metadata": {
    "school_cell_uuid": "547b4e4ac50045998f5dcdaaa257b7ec"
   },
   "outputs": [
    {
     "data": {
      "text/plain": [
       "\"As a lifelong fan of Dickens, I have invariably been disappointed by adaptations of his novels.<br /><br />Although his works presented an extremely accurate re-telling of human life at every level in Victorian Britain, throughout them all was a pervasive thread of humour that could be both playful or sarcastic as the narrative dictated. In a way, he was a literary caricaturist and cartoonist. He could be serious and hilarious in the same sentence. He pricked pride, lampooned arrogance, celebrated modesty, and empathised with loneliness and poverty. It may be a cliché, but he was a people's writer.<br /><br />And it is the comedy that is so often missing from his interpretations. At the time of writing, Oliver Twist is being dramatised in serial form on BBC television. All of the misery and cruelty is their, but non of the humour, irony, and savage lampoonery. The result is just a dark, dismal experience: the story penned by a journalist rather than a novelist. It's not really Dickens at all.<br /><br />'Oliver!', on the other hand, is much closer to the mark. The mockery of officialdom is perfectly interpreted, from the blustering beadle to the drunken magistrate. The classic stand-off between the beadle and Mr Brownlow, in which the law is described as 'a ass, a idiot' couldn't have been better done. Harry Secombe is an ideal choice.<br /><br />But the blinding cruelty is also there, the callous indifference of the state, the cold, hunger, poverty and loneliness are all presented just as surely as The Master would have wished.<br /><br />And then there is crime. Ron Moody is a treasure as the sleazy Jewish fence, whilst Oliver Reid has Bill Sykes to perfection.<br /><br />Perhaps not surprisingly, Lionel Bart - himself a Jew from London's east-end - takes a liberty with Fagin by re-interpreting him as a much more benign fellow than was Dicken's original. In the novel, he was utterly ruthless, sending some of his own boys to the gallows in order to protect himself (though he was also caught and hanged). Whereas in the movie, he is presented as something of a wayward father-figure, a sort of charitable thief rather than a corrupter of children, the latter being a long-standing anti-semitic sentiment. Otherwise, very few liberties are taken with Dickens's original. All of the most memorable elements are included. Just enough menace and violence is retained to ensure narrative fidelity whilst at the same time allowing for children' sensibilities. Nancy is still beaten to death, Bullseye narrowly escapes drowning, and Bill Sykes gets a faithfully graphic come-uppance.<br /><br />Every song is excellent, though they do incline towards schmaltz. Mark Lester mimes his wonderfully. Both his and my favourite scene is the one in which the world comes alive to 'who will buy'. It's schmaltzy, but it's Dickens through and through.<br /><br />I could go on. I could commend the wonderful set-pieces, the contrast of the rich and poor. There is top-quality acting from more British regulars than you could shake a stick at.<br /><br />I ought to give it 10 points, but I'm feeling more like Scrooge today. Soak it up with your Christmas dinner. No original has been better realised.\""
      ]
     },
     "execution_count": 16,
     "metadata": {},
     "output_type": "execute_result"
    }
   ],
   "source": [
    "train_examples_batch[0].numpy().decode(\"utf-8\") "
   ]
  },
  {
   "cell_type": "markdown",
   "metadata": {
    "school_cell_uuid": "200bcc29e328421b85da6758ad3d7f01"
   },
   "source": [
    "감성분석용 데이터이므로 라벨은 0 또는 1이라는 값을 가진다."
   ]
  },
  {
   "cell_type": "code",
   "execution_count": 17,
   "metadata": {
    "school_cell_uuid": "cb76c1d4cb3b45d0b9901788b278e651"
   },
   "outputs": [
    {
     "data": {
      "text/plain": [
       "<tf.Tensor: id=783, shape=(10,), dtype=int64, numpy=array([1, 1, 1, 1, 1, 1, 0, 1, 1, 0])>"
      ]
     },
     "execution_count": 17,
     "metadata": {},
     "output_type": "execute_result"
    }
   ],
   "source": [
    "train_labels_batch"
   ]
  },
  {
   "cell_type": "code",
   "execution_count": null,
   "metadata": {
    "school_cell_uuid": "6c24e8e3b3dc4738ab5bf98993fcb642"
   },
   "outputs": [],
   "source": []
  },
  {
   "cell_type": "code",
   "execution_count": null,
   "metadata": {
    "school_cell_uuid": "8094333fe5064bc49c5ce57b6b13c490"
   },
   "outputs": [],
   "source": []
  },
  {
   "cell_type": "code",
   "execution_count": null,
   "metadata": {
    "school_cell_uuid": "a4cf09d6fcbb4c8096f24329b64da243"
   },
   "outputs": [],
   "source": []
  },
  {
   "cell_type": "code",
   "execution_count": null,
   "metadata": {
    "school_cell_uuid": "b20d5348d3ee405bb0e4cc0fa6dd17d8"
   },
   "outputs": [],
   "source": []
  },
  {
   "cell_type": "code",
   "execution_count": null,
   "metadata": {
    "school_cell_uuid": "e134ea0e22e344598fcc101728ad12c3"
   },
   "outputs": [],
   "source": []
  },
  {
   "cell_type": "code",
   "execution_count": null,
   "metadata": {
    "school_cell_uuid": "dab2ce200dd44810b810dc413f99a5c3"
   },
   "outputs": [],
   "source": []
  },
  {
   "cell_type": "code",
   "execution_count": null,
   "metadata": {
    "school_cell_uuid": "d3baa2f11de044ea81c8a80587da3aeb"
   },
   "outputs": [],
   "source": []
  },
  {
   "cell_type": "code",
   "execution_count": null,
   "metadata": {
    "school_cell_uuid": "add2bba1eae7472f8dc93a4fb68fdeb5"
   },
   "outputs": [],
   "source": []
  }
 ],
 "metadata": {
  "kernelspec": {
   "display_name": "Python 3",
   "language": "python",
   "name": "python3"
  },
  "language_info": {
   "codemirror_mode": {
    "name": "ipython",
    "version": 3
   },
   "file_extension": ".py",
   "mimetype": "text/x-python",
   "name": "python",
   "nbconvert_exporter": "python",
   "pygments_lexer": "ipython3",
   "version": "3.7.0"
  }
 },
 "nbformat": 4,
 "nbformat_minor": 4
}