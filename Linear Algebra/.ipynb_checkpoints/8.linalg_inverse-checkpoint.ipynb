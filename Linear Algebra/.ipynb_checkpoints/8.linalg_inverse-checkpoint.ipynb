{
 "cells": [
  {
   "cell_type": "code",
   "execution_count": 3,
   "metadata": {},
   "outputs": [],
   "source": [
    "import numpy as np\n",
    "from sympy import *\n",
    "import matplotlib.pyplot as plt"
   ]
  },
  {
   "cell_type": "markdown",
   "metadata": {},
   "source": [
    "\n",
    "---\n",
    "# VIDEO: Concept and uses of the inverse\n",
    "---\n"
   ]
  },
  {
   "cell_type": "code",
   "execution_count": 4,
   "metadata": {},
   "outputs": [
    {
     "name": "stdout",
     "output_type": "stream",
     "text": [
      "[[ 1.00000000e+00  3.41333440e-19 -1.70563311e-18]\n",
      " [ 4.24373228e-17  1.00000000e+00  2.09600477e-16]\n",
      " [ 9.76815730e-18 -3.15543364e-17  1.00000000e+00]]\n"
     ]
    },
    {
     "data": {
      "image/png": "[encoded data removed]",
      "text/plain": [
       "<Figure size 432x288 with 3 Axes>"
      ]
     },
     "metadata": {
      "needs_background": "light"
     },
     "output_type": "display_data"
    }
   ],
   "source": [
    "# size of square matrix\n",
    "m = 3\n",
    "\n",
    "# generate random matrix\n",
    "A = np.random.randn(m,m)\n",
    "\n",
    "# compute its inverse\n",
    "Ainv = np.linalg.inv(A)\n",
    "\n",
    "# and check the multiplication\n",
    "id = A@Ainv\n",
    "\n",
    "# print the matrix. Note the computer rounding errors on the off-diagonals\n",
    "print(id)\n",
    "\n",
    "\n",
    "# show in an image\n",
    "plt.subplot(131)\n",
    "plt.imshow(A)\n",
    "plt.title('Matrix A')\n",
    "\n",
    "plt.subplot(132)\n",
    "plt.imshow(Ainv)\n",
    "plt.title('Matrix $A^{-1}$')\n",
    "\n",
    "plt.subplot(133)\n",
    "plt.imshow(id)\n",
    "plt.title('AA$^{-1}$')\n",
    "\n",
    "plt.show()"
   ]
  },
  {
   "cell_type": "code",
   "execution_count": 20,
   "metadata": {},
   "outputs": [
    {
     "name": "stdout",
     "output_type": "stream",
     "text": [
      "[[ 1.24900090e-16 -1.11022302e-16 -1.38777878e-17  1.11022302e-16]\n",
      " [-6.93889390e-17  2.22044605e-16  1.38777878e-16 -2.22044605e-16]\n",
      " [-1.66533454e-16 -6.66133815e-16 -1.38777878e-16  2.22044605e-16]\n",
      " [ 5.55111512e-17 -2.22044605e-16  8.32667268e-17 -2.22044605e-16]]\n"
     ]
    }
   ],
   "source": [
    "#Challenge\n",
    "#compute the inverse using inv(), compare to your implementation of the MCA\n",
    "m = 4\n",
    "minor = np.zeros((m,m))\n",
    "cofactor = np.zeros((m,m))\n",
    "A = np.random.randint(0,10, (m,m))\n",
    "for i in range(m):\n",
    "    for j in range(m):\n",
    "        temp1 = np.delete(A, i, 0)\n",
    "        temp2 = np.delete(temp1, j, 1)\n",
    "        minor[i][j] = np.linalg.det(temp2)\n",
    "        cofactor[i][j] = (-1)**(i+j)\n",
    "result1 = np.multiply(minor, cofactor).T * (1/np.linalg.det(A))\n",
    "result2 = np.linalg.inv(A)\n",
    "print(result1 - result2)"
   ]
  },
  {
   "cell_type": "markdown",
   "metadata": {},
   "source": [
    "\n",
    "---\n",
    "# VIDEO: Computing the inverse via row reduction\n",
    "---\n"
   ]
  },
  {
   "cell_type": "code",
   "execution_count": 21,
   "metadata": {},
   "outputs": [
    {
     "name": "stdout",
     "output_type": "stream",
     "text": [
      "Size of Aaug: (4, 8)\n"
     ]
    }
   ],
   "source": [
    "## notice the difference in implementation in this video using sympy, compared to the previous video using numpy ##\n",
    "\n",
    "# matrix size\n",
    "m = 4\n",
    "\n",
    "# random integers matrix\n",
    "A = Matrix( np.round(10*np.random.randn(m,m)),dtype='float' )\n",
    "\n",
    "# augment A and identity\n",
    "Aaug = Matrix( np.concatenate((A,np.eye(m,m)),axis=1) )\n",
    "print('Size of Aaug:',Aaug.shape)"
   ]
  },
  {
   "cell_type": "code",
   "execution_count": 23,
   "metadata": {},
   "outputs": [
    {
     "name": "stdout",
     "output_type": "stream",
     "text": [
      "Matrix([[1, 0, 0, 0, 0.0340419206184034, 0.249442544968039, -0.0350081760071354, 0.0590902333878401], [0, 1, 0, 0, 0.0261632228333581, 0.0563401218968337, -0.0618403448788464, 0.0279470789356325], [0, 0, 1, 0, 0.0144195034933849, -0.0428125464545860, 0.0113720826519994, 0.0381299241861157], [0, 0, 0, 1, -0.0728407908428720, -0.190946930280957, 0.0585327783558793, -0.00962539021852237]])\n"
     ]
    },
    {
     "data": {
      "image/png": "[encoded data removed]",
      "text/plain": [
       "<Figure size 432x288 with 2 Axes>"
      ]
     },
     "metadata": {
      "needs_background": "light"
     },
     "output_type": "display_data"
    },
    {
     "data": {
      "image/png": "[encoded data removed]",
      "text/plain": [
       "<Figure size 432x288 with 3 Axes>"
      ]
     },
     "metadata": {
      "needs_background": "light"
     },
     "output_type": "display_data"
    }
   ],
   "source": [
    "# rref\n",
    "Asol = Aaug.rref()\n",
    "Asol = Asol[0]\n",
    "Ainvrref = Asol[:,m:m*2] # from (i | A^-1), it is the right side part \n",
    "Ainv = A.inv()\n",
    "\n",
    "# show the augemented matrices\n",
    "plt.subplot(211)\n",
    "plt.imshow(matrix2numpy(Aaug,dtype='float'))\n",
    "plt.title('A|I'), plt.axis('off')\n",
    "\n",
    "plt.subplot(212)\n",
    "plt.imshow(matrix2numpy(Asol,dtype='float'))\n",
    "plt.title('I|A$^{-1}$'), plt.axis('off')\n",
    "\n",
    "plt.show()\n",
    "\n",
    "\n",
    "# show the square matrices\n",
    "plt.subplot(131)\n",
    "plt.imshow(matrix2numpy(A,dtype='float'))\n",
    "plt.title('Matrix A'), plt.axis('off')\n",
    "\n",
    "plt.subplot(132)\n",
    "plt.imshow(matrix2numpy(Ainvrref,dtype='float'))\n",
    "plt.title('A$^{-1}$ from rref'), plt.axis('off')\n",
    "\n",
    "plt.subplot(133)\n",
    "plt.imshow(matrix2numpy(Ainv,dtype='float'))\n",
    "plt.title('A$^{-1}$ from inv()'), plt.axis('off')\n",
    "\n",
    "plt.show()"
   ]
  },
  {
   "cell_type": "code",
   "execution_count": 41,
   "metadata": {},
   "outputs": [
    {
     "data": {
      "text/plain": [
       "array([[0.16666667, 0.        , 0.        , 0.        , 0.        ,\n",
       "        0.        , 0.        , 0.        , 0.        , 0.        ],\n",
       "       [0.        , 1.        , 0.        , 0.        , 0.        ,\n",
       "        0.        , 0.        , 0.        , 0.        , 0.        ],\n",
       "       [0.        , 0.        , 0.25      , 0.        , 0.        ,\n",
       "        0.        , 0.        , 0.        , 0.        , 0.        ],\n",
       "       [0.        , 0.        , 0.        , 0.25      , 0.        ,\n",
       "        0.        , 0.        , 0.        , 0.        , 0.        ],\n",
       "       [0.        , 0.        , 0.        , 0.        , 0.125     ,\n",
       "        0.        , 0.        , 0.        , 0.        , 0.        ],\n",
       "       [0.        , 0.        , 0.        , 0.        , 0.        ,\n",
       "        0.25      , 0.        , 0.        , 0.        , 0.        ],\n",
       "       [0.        , 0.        , 0.        , 0.        , 0.        ,\n",
       "        0.        , 0.16666667, 0.        , 0.        , 0.        ],\n",
       "       [0.        , 0.        , 0.        , 0.        , 0.        ,\n",
       "        0.        , 0.        , 0.33333333, 0.        , 0.        ],\n",
       "       [0.        , 0.        , 0.        , 0.        , 0.        ,\n",
       "        0.        , 0.        , 0.        , 0.2       , 0.        ],\n",
       "       [0.        , 0.        , 0.        , 0.        , 0.        ,\n",
       "        0.        , 0.        , 0.        , 0.        , 0.125     ]])"
      ]
     },
     "execution_count": 41,
     "metadata": {},
     "output_type": "execute_result"
    }
   ],
   "source": [
    "#Challenge\n",
    "#diagonal matrices and their inverses\n",
    "#create some diagonal matrices, start with 2x2 integers, work up to larger matrices\n",
    "#compute their inverses (condition on the diagonal matrix for invertibility)\n",
    "m = 10\n",
    "np.random.seed(0)\n",
    "A = np.diag(np.random.randint(1,10,m))\n",
    "np.linalg.inv(A)\n",
    "# inverse diagonal matrix is a reciprocal of the diagonal matrix elements"
   ]
  },
  {
   "cell_type": "markdown",
   "metadata": {},
   "source": [
    "\n",
    "---\n",
    "# VIDEO: Left inverse and right inverse\n",
    "---\n"
   ]
  },
  {
   "cell_type": "code",
   "execution_count": 51,
   "metadata": {},
   "outputs": [
    {
     "name": "stdout",
     "output_type": "stream",
     "text": [
      "Rank of A^TA: 3\n",
      "Rank of AA^T: 3\n"
     ]
    }
   ],
   "source": [
    "# m>n for left inverse,\n",
    "# m<n for right inverse\n",
    "m = 6\n",
    "n = 3\n",
    "\n",
    "# create matrices\n",
    "A = np.random.randn(m,n)\n",
    "AtA = np.matrix.transpose(A)@A\n",
    "AAt = A@np.matrix.transpose(A)\n",
    "\n",
    "# inspect ranks\n",
    "print('Rank of A^TA:', np.linalg.matrix_rank(AtA) )\n",
    "print('Rank of AA^T:', np.linalg.matrix_rank(AAt) )"
   ]
  },
  {
   "cell_type": "code",
   "execution_count": 44,
   "metadata": {},
   "outputs": [
    {
     "data": {
      "image/png": "[encoded data removed]",
      "text/plain": [
       "<Figure size 432x288 with 7 Axes>"
      ]
     },
     "metadata": {
      "needs_background": "light"
     },
     "output_type": "display_data"
    }
   ],
   "source": [
    "# left inverse\n",
    "Aleft = np.linalg.inv(AtA)@np.matrix.transpose(A)\n",
    "\n",
    "# right inverse\n",
    "Aright = np.matrix.transpose(A)@np.linalg.inv(AAt)\n",
    "\n",
    "# now test!\n",
    "I_left  = Aleft  @ A\n",
    "I_right = A @ Aright\n",
    "\n",
    "# and then test using the inverse function\n",
    "AtA_inv = np.linalg.inv(AtA)\n",
    "I_AtA   = AtA_inv @ AtA\n",
    "\n",
    "AAt_inv = np.linalg.inv(AAt)\n",
    "I_AAt   = AAt_inv @ AAt\n",
    "\n",
    "\n",
    "## show images\n",
    "plt.subplot(331)\n",
    "plt.imshow(A), plt.axis('off')\n",
    "plt.title('A')\n",
    "\n",
    "plt.subplot(332)\n",
    "plt.imshow(AtA), plt.axis('off')\n",
    "plt.title('A$^T$A')\n",
    "\n",
    "plt.subplot(333)\n",
    "plt.imshow(AAt), plt.axis('off')\n",
    "plt.title('AA$^T$')\n",
    "\n",
    "plt.subplot(335)\n",
    "plt.imshow(Aleft), plt.axis('off')\n",
    "plt.title('$(A^TA)^{-1}A^T$')\n",
    "\n",
    "plt.subplot(336)\n",
    "plt.imshow(Aright), plt.axis('off')\n",
    "plt.title('$A^T(AA^T)^{-1}$')\n",
    "\n",
    "plt.subplot(338)\n",
    "plt.imshow(I_left), plt.axis('off')\n",
    "plt.title('[ $(A^TA)^{-1}A^T ]$  A')\n",
    "\n",
    "plt.subplot(339)\n",
    "plt.imshow(I_right), plt.axis('off')\n",
    "plt.title('A  [ $A^T(AA^T)^{-1}$ ]')\n",
    "\n",
    "plt.show()"
   ]
  },
  {
   "cell_type": "markdown",
   "metadata": {},
   "source": [
    "\n",
    "---\n",
    "# VIDEO: The pseudoinverse, part 1\n",
    "---\n"
   ]
  },
  {
   "cell_type": "code",
   "execution_count": 53,
   "metadata": {},
   "outputs": [
    {
     "name": "stdout",
     "output_type": "stream",
     "text": [
      "[[ 1.00000000e+00 -2.77555756e-17  2.49800181e-16]\n",
      " [ 2.77555756e-16  1.00000000e+00 -3.33066907e-16]\n",
      " [-1.38777878e-16  1.66533454e-16  1.00000000e+00]]\n"
     ]
    },
    {
     "data": {
      "image/png": "[encoded data removed]",
      "text/plain": [
       "<Figure size 432x288 with 3 Axes>"
      ]
     },
     "metadata": {
      "needs_background": "light"
     },
     "output_type": "display_data"
    }
   ],
   "source": [
    "# pseudoinverse of rectangular matrix A\n",
    "pseudoInvA = np.linalg.pinv(A)\n",
    "print(pseudoInvA@A)\n",
    "\n",
    "plt.subplot(131)\n",
    "plt.imshow(A), plt.axis('off')\n",
    "plt.title('A')\n",
    "\n",
    "plt.subplot(132)\n",
    "plt.imshow(pseudoInvA), plt.axis('off')\n",
    "plt.title('Pseudoinverse of A')\n",
    "\n",
    "plt.subplot(133)\n",
    "plt.imshow(pseudoInvA@A), plt.axis('off')\n",
    "plt.title('A$^*$A')\n",
    "\n",
    "plt.show()"
   ]
  },
  {
   "cell_type": "code",
   "execution_count": 55,
   "metadata": {},
   "outputs": [
    {
     "name": "stdout",
     "output_type": "stream",
     "text": [
      "rank = 49\n",
      "[[ 1.00000000e+00 -1.48297698e-15  2.24864626e-16 ... -1.38312457e-16\n",
      "  -3.33066907e-16 -3.33066907e-16]\n",
      " [-5.34531848e-16  1.00000000e+00 -6.63844100e-17 ...  4.22783243e-16\n",
      "   6.10622664e-16  6.10622664e-16]\n",
      " [ 3.59079065e-16  1.25809756e-15  1.00000000e+00 ...  1.10158135e-16\n",
      "   4.44089210e-16  4.44089210e-16]\n",
      " ...\n",
      " [-3.31046410e-16  6.38985342e-16  3.33839992e-16 ...  1.00000000e+00\n",
      "  -8.32667268e-17 -8.32667268e-17]\n",
      " [ 2.22044605e-16  0.00000000e+00 -2.77555756e-17 ... -1.94289029e-16\n",
      "   5.00000000e-01  5.00000000e-01]\n",
      " [ 3.88578059e-16 -1.11022302e-16  1.38777878e-16 ... -5.55111512e-17\n",
      "   5.00000000e-01  5.00000000e-01]]\n"
     ]
    },
    {
     "data": {
      "image/png": "[encoded data removed]",
      "text/plain": [
       "<Figure size 432x288 with 4 Axes>"
      ]
     },
     "metadata": {
      "needs_background": "light"
     },
     "output_type": "display_data"
    }
   ],
   "source": [
    "# create random matrix\n",
    "n = 50\n",
    "A = np.random.randn(n,n)\n",
    "\n",
    "# make rank deficient by repeating a column\n",
    "A[:,n-1] = A[:,n-2]\n",
    "\n",
    "# rank of A!\n",
    "print('rank =',np.linalg.matrix_rank(A))\n",
    "\n",
    "\n",
    "# compute the pseudoinverse\n",
    "Ai = np.linalg.pinv(A)\n",
    "\n",
    "# and show the matrices. Notice the bottom right part is not exactly 1.\n",
    "plt.subplot(221)\n",
    "plt.imshow(A), plt.axis('off')\n",
    "plt.title('A')\n",
    "\n",
    "plt.subplot(222)\n",
    "plt.imshow(Ai), plt.axis('off')\n",
    "plt.title('A$^*$')\n",
    "\n",
    "plt.subplot(223)\n",
    "plt.imshow(Ai@A), plt.axis('off')\n",
    "plt.title('A$^*$A')\n",
    "\n",
    "plt.subplot(224)\n",
    "plt.imshow(A@Ai), plt.axis('off')\n",
    "plt.title('AA$^*$')\n",
    "\n",
    "plt.show()"
   ]
  },
  {
   "cell_type": "code",
   "execution_count": 59,
   "metadata": {},
   "outputs": [
    {
     "data": {
      "text/plain": [
       "array([[ 1.11022302e-16, -1.21430643e-17,  6.59194921e-17],\n",
       "       [ 0.00000000e+00,  5.55111512e-17,  4.16333634e-17],\n",
       "       [-2.77555756e-17,  5.55111512e-17, -2.77555756e-17]])"
      ]
     },
     "execution_count": 59,
     "metadata": {},
     "output_type": "execute_result"
    }
   ],
   "source": [
    "#Pseudoinverse is the same as the \"real\" inverse for an invertible matrix?\n",
    "m = 3\n",
    "D = np.random.randint(0,10, (m,m))\n",
    "inv = np.linalg.inv(D)\n",
    "pinv = np.linalg.pinv(D)\n",
    "pinv - inv"
   ]
  }
 ],
 "metadata": {
  "kernelspec": {
   "display_name": "Python 3",
   "language": "python",
   "name": "python3"
  },
  "language_info": {
   "codemirror_mode": {
    "name": "ipython",
    "version": 3
   },
   "file_extension": ".py",
   "mimetype": "text/x-python",
   "name": "python",
   "nbconvert_exporter": "python",
   "pygments_lexer": "ipython3",
   "version": "3.7.6"
  }
 },
 "nbformat": 4,
 "nbformat_minor": 2
}
