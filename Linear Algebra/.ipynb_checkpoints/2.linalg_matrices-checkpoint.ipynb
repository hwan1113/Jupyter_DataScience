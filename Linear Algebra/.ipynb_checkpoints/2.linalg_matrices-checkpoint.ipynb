{
 "cells": [
  {
   "cell_type": "code",
   "execution_count": 1,
   "metadata": {},
   "outputs": [],
   "source": [
    "import numpy as np"
   ]
  },
  {
   "cell_type": "markdown",
   "metadata": {},
   "source": [
    "\n",
    "---\n",
    "# VIDEO: A zoo of matrices\n",
    "---\n"
   ]
  },
  {
   "cell_type": "code",
   "execution_count": 2,
   "metadata": {},
   "outputs": [
    {
     "name": "stdout",
     "output_type": "stream",
     "text": [
      "[[-0.99523093 -0.15457217  1.16018828  0.62736539 -0.74729033]\n",
      " [-1.29137969  0.27874769  1.30234989 -0.42186439 -1.3766162 ]\n",
      " [-0.71310041 -0.13864375 -0.64650578  0.12867869 -1.25033771]\n",
      " [ 0.54529242 -0.45149405 -1.5619618   1.80175534  1.92542874]\n",
      " [ 0.11684647 -1.04123925 -0.00961455 -1.2886633   1.97078744]]\n",
      "[[-2.8488118  -0.69991673]\n",
      " [-1.59308902  0.11815223]\n",
      " [ 1.09684542  0.10769932]\n",
      " [ 0.47356466  0.29978883]\n",
      " [ 0.20991299 -0.83033866]]\n"
     ]
    }
   ],
   "source": [
    "\n",
    "# square vs. rectangular\n",
    "S = np.random.randn(5,5)\n",
    "R = np.random.randn(5,2) # 5 rows, 2 columns\n",
    "print(S)\n",
    "print(R)"
   ]
  },
  {
   "cell_type": "code",
   "execution_count": 3,
   "metadata": {},
   "outputs": [
    {
     "name": "stdout",
     "output_type": "stream",
     "text": [
      "[[1. 0. 0.]\n",
      " [0. 1. 0.]\n",
      " [0. 0. 1.]]\n"
     ]
    }
   ],
   "source": [
    "# identity\n",
    "I = np.eye(3)\n",
    "print(I)"
   ]
  },
  {
   "cell_type": "code",
   "execution_count": 4,
   "metadata": {},
   "outputs": [
    {
     "name": "stdout",
     "output_type": "stream",
     "text": [
      "[[0. 0. 0. 0.]\n",
      " [0. 0. 0. 0.]\n",
      " [0. 0. 0. 0.]\n",
      " [0. 0. 0. 0.]]\n"
     ]
    }
   ],
   "source": [
    "# zeros\n",
    "Z = np.zeros((4,4))\n",
    "print(Z)"
   ]
  },
  {
   "cell_type": "code",
   "execution_count": 5,
   "metadata": {},
   "outputs": [
    {
     "name": "stdout",
     "output_type": "stream",
     "text": [
      "[[1 0 0 0 0]\n",
      " [0 2 0 0 0]\n",
      " [0 0 3 0 0]\n",
      " [0 0 0 5 0]\n",
      " [0 0 0 0 2]]\n"
     ]
    }
   ],
   "source": [
    "# diagonal\n",
    "D = np.diag([ 1, 2, 3, 5, 2 ])\n",
    "print(D)"
   ]
  },
  {
   "cell_type": "code",
   "execution_count": 9,
   "metadata": {},
   "outputs": [
    {
     "name": "stdout",
     "output_type": "stream",
     "text": [
      "[[ 0.0633434   1.31182896  0.22415502  0.33322798 -2.39485909]\n",
      " [ 0.          1.31773956  0.86918092 -0.15360649 -2.76998409]\n",
      " [ 0.          0.         -0.02357302 -0.54398528 -0.30583599]\n",
      " [ 0.          0.          0.          0.79288422  0.2218835 ]\n",
      " [ 0.          0.          0.          0.         -0.21833103]]\n",
      "[[ 0.0633434   0.          0.          0.          0.        ]\n",
      " [ 0.71455317  1.31773956  0.          0.          0.        ]\n",
      " [-0.04816642  0.01663572 -0.02357302  0.          0.        ]\n",
      " [ 0.45815683 -0.03463101 -0.74388412  0.79288422  0.        ]\n",
      " [-1.01262725 -0.95119087  0.11314948  0.24065301 -0.21833103]]\n"
     ]
    }
   ],
   "source": [
    "# create triangular matrix from full matrices\n",
    "S = np.random.randn(5,5)\n",
    "U = np.triu(S)\n",
    "L = np.tril(S)\n",
    "print(U)\n",
    "print(L)"
   ]
  },
  {
   "cell_type": "code",
   "execution_count": 11,
   "metadata": {},
   "outputs": [
    {
     "name": "stdout",
     "output_type": "stream",
     "text": [
      "[[ 0.12246232  0.79485806 -0.6120851   0.56576913  0.14436218  0.31173289]\n",
      " [ 0.80713929 -0.09318191  1.00425897 -0.48819703 -0.07658738 -0.11035063]\n",
      " [ 1.27787519 -0.90799238  0.36897811 -0.28578522 -1.43240269 -1.42190484]]\n"
     ]
    }
   ],
   "source": [
    "# concatenate matrices (sizes must match!)\n",
    "A = np.random.randn(3,2)\n",
    "#B = np.random.randn(4,4)\n",
    "B = np.random.randn(3,4)\n",
    "C = np.concatenate((A,B),axis=1)\n",
    "print(C)"
   ]
  },
  {
   "cell_type": "markdown",
   "metadata": {},
   "source": [
    "\n",
    "---\n",
    "# VIDEO: Matrix addition and subtraction\n",
    "---\n"
   ]
  },
  {
   "cell_type": "code",
   "execution_count": 15,
   "metadata": {},
   "outputs": [
    {
     "data": {
      "text/plain": [
       "array([[ 1.10635287,  2.51408457,  1.16882894,  0.38801755],\n",
       "       [ 0.31189594, -0.27810259, -0.21486139,  0.49935619],\n",
       "       [-0.58695479, -0.35677814, -2.29388384, -0.65869904],\n",
       "       [-2.23826126,  0.43364758,  0.82756649,  1.37737288],\n",
       "       [ 1.316482  , -0.30121201, -0.81887673,  1.05732077]])"
      ]
     },
     "execution_count": 15,
     "metadata": {},
     "output_type": "execute_result"
    }
   ],
   "source": [
    "\n",
    "# create random matrices\n",
    "A = np.random.randn(5,4)\n",
    "B = np.random.randn(5,3)\n",
    "C = np.random.randn(5,4)\n",
    "\n",
    "# try to add them\n",
    "# A+B\n",
    "A+C"
   ]
  },
  {
   "cell_type": "code",
   "execution_count": 17,
   "metadata": {},
   "outputs": [
    {
     "name": "stdout",
     "output_type": "stream",
     "text": [
      "[[ -36.   32.  171. -254.   51.]\n",
      " [ -12.   13.  -53.  -82.  -30.]\n",
      " [-178.  183.   69.   10. -107.]\n",
      " [ -77.  -61.   35. -130.  -56.]\n",
      " [ -62.  -89.  119.   14.  -52.]]\n",
      "[[ -35.7   32.   171.  -254.    51. ]\n",
      " [ -12.    13.3  -53.   -82.   -30. ]\n",
      " [-178.   183.    69.3   10.  -107. ]\n",
      " [ -77.   -61.    35.  -129.7  -56. ]\n",
      " [ -62.   -89.   119.    14.   -51.7]]\n"
     ]
    }
   ],
   "source": [
    "# \"shifting\" a matrix\n",
    "l = .3 # lambda\n",
    "N = 5  # size of square matrix\n",
    "D = np.random.randn(N,N).round(2)*100# can only shift a square matrix\n",
    "print(D)\n",
    "\n",
    "Ds = D + l*np.eye(N)\n",
    "print(Ds)"
   ]
  },
  {
   "cell_type": "markdown",
   "metadata": {},
   "source": [
    "\n",
    "---\n",
    "# VIDEO: Matrix-scalar multiplication\n",
    "---\n"
   ]
  },
  {
   "cell_type": "code",
   "execution_count": 43,
   "metadata": {},
   "outputs": [
    {
     "name": "stdout",
     "output_type": "stream",
     "text": [
      "[[ 2  4]\n",
      " [ 4 10]]\n",
      "[[ 2  4]\n",
      " [ 4 10]]\n"
     ]
    }
   ],
   "source": [
    "# define matrix and scalar\n",
    "M = np.array([ [1, 2], [2, 5] ])\n",
    "s = 2\n",
    "\n",
    "# pre- and post-multiplication is the same:\n",
    "print( M*s )\n",
    "print( s*M )\n"
   ]
  },
  {
   "cell_type": "code",
   "execution_count": 24,
   "metadata": {},
   "outputs": [
    {
     "data": {
      "text/plain": [
       "array([[ True,  True],\n",
       "       [ True,  True],\n",
       "       [ True,  True],\n",
       "       [ True,  True]])"
      ]
     },
     "execution_count": 24,
     "metadata": {},
     "output_type": "execute_result"
    }
   ],
   "source": [
    "#Challenge\n",
    "#is matrix scalar multiplication a linear operation? --> does it obey distributive trait\n",
    "#is s(A+B) = sA + sB ? --> 빼서 0이 되면 되는것. \n",
    "M = np.random.randint(0, 10, 8).reshape(4,2)\n",
    "N = np.random.randint(10, 20, 8).reshape(4,2)\n",
    "S = 3\n",
    "\n",
    "result1 = S * (M + N)\n",
    "result2 = S*M + S*N\n",
    "\n",
    "result1 - result2 == 0"
   ]
  },
  {
   "cell_type": "markdown",
   "metadata": {},
   "source": [
    "# VIDEO: Transpose"
   ]
  },
  {
   "cell_type": "code",
   "execution_count": 25,
   "metadata": {},
   "outputs": [
    {
     "name": "stdout",
     "output_type": "stream",
     "text": [
      "[[1 2 3]\n",
      " [2 3 4]]\n",
      "\n",
      "[[1 2]\n",
      " [2 3]\n",
      " [3 4]]\n",
      "\n",
      "[[1 2 3]\n",
      " [2 3 4]]\n",
      "\n",
      "[[1 2]\n",
      " [2 3]\n",
      " [3 4]]\n"
     ]
    }
   ],
   "source": [
    "M = np.array([ [1,2,3],\n",
    "               [2,3,4] ])\n",
    "\n",
    "print(M), print('')\n",
    "print(M.T), print('') # one transpose\n",
    "print(M.T.T),print('') # double-transpose returns the original matrix\n",
    "\n",
    "# can also use the function transpose\n",
    "print(np.transpose(M))"
   ]
  },
  {
   "cell_type": "code",
   "execution_count": 28,
   "metadata": {},
   "outputs": [
    {
     "name": "stdout",
     "output_type": "stream",
     "text": [
      "[[4.+1.j 3.+0.j 2.-4.j]]\n",
      "\n",
      "[[4.+1.j]\n",
      " [3.+0.j]\n",
      " [2.-4.j]]\n",
      "\n",
      "[[4.+1.j]\n",
      " [3.+0.j]\n",
      " [2.-4.j]]\n",
      "\n",
      "[[4.-1.j]\n",
      " [3.-0.j]\n",
      " [2.+4.j]]\n"
     ]
    }
   ],
   "source": [
    "# warning! be careful when using complex matrices\n",
    "C = np.array([ [4+1j , 3 , 2-4j] ])\n",
    "\n",
    "print(C), print('')\n",
    "print(C.T), print('')\n",
    "print(np.transpose(C))\n",
    "print('')\n",
    "\n",
    "# Note: In MATLAB, the transpose is the Hermitian transpose; \n",
    "#       in Python, you need to call the Hermitian explicitly by first converting from an array into a matrix\n",
    "print(np.matrix(C).H) # note the sign flips!\n"
   ]
  },
  {
   "cell_type": "markdown",
   "metadata": {},
   "source": [
    "\n",
    "---\n",
    "# VIDEO: Diagonal and trace\n",
    "---\n"
   ]
  },
  {
   "cell_type": "code",
   "execution_count": 30,
   "metadata": {},
   "outputs": [
    {
     "name": "stdout",
     "output_type": "stream",
     "text": [
      "[[ 9.  2.  5. 11.]\n",
      " [ 9. -5.  5. -1.]\n",
      " [-1.  2.  1.  7.]\n",
      " [ 4.  1.  2.  2.]]\n",
      "[ 9. -5.  1.  2.]\n",
      "[[ 9.  0.  0.  0.]\n",
      " [ 0. -5.  0.  0.]\n",
      " [ 0.  0.  1.  0.]\n",
      " [ 0.  0.  0.  2.]]\n"
     ]
    }
   ],
   "source": [
    "np.random.seed(0)\n",
    "M = np.round( 5*np.random.randn(4,4) )\n",
    "print(M)\n",
    "# extract the diagonals\n",
    "d = np.diag(M)\n",
    "\n",
    "# notice the two ways of using the diag function\n",
    "d = np.diag(M) # input is matrix, output is vector\n",
    "D = np.diag(d) # input is vector, output is matrix\n",
    "print(d)\n",
    "print(D)"
   ]
  },
  {
   "cell_type": "code",
   "execution_count": 31,
   "metadata": {},
   "outputs": [
    {
     "name": "stdout",
     "output_type": "stream",
     "text": [
      "7.0\n",
      "7.0\n"
     ]
    }
   ],
   "source": [
    "# trace as sum of diagonal elements\n",
    "tr = np.trace(M)\n",
    "tr2 = sum( np.diag(M) )\n",
    "print(tr)\n",
    "print(tr2)"
   ]
  },
  {
   "cell_type": "code",
   "execution_count": 41,
   "metadata": {},
   "outputs": [
    {
     "name": "stdout",
     "output_type": "stream",
     "text": [
      "34\n",
      "34\n",
      "0.6\n",
      "0.6\n"
     ]
    }
   ],
   "source": [
    "#Challenge\n",
    "#Linearity of trace\n",
    "#tr(A+B) = tr(A) + tr(B) ?\n",
    "#tr(l*A) = l*tr(A) ? (l is a random lambda)\n",
    "np.random.seed(0)\n",
    "A = np.random.randint(0,10, 8).reshape(2,4)\n",
    "B = np.random.randint(10, 20, 8).reshape(2,4)\n",
    "print(np.trace(A+B))\n",
    "print(np.trace(A)+np.trace(B))\n",
    "l = 0.3\n",
    "print(np.trace(A*l))\n",
    "print(np.trace(A)*l)\n"
   ]
  }
 ],
 "metadata": {
  "kernelspec": {
   "display_name": "Python 3",
   "language": "python",
   "name": "python3"
  },
  "language_info": {
   "codemirror_mode": {
    "name": "ipython",
    "version": 3
   },
   "file_extension": ".py",
   "mimetype": "text/x-python",
   "name": "python",
   "nbconvert_exporter": "python",
   "pygments_lexer": "ipython3",
   "version": "3.7.6"
  }
 },
 "nbformat": 4,
 "nbformat_minor": 2
}
