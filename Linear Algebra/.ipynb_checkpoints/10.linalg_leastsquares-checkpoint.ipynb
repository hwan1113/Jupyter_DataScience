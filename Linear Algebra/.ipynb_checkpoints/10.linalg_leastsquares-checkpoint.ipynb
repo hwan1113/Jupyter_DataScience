{
 "cells": [
  {
   "cell_type": "code",
   "execution_count": 1,
   "metadata": {},
   "outputs": [],
   "source": [
    "import numpy as np\n",
    "import matplotlib.pyplot as plt\n",
    "from sympy import *\n",
    "import scipy.io as sio\n",
    "from mpl_toolkits.mplot3d import Axes3D"
   ]
  },
  {
   "cell_type": "markdown",
   "metadata": {},
   "source": [
    "\n",
    "---\n",
    "# VIDEO: Least-squares via row-reduction\n",
    "---\n"
   ]
  },
  {
   "cell_type": "code",
   "execution_count": 3,
   "metadata": {},
   "outputs": [
    {
     "name": "stdout",
     "output_type": "stream",
     "text": [
      "Matrix([[0.0327963716163729, -0.0308915008623906, -0.0844188707470381, -0.654117659087085], [0.709311643052916, 1.61548610426391, -0.384898766152420, -0.508200910582985], [0.271032524540809, 1.23965344372185, 0.375089799837909, 0.673754463851970], [1.15456401580073, 0.362194045265567, 0.0479694382129176, -0.260979775043964], [-1.17230340944711, 2.76614394704057, 1.29795961407189, -0.355721155580410], [1.13818398834147, 1.01345372377269, 0.173284199827707, -0.947967057001890], [1.19145560376958, 2.39441032836790, 0.154706174804720, 0.0822120898574872], [-0.652213221442734, -0.575210187244835, 0.234852254932998, 0.772651550999532], [-0.246738159727910, 1.55119581685522, -0.966883589063093, -0.207578556910535], [-0.400313552145350, -0.911434745746853, 1.05859495150872, -1.11302206497864]])\n",
      "(Matrix([\n",
      "[1, 0, 0, 0],\n",
      "[0, 1, 0, 0],\n",
      "[0, 0, 1, 0],\n",
      "[0, 0, 0, 1],\n",
      "[0, 0, 0, 0],\n",
      "[0, 0, 0, 0],\n",
      "[0, 0, 0, 0],\n",
      "[0, 0, 0, 0],\n",
      "[0, 0, 0, 0],\n",
      "[0, 0, 0, 0]]), (0, 1, 2, 3))\n"
     ]
    }
   ],
   "source": [
    "\n",
    "m = 10\n",
    "n = 3\n",
    "\n",
    "# create data\n",
    "X = np.random.randn(m,n) # \"design matrix\"\n",
    "y = np.random.randn(m,1) # \"outcome measures (data)\"\n",
    "\n",
    "# try directly applying RREF\n",
    "Xy = Matrix( np.concatenate([X,y],axis=1) )\n",
    "print(Xy)\n",
    "print( Xy.rref() )"
   ]
  },
  {
   "cell_type": "code",
   "execution_count": 4,
   "metadata": {
    "scrolled": true
   },
   "outputs": [
    {
     "name": "stdout",
     "output_type": "stream",
     "text": [
      "(Matrix([\n",
      "[1, 0, 0,  -0.224072824470947],\n",
      "[0, 1, 0, -0.0207718926314457],\n",
      "[0, 0, 1,  -0.300685840138469]]), (0, 1, 2))\n",
      "\n",
      "Matrix([[-0.224072824470947], [-0.0207718926314457], [-0.300685840138469]])\n",
      "\n",
      "[[-0.22407282]\n",
      " [-0.02077189]\n",
      " [-0.30068584]]\n",
      "\n",
      "[[-0.22407282]\n",
      " [-0.02077189]\n",
      " [-0.30068584]]\n"
     ]
    }
   ],
   "source": [
    "# now reapply to the normal equations\n",
    "XtX = np.matrix.transpose(X)@X\n",
    "Xty = np.matrix.transpose(X)@y\n",
    "normEQ = Matrix( np.concatenate( [XtX,Xty],axis=1 ) )\n",
    "\n",
    "Xsol = normEQ.rref()\n",
    "print(Xsol)\n",
    "Xsol = Xsol[0]\n",
    "beta = Xsol[:,-1]\n",
    "\n",
    "print('')\n",
    "print(beta)\n"
   ]
  },
  {
   "cell_type": "code",
   "execution_count": 5,
   "metadata": {},
   "outputs": [
    {
     "name": "stdout",
     "output_type": "stream",
     "text": [
      "\n",
      "[[-0.22407282]\n",
      " [-0.02077189]\n",
      " [-0.30068584]]\n",
      "\n",
      "[[-0.22407282]\n",
      " [-0.02077189]\n",
      " [-0.30068584]]\n"
     ]
    }
   ],
   "source": [
    "# compare to left-inverse\n",
    "beta2 = np.linalg.inv(XtX) @ Xty\n",
    "print('')\n",
    "print(beta2)\n",
    "\n",
    "# and with the python solver\n",
    "beta3 = np.linalg.solve(XtX,Xty)\n",
    "print('')\n",
    "print(beta3)"
   ]
  },
  {
   "cell_type": "markdown",
   "metadata": {},
   "source": [
    "\n",
    "---\n",
    "# VIDEO: Least-squares example 1\n",
    "---\n"
   ]
  },
  {
   "cell_type": "code",
   "execution_count": 10,
   "metadata": {},
   "outputs": [
    {
     "name": "stdout",
     "output_type": "stream",
     "text": [
      "[[0.125]]\n",
      "[[2.125]] 2.125\n",
      "[[2.125]\n",
      " [2.125]\n",
      " [2.125]\n",
      " [2.125]\n",
      " [2.125]\n",
      " [2.125]\n",
      " [2.125]\n",
      " [2.125]]\n"
     ]
    },
    {
     "data": {
      "image/png": "[encoded data removed]",
      "text/plain": [
       "<Figure size 432x288 with 1 Axes>"
      ]
     },
     "metadata": {
      "needs_background": "light"
     },
     "output_type": "display_data"
    }
   ],
   "source": [
    "# data. this is the outcome from actual data and coeffficient\n",
    "data = np.array([[-4,0,-3,1,2,8,5,8]]).T # the \".T\" is for transpose\n",
    "N    = len(data)\n",
    "\n",
    "# design matrix. \n",
    "X = np.ones([N,1])\n",
    "print(np.linalg.inv(np.matrix.transpose(X)@X))\n",
    "# fit the model\n",
    "b = np.linalg.solve(np.matrix.transpose(X)@X,np.matrix.transpose(X)@data)\n",
    "\n",
    "# compare against the mean\n",
    "m = np.mean(data)\n",
    "\n",
    "# print the results\n",
    "print(b,m)\n",
    "\n",
    "# compute the model-predicted values\n",
    "yHat = X@b\n",
    "print(yHat)\n",
    "\n",
    "# plot data and model prediction\n",
    "plt.plot(np.arange(1,N+1),data,'bs-',label='Data')\n",
    "plt.plot(np.arange(1,N+1),yHat,'ro--',label='Model pred.')\n",
    "\n",
    "plt.legend()\n",
    "plt.show()"
   ]
  },
  {
   "cell_type": "code",
   "execution_count": 12,
   "metadata": {},
   "outputs": [
    {
     "name": "stdout",
     "output_type": "stream",
     "text": [
      "[[0]\n",
      " [1]\n",
      " [2]\n",
      " [3]\n",
      " [4]\n",
      " [5]\n",
      " [6]\n",
      " [7]]\n",
      "[[0.        ]\n",
      " [0.93571429]\n",
      " [1.87142857]\n",
      " [2.80714286]\n",
      " [3.74285714]\n",
      " [4.67857143]\n",
      " [5.61428571]\n",
      " [6.55      ]]\n"
     ]
    },
    {
     "data": {
      "image/png": "[encoded data removed]",
      "text/plain": [
       "<Figure size 432x288 with 1 Axes>"
      ]
     },
     "metadata": {
      "needs_background": "light"
     },
     "output_type": "display_data"
    }
   ],
   "source": [
    "# new design matrix\n",
    "X = np.array([np.arange(0,N)]).T\n",
    "print(X)\n",
    "# fit the model\n",
    "b = np.linalg.solve(np.matrix.transpose(X)@X,np.matrix.transpose(X)@data)\n",
    "\n",
    "# compute the model-predicted values\n",
    "yHat = X@b\n",
    "print(yHat)\n",
    "\n",
    "# plot data and model prediction\n",
    "plt.plot(np.arange(1,N+1),data,'bs-',label='Data')\n",
    "plt.plot(np.arange(1,N+1),yHat,'ro--',label='Model pred.')\n",
    "\n",
    "plt.legend()\n",
    "plt.show()"
   ]
  },
  {
   "cell_type": "code",
   "execution_count": 18,
   "metadata": {},
   "outputs": [
    {
     "name": "stdout",
     "output_type": "stream",
     "text": [
      "[[0. 1.]\n",
      " [1. 1.]\n",
      " [2. 1.]\n",
      " [3. 1.]\n",
      " [4. 1.]\n",
      " [5. 1.]\n",
      " [6. 1.]\n",
      " [7. 1.]]\n",
      "[[ 1.70238095]\n",
      " [-3.83333333]]\n",
      "[[-3.83333333]\n",
      " [-2.13095238]\n",
      " [-0.42857143]\n",
      " [ 1.27380952]\n",
      " [ 2.97619048]\n",
      " [ 4.67857143]\n",
      " [ 6.38095238]\n",
      " [ 8.08333333]]\n"
     ]
    },
    {
     "data": {
      "image/png": "[encoded data removed]",
      "text/plain": [
       "<Figure size 432x288 with 1 Axes>"
      ]
     },
     "metadata": {
      "needs_background": "light"
     },
     "output_type": "display_data"
    }
   ],
   "source": [
    "# the above one did not have any intercept when the value of the outcome was not zero\n",
    "# for example in y = Xb + a, if b(coefficient) is zero, Y(the actual outcome) must be zero. but in this case actual outcome's\n",
    "# intercept is not zero. so we must add intercept.\n",
    "# design matrix\n",
    "X = np.concatenate( [np.ones([N,1]),np.array([np.arange(0,N)]).T],axis=1)\n",
    "# Here, I have only added 1s column on the left. so when you do just one equation, it will be [Nx2]\n",
    "# coefficient is now [2x1]. If you just apply one equation with this, it is 1* whatever + n* whatever = outcome data. so 1* whatever\n",
    "# act as an intercept. the order can be changed. 1s can be added on the right as well.\n",
    "print(X)\n",
    "# fit the model\n",
    "b = np.linalg.solve(np.matrix.transpose(X)@X,np.matrix.transpose(X)@data)\n",
    "print(b)\n",
    "# compute the model-predicted values\n",
    "yHat = X@b\n",
    "print(yHat)\n",
    "# plot data and model prediction\n",
    "plt.plot(np.arange(1,N+1),data,'bs-',label='Data')\n",
    "plt.plot(np.arange(1,N+1),yHat,'ro--',label='Model pred.')\n",
    "\n",
    "plt.legend()\n",
    "plt.show()"
   ]
  },
  {
   "cell_type": "markdown",
   "metadata": {},
   "source": [
    "\n",
    "---\n",
    "# VIDEO: Least-squares example 2\n",
    "---\n"
   ]
  },
  {
   "cell_type": "code",
   "execution_count": 23,
   "metadata": {},
   "outputs": [
    {
     "name": "stdout",
     "output_type": "stream",
     "text": [
      "dict_keys(['__header__', '__version__', '__globals__', 'EEGdata', 'frex', 'rts'])\n"
     ]
    },
    {
     "data": {
      "image/png": "[encoded data removed]",
      "text/plain": [
       "<Figure size 432x288 with 2 Axes>"
      ]
     },
     "metadata": {
      "needs_background": "light"
     },
     "output_type": "display_data"
    }
   ],
   "source": [
    "\n",
    "# load data\n",
    "data = sio.loadmat('EEG_RT_data.mat')\n",
    "print(data.keys())\n",
    "rts = data['rts']\n",
    "rts = rts[0]\n",
    "EEGdata = data['EEGdata']\n",
    "frex = data['frex']\n",
    "frex = frex[0]\n",
    "\n",
    "nTrials = len(rts)\n",
    "nFrex = len(frex)\n",
    "\n",
    "\n",
    "# show the data\n",
    "plt.subplot(211)\n",
    "plt.plot(rts,'ks-')\n",
    "plt.xlabel('Trial')\n",
    "\n",
    "plt.subplot(212)\n",
    "plt.imshow(EEGdata,origin='lower')\n",
    "plt.xlabel('Trial'), plt.ylabel('Frequency')\n",
    "plt.show()"
   ]
  },
  {
   "cell_type": "code",
   "execution_count": 27,
   "metadata": {},
   "outputs": [
    {
     "data": {
      "text/plain": [
       "Text(0, 0.5, 'beta-coefficient')"
      ]
     },
     "execution_count": 27,
     "metadata": {},
     "output_type": "execute_result"
    },
    {
     "data": {
      "image/png": "[encoded data removed]",
      "text/plain": [
       "<Figure size 432x288 with 1 Axes>"
      ]
     },
     "metadata": {
      "needs_background": "light"
     },
     "output_type": "display_data"
    }
   ],
   "source": [
    "# initialize beta coefficients vector\n",
    "b = np.zeros(len(frex))\n",
    "\n",
    "# loop over frequencies\n",
    "for fi in np.arange(0,len(frex)):\n",
    "    \n",
    "    # design matrix\n",
    "    X = np.concatenate( [np.ones([nTrials,1]),np.reshape(EEGdata[fi,:],(nTrials,1))],axis=1)\n",
    "    \n",
    "    # compute parameters\n",
    "    t = np.linalg.solve(np.matrix.transpose(X)@X,np.matrix.transpose(X)@rts)\n",
    "    b[fi] = t[1]\n",
    "\n",
    "\n",
    "# plots\n",
    "plt.subplot(211)\n",
    "plt.plot(frex,b,'rs-')\n",
    "plt.xlabel('Frequency (Hz)')\n",
    "plt.ylabel('beta-coefficient')\n"
   ]
  },
  {
   "cell_type": "code",
   "execution_count": 28,
   "metadata": {},
   "outputs": [
    {
     "data": {
      "image/png": "[encoded data removed]",
      "text/plain": [
       "<Figure size 432x288 with 2 Axes>"
      ]
     },
     "metadata": {
      "needs_background": "light"
     },
     "output_type": "display_data"
    }
   ],
   "source": [
    "plt.subplot(223)\n",
    "plt.plot(EEGdata[8,:],rts,'ks')\n",
    "\n",
    "plt.subplot(224)\n",
    "plt.plot(EEGdata[23,:],rts,'ks')\n",
    "plt.show()\n"
   ]
  },
  {
   "cell_type": "code",
   "execution_count": 58,
   "metadata": {},
   "outputs": [
    {
     "name": "stdout",
     "output_type": "stream",
     "text": [
      "[[ 0.66574736]\n",
      " [-0.04854437]\n",
      " [-0.01717233]\n",
      " [ 0.06175429]]\n",
      "[[ 0.66574736]\n",
      " [-0.04854437]\n",
      " [-0.01717233]\n",
      " [ 0.06175429]]\n"
     ]
    }
   ],
   "source": [
    "#challenge least squares via QR\n",
    "#genrate random data (design matrix X, data y)\n",
    "#solve for beta using QR decomp\n",
    "#compare the QR result against the \"stadard left-inverse method\"\n",
    "np.random.seed(0)\n",
    "X = np.concatenate([np.ones([10,1]), np.random.randint(0,10,(10,3))], axis=1)\n",
    "output = np.random.rand(10,1)\n",
    "Q, R = np.linalg.qr(X)\n",
    "print(np.linalg.inv(R)@Q.T@output)\n",
    "result = np.linalg.solve(np.matrix.transpose(X)@X,np.matrix.transpose(X)@output)\n",
    "print(result)"
   ]
  }
 ],
 "metadata": {
  "kernelspec": {
   "display_name": "Python 3",
   "language": "python",
   "name": "python3"
  },
  "language_info": {
   "codemirror_mode": {
    "name": "ipython",
    "version": 3
   },
   "file_extension": ".py",
   "mimetype": "text/x-python",
   "name": "python",
   "nbconvert_exporter": "python",
   "pygments_lexer": "ipython3",
   "version": "3.7.6"
  }
 },
 "nbformat": 4,
 "nbformat_minor": 2
}
