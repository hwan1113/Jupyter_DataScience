{
 "cells": [
  {
   "cell_type": "code",
   "execution_count": 1,
   "metadata": {},
   "outputs": [],
   "source": [
    "import numpy as np\n",
    "import matplotlib.pyplot as plt\n",
    "import math"
   ]
  },
  {
   "cell_type": "markdown",
   "metadata": {},
   "source": [
    "\n",
    "---\n",
    "# VIDEO: Computing rank: theory and practice\n",
    "---\n"
   ]
  },
  {
   "cell_type": "code",
   "execution_count": 7,
   "metadata": {},
   "outputs": [
    {
     "name": "stdout",
     "output_type": "stream",
     "text": [
      "rank=4\n",
      "rank=4\n"
     ]
    }
   ],
   "source": [
    "# make a matrix\n",
    "m = 4\n",
    "n = 6\n",
    "\n",
    "# create a random matrix\n",
    "A = np.random.randn(m,n)\n",
    "\n",
    "# what is the largest possible rank?\n",
    "ra = np.linalg.matrix_rank(A)\n",
    "print('rank=' + str(ra))\n",
    "\n",
    "\n",
    "# set last column to be repeat of penultimate column\n",
    "B = A\n",
    "B[:,n-1] = B[:,n-2]\n",
    "rb = np.linalg.matrix_rank(B)\n",
    "print('rank=' + str(rb))\n",
    "\n",
    "# B[:,n-3] = B[:,n-2]\n",
    "# B[:,n-4] = B[:,n-2]\n",
    "# rb = np.linalg.matrix_rank(B)\n",
    "# print('rank=' + str(rb))"
   ]
  },
  {
   "cell_type": "code",
   "execution_count": 8,
   "metadata": {},
   "outputs": [
    {
     "name": "stdout",
     "output_type": "stream",
     "text": [
      "rank (w/o noise) = 3\n",
      "rank (with noise) = 4\n"
     ]
    }
   ],
   "source": [
    "## adding noise to a rank-deficient matrix\n",
    "\n",
    "# square for convenience\n",
    "A = np.round( 10*np.random.randn(m,m) )\n",
    "\n",
    "# reduce the rank\n",
    "A[:,m-1] = A[:,m-2]\n",
    "\n",
    "# noise level\n",
    "noiseamp = .001\n",
    "\n",
    "# add the noise\n",
    "B = A + noiseamp*np.random.randn(m,m)\n",
    "\n",
    "print('rank (w/o noise) = ' + str(np.linalg.matrix_rank(A)))\n",
    "print('rank (with noise) = ' + str(np.linalg.matrix_rank(B)))"
   ]
  },
  {
   "cell_type": "code",
   "execution_count": 27,
   "metadata": {},
   "outputs": [
    {
     "name": "stdout",
     "output_type": "stream",
     "text": [
      "4\n",
      "4\n",
      "4\n",
      "(10, 10)\n",
      "2\n",
      "(8, 3)\n"
     ]
    }
   ],
   "source": [
    "#Challenge\n",
    "#Create reduced-rank matrices using multplication\n",
    "#Create a 10 x 10 matrix with rank=4 (use matrix multiplication)\n",
    "#Generalize the procedure to create any MxN matrix with rank r\n",
    "np.random.seed(0)\n",
    "mat1 = np.random.randint(0,10,(10,4))\n",
    "mat2 = np.random.randint(0,10,(4,10))\n",
    "print(np.linalg.matrix_rank(mat1))\n",
    "print(np.linalg.matrix_rank(mat2))\n",
    "\n",
    "result = mat1@mat2\n",
    "print(np.linalg.matrix_rank(result))\n",
    "print(result.shape)\n",
    "\n",
    "m = 8\n",
    "n = 3\n",
    "r = 2\n",
    "mat3 = np.random.randint(0,10,(m,r))\n",
    "mat4 = np.random.randint(0,10,(r,n))\n",
    "result = mat3@mat4\n",
    "print(np.linalg.matrix_rank(result))\n",
    "print(result.shape)"
   ]
  },
  {
   "cell_type": "code",
   "execution_count": 34,
   "metadata": {},
   "outputs": [
    {
     "name": "stdout",
     "output_type": "stream",
     "text": [
      "7\n",
      "3\n",
      "7\n",
      "3\n",
      "False\n"
     ]
    }
   ],
   "source": [
    "#Challenge\n",
    "# create two matrices: full-rank and a reduced-rank (random)\n",
    "# crate some scalar\n",
    "# print rank of F, R, l*F, l*R\n",
    "#check whether rank(l*F) == l*rank(F)\n",
    "\n",
    "m = 8\n",
    "n = 7\n",
    "r = 3\n",
    "l = 2\n",
    "np.random.seed(0)\n",
    "f = np.random.randint(0,10,(m,n))\n",
    "r = np.random.randint(0,10,(m,r)) @ np.random.randint(0,10,(r,n))\n",
    "print(np.linalg.matrix_rank(f))\n",
    "print(np.linalg.matrix_rank(r))\n",
    "print(np.linalg.matrix_rank(f*l))\n",
    "print(np.linalg.matrix_rank(r*l))\n",
    "print(np.linalg.matrix_rank(r) == l * np.linalg.matrix_rank(r*l))\n"
   ]
  },
  {
   "cell_type": "markdown",
   "metadata": {},
   "source": [
    "\n",
    "---\n",
    "# VIDEO: Rank of A^TA and AA^T\n",
    "---\n"
   ]
  },
  {
   "cell_type": "code",
   "execution_count": 45,
   "metadata": {},
   "outputs": [
    {
     "name": "stdout",
     "output_type": "stream",
     "text": [
      "AtA: 3x3, rank=3\n",
      "AAt: 14x14, rank=3\n"
     ]
    }
   ],
   "source": [
    "# matrix sizes\n",
    "m = 14\n",
    "n =  3\n",
    "\n",
    "# create matrices\n",
    "A = np.round( 10*np.random.randn(m,n) )\n",
    "\n",
    "AtA = np.matrix.transpose(A)@A\n",
    "AAt = A@np.matrix.transpose(A)\n",
    "\n",
    "# get matrix sizes\n",
    "sizeAtA = AtA.shape\n",
    "sizeAAt = AAt.shape\n",
    "\n",
    "# print info!\n",
    "print('AtA: %dx%d, rank=%d' %(sizeAtA[0],sizeAtA[1],np.linalg.matrix_rank(AtA)))\n",
    "print('AAt: %dx%d, rank=%d' %(sizeAAt[0],sizeAAt[1],np.linalg.matrix_rank(AAt)))\n"
   ]
  },
  {
   "cell_type": "code",
   "execution_count": 39,
   "metadata": {},
   "outputs": [
    {
     "name": "stdout",
     "output_type": "stream",
     "text": [
      "2\n",
      "2\n",
      "2\n",
      "2\n"
     ]
    }
   ],
   "source": [
    "#challenge\n",
    "#rule rank of AB <= min(rank(A), rank(B)) --> but apply for A, At\n",
    "#     rank of A + B <= rank(A) + rank(B)\n",
    "\n",
    "#generate two mattrices (A and B), 2x5\n",
    "# compute AtA and BtB\n",
    "# find their ranks\n",
    "# find ranks of AtA and BtB\n",
    "np.random.seed(0)\n",
    "mat1 = np.random.randint(0,10, (2,5))\n",
    "mat2 = np.random.randint(0,10, (2,5))\n",
    "print(np.linalg.matrix_rank(mat1))\n",
    "print(np.linalg.matrix_rank(mat2))\n",
    "print(np.linalg.matrix_rank(mat1@mat1.T))\n",
    "print(np.linalg.matrix_rank(mat2.T@mat2))"
   ]
  },
  {
   "cell_type": "markdown",
   "metadata": {},
   "source": [
    "\n",
    "---\n",
    "# VIDEO: Making a matrix full-rank by \"shifting\"\n",
    "---\n"
   ]
  },
  {
   "cell_type": "code",
   "execution_count": 40,
   "metadata": {},
   "outputs": [
    {
     "name": "stdout",
     "output_type": "stream",
     "text": [
      "rank(w/o shift) = 29\n",
      "rank(with shift) = 30\n"
     ]
    }
   ],
   "source": [
    "# size of matrix\n",
    "m = 30\n",
    "\n",
    "# create the square symmetric matrix\n",
    "A = np.random.randn(m,m)\n",
    "A = np.round( 10*np.matrix.transpose(A)@A )\n",
    "\n",
    "# reduce the rank\n",
    "A[:,0] = A[:,1]\n",
    "\n",
    "# shift amount (l=lambda)\n",
    "l = .01\n",
    "\n",
    "# new matrix\n",
    "B = A + l*np.eye(m,m)\n",
    "\n",
    "# print information\n",
    "print('rank(w/o shift) = %d' %np.linalg.matrix_rank(A))\n",
    "print('rank(with shift) = %d' %np.linalg.matrix_rank(B))\n"
   ]
  },
  {
   "cell_type": "code",
   "execution_count": 73,
   "metadata": {},
   "outputs": [
    {
     "name": "stdout",
     "output_type": "stream",
     "text": [
      "2\n",
      "3\n",
      "2\n",
      "2\n"
     ]
    }
   ],
   "source": [
    "#challenge\n",
    "#determine whether this vector\n",
    "v = [1,2,3,4];\n",
    "\n",
    "# is in the span of these sets\n",
    "S = [[4,3,6,2],[0,4,0,1]];\n",
    "T = [[1,2,2,2],[0,0,1,2]];\n",
    "print(np.linalg.matrix_rank(S))\n",
    "S.append(v)\n",
    "print(np.linalg.matrix_rank(S))\n",
    "\n",
    "print(np.linalg.matrix_rank(T))\n",
    "T.append(v)\n",
    "print(np.linalg.matrix_rank(T))\n"
   ]
  }
 ],
 "metadata": {
  "kernelspec": {
   "display_name": "Python 3",
   "language": "python",
   "name": "python3"
  },
  "language_info": {
   "codemirror_mode": {
    "name": "ipython",
    "version": 3
   },
   "file_extension": ".py",
   "mimetype": "text/x-python",
   "name": "python",
   "nbconvert_exporter": "python",
   "pygments_lexer": "ipython3",
   "version": "3.7.6"
  }
 },
 "nbformat": 4,
 "nbformat_minor": 2
}
