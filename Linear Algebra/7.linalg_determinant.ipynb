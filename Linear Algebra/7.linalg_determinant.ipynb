{
 "cells": [
  {
   "cell_type": "code",
   "execution_count": 1,
   "metadata": {},
   "outputs": [],
   "source": [
    "import numpy as np\n",
    "from sympy import *\n",
    "import matplotlib.pyplot as plt\n"
   ]
  },
  {
   "cell_type": "code",
   "execution_count": 6,
   "metadata": {},
   "outputs": [
    {
     "name": "stdout",
     "output_type": "stream",
     "text": [
      "1\n",
      "0.0\n",
      "99\n",
      "-5.4471373626255e+109\n"
     ]
    }
   ],
   "source": [
    "#Challenge\n",
    "# singular matrix (reduced-rank matrix) has a determinant of 0\n",
    "# generate a 2x2 matrix of integers, with linear dependencies\n",
    "# compute the rank\n",
    "np.random.seed(1)\n",
    "A = np.random.randint(0,10, (2,2))\n",
    "A[:,0] = A[:,1]\n",
    "print(np.linalg.matrix_rank(A))\n",
    "print(np.linalg.det(A))\n",
    "\n",
    "# generate mxm matrices. impose linear dependencies\n",
    "# compute the rank\n",
    "# small m(2,3,4) and for large m(10,20,30)\n",
    "m = 100\n",
    "B = np.random.randint(0,10, (m,m))\n",
    "B[:,0] = B[:,1]\n",
    "print(np.linalg.matrix_rank(B))\n",
    "print(np.linalg.det(B))\n",
    "# not accurate for large numbers\n"
   ]
  },
  {
   "cell_type": "code",
   "execution_count": 7,
   "metadata": {},
   "outputs": [
    {
     "name": "stdout",
     "output_type": "stream",
     "text": [
      "43823.999999999935\n",
      "-43823.999999999935\n",
      "43823.999999999935\n"
     ]
    }
   ],
   "source": [
    "#Challenge\n",
    "#generate a 6x6 matrix\n",
    "# compute the determinant\n",
    "# swap one row do det \n",
    "# swap two row do det again\n",
    "np.random.seed(0)\n",
    "C = np.random.randint(0,10, (6,6))\n",
    "print(np.linalg.det(C))\n",
    "C[[0,1]] = C[[1,0]] # exchange between 0th row and 1st row\n",
    "print(np.linalg.det(C))\n",
    "C[[0,2]] = C[[2,0]]\n",
    "print(np.linalg.det(C))"
   ]
  },
  {
   "cell_type": "code",
   "execution_count": 82,
   "metadata": {},
   "outputs": [
    {
     "data": {
      "text/plain": [
       "[<matplotlib.lines.Line2D at 0x2765d6773c8>]"
      ]
     },
     "execution_count": 82,
     "metadata": {},
     "output_type": "execute_result"
    },
    {
     "data": {
      "image/png": "[encoded data removed]",
      "text/plain": [
       "<Figure size 432x288 with 1 Axes>"
      ]
     },
     "metadata": {
      "needs_background": "light"
     },
     "output_type": "display_data"
    }
   ],
   "source": [
    "# challenge - know the effects of shifting on determinants\n",
    "# generate a square random matrix (20x20)\n",
    "# impose a linear dependence\n",
    "# \"shift\" the matrix (0~1 * identity matrix) = l \n",
    "# compute the abs(determinant) of the shifted matrix\n",
    "# repeat 1000 times, take the average abs(det)\n",
    "# plot of det as a functino of lambda\n",
    "lam = np.linspace(0,1, 30)\n",
    "avg = np.zeros(len(lam))\n",
    "tmp = np.zeros(100)\n",
    "\n",
    "for j in range(len(lam)):\n",
    "    for i in range(100):\n",
    "        D = np.random.randint(0,10, (20,20))\n",
    "        D[:,0] = D[:,1]\n",
    "        E = np.eye(20) * lam[j]\n",
    "        det = np.absolute(np.linalg.det(E + D))\n",
    "        tmp[i] = det\n",
    "    avg[j] = np.mean(tmp)\n",
    "plt.plot(lam, avg, 'r.--')\n",
    "# as the shift gets bigger, determinant goes further away from 0\n",
    "    "
   ]
  }
 ],
 "metadata": {
  "kernelspec": {
   "display_name": "Python 3",
   "language": "python",
   "name": "python3"
  },
  "language_info": {
   "codemirror_mode": {
    "name": "ipython",
    "version": 3
   },
   "file_extension": ".py",
   "mimetype": "text/x-python",
   "name": "python",
   "nbconvert_exporter": "python",
   "pygments_lexer": "ipython3",
   "version": "3.7.6"
  }
 },
 "nbformat": 4,
 "nbformat_minor": 4
}
