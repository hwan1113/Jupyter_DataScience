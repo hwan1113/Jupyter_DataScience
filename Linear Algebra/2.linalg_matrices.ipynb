{
 "cells": [
  {
   "cell_type": "code",
   "execution_count": 1,
   "metadata": {},
   "outputs": [],
   "source": [
    "import numpy as np"
   ]
  },
  {
   "cell_type": "markdown",
   "metadata": {},
   "source": [
    "\n",
    "---\n",
    "# VIDEO: A zoo of matrices\n",
    "---\n"
   ]
  },
  {
   "cell_type": "code",
   "execution_count": 2,
   "metadata": {},
   "outputs": [
    {
     "name": "stdout",
     "output_type": "stream",
     "text": [
      "[[ 1.76716709 -0.43287189 -0.68560239  1.0102908   0.48852788]\n",
      " [ 0.01047215 -0.2323369   0.21833742  1.38018061 -0.32582112]\n",
      " [-0.26784638 -0.11188163  0.64569597  1.30712025 -0.00495906]\n",
      " [-0.92631669  0.429123    0.10854802  0.04092055  0.10914579]\n",
      " [-0.12880651 -0.13687153 -1.04698477 -0.03308043 -0.57413357]]\n",
      "[[ 0.97619746 -0.35872025]\n",
      " [-1.48255572 -2.65963041]\n",
      " [-0.01573082 -0.81944502]\n",
      " [ 1.99155989 -0.8845294 ]\n",
      " [ 1.26183815  1.10534664]]\n"
     ]
    }
   ],
   "source": [
    "# square vs. rectangular\n",
    "S = np.random.randn(5,5)\n",
    "R = np.random.randn(5,2) # 5 rows, 2 columns\n",
    "print(S)\n",
    "print(R)"
   ]
  },
  {
   "cell_type": "code",
   "execution_count": 3,
   "metadata": {},
   "outputs": [
    {
     "name": "stdout",
     "output_type": "stream",
     "text": [
      "[[1. 0. 0.]\n",
      " [0. 1. 0.]\n",
      " [0. 0. 1.]]\n"
     ]
    }
   ],
   "source": [
    "# identity\n",
    "I = np.eye(3)\n",
    "print(I)"
   ]
  },
  {
   "cell_type": "code",
   "execution_count": 4,
   "metadata": {},
   "outputs": [
    {
     "name": "stdout",
     "output_type": "stream",
     "text": [
      "[[0. 0. 0. 0.]\n",
      " [0. 0. 0. 0.]\n",
      " [0. 0. 0. 0.]\n",
      " [0. 0. 0. 0.]]\n"
     ]
    }
   ],
   "source": [
    "# zeros\n",
    "Z = np.zeros((4,4))\n",
    "print(Z)"
   ]
  },
  {
   "cell_type": "code",
   "execution_count": 5,
   "metadata": {},
   "outputs": [
    {
     "name": "stdout",
     "output_type": "stream",
     "text": [
      "[[1 0 0 0 0]\n",
      " [0 2 0 0 0]\n",
      " [0 0 3 0 0]\n",
      " [0 0 0 5 0]\n",
      " [0 0 0 0 2]]\n"
     ]
    }
   ],
   "source": [
    "# diagonal\n",
    "D = np.diag([ 1, 2, 3, 5, 2 ])\n",
    "print(D)"
   ]
  },
  {
   "cell_type": "code",
   "execution_count": 6,
   "metadata": {},
   "outputs": [
    {
     "name": "stdout",
     "output_type": "stream",
     "text": [
      "[[ 1.40116042 -1.7740028   0.60013688 -1.14076827  0.22421633]\n",
      " [ 0.         -0.24988344 -0.7315102   0.3751425   2.13907932]\n",
      " [ 0.          0.          0.77000563  0.69042489 -1.3392748 ]\n",
      " [ 0.          0.          0.         -0.10686659  0.64308018]\n",
      " [ 0.          0.          0.          0.          0.11789246]]\n",
      "[[ 1.40116042  0.          0.          0.          0.        ]\n",
      " [ 0.91211865 -0.24988344  0.          0.          0.        ]\n",
      " [-0.42497567 -0.44390136  0.77000563  0.          0.        ]\n",
      " [-0.06228659 -0.89093883  0.85404897 -0.10686659  0.        ]\n",
      " [ 0.38777372  0.05369647 -0.14361431 -0.41598852  0.11789246]]\n"
     ]
    }
   ],
   "source": [
    "# create triangular matrix from full matrices\n",
    "S = np.random.randn(5,5)\n",
    "U = np.triu(S)\n",
    "L = np.tril(S)\n",
    "print(U)\n",
    "print(L)"
   ]
  },
  {
   "cell_type": "code",
   "execution_count": 7,
   "metadata": {},
   "outputs": [
    {
     "name": "stdout",
     "output_type": "stream",
     "text": [
      "[[-0.16794038  0.56826531  0.56503325  0.11406178 -0.28715714 -0.38254548]\n",
      " [ 2.11193739 -0.53422577  0.10641244  1.0821864  -0.01325258 -0.51341962]\n",
      " [ 0.95058893 -0.38181923 -0.51189936 -1.73764364  0.83615831 -1.54522747]]\n"
     ]
    }
   ],
   "source": [
    "# concatenate matrices (sizes must match!)\n",
    "A = np.random.randn(3,2)\n",
    "#B = np.random.randn(4,4)\n",
    "B = np.random.randn(3,4)\n",
    "C = np.concatenate((A,B),axis=1)\n",
    "print(C)"
   ]
  },
  {
   "cell_type": "markdown",
   "metadata": {},
   "source": [
    "\n",
    "---\n",
    "# VIDEO: Matrix addition and subtraction\n",
    "---\n"
   ]
  },
  {
   "cell_type": "code",
   "execution_count": 8,
   "metadata": {},
   "outputs": [
    {
     "data": {
      "text/plain": [
       "array([[-0.8516535 , -0.18596019,  0.15617013,  0.86308207],\n",
       "       [ 1.14012269, -0.06945355,  1.3982311 , -0.72836958],\n",
       "       [ 1.6189642 , -1.14278782, -0.21448021, -0.3336921 ],\n",
       "       [ 1.24292062, -1.63943053, -1.03537079, -0.61168848],\n",
       "       [-1.66953267,  0.47499385,  2.15450851,  1.04409471]])"
      ]
     },
     "execution_count": 8,
     "metadata": {},
     "output_type": "execute_result"
    }
   ],
   "source": [
    "# create random matrices\n",
    "A = np.random.randn(5,4)\n",
    "B = np.random.randn(5,3)\n",
    "C = np.random.randn(5,4)\n",
    "\n",
    "# try to add them\n",
    "# A+B\n",
    "A+C"
   ]
  },
  {
   "cell_type": "code",
   "execution_count": 9,
   "metadata": {},
   "outputs": [
    {
     "name": "stdout",
     "output_type": "stream",
     "text": [
      "[[  28.   59.  -22.  -55.  -37.]\n",
      " [  82.   77. -149.  -18.  -61.]\n",
      " [ -98.  -28.  -16.  112. -115.]\n",
      " [-134.  -30.  -13.   21.   -9.]\n",
      " [ 213.  -96. -144.  -46.  -62.]]\n",
      "[[  28.3   59.   -22.   -55.   -37. ]\n",
      " [  82.    77.3 -149.   -18.   -61. ]\n",
      " [ -98.   -28.   -15.7  112.  -115. ]\n",
      " [-134.   -30.   -13.    21.3   -9. ]\n",
      " [ 213.   -96.  -144.   -46.   -61.7]]\n"
     ]
    }
   ],
   "source": [
    "# \"shifting\" a matrix\n",
    "l = .3 # lambda\n",
    "N = 5  # size of square matrix\n",
    "D = np.random.randn(N,N).round(2)*100# can only shift a square matrix\n",
    "print(D)\n",
    "\n",
    "Ds = D + l*np.eye(N)\n",
    "print(Ds)"
   ]
  },
  {
   "cell_type": "markdown",
   "metadata": {},
   "source": [
    "\n",
    "---\n",
    "# VIDEO: Matrix-scalar multiplication\n",
    "---\n"
   ]
  },
  {
   "cell_type": "code",
   "execution_count": 11,
   "metadata": {},
   "outputs": [
    {
     "name": "stdout",
     "output_type": "stream",
     "text": [
      "[[ 2  4]\n",
      " [ 6 10]]\n",
      "[[ 2  4]\n",
      " [ 6 10]]\n"
     ]
    }
   ],
   "source": [
    "# define matrix and scalar\n",
    "M = np.array([ [1, 2], [3, 5] ])\n",
    "s = 2\n",
    "\n",
    "# pre- and post-multiplication is the same:\n",
    "print( M*s )\n",
    "print( s*M )"
   ]
  },
  {
   "cell_type": "code",
   "execution_count": 24,
   "metadata": {},
   "outputs": [
    {
     "data": {
      "text/plain": [
       "array([[ True,  True],\n",
       "       [ True,  True],\n",
       "       [ True,  True],\n",
       "       [ True,  True]])"
      ]
     },
     "execution_count": 24,
     "metadata": {},
     "output_type": "execute_result"
    }
   ],
   "source": [
    "#Challenge\n",
    "#is matrix scalar multiplication a linear operation? --> does it obey distributive trait\n",
    "#is s(A+B) = sA + sB ? --> 빼서 0이 되면 되는것. \n",
    "M = np.random.randint(0, 10, 8).reshape(4,2)\n",
    "N = np.random.randint(10, 20, 8).reshape(4,2)\n",
    "S = 3\n",
    "\n",
    "result1 = S * (M + N)\n",
    "result2 = S*M + S*N\n",
    "\n",
    "result1 - result2 == 0"
   ]
  },
  {
   "cell_type": "markdown",
   "metadata": {},
   "source": [
    "# VIDEO: Transpose"
   ]
  },
  {
   "cell_type": "code",
   "execution_count": 25,
   "metadata": {},
   "outputs": [
    {
     "name": "stdout",
     "output_type": "stream",
     "text": [
      "[[1 2 3]\n",
      " [2 3 4]]\n",
      "\n",
      "[[1 2]\n",
      " [2 3]\n",
      " [3 4]]\n",
      "\n",
      "[[1 2 3]\n",
      " [2 3 4]]\n",
      "\n",
      "[[1 2]\n",
      " [2 3]\n",
      " [3 4]]\n"
     ]
    }
   ],
   "source": [
    "M = np.array([ [1,2,3],\n",
    "               [2,3,4] ])\n",
    "\n",
    "print(M), print('')\n",
    "print(M.T), print('') # one transpose\n",
    "print(M.T.T),print('') # double-transpose returns the original matrix\n",
    "\n",
    "# can also use the function transpose\n",
    "print(np.transpose(M))"
   ]
  },
  {
   "cell_type": "code",
   "execution_count": 28,
   "metadata": {},
   "outputs": [
    {
     "name": "stdout",
     "output_type": "stream",
     "text": [
      "[[4.+1.j 3.+0.j 2.-4.j]]\n",
      "\n",
      "[[4.+1.j]\n",
      " [3.+0.j]\n",
      " [2.-4.j]]\n",
      "\n",
      "[[4.+1.j]\n",
      " [3.+0.j]\n",
      " [2.-4.j]]\n",
      "\n",
      "[[4.-1.j]\n",
      " [3.-0.j]\n",
      " [2.+4.j]]\n"
     ]
    }
   ],
   "source": [
    "# warning! be careful when using complex matrices\n",
    "C = np.array([ [4+1j , 3 , 2-4j] ])\n",
    "\n",
    "print(C), print('')\n",
    "print(C.T), print('')\n",
    "print(np.transpose(C))\n",
    "print('')\n",
    "\n",
    "# Note: In MATLAB, the transpose is the Hermitian transpose; \n",
    "#       in Python, you need to call the Hermitian explicitly by first converting from an array into a matrix\n",
    "print(np.matrix(C).H) # note the sign flips!\n"
   ]
  },
  {
   "cell_type": "markdown",
   "metadata": {},
   "source": [
    "\n",
    "---\n",
    "# VIDEO: Diagonal and trace\n",
    "---\n"
   ]
  },
  {
   "cell_type": "code",
   "execution_count": 30,
   "metadata": {},
   "outputs": [
    {
     "name": "stdout",
     "output_type": "stream",
     "text": [
      "[[ 9.  2.  5. 11.]\n",
      " [ 9. -5.  5. -1.]\n",
      " [-1.  2.  1.  7.]\n",
      " [ 4.  1.  2.  2.]]\n",
      "[ 9. -5.  1.  2.]\n",
      "[[ 9.  0.  0.  0.]\n",
      " [ 0. -5.  0.  0.]\n",
      " [ 0.  0.  1.  0.]\n",
      " [ 0.  0.  0.  2.]]\n"
     ]
    }
   ],
   "source": [
    "np.random.seed(0)\n",
    "M = np.round( 5*np.random.randn(4,4) )\n",
    "print(M)\n",
    "# extract the diagonals\n",
    "d = np.diag(M)\n",
    "\n",
    "# notice the two ways of using the diag function\n",
    "d = np.diag(M) # input is matrix, output is vector\n",
    "D = np.diag(d) # input is vector, output is matrix\n",
    "print(d)\n",
    "print(D)"
   ]
  },
  {
   "cell_type": "code",
   "execution_count": 31,
   "metadata": {},
   "outputs": [
    {
     "name": "stdout",
     "output_type": "stream",
     "text": [
      "7.0\n",
      "7.0\n"
     ]
    }
   ],
   "source": [
    "# trace as sum of diagonal elements\n",
    "tr = np.trace(M)\n",
    "tr2 = sum( np.diag(M) )\n",
    "print(tr)\n",
    "print(tr2)"
   ]
  },
  {
   "cell_type": "code",
   "execution_count": 41,
   "metadata": {},
   "outputs": [
    {
     "name": "stdout",
     "output_type": "stream",
     "text": [
      "34\n",
      "34\n",
      "0.6\n",
      "0.6\n"
     ]
    }
   ],
   "source": [
    "#Challenge\n",
    "#Linearity of trace\n",
    "#tr(A+B) = tr(A) + tr(B) ?\n",
    "#tr(l*A) = l*tr(A) ? (l is a random lambda)\n",
    "np.random.seed(0)\n",
    "A = np.random.randint(0,10, 8).reshape(2,4)\n",
    "B = np.random.randint(10, 20, 8).reshape(2,4)\n",
    "print(np.trace(A+B))\n",
    "print(np.trace(A)+np.trace(B))\n",
    "l = 0.3\n",
    "print(np.trace(A*l))\n",
    "print(np.trace(A)*l)\n"
   ]
  }
 ],
 "metadata": {
  "kernelspec": {
   "display_name": "Python 3",
   "language": "python",
   "name": "python3"
  },
  "language_info": {
   "codemirror_mode": {
    "name": "ipython",
    "version": 3
   },
   "file_extension": ".py",
   "mimetype": "text/x-python",
   "name": "python",
   "nbconvert_exporter": "python",
   "pygments_lexer": "ipython3",
   "version": "3.7.6"
  }
 },
 "nbformat": 4,
 "nbformat_minor": 2
}
