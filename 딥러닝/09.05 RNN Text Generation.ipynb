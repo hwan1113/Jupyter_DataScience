{
 "cells": [
  {
   "cell_type": "markdown",
   "metadata": {
    "school_cell_uuid": "174589a9793543e18926d0fd160aba0a"
   },
   "source": [
    "# RNN Text Generation"
   ]
  },
  {
   "cell_type": "code",
   "execution_count": 2,
   "metadata": {
    "school_cell_uuid": "41ecfbb5edf1467094e1b908c3ca1b3d"
   },
   "outputs": [],
   "source": [
    "from keras.models import Sequential\n",
    "from keras.layers import Dense, Embedding, LSTM, Dropout\n",
    "from keras.optimizers import *\n",
    "from keras.utils import np_utils\n",
    "from keras.preprocessing import sequence\n",
    "from keras.preprocessing.text import Tokenizer\n",
    "\n",
    "from nltk.tokenize import sent_tokenize\n",
    "from konlpy.corpus import kolaw\n",
    "from konlpy.tag import Twitter"
   ]
  },
  {
   "cell_type": "markdown",
   "metadata": {
    "school_cell_uuid": "4ece831440234d5e97a60b2d7dcfd35e"
   },
   "source": [
    "## Corpus"
   ]
  },
  {
   "cell_type": "code",
   "execution_count": 3,
   "metadata": {
    "school_cell_uuid": "1273c8fc07fb48798e354e9defa63844"
   },
   "outputs": [],
   "source": [
    "c = kolaw.open('constitution.txt').read()"
   ]
  },
  {
   "cell_type": "code",
   "execution_count": 4,
   "metadata": {
    "school_cell_uuid": "81e718ab355f4ebfae0889c9f5c38f2a"
   },
   "outputs": [],
   "source": [
    "senstents = [s for s in sent_tokenize(c)]"
   ]
  },
  {
   "cell_type": "code",
   "execution_count": 5,
   "metadata": {
    "school_cell_uuid": "6ec0ea9354d545898f1da963d3ee9ecb"
   },
   "outputs": [
    {
     "data": {
      "text/plain": [
       "'제2조 ① 대한민국의 국민이 되는 요건은 법률로 정한다.'"
      ]
     },
     "execution_count": 5,
     "metadata": {},
     "output_type": "execute_result"
    }
   ],
   "source": [
    "senstents[3]"
   ]
  },
  {
   "cell_type": "markdown",
   "metadata": {
    "school_cell_uuid": "7c2d3721c3824617bde0720cb11a7cfc"
   },
   "source": [
    "## Preprocessing"
   ]
  },
  {
   "cell_type": "code",
   "execution_count": 6,
   "metadata": {
    "school_cell_uuid": "42d2b9304c9f4ec49f4f82e2f9449141"
   },
   "outputs": [],
   "source": [
    "twitter = Twitter()\n",
    "doc0 = [\" \".join([\"\".join(w) for w, t in twitter.pos(s) \n",
    "                  if t not in ['Number', \"Foreign\"] and w not in [\"제\", \"조\"]]) for s in sent_tokenize(c)]"
   ]
  },
  {
   "cell_type": "code",
   "execution_count": 7,
   "metadata": {
    "school_cell_uuid": "f2e776da47764a9981b84b19979f3ade"
   },
   "outputs": [
    {
     "data": {
      "text/plain": [
       "357"
      ]
     },
     "execution_count": 7,
     "metadata": {},
     "output_type": "execute_result"
    }
   ],
   "source": [
    "len(doc0)"
   ]
  },
  {
   "cell_type": "code",
   "execution_count": 8,
   "metadata": {
    "school_cell_uuid": "92e10a4197db46c398652b65a979ec44",
    "scrolled": false
   },
   "outputs": [
    {
     "data": {
      "text/plain": [
       "'대한민국 의 국민 이 되는 요건 은 법률 로 정한 다 .'"
      ]
     },
     "execution_count": 8,
     "metadata": {},
     "output_type": "execute_result"
    }
   ],
   "source": [
    "doc0[3]"
   ]
  },
  {
   "cell_type": "code",
   "execution_count": 9,
   "metadata": {
    "school_cell_uuid": "6df8227c1cae4cb1931a4229a623f010"
   },
   "outputs": [],
   "source": [
    "tokenizer = Tokenizer()\n",
    "tokenizer.fit_on_texts(doc0)\n",
    "doc = [l for l in tokenizer.texts_to_sequences(doc0) if len(l) > 1]"
   ]
  },
  {
   "cell_type": "code",
   "execution_count": 10,
   "metadata": {
    "school_cell_uuid": "1d15ddd4e8b94908940b53c366e27294"
   },
   "outputs": [
    {
     "data": {
      "text/plain": [
       "354"
      ]
     },
     "execution_count": 10,
     "metadata": {},
     "output_type": "execute_result"
    }
   ],
   "source": [
    "len(doc)"
   ]
  },
  {
   "cell_type": "code",
   "execution_count": 11,
   "metadata": {
    "school_cell_uuid": "ce829a07a5eb4d31a2b12d12ad97c396",
    "scrolled": false
   },
   "outputs": [
    {
     "data": {
      "text/plain": [
       "[101, 1, 19, 6, 177, 653, 5, 9, 20, 37, 3]"
      ]
     },
     "execution_count": 11,
     "metadata": {},
     "output_type": "execute_result"
    }
   ],
   "source": [
    "doc[3]"
   ]
  },
  {
   "cell_type": "code",
   "execution_count": 12,
   "metadata": {
    "school_cell_uuid": "d2b3d189b463466f935b0d5c1f3ae6b6"
   },
   "outputs": [],
   "source": [
    "maxlen = max([len(x) - 1 for x in doc])\n",
    "vocab_size = len(tokenizer.word_index) + 1"
   ]
  },
  {
   "cell_type": "code",
   "execution_count": 13,
   "metadata": {
    "school_cell_uuid": "65053f68a5ff420c86b713348ea44bd9"
   },
   "outputs": [
    {
     "data": {
      "text/plain": [
       "(188, 1205)"
      ]
     },
     "execution_count": 13,
     "metadata": {},
     "output_type": "execute_result"
    }
   ],
   "source": [
    "maxlen, vocab_size"
   ]
  },
  {
   "cell_type": "markdown",
   "metadata": {
    "school_cell_uuid": "47bd7bcebcda46368e7b57c2cc603590"
   },
   "source": [
    "## Data Generation"
   ]
  },
  {
   "cell_type": "code",
   "execution_count": 14,
   "metadata": {
    "school_cell_uuid": "6b0f09147d8c4c5f9613ba01ee57d367"
   },
   "outputs": [],
   "source": [
    "def generate_data(X, maxlen, vocab_size):\n",
    "    for sentence in X: \n",
    "        inputs = []\n",
    "        targets = []\n",
    "        for i in range(1, len(sentence)):\n",
    "            inputs.append(sentence[0:i])\n",
    "            targets.append(sentence[i])\n",
    "        y = np_utils.to_categorical(targets, vocab_size)\n",
    "        inputs_sequence = sequence.pad_sequences(inputs, maxlen=maxlen)\n",
    "        yield (inputs_sequence, y)"
   ]
  },
  {
   "cell_type": "code",
   "execution_count": 15,
   "metadata": {
    "school_cell_uuid": "2a13be76cf0e448080f0d41b197ce734",
    "scrolled": false
   },
   "outputs": [
    {
     "name": "stdout",
     "output_type": "stream",
     "text": [
      "i 0\n",
      "x (188, 188) \n",
      " [[  0   0   0 ...   0   0 101]\n",
      " [  0   0   0 ...   0 101  24]\n",
      " [  0   0   0 ... 101  24 607]\n",
      " ...\n",
      " [  0   0 101 ... 155   2  18]\n",
      " [  0 101  24 ...   2  18 176]\n",
      " [101  24 607 ...  18 176   7]]\n",
      "y (188, 1205) \n",
      " [[0. 0. 0. ... 0. 0. 0.]\n",
      " [0. 0. 0. ... 0. 0. 0.]\n",
      " [0. 0. 0. ... 0. 0. 0.]\n",
      " ...\n",
      " [0. 0. 0. ... 0. 0. 0.]\n",
      " [0. 0. 0. ... 0. 0. 0.]\n",
      " [0. 0. 0. ... 0. 0. 0.]]\n",
      "i 1\n",
      "x (5, 188) \n",
      " [[  0   0   0   0   0   0   0   0   0   0   0   0   0   0   0   0   0   0\n",
      "    0   0   0   0   0   0   0   0   0   0   0   0   0   0   0   0   0   0\n",
      "    0   0   0   0   0   0   0   0   0   0   0   0   0   0   0   0   0   0\n",
      "    0   0   0   0   0   0   0   0   0   0   0   0   0   0   0   0   0   0\n",
      "    0   0   0   0   0   0   0   0   0   0   0   0   0   0   0   0   0   0\n",
      "    0   0   0   0   0   0   0   0   0   0   0   0   0   0   0   0   0   0\n",
      "    0   0   0   0   0   0   0   0   0   0   0   0   0   0   0   0   0   0\n",
      "    0   0   0   0   0   0   0   0   0   0   0   0   0   0   0   0   0   0\n",
      "    0   0   0   0   0   0   0   0   0   0   0   0   0   0   0   0   0   0\n",
      "    0   0   0   0   0   0   0   0   0   0   0   0   0   0   0   0   0   0\n",
      "    0   0   0   0   0   0   0  46]\n",
      " [  0   0   0   0   0   0   0   0   0   0   0   0   0   0   0   0   0   0\n",
      "    0   0   0   0   0   0   0   0   0   0   0   0   0   0   0   0   0   0\n",
      "    0   0   0   0   0   0   0   0   0   0   0   0   0   0   0   0   0   0\n",
      "    0   0   0   0   0   0   0   0   0   0   0   0   0   0   0   0   0   0\n",
      "    0   0   0   0   0   0   0   0   0   0   0   0   0   0   0   0   0   0\n",
      "    0   0   0   0   0   0   0   0   0   0   0   0   0   0   0   0   0   0\n",
      "    0   0   0   0   0   0   0   0   0   0   0   0   0   0   0   0   0   0\n",
      "    0   0   0   0   0   0   0   0   0   0   0   0   0   0   0   0   0   0\n",
      "    0   0   0   0   0   0   0   0   0   0   0   0   0   0   0   0   0   0\n",
      "    0   0   0   0   0   0   0   0   0   0   0   0   0   0   0   0   0   0\n",
      "    0   0   0   0   0   0  46 648]\n",
      " [  0   0   0   0   0   0   0   0   0   0   0   0   0   0   0   0   0   0\n",
      "    0   0   0   0   0   0   0   0   0   0   0   0   0   0   0   0   0   0\n",
      "    0   0   0   0   0   0   0   0   0   0   0   0   0   0   0   0   0   0\n",
      "    0   0   0   0   0   0   0   0   0   0   0   0   0   0   0   0   0   0\n",
      "    0   0   0   0   0   0   0   0   0   0   0   0   0   0   0   0   0   0\n",
      "    0   0   0   0   0   0   0   0   0   0   0   0   0   0   0   0   0   0\n",
      "    0   0   0   0   0   0   0   0   0   0   0   0   0   0   0   0   0   0\n",
      "    0   0   0   0   0   0   0   0   0   0   0   0   0   0   0   0   0   0\n",
      "    0   0   0   0   0   0   0   0   0   0   0   0   0   0   0   0   0   0\n",
      "    0   0   0   0   0   0   0   0   0   0   0   0   0   0   0   0   0   0\n",
      "    0   0   0   0   0  46 648 101]\n",
      " [  0   0   0   0   0   0   0   0   0   0   0   0   0   0   0   0   0   0\n",
      "    0   0   0   0   0   0   0   0   0   0   0   0   0   0   0   0   0   0\n",
      "    0   0   0   0   0   0   0   0   0   0   0   0   0   0   0   0   0   0\n",
      "    0   0   0   0   0   0   0   0   0   0   0   0   0   0   0   0   0   0\n",
      "    0   0   0   0   0   0   0   0   0   0   0   0   0   0   0   0   0   0\n",
      "    0   0   0   0   0   0   0   0   0   0   0   0   0   0   0   0   0   0\n",
      "    0   0   0   0   0   0   0   0   0   0   0   0   0   0   0   0   0   0\n",
      "    0   0   0   0   0   0   0   0   0   0   0   0   0   0   0   0   0   0\n",
      "    0   0   0   0   0   0   0   0   0   0   0   0   0   0   0   0   0   0\n",
      "    0   0   0   0   0   0   0   0   0   0   0   0   0   0   0   0   0   0\n",
      "    0   0   0   0  46 648 101   5]\n",
      " [  0   0   0   0   0   0   0   0   0   0   0   0   0   0   0   0   0   0\n",
      "    0   0   0   0   0   0   0   0   0   0   0   0   0   0   0   0   0   0\n",
      "    0   0   0   0   0   0   0   0   0   0   0   0   0   0   0   0   0   0\n",
      "    0   0   0   0   0   0   0   0   0   0   0   0   0   0   0   0   0   0\n",
      "    0   0   0   0   0   0   0   0   0   0   0   0   0   0   0   0   0   0\n",
      "    0   0   0   0   0   0   0   0   0   0   0   0   0   0   0   0   0   0\n",
      "    0   0   0   0   0   0   0   0   0   0   0   0   0   0   0   0   0   0\n",
      "    0   0   0   0   0   0   0   0   0   0   0   0   0   0   0   0   0   0\n",
      "    0   0   0   0   0   0   0   0   0   0   0   0   0   0   0   0   0   0\n",
      "    0   0   0   0   0   0   0   0   0   0   0   0   0   0   0   0   0   0\n",
      "    0   0   0  46 648 101   5 649]]\n",
      "y (5, 1205) \n",
      " [[0. 0. 0. ... 0. 0. 0.]\n",
      " [0. 0. 0. ... 0. 0. 0.]\n",
      " [0. 0. 0. ... 0. 0. 0.]\n",
      " [0. 0. 0. ... 0. 0. 0.]\n",
      " [0. 0. 0. ... 0. 0. 0.]]\n",
      "i 2\n",
      "x (13, 188) \n",
      " [[  0   0   0 ...   0   0 101]\n",
      " [  0   0   0 ...   0 101   1]\n",
      " [  0   0   0 ... 101   1 437]\n",
      " ...\n",
      " [  0   0   0 ... 651   5  19]\n",
      " [  0   0   0 ...   5  19 326]\n",
      " [  0   0   0 ...  19 326 652]]\n",
      "y (13, 1205) \n",
      " [[0. 1. 0. ... 0. 0. 0.]\n",
      " [0. 0. 0. ... 0. 0. 0.]\n",
      " [0. 0. 0. ... 0. 0. 0.]\n",
      " ...\n",
      " [0. 0. 0. ... 0. 0. 0.]\n",
      " [0. 0. 0. ... 0. 0. 0.]\n",
      " [0. 0. 0. ... 0. 0. 0.]]\n"
     ]
    }
   ],
   "source": [
    "for i, (x, y) in enumerate(generate_data(doc, maxlen, vocab_size)):\n",
    "    print(\"i\", i)\n",
    "    print(\"x\", x.shape, \"\\n\", x)\n",
    "    print(\"y\", y.shape, \"\\n\", y)\n",
    "    if i > 1:\n",
    "        break"
   ]
  },
  {
   "cell_type": "code",
   "execution_count": 190,
   "metadata": {
    "school_cell_uuid": "7059d7ddba874c1984125fa9dc5a65de"
   },
   "outputs": [],
   "source": [
    "X = []\n",
    "Y = []\n",
    "for x, y in generate_data(doc, maxlen, vocab_size):\n",
    "    X.append(x)\n",
    "    Y.append(y)\n",
    "\n",
    "X = np.concatenate(X)\n",
    "Y = np.concatenate(Y)"
   ]
  },
  {
   "cell_type": "code",
   "execution_count": 191,
   "metadata": {
    "school_cell_uuid": "70836560919b4a62b2a4fd7bb5267934"
   },
   "outputs": [
    {
     "data": {
      "text/plain": [
       "((6923, 188), (6923, 1205))"
      ]
     },
     "execution_count": 191,
     "metadata": {},
     "output_type": "execute_result"
    }
   ],
   "source": [
    "X.shape, Y.shape"
   ]
  },
  {
   "cell_type": "markdown",
   "metadata": {
    "school_cell_uuid": "ae2090a838f34692a25e7d5f5ae54a2f"
   },
   "source": [
    "## Model"
   ]
  },
  {
   "cell_type": "code",
   "execution_count": 94,
   "metadata": {
    "school_cell_uuid": "a9fd3ade46264258a91960975eac2d5f"
   },
   "outputs": [],
   "source": [
    "model = Sequential()\n",
    "model.add(Embedding(vocab_size, 100, input_length=maxlen))\n",
    "model.add(LSTM(100, return_sequences=False))\n",
    "model.add(Dropout(0.5))\n",
    "model.add(Dense(vocab_size, activation='softmax'))"
   ]
  },
  {
   "cell_type": "code",
   "execution_count": 95,
   "metadata": {
    "school_cell_uuid": "1b3fdccb860349e0aa83be76d1f4267f"
   },
   "outputs": [
    {
     "name": "stdout",
     "output_type": "stream",
     "text": [
      "_________________________________________________________________\n",
      "Layer (type)                 Output Shape              Param #   \n",
      "=================================================================\n",
      "embedding_4 (Embedding)      (None, 188, 100)          120500    \n",
      "_________________________________________________________________\n",
      "lstm_4 (LSTM)                (None, 100)               80400     \n",
      "_________________________________________________________________\n",
      "dropout_2 (Dropout)          (None, 100)               0         \n",
      "_________________________________________________________________\n",
      "dense_4 (Dense)              (None, 1205)              121705    \n",
      "=================================================================\n",
      "Total params: 322,605\n",
      "Trainable params: 322,605\n",
      "Non-trainable params: 0\n",
      "_________________________________________________________________\n"
     ]
    }
   ],
   "source": [
    "model.summary()"
   ]
  },
  {
   "cell_type": "markdown",
   "metadata": {
    "school_cell_uuid": "058e72e7deb04f74aa974d708deba44d"
   },
   "source": [
    "## Training"
   ]
  },
  {
   "cell_type": "code",
   "execution_count": 96,
   "metadata": {
    "school_cell_uuid": "ce3addd559784ec29f7459b7b2fa826d"
   },
   "outputs": [],
   "source": [
    "model.compile(loss='categorical_crossentropy', optimizer=RMSprop(), metrics=[\"accuracy\"])"
   ]
  },
  {
   "cell_type": "code",
   "execution_count": 97,
   "metadata": {
    "school_cell_uuid": "b22bb578fcde4553805a910c96952695",
    "scrolled": false
   },
   "outputs": [
    {
     "name": "stdout",
     "output_type": "stream",
     "text": [
      "Epoch 1/500\n",
      " - 4s - loss: 6.7324 - acc: 0.0403\n",
      "Epoch 2/500\n",
      " - 3s - loss: 5.8547 - acc: 0.0506\n",
      "Epoch 3/500\n",
      " - 3s - loss: 5.7481 - acc: 0.0478\n",
      "Epoch 4/500\n",
      " - 3s - loss: 5.7281 - acc: 0.0461\n",
      "Epoch 5/500\n",
      " - 3s - loss: 5.7047 - acc: 0.0498\n",
      "Epoch 6/500\n",
      " - 3s - loss: 5.6813 - acc: 0.0497\n",
      "Epoch 7/500\n",
      " - 3s - loss: 5.6626 - acc: 0.0469\n",
      "Epoch 8/500\n",
      " - 3s - loss: 5.6355 - acc: 0.0491\n",
      "Epoch 9/500\n",
      " - 3s - loss: 5.6050 - acc: 0.0488\n",
      "Epoch 10/500\n",
      " - 3s - loss: 5.5755 - acc: 0.0494\n",
      "Epoch 11/500\n",
      " - 3s - loss: 5.5497 - acc: 0.0514\n",
      "Epoch 12/500\n",
      " - 3s - loss: 5.5065 - acc: 0.0527\n",
      "Epoch 13/500\n",
      " - 3s - loss: 5.4761 - acc: 0.0568\n",
      "Epoch 14/500\n",
      " - 3s - loss: 5.4370 - acc: 0.0575\n",
      "Epoch 15/500\n",
      " - 3s - loss: 5.3962 - acc: 0.0601\n",
      "Epoch 16/500\n",
      " - 3s - loss: 5.3676 - acc: 0.0612\n",
      "Epoch 17/500\n",
      " - 3s - loss: 5.3323 - acc: 0.0646\n",
      "Epoch 18/500\n",
      " - 3s - loss: 5.2968 - acc: 0.0680\n",
      "Epoch 19/500\n",
      " - 3s - loss: 5.2600 - acc: 0.0696\n",
      "Epoch 20/500\n",
      " - 3s - loss: 5.2297 - acc: 0.0735\n",
      "Epoch 21/500\n",
      " - 3s - loss: 5.1884 - acc: 0.0816\n",
      "Epoch 22/500\n",
      " - 3s - loss: 5.1500 - acc: 0.0875\n",
      "Epoch 23/500\n",
      " - 3s - loss: 5.1125 - acc: 0.0871\n",
      "Epoch 24/500\n",
      " - 3s - loss: 5.0766 - acc: 0.0939\n",
      "Epoch 25/500\n",
      " - 3s - loss: 5.0382 - acc: 0.0975\n",
      "Epoch 26/500\n",
      " - 3s - loss: 5.0050 - acc: 0.0992\n",
      "Epoch 27/500\n",
      " - 3s - loss: 4.9679 - acc: 0.1026\n",
      "Epoch 28/500\n",
      " - 3s - loss: 4.9308 - acc: 0.1092\n",
      "Epoch 29/500\n",
      " - 3s - loss: 4.8992 - acc: 0.1099\n",
      "Epoch 30/500\n",
      " - 3s - loss: 4.8629 - acc: 0.1177\n",
      "Epoch 31/500\n",
      " - 3s - loss: 4.8344 - acc: 0.1195\n",
      "Epoch 32/500\n",
      " - 3s - loss: 4.7990 - acc: 0.1258\n",
      "Epoch 33/500\n",
      " - 3s - loss: 4.7623 - acc: 0.1351\n",
      "Epoch 34/500\n",
      " - 3s - loss: 4.7311 - acc: 0.1361\n",
      "Epoch 35/500\n",
      " - 3s - loss: 4.6967 - acc: 0.1457\n",
      "Epoch 36/500\n",
      " - 3s - loss: 4.6667 - acc: 0.1486\n",
      "Epoch 37/500\n",
      " - 3s - loss: 4.6314 - acc: 0.1475\n",
      "Epoch 38/500\n",
      " - 3s - loss: 4.5981 - acc: 0.1608\n",
      "Epoch 39/500\n",
      " - 3s - loss: 4.5825 - acc: 0.1603\n",
      "Epoch 40/500\n",
      " - 3s - loss: 4.5446 - acc: 0.1645\n",
      "Epoch 41/500\n",
      " - 3s - loss: 4.5173 - acc: 0.1694\n",
      "Epoch 42/500\n",
      " - 3s - loss: 4.4778 - acc: 0.1733\n",
      "Epoch 43/500\n",
      " - 3s - loss: 4.4500 - acc: 0.1764\n",
      "Epoch 44/500\n",
      " - 3s - loss: 4.4189 - acc: 0.1832\n",
      "Epoch 45/500\n",
      " - 3s - loss: 4.3938 - acc: 0.1839\n",
      "Epoch 46/500\n",
      " - 3s - loss: 4.3594 - acc: 0.1879\n",
      "Epoch 47/500\n",
      " - 3s - loss: 4.3459 - acc: 0.1959\n",
      "Epoch 48/500\n",
      " - 3s - loss: 4.3157 - acc: 0.2002\n",
      "Epoch 49/500\n",
      " - 3s - loss: 4.2747 - acc: 0.1999\n",
      "Epoch 50/500\n",
      " - 3s - loss: 4.2496 - acc: 0.2038\n",
      "Epoch 51/500\n",
      " - 3s - loss: 4.2247 - acc: 0.2105\n",
      "Epoch 52/500\n",
      " - 3s - loss: 4.1975 - acc: 0.2086\n",
      "Epoch 53/500\n",
      " - 3s - loss: 4.1587 - acc: 0.2142\n",
      "Epoch 54/500\n",
      " - 3s - loss: 4.1421 - acc: 0.2191\n",
      "Epoch 55/500\n",
      " - 4s - loss: 4.1137 - acc: 0.2239\n",
      "Epoch 56/500\n",
      " - 3s - loss: 4.0767 - acc: 0.2295\n",
      "Epoch 57/500\n",
      " - 3s - loss: 4.0559 - acc: 0.2349\n",
      "Epoch 58/500\n",
      " - 3s - loss: 4.0254 - acc: 0.2414\n",
      "Epoch 59/500\n",
      " - 3s - loss: 3.9961 - acc: 0.2409\n",
      "Epoch 60/500\n",
      " - 3s - loss: 3.9705 - acc: 0.2458\n",
      "Epoch 61/500\n",
      " - 3s - loss: 3.9483 - acc: 0.2471\n",
      "Epoch 62/500\n",
      " - 3s - loss: 3.9241 - acc: 0.2451\n",
      "Epoch 63/500\n",
      " - 3s - loss: 3.9004 - acc: 0.2552\n",
      "Epoch 64/500\n",
      " - 3s - loss: 3.8728 - acc: 0.2594\n",
      "Epoch 65/500\n",
      " - 3s - loss: 3.8531 - acc: 0.2638\n",
      "Epoch 66/500\n",
      " - 3s - loss: 3.8256 - acc: 0.2645\n",
      "Epoch 67/500\n",
      " - 3s - loss: 3.7965 - acc: 0.2685\n",
      "Epoch 68/500\n",
      " - 3s - loss: 3.7675 - acc: 0.2759\n",
      "Epoch 69/500\n",
      " - 3s - loss: 3.7452 - acc: 0.2749\n",
      "Epoch 70/500\n",
      " - 3s - loss: 3.7242 - acc: 0.2792\n",
      "Epoch 71/500\n",
      " - 3s - loss: 3.7052 - acc: 0.2818\n",
      "Epoch 72/500\n",
      " - 3s - loss: 3.6704 - acc: 0.2880\n",
      "Epoch 73/500\n",
      " - 3s - loss: 3.6517 - acc: 0.2895\n",
      "Epoch 74/500\n",
      " - 3s - loss: 3.6361 - acc: 0.2957\n",
      "Epoch 75/500\n",
      " - 3s - loss: 3.6083 - acc: 0.2918\n",
      "Epoch 76/500\n",
      " - 3s - loss: 3.5783 - acc: 0.2955\n",
      "Epoch 77/500\n",
      " - 3s - loss: 3.5553 - acc: 0.2997\n",
      "Epoch 78/500\n",
      " - 3s - loss: 3.5402 - acc: 0.3078\n",
      "Epoch 79/500\n",
      " - 3s - loss: 3.5072 - acc: 0.3126\n",
      "Epoch 80/500\n",
      " - 3s - loss: 3.4864 - acc: 0.3147\n",
      "Epoch 81/500\n",
      " - 3s - loss: 3.4681 - acc: 0.3137\n",
      "Epoch 82/500\n",
      " - 3s - loss: 3.4401 - acc: 0.3142\n",
      "Epoch 83/500\n",
      " - 3s - loss: 3.4171 - acc: 0.3155\n",
      "Epoch 84/500\n",
      " - 3s - loss: 3.3913 - acc: 0.3272\n",
      "Epoch 85/500\n",
      " - 3s - loss: 3.3773 - acc: 0.3276\n",
      "Epoch 86/500\n",
      " - 3s - loss: 3.3541 - acc: 0.3306\n",
      "Epoch 87/500\n",
      " - 3s - loss: 3.3307 - acc: 0.3302\n",
      "Epoch 88/500\n",
      " - 3s - loss: 3.3035 - acc: 0.3354\n",
      "Epoch 89/500\n",
      " - 3s - loss: 3.2914 - acc: 0.3341\n",
      "Epoch 90/500\n",
      " - 3s - loss: 3.2749 - acc: 0.3371\n",
      "Epoch 91/500\n",
      " - 3s - loss: 3.2460 - acc: 0.3439\n",
      "Epoch 92/500\n",
      " - 3s - loss: 3.2271 - acc: 0.3436\n",
      "Epoch 93/500\n",
      " - 3s - loss: 3.2218 - acc: 0.3452\n",
      "Epoch 94/500\n",
      " - 3s - loss: 3.1909 - acc: 0.3526\n",
      "Epoch 95/500\n",
      " - 3s - loss: 3.1688 - acc: 0.3507\n",
      "Epoch 96/500\n",
      " - 3s - loss: 3.1491 - acc: 0.3550\n",
      "Epoch 97/500\n",
      " - 3s - loss: 3.1315 - acc: 0.3558\n",
      "Epoch 98/500\n",
      " - 3s - loss: 3.1115 - acc: 0.3571\n",
      "Epoch 99/500\n",
      " - 3s - loss: 3.0811 - acc: 0.3607\n",
      "Epoch 100/500\n",
      " - 3s - loss: 3.0740 - acc: 0.3643\n",
      "Epoch 101/500\n",
      " - 3s - loss: 3.0533 - acc: 0.3669\n",
      "Epoch 102/500\n",
      " - 3s - loss: 3.0359 - acc: 0.3678\n",
      "Epoch 103/500\n",
      " - 3s - loss: 3.0191 - acc: 0.3777\n",
      "Epoch 104/500\n",
      " - 3s - loss: 2.9898 - acc: 0.3769\n",
      "Epoch 105/500\n",
      " - 3s - loss: 2.9875 - acc: 0.3748\n",
      "Epoch 106/500\n",
      " - 3s - loss: 2.9587 - acc: 0.3763\n",
      "Epoch 107/500\n",
      " - 3s - loss: 2.9410 - acc: 0.3887\n",
      "Epoch 108/500\n",
      " - 3s - loss: 2.9212 - acc: 0.3854\n",
      "Epoch 109/500\n",
      " - 3s - loss: 2.9020 - acc: 0.3901\n",
      "Epoch 110/500\n",
      " - 3s - loss: 2.8898 - acc: 0.3922\n",
      "Epoch 111/500\n",
      " - 3s - loss: 2.8700 - acc: 0.3961\n",
      "Epoch 112/500\n",
      " - 3s - loss: 2.8500 - acc: 0.3992\n",
      "Epoch 113/500\n",
      " - 3s - loss: 2.8443 - acc: 0.3952\n",
      "Epoch 114/500\n",
      " - 3s - loss: 2.8165 - acc: 0.3978\n",
      "Epoch 115/500\n",
      " - 3s - loss: 2.7981 - acc: 0.4016\n",
      "Epoch 116/500\n",
      " - 3s - loss: 2.7790 - acc: 0.4138\n",
      "Epoch 117/500\n",
      " - 3s - loss: 2.7649 - acc: 0.4083\n",
      "Epoch 118/500\n",
      " - 3s - loss: 2.7491 - acc: 0.4127\n",
      "Epoch 119/500\n",
      " - 3s - loss: 2.7413 - acc: 0.4127\n",
      "Epoch 120/500\n",
      " - 3s - loss: 2.7098 - acc: 0.4198\n",
      "Epoch 121/500\n",
      " - 3s - loss: 2.7020 - acc: 0.4226\n",
      "Epoch 122/500\n",
      " - 3s - loss: 2.6922 - acc: 0.4224\n",
      "Epoch 123/500\n",
      " - 3s - loss: 2.6726 - acc: 0.4245\n",
      "Epoch 124/500\n",
      " - 3s - loss: 2.6637 - acc: 0.4291\n",
      "Epoch 125/500\n",
      " - 3s - loss: 2.6254 - acc: 0.4313\n",
      "Epoch 126/500\n",
      " - 3s - loss: 2.6253 - acc: 0.4336\n",
      "Epoch 127/500\n",
      " - 3s - loss: 2.6116 - acc: 0.4362\n",
      "Epoch 128/500\n",
      " - 3s - loss: 2.5817 - acc: 0.4417\n",
      "Epoch 129/500\n",
      " - 3s - loss: 2.5825 - acc: 0.4401\n",
      "Epoch 130/500\n",
      " - 3s - loss: 2.5600 - acc: 0.4434\n",
      "Epoch 131/500\n",
      " - 3s - loss: 2.5467 - acc: 0.4404\n",
      "Epoch 132/500\n",
      " - 3s - loss: 2.5266 - acc: 0.4527\n",
      "Epoch 133/500\n",
      " - 3s - loss: 2.5165 - acc: 0.4471\n",
      "Epoch 134/500\n",
      " - 3s - loss: 2.4950 - acc: 0.4549\n",
      "Epoch 135/500\n",
      " - 3s - loss: 2.4908 - acc: 0.4544\n",
      "Epoch 136/500\n",
      " - 3s - loss: 2.4805 - acc: 0.4573\n",
      "Epoch 137/500\n",
      " - 3s - loss: 2.4574 - acc: 0.4592\n",
      "Epoch 138/500\n",
      " - 3s - loss: 2.4435 - acc: 0.4624\n",
      "Epoch 139/500\n",
      " - 3s - loss: 2.4278 - acc: 0.4689\n",
      "Epoch 140/500\n",
      " - 3s - loss: 2.4021 - acc: 0.4687\n",
      "Epoch 141/500\n",
      " - 3s - loss: 2.4059 - acc: 0.4648\n",
      "Epoch 142/500\n",
      " - 3s - loss: 2.3994 - acc: 0.4696\n",
      "Epoch 143/500\n",
      " - 3s - loss: 2.3687 - acc: 0.4794\n",
      "Epoch 144/500\n",
      " - 3s - loss: 2.3784 - acc: 0.4749\n",
      "Epoch 145/500\n",
      " - 3s - loss: 2.3496 - acc: 0.4797\n",
      "Epoch 146/500\n",
      " - 3s - loss: 2.3484 - acc: 0.4837\n",
      "Epoch 147/500\n",
      " - 3s - loss: 2.3388 - acc: 0.4853\n",
      "Epoch 148/500\n",
      " - 3s - loss: 2.3105 - acc: 0.4820\n",
      "Epoch 149/500\n",
      " - 3s - loss: 2.2980 - acc: 0.4888\n",
      "Epoch 150/500\n",
      " - 3s - loss: 2.2676 - acc: 0.4966\n",
      "Epoch 151/500\n",
      " - 3s - loss: 2.2673 - acc: 0.4993\n",
      "Epoch 152/500\n",
      " - 3s - loss: 2.2586 - acc: 0.4917\n",
      "Epoch 153/500\n",
      " - 3s - loss: 2.2533 - acc: 0.4956\n",
      "Epoch 154/500\n",
      " - 3s - loss: 2.2442 - acc: 0.4963\n",
      "Epoch 155/500\n",
      " - 3s - loss: 2.2385 - acc: 0.4954\n",
      "Epoch 156/500\n",
      " - 3s - loss: 2.2123 - acc: 0.5053\n",
      "Epoch 157/500\n",
      " - 3s - loss: 2.1871 - acc: 0.5083\n",
      "Epoch 158/500\n",
      " - 3s - loss: 2.1935 - acc: 0.5069\n",
      "Epoch 159/500\n",
      " - 3s - loss: 2.1776 - acc: 0.5083\n",
      "Epoch 160/500\n",
      " - 3s - loss: 2.1594 - acc: 0.5196\n",
      "Epoch 161/500\n",
      " - 3s - loss: 2.1527 - acc: 0.5181\n",
      "Epoch 162/500\n",
      " - 3s - loss: 2.1483 - acc: 0.5220\n",
      "Epoch 163/500\n",
      " - 3s - loss: 2.1231 - acc: 0.5232\n",
      "Epoch 164/500\n",
      " - 3s - loss: 2.1248 - acc: 0.5238\n",
      "Epoch 165/500\n",
      " - 3s - loss: 2.1051 - acc: 0.5278\n",
      "Epoch 166/500\n",
      " - 3s - loss: 2.0878 - acc: 0.5340\n",
      "Epoch 167/500\n",
      " - 3s - loss: 2.0869 - acc: 0.5301\n",
      "Epoch 168/500\n",
      " - 3s - loss: 2.0626 - acc: 0.5337\n",
      "Epoch 169/500\n",
      " - 3s - loss: 2.0593 - acc: 0.5385\n",
      "Epoch 170/500\n",
      " - 3s - loss: 2.0594 - acc: 0.5334\n"
     ]
    },
    {
     "name": "stdout",
     "output_type": "stream",
     "text": [
      "Epoch 171/500\n",
      " - 3s - loss: 2.0405 - acc: 0.5434\n",
      "Epoch 172/500\n",
      " - 3s - loss: 2.0293 - acc: 0.5430\n",
      "Epoch 173/500\n",
      " - 3s - loss: 2.0324 - acc: 0.5347\n",
      "Epoch 174/500\n",
      " - 3s - loss: 2.0216 - acc: 0.5398\n",
      "Epoch 175/500\n",
      " - 3s - loss: 1.9958 - acc: 0.5535\n",
      "Epoch 176/500\n",
      " - 3s - loss: 1.9796 - acc: 0.5571\n",
      "Epoch 177/500\n",
      " - 3s - loss: 1.9703 - acc: 0.5457\n",
      "Epoch 178/500\n",
      " - 3s - loss: 1.9711 - acc: 0.5602\n",
      "Epoch 179/500\n",
      " - 3s - loss: 1.9572 - acc: 0.5555\n",
      "Epoch 180/500\n",
      " - 3s - loss: 1.9526 - acc: 0.5568\n",
      "Epoch 181/500\n",
      " - 3s - loss: 1.9474 - acc: 0.5619\n",
      "Epoch 182/500\n",
      " - 3s - loss: 1.9229 - acc: 0.5652\n",
      "Epoch 183/500\n",
      " - 3s - loss: 1.9340 - acc: 0.5620\n",
      "Epoch 184/500\n",
      " - 3s - loss: 1.8960 - acc: 0.5697\n",
      "Epoch 185/500\n",
      " - 3s - loss: 1.8986 - acc: 0.5690\n",
      "Epoch 186/500\n",
      " - 3s - loss: 1.8830 - acc: 0.5771\n",
      "Epoch 187/500\n",
      " - 3s - loss: 1.8647 - acc: 0.5775\n",
      "Epoch 188/500\n",
      " - 3s - loss: 1.8709 - acc: 0.5840\n",
      "Epoch 189/500\n",
      " - 3s - loss: 1.8545 - acc: 0.5800\n",
      "Epoch 190/500\n",
      " - 3s - loss: 1.8591 - acc: 0.5787\n",
      "Epoch 191/500\n",
      " - 3s - loss: 1.8384 - acc: 0.5778\n",
      "Epoch 192/500\n",
      " - 3s - loss: 1.8295 - acc: 0.5794\n",
      "Epoch 193/500\n",
      " - 3s - loss: 1.8237 - acc: 0.5807\n",
      "Epoch 194/500\n",
      " - 3s - loss: 1.8174 - acc: 0.5852\n",
      "Epoch 195/500\n",
      " - 3s - loss: 1.8106 - acc: 0.5828\n",
      "Epoch 196/500\n",
      " - 3s - loss: 1.8049 - acc: 0.5943\n",
      "Epoch 197/500\n",
      " - 3s - loss: 1.7952 - acc: 0.5876\n",
      "Epoch 198/500\n",
      " - 3s - loss: 1.7735 - acc: 0.5960\n",
      "Epoch 199/500\n",
      " - 3s - loss: 1.7766 - acc: 0.5932\n",
      "Epoch 200/500\n",
      " - 3s - loss: 1.7557 - acc: 0.6013\n",
      "Epoch 201/500\n",
      " - 3s - loss: 1.7652 - acc: 0.5989\n",
      "Epoch 202/500\n",
      " - 3s - loss: 1.7478 - acc: 0.6062\n",
      "Epoch 203/500\n",
      " - 3s - loss: 1.7330 - acc: 0.6064\n",
      "Epoch 204/500\n",
      " - 3s - loss: 1.7396 - acc: 0.6003\n",
      "Epoch 205/500\n",
      " - 3s - loss: 1.7174 - acc: 0.6026\n",
      "Epoch 206/500\n",
      " - 3s - loss: 1.7213 - acc: 0.6055\n",
      "Epoch 207/500\n",
      " - 3s - loss: 1.7046 - acc: 0.6084\n",
      "Epoch 208/500\n",
      " - 3s - loss: 1.7045 - acc: 0.6094\n",
      "Epoch 209/500\n",
      " - 3s - loss: 1.6973 - acc: 0.6083\n",
      "Epoch 210/500\n",
      " - 3s - loss: 1.6903 - acc: 0.6172\n",
      "Epoch 211/500\n",
      " - 3s - loss: 1.6658 - acc: 0.6211\n",
      "Epoch 212/500\n",
      " - 3s - loss: 1.6634 - acc: 0.6229\n",
      "Epoch 213/500\n",
      " - 3s - loss: 1.6705 - acc: 0.6191\n",
      "Epoch 214/500\n",
      " - 3s - loss: 1.6536 - acc: 0.6175\n",
      "Epoch 215/500\n",
      " - 3s - loss: 1.6464 - acc: 0.6184\n",
      "Epoch 216/500\n",
      " - 3s - loss: 1.6243 - acc: 0.6295\n",
      "Epoch 217/500\n",
      " - 3s - loss: 1.6207 - acc: 0.6347\n",
      "Epoch 218/500\n",
      " - 3s - loss: 1.6070 - acc: 0.6302\n",
      "Epoch 219/500\n",
      " - 3s - loss: 1.6182 - acc: 0.6283\n",
      "Epoch 220/500\n",
      " - 3s - loss: 1.6077 - acc: 0.6244\n",
      "Epoch 221/500\n",
      " - 3s - loss: 1.5983 - acc: 0.6333\n",
      "Epoch 222/500\n",
      " - 3s - loss: 1.5965 - acc: 0.6364\n",
      "Epoch 223/500\n",
      " - 3s - loss: 1.5852 - acc: 0.6406\n",
      "Epoch 224/500\n",
      " - 3s - loss: 1.5777 - acc: 0.6364\n",
      "Epoch 225/500\n",
      " - 3s - loss: 1.5601 - acc: 0.6413\n",
      "Epoch 226/500\n",
      " - 3s - loss: 1.5592 - acc: 0.6448\n",
      "Epoch 227/500\n",
      " - 3s - loss: 1.5563 - acc: 0.6389\n",
      "Epoch 228/500\n",
      " - 3s - loss: 1.5471 - acc: 0.6468\n",
      "Epoch 229/500\n",
      " - 3s - loss: 1.5429 - acc: 0.6405\n",
      "Epoch 230/500\n",
      " - 3s - loss: 1.5211 - acc: 0.6604\n",
      "Epoch 231/500\n",
      " - 3s - loss: 1.5145 - acc: 0.6470\n",
      "Epoch 232/500\n",
      " - 3s - loss: 1.5142 - acc: 0.6529\n",
      "Epoch 233/500\n",
      " - 3s - loss: 1.5008 - acc: 0.6574\n",
      "Epoch 234/500\n",
      " - 3s - loss: 1.4963 - acc: 0.6588\n",
      "Epoch 235/500\n",
      " - 3s - loss: 1.4984 - acc: 0.6548\n",
      "Epoch 236/500\n",
      " - 3s - loss: 1.4928 - acc: 0.6533\n",
      "Epoch 237/500\n",
      " - 3s - loss: 1.4968 - acc: 0.6590\n",
      "Epoch 238/500\n",
      " - 3s - loss: 1.4744 - acc: 0.6588\n",
      "Epoch 239/500\n",
      " - 3s - loss: 1.4638 - acc: 0.6658\n",
      "Epoch 240/500\n",
      " - 3s - loss: 1.4752 - acc: 0.6593\n",
      "Epoch 241/500\n",
      " - 3s - loss: 1.4697 - acc: 0.6580\n",
      "Epoch 242/500\n",
      " - 3s - loss: 1.4800 - acc: 0.6542\n",
      "Epoch 243/500\n",
      " - 3s - loss: 1.4484 - acc: 0.6662\n",
      "Epoch 244/500\n",
      " - 3s - loss: 1.4451 - acc: 0.6646\n",
      "Epoch 245/500\n",
      " - 3s - loss: 1.4347 - acc: 0.6695\n",
      "Epoch 246/500\n",
      " - 3s - loss: 1.4476 - acc: 0.6594\n",
      "Epoch 247/500\n",
      " - 3s - loss: 1.4127 - acc: 0.6759\n",
      "Epoch 248/500\n",
      " - 3s - loss: 1.4246 - acc: 0.6681\n",
      "Epoch 249/500\n",
      " - 3s - loss: 1.4098 - acc: 0.6747\n",
      "Epoch 250/500\n",
      " - 3s - loss: 1.3923 - acc: 0.6822\n",
      "Epoch 251/500\n",
      " - 3s - loss: 1.4170 - acc: 0.6707\n",
      "Epoch 252/500\n",
      " - 3s - loss: 1.3948 - acc: 0.6760\n",
      "Epoch 253/500\n",
      " - 3s - loss: 1.3865 - acc: 0.6728\n",
      "Epoch 254/500\n",
      " - 3s - loss: 1.3947 - acc: 0.6769\n",
      "Epoch 255/500\n",
      " - 3s - loss: 1.3799 - acc: 0.6799\n",
      "Epoch 256/500\n",
      " - 3s - loss: 1.3736 - acc: 0.6877\n",
      "Epoch 257/500\n",
      " - 3s - loss: 1.3594 - acc: 0.6834\n",
      "Epoch 258/500\n",
      " - 3s - loss: 1.3651 - acc: 0.6828\n",
      "Epoch 259/500\n",
      " - 3s - loss: 1.3576 - acc: 0.6860\n",
      "Epoch 260/500\n",
      " - 3s - loss: 1.3733 - acc: 0.6812\n",
      "Epoch 261/500\n",
      " - 3s - loss: 1.3537 - acc: 0.6822\n",
      "Epoch 262/500\n",
      " - 3s - loss: 1.3506 - acc: 0.6879\n",
      "Epoch 263/500\n",
      " - 3s - loss: 1.3298 - acc: 0.6928\n",
      "Epoch 264/500\n",
      " - 3s - loss: 1.3243 - acc: 0.6814\n",
      "Epoch 265/500\n",
      " - 3s - loss: 1.3267 - acc: 0.6903\n",
      "Epoch 266/500\n",
      " - 4s - loss: 1.3106 - acc: 0.6858\n",
      "Epoch 267/500\n",
      " - 3s - loss: 1.3238 - acc: 0.6958\n",
      "Epoch 268/500\n",
      " - 3s - loss: 1.2991 - acc: 0.6923\n",
      "Epoch 269/500\n",
      " - 3s - loss: 1.3034 - acc: 0.7029\n",
      "Epoch 270/500\n",
      " - 3s - loss: 1.2952 - acc: 0.6962\n",
      "Epoch 271/500\n",
      " - 3s - loss: 1.2894 - acc: 0.7040\n",
      "Epoch 272/500\n",
      " - 3s - loss: 1.2905 - acc: 0.6935\n",
      "Epoch 273/500\n",
      " - 3s - loss: 1.2918 - acc: 0.7006\n",
      "Epoch 274/500\n",
      " - 3s - loss: 1.2925 - acc: 0.6931\n",
      "Epoch 275/500\n",
      " - 3s - loss: 1.2975 - acc: 0.6928\n",
      "Epoch 276/500\n",
      " - 3s - loss: 1.2737 - acc: 0.7048\n",
      "Epoch 277/500\n",
      " - 3s - loss: 1.2696 - acc: 0.7000\n",
      "Epoch 278/500\n",
      " - 3s - loss: 1.2544 - acc: 0.7046\n",
      "Epoch 279/500\n",
      " - 3s - loss: 1.2544 - acc: 0.7033\n",
      "Epoch 280/500\n",
      " - 3s - loss: 1.2620 - acc: 0.7061\n",
      "Epoch 281/500\n",
      " - 3s - loss: 1.2585 - acc: 0.7048\n",
      "Epoch 282/500\n",
      " - 3s - loss: 1.2363 - acc: 0.7072\n",
      "Epoch 283/500\n",
      " - 3s - loss: 1.2465 - acc: 0.7089\n",
      "Epoch 284/500\n",
      " - 3s - loss: 1.2278 - acc: 0.7045\n",
      "Epoch 285/500\n",
      " - 3s - loss: 1.2262 - acc: 0.7115\n",
      "Epoch 286/500\n",
      " - 3s - loss: 1.2278 - acc: 0.7139\n",
      "Epoch 287/500\n",
      " - 3s - loss: 1.2135 - acc: 0.7160\n",
      "Epoch 288/500\n",
      " - 3s - loss: 1.2215 - acc: 0.7133\n",
      "Epoch 289/500\n",
      " - 3s - loss: 1.2162 - acc: 0.7154\n",
      "Epoch 290/500\n",
      " - 3s - loss: 1.2028 - acc: 0.7188\n",
      "Epoch 291/500\n",
      " - 3s - loss: 1.1968 - acc: 0.7214\n",
      "Epoch 292/500\n",
      " - 3s - loss: 1.1973 - acc: 0.7170\n",
      "Epoch 293/500\n",
      " - 3s - loss: 1.1858 - acc: 0.7225\n",
      "Epoch 294/500\n",
      " - 3s - loss: 1.1982 - acc: 0.7180\n",
      "Epoch 295/500\n",
      " - 3s - loss: 1.1784 - acc: 0.7234\n",
      "Epoch 296/500\n",
      " - 3s - loss: 1.1783 - acc: 0.7183\n",
      "Epoch 297/500\n",
      " - 3s - loss: 1.1886 - acc: 0.7199\n",
      "Epoch 298/500\n",
      " - 3s - loss: 1.1535 - acc: 0.7336\n",
      "Epoch 299/500\n",
      " - 3s - loss: 1.1654 - acc: 0.7227\n",
      "Epoch 300/500\n",
      " - 3s - loss: 1.1589 - acc: 0.7224\n",
      "Epoch 301/500\n",
      " - 3s - loss: 1.1584 - acc: 0.7240\n",
      "Epoch 302/500\n",
      " - 3s - loss: 1.1652 - acc: 0.7258\n",
      "Epoch 303/500\n",
      " - 3s - loss: 1.1515 - acc: 0.7284\n",
      "Epoch 304/500\n",
      " - 3s - loss: 1.1369 - acc: 0.7287\n",
      "Epoch 305/500\n",
      " - 3s - loss: 1.1504 - acc: 0.7299\n",
      "Epoch 306/500\n",
      " - 3s - loss: 1.1504 - acc: 0.7254\n",
      "Epoch 307/500\n",
      " - 3s - loss: 1.1364 - acc: 0.7224\n",
      "Epoch 308/500\n",
      " - 3s - loss: 1.1344 - acc: 0.7279\n",
      "Epoch 309/500\n",
      " - 3s - loss: 1.1169 - acc: 0.7380\n",
      "Epoch 310/500\n",
      " - 3s - loss: 1.1208 - acc: 0.7341\n",
      "Epoch 311/500\n",
      " - 3s - loss: 1.1200 - acc: 0.7282\n",
      "Epoch 312/500\n",
      " - 3s - loss: 1.1256 - acc: 0.7358\n",
      "Epoch 313/500\n",
      " - 3s - loss: 1.1026 - acc: 0.7404\n",
      "Epoch 314/500\n",
      " - 3s - loss: 1.1052 - acc: 0.7368\n",
      "Epoch 315/500\n",
      " - 3s - loss: 1.1164 - acc: 0.7351\n",
      "Epoch 316/500\n",
      " - 3s - loss: 1.1105 - acc: 0.7308\n",
      "Epoch 317/500\n",
      " - 3s - loss: 1.1046 - acc: 0.7308\n",
      "Epoch 318/500\n",
      " - 4s - loss: 1.0912 - acc: 0.7397\n",
      "Epoch 319/500\n",
      " - 3s - loss: 1.0895 - acc: 0.7410\n",
      "Epoch 320/500\n",
      " - 3s - loss: 1.0909 - acc: 0.7378\n",
      "Epoch 321/500\n",
      " - 3s - loss: 1.0810 - acc: 0.7464\n",
      "Epoch 322/500\n",
      " - 3s - loss: 1.0788 - acc: 0.7410\n",
      "Epoch 323/500\n",
      " - 3s - loss: 1.0808 - acc: 0.7375\n",
      "Epoch 324/500\n",
      " - 3s - loss: 1.0834 - acc: 0.7358\n",
      "Epoch 325/500\n",
      " - 3s - loss: 1.0709 - acc: 0.7435\n",
      "Epoch 326/500\n",
      " - 3s - loss: 1.0546 - acc: 0.7452\n",
      "Epoch 327/500\n",
      " - 3s - loss: 1.0710 - acc: 0.7442\n",
      "Epoch 328/500\n",
      " - 3s - loss: 1.0533 - acc: 0.7429\n",
      "Epoch 329/500\n",
      " - 3s - loss: 1.0488 - acc: 0.7501\n",
      "Epoch 330/500\n",
      " - 3s - loss: 1.0506 - acc: 0.7542\n",
      "Epoch 331/500\n",
      " - 3s - loss: 1.0676 - acc: 0.7449\n",
      "Epoch 332/500\n",
      " - 3s - loss: 1.0449 - acc: 0.7503\n",
      "Epoch 333/500\n",
      " - 3s - loss: 1.0316 - acc: 0.7550\n",
      "Epoch 334/500\n",
      " - 3s - loss: 1.0292 - acc: 0.7504\n",
      "Epoch 335/500\n",
      " - 3s - loss: 1.0377 - acc: 0.7491\n",
      "Epoch 336/500\n",
      " - 3s - loss: 1.0304 - acc: 0.7505\n",
      "Epoch 337/500\n",
      " - 3s - loss: 1.0308 - acc: 0.7570\n",
      "Epoch 338/500\n"
     ]
    },
    {
     "name": "stdout",
     "output_type": "stream",
     "text": [
      " - 3s - loss: 1.0195 - acc: 0.7544\n",
      "Epoch 339/500\n",
      " - 3s - loss: 1.0055 - acc: 0.7573\n",
      "Epoch 340/500\n",
      " - 3s - loss: 1.0275 - acc: 0.7494\n",
      "Epoch 341/500\n",
      " - 3s - loss: 1.0038 - acc: 0.7586\n",
      "Epoch 342/500\n",
      " - 3s - loss: 0.9977 - acc: 0.7605\n",
      "Epoch 343/500\n",
      " - 3s - loss: 1.0001 - acc: 0.7588\n",
      "Epoch 344/500\n",
      " - 3s - loss: 1.0233 - acc: 0.7495\n",
      "Epoch 345/500\n",
      " - 3s - loss: 1.0133 - acc: 0.7592\n",
      "Epoch 346/500\n",
      " - 3s - loss: 0.9919 - acc: 0.7596\n",
      "Epoch 347/500\n",
      " - 3s - loss: 0.9969 - acc: 0.7609\n",
      "Epoch 348/500\n",
      " - 3s - loss: 1.0003 - acc: 0.7562\n",
      "Epoch 349/500\n",
      " - 3s - loss: 0.9962 - acc: 0.7609\n",
      "Epoch 350/500\n",
      " - 3s - loss: 0.9995 - acc: 0.7586\n",
      "Epoch 351/500\n",
      " - 3s - loss: 0.9765 - acc: 0.7633\n",
      "Epoch 352/500\n",
      " - 3s - loss: 0.9731 - acc: 0.7633\n",
      "Epoch 353/500\n",
      " - 3s - loss: 0.9634 - acc: 0.7683\n",
      "Epoch 354/500\n",
      " - 3s - loss: 0.9797 - acc: 0.7631\n",
      "Epoch 355/500\n",
      " - 3s - loss: 0.9865 - acc: 0.7637\n",
      "Epoch 356/500\n",
      " - 3s - loss: 0.9610 - acc: 0.7708\n",
      "Epoch 357/500\n",
      " - 3s - loss: 0.9652 - acc: 0.7663\n",
      "Epoch 358/500\n",
      " - 3s - loss: 0.9597 - acc: 0.7614\n",
      "Epoch 359/500\n",
      " - 3s - loss: 0.9653 - acc: 0.7659\n",
      "Epoch 360/500\n",
      " - 3s - loss: 0.9595 - acc: 0.7660\n",
      "Epoch 361/500\n",
      " - 3s - loss: 0.9427 - acc: 0.7780\n",
      "Epoch 362/500\n",
      " - 3s - loss: 0.9587 - acc: 0.7637\n",
      "Epoch 363/500\n",
      " - 3s - loss: 0.9407 - acc: 0.7712\n",
      "Epoch 364/500\n",
      " - 3s - loss: 0.9486 - acc: 0.7741\n",
      "Epoch 365/500\n",
      " - 3s - loss: 0.9391 - acc: 0.7651\n",
      "Epoch 366/500\n",
      " - 3s - loss: 0.9335 - acc: 0.7748\n",
      "Epoch 367/500\n",
      " - 3s - loss: 0.9275 - acc: 0.7815\n",
      "Epoch 368/500\n",
      " - 3s - loss: 0.9500 - acc: 0.7661\n",
      "Epoch 369/500\n",
      " - 3s - loss: 0.9335 - acc: 0.7750\n",
      "Epoch 370/500\n",
      " - 3s - loss: 0.9268 - acc: 0.7748\n",
      "Epoch 371/500\n",
      " - 4s - loss: 0.9209 - acc: 0.7783\n",
      "Epoch 372/500\n",
      " - 3s - loss: 0.9145 - acc: 0.7765\n",
      "Epoch 373/500\n",
      " - 3s - loss: 0.9279 - acc: 0.7724\n",
      "Epoch 374/500\n",
      " - 3s - loss: 0.9187 - acc: 0.7765\n",
      "Epoch 375/500\n",
      " - 3s - loss: 0.9125 - acc: 0.7819\n",
      "Epoch 376/500\n",
      " - 3s - loss: 0.9212 - acc: 0.7787\n",
      "Epoch 377/500\n",
      " - 3s - loss: 0.9087 - acc: 0.7797\n",
      "Epoch 378/500\n",
      " - 3s - loss: 0.9038 - acc: 0.7816\n",
      "Epoch 379/500\n",
      " - 3s - loss: 0.9050 - acc: 0.7763\n",
      "Epoch 380/500\n",
      " - 3s - loss: 0.9000 - acc: 0.7843\n",
      "Epoch 381/500\n",
      " - 3s - loss: 0.9169 - acc: 0.7758\n",
      "Epoch 382/500\n",
      " - 3s - loss: 0.8894 - acc: 0.7856\n",
      "Epoch 383/500\n",
      " - 3s - loss: 0.8927 - acc: 0.7751\n",
      "Epoch 384/500\n",
      " - 3s - loss: 0.8812 - acc: 0.7828\n",
      "Epoch 385/500\n",
      " - 3s - loss: 0.8789 - acc: 0.7868\n",
      "Epoch 386/500\n",
      " - 3s - loss: 0.8912 - acc: 0.7825\n",
      "Epoch 387/500\n",
      " - 3s - loss: 0.8748 - acc: 0.7900\n",
      "Epoch 388/500\n",
      " - 3s - loss: 0.8858 - acc: 0.7817\n",
      "Epoch 389/500\n",
      " - 3s - loss: 0.8878 - acc: 0.7789\n",
      "Epoch 390/500\n",
      " - 3s - loss: 0.8715 - acc: 0.7836\n",
      "Epoch 391/500\n",
      " - 3s - loss: 0.8746 - acc: 0.7830\n",
      "Epoch 392/500\n",
      " - 3s - loss: 0.8692 - acc: 0.7867\n",
      "Epoch 393/500\n",
      " - 3s - loss: 0.8674 - acc: 0.7868\n",
      "Epoch 394/500\n",
      " - 3s - loss: 0.8695 - acc: 0.7884\n",
      "Epoch 395/500\n",
      " - 3s - loss: 0.8612 - acc: 0.7895\n",
      "Epoch 396/500\n",
      " - 3s - loss: 0.8595 - acc: 0.7916\n",
      "Epoch 397/500\n",
      " - 3s - loss: 0.8468 - acc: 0.7973\n",
      "Epoch 398/500\n",
      " - 3s - loss: 0.8473 - acc: 0.7940\n",
      "Epoch 399/500\n",
      " - 3s - loss: 0.8567 - acc: 0.7858\n",
      "Epoch 400/500\n",
      " - 3s - loss: 0.8439 - acc: 0.7921\n",
      "Epoch 401/500\n",
      " - 3s - loss: 0.8501 - acc: 0.7934\n",
      "Epoch 402/500\n",
      " - 3s - loss: 0.8577 - acc: 0.7878\n",
      "Epoch 403/500\n",
      " - 3s - loss: 0.8373 - acc: 0.7917\n",
      "Epoch 404/500\n",
      " - 3s - loss: 0.8419 - acc: 0.7906\n",
      "Epoch 405/500\n",
      " - 3s - loss: 0.8340 - acc: 0.7956\n",
      "Epoch 406/500\n",
      " - 3s - loss: 0.8352 - acc: 0.7976\n",
      "Epoch 407/500\n",
      " - 3s - loss: 0.8336 - acc: 0.7894\n",
      "Epoch 408/500\n",
      " - 3s - loss: 0.8159 - acc: 0.7984\n",
      "Epoch 409/500\n",
      " - 3s - loss: 0.8373 - acc: 0.7901\n",
      "Epoch 410/500\n",
      " - 3s - loss: 0.8334 - acc: 0.7946\n",
      "Epoch 411/500\n",
      " - 3s - loss: 0.8469 - acc: 0.7911\n",
      "Epoch 412/500\n",
      " - 3s - loss: 0.8265 - acc: 0.7959\n",
      "Epoch 413/500\n",
      " - 3s - loss: 0.8214 - acc: 0.8030\n",
      "Epoch 414/500\n",
      " - 3s - loss: 0.8169 - acc: 0.7962\n",
      "Epoch 415/500\n",
      " - 3s - loss: 0.8016 - acc: 0.8014\n",
      "Epoch 416/500\n",
      " - 3s - loss: 0.8318 - acc: 0.7894\n",
      "Epoch 417/500\n",
      " - 3s - loss: 0.7993 - acc: 0.8040\n",
      "Epoch 418/500\n",
      " - 3s - loss: 0.8185 - acc: 0.8038\n",
      "Epoch 419/500\n",
      " - 3s - loss: 0.8159 - acc: 0.7979\n",
      "Epoch 420/500\n",
      " - 3s - loss: 0.8104 - acc: 0.7973\n",
      "Epoch 421/500\n",
      " - 3s - loss: 0.8056 - acc: 0.8012\n",
      "Epoch 422/500\n",
      " - 3s - loss: 0.7889 - acc: 0.8040\n",
      "Epoch 423/500\n",
      " - 3s - loss: 0.8034 - acc: 0.8018\n",
      "Epoch 424/500\n",
      " - 3s - loss: 0.8011 - acc: 0.8025\n",
      "Epoch 425/500\n",
      " - 3s - loss: 0.7882 - acc: 0.8036\n",
      "Epoch 426/500\n",
      " - 3s - loss: 0.7972 - acc: 0.8012\n",
      "Epoch 427/500\n",
      " - 3s - loss: 0.7779 - acc: 0.8101\n",
      "Epoch 428/500\n",
      " - 3s - loss: 0.7821 - acc: 0.8044\n",
      "Epoch 429/500\n",
      " - 3s - loss: 0.7822 - acc: 0.8033\n",
      "Epoch 430/500\n",
      " - 3s - loss: 0.7855 - acc: 0.8062\n",
      "Epoch 431/500\n",
      " - 3s - loss: 0.7829 - acc: 0.8060\n",
      "Epoch 432/500\n",
      " - 3s - loss: 0.7823 - acc: 0.8037\n",
      "Epoch 433/500\n",
      " - 3s - loss: 0.7682 - acc: 0.8099\n",
      "Epoch 434/500\n",
      " - 3s - loss: 0.7802 - acc: 0.8050\n",
      "Epoch 435/500\n",
      " - 3s - loss: 0.7822 - acc: 0.8023\n",
      "Epoch 436/500\n",
      " - 3s - loss: 0.7779 - acc: 0.8077\n",
      "Epoch 437/500\n",
      " - 3s - loss: 0.7619 - acc: 0.8128\n",
      "Epoch 438/500\n",
      " - 3s - loss: 0.7668 - acc: 0.8085\n",
      "Epoch 439/500\n",
      " - 3s - loss: 0.7730 - acc: 0.8079\n",
      "Epoch 440/500\n",
      " - 3s - loss: 0.7849 - acc: 0.8010\n",
      "Epoch 441/500\n",
      " - 3s - loss: 0.7802 - acc: 0.8041\n",
      "Epoch 442/500\n",
      " - 3s - loss: 0.7619 - acc: 0.8099\n",
      "Epoch 443/500\n",
      " - 3s - loss: 0.7586 - acc: 0.8150\n",
      "Epoch 444/500\n",
      " - 3s - loss: 0.7492 - acc: 0.8168\n",
      "Epoch 445/500\n",
      " - 3s - loss: 0.7532 - acc: 0.8098\n",
      "Epoch 446/500\n",
      " - 3s - loss: 0.7427 - acc: 0.8114\n",
      "Epoch 447/500\n",
      " - 3s - loss: 0.7517 - acc: 0.8153\n",
      "Epoch 448/500\n",
      " - 3s - loss: 0.7537 - acc: 0.8108\n",
      "Epoch 449/500\n",
      " - 3s - loss: 0.7591 - acc: 0.8093\n",
      "Epoch 450/500\n",
      " - 3s - loss: 0.7468 - acc: 0.8119\n",
      "Epoch 451/500\n",
      " - 3s - loss: 0.7487 - acc: 0.8129\n",
      "Epoch 452/500\n",
      " - 3s - loss: 0.7511 - acc: 0.8112\n",
      "Epoch 453/500\n",
      " - 3s - loss: 0.7547 - acc: 0.8138\n",
      "Epoch 454/500\n",
      " - 3s - loss: 0.7428 - acc: 0.8132\n",
      "Epoch 455/500\n",
      " - 3s - loss: 0.7348 - acc: 0.8140\n",
      "Epoch 456/500\n",
      " - 3s - loss: 0.7389 - acc: 0.8147\n",
      "Epoch 457/500\n",
      " - 3s - loss: 0.7417 - acc: 0.8134\n",
      "Epoch 458/500\n",
      " - 3s - loss: 0.7438 - acc: 0.8145\n",
      "Epoch 459/500\n",
      " - 3s - loss: 0.7377 - acc: 0.8144\n",
      "Epoch 460/500\n",
      " - 3s - loss: 0.7354 - acc: 0.8163\n",
      "Epoch 461/500\n",
      " - 3s - loss: 0.7221 - acc: 0.8218\n",
      "Epoch 462/500\n",
      " - 3s - loss: 0.7243 - acc: 0.8220\n",
      "Epoch 463/500\n",
      " - 3s - loss: 0.7339 - acc: 0.8184\n",
      "Epoch 464/500\n",
      " - 3s - loss: 0.7154 - acc: 0.8209\n",
      "Epoch 465/500\n",
      " - 3s - loss: 0.7147 - acc: 0.8181\n",
      "Epoch 466/500\n",
      " - 3s - loss: 0.7221 - acc: 0.8189\n",
      "Epoch 467/500\n",
      " - 3s - loss: 0.7075 - acc: 0.8244\n",
      "Epoch 468/500\n",
      " - 3s - loss: 0.7087 - acc: 0.8189\n",
      "Epoch 469/500\n",
      " - 3s - loss: 0.7223 - acc: 0.8202\n",
      "Epoch 470/500\n",
      " - 3s - loss: 0.7284 - acc: 0.8153\n",
      "Epoch 471/500\n",
      " - 3s - loss: 0.7175 - acc: 0.8202\n",
      "Epoch 472/500\n",
      " - 3s - loss: 0.7139 - acc: 0.8176\n",
      "Epoch 473/500\n",
      " - 3s - loss: 0.6983 - acc: 0.8233\n",
      "Epoch 474/500\n",
      " - 3s - loss: 0.7123 - acc: 0.8203\n",
      "Epoch 475/500\n",
      " - 3s - loss: 0.7112 - acc: 0.8236\n",
      "Epoch 476/500\n",
      " - 4s - loss: 0.7001 - acc: 0.8209\n",
      "Epoch 477/500\n",
      " - 3s - loss: 0.7075 - acc: 0.8206\n",
      "Epoch 478/500\n",
      " - 3s - loss: 0.7066 - acc: 0.8229\n",
      "Epoch 479/500\n",
      " - 3s - loss: 0.7124 - acc: 0.8249\n",
      "Epoch 480/500\n",
      " - 3s - loss: 0.6856 - acc: 0.8293\n",
      "Epoch 481/500\n",
      " - 3s - loss: 0.6927 - acc: 0.8271\n",
      "Epoch 482/500\n",
      " - 3s - loss: 0.6973 - acc: 0.8220\n",
      "Epoch 483/500\n",
      " - 3s - loss: 0.6853 - acc: 0.8307\n",
      "Epoch 484/500\n",
      " - 3s - loss: 0.6987 - acc: 0.8277\n",
      "Epoch 485/500\n",
      " - 3s - loss: 0.6869 - acc: 0.8285\n",
      "Epoch 486/500\n",
      " - 3s - loss: 0.6928 - acc: 0.8241\n",
      "Epoch 487/500\n",
      " - 3s - loss: 0.6856 - acc: 0.8288\n",
      "Epoch 488/500\n",
      " - 3s - loss: 0.6859 - acc: 0.8309\n",
      "Epoch 489/500\n",
      " - 3s - loss: 0.6794 - acc: 0.8284\n",
      "Epoch 490/500\n",
      " - 3s - loss: 0.6912 - acc: 0.8246\n",
      "Epoch 491/500\n",
      " - 3s - loss: 0.6902 - acc: 0.8219\n",
      "Epoch 492/500\n",
      " - 3s - loss: 0.6855 - acc: 0.8316\n",
      "Epoch 493/500\n",
      " - 3s - loss: 0.6759 - acc: 0.8300\n",
      "Epoch 494/500\n",
      " - 3s - loss: 0.6852 - acc: 0.8245\n",
      "Epoch 495/500\n",
      " - 3s - loss: 0.6711 - acc: 0.8291\n",
      "Epoch 496/500\n",
      " - 3s - loss: 0.6640 - acc: 0.8307\n",
      "Epoch 497/500\n",
      " - 3s - loss: 0.6704 - acc: 0.8290\n",
      "Epoch 498/500\n",
      " - 3s - loss: 0.6605 - acc: 0.8329\n",
      "Epoch 499/500\n",
      " - 3s - loss: 0.6589 - acc: 0.8392\n",
      "Epoch 500/500\n",
      " - 3s - loss: 0.6989 - acc: 0.8236\n",
      "CPU times: user 34min 3s, sys: 5min 45s, total: 39min 48s\n",
      "Wall time: 28min 29s\n"
     ]
    }
   ],
   "source": [
    "%%time\n",
    "hist = model.fit(X, Y, epochs=500, batch_size=800, verbose=2)"
   ]
  },
  {
   "cell_type": "code",
   "execution_count": 98,
   "metadata": {
    "school_cell_uuid": "6d8ce20e58bb43d8a56d8b771240469b"
   },
   "outputs": [
    {
     "name": "stderr",
     "output_type": "stream",
     "text": [
      "/home/ubuntu/anaconda3/envs/tensorflow_p36/lib/python3.6/site-packages/matplotlib/font_manager.py:1328: UserWarning: findfont: Font family ['nanumgothic'] not found. Falling back to DejaVu Sans\n",
      "  (prop.get_family(), self.defaultFamily[fontext]))\n"
     ]
    },
    {
     "data": {
      "image/png": "[encoded data removed]",
      "text/plain": [
       "<Figure size 2400x1500 with 1 Axes>"
      ]
     },
     "metadata": {},
     "output_type": "display_data"
    }
   ],
   "source": [
    "plt.plot(hist.history['acc'])\n",
    "plt.show()"
   ]
  },
  {
   "cell_type": "code",
   "execution_count": 99,
   "metadata": {
    "school_cell_uuid": "64bb2c0cea474a2e9abba7d81cb8ef54"
   },
   "outputs": [],
   "source": [
    "model.save(\"rnn_text_gen.hdf5\")"
   ]
  },
  {
   "cell_type": "markdown",
   "metadata": {
    "school_cell_uuid": "633d5ee0dcc444628d8c94ba87788347"
   },
   "source": [
    "## Test"
   ]
  },
  {
   "cell_type": "code",
   "execution_count": 16,
   "metadata": {
    "school_cell_uuid": "3c9b932c75e643a8ae1c5f5012a925ab"
   },
   "outputs": [],
   "source": [
    "from keras.models import load_model\n",
    "model = load_model(\"rnn_text_gen.hdf5\")"
   ]
  },
  {
   "cell_type": "code",
   "execution_count": 17,
   "metadata": {
    "school_cell_uuid": "bff6e0bcd6834e5bbc0fdcc3a125644e"
   },
   "outputs": [
    {
     "data": {
      "text/plain": [
       "['대한민국', '의', '국민', '이', '되는', '요건', '은', '법률', '로', '정한', '다', '.']"
      ]
     },
     "execution_count": 17,
     "metadata": {},
     "output_type": "execute_result"
    }
   ],
   "source": [
    "word_list = '대한민국 의 국민 이 되는 요건 은 법률 로 정한 다 .'.split(\" \")\n",
    "word_list"
   ]
  },
  {
   "cell_type": "code",
   "execution_count": 18,
   "metadata": {
    "school_cell_uuid": "44e61b1595ff4f89999c857009fd3bcb"
   },
   "outputs": [],
   "source": [
    "reverse_word_map = dict(map(reversed, tokenizer.word_index.items()))"
   ]
  },
  {
   "cell_type": "code",
   "execution_count": 19,
   "metadata": {
    "school_cell_uuid": "07a435b4d10446ddb21782915381c476"
   },
   "outputs": [
    {
     "data": {
      "text/plain": [
       "1204"
      ]
     },
     "execution_count": 19,
     "metadata": {},
     "output_type": "execute_result"
    }
   ],
   "source": [
    "len(reverse_word_map)"
   ]
  },
  {
   "cell_type": "code",
   "execution_count": 20,
   "metadata": {
    "school_cell_uuid": "74ba943432514cdf8d406938799c7977"
   },
   "outputs": [
    {
     "data": {
      "text/plain": [
       "array([[  0,   0,   0,   0,   0,   0,   0,   0,   0,   0,   0,   0,   0,\n",
       "          0,   0,   0,   0,   0,   0,   0,   0,   0,   0,   0,   0,   0,\n",
       "          0,   0,   0,   0,   0,   0,   0,   0,   0,   0,   0,   0,   0,\n",
       "          0,   0,   0,   0,   0,   0,   0,   0,   0,   0,   0,   0,   0,\n",
       "          0,   0,   0,   0,   0,   0,   0,   0,   0,   0,   0,   0,   0,\n",
       "          0,   0,   0,   0,   0,   0,   0,   0,   0,   0,   0,   0,   0,\n",
       "          0,   0,   0,   0,   0,   0,   0,   0,   0,   0,   0,   0,   0,\n",
       "          0,   0,   0,   0,   0,   0,   0,   0,   0,   0,   0,   0,   0,\n",
       "          0,   0,   0,   0,   0,   0,   0,   0,   0,   0,   0,   0,   0,\n",
       "          0,   0,   0,   0,   0,   0,   0,   0,   0,   0,   0,   0,   0,\n",
       "          0,   0,   0,   0,   0,   0,   0,   0,   0,   0,   0,   0,   0,\n",
       "          0,   0,   0,   0,   0,   0,   0,   0,   0,   0,   0,   0,   0,\n",
       "          0,   0,   0,   0,   0,   0,   0,   0,   0,   0,   0,   0,   0,\n",
       "          0,   0,   0,   0,   0,   0,   0,   0,   0,   0,   0,   0,   0,\n",
       "          0,   0,   0,   0, 101,   1]], dtype=int32)"
      ]
     },
     "execution_count": 20,
     "metadata": {},
     "output_type": "execute_result"
    }
   ],
   "source": [
    "x = sequence.pad_sequences([[tokenizer.word_index[w] for w in word_list[:2]]], maxlen=maxlen)\n",
    "x"
   ]
  },
  {
   "cell_type": "code",
   "execution_count": 21,
   "metadata": {
    "school_cell_uuid": "4f937b7fb5d6480580fc2b4a646d4990"
   },
   "outputs": [
    {
     "data": {
      "text/plain": [
       "array([5.1314508e-08, 1.1153760e-03, 3.6256557e-04, ..., 6.6387229e-06,\n",
       "       1.3235493e-07, 1.3641418e-05], dtype=float32)"
      ]
     },
     "execution_count": 21,
     "metadata": {},
     "output_type": "execute_result"
    }
   ],
   "source": [
    "p = model.predict(x)[0]\n",
    "p"
   ]
  },
  {
   "cell_type": "code",
   "execution_count": 22,
   "metadata": {
    "school_cell_uuid": "faa0d56ea59a4274b5fd5067c6ce5e6a"
   },
   "outputs": [
    {
     "data": {
      "text/plain": [
       "array([ 438,  437,   19, ...,  605, 1170,  286])"
      ]
     },
     "execution_count": 22,
     "metadata": {},
     "output_type": "execute_result"
    }
   ],
   "source": [
    "idx = np.flip(np.argsort(p), 0)\n",
    "idx"
   ]
  },
  {
   "cell_type": "code",
   "execution_count": 23,
   "metadata": {
    "school_cell_uuid": "890207b3f76d4decbb2ae2a1f3e8d546"
   },
   "outputs": [
    {
     "data": {
      "text/plain": [
       "array([1.76298395e-01, 1.67277738e-01, 5.77470176e-02, ...,\n",
       "       1.06850376e-10, 7.99032368e-11, 7.51542578e-11], dtype=float32)"
      ]
     },
     "execution_count": 23,
     "metadata": {},
     "output_type": "execute_result"
    }
   ],
   "source": [
    "p[idx]"
   ]
  },
  {
   "cell_type": "code",
   "execution_count": 24,
   "metadata": {
    "school_cell_uuid": "55c75a5a62f54324a4d3ce10702e27f5"
   },
   "outputs": [
    {
     "name": "stdout",
     "output_type": "stream",
     "text": [
      "영토\n",
      "주권\n",
      "국민\n",
      "조직\n",
      "종류\n"
     ]
    }
   ],
   "source": [
    "for i in idx[:5]:\n",
    "    print(reverse_word_map[i])"
   ]
  },
  {
   "cell_type": "code",
   "execution_count": 53,
   "metadata": {
    "school_cell_uuid": "4a0a4debcf1f4f5bb2af4beee98c9f60"
   },
   "outputs": [],
   "source": [
    "def predict_word(i, n=1):\n",
    "    x = sequence.pad_sequences([[tokenizer.word_index[w] for w in word_list[:i]]], maxlen=maxlen)\n",
    "    p = model.predict(x)[0]\n",
    "    idx = np.flip(np.argsort(p), 0)\n",
    "    for j in idx[:n]:\n",
    "        print('\"', \" \".join(word_list[:i]), '\"', reverse_word_map[j], \" (p={:4.2f}%)\".format(100 * p[j]))"
   ]
  },
  {
   "cell_type": "code",
   "execution_count": 54,
   "metadata": {
    "school_cell_uuid": "e84176716bcd4052b1d0b052d67ef889"
   },
   "outputs": [
    {
     "name": "stdout",
     "output_type": "stream",
     "text": [
      "\" 대한민국 \" 의  (p=62.61%)\n",
      "\" 대한민국 \" 은  (p=30.96%)\n",
      "\" 대한민국 \" 헌법  (p=1.82%)\n"
     ]
    }
   ],
   "source": [
    "predict_word(1, n=3)"
   ]
  },
  {
   "cell_type": "code",
   "execution_count": 55,
   "metadata": {
    "school_cell_uuid": "e11a06ec44f4408ba60e2678893877b5"
   },
   "outputs": [
    {
     "name": "stdout",
     "output_type": "stream",
     "text": [
      "\" 대한민국 의 \" 영토  (p=17.63%)\n",
      "\" 대한민국 의 \" 주권  (p=16.73%)\n",
      "\" 대한민국 의 \" 국민  (p=5.77%)\n"
     ]
    }
   ],
   "source": [
    "predict_word(2, n=3)"
   ]
  },
  {
   "cell_type": "code",
   "execution_count": 56,
   "metadata": {
    "school_cell_uuid": "299d07dc78aa4597bf7c70a196cb920e"
   },
   "outputs": [
    {
     "name": "stdout",
     "output_type": "stream",
     "text": [
      "\" 대한민국 의 국민 \" 은  (p=62.33%)\n",
      "\" 대한민국 의 국민 \" 이  (p=17.43%)\n",
      "\" 대한민국 의 국민 \" 의  (p=11.92%)\n"
     ]
    }
   ],
   "source": [
    "predict_word(3, n=3)"
   ]
  },
  {
   "cell_type": "code",
   "execution_count": 57,
   "metadata": {
    "school_cell_uuid": "1ff7415a83e94472b2873310d815debd"
   },
   "outputs": [
    {
     "name": "stdout",
     "output_type": "stream",
     "text": [
      "\" 대한민국 의 국민 이 \" 되는  (p=74.99%)\n",
      "\" 대한민국 의 국민 이 \" 헌법  (p=10.13%)\n",
      "\" 대한민국 의 국민 이 \" 에  (p=2.34%)\n"
     ]
    }
   ],
   "source": [
    "predict_word(4, n=3)"
   ]
  },
  {
   "cell_type": "code",
   "execution_count": 58,
   "metadata": {
    "school_cell_uuid": "3dfbbc7aa10943c5bf399cbd53e0a691"
   },
   "outputs": [
    {
     "name": "stdout",
     "output_type": "stream",
     "text": [
      "\" 대한민국 의 국민 이 되는 \" 요건  (p=98.50%)\n",
      "\" 대한민국 의 국민 이 되는 \" 계약  (p=0.34%)\n",
      "\" 대한민국 의 국민 이 되는 \" 되는  (p=0.21%)\n"
     ]
    }
   ],
   "source": [
    "predict_word(5, n=3)"
   ]
  },
  {
   "cell_type": "code",
   "execution_count": 59,
   "metadata": {
    "school_cell_uuid": "3df9669d4dc94907b4aeeeeacd340f02"
   },
   "outputs": [
    {
     "name": "stdout",
     "output_type": "stream",
     "text": [
      "\" 대한민국 의 국민 이 되는 요건 \" 은  (p=95.34%)\n",
      "\" 대한민국 의 국민 이 되는 요건 \" 의  (p=2.49%)\n",
      "\" 대한민국 의 국민 이 되는 요건 \" 이  (p=1.59%)\n"
     ]
    }
   ],
   "source": [
    "predict_word(6, n=3)"
   ]
  },
  {
   "cell_type": "code",
   "execution_count": 60,
   "metadata": {
    "school_cell_uuid": "e776cf8100424156be7260d4c346e333"
   },
   "outputs": [
    {
     "name": "stdout",
     "output_type": "stream",
     "text": [
      "\" 대한민국 의 국민 이 되는 요건 은 \" 법률  (p=97.38%)\n",
      "\" 대한민국 의 국민 이 되는 요건 은 \" 국가  (p=1.09%)\n",
      "\" 대한민국 의 국민 이 되는 요건 은 \" 대통령  (p=0.53%)\n"
     ]
    }
   ],
   "source": [
    "predict_word(7, n=3)"
   ]
  },
  {
   "cell_type": "code",
   "execution_count": 61,
   "metadata": {
    "school_cell_uuid": "c5fa093215fc4264957b01098022f8d4"
   },
   "outputs": [
    {
     "name": "stdout",
     "output_type": "stream",
     "text": [
      "\" 대한민국 의 국민 이 되는 요건 은 법률 \" 로  (p=97.31%)\n",
      "\" 대한민국 의 국민 이 되는 요건 은 법률 \" 이  (p=1.63%)\n",
      "\" 대한민국 의 국민 이 되는 요건 은 법률 \" 로써  (p=0.68%)\n"
     ]
    }
   ],
   "source": [
    "predict_word(8, n=3)"
   ]
  },
  {
   "cell_type": "code",
   "execution_count": 62,
   "metadata": {
    "school_cell_uuid": "9983bdfc8f3448229a455c6652675d33"
   },
   "outputs": [
    {
     "name": "stdout",
     "output_type": "stream",
     "text": [
      "\" 대한민국 의 국민 이 되는 요건 은 법률 로 \" 정한  (p=99.61%)\n",
      "\" 대한민국 의 국민 이 되는 요건 은 법률 로 \" 정하되  (p=0.11%)\n",
      "\" 대한민국 의 국민 이 되는 요건 은 법률 로 \" 인하여  (p=0.02%)\n"
     ]
    }
   ],
   "source": [
    "predict_word(9, n=3)"
   ]
  },
  {
   "cell_type": "code",
   "execution_count": 63,
   "metadata": {
    "school_cell_uuid": "957538aad6a64e829ac8dcf1c5950ad6"
   },
   "outputs": [
    {
     "name": "stdout",
     "output_type": "stream",
     "text": [
      "\" 대한민국 의 국민 이 되는 요건 은 법률 로 정한 \" 다  (p=99.90%)\n",
      "\" 대한민국 의 국민 이 되는 요건 은 법률 로 정한 \" 국회  (p=0.03%)\n",
      "\" 대한민국 의 국민 이 되는 요건 은 법률 로 정한 \" 후  (p=0.01%)\n"
     ]
    }
   ],
   "source": [
    "predict_word(10, n=3)"
   ]
  },
  {
   "cell_type": "code",
   "execution_count": 71,
   "metadata": {
    "school_cell_uuid": "ddc8058cf5884302b259ec6ab1200320"
   },
   "outputs": [],
   "source": [
    "def generate(w, n, seed=None):\n",
    "    \n",
    "    if seed is not None:\n",
    "        np.random.seed(seed)\n",
    "    \n",
    "    def _predict_word(sent):\n",
    "        x = sequence.pad_sequences([[tokenizer.word_index[w] for w in sent]], maxlen=maxlen)\n",
    "        p = model.predict(x)[0]\n",
    "        logp = np.log(p)\n",
    "        p = np.exp(logp) / np.sum(np.exp(logp))\n",
    "        p = p[1:]\n",
    "        return np.random.choice(list(tokenizer.word_index.keys()), p=p)\n",
    "\n",
    "    sent = [w]\n",
    "    for i in range(n):\n",
    "        w = _predict_word(sent)\n",
    "        sent.append(w)\n",
    "        \n",
    "    return \" \".join(sent)"
   ]
  },
  {
   "cell_type": "code",
   "execution_count": 77,
   "metadata": {
    "school_cell_uuid": "0f1bbc986a064cb9aec75bf5e4804b13"
   },
   "outputs": [
    {
     "data": {
      "text/plain": [
       "'대한민국 의 영토 의 피고인 은 법률 이 정하는 바 에'"
      ]
     },
     "execution_count": 77,
     "metadata": {},
     "output_type": "execute_result"
    }
   ],
   "source": [
    "generate(\"대한민국\", 10, seed=1)"
   ]
  },
  {
   "cell_type": "code",
   "execution_count": 78,
   "metadata": {
    "school_cell_uuid": "4ff5641f425e4383bd878823a754f7bd"
   },
   "outputs": [
    {
     "data": {
      "text/plain": [
       "'대한민국 의 국민 은 법률 이 정하는 바 에 의하여 국가'"
      ]
     },
     "execution_count": 78,
     "metadata": {},
     "output_type": "execute_result"
    }
   ],
   "source": [
    "generate(\"대한민국\", 10, seed=2)"
   ]
  },
  {
   "cell_type": "code",
   "execution_count": 79,
   "metadata": {
    "school_cell_uuid": "1cb6cd59303446618d1f7780cc6aee7b"
   },
   "outputs": [
    {
     "data": {
      "text/plain": [
       "'대한민국 의 영토 는 한반도 와 그 부속 도서 로 한'"
      ]
     },
     "execution_count": 79,
     "metadata": {},
     "output_type": "execute_result"
    }
   ],
   "source": [
    "generate(\"대한민국\", 10, seed=3)"
   ]
  },
  {
   "cell_type": "code",
   "execution_count": 80,
   "metadata": {
    "school_cell_uuid": "8ed9f92260f444a7bbec173745ddc185"
   },
   "outputs": [
    {
     "data": {
      "text/plain": [
       "'국민 은 국무회의 의 항 과 국가 의 기본 적 인'"
      ]
     },
     "execution_count": 80,
     "metadata": {},
     "output_type": "execute_result"
    }
   ],
   "source": [
    "generate(\"국민\", 10, seed=1)"
   ]
  },
  {
   "cell_type": "code",
   "execution_count": 81,
   "metadata": {
    "school_cell_uuid": "d7c45a2746bf46ecbb9f2dcfc73d88d4"
   },
   "outputs": [
    {
     "data": {
      "text/plain": [
       "'국민 은 이 경우 를 제외 하고는 심사 하여 그 정책'"
      ]
     },
     "execution_count": 81,
     "metadata": {},
     "output_type": "execute_result"
    }
   ],
   "source": [
    "generate(\"국민\", 10, seed=2)"
   ]
  },
  {
   "cell_type": "code",
   "execution_count": 82,
   "metadata": {
    "school_cell_uuid": "fa4faa5513444bc292541b7b90f54a82"
   },
   "outputs": [
    {
     "data": {
      "text/plain": [
       "'국민 은 국무회의 의 의장 국무총리 국무위원 의 동의 를 얻어'"
      ]
     },
     "execution_count": 82,
     "metadata": {},
     "output_type": "execute_result"
    }
   ],
   "source": [
    "generate(\"국민\", 10, seed=3)"
   ]
  },
  {
   "cell_type": "code",
   "execution_count": 86,
   "metadata": {
    "school_cell_uuid": "c8f496fac15446328085c639adcb62b2"
   },
   "outputs": [
    {
     "data": {
      "text/plain": [
       "'세계 조직 과 집회 결사 에 대한 집회 가 그 절차'"
      ]
     },
     "execution_count": 86,
     "metadata": {},
     "output_type": "execute_result"
    }
   ],
   "source": [
    "generate(\"세계\", 10, seed=3)"
   ]
  }
 ],
 "metadata": {
  "kernelspec": {
   "display_name": "Python 3",
   "language": "python",
   "name": "python3"
  },
  "language_info": {
   "codemirror_mode": {
    "name": "ipython",
    "version": 3
   },
   "file_extension": ".py",
   "mimetype": "text/x-python",
   "name": "python",
   "nbconvert_exporter": "python",
   "pygments_lexer": "ipython3",
   "version": "3.6.5"
  }
 },
 "nbformat": 4,
 "nbformat_minor": 2
}