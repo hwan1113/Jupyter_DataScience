{
 "cells": [
  {
   "cell_type": "markdown",
   "metadata": {
    "colab_type": "text",
    "id": "Y3hZerBuU0E8",
    "school_cell_uuid": "503589e470af45d89e13b82dde8cb46f"
   },
   "source": [
    "# 파이토치 패키지 중급"
   ]
  },
  {
   "cell_type": "markdown",
   "metadata": {
    "colab_type": "text",
    "id": "KB9JiH7_U0Gi",
    "school_cell_uuid": "7cf6956cb8ef4888819bd971b7ebfcb1"
   },
   "source": [
    "## GPU 사용"
   ]
  },
  {
   "cell_type": "markdown",
   "metadata": {
    "colab_type": "text",
    "id": "AHFyREVfU0Gi",
    "school_cell_uuid": "f44afd8f2631432bbe4f08f1d636a70d"
   },
   "source": [
    "이전 데이터 타입에서 보았듯이 GPU 연산을 하기위해선 텐서를 GPU 연산이 가능한 자료형으로 변환하면 된다. 이에 앞서 본인의 환경에 GPU가 있어야 한다. 사용하는 환경이 GPU를 사용할 수 있는지 확인 하려면 `torch.cuda.is_available()`을 실행 시켜 보면 된다. 만약 GPU를 사용할 준비가 되었다면, `True`를 반환 할 것이다. "
   ]
  },
  {
   "cell_type": "code",
   "execution_count": 29,
   "metadata": {
    "colab": {
     "base_uri": "https://localhost:8080/",
     "height": 34
    },
    "colab_type": "code",
    "executionInfo": {
     "elapsed": 2890,
     "status": "ok",
     "timestamp": 1569406147440,
     "user": {
      "displayName": "Joel Kim",
      "photoUrl": "https://lh3.googleusercontent.com/a-/AAuE7mBN0WXo-0bYWXp5kx-AVZ6SaStj7WDcoC2A1QPiTYM=s64",
      "userId": "03446664688650714943"
     },
     "user_tz": -540
    },
    "id": "UdqXAaaAU0Gk",
    "outputId": "e3763cca-3aa2-4665-fb9a-3f637d16cb41",
    "school_cell_uuid": "b81a62c352054dcfb58d535cd7a5b390"
   },
   "outputs": [
    {
     "data": {
      "text/plain": [
       "'1.1.0'"
      ]
     },
     "execution_count": 29,
     "metadata": {
      "tags": []
     },
     "output_type": "execute_result"
    }
   ],
   "source": [
    "import torch\n",
    "import torch\n",
    "import numpy as np \n",
    "import pandas as pd \n",
    "torch.__version__"
   ]
  },
  {
   "cell_type": "code",
   "execution_count": 30,
   "metadata": {
    "colab": {
     "base_uri": "https://localhost:8080/",
     "height": 34
    },
    "colab_type": "code",
    "executionInfo": {
     "elapsed": 2885,
     "status": "ok",
     "timestamp": 1569406147441,
     "user": {
      "displayName": "Joel Kim",
      "photoUrl": "https://lh3.googleusercontent.com/a-/AAuE7mBN0WXo-0bYWXp5kx-AVZ6SaStj7WDcoC2A1QPiTYM=s64",
      "userId": "03446664688650714943"
     },
     "user_tz": -540
    },
    "id": "sU3mQSew5RfW",
    "outputId": "ba4a08a6-6e17-4b8e-c173-c975f946b737",
    "school_cell_uuid": "b9e797c61909400bb1047dbb26583d07"
   },
   "outputs": [
    {
     "data": {
      "text/plain": [
       "True"
      ]
     },
     "execution_count": 30,
     "metadata": {
      "tags": []
     },
     "output_type": "execute_result"
    }
   ],
   "source": [
    "torch.cuda.is_available()"
   ]
  },
  {
   "cell_type": "markdown",
   "metadata": {
    "colab_type": "text",
    "id": "jnIyZ3w7U0Gm",
    "school_cell_uuid": "1240013135514d448ced4f2442604380"
   },
   "source": [
    "GPU 연산이 가능한 Tensor를 만드는 것은 device 인수에 GPU 디바이스 객체를 입력하거나 문자열을 입력하면 된다. 디바이스 객체는 `torch.device(\"cuda:0\")`로 생성할 수 있다. "
   ]
  },
  {
   "cell_type": "code",
   "execution_count": 31,
   "metadata": {
    "colab": {
     "base_uri": "https://localhost:8080/",
     "height": 34
    },
    "colab_type": "code",
    "executionInfo": {
     "elapsed": 2879,
     "status": "ok",
     "timestamp": 1569406147442,
     "user": {
      "displayName": "Joel Kim",
      "photoUrl": "https://lh3.googleusercontent.com/a-/AAuE7mBN0WXo-0bYWXp5kx-AVZ6SaStj7WDcoC2A1QPiTYM=s64",
      "userId": "03446664688650714943"
     },
     "user_tz": -540
    },
    "id": "wrPWigtQU0Gn",
    "outputId": "a4c78292-6596-4d55-872c-cd8f61f693ba",
    "school_cell_uuid": "ea5e68ae676446c5ac3f4b7b04583414"
   },
   "outputs": [
    {
     "data": {
      "text/plain": [
       "device(type='cuda', index=0)"
      ]
     },
     "execution_count": 31,
     "metadata": {
      "tags": []
     },
     "output_type": "execute_result"
    }
   ],
   "source": [
    "device = torch.device(\"cuda:0\")\n",
    "device"
   ]
  },
  {
   "cell_type": "code",
   "execution_count": 32,
   "metadata": {
    "colab": {
     "base_uri": "https://localhost:8080/",
     "height": 68
    },
    "colab_type": "code",
    "executionInfo": {
     "elapsed": 2872,
     "status": "ok",
     "timestamp": 1569406147442,
     "user": {
      "displayName": "Joel Kim",
      "photoUrl": "https://lh3.googleusercontent.com/a-/AAuE7mBN0WXo-0bYWXp5kx-AVZ6SaStj7WDcoC2A1QPiTYM=s64",
      "userId": "03446664688650714943"
     },
     "user_tz": -540
    },
    "id": "8FQ6I1jOU0Gr",
    "outputId": "e8314526-29b4-4a36-c574-e5b7d8cda8a0",
    "school_cell_uuid": "b5e914882f7f43bf93682fcc69a9ff26"
   },
   "outputs": [
    {
     "data": {
      "text/plain": [
       "tensor([[0.0297, 0.7846, 0.0723],\n",
       "        [0.4618, 0.5478, 0.1851],\n",
       "        [0.3033, 0.6481, 0.4553]], device='cuda:0')"
      ]
     },
     "execution_count": 32,
     "metadata": {
      "tags": []
     },
     "output_type": "execute_result"
    }
   ],
   "source": [
    "ts = torch.rand(3,3,device=device)\n",
    "ts"
   ]
  },
  {
   "cell_type": "code",
   "execution_count": 33,
   "metadata": {
    "colab": {
     "base_uri": "https://localhost:8080/",
     "height": 68
    },
    "colab_type": "code",
    "executionInfo": {
     "elapsed": 2867,
     "status": "ok",
     "timestamp": 1569406147443,
     "user": {
      "displayName": "Joel Kim",
      "photoUrl": "https://lh3.googleusercontent.com/a-/AAuE7mBN0WXo-0bYWXp5kx-AVZ6SaStj7WDcoC2A1QPiTYM=s64",
      "userId": "03446664688650714943"
     },
     "user_tz": -540
    },
    "id": "vYCQN4W_U0Gt",
    "outputId": "06c1009f-a30b-4731-93f4-7360a4993d29",
    "school_cell_uuid": "04e49083af1040c3bf12346fd45ebdf0"
   },
   "outputs": [
    {
     "data": {
      "text/plain": [
       "tensor([[0.2048, 0.9162, 0.4881],\n",
       "        [0.5533, 0.3083, 0.6625],\n",
       "        [0.5697, 0.3028, 0.5965]], device='cuda:0')"
      ]
     },
     "execution_count": 33,
     "metadata": {
      "tags": []
     },
     "output_type": "execute_result"
    }
   ],
   "source": [
    "ts = torch.rand(3,3,device=\"cuda:0\")\n",
    "ts"
   ]
  },
  {
   "cell_type": "markdown",
   "metadata": {
    "colab_type": "text",
    "id": "2OADIvOdU0Gu",
    "school_cell_uuid": "1237afa0eaf042259257f943c02632be"
   },
   "source": [
    "기존에 있는 Tensor를 GPU 연산이 가능한 자료형으로 바꿀 때는= `.cuda()` 메서드를 사용한다. "
   ]
  },
  {
   "cell_type": "code",
   "execution_count": 34,
   "metadata": {
    "colab": {
     "base_uri": "https://localhost:8080/",
     "height": 68
    },
    "colab_type": "code",
    "executionInfo": {
     "elapsed": 2861,
     "status": "ok",
     "timestamp": 1569406147443,
     "user": {
      "displayName": "Joel Kim",
      "photoUrl": "https://lh3.googleusercontent.com/a-/AAuE7mBN0WXo-0bYWXp5kx-AVZ6SaStj7WDcoC2A1QPiTYM=s64",
      "userId": "03446664688650714943"
     },
     "user_tz": -540
    },
    "id": "SveMm1C8U0Gv",
    "outputId": "8c975cf7-e292-433c-e728-00371110f9e7",
    "school_cell_uuid": "5c8fe7b9e513479b84651cae5b537e0e"
   },
   "outputs": [
    {
     "data": {
      "text/plain": [
       "tensor([[0.4482, 0.5442, 0.1801],\n",
       "        [0.4044, 0.6603, 0.1557],\n",
       "        [0.3710, 0.8915, 0.1705]])"
      ]
     },
     "execution_count": 34,
     "metadata": {
      "tags": []
     },
     "output_type": "execute_result"
    }
   ],
   "source": [
    "cp = torch.rand(3, 3)\n",
    "cp"
   ]
  },
  {
   "cell_type": "code",
   "execution_count": 35,
   "metadata": {
    "colab": {
     "base_uri": "https://localhost:8080/",
     "height": 68
    },
    "colab_type": "code",
    "executionInfo": {
     "elapsed": 2857,
     "status": "ok",
     "timestamp": 1569406147444,
     "user": {
      "displayName": "Joel Kim",
      "photoUrl": "https://lh3.googleusercontent.com/a-/AAuE7mBN0WXo-0bYWXp5kx-AVZ6SaStj7WDcoC2A1QPiTYM=s64",
      "userId": "03446664688650714943"
     },
     "user_tz": -540
    },
    "id": "sSihFSCCU0Gy",
    "outputId": "6368f5bb-532f-4c29-80e1-a05a5b6d1f25",
    "school_cell_uuid": "a276745312794c488858f436a7977869"
   },
   "outputs": [
    {
     "data": {
      "text/plain": [
       "tensor([[0.4482, 0.5442, 0.1801],\n",
       "        [0.4044, 0.6603, 0.1557],\n",
       "        [0.3710, 0.8915, 0.1705]], device='cuda:0')"
      ]
     },
     "execution_count": 35,
     "metadata": {
      "tags": []
     },
     "output_type": "execute_result"
    }
   ],
   "source": [
    "cp.cuda()"
   ]
  },
  {
   "cell_type": "markdown",
   "metadata": {
    "colab_type": "text",
    "id": "7ev9xtnDU0G2",
    "school_cell_uuid": "0be508e1695e4b329b723279d00061ed"
   },
   "source": [
    "## autograd "
   ]
  },
  {
   "cell_type": "markdown",
   "metadata": {
    "colab_type": "text",
    "id": "Mx2ij_jgU0G3",
    "school_cell_uuid": "49fe360451c843d1b115b31818e1165b"
   },
   "source": [
    "autograd는 PyTorch에서 핵심적인 기능을 담당하는 하부 패키지이다. autograd는 텐서의 연산에 대해 자동으로 미분값을 구해주는 기능을 한다.\n",
    "텐서 자료를 생성할 때, `requires_grad`인수를 `True`로 설정하거나 `.requires_grad_(True)`를 실행하면 그 텐서에 행해지는 모든 연산에 대한 미분값을 계산한다. 계산을 멈추고 싶으면 `.detach()`함수를 이용하면 된다.. 예제를 통해 알아 보도록 하자. `requires_grad`인수를 `True`로 설정하여  Tensor를 생성했다. "
   ]
  },
  {
   "cell_type": "code",
   "execution_count": 36,
   "metadata": {
    "colab": {
     "base_uri": "https://localhost:8080/",
     "height": 51
    },
    "colab_type": "code",
    "executionInfo": {
     "elapsed": 2851,
     "status": "ok",
     "timestamp": 1569406147444,
     "user": {
      "displayName": "Joel Kim",
      "photoUrl": "https://lh3.googleusercontent.com/a-/AAuE7mBN0WXo-0bYWXp5kx-AVZ6SaStj7WDcoC2A1QPiTYM=s64",
      "userId": "03446664688650714943"
     },
     "user_tz": -540
    },
    "id": "Rjj9cX1NU0G3",
    "outputId": "fe39ba5a-9d1c-48b8-b9e9-2d15543780dd",
    "school_cell_uuid": "3396443a49494a22afb7fb0c7801aaff"
   },
   "outputs": [
    {
     "name": "stdout",
     "output_type": "stream",
     "text": [
      "tensor([[0.7254, 0.0362],\n",
      "        [0.5378, 0.0865]], requires_grad=True)\n"
     ]
    }
   ],
   "source": [
    "x = torch.rand(2, 2, requires_grad=True)\n",
    "print(x)"
   ]
  },
  {
   "cell_type": "markdown",
   "metadata": {
    "colab_type": "text",
    "id": "pe3UmFHEU0G6",
    "school_cell_uuid": "bbe2ffda94494f22aff74255a81349f0"
   },
   "source": [
    "다음으로 이 x에 연산을 수행한다. 다음 코드의 y는 연산의 결과이므로 미분 함수를 가진다. `grad_fn`속성을 출력해 미분 함수를 확인 할 수 있다. "
   ]
  },
  {
   "cell_type": "code",
   "execution_count": 37,
   "metadata": {
    "colab": {
     "base_uri": "https://localhost:8080/",
     "height": 34
    },
    "colab_type": "code",
    "executionInfo": {
     "elapsed": 2846,
     "status": "ok",
     "timestamp": 1569406147445,
     "user": {
      "displayName": "Joel Kim",
      "photoUrl": "https://lh3.googleusercontent.com/a-/AAuE7mBN0WXo-0bYWXp5kx-AVZ6SaStj7WDcoC2A1QPiTYM=s64",
      "userId": "03446664688650714943"
     },
     "user_tz": -540
    },
    "id": "DbM8mcngU0G7",
    "outputId": "cbbe2297-34eb-4fa2-8714-28485e7eed79",
    "school_cell_uuid": "d3fd2bc942a94648b083b9f6d22887b4"
   },
   "outputs": [
    {
     "name": "stdout",
     "output_type": "stream",
     "text": [
      "tensor(4.1577, grad_fn=<SumBackward0>) <SumBackward0 object at 0x7f8490a05cf8>\n"
     ]
    }
   ],
   "source": [
    "y = torch.sum(x * 3)\n",
    "print(y, y.grad_fn)"
   ]
  },
  {
   "cell_type": "markdown",
   "metadata": {
    "colab_type": "text",
    "id": "tHMz6Oz0U0G9",
    "school_cell_uuid": "85d36e8f00a4460abff07fb15125a86e"
   },
   "source": [
    "`y.backward()` 함수를 실행하면 x의 미분값이 자동으로 갱신된다. x의 `grad`속성을 확인하면 미분값이 들어 있는 것을 확인 할 수 있다. y를 구하기 위한 x의 연산을 수식으로 쓰면 다음과 같다. \n",
    "\n",
    "$$\n",
    "y = \\displaystyle\\sum_{i=1}^4 3 \\times x_i\n",
    "$$\n",
    "\n",
    "이를 $x_i$에 대해 미분 하면 미분 함수는 다음과 같다. \n",
    "\n",
    "$$\n",
    "\\dfrac{\\partial y}{\\partial x_i} = 3\n",
    "$$\n",
    "\n",
    "실제 미분값과 같은지 확인해보자."
   ]
  },
  {
   "cell_type": "code",
   "execution_count": 38,
   "metadata": {
    "colab": {
     "base_uri": "https://localhost:8080/",
     "height": 34
    },
    "colab_type": "code",
    "executionInfo": {
     "elapsed": 2842,
     "status": "ok",
     "timestamp": 1569406147446,
     "user": {
      "displayName": "Joel Kim",
      "photoUrl": "https://lh3.googleusercontent.com/a-/AAuE7mBN0WXo-0bYWXp5kx-AVZ6SaStj7WDcoC2A1QPiTYM=s64",
      "userId": "03446664688650714943"
     },
     "user_tz": -540
    },
    "id": "OEeR1Oh4U0G-",
    "outputId": "d45f32c7-c666-4e2f-a884-179ebee8012f",
    "school_cell_uuid": "f345c4eb6f7b4cda9ef4ce286e1a62c5"
   },
   "outputs": [
    {
     "name": "stdout",
     "output_type": "stream",
     "text": [
      "None\n"
     ]
    }
   ],
   "source": [
    "print(x.grad)"
   ]
  },
  {
   "cell_type": "code",
   "execution_count": 0,
   "metadata": {
    "colab": {},
    "colab_type": "code",
    "id": "U65HX9vEU0HB",
    "school_cell_uuid": "52d6d6b52cf14a23b4cd076f7b0963d1"
   },
   "outputs": [],
   "source": [
    "y.backward(retain_graph=True)"
   ]
  },
  {
   "cell_type": "code",
   "execution_count": 40,
   "metadata": {
    "colab": {
     "base_uri": "https://localhost:8080/",
     "height": 51
    },
    "colab_type": "code",
    "executionInfo": {
     "elapsed": 2835,
     "status": "ok",
     "timestamp": 1569406147446,
     "user": {
      "displayName": "Joel Kim",
      "photoUrl": "https://lh3.googleusercontent.com/a-/AAuE7mBN0WXo-0bYWXp5kx-AVZ6SaStj7WDcoC2A1QPiTYM=s64",
      "userId": "03446664688650714943"
     },
     "user_tz": -540
    },
    "id": "6PmT-yBFU0HE",
    "outputId": "c41c5889-7bad-4e84-9e32-d5ce35fa73da",
    "school_cell_uuid": "bfcfdfea33f843fbabb7c58305594b1f"
   },
   "outputs": [
    {
     "data": {
      "text/plain": [
       "tensor([[3., 3.],\n",
       "        [3., 3.]])"
      ]
     },
     "execution_count": 40,
     "metadata": {
      "tags": []
     },
     "output_type": "execute_result"
    }
   ],
   "source": [
    "x.grad"
   ]
  },
  {
   "cell_type": "markdown",
   "metadata": {
    "colab_type": "text",
    "id": "J_jJvUmpU0HH",
    "school_cell_uuid": "912bc4592afa4dc3a7ae47a96278601a"
   },
   "source": [
    "`backward()`함수는 자동으로 미분값을 계산해 `requires_grad`인수가 True로 설정된 변수의 `grad`속성의 값을 갱신한다. `retain_graph` 미분을 연산하기 위해서 사용했던 임시 그래프를 유지 할 것인가를 설정하는 것이다. 기본값은 False로 설정되어 있지만 동일한 연산에 대해 여러번 미분을 계산하기 위해서는 True로 설정되어 있어야한다. 그리고 미분값을 그대로 출력받아 사용하고 싶은 경우에는 `torch.autograd.grad()`함수에 출력값과 입력값을 입력하면 미분값을 출력한다. "
   ]
  },
  {
   "cell_type": "code",
   "execution_count": 41,
   "metadata": {
    "colab": {
     "base_uri": "https://localhost:8080/",
     "height": 51
    },
    "colab_type": "code",
    "executionInfo": {
     "elapsed": 2830,
     "status": "ok",
     "timestamp": 1569406147447,
     "user": {
      "displayName": "Joel Kim",
      "photoUrl": "https://lh3.googleusercontent.com/a-/AAuE7mBN0WXo-0bYWXp5kx-AVZ6SaStj7WDcoC2A1QPiTYM=s64",
      "userId": "03446664688650714943"
     },
     "user_tz": -540
    },
    "id": "RRdIQtotU0HH",
    "outputId": "43985b7a-58d1-4081-b1e9-124bd1c3fab3",
    "school_cell_uuid": "39d3203d06944519aa6b7c16e98aeda6"
   },
   "outputs": [
    {
     "data": {
      "text/plain": [
       "(tensor([[3., 3.],\n",
       "         [3., 3.]]),)"
      ]
     },
     "execution_count": 41,
     "metadata": {
      "tags": []
     },
     "output_type": "execute_result"
    }
   ],
   "source": [
    "torch.autograd.grad(y, x)"
   ]
  },
  {
   "cell_type": "markdown",
   "metadata": {
    "colab_type": "text",
    "id": "5aFWG_EnU0HK",
    "school_cell_uuid": "a075cd7db9344c589ce6018801d4b519"
   },
   "source": [
    "상황에 따라 특정 연산에는 미분값을 계산하고 싶지 않은 경우에는 `.detach()`함수를 사용한다. 예를 들어, 이전 코드의 결과 값 `y`에 로지스틱 함수 연산을 수행하고 이에 대한 미분 값을 계산 하고 싶지 않은 경우에 다음처럼 할 수 있다. "
   ]
  },
  {
   "cell_type": "code",
   "execution_count": 42,
   "metadata": {
    "colab": {
     "base_uri": "https://localhost:8080/",
     "height": 34
    },
    "colab_type": "code",
    "executionInfo": {
     "elapsed": 2825,
     "status": "ok",
     "timestamp": 1569406147447,
     "user": {
      "displayName": "Joel Kim",
      "photoUrl": "https://lh3.googleusercontent.com/a-/AAuE7mBN0WXo-0bYWXp5kx-AVZ6SaStj7WDcoC2A1QPiTYM=s64",
      "userId": "03446664688650714943"
     },
     "user_tz": -540
    },
    "id": "ESRRtUwe0m4z",
    "outputId": "bda1302c-4575-4305-8d26-0a8180f66abd",
    "school_cell_uuid": "1084665b3d2a4f18957244674533895a"
   },
   "outputs": [
    {
     "data": {
      "text/plain": [
       "tensor(0.9846)"
      ]
     },
     "execution_count": 42,
     "metadata": {
      "tags": []
     },
     "output_type": "execute_result"
    }
   ],
   "source": [
    "y_1 = y.detach()\n",
    "torch.sigmoid(y_1)"
   ]
  },
  {
   "cell_type": "markdown",
   "metadata": {
    "colab_type": "text",
    "id": "-Dp_lQqr0m40",
    "school_cell_uuid": "2ccfb6f33c7d4c9bb01996a9b763ce5a"
   },
   "source": [
    "## PyTorch를 이용한 선형 회귀 구현"
   ]
  },
  {
   "cell_type": "markdown",
   "metadata": {
    "colab_type": "text",
    "id": "PnF_BiSq0m41",
    "school_cell_uuid": "608c44390dc940d487344b39e2b22fe7"
   },
   "source": [
    "지금까지 배운 내용으로 선형회귀를 구현한다."
   ]
  },
  {
   "cell_type": "code",
   "execution_count": 43,
   "metadata": {
    "colab": {
     "base_uri": "https://localhost:8080/",
     "height": 204
    },
    "colab_type": "code",
    "executionInfo": {
     "elapsed": 2821,
     "status": "ok",
     "timestamp": 1569406147448,
     "user": {
      "displayName": "Joel Kim",
      "photoUrl": "https://lh3.googleusercontent.com/a-/AAuE7mBN0WXo-0bYWXp5kx-AVZ6SaStj7WDcoC2A1QPiTYM=s64",
      "userId": "03446664688650714943"
     },
     "user_tz": -540
    },
    "id": "Ff70CwXj0m41",
    "outputId": "931e614a-c579-46b9-c9dc-8faab59b2740",
    "school_cell_uuid": "f23f8deddae049ec996b78937ad3ebe7",
    "scrolled": false
   },
   "outputs": [
    {
     "data": {
      "text/html": [
       "<div>\n",
       "<style scoped>\n",
       "    .dataframe tbody tr th:only-of-type {\n",
       "        vertical-align: middle;\n",
       "    }\n",
       "\n",
       "    .dataframe tbody tr th {\n",
       "        vertical-align: top;\n",
       "    }\n",
       "\n",
       "    .dataframe thead th {\n",
       "        text-align: right;\n",
       "    }\n",
       "</style>\n",
       "<table border=\"1\" class=\"dataframe\">\n",
       "  <thead>\n",
       "    <tr style=\"text-align: right;\">\n",
       "      <th></th>\n",
       "      <th>CRIM</th>\n",
       "      <th>ZN</th>\n",
       "      <th>INDUS</th>\n",
       "      <th>CHAS</th>\n",
       "      <th>NOX</th>\n",
       "      <th>RM</th>\n",
       "      <th>AGE</th>\n",
       "      <th>DIS</th>\n",
       "      <th>RAD</th>\n",
       "      <th>TAX</th>\n",
       "      <th>PTRATIO</th>\n",
       "      <th>B</th>\n",
       "      <th>LSTAT</th>\n",
       "      <th>const</th>\n",
       "    </tr>\n",
       "  </thead>\n",
       "  <tbody>\n",
       "    <tr>\n",
       "      <th>501</th>\n",
       "      <td>0.06263</td>\n",
       "      <td>0.0</td>\n",
       "      <td>11.93</td>\n",
       "      <td>0.0</td>\n",
       "      <td>0.573</td>\n",
       "      <td>6.593</td>\n",
       "      <td>69.1</td>\n",
       "      <td>2.4786</td>\n",
       "      <td>1.0</td>\n",
       "      <td>273.0</td>\n",
       "      <td>21.0</td>\n",
       "      <td>391.99</td>\n",
       "      <td>9.67</td>\n",
       "      <td>1.0</td>\n",
       "    </tr>\n",
       "    <tr>\n",
       "      <th>502</th>\n",
       "      <td>0.04527</td>\n",
       "      <td>0.0</td>\n",
       "      <td>11.93</td>\n",
       "      <td>0.0</td>\n",
       "      <td>0.573</td>\n",
       "      <td>6.120</td>\n",
       "      <td>76.7</td>\n",
       "      <td>2.2875</td>\n",
       "      <td>1.0</td>\n",
       "      <td>273.0</td>\n",
       "      <td>21.0</td>\n",
       "      <td>396.90</td>\n",
       "      <td>9.08</td>\n",
       "      <td>1.0</td>\n",
       "    </tr>\n",
       "    <tr>\n",
       "      <th>503</th>\n",
       "      <td>0.06076</td>\n",
       "      <td>0.0</td>\n",
       "      <td>11.93</td>\n",
       "      <td>0.0</td>\n",
       "      <td>0.573</td>\n",
       "      <td>6.976</td>\n",
       "      <td>91.0</td>\n",
       "      <td>2.1675</td>\n",
       "      <td>1.0</td>\n",
       "      <td>273.0</td>\n",
       "      <td>21.0</td>\n",
       "      <td>396.90</td>\n",
       "      <td>5.64</td>\n",
       "      <td>1.0</td>\n",
       "    </tr>\n",
       "    <tr>\n",
       "      <th>504</th>\n",
       "      <td>0.10959</td>\n",
       "      <td>0.0</td>\n",
       "      <td>11.93</td>\n",
       "      <td>0.0</td>\n",
       "      <td>0.573</td>\n",
       "      <td>6.794</td>\n",
       "      <td>89.3</td>\n",
       "      <td>2.3889</td>\n",
       "      <td>1.0</td>\n",
       "      <td>273.0</td>\n",
       "      <td>21.0</td>\n",
       "      <td>393.45</td>\n",
       "      <td>6.48</td>\n",
       "      <td>1.0</td>\n",
       "    </tr>\n",
       "    <tr>\n",
       "      <th>505</th>\n",
       "      <td>0.04741</td>\n",
       "      <td>0.0</td>\n",
       "      <td>11.93</td>\n",
       "      <td>0.0</td>\n",
       "      <td>0.573</td>\n",
       "      <td>6.030</td>\n",
       "      <td>80.8</td>\n",
       "      <td>2.5050</td>\n",
       "      <td>1.0</td>\n",
       "      <td>273.0</td>\n",
       "      <td>21.0</td>\n",
       "      <td>396.90</td>\n",
       "      <td>7.88</td>\n",
       "      <td>1.0</td>\n",
       "    </tr>\n",
       "  </tbody>\n",
       "</table>\n",
       "</div>"
      ],
      "text/plain": [
       "        CRIM   ZN  INDUS  CHAS    NOX  ...    TAX  PTRATIO       B  LSTAT  const\n",
       "501  0.06263  0.0  11.93   0.0  0.573  ...  273.0     21.0  391.99   9.67    1.0\n",
       "502  0.04527  0.0  11.93   0.0  0.573  ...  273.0     21.0  396.90   9.08    1.0\n",
       "503  0.06076  0.0  11.93   0.0  0.573  ...  273.0     21.0  396.90   5.64    1.0\n",
       "504  0.10959  0.0  11.93   0.0  0.573  ...  273.0     21.0  393.45   6.48    1.0\n",
       "505  0.04741  0.0  11.93   0.0  0.573  ...  273.0     21.0  396.90   7.88    1.0\n",
       "\n",
       "[5 rows x 14 columns]"
      ]
     },
     "execution_count": 43,
     "metadata": {
      "tags": []
     },
     "output_type": "execute_result"
    }
   ],
   "source": [
    "from sklearn.datasets import load_boston\n",
    "\n",
    "boston = load_boston()\n",
    "df = pd.DataFrame(boston.data, columns=boston.feature_names)\n",
    "df['const'] = np.ones(df.shape[0])\n",
    "df.tail()"
   ]
  },
  {
   "cell_type": "code",
   "execution_count": 44,
   "metadata": {
    "colab": {
     "base_uri": "https://localhost:8080/",
     "height": 34
    },
    "colab_type": "code",
    "executionInfo": {
     "elapsed": 2816,
     "status": "ok",
     "timestamp": 1569406147448,
     "user": {
      "displayName": "Joel Kim",
      "photoUrl": "https://lh3.googleusercontent.com/a-/AAuE7mBN0WXo-0bYWXp5kx-AVZ6SaStj7WDcoC2A1QPiTYM=s64",
      "userId": "03446664688650714943"
     },
     "user_tz": -540
    },
    "id": "ei157kwh0m43",
    "outputId": "32a3109f-d217-4677-cd6e-5cb7660dcf47",
    "school_cell_uuid": "8df689f7a7cc41bebb9c2894f090230a"
   },
   "outputs": [
    {
     "name": "stdout",
     "output_type": "stream",
     "text": [
      "예측한 집값 : tensor([18.4061], dtype=torch.float64) 실제 집값 : 18.2\n"
     ]
    }
   ],
   "source": [
    "n, m = df.shape\n",
    "\n",
    "X = torch.tensor(df.values)\n",
    "y = torch.tensor(boston.target).view(-1, 1)\n",
    "\n",
    "XT = torch.transpose(X, 0, 1)\n",
    "w = torch.matmul(torch.matmul(torch.inverse(torch.matmul(XT, X)), XT), y)\n",
    "y_pred = torch.matmul(X, w)\n",
    "\n",
    "\n",
    "print(\"예측한 집값 :\", y_pred[19], \"실제 집값 :\", boston.target[19])"
   ]
  },
  {
   "cell_type": "markdown",
   "metadata": {
    "colab_type": "text",
    "id": "gNm-eqsMU0HM",
    "school_cell_uuid": "abb570d93148420ab743b741de255e09"
   },
   "source": [
    "## PyTorch를 이용한 퍼셉트론 구현 "
   ]
  },
  {
   "cell_type": "markdown",
   "metadata": {
    "colab_type": "text",
    "id": "98CktUJzU0HO",
    "school_cell_uuid": "1f66d3aed5be481f8232cd6007e46d8f"
   },
   "source": [
    "이번에는 붓꽃 분류 문제를 해결하는 퍼셉트론 모형을 구현한다. "
   ]
  },
  {
   "cell_type": "code",
   "execution_count": 0,
   "metadata": {
    "colab": {},
    "colab_type": "code",
    "id": "VPR-beyRU0HO",
    "school_cell_uuid": "d787738d57c74820b0c01ed8ada84720"
   },
   "outputs": [],
   "source": [
    "from sklearn.datasets import load_iris\n",
    "\n",
    "iris = load_iris()\n",
    "\n",
    "idx = np.in1d(iris.target, [0, 2])\n",
    "x = torch.from_numpy(iris.data[idx, 0:2]).type(torch.float64)\n",
    "y = torch.from_numpy((iris.target[idx] - 1.0)\n",
    "                     [:, np.newaxis]).type(torch.float64)"
   ]
  },
  {
   "cell_type": "markdown",
   "metadata": {
    "colab_type": "text",
    "id": "M3BlZcbHU0HQ",
    "school_cell_uuid": "43fcddcf67ec463ebca516bcf61a0b39"
   },
   "source": [
    "모형에 사용하는 변수를 `requires_grad`인수를 True로 하여 생성한다."
   ]
  },
  {
   "cell_type": "code",
   "execution_count": 0,
   "metadata": {
    "colab": {},
    "colab_type": "code",
    "id": "v694f9SFU0HQ",
    "school_cell_uuid": "c1270acedb2a4f4caef673ed667ff8ea"
   },
   "outputs": [],
   "source": [
    "w = torch.rand((2, 1), dtype=torch.float64, requires_grad=True)\n",
    "b = torch.rand((1, 1), dtype=torch.float64, requires_grad=True)"
   ]
  },
  {
   "cell_type": "markdown",
   "metadata": {
    "colab_type": "text",
    "id": "3pp0_pOVU0HS",
    "school_cell_uuid": "bc12b6ecbea74a0e852f5e150d0843a6"
   },
   "source": [
    "생성한 변수에 직접 연산을 수행해서는 안된다. 방금 예 처럼 \"w\" 라는 변수명으로 변수를 할당하고 이 변수를 연산 할 때 파이썬에서 하듯이 \n",
    "\n",
    "    w = 0.001 * w\n",
    "    \n",
    "이렇게 해서는 안된다. 변수에 연산의 결과 값이 들어가면서 이 후 해당 변수는 이전에 생성한 변수가 아니고, 따라서 더이상 `requires_grad`가 True로 설정되어 있지 않다. 변수에 연산, 할당을 하고 싶을 때는 변수의 `data`속성을 불러와 변경하면 된다. "
   ]
  },
  {
   "cell_type": "code",
   "execution_count": 0,
   "metadata": {
    "colab": {},
    "colab_type": "code",
    "id": "JhSaK5-CU0HS",
    "school_cell_uuid": "ac3095f476004295b20ce13f4bbf1e02"
   },
   "outputs": [],
   "source": [
    "w.data *= 0.001\n",
    "b.data *= 0.001"
   ]
  },
  {
   "cell_type": "markdown",
   "metadata": {
    "colab_type": "text",
    "id": "uD4LV-fiU0HV",
    "school_cell_uuid": "a6d542ae89d4451a9521b74a867e7e87"
   },
   "source": [
    "다음으로 SGD 최적화를 수행한다. `.backward()`를 사용하면 미분값이 계속 누적된다. 우리는 학습한 뒤 가중치를 수정하고 수정한 가중치에 대한 미분값으로 다시 학습하는 것이기 때문에 가중치를 수정한 뒤에 `.grad_zero_()`함수를 호출하여 변수에 할당된 미분값을 0으로 만들어준다. "
   ]
  },
  {
   "cell_type": "code",
   "execution_count": 48,
   "metadata": {
    "colab": {
     "base_uri": "https://localhost:8080/",
     "height": 187
    },
    "colab_type": "code",
    "executionInfo": {
     "elapsed": 2806,
     "status": "ok",
     "timestamp": 1569406147450,
     "user": {
      "displayName": "Joel Kim",
      "photoUrl": "https://lh3.googleusercontent.com/a-/AAuE7mBN0WXo-0bYWXp5kx-AVZ6SaStj7WDcoC2A1QPiTYM=s64",
      "userId": "03446664688650714943"
     },
     "user_tz": -540
    },
    "id": "s6E0c1XAU0HV",
    "outputId": "719607e5-410f-4ae0-8fb2-e88e567bccfe",
    "school_cell_uuid": "cd2bd52dad7143a4bd5ed0d99736d6b9",
    "scrolled": false
   },
   "outputs": [
    {
     "name": "stdout",
     "output_type": "stream",
     "text": [
      "  0 - loss : 0.27\n",
      " 10 - loss : 0.052\n",
      " 20 - loss : 0.036\n",
      " 30 - loss : 0.014\n",
      " 40 - loss : 0.019\n",
      " 50 - loss : 0.00021\n",
      " 60 - loss : 0.00019\n",
      " 70 - loss : 0.0002\n",
      " 80 - loss : 0.0002\n",
      " 90 - loss : 0.00019\n"
     ]
    }
   ],
   "source": [
    "learning_rate = 1e-6\n",
    "epochs = 100\n",
    "\n",
    "for epoch in range(epochs):\n",
    "    z = (x.mm(w) + b).tanh()\n",
    "    loss_vec = torch.mul(-y, z)\n",
    "    loss = torch.sum(torch.max(\n",
    "        torch.cat([torch.zeros_like(loss_vec), loss_vec], dim=-1), dim=-1)[0], dim=-1)\n",
    "    loss.backward()\n",
    "    w.data -= w.grad * learning_rate\n",
    "    b.data -= b.grad * learning_rate\n",
    "    if epoch % 10 == 0:\n",
    "        print(\"{:3} - loss : {:3.2}\".format(epoch, loss.item()))\n",
    "    w.grad.zero_()\n",
    "    b.grad.zero_()"
   ]
  },
  {
   "cell_type": "code",
   "execution_count": 49,
   "metadata": {
    "colab": {
     "base_uri": "https://localhost:8080/",
     "height": 51
    },
    "colab_type": "code",
    "executionInfo": {
     "elapsed": 2801,
     "status": "ok",
     "timestamp": 1569406147451,
     "user": {
      "displayName": "Joel Kim",
      "photoUrl": "https://lh3.googleusercontent.com/a-/AAuE7mBN0WXo-0bYWXp5kx-AVZ6SaStj7WDcoC2A1QPiTYM=s64",
      "userId": "03446664688650714943"
     },
     "user_tz": -540
    },
    "id": "fINbAeXtU0HX",
    "outputId": "06587a01-0163-4d18-d499-da894d2f84a8",
    "school_cell_uuid": "501297f959be4eb58a6bc42027c4a19c"
   },
   "outputs": [
    {
     "data": {
      "text/plain": [
       "array([[49,  1],\n",
       "       [ 1, 49]])"
      ]
     },
     "execution_count": 49,
     "metadata": {
      "tags": []
     },
     "output_type": "execute_result"
    }
   ],
   "source": [
    "from sklearn.metrics import confusion_matrix\n",
    "\n",
    "confusion_matrix(y, [-1 if p < 0 else 1 for p in z.detach().numpy()])"
   ]
  },
  {
   "cell_type": "markdown",
   "metadata": {
    "colab_type": "text",
    "id": "4a7MgFDf0m5G",
    "school_cell_uuid": "abb570d93148420ab743b741de255e09"
   },
   "source": [
    "## PyTorch를 이용한 신경망 구현 "
   ]
  },
  {
   "cell_type": "markdown",
   "metadata": {
    "colab_type": "text",
    "id": "5NZIRZjy0m5G",
    "school_cell_uuid": "085af64672274d20af50c1b5beb0dddd"
   },
   "source": [
    "PyTorch 다양한 신경망 모형을 쉽게 구현 할 수 있도록 `torch.nn.module`을 제공한다. 이를 이용해 간단한 신경망 모형을 구현한다. PyTorch에서는 샘플데이터를 제공하지 않으므로 샘플데이터는 Keras를 이용해 MNIST 숫자 데이터를 불러오겠다."
   ]
  },
  {
   "cell_type": "code",
   "execution_count": 0,
   "metadata": {
    "colab": {},
    "colab_type": "code",
    "id": "AhmyXQbG0m5H",
    "school_cell_uuid": "91e6d0a8cd9841cf9df5ab08fbcf2b1a"
   },
   "outputs": [],
   "source": [
    "from keras.datasets import fashion_mnist, mnist\n",
    "\n",
    "import torch\n",
    "\n",
    "(X_train0, y_train), (X_test0, y_test) = mnist.load_data()"
   ]
  },
  {
   "cell_type": "code",
   "execution_count": 51,
   "metadata": {
    "colab": {
     "base_uri": "https://localhost:8080/",
     "height": 85
    },
    "colab_type": "code",
    "executionInfo": {
     "elapsed": 2792,
     "status": "ok",
     "timestamp": 1569406147452,
     "user": {
      "displayName": "Joel Kim",
      "photoUrl": "https://lh3.googleusercontent.com/a-/AAuE7mBN0WXo-0bYWXp5kx-AVZ6SaStj7WDcoC2A1QPiTYM=s64",
      "userId": "03446664688650714943"
     },
     "user_tz": -540
    },
    "id": "mAQUnsLZ0m5I",
    "outputId": "5fa74958-4fca-4ce7-abcd-a2e4520a68ea",
    "school_cell_uuid": "8cf04de8789547d68cc097d4cd5c0300"
   },
   "outputs": [
    {
     "name": "stdout",
     "output_type": "stream",
     "text": [
      "(60000, 28, 28) uint8\n",
      "(60000,) uint8\n",
      "(10000, 28, 28) uint8\n",
      "(10000,) uint8\n"
     ]
    }
   ],
   "source": [
    "print(X_train0.shape, X_train0.dtype)\n",
    "print(y_train.shape, y_train.dtype)\n",
    "print(X_test0.shape, X_test0.dtype)\n",
    "print(y_test.shape, y_test.dtype)"
   ]
  },
  {
   "cell_type": "markdown",
   "metadata": {
    "colab_type": "text",
    "id": "T71NMZTE0m5K",
    "school_cell_uuid": "c388545c296945bda64fe23bdd46c876"
   },
   "source": [
    "이전에 Keras에서 했던 방식과 같이 전처리를 진행한다. 다만 여기서는 정답데이터에 대한 원핫인코딩작업을 하지 않는다. 이유는 바로 다음에 설명할 것이다. 전처리를 수행했으면 PyTorch가 사용할 수 있는 텐서로 변환하고 각각 알맞는 데이터 타입으로 변환한다. 이미지데이터에 대해서는 float 타입, 출력데이터에 대해서는 int64 타입으로 변환한다. 이는 추후 사용할 PyTorch의 함수가 해당 데이터 타입을 지원하기 때문이다."
   ]
  },
  {
   "cell_type": "code",
   "execution_count": 0,
   "metadata": {
    "colab": {},
    "colab_type": "code",
    "id": "2_W132i_0m5K",
    "school_cell_uuid": "63807fc962be46b899361d8d67ef13c0"
   },
   "outputs": [],
   "source": [
    "X_train = X_train0.reshape(60000, 784).astype('float64') / 255.0\n",
    "X_test = X_test0.reshape(10000, 784).astype('float64') / 255.0\n",
    "\n",
    "X_train, y_train, X_test, y_test = map(\n",
    "    torch.tensor, (X_train, y_train, X_test, y_test))\n",
    "\n",
    "X_train, y_train, X_test, y_test = X_train.float(\n",
    "), y_train.long(), X_test.float(), y_test.long()"
   ]
  },
  {
   "cell_type": "markdown",
   "metadata": {
    "colab_type": "text",
    "id": "m-9WPmN70m5M",
    "school_cell_uuid": "68c87bb606114455acc1984f746cc70e"
   },
   "source": [
    "`torch.nn.Sequential`을 이용하면 손쉽게 모델을 구성할 수 있다. 이전 Keras의 방식과 유사하다. 다만 명령어가 조금씩 다를 뿐이다. 이전에 Keras로 구현한 것과 동일한 구조로 구성한다. `torch.nn.Linear`는 레이어 간의 선형결합을 의미하고 이를 활성화함수에 통과시키면 이전에 배웠던 MLP(multi layer perceptron)구조가 된다. 28x28크기의 이미지를 1차원 벡터로 만들어 입력하고 15개 노드의 은닉층을 거쳐 10개 노드를 출력한다. 이 모형을 GPU를 사용해 학습시키고 싶다면 모형과 사용할 데이터를 GPU연산 가능 자료형으로 변환하면 된다."
   ]
  },
  {
   "cell_type": "code",
   "execution_count": 0,
   "metadata": {
    "colab": {},
    "colab_type": "code",
    "id": "1NQr0w3A0m5M",
    "school_cell_uuid": "2cccd22efd52492cb087af77332e35db"
   },
   "outputs": [],
   "source": [
    "from torch import nn\n",
    "\n",
    "model = nn.Sequential(\n",
    "    nn.Linear(784, 15),\n",
    "    nn.Sigmoid(),\n",
    "    nn.Linear(15, 10),\n",
    "    nn.Sigmoid(),\n",
    ").cuda()"
   ]
  },
  {
   "cell_type": "markdown",
   "metadata": {
    "colab_type": "text",
    "id": "E__GhpAD0m5O",
    "school_cell_uuid": "f3fdca3bf970457d80591d067fc2c961"
   },
   "source": [
    "PyTorch에서 최적화 알고리즘은 `torch.optim`에 정의되어 있다. 다음처럼 `torch.optim`클래스에서 원하는 최적화 방법을 정의한다. 여기서는 SGD방법을 사용한다. 그리고 대부분의 비용함수는 `torch.nn`클래스에 구현되어 있다. 여기서는 크로스 엔트로피 비용함수(Cross Entropy Loss)를 사용한다. 크로스 엔트로피 비용함수는 신경망 모형을 이용해 분류문제를 풀 때 많이 사용하는 비용함수이다. 이는 추후 신경망 성능개선 다룰 것이다. "
   ]
  },
  {
   "cell_type": "code",
   "execution_count": 0,
   "metadata": {
    "colab": {},
    "colab_type": "code",
    "id": "f2fJsOAv0m5P",
    "school_cell_uuid": "b51cad3671cf4cdebd3c707fc5649c3f"
   },
   "outputs": [],
   "source": [
    "from torch import optim\n",
    "\n",
    "opt = optim.SGD(model.parameters(), lr=0.5)\n",
    "loss_fn = torch.nn.CrossEntropyLoss()"
   ]
  },
  {
   "cell_type": "code",
   "execution_count": 55,
   "metadata": {
    "colab": {
     "base_uri": "https://localhost:8080/",
     "height": 187
    },
    "colab_type": "code",
    "executionInfo": {
     "elapsed": 9008,
     "status": "ok",
     "timestamp": 1569406153680,
     "user": {
      "displayName": "Joel Kim",
      "photoUrl": "https://lh3.googleusercontent.com/a-/AAuE7mBN0WXo-0bYWXp5kx-AVZ6SaStj7WDcoC2A1QPiTYM=s64",
      "userId": "03446664688650714943"
     },
     "user_tz": -540
    },
    "id": "9tw4IzYh0m5Q",
    "outputId": "e7ddb9e0-7be5-4e2c-e133-a2f25a1263da",
    "school_cell_uuid": "32e7a76ae8bb440e9525002574ca0584",
    "scrolled": false
   },
   "outputs": [
    {
     "name": "stdout",
     "output_type": "stream",
     "text": [
      " 1 epoch - cross entropy :  1.8, accuracy : 0.84\n",
      " 2 epoch - cross entropy :  1.7, accuracy : 0.88\n",
      " 3 epoch - cross entropy :  1.6, accuracy : 0.88\n",
      " 4 epoch - cross entropy :  1.6, accuracy : 0.87\n",
      " 5 epoch - cross entropy :  1.6, accuracy : 0.87\n",
      " 6 epoch - cross entropy :  1.6, accuracy : 0.86\n",
      " 7 epoch - cross entropy :  1.6, accuracy : 0.87\n",
      " 8 epoch - cross entropy :  1.6, accuracy : 0.88\n",
      " 9 epoch - cross entropy :  1.6, accuracy : 0.89\n",
      "10 epoch - cross entropy :  1.6, accuracy : 0.91\n"
     ]
    }
   ],
   "source": [
    "def accuracy(pred, y):\n",
    "    preds = torch.argmax(pred, dim=1)\n",
    "    return (preds == y).float().mean()\n",
    "\n",
    "\n",
    "epochs = 10\n",
    "n = X_train.shape[0]\n",
    "bs = 100\n",
    "\n",
    "for epoch in range(epochs):\n",
    "    for i in range((n - 1) // bs + 1):\n",
    "        start_i = i * bs\n",
    "        end_i = start_i + bs\n",
    "        xb = X_train[start_i:end_i].cuda()\n",
    "        yb = y_train[start_i:end_i].cuda()\n",
    "        pred = model(xb)\n",
    "        loss = loss_fn(pred, yb)\n",
    "        loss.backward()\n",
    "        opt.step()\n",
    "        opt.zero_grad()\n",
    "    acc = accuracy(pred, yb)\n",
    "    print(\"{:2} epoch - cross entropy : {:4.2}, accuracy : {:4.2}\".format(\n",
    "        epoch + 1, loss.detach().item(), acc.detach().item()))"
   ]
  },
  {
   "cell_type": "markdown",
   "metadata": {
    "colab_type": "text",
    "id": "VyOui2kx0m5R",
    "school_cell_uuid": "cad2d67b7c024d868a3203c0038ea9d2"
   },
   "source": [
    "`hiddenlayer` 패키지를 사용하면 PyTorch로 구현한 모델의 그래프를 시각화 할 수 있다. 설치하는 방법은 다음과 같다. "
   ]
  },
  {
   "cell_type": "code",
   "execution_count": 56,
   "metadata": {
    "colab": {
     "base_uri": "https://localhost:8080/",
     "height": 34
    },
    "colab_type": "code",
    "executionInfo": {
     "elapsed": 14583,
     "status": "ok",
     "timestamp": 1569406159261,
     "user": {
      "displayName": "Joel Kim",
      "photoUrl": "https://lh3.googleusercontent.com/a-/AAuE7mBN0WXo-0bYWXp5kx-AVZ6SaStj7WDcoC2A1QPiTYM=s64",
      "userId": "03446664688650714943"
     },
     "user_tz": -540
    },
    "id": "3DXIt--O1IJF",
    "outputId": "1d8fd4e5-8bca-4f08-80a4-9898cb3ae058",
    "school_cell_uuid": "29e5b97c28c2423a874abd3f0e76ab53"
   },
   "outputs": [
    {
     "name": "stdout",
     "output_type": "stream",
     "text": [
      "Requirement already satisfied: hiddenlayer in /usr/local/lib/python3.6/dist-packages (0.2)\n"
     ]
    }
   ],
   "source": [
    "!pip install hiddenlayer"
   ]
  },
  {
   "cell_type": "code",
   "execution_count": 57,
   "metadata": {
    "colab": {
     "base_uri": "https://localhost:8080/",
     "height": 497
    },
    "colab_type": "code",
    "executionInfo": {
     "elapsed": 14579,
     "status": "ok",
     "timestamp": 1569406159262,
     "user": {
      "displayName": "Joel Kim",
      "photoUrl": "https://lh3.googleusercontent.com/a-/AAuE7mBN0WXo-0bYWXp5kx-AVZ6SaStj7WDcoC2A1QPiTYM=s64",
      "userId": "03446664688650714943"
     },
     "user_tz": -540
    },
    "id": "w-WRjk6L0m5S",
    "outputId": "78ff1241-4d17-404f-f411-655142cb31b2",
    "school_cell_uuid": "b13e9989d4f54b1e9176b50b11698914"
   },
   "outputs": [
    {
     "data": {
      "image/svg+xml": [
       "<?xml version=\"1.0\" encoding=\"UTF-8\" standalone=\"no\"?>\n",
       "<!DOCTYPE svg PUBLIC \"-//W3C//DTD SVG 1.1//EN\"\n",
       " \"http://www.w3.org/Graphics/SVG/1.1/DTD/svg11.dtd\">\n",
       "<!-- Generated by graphviz version 2.40.1 (20161225.0304)\n",
       " -->\n",
       "<!-- Title: %3 Pages: 1 -->\n",
       "<svg width=\"214pt\" height=\"357pt\"\n",
       " viewBox=\"0.00 0.00 214.00 357.00\" xmlns=\"http://www.w3.org/2000/svg\" xmlns:xlink=\"http://www.w3.org/1999/xlink\">\n",
       "<g id=\"graph0\" class=\"graph\" transform=\"scale(1 1) rotate(0) translate(72 321)\">\n",
       "<title>%3</title>\n",
       "<polygon fill=\"#ffffff\" stroke=\"transparent\" points=\"-72,36 -72,-321 142,-321 142,36 -72,36\"/>\n",
       "<!-- Sequential/Linear[0]/outputs/5 -->\n",
       "<g id=\"node1\" class=\"node\">\n",
       "<title>Sequential/Linear[0]/outputs/5</title>\n",
       "<polygon fill=\"#e8e8e8\" stroke=\"#000000\" points=\"54,-285 0,-285 0,-249 54,-249 54,-285\"/>\n",
       "<text text-anchor=\"start\" x=\"14\" y=\"-264\" font-family=\"Times\" font-size=\"10.00\" fill=\"#000000\">Linear</text>\n",
       "</g>\n",
       "<!-- Sequential/Sigmoid[1]/outputs/6 -->\n",
       "<g id=\"node2\" class=\"node\">\n",
       "<title>Sequential/Sigmoid[1]/outputs/6</title>\n",
       "<polygon fill=\"#e8e8e8\" stroke=\"#000000\" points=\"54,-202 0,-202 0,-166 54,-166 54,-202\"/>\n",
       "<text text-anchor=\"start\" x=\"10\" y=\"-181\" font-family=\"Times\" font-size=\"10.00\" fill=\"#000000\">Sigmoid</text>\n",
       "</g>\n",
       "<!-- Sequential/Linear[0]/outputs/5&#45;&gt;Sequential/Sigmoid[1]/outputs/6 -->\n",
       "<g id=\"edge1\" class=\"edge\">\n",
       "<title>Sequential/Linear[0]/outputs/5&#45;&gt;Sequential/Sigmoid[1]/outputs/6</title>\n",
       "<path fill=\"none\" stroke=\"#000000\" d=\"M27,-248.9902C27,-238.2963 27,-224.4994 27,-212.3706\"/>\n",
       "<polygon fill=\"#000000\" stroke=\"#000000\" points=\"30.5001,-212.2612 27,-202.2612 23.5001,-212.2613 30.5001,-212.2612\"/>\n",
       "<text text-anchor=\"middle\" x=\"48.5\" y=\"-223\" font-family=\"Times\" font-size=\"10.00\" fill=\"#000000\">10000x15</text>\n",
       "</g>\n",
       "<!-- Sequential/Sigmoid[1]/outputs/7 -->\n",
       "<g id=\"node3\" class=\"node\">\n",
       "<title>Sequential/Sigmoid[1]/outputs/7</title>\n",
       "<polygon fill=\"#e8e8e8\" stroke=\"#000000\" points=\"54,-119 0,-119 0,-83 54,-83 54,-119\"/>\n",
       "<text text-anchor=\"start\" x=\"14\" y=\"-98\" font-family=\"Times\" font-size=\"10.00\" fill=\"#000000\">Linear</text>\n",
       "</g>\n",
       "<!-- Sequential/Sigmoid[1]/outputs/6&#45;&gt;Sequential/Sigmoid[1]/outputs/7 -->\n",
       "<g id=\"edge2\" class=\"edge\">\n",
       "<title>Sequential/Sigmoid[1]/outputs/6&#45;&gt;Sequential/Sigmoid[1]/outputs/7</title>\n",
       "<path fill=\"none\" stroke=\"#000000\" d=\"M27,-165.9902C27,-155.2963 27,-141.4994 27,-129.3706\"/>\n",
       "<polygon fill=\"#000000\" stroke=\"#000000\" points=\"30.5001,-129.2612 27,-119.2612 23.5001,-129.2613 30.5001,-129.2612\"/>\n",
       "<text text-anchor=\"middle\" x=\"48.5\" y=\"-140\" font-family=\"Times\" font-size=\"10.00\" fill=\"#000000\">10000x15</text>\n",
       "</g>\n",
       "<!-- Sequential/Sigmoid[3]/outputs/8 -->\n",
       "<g id=\"node4\" class=\"node\">\n",
       "<title>Sequential/Sigmoid[3]/outputs/8</title>\n",
       "<polygon fill=\"#e8e8e8\" stroke=\"#000000\" points=\"54,-36 0,-36 0,0 54,0 54,-36\"/>\n",
       "<text text-anchor=\"start\" x=\"10\" y=\"-15\" font-family=\"Times\" font-size=\"10.00\" fill=\"#000000\">Sigmoid</text>\n",
       "</g>\n",
       "<!-- Sequential/Sigmoid[1]/outputs/7&#45;&gt;Sequential/Sigmoid[3]/outputs/8 -->\n",
       "<g id=\"edge3\" class=\"edge\">\n",
       "<title>Sequential/Sigmoid[1]/outputs/7&#45;&gt;Sequential/Sigmoid[3]/outputs/8</title>\n",
       "<path fill=\"none\" stroke=\"#000000\" d=\"M27,-82.9902C27,-72.2963 27,-58.4994 27,-46.3706\"/>\n",
       "<polygon fill=\"#000000\" stroke=\"#000000\" points=\"30.5001,-46.2612 27,-36.2612 23.5001,-46.2613 30.5001,-46.2612\"/>\n",
       "<text text-anchor=\"middle\" x=\"48.5\" y=\"-57\" font-family=\"Times\" font-size=\"10.00\" fill=\"#000000\">10000x10</text>\n",
       "</g>\n",
       "</g>\n",
       "</svg>\n"
      ],
      "text/plain": [
       "<hiddenlayer.graph.Graph at 0x7f84909a1470>"
      ]
     },
     "execution_count": 57,
     "metadata": {
      "tags": []
     },
     "output_type": "execute_result"
    }
   ],
   "source": [
    "import hiddenlayer as hl\n",
    "\n",
    "hl.build_graph(model=model, args=torch.zeros([10000, 784]).cuda())"
   ]
  }
 ],
 "metadata": {
  "accelerator": "GPU",
  "colab": {
   "collapsed_sections": [],
   "name": "04.02 파이토치 패키지 중급.ipynb",
   "provenance": []
  },
  "kernelspec": {
   "display_name": "Python 3",
   "language": "python",
   "name": "python3"
  },
  "language_info": {
   "codemirror_mode": {
    "name": "ipython",
    "version": 3
   },
   "file_extension": ".py",
   "mimetype": "text/x-python",
   "name": "python",
   "nbconvert_exporter": "python",
   "pygments_lexer": "ipython3",
   "version": "3.7.0"
  }
 },
 "nbformat": 4,
 "nbformat_minor": 0
}