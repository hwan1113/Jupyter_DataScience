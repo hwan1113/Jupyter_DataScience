{
 "cells": [
  {
   "cell_type": "markdown",
   "metadata": {
    "school_cell_uuid": "8fdebd77b5a5461ab92f58786479e23e"
   },
   "source": [
    "## 3.6 텐서플로 데이터셋 API"
   ]
  },
  {
   "cell_type": "markdown",
   "metadata": {
    "school_cell_uuid": "047e6ec3d1fa466abe421fce036c8447"
   },
   "source": [
    "텐서플로는 `tf.data` 서브패키지에서 데이터 입력 파이프라인을 위한 데이터셋 API를 제공한다. \n",
    "데이터 입력 파이프라인은 모델에 공급되는 데이터에 대한 모든 작업을 담당한다. \n",
    "예를 들어 이미지 데이터의 경우 분산 파일시스템으로부터 이미지를 모으는 작업, 이미지에 노이즈를 주거나 변형하는 작업, 배치 학습을 위해 무작위로 데이터를 선택하여 배치데이터를 만드는 작업을 할 수 있다. 텍스트 데이터의 경우 원문을 토큰화하거나 임베팅하는 작업, 길이가 다른 데이터를 패딩하여 합치는 작업등을 한다.\n",
    "\n",
    "데이터셋 API는 최종적으로 `tf.data.Dataset` 추상 클래스에서 상속된 여러가지 클래스 객체를 만든다.\n",
    "\n",
    "데이터셋 API를 사용하려면 세 가지 단계를 거친다.\n",
    "\n",
    "1. 데이터셋 생성: `from_tensor_slices()`, `from_generator()` 클래스 메서드 또는 `tf.data.TFRecordDataset` 클래스를 사용하여 메모리나 파일에 있는 데이터를 데이터 소스로 만든다.\n",
    "2. 데이터셋 변형: `map()`, `filter()`, `batch()` 등의 메서드를 사용하여 데이터 소스를 변형한다.\n",
    "3. for 반복문에서 데이터셋 사용\n"
   ]
  },
  {
   "cell_type": "markdown",
   "metadata": {
    "school_cell_uuid": "ce480cacffef4b688a8ecdd23b40646b"
   },
   "source": [
    "### 데이터셋 생성"
   ]
  },
  {
   "cell_type": "code",
   "execution_count": 1,
   "metadata": {
    "school_cell_uuid": "512aae0bf36b41e78ac08b101949ea1c"
   },
   "outputs": [
    {
     "data": {
      "text/plain": [
       "'2.0.0'"
      ]
     },
     "execution_count": 1,
     "metadata": {},
     "output_type": "execute_result"
    }
   ],
   "source": [
    "import tensorflow as tf \n",
    "tf.__version__"
   ]
  },
  {
   "cell_type": "markdown",
   "metadata": {
    "school_cell_uuid": "fef8ed8e7df34a6e8ebf32cce12299e8"
   },
   "source": [
    "`from_tensor_slices` 클래스 메서드를 사용하면 리스트, 넘파이, 텐서플로 자료형에서 데이터셋을 만들 수 있다."
   ]
  },
  {
   "cell_type": "code",
   "execution_count": 2,
   "metadata": {
    "school_cell_uuid": "771afd63bbe54cfeab70be2a5d960acd"
   },
   "outputs": [
    {
     "data": {
      "text/plain": [
       "<TensorSliceDataset shapes: (), types: tf.int32>"
      ]
     },
     "execution_count": 2,
     "metadata": {},
     "output_type": "execute_result"
    }
   ],
   "source": [
    "dataset1 = tf.data.Dataset.from_tensor_slices([8, 3, 0, 8, 2, 1])\n",
    "dataset1"
   ]
  },
  {
   "cell_type": "markdown",
   "metadata": {
    "school_cell_uuid": "9aaf3bdca9d6468c9adedbc8222ac2d2"
   },
   "source": [
    "생성된 데이터셋을 사용하면 for 문에서 반복작업을 할 수 있다."
   ]
  },
  {
   "cell_type": "code",
   "execution_count": 3,
   "metadata": {
    "school_cell_uuid": "78819ec69fb345e0b5e7b46cfa5bb270"
   },
   "outputs": [
    {
     "name": "stdout",
     "output_type": "stream",
     "text": [
      "8\n",
      "3\n",
      "0\n",
      "8\n",
      "2\n",
      "1\n"
     ]
    }
   ],
   "source": [
    "for elem in dataset1:\n",
    "  print(elem.numpy())"
   ]
  },
  {
   "cell_type": "markdown",
   "metadata": {
    "school_cell_uuid": "255a3f1d3595419ebdf94538f1adc9e1"
   },
   "source": [
    "데이터셋의 원소들은 모두 동일한 자료구조를 가지고 있어야 한다.\n",
    "데이터셋의 `element_spec` 속성은 원소의 자료구조를 반환한다. "
   ]
  },
  {
   "cell_type": "code",
   "execution_count": 4,
   "metadata": {
    "school_cell_uuid": "4d76f175b3254e05b6ddebcb2d3d7675"
   },
   "outputs": [
    {
     "data": {
      "text/plain": [
       "TensorSpec(shape=(), dtype=tf.int32, name=None)"
      ]
     },
     "execution_count": 4,
     "metadata": {},
     "output_type": "execute_result"
    }
   ],
   "source": [
    "dataset1.element_spec"
   ]
  },
  {
   "cell_type": "markdown",
   "metadata": {
    "school_cell_uuid": "d88b9d999e2a4863a7eb52754c1319ab"
   },
   "source": [
    "데이터셋의 원소는 단일 텐서가 될 수도 있고 튜플이나 리스트가 될 수도 있다. \n",
    "예를 들어 4x10 행렬로부터 만들어진 데이터셋 소스는 길이가 10인 1차원 텐서를 4개 출력한다."
   ]
  },
  {
   "cell_type": "code",
   "execution_count": 5,
   "metadata": {
    "school_cell_uuid": "52c33328fdf4470c9b56427a4faf0318"
   },
   "outputs": [],
   "source": [
    "dataset2 = tf.data.Dataset.from_tensor_slices(\n",
    "    tf.random.uniform([4, 10], minval=1, maxval=10, dtype=tf.int32))"
   ]
  },
  {
   "cell_type": "code",
   "execution_count": 6,
   "metadata": {
    "school_cell_uuid": "fff450ff4ccc40b0815c2c00e7ede5b1"
   },
   "outputs": [
    {
     "name": "stdout",
     "output_type": "stream",
     "text": [
      "[8 6 8 4 6 2 4 5 6 1]\n",
      "[8 2 4 5 2 9 8 5 2 8]\n",
      "[3 7 3 5 9 8 3 5 5 4]\n",
      "[8 4 1 7 2 2 3 5 9 6]\n"
     ]
    }
   ],
   "source": [
    "for elem in dataset2:\n",
    "  print(elem.numpy())"
   ]
  },
  {
   "cell_type": "markdown",
   "metadata": {
    "school_cell_uuid": "8d0cb17f39f347f3b2de8ff8e112b13a"
   },
   "source": [
    "예를 들어 (4벡터, 4x5 행렬)인 튜플로부터 만들어진 데이터셋 소스는 (스칼라, 길이가 5인 1차원 텐서) 데이터 튜플을 4개 출력한다."
   ]
  },
  {
   "cell_type": "code",
   "execution_count": 7,
   "metadata": {
    "school_cell_uuid": "8cd6cd6c62984ec7bc9a8f0e542d89b0"
   },
   "outputs": [
    {
     "data": {
      "text/plain": [
       "(TensorSpec(shape=(), dtype=tf.float32, name=None),\n",
       " TensorSpec(shape=(10,), dtype=tf.int32, name=None))"
      ]
     },
     "execution_count": 7,
     "metadata": {},
     "output_type": "execute_result"
    }
   ],
   "source": [
    "dataset3 = tf.data.Dataset.from_tensor_slices(\n",
    "   (tf.random.uniform([4]),\n",
    "    tf.random.uniform([4, 10], maxval=10, dtype=tf.int32)))\n",
    "\n",
    "dataset3.element_spec"
   ]
  },
  {
   "cell_type": "code",
   "execution_count": 8,
   "metadata": {
    "school_cell_uuid": "1886256c45064a3d96a7bf1aa2d0ad27"
   },
   "outputs": [
    {
     "name": "stdout",
     "output_type": "stream",
     "text": [
      "(<tf.Tensor: id=45, shape=(), dtype=float32, numpy=0.11144352>, <tf.Tensor: id=46, shape=(10,), dtype=int32, numpy=array([4, 7, 2, 5, 9, 5, 3, 9, 3, 7], dtype=int32)>)\n",
      "(<tf.Tensor: id=47, shape=(), dtype=float32, numpy=0.9932718>, <tf.Tensor: id=48, shape=(10,), dtype=int32, numpy=array([8, 9, 9, 0, 8, 5, 1, 7, 9, 5], dtype=int32)>)\n",
      "(<tf.Tensor: id=49, shape=(), dtype=float32, numpy=0.7222005>, <tf.Tensor: id=50, shape=(10,), dtype=int32, numpy=array([8, 5, 0, 7, 3, 1, 8, 9, 4, 9], dtype=int32)>)\n",
      "(<tf.Tensor: id=51, shape=(), dtype=float32, numpy=0.96035576>, <tf.Tensor: id=52, shape=(10,), dtype=int32, numpy=array([0, 7, 7, 9, 5, 0, 4, 2, 0, 3], dtype=int32)>)\n"
     ]
    }
   ],
   "source": [
    "for elem in dataset3:\n",
    "  print(elem)"
   ]
  },
  {
   "cell_type": "markdown",
   "metadata": {
    "school_cell_uuid": "675eec956220428d91c50c50dbb8ad35"
   },
   "source": [
    "`zip` 클래스 메서드로 이미 만들어진 데이터셋을 조합하여 다른 데이터셋을 만들수도 있다."
   ]
  },
  {
   "cell_type": "code",
   "execution_count": 9,
   "metadata": {
    "school_cell_uuid": "c0deb6926e11465aa15e3fdf4be8a18c"
   },
   "outputs": [
    {
     "data": {
      "text/plain": [
       "(TensorSpec(shape=(10,), dtype=tf.int32, name=None),\n",
       " (TensorSpec(shape=(), dtype=tf.float32, name=None),\n",
       "  TensorSpec(shape=(10,), dtype=tf.int32, name=None)))"
      ]
     },
     "execution_count": 9,
     "metadata": {},
     "output_type": "execute_result"
    }
   ],
   "source": [
    "dataset4 = tf.data.Dataset.zip((dataset2, dataset3))\n",
    "\n",
    "dataset4.element_spec"
   ]
  },
  {
   "cell_type": "markdown",
   "metadata": {
    "school_cell_uuid": "a773fb76480e4a6eba5902c7f5e81967"
   },
   "source": [
    "`from_generator` 클래스 메서드를 사용하면 생성자에서 데이터셋을 만들 수도 있다. 이 때는 `output_types`, `output_shapes` 인수로 출력 자료형과 크기를 지정해주어야 한다."
   ]
  },
  {
   "cell_type": "code",
   "execution_count": 10,
   "metadata": {
    "school_cell_uuid": "65345edd513c410dbe27b99349f9bbd9"
   },
   "outputs": [
    {
     "data": {
      "text/plain": [
       "<DatasetV1Adapter shapes: (), types: tf.int32>"
      ]
     },
     "execution_count": 10,
     "metadata": {},
     "output_type": "execute_result"
    }
   ],
   "source": [
    "def count(stop):\n",
    "  i = 0\n",
    "  while i < stop:\n",
    "    yield i\n",
    "    i += 1\n",
    "\n",
    "dataset5 = tf.data.Dataset.from_generator(\n",
    "    count, args=[4], \n",
    "    output_types=tf.int32, output_shapes = ())\n",
    "dataset5"
   ]
  },
  {
   "cell_type": "code",
   "execution_count": 11,
   "metadata": {
    "school_cell_uuid": "c250bee5ede44f558c79cca28a913b28"
   },
   "outputs": [
    {
     "name": "stdout",
     "output_type": "stream",
     "text": [
      "0\n",
      "1\n",
      "2\n",
      "3\n"
     ]
    }
   ],
   "source": [
    "for elem in dataset5:\n",
    "  print(elem.numpy())"
   ]
  },
  {
   "cell_type": "markdown",
   "metadata": {
    "school_cell_uuid": "68fb85a684304b6bb19c1ea63dc6c87a"
   },
   "source": [
    "### 데이터셋 변형"
   ]
  },
  {
   "cell_type": "markdown",
   "metadata": {
    "school_cell_uuid": "7c0de12e224a41a7aa5a6a802f44c0b0"
   },
   "source": [
    "* `repeat()`\n",
    "* `take()`\n",
    "* `skip()`\n",
    "* `batch()`\n",
    "* `shuffle()`\n",
    "* `map()`\n",
    "* `filter()`\n",
    "* `concatenate()`"
   ]
  },
  {
   "cell_type": "markdown",
   "metadata": {
    "school_cell_uuid": "ef72809bd52c41b39503b30d376004db"
   },
   "source": [
    "`repeat()` 메서드는 데이터를 반복시킨다. 숫자를 지정하지 않으면 계속 반복한다."
   ]
  },
  {
   "cell_type": "code",
   "execution_count": 12,
   "metadata": {
    "school_cell_uuid": "881b2b2e09344b6dbba2fdb3b60a998a"
   },
   "outputs": [
    {
     "name": "stdout",
     "output_type": "stream",
     "text": [
      "0\n",
      "1\n",
      "2\n",
      "3\n",
      "0\n",
      "1\n",
      "2\n",
      "3\n"
     ]
    }
   ],
   "source": [
    "for elem in dataset5.repeat(2):\n",
    "  print(elem.numpy())"
   ]
  },
  {
   "cell_type": "markdown",
   "metadata": {
    "school_cell_uuid": "802030f7f79f40e792e11b455347d249"
   },
   "source": [
    "`take()` 메서드는 전체 데이터 중 지정한 개수의 일부 데이터로만 출력을 제한한다."
   ]
  },
  {
   "cell_type": "code",
   "execution_count": 13,
   "metadata": {
    "school_cell_uuid": "9f707f61c20d4e519e62cf0a5123aca1"
   },
   "outputs": [
    {
     "name": "stdout",
     "output_type": "stream",
     "text": [
      "0\n",
      "1\n",
      "2\n"
     ]
    }
   ],
   "source": [
    "for elem in dataset5.take(3):\n",
    "  print(elem.numpy())"
   ]
  },
  {
   "cell_type": "markdown",
   "metadata": {
    "school_cell_uuid": "cb5350137094470f980f158e5c8b5b9e"
   },
   "source": [
    "`skip()` 메서드는 일부 데이터를 건너뛰고 다음 데이터를 출력한다. "
   ]
  },
  {
   "cell_type": "code",
   "execution_count": 14,
   "metadata": {
    "school_cell_uuid": "578c2af1176d49789cf2aefd2c83ba4a"
   },
   "outputs": [
    {
     "name": "stdout",
     "output_type": "stream",
     "text": [
      "2\n",
      "3\n"
     ]
    }
   ],
   "source": [
    "for elem in dataset5.skip(2).take(3):\n",
    "  print(elem.numpy())"
   ]
  },
  {
   "cell_type": "markdown",
   "metadata": {
    "school_cell_uuid": "56089255a628403f94b409b04295b449"
   },
   "source": [
    "`batch()` 메서드는 지정한 개수의 데이터를 묶어서 출력한다."
   ]
  },
  {
   "cell_type": "code",
   "execution_count": 15,
   "metadata": {
    "school_cell_uuid": "0edf213ad94f4b1e944998e67d9503a7"
   },
   "outputs": [
    {
     "name": "stdout",
     "output_type": "stream",
     "text": [
      "[0 1 2 3]\n"
     ]
    }
   ],
   "source": [
    "for elem in dataset5.batch(5):\n",
    "  print(elem.numpy())"
   ]
  },
  {
   "cell_type": "markdown",
   "metadata": {
    "school_cell_uuid": "8f2ddb62faf9445286e5accf56c7b8f1"
   },
   "source": [
    "`shuffle(buffer_size)` 메서드는 `buffer_size`로 지정한 개수의 데이터를 무작위로 섞어서 출력한다."
   ]
  },
  {
   "cell_type": "code",
   "execution_count": 16,
   "metadata": {
    "school_cell_uuid": "a2f72842b0634c8b84a68dd89a21550d"
   },
   "outputs": [
    {
     "name": "stdout",
     "output_type": "stream",
     "text": [
      "0\n",
      "2\n",
      "0\n"
     ]
    }
   ],
   "source": [
    "for elem in dataset5.repeat().shuffle(buffer_size=3).take(3):\n",
    "  print(elem.numpy())"
   ]
  },
  {
   "cell_type": "markdown",
   "metadata": {
    "school_cell_uuid": "af8617df1ee74d4196edb39e4ca3816d"
   },
   "source": [
    "`concatenate()` 메서드는 두 데이터셋을 연결한다."
   ]
  },
  {
   "cell_type": "code",
   "execution_count": 17,
   "metadata": {
    "school_cell_uuid": "7c4c7a35917d48beb41355ccf04b22fb"
   },
   "outputs": [
    {
     "name": "stdout",
     "output_type": "stream",
     "text": [
      "8\n",
      "3\n",
      "0\n",
      "8\n",
      "2\n",
      "1\n",
      "[8 6 8 4 6 2 4 5 6 1]\n",
      "[8 2 4 5 2 9 8 5 2 8]\n",
      "[3 7 3 5 9 8 3 5 5 4]\n",
      "[8 4 1 7 2 2 3 5 9 6]\n"
     ]
    }
   ],
   "source": [
    "dataset6 = dataset1.concatenate(dataset2)\n",
    "for elem in dataset6:\n",
    "  print(elem.numpy())"
   ]
  },
  {
   "cell_type": "markdown",
   "metadata": {
    "school_cell_uuid": "039d08e78efc42eeba728ea5d694fb33"
   },
   "source": [
    "`map()` 메서드는 함수로 지정한 변환을 한 데이터를 출력한다."
   ]
  },
  {
   "cell_type": "code",
   "execution_count": 18,
   "metadata": {
    "school_cell_uuid": "46d41cfaca194bd88a30d374b9372b4d"
   },
   "outputs": [
    {
     "name": "stdout",
     "output_type": "stream",
     "text": [
      "0\n",
      "2\n",
      "4\n",
      "6\n"
     ]
    }
   ],
   "source": [
    "f = lambda x: 2 * x\n",
    "for elem in dataset5.map(f):\n",
    "  print(elem.numpy())"
   ]
  },
  {
   "cell_type": "markdown",
   "metadata": {
    "school_cell_uuid": "0624c1856d9b4720b9f2688168d930ac"
   },
   "source": [
    "`filter()` 메서드는 함수로 지정한 조건을 만족한 데이터만 출력한다."
   ]
  },
  {
   "cell_type": "code",
   "execution_count": 19,
   "metadata": {
    "school_cell_uuid": "65331b7dea974a2facff3eaeaf7e2ac6"
   },
   "outputs": [
    {
     "name": "stdout",
     "output_type": "stream",
     "text": [
      "0\n",
      "2\n"
     ]
    }
   ],
   "source": [
    "f = lambda x: x % 2 == 0\n",
    "for elem in dataset5.filter(f):\n",
    "  print(elem.numpy())"
   ]
  },
  {
   "cell_type": "code",
   "execution_count": null,
   "metadata": {
    "school_cell_uuid": "55120e9755b9498fa1f9d3ce2461a16e"
   },
   "outputs": [],
   "source": []
  },
  {
   "cell_type": "code",
   "execution_count": null,
   "metadata": {
    "school_cell_uuid": "f62915f54bdf4399a7a1a1c72ca422d6"
   },
   "outputs": [],
   "source": []
  }
 ],
 "metadata": {
  "kernelspec": {
   "display_name": "Python 3",
   "language": "python",
   "name": "python3"
  },
  "language_info": {
   "codemirror_mode": {
    "name": "ipython",
    "version": 3
   },
   "file_extension": ".py",
   "mimetype": "text/x-python",
   "name": "python",
   "nbconvert_exporter": "python",
   "pygments_lexer": "ipython3",
   "version": "3.7.0"
  }
 },
 "nbformat": 4,
 "nbformat_minor": 2
}