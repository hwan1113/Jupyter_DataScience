{
 "cells": [
  {
   "cell_type": "markdown",
   "metadata": {
    "school_cell_uuid": "c37e6568f63b480886e8e1a550191c70"
   },
   "source": [
    "## 3.3 텐서플로의 함수와 미분"
   ]
  },
  {
   "cell_type": "markdown",
   "metadata": {
    "school_cell_uuid": "016a2d21a04047e08f5ff7c1418855a9"
   },
   "source": [
    "이 절의 내용을 실행하려면 텐서플로우 2.0 버전을 임포트해야 한다."
   ]
  },
  {
   "cell_type": "code",
   "execution_count": 1,
   "metadata": {
    "school_cell_uuid": "e4e730e165a74083a14f3aca02ca69aa"
   },
   "outputs": [
    {
     "data": {
      "text/plain": [
       "'2.0.0-rc0'"
      ]
     },
     "execution_count": 1,
     "metadata": {},
     "output_type": "execute_result"
    }
   ],
   "source": [
    "# 코랩에서는 다음 코드로 베타버전을 설치한다.\n",
    "# !pip install tensorflow-gpu==2.0.0-beta1\n",
    "import tensorflow as tf\n",
    "tf.__version__"
   ]
  },
  {
   "cell_type": "markdown",
   "metadata": {
    "school_cell_uuid": "2e7b16bba66c429696bf3a443cc6ea1e"
   },
   "source": [
    "### 변수형 텐서"
   ]
  },
  {
   "cell_type": "markdown",
   "metadata": {
    "school_cell_uuid": "cdb9d4e7fffa4169a6d158abc0bdee42"
   },
   "source": [
    "변수형 텐서는 텐서의 값이 바뀔 수 있다. `Variable` 클래스로 정의하며 항상 초기값을 지정해 주어야 한다. 자료형과 크기는 초기값으로부터 자동으로 유추한다."
   ]
  },
  {
   "cell_type": "code",
   "execution_count": 2,
   "metadata": {
    "school_cell_uuid": "e990ff5d2f59440c94ae9f7b0991d40f"
   },
   "outputs": [],
   "source": [
    "# 실수 변수형 텐서\n",
    "s = tf.Variable(1.0)"
   ]
  },
  {
   "cell_type": "code",
   "execution_count": 3,
   "metadata": {
    "school_cell_uuid": "700555191d8c4c5ea60e93dd20bbd434"
   },
   "outputs": [],
   "source": [
    "# 벡터 변수형 텐서\n",
    "v = tf.Variable(tf.ones((2,)))"
   ]
  },
  {
   "cell_type": "code",
   "execution_count": 4,
   "metadata": {
    "school_cell_uuid": "bfc99efe9c0f4148a8aaa14f773e92d1"
   },
   "outputs": [],
   "source": [
    "# 행렬 변수형 텐서\n",
    "x = tf.Variable(tf.ones((2, 1)))"
   ]
  },
  {
   "cell_type": "markdown",
   "metadata": {
    "school_cell_uuid": "91d7f5bc02ed4155b989fdcc615933c2"
   },
   "source": [
    "변수 텐서의 값을 바꿀 때는 `assign`, `assign_add`, `assign_sub` 메서드를 사용한다.\n",
    "\n",
    "* `assign`: 값을 완전히 할당. `=`에 해당\n",
    "* `assign_add`: 값을 증가. `+=`에 해당\n",
    "* `assign_sub`: 값을 감소. `-=`에 해당"
   ]
  },
  {
   "cell_type": "code",
   "execution_count": 5,
   "metadata": {
    "school_cell_uuid": "379d34438d2d4c4897e940c91379d348"
   },
   "outputs": [
    {
     "data": {
      "text/plain": [
       "array([[1.],\n",
       "       [1.]], dtype=float32)"
      ]
     },
     "execution_count": 5,
     "metadata": {},
     "output_type": "execute_result"
    }
   ],
   "source": [
    "# 다음과 같이 하면 안된다!. 변수헝 텐서가 상수형 텐서로 변한다!\n",
    "# x = tf.ones((2, 1))\n",
    "x.assign(tf.ones((2, 1)))\n",
    "x.numpy()"
   ]
  },
  {
   "cell_type": "markdown",
   "metadata": {
    "school_cell_uuid": "619977e7107c46fbbb9c2d95fd8da776"
   },
   "source": [
    "### 함수"
   ]
  },
  {
   "cell_type": "markdown",
   "metadata": {
    "school_cell_uuid": "6ba2c6a4fdd140d39bab46062d9717b8"
   },
   "source": [
    "텐서틀로우 함수는 파이토치(PyTorch), 데아노(theano) 등의 딥러닝 라이브러리에 있는 함수 기능을 본따 텐서플로우 버전 2에서 새로 만들어진 방법이다. 함수를 사용하면 텐서플로우 버전 1에서처럼 플레이스홀더(placeholder)와 계산 그래프 등을 명시적으로 사용하지 않고 선언적으로 계산 과정을 구현할 수 있다."
   ]
  },
  {
   "cell_type": "markdown",
   "metadata": {
    "school_cell_uuid": "ca1438ea40794e019cd8dd9988a2542c"
   },
   "source": [
    "텐서틀로우 함수는 일반 파이썬 함수처럼 정의하면 된다. "
   ]
  },
  {
   "cell_type": "code",
   "execution_count": 6,
   "metadata": {
    "school_cell_uuid": "2232e9e80fa741718daa1c2d45850d1c"
   },
   "outputs": [],
   "source": [
    "def f(x):\n",
    "    return 5 * x"
   ]
  },
  {
   "cell_type": "markdown",
   "metadata": {
    "school_cell_uuid": "51fac38371284af582269c91494df0d5"
   },
   "source": [
    "만약 속도향상을 위한 컴파일이 가능하도록 하려면 함수에 `@tf.function` 데코레이터를 적용하여 구현한다."
   ]
  },
  {
   "cell_type": "code",
   "execution_count": 7,
   "metadata": {
    "school_cell_uuid": "ac1c96f441e34a698888f93b18156a66"
   },
   "outputs": [],
   "source": [
    "@tf.function\n",
    "def g(a, b):\n",
    "  return tf.matmul(a, b)"
   ]
  },
  {
   "cell_type": "markdown",
   "metadata": {
    "school_cell_uuid": "c55913d8a2e3415392d8b433cc79bade"
   },
   "source": [
    "### 미분"
   ]
  },
  {
   "cell_type": "markdown",
   "metadata": {
    "school_cell_uuid": "5e131ec7447344cd840153db1c91c47f"
   },
   "source": [
    "변수 텐서 혹은 변수 텐서를 포함하는 연산의 결과로 만들어진 텐서를 입력으로 가지는 함수는 그 변수 텐서로 미분한 값을 계산할 수 있다. \n",
    "\n",
    "1. `GradientTape()`로 만들어지는 gradient tape 컨텍스트 내에서 함수값 결과를 저장한 텐서 `y`를 만든다.\n",
    "2. `tape.gradient(y, x)` 명령으로 변수형 텐서 `x`에 대한 `y`의 미분값을 계산한다."
   ]
  },
  {
   "cell_type": "code",
   "execution_count": 8,
   "metadata": {
    "school_cell_uuid": "aa1fc667660d473eadde087d08ca8ae6"
   },
   "outputs": [
    {
     "data": {
      "text/plain": [
       "5.0"
      ]
     },
     "execution_count": 8,
     "metadata": {},
     "output_type": "execute_result"
    }
   ],
   "source": [
    "x = tf.Variable(tf.constant(1.0))\n",
    "\n",
    "with tf.GradientTape() as tape:\n",
    "    y = tf.multiply(5, x)\n",
    "\n",
    "gradient = tape.gradient(y, x) \n",
    "gradient.numpy()"
   ]
  },
  {
   "cell_type": "markdown",
   "metadata": {
    "school_cell_uuid": "070063682d9e41abba7fd3bbee7b6e38"
   },
   "source": [
    "동시에 여러 변수에 대한 그레디언트 벡터를 구할 수도 있다."
   ]
  },
  {
   "cell_type": "code",
   "execution_count": 9,
   "metadata": {
    "school_cell_uuid": "eba29f88f2c445a788698dc003125f22"
   },
   "outputs": [
    {
     "data": {
      "text/plain": [
       "(1.0, 1.0)"
      ]
     },
     "execution_count": 9,
     "metadata": {},
     "output_type": "execute_result"
    }
   ],
   "source": [
    "x1 = tf.Variable(tf.constant(1.0))\n",
    "x2 = tf.Variable(tf.constant(1.0))\n",
    "\n",
    "with tf.GradientTape() as tape:\n",
    "    y = tf.multiply(x1, x2)\n",
    "\n",
    "gradients = tape.gradient(y, [x1, x2]) \n",
    "gradients[0].numpy(), gradients[1].numpy()"
   ]
  },
  {
   "cell_type": "markdown",
   "metadata": {
    "school_cell_uuid": "e36b23da1c9643db8d3cfe60ef5eab84"
   },
   "source": [
    "이 때 미분하는 텐서가 변수가 아니라 상수형이면 결과로는 `None`이 출력된다."
   ]
  },
  {
   "cell_type": "code",
   "execution_count": 10,
   "metadata": {
    "school_cell_uuid": "eae0c4f7d9be4853b5a29441c4f226dc"
   },
   "outputs": [
    {
     "data": {
      "text/plain": [
       "True"
      ]
     },
     "execution_count": 10,
     "metadata": {},
     "output_type": "execute_result"
    }
   ],
   "source": [
    "x = tf.Variable(tf.constant(1.0))\n",
    "a = tf.constant(1.0)\n",
    "\n",
    "with tf.GradientTape() as tape:\n",
    "    y = tf.multiply(a, x)\n",
    "\n",
    "gradient = tape.gradient(y, a) \n",
    "gradient is None"
   ]
  },
  {
   "cell_type": "markdown",
   "metadata": {
    "school_cell_uuid": "0f65279c2fd1474bbd7c15637be112a8"
   },
   "source": [
    "만약 상수형 텐서에 대해 미분하고 싶으면 `taple.watch()` 함수를 사용하여 상수형 텐서를 변수형 텐서처럼 바꿔야한다."
   ]
  },
  {
   "cell_type": "code",
   "execution_count": 11,
   "metadata": {
    "school_cell_uuid": "646db75fccce4caf89b4e4d1a9124863"
   },
   "outputs": [
    {
     "data": {
      "text/plain": [
       "1.0"
      ]
     },
     "execution_count": 11,
     "metadata": {},
     "output_type": "execute_result"
    }
   ],
   "source": [
    "with tf.GradientTape() as tape:\n",
    "    tape.watch(a)\n",
    "    y = tf.multiply(a, x)\n",
    "\n",
    "gradient = tape.gradient(y, a) \n",
    "gradient.numpy()"
   ]
  }
 ],
 "metadata": {
  "anaconda-cloud": {},
  "kernelspec": {
   "display_name": "Python 3",
   "language": "python",
   "name": "python3"
  },
  "language_info": {
   "codemirror_mode": {
    "name": "ipython",
    "version": 3
   },
   "file_extension": ".py",
   "mimetype": "text/x-python",
   "name": "python",
   "nbconvert_exporter": "python",
   "pygments_lexer": "ipython3",
   "version": "3.7.0"
  },
  "toc": {
   "base_numbering": 1,
   "nav_menu": {},
   "number_sections": false,
   "sideBar": true,
   "skip_h1_title": false,
   "title_cell": "Table of Contents",
   "title_sidebar": "Contents",
   "toc_cell": false,
   "toc_position": {},
   "toc_section_display": true,
   "toc_window_display": false
  }
 },
 "nbformat": 4,
 "nbformat_minor": 4
}