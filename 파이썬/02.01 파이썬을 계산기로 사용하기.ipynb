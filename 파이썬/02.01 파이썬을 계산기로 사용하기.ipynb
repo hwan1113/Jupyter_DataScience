{
 "cells": [
  {
   "cell_type": "markdown",
   "metadata": {
    "school_cell_uuid": "2f129edc58bf4a47b297508383517a22"
   },
   "source": [
    "# 파이썬을 계산기로 사용하기"
   ]
  },
  {
   "cell_type": "markdown",
   "metadata": {
    "school_cell_uuid": "b59249a46b6141a3a305e4ab7c22e640"
   },
   "source": [
    "파이썬 셸에서 할 수 있는 가장 간단한 프로그래밍은 파이썬을 계산기로 사용하는 것이다. 여기에 나오는 모든 코드 예제는 주피터 노트북에서 실행하는 것을 가정하고 있다. 하지만 ipython 콘솔이나 일반 파이썬 콘솔에서도 실행할 수 있다."
   ]
  },
  {
   "cell_type": "markdown",
   "metadata": {
    "school_cell_uuid": "35c0924185494ed7844c1f4c1d676c24"
   },
   "source": [
    "## 정수 연산"
   ]
  },
  {
   "cell_type": "markdown",
   "metadata": {
    "school_cell_uuid": "0d60ba9f2d7e4604a86d8b154ec75750"
   },
   "source": [
    "주피터 노트북 셸이나 파이썬 콘솔에서 다음처럼 입력해보자. 계산 결과가 출력되는 것을 볼 수 있다."
   ]
  },
  {
   "cell_type": "code",
   "execution_count": 1,
   "metadata": {
    "school_cell_uuid": "2abd1aeeca474d6797b51450d7f47e93"
   },
   "outputs": [
    {
     "data": {
      "text/plain": [
       "2"
      ]
     },
     "execution_count": 1,
     "metadata": {},
     "output_type": "execute_result"
    }
   ],
   "source": [
    "1 + 1"
   ]
  },
  {
   "cell_type": "markdown",
   "metadata": {
    "school_cell_uuid": "07e04579d74543a08507e39a5c5688ea"
   },
   "source": [
    "띄어쓰기가 위와 달라도 계산은 된다. 하지만 파이썬에서 다음 코드처럼 띄어쓰는 것은 권장하지 않는다. 일반적인 띄어 쓰기 규칙은 다음과 같다.\n",
    "\n",
    "* 코드의 처음과 마지막에는 빈칸을 넣지 않는다.\n",
    "* 빈칸은 항상 하나만 넣는다.\n",
    "* 숫자나 연산 기호 사이는 한 칸을 띄운다.\n",
    "* 괄호를 연 직후나 닫기 직전에는 빈칸을 넣지 않는다."
   ]
  },
  {
   "cell_type": "code",
   "execution_count": 2,
   "metadata": {
    "school_cell_uuid": "0d7df2ef16e14b288659c8633cebe0e3"
   },
   "outputs": [
    {
     "data": {
      "text/plain": [
       "2"
      ]
     },
     "execution_count": 2,
     "metadata": {},
     "output_type": "execute_result"
    }
   ],
   "source": [
    "1+1  # 모두 붙여쓰지 않는다."
   ]
  },
  {
   "cell_type": "code",
   "execution_count": 3,
   "metadata": {
    "school_cell_uuid": "9e3e0454bc5a42cca49148f8d82ba0d6"
   },
   "outputs": [
    {
     "data": {
      "text/plain": [
       "2"
      ]
     },
     "execution_count": 3,
     "metadata": {},
     "output_type": "execute_result"
    }
   ],
   "source": [
    "1 + 1   # 너무 많이 띄우지 않는다. 한 칸만 띄운다."
   ]
  },
  {
   "cell_type": "markdown",
   "metadata": {
    "school_cell_uuid": "de717110be6046b3aa563881955e470c"
   },
   "source": [
    "위 코드에서 <kbd>#</kbd> 기호는 주석(설명문)을 뜻하는 기호이다. 주석 기호 다음의 글자들은 사람을 위한 것이다. 컴퓨터는 주석 기호 다음의 글자를 무시한다. "
   ]
  },
  {
   "cell_type": "markdown",
   "metadata": {
    "school_cell_uuid": "9c7bd05940744150bf5b47e71cf2a013"
   },
   "source": [
    "파이썬에서는 정수의 덧셈, 뺄셈, 곱셈, 나눗셈 등을 할 수 있다. 하지만 연산 기호는 수학에서 사용하는 것과 조금 다를 수 있다. 특히 나눗셈 연산은 두 가지 종류가 있다는 점에 주의한다.\n",
    "\n",
    "* $+$ : 키보드 <kbd>+</kbd> \n",
    "* $-$ : 키보드 <kbd>-</kbd>\n",
    "* $\\times$ : 키보드 <kbd>*</kbd>\n",
    "* $\\div$ (몫을 구하기) : 키보드 <kbd>/</kbd><kbd>/</kbd> (두 글자로 된 연산기호이므로 띄우지 않고 연속해서 기호를 타이핑한다.)\n",
    "* $\\div$ (소수점까지 나누기) : 키보드 <kbd>/</kbd>\n",
    "* 나머지 : 키보드 <kbd>%</kbd>\n",
    "* 제곱 : 키보드 <kbd>**</kbd>"
   ]
  },
  {
   "cell_type": "code",
   "execution_count": 4,
   "metadata": {
    "school_cell_uuid": "14c755d4fd074076aaf51ee84c526819"
   },
   "outputs": [
    {
     "data": {
      "text/plain": [
       "1"
      ]
     },
     "execution_count": 4,
     "metadata": {},
     "output_type": "execute_result"
    }
   ],
   "source": [
    "2 + 4 - 5"
   ]
  },
  {
   "cell_type": "code",
   "execution_count": 5,
   "metadata": {
    "school_cell_uuid": "24b2272c3567400581ef36a6e35928d4"
   },
   "outputs": [
    {
     "data": {
      "text/plain": [
       "8"
      ]
     },
     "execution_count": 5,
     "metadata": {},
     "output_type": "execute_result"
    }
   ],
   "source": [
    "2 * 4"
   ]
  },
  {
   "cell_type": "code",
   "execution_count": 6,
   "metadata": {
    "school_cell_uuid": "c4aaa85ec22949d6b0a45e7a43cdd7ae"
   },
   "outputs": [
    {
     "data": {
      "text/plain": [
       "2"
      ]
     },
     "execution_count": 6,
     "metadata": {},
     "output_type": "execute_result"
    }
   ],
   "source": [
    "8 // 4  # 8을 4로 나눈 몫은 2"
   ]
  },
  {
   "cell_type": "code",
   "execution_count": 7,
   "metadata": {
    "school_cell_uuid": "0006198996ed4225922ceb68d824314b"
   },
   "outputs": [
    {
     "data": {
      "text/plain": [
       "2"
      ]
     },
     "execution_count": 7,
     "metadata": {},
     "output_type": "execute_result"
    }
   ],
   "source": [
    "11 // 4  # 11을 4로 나눈 몫은 2"
   ]
  },
  {
   "cell_type": "code",
   "execution_count": 8,
   "metadata": {
    "school_cell_uuid": "8676d1a4ed2a48beb4bbf619fe6eb577"
   },
   "outputs": [
    {
     "data": {
      "text/plain": [
       "3"
      ]
     },
     "execution_count": 8,
     "metadata": {},
     "output_type": "execute_result"
    }
   ],
   "source": [
    "11 % 4  # 11을 4로 나눈 나머지는 3"
   ]
  },
  {
   "cell_type": "code",
   "execution_count": 9,
   "metadata": {
    "school_cell_uuid": "37af276060034836852f6d810c6a8b57"
   },
   "outputs": [
    {
     "data": {
      "text/plain": [
       "2.5"
      ]
     },
     "execution_count": 9,
     "metadata": {},
     "output_type": "execute_result"
    }
   ],
   "source": [
    "10 / 4  # 10/4 = 2.5"
   ]
  },
  {
   "cell_type": "code",
   "execution_count": 10,
   "metadata": {
    "school_cell_uuid": "36f40ffe7a06449eac8f36f581c44cef"
   },
   "outputs": [
    {
     "data": {
      "text/plain": [
       "8"
      ]
     },
     "execution_count": 10,
     "metadata": {},
     "output_type": "execute_result"
    }
   ],
   "source": [
    "2 ** 3  # 2의 세제곱은 8"
   ]
  },
  {
   "cell_type": "code",
   "execution_count": 11,
   "metadata": {
    "school_cell_uuid": "36f40ffe7a06449eac8f36f581c44cef"
   },
   "outputs": [
    {
     "data": {
      "text/plain": [
       "0.5"
      ]
     },
     "execution_count": 11,
     "metadata": {},
     "output_type": "execute_result"
    }
   ],
   "source": [
    "2 ** -1  # 음수 제곱은 역수. 2^(-1) = 1/2"
   ]
  },
  {
   "cell_type": "code",
   "execution_count": 12,
   "metadata": {
    "school_cell_uuid": "36f40ffe7a06449eac8f36f581c44cef"
   },
   "outputs": [
    {
     "data": {
      "text/plain": [
       "1"
      ]
     },
     "execution_count": 12,
     "metadata": {},
     "output_type": "execute_result"
    }
   ],
   "source": [
    "1000 ** 0  # 모든 수의 0제곱은 1"
   ]
  },
  {
   "cell_type": "markdown",
   "metadata": {
    "bootstrap": {
     "panel": {
      "class": "panel-default"
     }
    },
    "school_cell_uuid": "be6be65903de4c6d9cacd0f933a27208"
   },
   "source": [
    "#### 연습문제 1\n",
    "\n",
    "파이썬으로 계산기로 사용하여 다음 연산을 한다.\n",
    "\n",
    "1. $$ 3 \\times 2 - 8 \\div 4 $$\n",
    "2. $$ 25 \\times 6 \\div 3 + 17 $$\n",
    "3. $$ 39021 - 276920 \\div 12040 $$\n",
    "4. $$ 2^{6} - 10 \\; \\% \\; 6 $$\n",
    "\n",
    "\n",
    "위 식에서 $\\%$는 나머지를 구하는 연산이다."
   ]
  },
  {
   "cell_type": "markdown",
   "metadata": {
    "school_cell_uuid": "c8088d5fa40344c5b170c2ebc0da1287"
   },
   "source": [
    "## 연산 순서와 괄호"
   ]
  },
  {
   "cell_type": "markdown",
   "metadata": {
    "school_cell_uuid": "020368bbe3dd4a76a858b6de9361c2ed"
   },
   "source": [
    "파이썬에서도 일반 수학의 연산 순서를 따른다. 즉, 곱셈과 나눗셈을 덧셈이나 뺄셈보다 먼저 한다. "
   ]
  },
  {
   "cell_type": "code",
   "execution_count": 13,
   "metadata": {
    "school_cell_uuid": "224f1520295643a286b3a4f00cae92fd"
   },
   "outputs": [
    {
     "data": {
      "text/plain": [
       "11"
      ]
     },
     "execution_count": 13,
     "metadata": {},
     "output_type": "execute_result"
    }
   ],
   "source": [
    "3 + 2 * 4"
   ]
  },
  {
   "cell_type": "code",
   "execution_count": 14,
   "metadata": {
    "school_cell_uuid": "6a7d51be449b4789b047d1fd19b3aba5"
   },
   "outputs": [
    {
     "data": {
      "text/plain": [
       "11"
      ]
     },
     "execution_count": 14,
     "metadata": {},
     "output_type": "execute_result"
    }
   ],
   "source": [
    "3 + (2 * 4)"
   ]
  },
  {
   "cell_type": "code",
   "execution_count": 15,
   "metadata": {
    "school_cell_uuid": "e3249610d3b04dd487b2299738da2559"
   },
   "outputs": [
    {
     "data": {
      "text/plain": [
       "20"
      ]
     },
     "execution_count": 15,
     "metadata": {},
     "output_type": "execute_result"
    }
   ],
   "source": [
    "(3 + 2) * 4"
   ]
  },
  {
   "cell_type": "markdown",
   "metadata": {
    "school_cell_uuid": "f2a4f827ff6e451fb827348f72fb0f7e"
   },
   "source": [
    "괄호가 있으면 괄호안을 먼저 계산한다. 하지만 파이썬은 소괄호, 중괄호, 대괄호를 구분하지 않고 모두 소괄호 기호를 사용한다. 예를 들어 아래 수식을 파이썬 코드로 나타내면 다음과 같다.\n",
    "\n",
    "$$ 100 \\div \\Big[ 3 \\times \\big\\{ 10 - (3 \\times 2) \\big\\} + 8 \\Big]$$"
   ]
  },
  {
   "cell_type": "code",
   "execution_count": 16,
   "metadata": {
    "school_cell_uuid": "ddf20dabb6a743ffaa94a9ffaa22384d"
   },
   "outputs": [
    {
     "data": {
      "text/plain": [
       "5.0"
      ]
     },
     "execution_count": 16,
     "metadata": {},
     "output_type": "execute_result"
    }
   ],
   "source": [
    "100 / (3 * (10 - (3 * 2)) + 8)"
   ]
  },
  {
   "cell_type": "markdown",
   "metadata": {
    "bootstrap": {
     "panel": {
      "class": "panel-default"
     }
    },
    "school_cell_uuid": "7071dc15393c4baa85b969925854e418"
   },
   "source": [
    "#### 연습 문제 2\n",
    "\n",
    "파이썬을 계산기로 사용하여 다음 연산을 한다.\n",
    "\n",
    "1. $$ 12 - (5 \\times 7  +  1)  $$\n",
    "2. $$ 5 \\times \\big\\{ 8 + (10 - 6) \\div 2 \\big\\} $$\n",
    "3. $$ 48320 - \\big\\{ (365 - 5 \\times 9) \\div 16 \\big\\} \\times 987 $$\n",
    "4. $$ ((3^4 - 3 \\times 7) \\; \\% \\; 5 + 4 )^ 2 $$"
   ]
  },
  {
   "cell_type": "markdown",
   "metadata": {
    "school_cell_uuid": "b38d2b257b574b01b145b0beec3c3427"
   },
   "source": [
    "## 부등식의 참과 거짓 계산"
   ]
  },
  {
   "cell_type": "markdown",
   "metadata": {
    "school_cell_uuid": "9195daf890f64124b8f1d26aa1477e19"
   },
   "source": [
    "파이썬은 참과 거짓을 계산하는 부등식 연산도 할 수 있다. 파이썬에서는 참과 거짓을 `True` 또는 `False` 라는 값으로 나타낸다. 등호 기호는 변수에 값을 할당하는데 사용되므로 비교 연산을 할 때는 등호 기호가 두 개 반복되는 기호를 사용한다는 점에 주의한다.\n",
    "\n",
    "* $ > $ : 키보드 <kbd>></kbd>\n",
    "* $ < $ : 키보드 <kbd><</kbd>\n",
    "* $ = $ : 키보드 <kbd>=</kbd><kbd>=</kbd>\n",
    "* $ \\neq $ : 키보드 <kbd>!</kbd><kbd>=</kbd>\n",
    "* $ \\geq $ : 키보드 <kbd>></kbd><kbd>=</kbd>\n",
    "* $ \\leq $ : 키보드 <kbd><</kbd><kbd>=</kbd>\n"
   ]
  },
  {
   "cell_type": "code",
   "execution_count": 17,
   "metadata": {
    "school_cell_uuid": "bd911f13543940c99a6a88ffb67badee"
   },
   "outputs": [
    {
     "data": {
      "text/plain": [
       "True"
      ]
     },
     "execution_count": 17,
     "metadata": {},
     "output_type": "execute_result"
    }
   ],
   "source": [
    "2 > 1"
   ]
  },
  {
   "cell_type": "code",
   "execution_count": 18,
   "metadata": {
    "school_cell_uuid": "bb5eee0157cb4d37aef16f06e2e8d267"
   },
   "outputs": [
    {
     "data": {
      "text/plain": [
       "False"
      ]
     },
     "execution_count": 18,
     "metadata": {},
     "output_type": "execute_result"
    }
   ],
   "source": [
    "2 > 2"
   ]
  },
  {
   "cell_type": "code",
   "execution_count": 19,
   "metadata": {
    "school_cell_uuid": "1c1091efd66444e999b31a23dc590a7f"
   },
   "outputs": [
    {
     "data": {
      "text/plain": [
       "True"
      ]
     },
     "execution_count": 19,
     "metadata": {},
     "output_type": "execute_result"
    }
   ],
   "source": [
    "2 == 2"
   ]
  },
  {
   "cell_type": "code",
   "execution_count": 20,
   "metadata": {
    "school_cell_uuid": "2a22a962acf440308e17750dcbe87490"
   },
   "outputs": [
    {
     "data": {
      "text/plain": [
       "True"
      ]
     },
     "execution_count": 20,
     "metadata": {},
     "output_type": "execute_result"
    }
   ],
   "source": [
    "2 != 1"
   ]
  },
  {
   "cell_type": "code",
   "execution_count": 21,
   "metadata": {
    "school_cell_uuid": "720e893bef604d27abd6408dc8c14e1e"
   },
   "outputs": [
    {
     "data": {
      "text/plain": [
       "True"
      ]
     },
     "execution_count": 21,
     "metadata": {},
     "output_type": "execute_result"
    }
   ],
   "source": [
    "3 <= 3"
   ]
  },
  {
   "cell_type": "markdown",
   "metadata": {
    "bootstrap": {
     "panel": {
      "class": "panel-default"
     }
    },
    "school_cell_uuid": "c600b3c749c54203865e703322e3489b"
   },
   "source": [
    "#### 연습 문제 3\n",
    "\n",
    "1. 파이썬으로 계산기로 사용하여 답이 True 인 부등식을 3개를 만든다.\n",
    "2. 파이썬으로 계산기로 사용하여 답이 False 인 부등식을 3개를 만든다."
   ]
  },
  {
   "cell_type": "markdown",
   "metadata": {
    "school_cell_uuid": "93e2f826e47c44dab181c94f46f0bd85"
   },
   "source": [
    "## 부울리언 대수"
   ]
  },
  {
   "cell_type": "markdown",
   "metadata": {
    "school_cell_uuid": "cf8a84d037b94652aad3057c189d9b51"
   },
   "source": [
    "파이썬에서는 참과 거짓에 대해 <kbd>&</kbd> (AND) 라는 연산과 <kbd>|</kbd> (OR) 라는 부울리언 대수(Boolean algebra) 연산도 할 수 있다. \n",
    "\n",
    "* <kbd>&</kbd> (AND) 연산은 두 값이 모두 참일 때만 답이 참이 된다. 즉, 하나라도 참이면 답은 거짓이다.\n",
    "* <kbd>|</kbd> (OR) 연산은 두 값이 모두 거짓일 때만 답이 거짓이 된다. 즉, 하나라도 참이면 답은 참이다.\n"
   ]
  },
  {
   "cell_type": "markdown",
   "metadata": {
    "school_cell_uuid": "0c8f265e1cd245b394fadaf721beb752"
   },
   "source": [
    "참고로 <kbd>|</kbd> 기호는 키보드 오른쪽 위의 원화(Korean Won) 표시 키를 <kbd>shift</kbd> 키와 동시에 눌러서 입력할 수 있다."
   ]
  },
  {
   "cell_type": "markdown",
   "metadata": {
    "school_cell_uuid": "fea0b8d2c82c48d2ad4b3bc094d82dc6"
   },
   "source": [
    "<img src=\"https://datascienceschool.net/upfiles/bb5633573b3d4f7fb81fa68a8b00de19.png\" style=\"width: 100%\">"
   ]
  },
  {
   "cell_type": "markdown",
   "metadata": {
    "school_cell_uuid": "f9accdf30c6f45a3a76398d436ec5839",
    "sidetitle": true
   },
   "source": [
    "그림 6.1 : 키보드 <kbd>|</kbd> 기호 입력 방법"
   ]
  },
  {
   "cell_type": "code",
   "execution_count": 22,
   "metadata": {
    "school_cell_uuid": "62dd6efa05dd4823a486689469e85a6c"
   },
   "outputs": [
    {
     "data": {
      "text/plain": [
       "True"
      ]
     },
     "execution_count": 22,
     "metadata": {},
     "output_type": "execute_result"
    }
   ],
   "source": [
    "True & True"
   ]
  },
  {
   "cell_type": "code",
   "execution_count": 23,
   "metadata": {
    "school_cell_uuid": "92c275a6cabd444e93cfa347a300be73"
   },
   "outputs": [
    {
     "data": {
      "text/plain": [
       "False"
      ]
     },
     "execution_count": 23,
     "metadata": {},
     "output_type": "execute_result"
    }
   ],
   "source": [
    "True & False"
   ]
  },
  {
   "cell_type": "code",
   "execution_count": 24,
   "metadata": {
    "school_cell_uuid": "c1efd034c65c43b0b7a7ff49d55aa5a7"
   },
   "outputs": [
    {
     "data": {
      "text/plain": [
       "False"
      ]
     },
     "execution_count": 24,
     "metadata": {},
     "output_type": "execute_result"
    }
   ],
   "source": [
    "False & True"
   ]
  },
  {
   "cell_type": "code",
   "execution_count": 25,
   "metadata": {
    "school_cell_uuid": "d0a9836030974283adfcb8b4c01795c7"
   },
   "outputs": [
    {
     "data": {
      "text/plain": [
       "False"
      ]
     },
     "execution_count": 25,
     "metadata": {},
     "output_type": "execute_result"
    }
   ],
   "source": [
    "False & False"
   ]
  },
  {
   "cell_type": "code",
   "execution_count": 26,
   "metadata": {
    "school_cell_uuid": "2b7e09e4f9724448a7a17b3b5147d57b"
   },
   "outputs": [
    {
     "data": {
      "text/plain": [
       "True"
      ]
     },
     "execution_count": 26,
     "metadata": {},
     "output_type": "execute_result"
    }
   ],
   "source": [
    "True | True"
   ]
  },
  {
   "cell_type": "code",
   "execution_count": 27,
   "metadata": {
    "school_cell_uuid": "563bdfefcf9748d4b6d46177dc07de96"
   },
   "outputs": [
    {
     "data": {
      "text/plain": [
       "True"
      ]
     },
     "execution_count": 27,
     "metadata": {},
     "output_type": "execute_result"
    }
   ],
   "source": [
    "True | False"
   ]
  },
  {
   "cell_type": "code",
   "execution_count": 28,
   "metadata": {
    "school_cell_uuid": "91b919f2f34a486d9ab2333a3dc356c7"
   },
   "outputs": [
    {
     "data": {
      "text/plain": [
       "True"
      ]
     },
     "execution_count": 28,
     "metadata": {},
     "output_type": "execute_result"
    }
   ],
   "source": [
    "False | True"
   ]
  },
  {
   "cell_type": "code",
   "execution_count": 29,
   "metadata": {
    "school_cell_uuid": "abd1bd9627c643ea88d9c40ff0226a57"
   },
   "outputs": [
    {
     "data": {
      "text/plain": [
       "False"
      ]
     },
     "execution_count": 29,
     "metadata": {},
     "output_type": "execute_result"
    }
   ],
   "source": [
    "False | False"
   ]
  },
  {
   "cell_type": "markdown",
   "metadata": {
    "school_cell_uuid": "ca18059e18be4766ae7534fe6482ece5"
   },
   "source": [
    "부등식 연산과 부울리언 대수를 결합하면 다음과 같은 계산도 할 수 있다."
   ]
  },
  {
   "cell_type": "code",
   "execution_count": 30,
   "metadata": {
    "school_cell_uuid": "2592fb689bf0457ab5511fcbb640fb3d"
   },
   "outputs": [
    {
     "data": {
      "text/plain": [
       "True"
      ]
     },
     "execution_count": 30,
     "metadata": {},
     "output_type": "execute_result"
    }
   ],
   "source": [
    "(2 > 0) & (2 < 3)"
   ]
  },
  {
   "cell_type": "code",
   "execution_count": 31,
   "metadata": {
    "school_cell_uuid": "4314293e28ae45e4a612770110537f7b"
   },
   "outputs": [
    {
     "data": {
      "text/plain": [
       "True"
      ]
     },
     "execution_count": 31,
     "metadata": {},
     "output_type": "execute_result"
    }
   ],
   "source": [
    "(2 > 2) | (2 < 3)"
   ]
  },
  {
   "cell_type": "markdown",
   "metadata": {
    "bootstrap": {
     "panel": {
      "class": "panel-default"
     }
    },
    "school_cell_uuid": "2435279221fb41daaae9cf6bf204c097"
   },
   "source": [
    "#### 연습 문제  4\n",
    "\n",
    "다음 식의 값이 참인지 거짓인지 손으로 계산한 후에 파이썬으로 답을 확인한다.\n",
    "\n",
    "1. $$ (5 \\leq 6 ) \\; \\& \\; ( 3 = 4 ) $$\n",
    "2. $$ (2 \\neq 1 ) \\; | \\; ( 3 \\geq 4 ) $$\n",
    "3. $$ (5 \\leq 6 ) \\; \\& \\; (( 0 = 0 ) \\; | \\; ( 3 < 4 )) $$"
   ]
  },
  {
   "cell_type": "markdown",
   "metadata": {
    "school_cell_uuid": "dbcd494f7cd24277aa473bdec99ee883"
   },
   "source": [
    "## 변수 사용하기"
   ]
  },
  {
   "cell_type": "markdown",
   "metadata": {
    "school_cell_uuid": "0670e4f15f6e4a78a9c76193841b29e0"
   },
   "source": [
    "어떤 값을 계속 사용할 때는 그 값을 변수(variable)에 담아두었다가 사용할 수 있다. 변수에 값을 넣는 것을 할당(assignment)한다고 이야기한다. 변수에 값을 할당할 때는 등호 기호를 사용하고 좌변에는 할당할 변수 이름을, 우변에는 할당할 값을 쓴다.\n",
    "\n",
    "```\n",
    "변수이름 = 변수값\n",
    "```\n",
    "\n",
    "변수의 이름은 알파벳으로 시작하며 뒤에는 숫자가 올 수 있다. 파이썬에서는 변수 이름의 대문자와 소문자를 구분하므로 주의하여야 한다. 즉, `apple` 과 `Apple` 과 `APPLE` 은 모두 서로 다른 변수이다."
   ]
  },
  {
   "cell_type": "code",
   "execution_count": 32,
   "metadata": {
    "school_cell_uuid": "37e200af60df4adba20a4678a77184a2"
   },
   "outputs": [
    {
     "data": {
      "text/plain": [
       "6"
      ]
     },
     "execution_count": 32,
     "metadata": {},
     "output_type": "execute_result"
    }
   ],
   "source": [
    "a = 2\n",
    "b = 3\n",
    "a * b"
   ]
  },
  {
   "cell_type": "code",
   "execution_count": 33,
   "metadata": {
    "school_cell_uuid": "2d565b4a46ba422ebd227bbead9756a5"
   },
   "outputs": [
    {
     "data": {
      "text/plain": [
       "True"
      ]
     },
     "execution_count": 33,
     "metadata": {},
     "output_type": "execute_result"
    }
   ],
   "source": [
    "a = 4\n",
    "(a > 0) & (a <= 10)"
   ]
  },
  {
   "cell_type": "markdown",
   "metadata": {
    "bootstrap": {
     "panel": {
      "class": "panel-default"
     }
    },
    "school_cell_uuid": "0d7e8b3d9415420d9f44f90b250fec42"
   },
   "source": [
    "#### 연습 문제 5\n",
    "\n",
    "변수 들의 값을 바꾸어 가면서 다음 수식을 계산해 보자.\n",
    "\n",
    "1. $$ (2x - 1)^2 + 1 $$\n",
    "2. $$ x^{2y}\\cdot(z + 10) $$\n",
    "3. $$ (( j = 0 ) \\; \\& \\; ( 0 < k )) \\; | \\; (i \\leq 100 ) $$"
   ]
  }
 ],
 "metadata": {
  "anaconda-cloud": {},
  "celltoolbar": "Edit Metadata",
  "kernelspec": {
   "display_name": "Python 3",
   "language": "python",
   "name": "python3"
  },
  "language_info": {
   "codemirror_mode": {
    "name": "ipython",
    "version": 3
   },
   "file_extension": ".py",
   "mimetype": "text/x-python",
   "name": "python",
   "nbconvert_exporter": "python",
   "pygments_lexer": "ipython3",
   "version": "3.6.8"
  }
 },
 "nbformat": 4,
 "nbformat_minor": 1
}