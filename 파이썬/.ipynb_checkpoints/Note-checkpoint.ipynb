{
 "cells": [
  {
   "cell_type": "markdown",
   "metadata": {
    "school_cell_uuid": "9c7bd05940744150bf5b47e71cf2a013"
   },
   "source": [
    "파이썬에서는 정수의 덧셈, 뺄셈, 곱셈, 나눗셈 등을 할 수 있다. 하지만 연산 기호는 수학에서 사용하는 것과 조금 다를 수 있다. 특히 나눗셈 연산은 두 가지 종류가 있다는 점에 주의한다.\n",
    "\n",
    "* $+$ : 키보드 <kbd>+</kbd> \n",
    "* $-$ : 키보드 <kbd>-</kbd>\n",
    "* $\\times$ : 키보드 <kbd>*</kbd>\n",
    "* $\\div$ (몫을 구하기) : 키보드 <kbd>/</kbd><kbd>/</kbd> (두 글자로 된 연산기호이므로 띄우지 않고 연속해서 기호를 타이핑한다.)\n",
    "* $\\div$ (소수점까지 나누기) : 키보드 <kbd>/</kbd>\n",
    "* 나머지 : 키보드 <kbd>%</kbd>\n",
    "* 제곱 : 키보드 <kbd>**</kbd>"
   ]
  },
  {
   "cell_type": "markdown",
   "metadata": {
    "school_cell_uuid": "07e04579d74543a08507e39a5c5688ea"
   },
   "source": [
    "띄어쓰기가 위와 달라도 계산은 된다. 하지만 파이썬에서 다음 코드처럼 띄어쓰는 것은 권장하지 않는다. 일반적인 띄어 쓰기 규칙은 다음과 같다.\n",
    "\n",
    "* 코드의 처음과 마지막에는 빈칸을 넣지 않는다.\n",
    "* 빈칸은 항상 하나만 넣는다.\n",
    "* 숫자나 연산 기호 사이는 한 칸을 띄운다.\n",
    "* 괄호를 연 직후나 닫기 직전에는 빈칸을 넣지 않는다."
   ]
  },
  {
   "cell_type": "markdown",
   "metadata": {
    "school_cell_uuid": "9b147e7d91da47c2b7dcb38c996b0430"
   },
   "source": [
    "## 정수와 실수 자료형"
   ]
  },
  {
   "cell_type": "markdown",
   "metadata": {
    "school_cell_uuid": "a77d172f2c984fbfa1a9e4d368a6d033"
   },
   "source": [
    "파이썬에서는 정수(integer)뿐 아니라 소숫점을 포함하는 실수(real number)도 연산할 수 있다. \n",
    "정수 데이터에는 소숫점이 없고 실수 데이터에는 소수점이 붙어 있다."
   ]
  },
  {
   "cell_type": "code",
   "execution_count": 1,
   "metadata": {},
   "outputs": [
    {
     "data": {
      "text/plain": [
       "10.0"
      ]
     },
     "execution_count": 1,
     "metadata": {},
     "output_type": "execute_result"
    }
   ],
   "source": [
    "10  # 정수\n",
    "10.0  # 실수\n",
    ".1  # .1 = 0.1\n",
    "type(10)\n",
    "type(10.0)"
   ]
  },
  {
   "cell_type": "markdown",
   "metadata": {
    "school_cell_uuid": "298bba22077d489d882996a421e6477a"
   },
   "source": [
    "입력한 숫자나 계산 결과에 소숫점이 있으면 실수로 처리한다. 계산에 쓰인 숫자 중 하나라도 소숫점이 있는 실수가 있으면 계산결과는 실수가 된다. 나눗셈 연산의 결과는 입력에 상관없이 항상 실수로 처리한다. 예를 들어 $10 \\times 5$는 정수로 취급하지만 $10.0 \\times 5$나 $10 \\div 5$는 실수로 취급한다. "
   ]
  },
  {
   "cell_type": "markdown",
   "metadata": {
    "school_cell_uuid": "d9e0e53f309e4487957f963ef6dad098"
   },
   "source": [
    "## 부동소수점 실수"
   ]
  },
  {
   "cell_type": "markdown",
   "metadata": {
    "school_cell_uuid": "af9cd89f561d4abea02934d430773705"
   },
   "source": [
    "파이썬에서는 ``유효숫자e지수`` 라는 방법으로 부동소수점 형태를 직접 표현한다.\n",
    "\n",
    "$$ \\text{유효숫자}e\\text{지수} = \\text{유효숫자} \\times 10^{\\text{지수}} $$"
   ]
  },
  {
   "cell_type": "code",
   "execution_count": null,
   "metadata": {},
   "outputs": [],
   "source": [
    "123e2  # 123e2 = 123.0 x 100 = 12300.0\n",
    "123e-2  # 123e-2 = 123.0 x 0.01 = 1.23\n",
    "123.456e-3  # 123.456e-3 = 123.456 x 0.001 = 0.123456"
   ]
  },
  {
   "cell_type": "markdown",
   "metadata": {
    "school_cell_uuid": "72ef952d0b754f248fc91758972bb4e2"
   },
   "source": [
    "파이썬의 `bin` 명령을 쓰면 정수인 십진수를 이진수로 변환할 수 있다. 이진수는 숫자 앞에 `0b`라는 접두사가 붙는다."
   ]
  },
  {
   "cell_type": "code",
   "execution_count": null,
   "metadata": {},
   "outputs": [],
   "source": [
    "bin(3)\n",
    "bin(15)"
   ]
  },
  {
   "cell_type": "markdown",
   "metadata": {
    "school_cell_uuid": "11c830978f504e09ae245308d5317ecc"
   },
   "source": [
    "## 부동소수점 오차"
   ]
  },
  {
   "cell_type": "code",
   "execution_count": null,
   "metadata": {},
   "outputs": [],
   "source": [
    "# 소숫점 55자리까지 표현\n",
    "%precision 55\n",
    "0.1\n",
    "%precision %r\n",
    "0.1 + 0.2 == 0.3"
   ]
  },
  {
   "cell_type": "markdown",
   "metadata": {
    "school_cell_uuid": "f1fc8163349741dd9a438ed9620d640b"
   },
   "source": [
    "따라서 실수를 비교할 때는 다음과 같이 `round` 명령을 사용하여 유효숫자를 지정한 반올림을 한 후에 비교해야 한다. `round` 명령은 두 번째 인수로 반올림할 소수점 이하의 유효숫자의 개수를 받는다. 다음 명령은 소수점 5자리까지 비교한다."
   ]
  },
  {
   "cell_type": "code",
   "execution_count": null,
   "metadata": {},
   "outputs": [],
   "source": [
    "round(0.1 + 0.2, 5) == round(0.3, 5)"
   ]
  },
  {
   "cell_type": "markdown",
   "metadata": {
    "school_cell_uuid": "27dc018925764021aa916f1a3db25959"
   },
   "source": [
    "## 자료형 변환"
   ]
  },
  {
   "cell_type": "markdown",
   "metadata": {
    "school_cell_uuid": "16ec06ebcf3743f6bb437fedcaee408b"
   },
   "source": [
    "실수를 정수로 변환하거나 정수를 실수로 변환하려면 `int` 명령과 `float` 명령을 사용한다."
   ]
  },
  {
   "cell_type": "code",
   "execution_count": null,
   "metadata": {},
   "outputs": [],
   "source": [
    "int(1.0)  # 실수를 정수로 변환\n",
    "float(1)  # 정수를 실수로 변환\n"
   ]
  },
  {
   "cell_type": "markdown",
   "metadata": {
    "school_cell_uuid": "3607e13ba60c40ca9fc4ebe2188b6ac1"
   },
   "source": [
    "## NaN과 Inf"
   ]
  },
  {
   "cell_type": "code",
   "execution_count": null,
   "metadata": {},
   "outputs": [],
   "source": [
    "float(\"NaN\")\n",
    "float(\"Inf\")\n",
    "float(\"-Inf\")"
   ]
  },
  {
   "cell_type": "markdown",
   "metadata": {
    "school_cell_uuid": "cb089e280a0147fd8b8cd9f070479482"
   },
   "source": [
    "## 여러 줄의 문자열 출력하기 \n",
    "\n",
    "파이썬에서 여러 줄의 문자열을 출력하거나 변수에 할당하려면, `\"문자\"` 나 `'문자'` 대신 `\"\"\" 여러 줄의 문자열 \"\"\"` 혹은 `'''여러 줄의 문자열'''` 을 사용하면 된다. "
   ]
  },
  {
   "cell_type": "code",
   "execution_count": null,
   "metadata": {},
   "outputs": [],
   "source": [
    "multi_line_string = \"\"\"\n",
    "파이썬(영어: Python)은 1991년 프로그래머인 \n",
    "귀도 반 로섬(Guido van Rossum)이 발표한 고급 프로그래밍 언어로,\n",
    "플랫폼 독립적이며 인터프리터식, 객체지향적, 동적 타이핑(dynamically typed) \n",
    "대화형 언어이다. 파이썬이라는 이름은 귀도가 좋아하는 코미디 〈Monty Python's Flying \n",
    "Circus〉에서 따온 것이다.\"\"\"\n",
    "\n",
    "print(multi_line_string)"
   ]
  },
  {
   "cell_type": "markdown",
   "metadata": {
    "school_cell_uuid": "5131af466aa04b509c02e562f6d1581c"
   },
   "source": [
    "## 문자열 연산"
   ]
  },
  {
   "cell_type": "code",
   "execution_count": 4,
   "metadata": {
    "school_cell_uuid": "0b13bc10b31b4faaafccac95bfe4f682"
   },
   "outputs": [
    {
     "name": "stdout",
     "output_type": "stream",
     "text": [
      "**********\n"
     ]
    }
   ],
   "source": [
    "print(\"*\" * 10)"
   ]
  },
  {
   "cell_type": "markdown",
   "metadata": {
    "school_cell_uuid": "b664f0fef8de46d8b6a3753b451871a8"
   },
   "source": [
    "## `if ~ else` 명령"
   ]
  },
  {
   "cell_type": "markdown",
   "metadata": {
    "school_cell_uuid": "ab78b7eaf28b47ad92c2055e0c58fae2"
   },
   "source": [
    "`if ~ else` 명령을 사용하면 조건에 따라 다른 명령을 수행할 수 있다.\n",
    "\n",
    "`if ~ else` 명령은 다음과 같이 만든다.\n",
    "\n",
    "```\n",
    "if 참 또는 거짓을 가지는 값:\n",
    "    조건이 참일 때 실행되는 명령들\n",
    "else:\n",
    "    조건이 거짓일 때 실행되는 명령들\n",
    "```\n",
    "\n",
    "이때 주의할 점은 참 또는 거짓일 때 실행되는 명령들은 빈칸을 4칸 띄우고 써야 한다. 이를 들여쓰기(indentation)라고 한다(들여쓰기에 대해서는 다시 자세히 설명하겠다). \"참 또는 거짓을 가지는 값\"은 조건(condition)이라고 부른다. 예를 들어, 어떤 수가 짝수인지 홀수인지는 2로 나눈 나머지를 보면 알 수 있다. 즉, 2로 나눈 나머지가 0이면 짝수이고 아니면 홀수이다."
   ]
  },
  {
   "cell_type": "code",
   "execution_count": 1,
   "metadata": {
    "school_cell_uuid": "4ff9a106df4e4c689309d4525891126d"
   },
   "outputs": [
    {
     "name": "stdout",
     "output_type": "stream",
     "text": [
      "홀수\n"
     ]
    }
   ],
   "source": [
    "a = 1\n",
    "\n",
    "if a % 2 == 0:\n",
    "    print(\"짝수\")\n",
    "else:\n",
    "    print(\"홀수\")"
   ]
  },
  {
   "cell_type": "markdown",
   "metadata": {
    "school_cell_uuid": "7ec7f23c1672415a9d0404b4c11077df"
   },
   "source": [
    "## `if ~ elif ~ else` 명령"
   ]
  },
  {
   "cell_type": "code",
   "execution_count": 1,
   "metadata": {
    "school_cell_uuid": "4ff9a106df4e4c689309d4525891126d"
   },
   "outputs": [
    {
     "name": "stdout",
     "output_type": "stream",
     "text": [
      "홀수\n"
     ]
    }
   ],
   "source": [
    "a = 1## `if ~ elif ~ else` 명령\n",
    "\n",
    "if a % 2 == 0:\n",
    "    print(\"짝수\")\n",
    "else:\n",
    "    print(\"홀수\")"
   ]
  },
  {
   "cell_type": "markdown",
   "metadata": {
    "school_cell_uuid": "1eecd41d222c4f588abed0cba5af3d13"
   },
   "source": [
    "## 중첩 조건문"
   ]
  },
  {
   "cell_type": "code",
   "execution_count": null,
   "metadata": {},
   "outputs": [],
   "source": [
    "sex = \"boy\"\n",
    "pushup = 8\n",
    "\n",
    "if sex == \"boy\":\n",
    "    if pushup >= 10:\n",
    "        grade = \"Pass\"\n",
    "    else:\n",
    "        grade = \"Fail\"\n",
    "else:\n",
    "    if pushup >= 10:\n",
    "        grade = \"Pass\"\n",
    "    else:# 파이썬 함수\n",
    "        grade = \"Fail\"\n",
    "\n",
    "print(grade)"
   ]
  },
  {
   "cell_type": "markdown",
   "metadata": {
    "school_cell_uuid": "fa686eec1a894ad385be2fffde92ef7a"
   },
   "source": [
    "# 파이썬 함수"
   ]
  },
  {
   "cell_type": "markdown",
   "metadata": {
    "school_cell_uuid": "f49603cc23474f8689a409a2f09463f8"
   },
   "source": [
    "파이썬에는 `def` 키워드를 사용하여 다음과 같이 함수를 만들 수 있다.\n",
    "\n",
    "\n",
    "```\n",
    "def 함수이름(입력변수이름):\n",
    "   출력변수를 만드는 명령\n",
    "   return 출력변수이름\n",
    "   \n",
    "```\n",
    "\n",
    "`def` 키워드는 영어로 \"정의한다\"는 의미를 가지는 define 에서 만들어졌다."
   ]
  },
  {
   "cell_type": "markdown",
   "metadata": {
    "school_cell_uuid": "deb0e1b80dfb4fe686aa605e86407afa"
   },
   "source": [
    "## 람다 함수"
   ]
  },
  {
   "cell_type": "code",
   "execution_count": null,
   "metadata": {},
   "outputs": [],
   "source": [
    "def f(x):\n",
    "    return 2 * x"
   ]
  },
  {
   "cell_type": "code",
   "execution_count": null,
   "metadata": {},
   "outputs": [],
   "source": [
    "f = lambda x : 2*x만약 함수안에서 함수 바깥에 있는 변수의 값을 꼭 바꿔야만 한다면 다음과 같이 함수 이름 앞에 `global` 키워드를 선언해 주면 된다."
   ]
  },
  {
   "cell_type": "markdown",
   "metadata": {
    "school_cell_uuid": "78cb4827c183444fbd1af32c0e358ea9"
   },
   "source": [
    "전역 변수는 로컬변수에서 바꿀 수 없음(자바랑 동일) 만약 함수안에서 함수 바깥에 있는 변수의 값을 꼭 바꿔야만 한다면 다음과 같이 함수 이름 앞에 `global` 키워드를 선언해 주면 된다."
   ]
  }
 ],
 "metadata": {
  "kernelspec": {
   "display_name": "Python 3",
   "language": "python",
   "name": "python3"
  },
  "language_info": {
   "codemirror_mode": {
    "name": "ipython",
    "version": 3
   },
   "file_extension": ".py",
   "mimetype": "text/x-python",
   "name": "python",
   "nbconvert_exporter": "python",
   "pygments_lexer": "ipython3",
   "version": "3.7.4"
  }
 },
 "nbformat": 4,
 "nbformat_minor": 2
}
