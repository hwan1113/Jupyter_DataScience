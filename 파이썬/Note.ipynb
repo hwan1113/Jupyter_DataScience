{
 "cells": [
  {
   "cell_type": "markdown",
   "metadata": {
    "school_cell_uuid": "9c7bd05940744150bf5b47e71cf2a013"
   },
   "source": [
    "파이썬에서는 정수의 덧셈, 뺄셈, 곱셈, 나눗셈 등을 할 수 있다. 하지만 연산 기호는 수학에서 사용하는 것과 조금 다를 수 있다. 특히 나눗셈 연산은 두 가지 종류가 있다는 점에 주의한다.\n",
    "\n",
    "* $+$ : 키보드 <kbd>+</kbd> \n",
    "* $-$ : 키보드 <kbd>-</kbd>\n",
    "* $\\times$ : 키보드 <kbd>*</kbd>\n",
    "* $\\div$ (몫을 구하기) : 키보드 <kbd>/</kbd><kbd>/</kbd> (두 글자로 된 연산기호이므로 띄우지 않고 연속해서 기호를 타이핑한다.)\n",
    "* $\\div$ (소수점까지 나누기) : 키보드 <kbd>/</kbd>\n",
    "* 나머지 : 키보드 <kbd>%</kbd>\n",
    "* 제곱 : 키보드 <kbd>**</kbd>"
   ]
  },
  {
   "cell_type": "markdown",
   "metadata": {
    "school_cell_uuid": "07e04579d74543a08507e39a5c5688ea"
   },
   "source": [
    "띄어쓰기가 위와 달라도 계산은 된다. 하지만 파이썬에서 다음 코드처럼 띄어쓰는 것은 권장하지 않는다. 일반적인 띄어 쓰기 규칙은 다음과 같다.\n",
    "\n",
    "* 코드의 처음과 마지막에는 빈칸을 넣지 않는다.\n",
    "* 빈칸은 항상 하나만 넣는다.\n",
    "* 숫자나 연산 기호 사이는 한 칸을 띄운다.\n",
    "* 괄호를 연 직후나 닫기 직전에는 빈칸을 넣지 않는다."
   ]
  },
  {
   "cell_type": "markdown",
   "metadata": {
    "school_cell_uuid": "9b147e7d91da47c2b7dcb38c996b0430"
   },
   "source": [
    "## 정수와 실수 자료형"
   ]
  },
  {
   "cell_type": "markdown",
   "metadata": {
    "school_cell_uuid": "a77d172f2c984fbfa1a9e4d368a6d033"
   },
   "source": [
    "파이썬에서는 정수(integer)뿐 아니라 소숫점을 포함하는 실수(real number)도 연산할 수 있다. \n",
    "정수 데이터에는 소숫점이 없고 실수 데이터에는 소수점이 붙어 있다."
   ]
  },
  {
   "cell_type": "code",
   "execution_count": 1,
   "metadata": {},
   "outputs": [
    {
     "data": {
      "text/plain": [
       "10.0"
      ]
     },
     "execution_count": 1,
     "metadata": {},
     "output_type": "execute_result"
    }
   ],
   "source": [
    "10  # 정수\n",
    "10.0  # 실수\n",
    ".1  # .1 = 0.1\n",
    "type(10)\n",
    "type(10.0)"
   ]
  },
  {
   "cell_type": "markdown",
   "metadata": {
    "school_cell_uuid": "298bba22077d489d882996a421e6477a"
   },
   "source": [
    "입력한 숫자나 계산 결과에 소숫점이 있으면 실수로 처리한다. 계산에 쓰인 숫자 중 하나라도 소숫점이 있는 실수가 있으면 계산결과는 실수가 된다. 나눗셈 연산의 결과는 입력에 상관없이 항상 실수로 처리한다. 예를 들어 $10 \\times 5$는 정수로 취급하지만 $10.0 \\times 5$나 $10 \\div 5$는 실수로 취급한다. "
   ]
  },
  {
   "cell_type": "markdown",
   "metadata": {
    "school_cell_uuid": "d9e0e53f309e4487957f963ef6dad098"
   },
   "source": [
    "## 부동소수점 실수"
   ]
  },
  {
   "cell_type": "markdown",
   "metadata": {
    "school_cell_uuid": "af9cd89f561d4abea02934d430773705"
   },
   "source": [
    "파이썬에서는 ``유효숫자e지수`` 라는 방법으로 부동소수점 형태를 직접 표현한다.\n",
    "\n",
    "$$ \\text{유효숫자}e\\text{지수} = \\text{유효숫자} \\times 10^{\\text{지수}} $$"
   ]
  },
  {
   "cell_type": "code",
   "execution_count": null,
   "metadata": {},
   "outputs": [],
   "source": [
    "123e2  # 123e2 = 123.0 x 100 = 12300.0\n",
    "123e-2  # 123e-2 = 123.0 x 0.01 = 1.23\n",
    "123.456e-3  # 123.456e-3 = 123.456 x 0.001 = 0.123456"
   ]
  },
  {
   "cell_type": "markdown",
   "metadata": {
    "school_cell_uuid": "72ef952d0b754f248fc91758972bb4e2"
   },
   "source": [
    "파이썬의 `bin` 명령을 쓰면 정수인 십진수를 이진수로 변환할 수 있다. 이진수는 숫자 앞에 `0b`라는 접두사가 붙는다."
   ]
  },
  {
   "cell_type": "code",
   "execution_count": null,
   "metadata": {},
   "outputs": [],
   "source": [
    "bin(3)\n",
    "bin(15)"
   ]
  },
  {
   "cell_type": "markdown",
   "metadata": {
    "school_cell_uuid": "11c830978f504e09ae245308d5317ecc"
   },
   "source": [
    "## 부동소수점 오차"
   ]
  },
  {
   "cell_type": "code",
   "execution_count": null,
   "metadata": {},
   "outputs": [],
   "source": [
    "# 소숫점 55자리까지 표현\n",
    "%precision 55\n",
    "0.1\n",
    "%precision %r\n",
    "0.1 + 0.2 == 0.3"
   ]
  },
  {
   "cell_type": "markdown",
   "metadata": {
    "school_cell_uuid": "f1fc8163349741dd9a438ed9620d640b"
   },
   "source": [
    "따라서 실수를 비교할 때는 다음과 같이 `round` 명령을 사용하여 유효숫자를 지정한 반올림을 한 후에 비교해야 한다. `round` 명령은 두 번째 인수로 반올림할 소수점 이하의 유효숫자의 개수를 받는다. 다음 명령은 소수점 5자리까지 비교한다."
   ]
  },
  {
   "cell_type": "code",
   "execution_count": null,
   "metadata": {},
   "outputs": [],
   "source": [
    "round(0.1 + 0.2, 5) == round(0.3, 5)"
   ]
  },
  {
   "cell_type": "markdown",
   "metadata": {
    "school_cell_uuid": "27dc018925764021aa916f1a3db25959"
   },
   "source": [
    "## 자료형 변환"
   ]
  },
  {
   "cell_type": "markdown",
   "metadata": {
    "school_cell_uuid": "16ec06ebcf3743f6bb437fedcaee408b"
   },
   "source": [
    "실수를 정수로 변환하거나 정수를 실수로 변환하려면 `int` 명령과 `float` 명령을 사용한다."
   ]
  },
  {
   "cell_type": "code",
   "execution_count": null,
   "metadata": {},
   "outputs": [],
   "source": [
    "int(1.0)  # 실수를 정수로 변환\n",
    "float(1)  # 정수를 실수로 변환\n"
   ]
  },
  {
   "cell_type": "markdown",
   "metadata": {
    "school_cell_uuid": "3607e13ba60c40ca9fc4ebe2188b6ac1"
   },
   "source": [
    "## NaN과 Inf"
   ]
  },
  {
   "cell_type": "code",
   "execution_count": null,
   "metadata": {},
   "outputs": [],
   "source": [
    "float(\"NaN\")\n",
    "float(\"Inf\")\n",
    "float(\"-Inf\")"
   ]
  },
  {
   "cell_type": "markdown",
   "metadata": {
    "school_cell_uuid": "cb089e280a0147fd8b8cd9f070479482"
   },
   "source": [
    "## 여러 줄의 문자열 출력하기 \n",
    "\n",
    "파이썬에서 여러 줄의 문자열을 출력하거나 변수에 할당하려면, `\"문자\"` 나 `'문자'` 대신 `\"\"\" 여러 줄의 문자열 \"\"\"` 혹은 `'''여러 줄의 문자열'''` 을 사용하면 된다. "
   ]
  },
  {
   "cell_type": "code",
   "execution_count": null,
   "metadata": {},
   "outputs": [],
   "source": [
    "multi_line_string = \"\"\"\n",
    "파이썬(영어: Python)은 1991년 프로그래머인 \n",
    "귀도 반 로섬(Guido van Rossum)이 발표한 고급 프로그래밍 언어로,\n",
    "플랫폼 독립적이며 인터프리터식, 객체지향적, 동적 타이핑(dynamically typed) \n",
    "대화형 언어이다. 파이썬이라는 이름은 귀도가 좋아하는 코미디 〈Monty Python's Flying \n",
    "Circus〉에서 따온 것이다.\"\"\"\n",
    "\n",
    "print(multi_line_string)"
   ]
  },
  {
   "cell_type": "markdown",
   "metadata": {
    "school_cell_uuid": "5131af466aa04b509c02e562f6d1581c"
   },
   "source": [
    "## 문자열 연산"
   ]
  },
  {
   "cell_type": "code",
   "execution_count": 4,
   "metadata": {
    "school_cell_uuid": "0b13bc10b31b4faaafccac95bfe4f682"
   },
   "outputs": [
    {
     "name": "stdout",
     "output_type": "stream",
     "text": [
      "**********\n"
     ]
    }
   ],
   "source": [
    "print(\"*\" * 10)"
   ]
  },
  {
   "cell_type": "markdown",
   "metadata": {
    "school_cell_uuid": "b664f0fef8de46d8b6a3753b451871a8"
   },
   "source": [
    "## `if ~ else` 명령"
   ]
  },
  {
   "cell_type": "markdown",
   "metadata": {
    "school_cell_uuid": "ab78b7eaf28b47ad92c2055e0c58fae2"
   },
   "source": [
    "`if ~ else` 명령을 사용하면 조건에 따라 다른 명령을 수행할 수 있다.\n",
    "\n",
    "`if ~ else` 명령은 다음과 같이 만든다.\n",
    "\n",
    "```\n",
    "if 참 또는 거짓을 가지는 값:\n",
    "    조건이 참일 때 실행되는 명령들\n",
    "else:\n",
    "    조건이 거짓일 때 실행되는 명령들\n",
    "```\n",
    "\n",
    "이때 주의할 점은 참 또는 거짓일 때 실행되는 명령들은 빈칸을 4칸 띄우고 써야 한다. 이를 들여쓰기(indentation)라고 한다(들여쓰기에 대해서는 다시 자세히 설명하겠다). \"참 또는 거짓을 가지는 값\"은 조건(condition)이라고 부른다. 예를 들어, 어떤 수가 짝수인지 홀수인지는 2로 나눈 나머지를 보면 알 수 있다. 즉, 2로 나눈 나머지가 0이면 짝수이고 아니면 홀수이다."
   ]
  },
  {
   "cell_type": "code",
   "execution_count": 1,
   "metadata": {
    "school_cell_uuid": "4ff9a106df4e4c689309d4525891126d"
   },
   "outputs": [
    {
     "name": "stdout",
     "output_type": "stream",
     "text": [
      "홀수\n"
     ]
    }
   ],
   "source": [
    "a = 1\n",
    "\n",
    "if a % 2 == 0:\n",
    "    print(\"짝수\")\n",
    "else:\n",
    "    print(\"홀수\")"
   ]
  },
  {
   "cell_type": "markdown",
   "metadata": {
    "school_cell_uuid": "7ec7f23c1672415a9d0404b4c11077df"
   },
   "source": [
    "## `if ~ elif ~ else` 명령"
   ]
  },
  {
   "cell_type": "code",
   "execution_count": 1,
   "metadata": {
    "school_cell_uuid": "4ff9a106df4e4c689309d4525891126d"
   },
   "outputs": [
    {
     "name": "stdout",
     "output_type": "stream",
     "text": [
      "홀수\n"
     ]
    }
   ],
   "source": [
    "a = 1## `if ~ elif ~ else` 명령\n",
    "\n",
    "if a % 2 == 0:\n",
    "    print(\"짝수\")\n",
    "else:\n",
    "    print(\"홀수\")"
   ]
  },
  {
   "cell_type": "markdown",
   "metadata": {
    "school_cell_uuid": "1eecd41d222c4f588abed0cba5af3d13"
   },
   "source": [
    "## 중첩 조건문"
   ]
  },
  {
   "cell_type": "code",
   "execution_count": null,
   "metadata": {},
   "outputs": [],
   "source": [
    "sex = \"boy\"\n",
    "pushup = 8\n",
    "\n",
    "if sex == \"boy\":\n",
    "    if pushup >= 10:\n",
    "        grade = \"Pass\"\n",
    "    else:\n",
    "        grade = \"Fail\"\n",
    "else:\n",
    "    if pushup >= 10:\n",
    "        grade = \"Pass\"\n",
    "    else:# 파이썬 함수\n",
    "        grade = \"Fail\"\n",
    "\n",
    "print(grade)"
   ]
  },
  {
   "cell_type": "markdown",
   "metadata": {
    "school_cell_uuid": "fa686eec1a894ad385be2fffde92ef7a"
   },
   "source": [
    "# 파이썬 함수"
   ]
  },
  {
   "cell_type": "markdown",
   "metadata": {
    "school_cell_uuid": "f49603cc23474f8689a409a2f09463f8"
   },
   "source": [
    "파이썬에는 `def` 키워드를 사용하여 다음과 같이 함수를 만들 수 있다.\n",
    "\n",
    "\n",
    "```\n",
    "def 함수이름(입력변수이름):\n",
    "   출력변수를 만드는 명령\n",
    "   return 출력변수이름\n",
    "   \n",
    "```\n",
    "\n",
    "`def` 키워드는 영어로 \"정의한다\"는 의미를 가지는 define 에서 만들어졌다."
   ]
  },
  {
   "cell_type": "markdown",
   "metadata": {
    "school_cell_uuid": "deb0e1b80dfb4fe686aa605e86407afa"
   },
   "source": [
    "## 람다 함수"
   ]
  },
  {
   "cell_type": "code",
   "execution_count": null,
   "metadata": {},
   "outputs": [],
   "source": [
    "def f(x):\n",
    "    return 2 * x"
   ]
  },
  {
   "cell_type": "code",
   "execution_count": null,
   "metadata": {},
   "outputs": [],
   "source": [
    "f = lambda x : 2*x만약 함수안에서 함수 바깥에 있는 변수의 값을 꼭 바꿔야만 한다면 다음과 같이 함수 이름 앞에 `global` 키워드를 선언해 주면 된다."
   ]
  },
  {
   "cell_type": "markdown",
   "metadata": {
    "school_cell_uuid": "78cb4827c183444fbd1af32c0e358ea9"
   },
   "source": [
    "전역 변수는 로컬변수에서 바꿀 수 없음(자바랑 동일) 만약 함수안에서 함수 바깥에 있는 변수의 값을 꼭 바꿔야만 한다면 다음과 같이 함수 이름 앞에 `global` 키워드를 선언해 주면 된다."
   ]
  },
  {
   "cell_type": "markdown",
   "metadata": {
    "school_cell_uuid": "32bf6507d3824524911899bf085cdc89"
   },
   "source": [
    "## `for` 반복문"
   ]
  },
  {
   "cell_type": "markdown",
   "metadata": {
    "school_cell_uuid": "0a09e96f536b4a22ae12d1f2c1df16ee"
   },
   "source": [
    "파이썬에서는 이렇게 명령이 반복될 수 있게 하는 `for` 반복문(loop)을 사용할 수 있다. `for` 반복문은 다음과 같이 사용한다.\n",
    "\n",
    "```\n",
    "for 카운터변수 in range(반복횟수):\n",
    "    반복해서 실행할 명령\n",
    "```\n",
    "\n",
    "이 때 반복횟수는 10, 100과 같은 양의 정수이어야 하고 카운터 변수의 이름은 아무거나 쓸 수 있다. 하지만 전문 프로그래머들은 보통 `i` 또는 `j` 라는 변수 이름을 자주 사용한다."
   ]
  },
  {
   "cell_type": "code",
   "execution_count": 2,
   "metadata": {},
   "outputs": [
    {
     "name": "stdout",
     "output_type": "stream",
     "text": [
      "=\n",
      "=\n",
      "=\n",
      "=\n",
      "=\n",
      "=\n",
      "=\n",
      "=\n",
      "=\n",
      "=\n"
     ]
    }
   ],
   "source": [
    "#range 는 리스트 만드는 함수 [0,1,2...9]\n",
    "for i in range(10):\n",
    "    print(\"=\")"
   ]
  },
  {
   "cell_type": "markdown",
   "metadata": {
    "school_cell_uuid": "c9dd26dc0c06451c89996a6d91c89efa"
   },
   "source": [
    "## 중첩 for 반복문"
   ]
  },
  {
   "cell_type": "code",
   "execution_count": 3,
   "metadata": {},
   "outputs": [
    {
     "name": "stdout",
     "output_type": "stream",
     "text": [
      "0 1 2 3 \n",
      "1 2 3 4 \n",
      "2 3 4 5 \n",
      "3 4 5 6 \n"
     ]
    }
   ],
   "source": [
    "for i in range(4):\n",
    "    for j in range(4):\n",
    "        print(i + j, end=\" \")\n",
    "    print()"
   ]
  },
  {
   "cell_type": "markdown",
   "metadata": {
    "school_cell_uuid": "23f506be6fb74b0a81c08a04f23cd455"
   },
   "source": [
    "# 여러 개의 자료를 한 변수에 담기"
   ]
  },
  {
   "cell_type": "markdown",
   "metadata": {
    "school_cell_uuid": "116ad33e274843ec90a49c166375686a"
   },
   "source": [
    "지금까지는 하나의 변수에 하나의 자료를 저장했다. 그러나 파이썬에서는 하나의 변수에 여러 개의 자료를 한꺼번에 저장하고 필요한 때 꺼내 쓸 수도 있다. 파이썬에서 하나의 변수에 여러 개의 자료를 저장하고 쓰는 데는 크게 두 가지 방법을 사용한다.\n",
    "\n",
    "* 여러 개의 자료가 순서가 있을 때는 **리스트(list)** 자료형 사용  \n",
    "리스트 변수에는 자료형이 같은 자료만 담을 수 있는 것은 아니고 자료형이 다른 자료들도 담을 수 있다. 예를 들어 정수형 자료와 실수형 자료, 그리고 문자열 자료를 한 리스트 변수에 넣을 수도 있다.\n",
    "* 여러 개의 자료가 이름이 있을 때는 **딕셔너리(dictionary)** 자료형 사용"
   ]
  },
  {
   "cell_type": "markdown",
   "metadata": {
    "school_cell_uuid": "8bc39fa9955946df937a2d1488c58c89"
   },
   "source": [
    "## 자료의 순서만 가지는 리스트 자료형"
   ]
  },
  {
   "cell_type": "code",
   "execution_count": 10,
   "metadata": {},
   "outputs": [],
   "source": [
    "x = [88, 90, 100]\n",
    "x[0]\n",
    "len(x)\n",
    "\n",
    "#수열생성\n",
    "#range 명령은 두 숫자 x, y 에 대해 x보다 같거나 크고(이상), y보다 작은(미만) 수열을 만든다.\n",
    "#즉 x는 시작값(start), y는 포함되지 않는 끝값(end) 역할을 한다.\n",
    "b = list(range(1,10))\n",
    "b\n",
    "#range 명령에 세 개의 숫자를 넣는다. 세번째 숫자는 건너 뛰기 숫자(step) 역할을 한다.\n",
    "d = list(range(1, 10, 3))\n",
    "d\n",
    "\n",
    "#리스트 변수의 마지막에 자료를 더 추가하려면 다음과 같이 append 메서드를 사용한다.\n",
    "e = list(range(4))\n",
    "e.append(4)\n",
    "e\n",
    "\n",
    "#리스트에서 자료를 하나 삭제하려면 다음과 같이 del 명령을 사용한다.\n",
    "del e[0]\n",
    "\n",
    "#슬라이싱은 콜론(:) 기호를 사용하여 리스트의 자료 범위를 나타내는 연산이다.\n",
    "#예를 들어 20개의 숫자가 있는 리스트에서 앞의 5개만 가져오고 싶으면 다음과 같이 입력한다.\n",
    "g = list(range(20))\n",
    "g[0:5]\n",
    "g[:5]\n",
    "#역인덱싱\n",
    "g[-1]\n",
    "g[-5:-2]"
   ]
  },
  {
   "cell_type": "markdown",
   "metadata": {
    "school_cell_uuid": "25095c9b127d4b82bf375f9ce1288c78"
   },
   "source": [
    "## 자료의 이름만 가지는 딕셔너리 자료형"
   ]
  },
  {
   "cell_type": "code",
   "execution_count": 6,
   "metadata": {},
   "outputs": [],
   "source": [
    "b = {\"math\": 88, \"english\": 90, \"history\": 100}\n",
    "b[\"math\"]"
   ]
  },
  {
   "cell_type": "markdown",
   "metadata": {
    "school_cell_uuid": "171863a1334c404f873bcf23348ed6ab"
   },
   "source": [
    "## zip 함수"
   ]
  },
  {
   "cell_type": "markdown",
   "metadata": {
    "school_cell_uuid": "62127f3ac8874973b7fa700202627986"
   },
   "source": [
    "`zip` 함수는 두 개의 리스트를 합쳐서 각 리스트 원소의 쌍을 원소로 가지는 하나의 리스트를 만든다. 파이썬 3에서는 명시적으로 `list` 명령을 사용해야 리스트가 된다."
   ]
  },
  {
   "cell_type": "code",
   "execution_count": 1,
   "metadata": {},
   "outputs": [
    {
     "data": {
      "text/plain": [
       "[(90, 95),\n",
       " (85, 90),\n",
       " (95, 90),\n",
       " (80, 90),\n",
       " (90, 95),\n",
       " (100, 100),\n",
       " (85, 90),\n",
       " (75, 80),\n",
       " (85, 95),\n",
       " (80, 90)]"
      ]
     },
     "execution_count": 1,
     "metadata": {},
     "output_type": "execute_result"
    }
   ],
   "source": [
    "a1 = [90, 85, 95, 80, 90, 100, 85, 75, 85, 80]\n",
    "a2 = [95, 90, 90, 90, 95, 100, 90, 80, 95, 90]\n",
    "list(zip(a1, a2))"
   ]
  },
  {
   "cell_type": "markdown",
   "metadata": {
    "school_cell_uuid": "bf43a03ea9f54cada3a145be3be45ea6"
   },
   "source": [
    "이 때 소괄호로 표시된 묶음은 튜플(tuple)이라고 하며 리스트와 사용법이 거의 동일하다. 따라서 두 학생의 성적 합을 구하는 코드는 다음과 같이 고칠 수 있다."
   ]
  },
  {
   "cell_type": "code",
   "execution_count": 2,
   "metadata": {},
   "outputs": [
    {
     "data": {
      "text/plain": [
       "[185, 175, 185, 170, 185, 200, 175, 155, 180, 170]"
      ]
     },
     "execution_count": 2,
     "metadata": {},
     "output_type": "execute_result"
    }
   ],
   "source": [
    "s = []\n",
    "a1 = [90, 85, 95, 80, 90, 100, 85, 75, 85, 80]\n",
    "a2 = [95, 90, 90, 90, 95, 100, 90, 80, 95, 90]\n",
    "for a1i, a2i in zip(a1, a2):\n",
    "    s.append(a1i + a2i)\n",
    "s"
   ]
  },
  {
   "cell_type": "markdown",
   "metadata": {
    "school_cell_uuid": "819c9366dbbb4da5881238202770abb9"
   },
   "source": [
    "## `enumerate` 함수"
   ]
  },
  {
   "cell_type": "markdown",
   "metadata": {
    "school_cell_uuid": "235295021ebd4e2f853b8e4b6c6465fa"
   },
   "source": [
    "때로는 반복문에 정수 인덱스가 필요할 때도 있다. 예를 들어 반복문에서 `append` 메서드를 쓰면 계산 속도가 저하된다. 이때는 미리 저장 공간을 만들어 놓고 해당 위치에 계산 결과를 갱신해야 한다. 이때는 `enumerate` 명령을 쓸 수 있다. `enumerate` 명령은 리스트의 원소를 반복하면서 동시에 인덱스 값도 생성한다.\n"
   ]
  },
  {
   "cell_type": "code",
   "execution_count": 3,
   "metadata": {},
   "outputs": [
    {
     "name": "stdout",
     "output_type": "stream",
     "text": [
      "i = 0, e = a\n",
      "i = 1, e = b\n",
      "i = 2, e = c\n"
     ]
    }
   ],
   "source": [
    "for i, e in enumerate([\"a\", \"b\", \"c\"]):\n",
    "    print(\"i = %d, e = %s\" % (i, e))"
   ]
  },
  {
   "cell_type": "code",
   "execution_count": 4,
   "metadata": {},
   "outputs": [
    {
     "data": {
      "text/plain": [
       "[185, 175, 185, 170, 185, 200, 175, 155, 180, 170]"
      ]
     },
     "execution_count": 4,
     "metadata": {},
     "output_type": "execute_result"
    }
   ],
   "source": [
    "s = [0, 0, 0, 0, 0, 0, 0, 0, 0, 0]\n",
    "a1 = [90, 85, 95, 80, 90, 100, 85, 75, 85, 80]\n",
    "a2 = [95, 90, 90, 90, 95, 100, 90, 80, 95, 90]\n",
    "for i, (a1i, a2i) in enumerate(zip(a1, a2)):\n",
    "    s[i] = a1i + a2i\n",
    "s"
   ]
  },
  {
   "cell_type": "markdown",
   "metadata": {
    "school_cell_uuid": "ba5a74cdff094abb903bf05e1e61201a"
   },
   "source": [
    "## 파이썬에서 딕셔너리 자료형 다루기"
   ]
  },
  {
   "cell_type": "markdown",
   "metadata": {
    "school_cell_uuid": "845f963611be4f28959a13a4385df4ad"
   },
   "source": [
    "## 키 확인"
   ]
  },
  {
   "cell_type": "code",
   "execution_count": 5,
   "metadata": {},
   "outputs": [
    {
     "data": {
      "text/plain": [
       "True"
      ]
     },
     "execution_count": 5,
     "metadata": {},
     "output_type": "execute_result"
    }
   ],
   "source": [
    "x = {\"a\": 10, \"b\": 20}\n",
    "\"a\" in x"
   ]
  },
  {
   "cell_type": "markdown",
   "metadata": {
    "school_cell_uuid": "393395c6f697469fb763d25e25f5623c"
   },
   "source": [
    "## 딕셔너리 자료형의 반복"
   ]
  },
  {
   "cell_type": "markdown",
   "metadata": {
    "school_cell_uuid": "e41ab06e56c147f197b1575deffa0930"
   },
   "source": [
    "리스트 자료형처럼 딕셔너리 자료형에 있는 데이터도 `for` 반복문에 넣을 수 있다. 이 때 **딕셔너리 자료형은 내부적으로 자료의 순서를 보장하지 않으므로** 특정한 순서로 반복될 것을 기대하면 안된다는 점에 주의한다."
   ]
  },
  {
   "cell_type": "markdown",
   "metadata": {
    "school_cell_uuid": "70ae6cce3e22449a89a5a49648358085"
   },
   "source": [
    "`for` 반복문에서 딕셔너리 자료형을 사용하는 방법에는 다음 세가지가 있다.\n",
    "\n",
    "1. 키만 반복하는 경우\n",
    "2. 값만 반복하는 경우\n",
    "3. 키와 값 쌍을 반복하는 경우"
   ]
  },
  {
   "cell_type": "code",
   "execution_count": 6,
   "metadata": {},
   "outputs": [
    {
     "name": "stdout",
     "output_type": "stream",
     "text": [
      "a\n",
      "b\n"
     ]
    }
   ],
   "source": [
    "for k in x:\n",
    "    print(k)"
   ]
  },
  {
   "cell_type": "code",
   "execution_count": 7,
   "metadata": {},
   "outputs": [
    {
     "data": {
      "text/plain": [
       "dict_values([10, 20])"
      ]
     },
     "execution_count": 7,
     "metadata": {},
     "output_type": "execute_result"
    }
   ],
   "source": [
    "#key return\n",
    "x.keys()\n",
    "# value return\n",
    "x.values()\n",
    "# 두 쌍 모두 반복 item 메서드\n",
    "for k, v in x.items():\n",
    "    print(\"key [%s] => value [%d]\" % (k, v))"
   ]
  },
  {
   "cell_type": "markdown",
   "metadata": {
    "school_cell_uuid": "0ed9d8ec3ce74e0284e43e8a53117fe8"
   },
   "source": [
    "# 파이썬 객체지향 프로그래밍"
   ]
  },
  {
   "cell_type": "markdown",
   "metadata": {
    "school_cell_uuid": "cb6e5db0b2e747ecafcd3a379f7c9967"
   },
   "source": [
    "프로그램이 어떤 작업을 수행하기 위해서는 (1)데이터와 (2)데이터를 조작하는 행위, 두 가지 요소가 필요하다. 일반적으로 데이터는 변수(variable)에 넣어서 사용하고 데이터를 조작하는 일은 함수(function)로 구성해서 쉽게 실행할 수 있도록 만들어 놓는다.\n",
    "\n",
    "**객체**(object)는 서로 연관된 데이터와 그 데이터를 조작하기 위한 함수를 하나의 집합에 모아놓은 것을 말한다. 이 때 집합의 원소가 되는 변수나 함수는 **멤버**(member) 또는 **속성**(attribute)이라고 한다. 특히 객체의 속성인 함수는 **메서드**(method)라고 부른다."
   ]
  },
  {
   "cell_type": "markdown",
   "metadata": {
    "school_cell_uuid": "b502fceec9794f3e9f029d812e97bb67"
   },
   "source": [
    "## 생성자"
   ]
  },
  {
   "cell_type": "markdown",
   "metadata": {
    "school_cell_uuid": "bbfe7c16eccb4bf4a1a07d2f9c0e2fba"
   },
   "source": [
    "파이썬에서 클래스를 정의하는 문법은 다음과 같다.\n",
    "\n",
    "\n",
    "```\n",
    "class 클래스이름(object):\n",
    "    \n",
    "    def __init__(self, 속성값1, 속성값2, 속성값3):\n",
    "        self.속성이름1 = 속성값1\n",
    "        self.속성이름2 = 속성값2\n",
    "        self.속성이름3 = 속성값3\n",
    "\n",
    "```        \n",
    "\n",
    "이때 속성값 인수는 필요하지 않다면 없어도 된다. 여기에서 `class` 블럭 안에 정의된 `__init__`란 함수는 생성자(constructor)라고 하며 클래스 정의에서 가장 중요한 함수이다.\n",
    "\n",
    "객체를 생성할 때는 `클래스이름`을 함수처럼 호출해야 하는데, 이때 실제로는 __init__로 정의된 생성자 함수가 호출된다. 생성자 함수 내부에서는 생성자를 호출할 때 넣은 입력 변수, 즉 인자의 값을 속성값으로 저장한다."
   ]
  },
  {
   "cell_type": "markdown",
   "metadata": {
    "school_cell_uuid": "457b838f19f8481892f7bda628517212",
    "slideshow": {
     "slide_type": "slide"
    }
   },
   "source": [
    "## 클래스 상속 "
   ]
  },
  {
   "cell_type": "markdown",
   "metadata": {
    "school_cell_uuid": "82104f2e2c47497789c08028e214191f"
   },
   "source": [
    "클래스 상속을 사용하면 이미 만들어진 클래스 코드를 재사용하여 다른 클래스를 생성할 수 있다. 즉, 상속 과정에서 공통으로 사용하는 속성이나 메서드는 두 번 반복해서 코딩할 필요가 없다. 이때 상속을 받는 클래스를 **자식 클래스(child class)**, 상속의 대상이 되는 클래스를 **부모 클래스(parent class)**라고 한다."
   ]
  },
  {
   "cell_type": "markdown",
   "metadata": {
    "school_cell_uuid": "3d71d2ae5ef0407ca0749ea2c02bef7f"
   },
   "source": [
    "`Character` 부모 클래스에서 상속을 통해 `Warrior` 라는 자식 클래스와  `Wizard` 라는 자식 클래스를 만든다 상속을 위한 파이썬 문법은 다음과 같다.\n",
    "\n",
    "```\n",
    "class 자식클래스이름(부모클래스이름):\n",
    "\n",
    "    def __init__(self, 속성값1, 속성값2):\n",
    "        super(자식클래스이름, self).__init__()\n",
    "        자식 클래스의 초기화 코드\n",
    "```\n",
    "\n",
    "사실 우리가 지금까지 쓰던 클래스 정의를 살펴보면 `object`라는 부모 클래스에서 상속받는 것이었다.\n",
    "\n",
    "이 코드에서 `super(자식클래스이름, self).__init()__` 부분은 부모 클래스의 초기화 생성자를 호출하는 부분이다. 예를 들어 `Warrior` 라는 클래스에서 부모 클래스인 `Character` 클래스의 생성자를 호출하면 life라는 속성값을 초기화하므로 자식 클래스에서는 이 속성값을 초기화해줄 필요가 없다."
   ]
  },
  {
   "cell_type": "markdown",
   "metadata": {
    "school_cell_uuid": "452bfce95f094caa8871e9248b1ddbe5",
    "slideshow": {
     "slide_type": "slide"
    }
   },
   "source": [
    "## 메서드 오버라이딩"
   ]
  },
  {
   "cell_type": "markdown",
   "metadata": {
    "school_cell_uuid": "4b00f329441946a0981dcee51d7d5adf"
   },
   "source": [
    "메서드 오버라이딩(Method Overriding)이란, 여러 클래스에 걸쳐서 같은 이름의 메서드를 만드는 것이다. 예를 들어 부모 클래스, 전사 캐릭터 클래스, 마법사 캐릭터 클래스에 공통으로 attack이라는 메서드가 있지만, 각각 하는 일이 다를 때는 다음처럼 같은 이름의 메서드를 클래스별로 구현하면 된다. 이렇게 되면 부모 클래스에서 만든 메서드 정의를 자식 클래스에서는 변경해서 사용한다."
   ]
  },
  {
   "cell_type": "code",
   "execution_count": null,
   "metadata": {},
   "outputs": [],
   "source": [
    "class Character(object):\n",
    "\n",
    "    def __init__(self):\n",
    "        self.life = 1000\n",
    "        self.strength = 10\n",
    "        self.intelligence = 10\n",
    "\n",
    "    def attacked(self):\n",
    "        self.life -= 10\n",
    "        print(\"공격받음! 생명력 =\", self.life)\n",
    "\n",
    "    def attack(self):\n",
    "        print(\"공격!\")"
   ]
  },
  {
   "cell_type": "code",
   "execution_count": 8,
   "metadata": {},
   "outputs": [
    {
     "ename": "NameError",
     "evalue": "name 'Character' is not defined",
     "output_type": "error",
     "traceback": [
      "\u001b[0;31m---------------------------------------------------------------------------\u001b[0m",
      "\u001b[0;31mNameError\u001b[0m                                 Traceback (most recent call last)",
      "\u001b[0;32m<ipython-input-8-d06b154aee92>\u001b[0m in \u001b[0;36m<module>\u001b[0;34m\u001b[0m\n\u001b[0;32m----> 1\u001b[0;31m \u001b[0;32mclass\u001b[0m \u001b[0mWarrior\u001b[0m\u001b[0;34m(\u001b[0m\u001b[0mCharacter\u001b[0m\u001b[0;34m)\u001b[0m\u001b[0;34m:\u001b[0m\u001b[0;34m\u001b[0m\u001b[0;34m\u001b[0m\u001b[0m\n\u001b[0m\u001b[1;32m      2\u001b[0m \u001b[0;34m\u001b[0m\u001b[0m\n\u001b[1;32m      3\u001b[0m     \u001b[0;32mdef\u001b[0m \u001b[0m__init__\u001b[0m\u001b[0;34m(\u001b[0m\u001b[0mself\u001b[0m\u001b[0;34m)\u001b[0m\u001b[0;34m:\u001b[0m\u001b[0;34m\u001b[0m\u001b[0;34m\u001b[0m\u001b[0m\n\u001b[1;32m      4\u001b[0m         \u001b[0msuper\u001b[0m\u001b[0;34m(\u001b[0m\u001b[0mWarrior\u001b[0m\u001b[0;34m,\u001b[0m \u001b[0mself\u001b[0m\u001b[0;34m)\u001b[0m\u001b[0;34m.\u001b[0m\u001b[0m__init__\u001b[0m\u001b[0;34m(\u001b[0m\u001b[0;34m)\u001b[0m\u001b[0;34m\u001b[0m\u001b[0;34m\u001b[0m\u001b[0m\n\u001b[1;32m      5\u001b[0m         \u001b[0mself\u001b[0m\u001b[0;34m.\u001b[0m\u001b[0mstrength\u001b[0m \u001b[0;34m=\u001b[0m \u001b[0;36m15\u001b[0m\u001b[0;34m\u001b[0m\u001b[0;34m\u001b[0m\u001b[0m\n",
      "\u001b[0;31mNameError\u001b[0m: name 'Character' is not defined"
     ]
    }
   ],
   "source": [
    "class Warrior(Character):\n",
    "\n",
    "    def __init__(self):\n",
    "        super(Warrior, self).__init__()\n",
    "        self.strength = 15\n",
    "        self.intelligence = 5\n",
    "\n",
    "    def attack(self):\n",
    "        print(\"육탄 공격!\")"
   ]
  },
  {
   "cell_type": "markdown",
   "metadata": {
    "school_cell_uuid": "390e70c83ca74358be42235700598ad4",
    "slideshow": {
     "slide_type": "slide"
    }
   },
   "source": [
    "## 특수 메서드"
   ]
  },
  {
   "cell_type": "markdown",
   "metadata": {
    "school_cell_uuid": "244ff29755624bf6a118f3684bf2d06a"
   },
   "source": [
    "파이썬에는 특수 메서드(Special Methods)라는 것이 존재한다. 메서드 이름의 앞과 뒤에 두 개의 밑줄(underscore)이 붙어있는 메서드이다.\n",
    "이 메서드들은 특수한 용도에 사용하는 것이다 \n",
    "\n",
    "예를 들어 파이선 셸에서 변수 이름을 입력하고 <Enter> 키(주피터 노트북에서는 <Shift> + <Enter>)를 누르면 변수의 값이 호출되는데, 사실 이것은 해당 변수가 가지는 `__repr__`이라는 메서드가 호출되는 것이다. `repr`은 representation의 약자이다. 또 변수를 `str`이라는 함수에 넣으면 변수를 문자열로 변환해 주는데, 이것도 사실은 `__str__`이라는 메서드가 호출되는 것이다."
   ]
  },
  {
   "cell_type": "code",
   "execution_count": 11,
   "metadata": {},
   "outputs": [],
   "source": [
    "class Complex(object):\n",
    "\n",
    "    def __init__(self, realpart, imagpart):\n",
    "        self.r = realpart\n",
    "        self.i = imagpart"
   ]
  },
  {
   "cell_type": "code",
   "execution_count": 12,
   "metadata": {},
   "outputs": [],
   "source": [
    "class Complex2(Complex):\n",
    "\n",
    "    def __repr__(self):\n",
    "        return \"Complex: real = %f imag = %f\" % (self.r, self.i)\n",
    "\n",
    "    def __str__(self):\n",
    "        return \"[for str] \" + self.__repr__()"
   ]
  },
  {
   "cell_type": "code",
   "execution_count": 13,
   "metadata": {},
   "outputs": [
    {
     "data": {
      "text/plain": [
       "Complex: real = 1.000000 imag = 1.000000"
      ]
     },
     "execution_count": 13,
     "metadata": {},
     "output_type": "execute_result"
    }
   ],
   "source": [
    "c2 = Complex2(1, 1)\n",
    "c2"
   ]
  },
  {
   "cell_type": "markdown",
   "metadata": {
    "school_cell_uuid": "1fb1e1c7260546fe83b04a7a716be2b1"
   },
   "source": [
    "## 패키지 임포트"
   ]
  },
  {
   "cell_type": "markdown",
   "metadata": {
    "school_cell_uuid": "f5e026e935a64385bc7634a202b2932a"
   },
   "source": [
    "패키지가 설치되어 있다고 바로 파이썬에서 사용할 수 있는 것은 아니다. 패키지를 사용하려면 해당 패키지를 파이썬에서 사용할 수 있도록 설정하는 명령을 실행해야 한다. 파이썬에서 패키지를 사용하도록 설정하는 것을 패키지 임포트(import)라고 한다.\n",
    "패키지를 임포트하려면 다음 명령을 실행한다.\n",
    "\n",
    "```\n",
    "import 패키지이름\n",
    "```\n",
    "\n",
    "또는 \n",
    "\n",
    "```\n",
    "import 패키지이름 as 패키지별명\n",
    "```\n",
    "\n",
    "이 때 주의할 점은 임포트할 때 사용하는 패키지 이름은 일반적으로 부르는 패키지 이름과 다를 수 있다. 예를 들어 Scikit-Learn 패키지는 `sklearn`이라는 이름으로 임포트해야 한다. 패키지 이름은 추후 패키지 안의 함수들을 사용할 때 계속 쓰인다. 그래서 패키지 이름이 너무 길면 `import ~ as ~` 명령을 사용하여 짧은 패키지 별명을 사용할 수도 있다.\n",
    "\n",
    "예를 들어 Scikit-Learn 은 보통 `sk`라는 별명으로 임포트한다."
   ]
  },
  {
   "cell_type": "code",
   "execution_count": 14,
   "metadata": {},
   "outputs": [],
   "source": [
    "import sklearn as sk"
   ]
  },
  {
   "cell_type": "markdown",
   "metadata": {
    "school_cell_uuid": "f1501a2ce4e74b4eaf9bf63b94f1292c"
   },
   "source": [
    "## 패키지 내용 살펴보기"
   ]
  },
  {
   "cell_type": "code",
   "execution_count": 15,
   "metadata": {},
   "outputs": [
    {
     "data": {
      "text/plain": [
       "['__SKLEARN_SETUP__',\n",
       " '__all__',\n",
       " '__builtins__',\n",
       " '__cached__',\n",
       " '__check_build',\n",
       " '__doc__',\n",
       " '__file__',\n",
       " '__loader__',\n",
       " '__name__',\n",
       " '__package__',\n",
       " '__path__',\n",
       " '__spec__',\n",
       " '__version__',\n",
       " '_config',\n",
       " 'base',\n",
       " 'clone',\n",
       " 'config_context',\n",
       " 'exceptions',\n",
       " 'externals',\n",
       " 'get_config',\n",
       " 'logger',\n",
       " 'logging',\n",
       " 'os',\n",
       " 're',\n",
       " 'set_config',\n",
       " 'setup_module',\n",
       " 'show_versions',\n",
       " 'sys',\n",
       " 'utils',\n",
       " 'warnings']"
      ]
     },
     "execution_count": 15,
     "metadata": {},
     "output_type": "execute_result"
    }
   ],
   "source": [
    "dir(sk)"
   ]
  },
  {
   "cell_type": "markdown",
   "metadata": {
    "school_cell_uuid": "0d23d1b176c54f82ac2ac1b209b85479"
   },
   "source": [
    "대부분의 패키지는 그 안에 하위 패키지를 가지고 있다. 이러한 하위 패키지 중에는 상위 패키지를 임포트할 때 자동으로 임포트되는 것도 있지만 자동으로 임포트되지 않는 것도 있다. 자동으로 임포트되지 않는 하위 패키지는 다음처럼 수동으로 임포트 해야 한다."
   ]
  },
  {
   "cell_type": "code",
   "execution_count": null,
   "metadata": {},
   "outputs": [],
   "source": [
    "import sklearn.preprocessing"
   ]
  },
  {
   "cell_type": "code",
   "execution_count": 16,
   "metadata": {},
   "outputs": [
    {
     "data": {
      "text/plain": [
       "array([0, 1, 2, 3, 4, 5, 6, 7, 8, 9])"
      ]
     },
     "execution_count": 16,
     "metadata": {},
     "output_type": "execute_result"
    }
   ],
   "source": [
    "#선택적 임포트\n",
    "from numpy import arange\n",
    "arange(10)"
   ]
  },
  {
   "cell_type": "markdown",
   "metadata": {
    "school_cell_uuid": "6ed33aa7fb34417c9734ef34ca9542f4"
   },
   "source": [
    "패키지 안의 모든 명령을 선택적 임포트할 때는 명령어 이름 대신 * 기호를 사용하는데 이를 와일드 임포트(wild import)라고 한다. 와일드 임포트할 때는 뜻하지 않게 기존의 변수나 함수를 덮어 쓸 때가 있을 수 있으므로 특별한 상황이 아니면 사용하지 말아야 한다.\n",
    "\n",
    "예를 들어 `f`라는 이름의 함수를 정의한 후에 SciPy 패키지를 와일드 임포트하면 F 분포를 나타내는 `f` 명령이 새롭게 임포트되면서 기존의 함수를 없애버릴 수 있다."
   ]
  },
  {
   "cell_type": "markdown",
   "metadata": {
    "school_cell_uuid": "da59b6bcce07497f99b9682f582430a2"
   },
   "source": [
    "## 자료형"
   ]
  },
  {
   "cell_type": "markdown",
   "metadata": {
    "school_cell_uuid": "861cd0da12b14574a29fc39a81368b56"
   },
   "source": [
    "지금까지 우리는 변수에 숫자, 문자열, 리스트 등의 값을 마음대로 넣어서 사용해 왔다. 그러나 프로그램이 실행되려면 컴퓨터는 각 변수에 어떤 종류의 값이 들어가 있는지 알아야 한다. 값이 숫자인가 문자열인가 등에 따라 값을 저장하는 방식이나 계산하는 방법이 다르기 때문이다.\n",
    "이러한 값의 종류를 **자료형(data type)** 혹은 **타입(type)**이라고 한다. 예를 들어 정수인 1과 문자열인 \"1\"이 컴퓨터에 저장될 때 어느 정도의 메모리를 차지하는지 알아보면 두 값의 저장 방식이 다르다는 것을 알 수 있다. 파이썬에서 변수의 메모리 크기를 알기 위해서는 `sys` 패키지의 `getsizeof` 명령을 사용한다."
   ]
  },
  {
   "cell_type": "code",
   "execution_count": 17,
   "metadata": {},
   "outputs": [],
   "source": [
    "from sys import getsizeof\n",
    "a = 1\n",
    "getsizeof(a)\n",
    "b = \"1\"\n",
    "getsizeof(b)"
   ]
  },
  {
   "cell_type": "markdown",
   "metadata": {
    "school_cell_uuid": "faacbbf1c84b465ea0f24ef0738527f2"
   },
   "source": [
    "파이썬에서 사용할 수 있는 자료형 중 많이 사용하는 것은 다음과 같다.\n",
    "\n",
    "* None\n",
    "* Boolean\n",
    "* Int\n",
    "* Float\n",
    "* Complex\n",
    "* String\n",
    "* Unicode\n",
    "* Tuple\n",
    "* List\n",
    "* Dict\n",
    "* Function\n",
    "\n",
    "변수나 값의 자료형을 알아보려면 `type` 명령을 사용하면 된다. `None` 타입은 변수가 비어있음을 표시할 때 사용한다. "
   ]
  },
  {
   "cell_type": "code",
   "execution_count": 18,
   "metadata": {},
   "outputs": [
    {
     "data": {
      "text/plain": [
       "NoneType"
      ]
     },
     "execution_count": 18,
     "metadata": {},
     "output_type": "execute_result"
    }
   ],
   "source": [
    "type(None)"
   ]
  },
  {
   "cell_type": "code",
   "execution_count": 19,
   "metadata": {},
   "outputs": [
    {
     "data": {
      "text/plain": [
       "bool"
      ]
     },
     "execution_count": 19,
     "metadata": {},
     "output_type": "execute_result"
    }
   ],
   "source": [
    "type(True)"
   ]
  },
  {
   "cell_type": "code",
   "execution_count": 20,
   "metadata": {},
   "outputs": [
    {
     "data": {
      "text/plain": [
       "int"
      ]
     },
     "execution_count": 20,
     "metadata": {},
     "output_type": "execute_result"
    }
   ],
   "source": [
    "type(1)"
   ]
  },
  {
   "cell_type": "markdown",
   "metadata": {
    "school_cell_uuid": "1e35824fc53b40078dcb9e30ccc8c5ff"
   },
   "source": [
    "복소수를 사용할 때는 허수부 숫자 뒤에 j문자를 붙인다."
   ]
  },
  {
   "cell_type": "code",
   "execution_count": 21,
   "metadata": {},
   "outputs": [
    {
     "data": {
      "text/plain": [
       "complex"
      ]
     },
     "execution_count": 21,
     "metadata": {},
     "output_type": "execute_result"
    }
   ],
   "source": [
    "type(2 + 3j)"
   ]
  },
  {
   "cell_type": "code",
   "execution_count": 22,
   "metadata": {},
   "outputs": [
    {
     "data": {
      "text/plain": [
       "tuple"
      ]
     },
     "execution_count": 22,
     "metadata": {},
     "output_type": "execute_result"
    }
   ],
   "source": [
    "type((1, 2, 3))"
   ]
  },
  {
   "cell_type": "code",
   "execution_count": 23,
   "metadata": {},
   "outputs": [
    {
     "data": {
      "text/plain": [
       "list"
      ]
     },
     "execution_count": 23,
     "metadata": {},
     "output_type": "execute_result"
    }
   ],
   "source": [
    "type([1, 2, 3])"
   ]
  },
  {
   "cell_type": "markdown",
   "metadata": {
    "school_cell_uuid": "1bd568e2a9bb487daceb494c704b4036"
   },
   "source": [
    "파이썬에서는 함수도 독자적인 자료형을 가진다. 파이썬에서 함수의 자료형 이름은 function 이다."
   ]
  },
  {
   "cell_type": "markdown",
   "metadata": {
    "school_cell_uuid": "e6670de93ee2417ca5a5a91cf2bd1041"
   },
   "source": [
    "파이썬에서 자료형과 클래스는 같은 의미이다. 클래스를 알고 싶으면 `__class__` 속성을 살펴본다."
   ]
  },
  {
   "cell_type": "code",
   "execution_count": 25,
   "metadata": {},
   "outputs": [
    {
     "data": {
      "text/plain": [
       "int"
      ]
     },
     "execution_count": 25,
     "metadata": {},
     "output_type": "execute_result"
    }
   ],
   "source": [
    "a = 1\n",
    "type(a)"
   ]
  },
  {
   "cell_type": "code",
   "execution_count": 26,
   "metadata": {},
   "outputs": [
    {
     "data": {
      "text/plain": [
       "int"
      ]
     },
     "execution_count": 26,
     "metadata": {},
     "output_type": "execute_result"
    }
   ],
   "source": [
    "a.__class__"
   ]
  },
  {
   "cell_type": "code",
   "execution_count": 27,
   "metadata": {},
   "outputs": [],
   "source": [
    "class C(object):\n",
    "    pass\n",
    "\n",
    "\n",
    "c = C()"
   ]
  },
  {
   "cell_type": "code",
   "execution_count": 28,
   "metadata": {},
   "outputs": [
    {
     "data": {
      "text/plain": [
       "__main__.C"
      ]
     },
     "execution_count": 28,
     "metadata": {},
     "output_type": "execute_result"
    }
   ],
   "source": [
    "type(c)"
   ]
  },
  {
   "cell_type": "code",
   "execution_count": 29,
   "metadata": {},
   "outputs": [
    {
     "data": {
      "text/plain": [
       "__main__.C"
      ]
     },
     "execution_count": 29,
     "metadata": {},
     "output_type": "execute_result"
    }
   ],
   "source": [
    "c.__class__"
   ]
  },
  {
   "cell_type": "markdown",
   "metadata": {
    "school_cell_uuid": "2f649bf4ab774468addb22ecf3574a23"
   },
   "source": [
    "클래스 이름앞의 `__main__`은 클래스가 정의된 모듈(module) 즉 파일의 이름이다. REPL 환경에서 입력하는 코드는 `__main__` 으로 가정한다."
   ]
  },
  {
   "cell_type": "markdown",
   "metadata": {
    "school_cell_uuid": "f07c2bbeb20045cea0f21740fac61cea"
   },
   "source": [
    "# 파이썬에서 날짜와 시간 다루기\n"
   ]
  },
  {
   "cell_type": "markdown",
   "metadata": {
    "school_cell_uuid": "f9952c486aec44f8a90430191cf06e82"
   },
   "source": [
    "  * `datetime`: https://docs.python.org/2/library/datetime.html    \n",
    "  * `dateutil`: http://dateutil.readthedocs.org/en/latest/index.html\n",
    "  * `pytz`: http://pythonhosted.org/pytz/\n",
    "  * `time`: https://docs.python.org/2/library/time.html \n"
   ]
  },
  {
   "cell_type": "markdown",
   "metadata": {
    "school_cell_uuid": "b7df5a981b314483bbafce47f094a2fc"
   },
   "source": [
    "``datatime`` 패키지에서는 날짜와 시간을 함께 저장하는 ``datetime`` 클래스, 날짜만 저장하는 ``date`` 클래스, 시간만 저장하는 ``time`` 클래스, 시간 구간 정보를 저장하는 ``timedelta`` 클래스 등을 제공한다."
   ]
  },
  {
   "cell_type": "code",
   "execution_count": 2,
   "metadata": {},
   "outputs": [
    {
     "data": {
      "text/plain": [
       "(2020, 2, 26, 4, 52, 3, 643689)"
      ]
     },
     "execution_count": 2,
     "metadata": {},
     "output_type": "execute_result"
    }
   ],
   "source": [
    "#datetime 패키지 안 datetime 클래스\n",
    "import datetime\n",
    "dt = datetime.datetime.now()\n",
    "dt\n",
    "dt.year, dt.month, dt.day, dt.hour, dt.minute, dt.second, dt.microsecond "
   ]
  },
  {
   "cell_type": "markdown",
   "metadata": {
    "school_cell_uuid": "1cab85d7be9641b098bedc192de33a7f"
   },
   "source": [
    "다음과 같은 메서드도 제공한다.\n",
    "\n",
    "\n",
    "* `weekday()`: 요일 반환 (0:월, 1:화, 2:수, 3:목, 4:금, 5:토, 6:일)\n",
    "* `strftime()`: 문자열 반환\n",
    "* `date()`: 날짜 정보만 가지는 ``datetime.date`` 클래스 객체 반환\n",
    "* `time()`: 시간 정보만 가지는 ``datetime.time`` 클래스 객체 반환"
   ]
  },
  {
   "cell_type": "markdown",
   "metadata": {
    "school_cell_uuid": "75523828ac51454abd4473881d72c35a"
   },
   "source": [
    "| 날짜 및 시간 지정 문자열 | 의미 |\n",
    "|-|-|\n",
    "| ``%Y`` | 앞의 빈자리를 0으로 채우는 4자리 연도 숫자 |\n",
    "| ``%m`` | 앞의 빈자리를 0으로 채우는 2자리 월 숫자 |\n",
    "| ``%d`` | 앞의 빈자리를 0으로 채우는 2자리 일 숫자 |\n",
    "| ``%H`` | 앞의 빈자리를 0으로 채우는 24시간 형식 2자리 시간 숫자 |\n",
    "| ``%M`` | 앞의 빈자리를 0으로 채우는 2자리 분 숫자 |\n",
    "| ``%S`` | 앞의 빈자리를 0으로 채우는 2자리 초 숫자 |\n",
    "| ``%A`` | 영어로 된 요일 문자열 |\n",
    "| ``%B`` | 영어로 된 월 문자열 |"
   ]
  },
  {
   "cell_type": "code",
   "execution_count": 3,
   "metadata": {},
   "outputs": [
    {
     "data": {
      "text/plain": [
       "'Wednesday 26. February 2020'"
      ]
     },
     "execution_count": 3,
     "metadata": {},
     "output_type": "execute_result"
    }
   ],
   "source": [
    "dt.strftime(\"%A %d. %B %Y\")"
   ]
  },
  {
   "cell_type": "markdown",
   "metadata": {
    "school_cell_uuid": "064c124e48664e4babaf4b88ae1fc9c7"
   },
   "source": [
    "반대로 문자열로부터 날짜와 시간 정보를 읽어서 datetime.datetime 클래스 객체를 만들 수도 있다. 이 때는 ``datetime.datetime.strptime()`` 클래스 메서드를 사용한다. 첫 번째 인수로는 날짜와 시간 정보를 가진 문자열을, 두번째 인수로는 그 문자열을 해독할 수 있는 형식 문자열을 넣는다."
   ]
  },
  {
   "cell_type": "code",
   "execution_count": 4,
   "metadata": {},
   "outputs": [
    {
     "data": {
      "text/plain": [
       "datetime.datetime(2017, 1, 2, 14, 44)"
      ]
     },
     "execution_count": 4,
     "metadata": {},
     "output_type": "execute_result"
    }
   ],
   "source": [
    "datetime.datetime.strptime(\"2017-01-02 14:44\", \"%Y-%m-%d %H:%M\")"
   ]
  },
  {
   "cell_type": "markdown",
   "metadata": {
    "school_cell_uuid": "e7cd61765b134b95aff1f1320b8d1a93"
   },
   "source": [
    "``datetime.datetime.strptime()`` 클래스 메서드를 사용할 때는 문자열에 맞는 형식 문자열을 사용자가 제공해야 한다. 그러나 ``dateutil`` 패키지의 ``parse`` 명령을 쓰면 자동으로 형식 문자열을 찾아 ``datetime.datetime`` 클래스 객체를 만들어 준다."
   ]
  },
  {
   "cell_type": "code",
   "execution_count": 5,
   "metadata": {},
   "outputs": [
    {
     "data": {
      "text/plain": [
       "datetime.datetime(2016, 4, 16, 0, 0)"
      ]
     },
     "execution_count": 5,
     "metadata": {},
     "output_type": "execute_result"
    }
   ],
   "source": [
    "from dateutil.parser import parse\n",
    "parse('2016-04-16')"
   ]
  },
  {
   "cell_type": "markdown",
   "metadata": {
    "school_cell_uuid": "366783109db34536bd92a0ec80710024"
   },
   "source": [
    "다만 월과 일이 모두 12보다 작은 숫자일 때는 먼저 나오는 숫자를 월로 나중에 나오는 숫자를 일로 판단한다."
   ]
  },
  {
   "cell_type": "code",
   "execution_count": 6,
   "metadata": {},
   "outputs": [
    {
     "data": {
      "text/plain": [
       "datetime.datetime(2016, 6, 7, 0, 0)"
      ]
     },
     "execution_count": 6,
     "metadata": {},
     "output_type": "execute_result"
    }
   ],
   "source": [
    "parse('6/7/2016')"
   ]
  },
  {
   "cell_type": "markdown",
   "metadata": {
    "school_cell_uuid": "3498b5f0a40543b08f86d22302113b36"
   },
   "source": [
    "날짜나 시간의 간격을 구할 때는 두 개의 ``datetime.datetime`` 클래스 객체의 차이를 구한다. 이 결과는  ``datetime.timedelta`` 클래스 객체로 반환된다."
   ]
  },
  {
   "cell_type": "code",
   "execution_count": 7,
   "metadata": {},
   "outputs": [
    {
     "data": {
      "text/plain": [
       "datetime.timedelta(days=48, seconds=3600)"
      ]
     },
     "execution_count": 7,
     "metadata": {},
     "output_type": "execute_result"
    }
   ],
   "source": [
    "dt1 = datetime.datetime(2016, 2, 19, 14)\n",
    "dt2 = datetime.datetime(2016, 1, 2, 13)\n",
    "td = dt1 - dt2\n",
    "td"
   ]
  },
  {
   "cell_type": "markdown",
   "metadata": {
    "school_cell_uuid": "1e2b2e1c655e4d599468902d5f0ddf2c"
   },
   "source": [
    "``datetime.timedelta`` 클래스는 다음과 같은 속성과 메서드를 가진다.\n",
    "\n",
    "* 속성\n",
    " * `days`: 일수\n",
    " * `seconds`: 초 (0 ~ 86399)\n",
    " * `microseconds`: 마이크로초 (0 and 999999)\n",
    "\n",
    "* 메서드\n",
    " * `total_seconds()`: 모든 속성을 초단위로 모아서 변환"
   ]
  },
  {
   "cell_type": "code",
   "execution_count": 8,
   "metadata": {},
   "outputs": [
    {
     "data": {
      "text/plain": [
       "(48, 3600, 0)"
      ]
     },
     "execution_count": 8,
     "metadata": {},
     "output_type": "execute_result"
    }
   ],
   "source": [
    "td.days, td.seconds, td.microseconds"
   ]
  },
  {
   "cell_type": "markdown",
   "metadata": {
    "school_cell_uuid": "dcfd89c4f1af4d809bafbaf116ba3c6a"
   },
   "source": [
    "반대로 ``datetime.datetime`` 클래스 객체에 ``datetime.timedelta`` 클래스 객체를 더해서 새로운 시간을 구할 수도 있다."
   ]
  },
  {
   "cell_type": "code",
   "execution_count": 9,
   "metadata": {},
   "outputs": [
    {
     "data": {
      "text/plain": [
       "datetime.datetime(2018, 11, 30, 14, 0)"
      ]
     },
     "execution_count": 9,
     "metadata": {},
     "output_type": "execute_result"
    }
   ],
   "source": [
    "t0 = datetime.datetime(2018, 9, 1, 13)\n",
    "d = datetime.timedelta(days=90, seconds=3600)\n",
    "t0 + d"
   ]
  },
  {
   "cell_type": "code",
   "execution_count": null,
   "metadata": {},
   "outputs": [],
   "source": []
  }
 ],
 "metadata": {
  "kernelspec": {
   "display_name": "Python 3",
   "language": "python",
   "name": "python3"
  },
  "language_info": {
   "codemirror_mode": {
    "name": "ipython",
    "version": 3
   },
   "file_extension": ".py",
   "mimetype": "text/x-python",
   "name": "python",
   "nbconvert_exporter": "python",
   "pygments_lexer": "ipython3",
   "version": "3.7.4"
  }
 },
 "nbformat": 4,
 "nbformat_minor": 2
}
