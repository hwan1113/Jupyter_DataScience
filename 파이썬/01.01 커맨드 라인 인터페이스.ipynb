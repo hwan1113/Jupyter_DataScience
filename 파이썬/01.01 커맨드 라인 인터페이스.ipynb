{
 "cells": [
  {
   "cell_type": "markdown",
   "metadata": {
    "school_cell_uuid": "4c231b9112844f9f8d0d9bbb219501d1"
   },
   "source": [
    "## 1.1 커맨드 라인 인터페이스"
   ]
  },
  {
   "cell_type": "markdown",
   "metadata": {
    "school_cell_uuid": "6feb921b501c4ee69091795d5eae6474"
   },
   "source": [
    "이 절은 컴퓨터 혹은 프로그래밍을 처음 시작하는 사람을 위한 내용이다. 셸 사용이나 프로그래밍에 익숙한 독자는 이 절을 생략하고 다음 절을 읽어도 된다.\n",
    "\n",
    "본격적인 프로그래밍을 시작하기 전에 반드시 알아야 하는 것이 **커맨드 라인 인터페이스(CLI: Command Line Interface)**이다. 커맨드 라인 인터페이스는 텍스트 표준 입출력 방식을 제공하는 방법을 총칭한다. 대표적인 표준 입력 장치로 키보드가 있다(마우스는 그래픽 유저 인터페이스 방식에 사용하는 대표 입력 장치다) 프로그램을 처음으로 시작하는 초보자는 다음과 같은 개념으로 뭉뚱그려 생각해도 된다. \n",
    "\n",
    "> 검은 바탕에 글자만 하얗게 나오는 화면 또는\n",
    ">\n",
    "> 커서가 반짝거리고 키보드를 타이핑하면 글자가 써지는 화면\n"
   ]
  },
  {
   "cell_type": "markdown",
   "metadata": {
    "school_cell_uuid": "10d02d2d02644c048c0f970e007288a0"
   },
   "source": [
    "<img src=\"https://datascienceschool.net/upfiles/37f81435110145efb578bbb5ba7d4c63.png\" style=\"width:100%;\">"
   ]
  },
  {
   "cell_type": "markdown",
   "metadata": {
    "school_cell_uuid": "dd533cb8890c40d2b48bfa0c77ecb59a",
    "sidetitle": true
   },
   "source": [
    "커맨드 라인 인터페이스 화면의 예"
   ]
  },
  {
   "cell_type": "markdown",
   "metadata": {
    "school_cell_uuid": "361b47d50d9c4e8c9c5f86ec0a595c69"
   },
   "source": [
    "**콘솔(console)**이라는 용어도 커맨드 라인 인터페이스를 뜻하는 말이다. 윈도우에서는 **커맨드 프롬프트 라인(command prompt line)**, 우리말로 **명령줄** 혹은 **명령행**이라고 한다. 맥이나 리눅스에서는 **터미널(terminal)**이라는 용어를 더 많이 사용한다. 앞으로 이 책에서는 터미널이라는 용어를 대표 용어로 사용하도록 한다.\n"
   ]
  },
  {
   "cell_type": "markdown",
   "metadata": {
    "school_cell_uuid": "ebdfc46f4a3841b2b6e6044e10418900"
   },
   "source": [
    "### 윈도우에서 터미널 시작하기"
   ]
  },
  {
   "cell_type": "markdown",
   "metadata": {
    "school_cell_uuid": "def1b01a98cc4cdcaf11432c9de490f4"
   },
   "source": [
    "윈도우 운영체제에서 터미널을 시작하는 방법은 다음과 같다.\n",
    "\n",
    "* \"시작\" 버튼 > 검색 창에 \"cmd\" 입력 > 검색 결과에서 \"cmd.exe\"나 \"명령 프롬프트\" 선택\n",
    "* \"시작\" 버튼 > \"모든 프로그램\" 선택 > \"보조 프로그램\" 선택 > \"명령 프롬프트\" 선택"
   ]
  },
  {
   "cell_type": "markdown",
   "metadata": {
    "school_cell_uuid": "92bc8c4e8b4b4ac6a81772e7ec778cfa"
   },
   "source": [
    "<img src=\"https://datascienceschool.net/upfiles/2e84a4fe369849899e1317e027a32c86.png\" style=\"width:50%;\" no-resize>"
   ]
  },
  {
   "cell_type": "markdown",
   "metadata": {
    "school_cell_uuid": "3be01ee0904d49059397ccfcb49cd66a",
    "sidetitle": true
   },
   "source": [
    "윈도우에서 명령 프롬프트 시작하기"
   ]
  },
  {
   "cell_type": "markdown",
   "metadata": {
    "school_cell_uuid": "08b4d0e8501744418bcd293abeb99943"
   },
   "source": [
    "### 맥에서 터미널 시작하기"
   ]
  },
  {
   "cell_type": "markdown",
   "metadata": {
    "school_cell_uuid": "ae1ef46fe471461292481cca2ef59446"
   },
   "source": [
    "맥 운영체제에서 터미널을 시작하는 방법은 다음과 같다.\n",
    "\n",
    "* Spotlight 검색 > 검색 창에 \"Terminal\" 또는 \"터미널\" 입력 > 검색 결과에서 \"Terminal\"이나 \"터미널\" 실행\n",
    "* 파인더 > 응용 프로그램 > 유틸리티 > 터미널"
   ]
  },
  {
   "cell_type": "markdown",
   "metadata": {
    "school_cell_uuid": "f7378e823aac452f8d2e49313cafa779"
   },
   "source": [
    "<img src=\"https://datascienceschool.net/upfiles/da551925378b452da32a70f606236d19.png\" style=\"width:90%;\" no-resize>"
   ]
  },
  {
   "cell_type": "markdown",
   "metadata": {
    "school_cell_uuid": "5aaed68801e142b3a47ae774f27787a8",
    "sidetitle": true
   },
   "source": [
    "맥에서 터미널 시작하기"
   ]
  },
  {
   "cell_type": "markdown",
   "metadata": {
    "bootstrap": {
     "panel": {
      "class": "panel-default"
     }
    },
    "school_cell_uuid": "95a5f5aea44f43bda17c1de80ad8fce9"
   },
   "source": [
    "#### 연습 문제 1.1.1\n",
    "\n",
    "자신의 컴퓨터에서 셸을 시작해본다. 익숙해질 때까지 여러번 반복한다."
   ]
  },
  {
   "cell_type": "markdown",
   "metadata": {
    "school_cell_uuid": "8b041b48728e47b5929287eff491c333"
   },
   "source": [
    "### 프롬프트"
   ]
  },
  {
   "cell_type": "markdown",
   "metadata": {
    "school_cell_uuid": "81952e3c68d94f35aecdfda394812134"
   },
   "source": [
    "터미널 화면에서는 항상 새로운 줄이 시작할 때마다 무언가 글씨가 출력되어 있다. 가장 일반적으로 나오는 것이 ``$``(달러 표시) 기호이다. 그리고 ``$`` 기호 앞에 사용자 이름이나 컴퓨터 이름, 혹은 현재 디렉터리 위치 등 다른 글자들이 있을 수도 있다. 이를 **프롬프트(prompt)**라고 한다.\n",
    "\n",
    "앞의 그림에서 ``dockeruser@7e2af2c6d2d:~$``라는 글자가 프롬프트의 예다. 프롬프트는 컴퓨터의 현재 상태 등을 보여주는 동시에 셸이 사용자의 명령을 받을 준비가 되었다는 것을 알려준다. 프롬프트가 나오면 사용자는 키보드로 명령을 입력할 수 있다. \n",
    "\n",
    "참고로 이 책에서는 셸 명령 예제를 보여줄 때 프롬프트까지 포함하여 보여주지만 독자 여러분이 예제를 직접 작성할 때는 프롬프트 부분을 생략하고 작성해야 한다. 그리고 셸, 터미널, 콘솔이라는 의미로 프롬프트라는 말을 쓰기도 한다."
   ]
  },
  {
   "cell_type": "markdown",
   "metadata": {
    "bootstrap": {
     "panel": {
      "class": "panel-default"
     }
    },
    "school_cell_uuid": "5f668127f1df499895014624c763e176"
   },
   "source": [
    "#### 연습 문제 1.1.2\n",
    "\n",
    "자신의 셸에서 나오는 프롬프트를 적어보고 무슨 뜻인지 알아본다."
   ]
  },
  {
   "cell_type": "markdown",
   "metadata": {
    "school_cell_uuid": "a5ea7cf03cec43138ba09e22b3af660d"
   },
   "source": [
    "### 셸 명령"
   ]
  },
  {
   "cell_type": "markdown",
   "metadata": {
    "school_cell_uuid": "dad2e04967a44a01875b14fe6dbefafd"
   },
   "source": [
    "터미널을 통해 컴퓨터에 다양한 명령을 내릴 수 있도록 도와주는 프로그램을 **셸(shell)**이라고 한다. 현대의 모든 컴퓨터 터미널은 셸을 내장하고 있기 때문에 터미널과 셸이라는 용어를 구분하지 않고 섞어서 쓰기도 한다.\n",
    "\n",
    "* 터미널/콘솔 : 셸을 실행하기 위해 문자 입력을 받아 컴퓨터에 전달하거나 컴퓨터의 출력을 문자 화면에 쓰는 프로그램\n",
    "* 셸 : 사용자가 문자를 입력하여 컴퓨터에 명령할 수 있도록 하는 프로그램\n",
    "\n",
    "터미널 화면에서는 쓸 수 있는 셸 명령은 주로 파일이나 디렉터리를 관리하는 명령이다. 윈도우의 셸 명령과 맥/리눅스의 셸 명령은 비슷하지만 약간 차이가 있다. 다음은 셸에서 많이 사용되는 몇 가지 명령을 정리한 것이다.\n"
   ]
  },
  {
   "cell_type": "markdown",
   "metadata": {
    "school_cell_uuid": "be643bc731ae418795cab715e1bb74d8"
   },
   "source": [
    "| 명령 |  윈도우 셸  | 맥/리눅스 셸 |\n",
    "|-|-|-|\n",
    "| 화면 지우기 | `cls` | `ctrl+l` |\n",
    "| 현재 디렉터리 이름 출력 | `cd` | `pwd` |\n",
    "| 현재 디렉터리의 파일 목록 출력 | `dir` | `ls -Fcal` |\n",
    "| 한 칸 위의 디렉터리로 이동  | `cd ..`| `cd ..` |\n",
    "| 한 칸 아래의 디렉터리로 이동  | `cd 디렉터리이름`| `cd 디렉터리이름` |\n",
    "| 파일 지우기  | `del 파일이름`| `rm 파일이름` |\n",
    "| 디렉터리 만들기  | `mkdir 디렉터리이름`| `mkdir 디렉터리이름` |\n",
    "| 디렉터리 지우기  | `rmdir 디렉터리이름`| `rmdir 디렉터리이름` |\n",
    "| 셸 나가기  | `exit`| `exit` |\n"
   ]
  },
  {
   "cell_type": "markdown",
   "metadata": {
    "school_cell_uuid": "5aaed68801e142b3a47ae774f27787a8",
    "sidetitle": true
   },
   "source": [
    "표: 셸 기본 명령어 \n"
   ]
  },
  {
   "cell_type": "markdown",
   "metadata": {
    "bootstrap": {
     "panel": {
      "class": "panel-default"
     }
    },
    "school_cell_uuid": "38777426bf28497ab74fed0a0a489f54"
   },
   "source": [
    "#### 연습 문제 1.1.3\n",
    "\n",
    "셸을 가동한 뒤 다음 명령을 수행한다.\n",
    "\n",
    "1. 현재 디렉터리의 이름을 알아본다.\n",
    "1. 현재 디렉터리의 모든 파일과 디렉터리 목록을 알아낸다.\n",
    "1. 이 디렉터리에 ``foo`` 라는 이름의 디렉터리를 만든다.\n",
    "1. ``foo``  디렉터리로 들어간다.\n",
    "1. ``foo`` 디렉터리에 ``bar`` 라는 이름의 디렉터리를 만든다.\n",
    "1. ``bar``  디렉터리로 들어간다.\n",
    "1. 다시 ``foo``  디렉터리로 이동한다.\n",
    "1. ``bar`` 디렉터리를 삭제한다.\n",
    "1. 화면을 지운다.\n",
    "1. 다시 가장 처음의  디렉터리로 이동한다.\n",
    "1. ``foo`` 디렉터리를 삭제한다.\n",
    "1. 셸을 나간다."
   ]
  },
  {
   "cell_type": "markdown",
   "metadata": {
    "school_cell_uuid": "aa8663099a5842bc99099319f1e4dd0c"
   },
   "source": [
    "### 계정과 홈 디렉터리"
   ]
  },
  {
   "cell_type": "markdown",
   "metadata": {
    "school_cell_uuid": "9a2c78149eef4804a428e371416bd6de"
   },
   "source": [
    "운영체제는 **사용자 계정(account)**과 **홈 디렉터리(home directory)**를 지원한다. 사용자 계정이란 같은 컴퓨터를 여러 사용자가 사용하는 경우를 대비하여 특정한 한 명의 사용자가 사용하는 권한을 가진 계정으로 해당 사용자의 아이디와 패스워드로 로그인하여 사용한다. 홈 디렉터리는 각 사용자에게 할당된 디렉터리다. 터미널을 가동하면 보통은 로그인한 사용자의 홈 디렉터리에서 셸이 시작한다. 언제든 다음 명령으로 홈 디렉터리로 이동할 수 있다.\n",
    "\n",
    "* 윈도우: ``$ cd %HOMEPATH%``\n",
    "* 맥/리눅스: ``$ cd ~``\n",
    "\n",
    "``~`` 기호는 틸드(tilde)라고 읽는다. 이 기호는 사용자의 홈 디렉터리를 표시하는 단축 기호이다.\n",
    "만약 현재 자신의 계정 이름을 모르겠다면 홈 디렉터리로 옮겨서 디렉터리 이름을 보면된다. 윈도우에서는 보통 홈 디렉터리를 ``C:\\Users\\계정이름``과 같이 만들어 준다."
   ]
  },
  {
   "cell_type": "markdown",
   "metadata": {
    "bootstrap": {
     "panel": {
      "class": "panel-default"
     }
    },
    "school_cell_uuid": "3ffe5b68930941a1883d17153cb984b4"
   },
   "source": [
    "#### 연습 문제 1.1.4\n",
    "\n",
    "1. 셸을 가동하여 자신의 홈 디렉터리로 이동한다.\n",
    "2. 자신의 계정 이름을 알아낸다.\n",
    "3. 자신의 홈 디렉터리에 어떤 서브 디렉터리(숨겨진 디렉터리 포함)들이 있는지 그리고 각각의 서브 디렉터리에는 어떤 파일들이 있는지 조사한다.\n"
   ]
  },
  {
   "cell_type": "markdown",
   "metadata": {
    "school_cell_uuid": "5545e527b82b460e9da84a497120e728"
   },
   "source": [
    "### 계정 이름에 대해\n",
    "\n"
   ]
  },
  {
   "cell_type": "markdown",
   "metadata": {
    "school_cell_uuid": "63fcaf9223c2400d88dd3e9d5f089b64"
   },
   "source": [
    "참고로 컴퓨터에서 사용자 계정(account)을 만들 때는 이름을 다음과 같이 만들기를 권장한다.\n",
    "\n",
    "* 한국어가 아닌 영어로 만들 것\n",
    "* 띄어쓰기가 없는 한 단어로 만들 것\n",
    "\n",
    "위와 같은 조건을 만족하지 않는다고 해도 큰 영향은 없지만, 다음과 같은 이유로 어려움을 겪을 수도 있다.\n",
    "\n",
    "* 영문이 아니거나 띄어쓰기가 있는 계정 이름을 지원하지 않아 설치나 실행이 어려운 프로그램도 있다.\n",
    "* 디렉터리 이름에 띄어쓰기가 있으면 셸에서 사용이 불편하다.\n",
    "* 리눅스 등의 운영체제에서는 한글 표시/입력 설정을 추가로 해야 하므로 홈 디렉터리 표시나 사용이 불편해진다."
   ]
  },
  {
   "cell_type": "markdown",
   "metadata": {
    "bootstrap": {
     "panel": {
      "class": "panel-default"
     }
    },
    "school_cell_uuid": "7616b72f0db54029a0ac35aa78f0145b"
   },
   "source": [
    "#### 연습 문제 1.1.5\n",
    "\n",
    "자신의 운영체제에서 새로운 계정을 만들어 보자. 계정 이름은 영어 한 단어로 된 이름을 사용한다."
   ]
  },
  {
   "cell_type": "markdown",
   "metadata": {
    "school_cell_uuid": "2b9288f6c9af4e19b7c91ea0b1fb4d22"
   },
   "source": [
    "셸 명령을 잘 사용하는 것은 컴퓨터를 다루는 가장 기본적인 능력이다. 여기에서 설명한 것은 가장 기초적인 셸 명령에 지나지 않는다. 다양한 셸 명령이나 셸 스크립트 프로그래밍 방법에 익숙해지는 것은 데이터 분석을 위한 가장 기초적인 능력이다."
   ]
  }
 ],
 "metadata": {
  "celltoolbar": "Edit Metadata",
  "kernelspec": {
   "display_name": "Python 3",
   "language": "python",
   "name": "python3"
  },
  "language_info": {
   "codemirror_mode": {
    "name": "ipython",
    "version": 3
   },
   "file_extension": ".py",
   "mimetype": "text/x-python",
   "name": "python",
   "nbconvert_exporter": "python",
   "pygments_lexer": "ipython3",
   "version": "3.7.0"
  },
  "latex_envs": {
   "LaTeX_envs_menu_present": true,
   "autoclose": false,
   "autocomplete": true,
   "bibliofile": "biblio.bib",
   "cite_by": "apalike",
   "current_citInitial": 1,
   "eqLabelWithNumbers": true,
   "eqNumInitial": 1,
   "hotkeys": {
    "equation": "Ctrl-E",
    "itemize": "Ctrl-I"
   },
   "labels_anchors": false,
   "latex_user_defs": false,
   "report_style_numbering": false,
   "user_envs_cfg": false
  }
 },
 "nbformat": 4,
 "nbformat_minor": 1
}