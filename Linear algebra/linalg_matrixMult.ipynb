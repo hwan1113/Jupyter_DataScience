{
 "cells": [
  {
   "cell_type": "code",
   "execution_count": 2,
   "metadata": {},
   "outputs": [],
   "source": [
    "import numpy as np\n",
    "import matplotlib.pyplot as plt\n",
    "import math"
   ]
  },
  {
   "cell_type": "markdown",
   "metadata": {},
   "source": [
    "\n",
    "---\n",
    "# VIDEO: Standard matrix multiplication, parts 1 & 2\n",
    "---\n"
   ]
  },
  {
   "cell_type": "code",
   "execution_count": 6,
   "metadata": {},
   "outputs": [
    {
     "data": {
      "text/plain": [
       "array([[-2.5305282 ,  1.08491626,  1.70070655],\n",
       "       [ 1.26761065,  0.45590613,  1.44430157],\n",
       "       [ 7.65724221,  0.02489025, -4.69771317],\n",
       "       [ 0.81285896,  0.54277417, -1.09980195]])"
      ]
     },
     "execution_count": 6,
     "metadata": {},
     "output_type": "execute_result"
    }
   ],
   "source": [
    "## rules for multiplication validity\n",
    "\n",
    "m = 4\n",
    "n = 3\n",
    "k = 6\n",
    "\n",
    "# make some matrices\n",
    "A = np.random.randn(m,n)\n",
    "B = np.random.randn(n,k)\n",
    "C = np.random.randn(m,k)\n",
    "\n",
    "# test which multiplications are valid.\n",
    "# Think of your answer first, then test.\n",
    "np.matmul(A,B)\n",
    "#np.matmul(A,A)\n",
    "np.matmul(np.matrix.transpose(A),C)\n",
    "# np.matmul(B,np.matrix.transpose(B))\n",
    "# np.matmul(np.matrix.transpose(B),B)\n",
    "# np.matmul(B,C)\n",
    "# np.matmul(C,B)\n",
    "# np.matmul(np.matrix.transpose(C),B)\n",
    "np.matmul(C,np.matrix.transpose(B))\n",
    "\n",
    "#Challenge\n",
    "#Gerenerate two matrices\n",
    "#build a product matrix layer wise (for loop)\n",
    "#implement the matrix multiplication directly\n",
    "# compare the result.\n",
    "\n"
   ]
  },
  {
   "cell_type": "markdown",
   "metadata": {},
   "source": [
    "\n",
    "---\n",
    "# VIDEO: Order-of-operations on matrices\n",
    "---\n"
   ]
  },
  {
   "cell_type": "code",
   "execution_count": 3,
   "metadata": {},
   "outputs": [
    {
     "data": {
      "text/plain": [
       "array([[  0.00000000e+00,   2.22044605e-16],\n",
       "       [  0.00000000e+00,  -2.22044605e-16]])"
      ]
     },
     "execution_count": 3,
     "metadata": {},
     "output_type": "execute_result"
    }
   ],
   "source": [
    "\n",
    "n = 2\n",
    "L = np.random.randn(n,n)\n",
    "I = np.random.randn(n,n)\n",
    "V = np.random.randn(n,n)\n",
    "E = np.random.randn(n,n)\n",
    "\n",
    "# result of \"forward\" multiplication and then transpose\n",
    "res1 = np.matrix.transpose( L @ I @ V @ E )\n",
    "\n",
    "# result of \"flipped\" multiplication of transposed matrices\n",
    "res2 = np.matrix.transpose(E) @ np.matrix.transpose(V) @ np.matrix.transpose(I) @ np.matrix.transpose(L)\n",
    "\n",
    "# test equality by subtracting (ignore possible computer rounding errors)\n",
    "res1-res2"
   ]
  },
  {
   "cell_type": "markdown",
   "metadata": {},
   "source": [
    "\n",
    "---\n",
    "# VIDEO: Matrix-vector multiplication\n",
    "---\n"
   ]
  },
  {
   "cell_type": "code",
   "execution_count": 14,
   "metadata": {},
   "outputs": [
    {
     "name": "stdout",
     "output_type": "stream",
     "text": [
      "[-23.  23. -15.   1.]\n",
      "[-23.  23. -15.   1.]\n",
      "[-23.  23. -15.   1.]\n",
      "[-23.  23. -15.   1.]\n",
      "[-23.  23. -15.   1.]\n",
      "[ -12. -101.  -24.   26.]\n",
      "[ -12. -101.  -24.   26.]\n",
      "[-14. -12.   4.  11.]\n",
      "[ -12. -101.  -24.   26.]\n",
      "[-14. -12.   4.  11.]\n"
     ]
    }
   ],
   "source": [
    "\n",
    "# number of elements\n",
    "m = 4\n",
    "\n",
    "# create matrices\n",
    "N = np.round( 10*np.random.randn(m,m) )\n",
    "# later. Creating symmetric matrix.\n",
    "S = np.round( np.matrix.transpose(N)*N/m**2 ) # scaled symmetric\n",
    "\n",
    "# and vector\n",
    "w = np.array([-1, 0, 1, 2])\n",
    "\n",
    "# with symmetric matrix. meaning S^t == S\n",
    "# NOTE: The @ symbol for matrix multiplication is relatively new to Python\n",
    "print(S@w)    # 1\n",
    "print(np.matrix.transpose(S@w)) # 2\n",
    "print(w@S)    # 3\n",
    "print(np.matrix.transpose(w)@np.matrix.transpose(S))  # 4\n",
    "print(np.matrix.transpose(w)@S)   # 5\n",
    "\n",
    "\n",
    "# with nonsymmetric matrix\n",
    "# S^t != S\n",
    "print(N@w)    # 1\n",
    "print(np.matrix.transpose(N@w)) # 2\n",
    "print(w@N)    # 3\n",
    "print(np.matrix.transpose(w)@np.matrix.transpose(N))  # 4\n",
    "print(np.matrix.transpose(w)@N)   # 5\n"
   ]
  },
  {
   "cell_type": "markdown",
   "metadata": {},
   "source": [
    "\n",
    "---\n",
    "# VIDEO: 2D transformation matrices\n",
    "---\n"
   ]
  },
  {
   "cell_type": "code",
   "execution_count": 15,
   "metadata": {},
   "outputs": [
    {
     "data": {
      "image/png": "[encoded data removed]",
      "text/plain": [
       "<Figure size 432x288 with 1 Axes>"
      ]
     },
     "metadata": {
      "needs_background": "light"
     },
     "output_type": "display_data"
    }
   ],
   "source": [
    "# 2D input vector\n",
    "v = np.array([ 3, -2 ])\n",
    "\n",
    "# 2x2 transformation matrix\n",
    "A = np.array([ [1,-1], [2,1] ])\n",
    "\n",
    "# output vector is Av (convert v to column)\n",
    "w = A@np.matrix.transpose(v)\n",
    "\n",
    "\n",
    "# plot them\n",
    "plt.plot([0,v[0]],[0,v[1]],label='v')\n",
    "plt.plot([0,w[0]],[0,w[1]],label='Av')\n",
    "\n",
    "plt.grid()\n",
    "plt.axis((-6, 6, -6, 6))\n",
    "plt.legend()\n",
    "plt.title('Rotation + stretching')\n",
    "plt.show()"
   ]
  },
  {
   "cell_type": "code",
   "execution_count": 19,
   "metadata": {},
   "outputs": [
    {
     "data": {
      "image/png": "[encoded data removed]",
      "text/plain": [
       "<Figure size 432x288 with 1 Axes>"
      ]
     },
     "metadata": {
      "needs_background": "light"
     },
     "output_type": "display_data"
    }
   ],
   "source": [
    "## pure rotation\n",
    "\n",
    "# 2D input vector\n",
    "v = np.array([ 3, -2 ])\n",
    "\n",
    "# 2x2 rotation matrix\n",
    "th = 5*np.pi/24\n",
    "A = np.array([ [math.cos(th),-math.sin(th)], [math.sin(th),math.cos(th)] ])\n",
    "\n",
    "# output vector is Av (convert v to column)\n",
    "w = A@np.matrix.transpose(v)\n",
    "\n",
    "\n",
    "# plot them\n",
    "plt.plot([0,v[0]],[0,v[1]],label='v')\n",
    "plt.plot([0,w[0]],[0,w[1]],label='Av')\n",
    "\n",
    "plt.grid()\n",
    "plt.axis((-4, 4, -4, 4))\n",
    "plt.legend()\n",
    "plt.title('Pure rotation')\n",
    "plt.show()\n",
    "\n",
    "\n",
    "#challenge\n",
    "# 2x2 rotation matrix\n",
    "#th = 5*np.pi/24\n",
    "#A = np.array([ [math.cos(th)*2,-math.sin(th)], [math.sin(th),math.cos(th)] ])\n",
    "#이 때, 맨앞의 cos*2를 해주면 vector의 magnitude는 th의 값에 따라 결정된다. \n",
    "# pure rotation 식과 impure roatation(2*cos) 에서 0도에서 360도로 각이 변할때, vector의 magnitude를 구하고 이를 그래프에 그려라\n",
    "#50과\n",
    "\n",
    "#Chllaenge\n",
    "# generate xy plane to plot a circle A\n",
    "# create a 2x2 matrix (starting with identity matrix)\n",
    "# multiply matrix by a coordinate\n",
    "# plot a new matrix\n",
    "# try with a singular matrix (non invertible, columns form a linearly depandent set)\n",
    "# try with various matrix\n"
   ]
  },
  {
   "cell_type": "markdown",
   "metadata": {},
   "source": [
    "\n",
    "---\n",
    "# VIDEO: Additive and multiplicative matrix identities\n",
    "---\n"
   ]
  },
  {
   "cell_type": "code",
   "execution_count": 60,
   "metadata": {},
   "outputs": [
    {
     "data": {
      "text/plain": [
       "True"
      ]
     },
     "execution_count": 60,
     "metadata": {},
     "output_type": "execute_result"
    }
   ],
   "source": [
    "# size of matrices\n",
    "n = 4\n",
    "\n",
    "A = np.round( 10*np.random.randn(n,n) )\n",
    "I = np.eye(n,n)\n",
    "Z = np.zeros((n,n))\n",
    "\n",
    "# test both identities\n",
    "np.array_equal( A@I , A   )\n",
    "np.array_equal( A   , A@I )\n",
    "np.array_equal( A   , A+I )\n",
    "\n",
    "np.array_equal( A   , A+I )\n",
    "np.array_equal( A+Z , A@I )\n"
   ]
  },
  {
   "cell_type": "markdown",
   "metadata": {},
   "source": [
    "\n",
    "---\n",
    "# VIDEO: Additive and multiplicative symmetric matrices\n",
    "---\n"
   ]
  },
  {
   "cell_type": "code",
   "execution_count": 86,
   "metadata": {},
   "outputs": [
    {
     "name": "stdout",
     "output_type": "stream",
     "text": [
      "[[ 0.  0.  0.  0.  0.]\n",
      " [ 0.  0.  0.  0.  0.]\n",
      " [ 0.  0.  0.  0.  0.]\n",
      " [ 0.  0.  0.  0.  0.]\n",
      " [ 0.  0.  0.  0.  0.]]\n"
     ]
    }
   ],
   "source": [
    "## the additive method\n",
    "\n",
    "# specify sizes\n",
    "m = 5\n",
    "n = 5\n",
    "\n",
    "# create matrices\n",
    "A = np.random.randn(m,n)\n",
    "S = ( A + np.matrix.transpose(A) )/2\n",
    "\n",
    "# A symmetric matrix minus its transpose should be all zeros\n",
    "print( S-np.matrix.transpose(S) )\n"
   ]
  },
  {
   "cell_type": "code",
   "execution_count": 96,
   "metadata": {},
   "outputs": [
    {
     "name": "stdout",
     "output_type": "stream",
     "text": [
      "(3, 3)\n",
      "(5, 5)\n",
      "[[ 0.  0.  0.]\n",
      " [ 0.  0.  0.]\n",
      " [ 0.  0.  0.]]\n",
      "[[ 0.  0.  0.  0.  0.]\n",
      " [ 0.  0.  0.  0.  0.]\n",
      " [ 0.  0.  0.  0.  0.]\n",
      " [ 0.  0.  0.  0.  0.]\n",
      " [ 0.  0.  0.  0.  0.]]\n"
     ]
    }
   ],
   "source": [
    "## the multiplicative method\n",
    "\n",
    "# specify sizes\n",
    "m = 5\n",
    "n = 3\n",
    "\n",
    "# create matrices\n",
    "A   = np.random.randn(m,n)\n",
    "AtA = np.matrix.transpose(A)@A\n",
    "AAt = A@np.matrix.transpose(A)\n",
    "\n",
    "# first, show that they are square\n",
    "print( AtA.shape )\n",
    "print( AAt.shape )\n",
    "\n",
    "\n",
    "# next, show that they are symmetric\n",
    "print( AtA - np.matrix.transpose(AtA) )\n",
    "print( AAt - np.matrix.transpose(AAt) )\n",
    "\n"
   ]
  },
  {
   "cell_type": "markdown",
   "metadata": {},
   "source": [
    "\n",
    "---\n",
    "# VIDEO: Element-wise (Hadamard) multiplication\n",
    "---\n"
   ]
  },
  {
   "cell_type": "code",
   "execution_count": 100,
   "metadata": {},
   "outputs": [
    {
     "name": "stdout",
     "output_type": "stream",
     "text": [
      "[[ -7.66323146e-01  -8.25906929e-02]\n",
      " [ -3.90966578e-02   3.55398187e-01]\n",
      " [  2.56140438e-01   8.10723166e-02]\n",
      " [ -3.34874260e+00  -1.01767138e+00]\n",
      " [  1.10493988e+00   1.31099017e-01]\n",
      " [ -2.04041307e+00  -1.72216741e+00]\n",
      " [ -3.82003034e-02   6.25393221e-01]\n",
      " [ -5.75491697e-01   1.34932994e+00]\n",
      " [  1.06584279e+00  -6.19962559e-01]\n",
      " [ -3.27215150e-01   4.13362140e-02]\n",
      " [  1.86198252e-01  -1.57051310e-01]\n",
      " [ -1.91929460e-03   2.33527471e-01]\n",
      " [ -1.95764360e-01   1.84572276e-01]]\n"
     ]
    }
   ],
   "source": [
    "# any matrix sizes\n",
    "m = 13\n",
    "n =  2\n",
    "\n",
    "# ...but the two matrices must be the same size\n",
    "A = np.random.randn(m,n)\n",
    "B = np.random.randn(m,n)\n",
    "\n",
    "# note the different syntax compared to @ for matrix multiplication\n",
    "C = np.multiply( A,B )\n",
    "\n",
    "print(C)\n",
    "\n",
    "#Challenge create two symmetric matrices\n",
    "#compute sum, multiplication, and Hadamard multiplication of the two matrices\n",
    "\n",
    "\n",
    "\n",
    "#determine whether the result is still symmetric\n"
   ]
  },
  {
   "cell_type": "markdown",
   "metadata": {},
   "source": [
    "\n",
    "---\n",
    "# VIDEO: Multiplication of two symmetric matrices\n",
    "---\n"
   ]
  },
  {
   "cell_type": "code",
   "execution_count": 40,
   "metadata": {},
   "outputs": [
    {
     "name": "stdout",
     "output_type": "stream",
     "text": [
      "Matrix([[0, 0, 0, 0], [0, 0, 0, 0], [0, 0, 0, 0], [0, 0, 0, 0]])\n",
      "Matrix([[0, 0, 0, 0], [0, 0, 0, 0], [0, 0, 0, 0], [0, 0, 0, 0]])\n",
      "a\n",
      "a\n",
      "a\n",
      "a\n",
      "l\n",
      "l\n",
      "l\n",
      "l\n"
     ]
    }
   ],
   "source": [
    "# using the sympy library\n",
    "from sympy import *\n",
    "\n",
    "a,b,c,d,e,f,g,h,k,l,m,n,o,p,q,r,s,t,u = symbols('a b c d e f g h k l m n o p q r s t u', real=True)\n",
    "\n",
    "# symmetric and constant-diagonal matrices\n",
    "A = Matrix([ [a,b,c,d],\n",
    "             [b,a,e,f],\n",
    "             [c,e,a,h],\n",
    "             [d,f,h,a]   ])\n",
    "\n",
    "B = Matrix([ [l,m,n,o],\n",
    "             [m,l,q,r],\n",
    "             [n,q,l,t],\n",
    "             [o,r,t,l]   ])\n",
    "\n",
    "\n",
    "# confirmation that A and B are symmetric\n",
    "print( A - A.transpose() )\n",
    "print( B - B.transpose() )\n",
    "\n",
    "# ... and constant diagonal\n",
    "for i in range(0,np.size(A,0)):\n",
    "    print( A[i,i] )\n",
    "for i in range(0,np.size(B,0)):\n",
    "    print( B[i,i] )\n",
    "\n",
    "    \n",
    "# Challenge\n",
    "# craete two matrices (4x4) Full and diagonal \n",
    "#multply each matrix by itself (A*A): standard and hadmard multiplication.\n",
    "\n",
    "#Challenge\n",
    "#Fourier tranform via matrix multiplication"
   ]
  },
  {
   "cell_type": "code",
   "execution_count": 56,
   "metadata": {},
   "outputs": [
    {
     "data": {
      "text/plain": [
       "Matrix([\n",
       "[         0,  c*q - e*n, b*q - e*m],\n",
       "[-c*q + e*n,          0, b*n - c*m],\n",
       "[-b*q + e*m, -b*n + c*m,         0]])"
      ]
     },
     "execution_count": 56,
     "metadata": {},
     "output_type": "execute_result"
    }
   ],
   "source": [
    "\n",
    "# but AB neq (AB)'\n",
    "A@B - (A@B).T\n",
    "\n",
    "# maybe for a submatrix?\n",
    "n = 3\n",
    "A1 = A[ 0:n,0:n ]\n",
    "B1 = B[ 0:n,0:n ]\n",
    "\n",
    "A1@B1 - (A1*B1).T"
   ]
  },
  {
   "cell_type": "markdown",
   "metadata": {},
   "source": [
    "\n",
    "---\n",
    "# VIDEO: Frobenius dot-product\n",
    "---\n"
   ]
  },
  {
   "cell_type": "code",
   "execution_count": 133,
   "metadata": {},
   "outputs": [
    {
     "name": "stdout",
     "output_type": "stream",
     "text": [
      "-9.04942176577\n",
      "-9.04942176577\n",
      "6.3470309416\n",
      "6.3470309416\n"
     ]
    }
   ],
   "source": [
    "# any matrix sizes\n",
    "m = 9\n",
    "n = 4\n",
    "\n",
    "# but the two matrices must be the same size\n",
    "A = np.random.randn(m,n)\n",
    "B = np.random.randn(m,n)\n",
    "\n",
    "# first vectorize, then vector-dot-product\n",
    "Av = np.reshape( A,m*n, order='F' ) # order='F' reshapes by columns instead of by rows\n",
    "Bv = np.reshape( B,m*n, order='F' )\n",
    "frob_dp = np.dot( Av,Bv )\n",
    "\n",
    "# trace method\n",
    "frob_dp2 = np.trace( np.matrix.transpose(A)@B )\n",
    "print(frob_dp2)\n",
    "print(frob_dp)\n",
    "\n",
    "# matrix norm\n",
    "Anorm  = np.linalg.norm(A,'fro')\n",
    "Anorm2 = np.sqrt( np.trace( np.matrix.transpose(A)@A ) )\n",
    "print(Anorm)\n",
    "print(Anorm2)"
   ]
  }
 ],
 "metadata": {
  "kernelspec": {
   "display_name": "Python 3",
   "language": "python",
   "name": "python3"
  },
  "language_info": {
   "codemirror_mode": {
    "name": "ipython",
    "version": 3
   },
   "file_extension": ".py",
   "mimetype": "text/x-python",
   "name": "python",
   "nbconvert_exporter": "python",
   "pygments_lexer": "ipython3",
   "version": "3.7.4"
  }
 },
 "nbformat": 4,
 "nbformat_minor": 2
}
